{
  "cells": [
    {
      "cell_type": "code",
      "source": [
        "!pip install pycaret[full]"
      ],
      "metadata": {
        "id": "9TGzUuBj3KLv",
        "colab": {
          "base_uri": "https://localhost:8080/"
        },
        "outputId": "c287e8c0-cb2d-415c-8f18-b695ca199204",
        "collapsed": true
      },
      "id": "9TGzUuBj3KLv",
      "execution_count": null,
      "outputs": [
        {
          "output_type": "stream",
          "name": "stdout",
          "text": [
            "Collecting pycaret[full]\n",
            "  Using cached pycaret-3.3.2-py3-none-any.whl.metadata (17 kB)\n",
            "Requirement already satisfied: ipython>=5.5.0 in /usr/local/lib/python3.10/dist-packages (from pycaret[full]) (7.34.0)\n",
            "Requirement already satisfied: ipywidgets>=7.6.5 in /usr/local/lib/python3.10/dist-packages (from pycaret[full]) (7.7.1)\n",
            "Requirement already satisfied: tqdm>=4.62.0 in /usr/local/lib/python3.10/dist-packages (from pycaret[full]) (4.66.5)\n",
            "Requirement already satisfied: numpy<1.27,>=1.21 in /usr/local/lib/python3.10/dist-packages (from pycaret[full]) (1.26.4)\n",
            "Requirement already satisfied: pandas<2.2.0 in /usr/local/lib/python3.10/dist-packages (from pycaret[full]) (2.1.4)\n",
            "Requirement already satisfied: jinja2>=3 in /usr/local/lib/python3.10/dist-packages (from pycaret[full]) (3.1.4)\n",
            "Collecting scipy<=1.11.4,>=1.6.1 (from pycaret[full])\n",
            "  Downloading scipy-1.11.4-cp310-cp310-manylinux_2_17_x86_64.manylinux2014_x86_64.whl.metadata (60 kB)\n",
            "\u001b[2K     \u001b[90m━━━━━━━━━━━━━━━━━━━━━━━━━━━━━━━━━━━━━━━━\u001b[0m \u001b[32m60.4/60.4 kB\u001b[0m \u001b[31m3.2 MB/s\u001b[0m eta \u001b[36m0:00:00\u001b[0m\n",
            "\u001b[?25hCollecting joblib<1.4,>=1.2.0 (from pycaret[full])\n",
            "  Downloading joblib-1.3.2-py3-none-any.whl.metadata (5.4 kB)\n",
            "Collecting scikit-learn>1.4.0 (from pycaret[full])\n",
            "  Downloading scikit_learn-1.5.2-cp310-cp310-manylinux_2_17_x86_64.manylinux2014_x86_64.whl.metadata (13 kB)\n",
            "Collecting pyod>=1.1.3 (from pycaret[full])\n",
            "  Downloading pyod-2.0.2.tar.gz (165 kB)\n",
            "\u001b[2K     \u001b[90m━━━━━━━━━━━━━━━━━━━━━━━━━━━━━━━━━━━━━━━━\u001b[0m \u001b[32m165.8/165.8 kB\u001b[0m \u001b[31m8.4 MB/s\u001b[0m eta \u001b[36m0:00:00\u001b[0m\n",
            "\u001b[?25h  Preparing metadata (setup.py) ... \u001b[?25l\u001b[?25hdone\n",
            "Requirement already satisfied: imbalanced-learn>=0.12.0 in /usr/local/lib/python3.10/dist-packages (from pycaret[full]) (0.12.3)\n",
            "Collecting category-encoders>=2.4.0 (from pycaret[full])\n",
            "  Downloading category_encoders-2.6.3-py2.py3-none-any.whl.metadata (8.0 kB)\n",
            "Requirement already satisfied: lightgbm>=3.0.0 in /usr/local/lib/python3.10/dist-packages (from pycaret[full]) (4.5.0)\n",
            "Requirement already satisfied: numba>=0.55.0 in /usr/local/lib/python3.10/dist-packages (from pycaret[full]) (0.60.0)\n",
            "Requirement already satisfied: requests>=2.27.1 in /usr/local/lib/python3.10/dist-packages (from pycaret[full]) (2.32.3)\n",
            "Requirement already satisfied: psutil>=5.9.0 in /usr/local/lib/python3.10/dist-packages (from pycaret[full]) (5.9.5)\n",
            "Requirement already satisfied: markupsafe>=2.0.1 in /usr/local/lib/python3.10/dist-packages (from pycaret[full]) (2.1.5)\n",
            "Requirement already satisfied: importlib-metadata>=4.12.0 in /usr/local/lib/python3.10/dist-packages (from pycaret[full]) (8.5.0)\n",
            "Requirement already satisfied: nbformat>=4.2.0 in /usr/local/lib/python3.10/dist-packages (from pycaret[full]) (5.10.4)\n",
            "Requirement already satisfied: cloudpickle in /usr/local/lib/python3.10/dist-packages (from pycaret[full]) (2.2.1)\n",
            "Collecting deprecation>=2.1.0 (from pycaret[full])\n",
            "  Downloading deprecation-2.1.0-py2.py3-none-any.whl.metadata (4.6 kB)\n",
            "Collecting xxhash (from pycaret[full])\n",
            "  Downloading xxhash-3.5.0-cp310-cp310-manylinux_2_17_x86_64.manylinux2014_x86_64.whl.metadata (12 kB)\n",
            "Requirement already satisfied: matplotlib<3.8.0 in /usr/local/lib/python3.10/dist-packages (from pycaret[full]) (3.7.1)\n",
            "Collecting scikit-plot>=0.3.7 (from pycaret[full])\n",
            "  Downloading scikit_plot-0.3.7-py3-none-any.whl.metadata (7.1 kB)\n",
            "Requirement already satisfied: yellowbrick>=1.4 in /usr/local/lib/python3.10/dist-packages (from pycaret[full]) (1.5)\n",
            "Requirement already satisfied: plotly>=5.14.0 in /usr/local/lib/python3.10/dist-packages (from pycaret[full]) (5.15.0)\n",
            "Collecting kaleido>=0.2.1 (from pycaret[full])\n",
            "  Downloading kaleido-0.2.1-py2.py3-none-manylinux1_x86_64.whl.metadata (15 kB)\n",
            "Collecting schemdraw==0.15 (from pycaret[full])\n",
            "  Downloading schemdraw-0.15-py3-none-any.whl.metadata (2.2 kB)\n",
            "Collecting plotly-resampler>=0.8.3.1 (from pycaret[full])\n",
            "  Downloading plotly_resampler-0.10.0-py3-none-any.whl.metadata (13 kB)\n",
            "Requirement already satisfied: statsmodels>=0.12.1 in /usr/local/lib/python3.10/dist-packages (from pycaret[full]) (0.14.3)\n",
            "Collecting sktime==0.26.0 (from pycaret[full])\n",
            "  Downloading sktime-0.26.0-py3-none-any.whl.metadata (29 kB)\n",
            "Collecting tbats>=1.1.3 (from pycaret[full])\n",
            "  Downloading tbats-1.1.3-py3-none-any.whl.metadata (3.8 kB)\n",
            "Collecting pmdarima>=2.0.4 (from pycaret[full])\n",
            "  Downloading pmdarima-2.0.4-cp310-cp310-manylinux_2_17_x86_64.manylinux2014_x86_64.manylinux_2_28_x86_64.whl.metadata (7.8 kB)\n",
            "Collecting wurlitzer (from pycaret[full])\n",
            "  Downloading wurlitzer-3.1.1-py3-none-any.whl.metadata (2.5 kB)\n",
            "Collecting shap~=0.44.0 (from pycaret[full])\n",
            "  Downloading shap-0.44.1-cp310-cp310-manylinux_2_12_x86_64.manylinux2010_x86_64.manylinux_2_17_x86_64.manylinux2014_x86_64.whl.metadata (24 kB)\n",
            "Collecting interpret>=0.2.7 (from pycaret[full])\n",
            "  Downloading interpret-0.6.3-py3-none-any.whl.metadata (1.1 kB)\n",
            "Collecting umap-learn>=0.5.2 (from pycaret[full])\n",
            "  Downloading umap_learn-0.5.6-py3-none-any.whl.metadata (21 kB)\n",
            "Requirement already satisfied: pyyaml in /usr/local/lib/python3.10/dist-packages (from pycaret[full]) (6.0.2)\n",
            "Collecting ydata-profiling>=4.3.1 (from pycaret[full])\n",
            "  Downloading ydata_profiling-4.10.0-py2.py3-none-any.whl.metadata (20 kB)\n",
            "Collecting explainerdashboard>=0.3.8 (from pycaret[full])\n",
            "  Downloading explainerdashboard-0.4.7-py3-none-any.whl.metadata (3.8 kB)\n",
            "Collecting fairlearn==0.7.0 (from pycaret[full])\n",
            "  Downloading fairlearn-0.7.0-py3-none-any.whl.metadata (7.3 kB)\n",
            "Collecting kmodes>=0.11.1 (from pycaret[full])\n",
            "  Downloading kmodes-0.12.2-py2.py3-none-any.whl.metadata (8.1 kB)\n",
            "Requirement already satisfied: mlxtend>=0.19.0 in /usr/local/lib/python3.10/dist-packages (from pycaret[full]) (0.23.1)\n",
            "Collecting statsforecast<1.6.0,>=0.5.5 (from pycaret[full])\n",
            "  Downloading statsforecast-1.5.0-py3-none-any.whl.metadata (23 kB)\n",
            "Requirement already satisfied: hyperopt>=0.2.7 in /usr/local/lib/python3.10/dist-packages (from pycaret[full]) (0.2.7)\n",
            "Collecting optuna>=3.0.0 (from pycaret[full])\n",
            "  Downloading optuna-4.0.0-py3-none-any.whl.metadata (16 kB)\n",
            "Collecting optuna-integration (from pycaret[full])\n",
            "  Downloading optuna_integration-4.0.0-py3-none-any.whl.metadata (11 kB)\n",
            "Collecting scikit-optimize>=0.9.0 (from pycaret[full])\n",
            "  Downloading scikit_optimize-0.10.2-py2.py3-none-any.whl.metadata (9.7 kB)\n",
            "Collecting mlflow>=2.0.0 (from pycaret[full])\n",
            "  Downloading mlflow-2.16.2-py3-none-any.whl.metadata (29 kB)\n",
            "Collecting gradio>=3.50.2 (from pycaret[full])\n",
            "  Downloading gradio-4.44.0-py3-none-any.whl.metadata (15 kB)\n",
            "Collecting boto3>=1.24.56 (from pycaret[full])\n",
            "  Downloading boto3-1.35.24-py3-none-any.whl.metadata (6.6 kB)\n",
            "Collecting fastapi (from pycaret[full])\n",
            "  Downloading fastapi-0.115.0-py3-none-any.whl.metadata (27 kB)\n",
            "Collecting uvicorn>=0.17.6 (from pycaret[full])\n",
            "  Downloading uvicorn-0.30.6-py3-none-any.whl.metadata (6.6 kB)\n",
            "Collecting m2cgen>=0.9.0 (from pycaret[full])\n",
            "  Downloading m2cgen-0.10.0-py3-none-any.whl.metadata (9.9 kB)\n",
            "Collecting evidently~=0.4.16 (from pycaret[full])\n",
            "  Downloading evidently-0.4.37-py3-none-any.whl.metadata (11 kB)\n",
            "Requirement already satisfied: dask>=2024.4.1 in /usr/local/lib/python3.10/dist-packages (from pycaret[full]) (2024.8.0)\n",
            "Requirement already satisfied: distributed>=2024.4.1 in /usr/local/lib/python3.10/dist-packages (from pycaret[full]) (2024.8.0)\n",
            "Collecting fugue~=0.8.0 (from pycaret[full])\n",
            "  Downloading fugue-0.8.7-py3-none-any.whl.metadata (17 kB)\n",
            "Requirement already satisfied: flask in /usr/local/lib/python3.10/dist-packages (from pycaret[full]) (2.2.5)\n",
            "Collecting Werkzeug<3.0,>=2.2 (from pycaret[full])\n",
            "  Downloading werkzeug-2.3.8-py3-none-any.whl.metadata (4.1 kB)\n",
            "Requirement already satisfied: pytest<8.0.0 in /usr/local/lib/python3.10/dist-packages (from pycaret[full]) (7.4.4)\n",
            "Collecting moto<5.0.0 (from pycaret[full])\n",
            "  Downloading moto-4.2.14-py2.py3-none-any.whl.metadata (12 kB)\n",
            "Collecting dash[testing] (from pycaret[full])\n",
            "  Downloading dash-2.18.1-py3-none-any.whl.metadata (10 kB)\n",
            "Collecting scikit-learn-intelex>=2023.0.1 (from pycaret[full])\n",
            "  Downloading scikit_learn_intelex-2024.7.0-py310-none-manylinux1_x86_64.whl.metadata (12 kB)\n",
            "Collecting catboost>=0.23.2 (from pycaret[full])\n",
            "  Downloading catboost-1.2.7-cp310-cp310-manylinux2014_x86_64.whl.metadata (1.2 kB)\n",
            "Collecting tune-sklearn>=0.2.1 (from pycaret[full])\n",
            "  Downloading tune_sklearn-0.5.0-py3-none-any.whl.metadata (12 kB)\n",
            "Collecting ray>=1.0.0 (from ray[tune]>=1.0.0; (python_version != \"3.11\" and platform_system != \"Windows\") and extra == \"full\"->pycaret[full])\n",
            "  Downloading ray-2.36.0-cp310-cp310-manylinux2014_x86_64.whl.metadata (16 kB)\n",
            "Requirement already satisfied: xgboost>=1.1.0 in /usr/local/lib/python3.10/dist-packages (from pycaret[full]) (2.1.1)\n",
            "Requirement already satisfied: packaging in /usr/local/lib/python3.10/dist-packages (from sktime==0.26.0->pycaret[full]) (24.1)\n",
            "Collecting scikit-base<0.8.0 (from sktime==0.26.0->pycaret[full])\n",
            "  Downloading scikit_base-0.7.8-py3-none-any.whl.metadata (8.8 kB)\n",
            "Collecting scikit-learn>1.4.0 (from pycaret[full])\n",
            "  Downloading scikit_learn-1.4.2-cp310-cp310-manylinux_2_17_x86_64.manylinux2014_x86_64.whl.metadata (11 kB)\n",
            "Collecting botocore<1.36.0,>=1.35.24 (from boto3>=1.24.56->pycaret[full])\n",
            "  Downloading botocore-1.35.24-py3-none-any.whl.metadata (5.7 kB)\n",
            "Collecting jmespath<2.0.0,>=0.7.1 (from boto3>=1.24.56->pycaret[full])\n",
            "  Downloading jmespath-1.0.1-py3-none-any.whl.metadata (7.6 kB)\n",
            "Collecting s3transfer<0.11.0,>=0.10.0 (from boto3>=1.24.56->pycaret[full])\n",
            "  Downloading s3transfer-0.10.2-py3-none-any.whl.metadata (1.7 kB)\n",
            "Requirement already satisfied: graphviz in /usr/local/lib/python3.10/dist-packages (from catboost>=0.23.2->pycaret[full]) (0.20.3)\n",
            "Requirement already satisfied: six in /usr/local/lib/python3.10/dist-packages (from catboost>=0.23.2->pycaret[full]) (1.16.0)\n",
            "Requirement already satisfied: patsy>=0.5.1 in /usr/local/lib/python3.10/dist-packages (from category-encoders>=2.4.0->pycaret[full]) (0.5.6)\n",
            "Requirement already satisfied: click>=8.1 in /usr/local/lib/python3.10/dist-packages (from dask>=2024.4.1->pycaret[full]) (8.1.7)\n",
            "Requirement already satisfied: fsspec>=2021.09.0 in /usr/local/lib/python3.10/dist-packages (from dask>=2024.4.1->pycaret[full]) (2024.6.1)\n",
            "Requirement already satisfied: partd>=1.4.0 in /usr/local/lib/python3.10/dist-packages (from dask>=2024.4.1->pycaret[full]) (1.4.2)\n",
            "Requirement already satisfied: toolz>=0.10.0 in /usr/local/lib/python3.10/dist-packages (from dask>=2024.4.1->pycaret[full]) (0.12.1)\n",
            "Requirement already satisfied: locket>=1.0.0 in /usr/local/lib/python3.10/dist-packages (from distributed>=2024.4.1->pycaret[full]) (1.0.0)\n",
            "Requirement already satisfied: msgpack>=1.0.0 in /usr/local/lib/python3.10/dist-packages (from distributed>=2024.4.1->pycaret[full]) (1.0.8)\n",
            "Requirement already satisfied: sortedcontainers>=2.0.5 in /usr/local/lib/python3.10/dist-packages (from distributed>=2024.4.1->pycaret[full]) (2.4.0)\n",
            "Requirement already satisfied: tblib>=1.6.0 in /usr/local/lib/python3.10/dist-packages (from distributed>=2024.4.1->pycaret[full]) (3.0.0)\n",
            "Requirement already satisfied: tornado>=6.0.4 in /usr/local/lib/python3.10/dist-packages (from distributed>=2024.4.1->pycaret[full]) (6.3.3)\n",
            "Requirement already satisfied: urllib3>=1.24.3 in /usr/local/lib/python3.10/dist-packages (from distributed>=2024.4.1->pycaret[full]) (2.0.7)\n",
            "Requirement already satisfied: zict>=3.0.0 in /usr/local/lib/python3.10/dist-packages (from distributed>=2024.4.1->pycaret[full]) (3.0.0)\n",
            "Requirement already satisfied: nltk>=3.6.7 in /usr/local/lib/python3.10/dist-packages (from evidently~=0.4.16->pycaret[full]) (3.8.1)\n",
            "Requirement already satisfied: pydantic>=1.10.13 in /usr/local/lib/python3.10/dist-packages (from evidently~=0.4.16->pycaret[full]) (2.9.2)\n",
            "Collecting litestar>=2.8.3 (from evidently~=0.4.16->pycaret[full])\n",
            "  Downloading litestar-2.12.1-py3-none-any.whl.metadata (105 kB)\n",
            "\u001b[2K     \u001b[90m━━━━━━━━━━━━━━━━━━━━━━━━━━━━━━━━━━━━━━━━\u001b[0m \u001b[32m105.3/105.3 kB\u001b[0m \u001b[31m7.6 MB/s\u001b[0m eta \u001b[36m0:00:00\u001b[0m\n",
            "\u001b[?25hCollecting typing-inspect>=0.9.0 (from evidently~=0.4.16->pycaret[full])\n",
            "  Downloading typing_inspect-0.9.0-py3-none-any.whl.metadata (1.5 kB)\n",
            "Collecting watchdog>=3.0.0 (from evidently~=0.4.16->pycaret[full])\n",
            "  Downloading watchdog-5.0.2-py3-none-manylinux2014_x86_64.whl.metadata (41 kB)\n",
            "\u001b[2K     \u001b[90m━━━━━━━━━━━━━━━━━━━━━━━━━━━━━━━━━━━━━━━━\u001b[0m \u001b[32m41.6/41.6 kB\u001b[0m \u001b[31m2.7 MB/s\u001b[0m eta \u001b[36m0:00:00\u001b[0m\n",
            "\u001b[?25hRequirement already satisfied: typer>=0.3 in /usr/local/lib/python3.10/dist-packages (from evidently~=0.4.16->pycaret[full]) (0.12.5)\n",
            "Requirement already satisfied: rich>=13 in /usr/local/lib/python3.10/dist-packages (from evidently~=0.4.16->pycaret[full]) (13.8.1)\n",
            "Collecting iterative-telemetry>=0.0.5 (from evidently~=0.4.16->pycaret[full])\n",
            "  Downloading iterative_telemetry-0.0.9-py3-none-any.whl.metadata (4.1 kB)\n",
            "Collecting dynaconf>=3.2.4 (from evidently~=0.4.16->pycaret[full])\n",
            "  Downloading dynaconf-3.2.6-py2.py3-none-any.whl.metadata (9.1 kB)\n",
            "Requirement already satisfied: certifi>=2024.7.4 in /usr/local/lib/python3.10/dist-packages (from evidently~=0.4.16->pycaret[full]) (2024.8.30)\n",
            "Collecting ujson>=5.4.0 (from evidently~=0.4.16->pycaret[full])\n",
            "  Downloading ujson-5.10.0-cp310-cp310-manylinux_2_17_x86_64.manylinux2014_x86_64.whl.metadata (9.3 kB)\n",
            "Requirement already satisfied: cryptography>=43.0.1 in /usr/local/lib/python3.10/dist-packages (from evidently~=0.4.16->pycaret[full]) (43.0.1)\n",
            "Collecting dash-auth (from explainerdashboard>=0.3.8->pycaret[full])\n",
            "  Downloading dash_auth-2.3.0-py3-none-any.whl.metadata (10 kB)\n",
            "Collecting dash-bootstrap-components>=1 (from explainerdashboard>=0.3.8->pycaret[full])\n",
            "  Downloading dash_bootstrap_components-1.6.0-py3-none-any.whl.metadata (5.2 kB)\n",
            "Collecting dtreeviz>=2.1 (from explainerdashboard>=0.3.8->pycaret[full])\n",
            "  Downloading dtreeviz-2.2.2-py3-none-any.whl.metadata (2.4 kB)\n",
            "Collecting flask-simplelogin (from explainerdashboard>=0.3.8->pycaret[full])\n",
            "  Downloading flask_simplelogin-0.1.3-py3-none-any.whl.metadata (3.3 kB)\n",
            "Collecting Flask-WTF>=1.1 (from explainerdashboard>=0.3.8->pycaret[full])\n",
            "  Downloading flask_wtf-1.2.1-py3-none-any.whl.metadata (3.4 kB)\n",
            "Collecting jupyter-dash>=0.4.1 (from explainerdashboard>=0.3.8->pycaret[full])\n",
            "  Downloading jupyter_dash-0.4.2-py3-none-any.whl.metadata (3.6 kB)\n",
            "Collecting oyaml (from explainerdashboard>=0.3.8->pycaret[full])\n",
            "  Downloading oyaml-1.0-py2.py3-none-any.whl.metadata (1.2 kB)\n",
            "Collecting waitress (from explainerdashboard>=0.3.8->pycaret[full])\n",
            "  Downloading waitress-3.0.0-py3-none-any.whl.metadata (4.2 kB)\n",
            "Collecting triad>=0.9.3 (from fugue~=0.8.0->pycaret[full])\n",
            "  Downloading triad-0.9.8-py3-none-any.whl.metadata (6.3 kB)\n",
            "Collecting adagio>=0.2.4 (from fugue~=0.8.0->pycaret[full])\n",
            "  Downloading adagio-0.2.6-py3-none-any.whl.metadata (1.8 kB)\n",
            "Collecting qpd>=0.4.4 (from fugue~=0.8.0->pycaret[full])\n",
            "  Downloading qpd-0.4.4-py3-none-any.whl.metadata (6.4 kB)\n",
            "Collecting fugue-sql-antlr>=0.1.6 (from fugue~=0.8.0->pycaret[full])\n",
            "  Downloading fugue-sql-antlr-0.2.2.tar.gz (154 kB)\n",
            "\u001b[2K     \u001b[90m━━━━━━━━━━━━━━━━━━━━━━━━━━━━━━━━━━━━━━━━\u001b[0m \u001b[32m154.7/154.7 kB\u001b[0m \u001b[31m10.4 MB/s\u001b[0m eta \u001b[36m0:00:00\u001b[0m\n",
            "\u001b[?25h  Preparing metadata (setup.py) ... \u001b[?25l\u001b[?25hdone\n",
            "Requirement already satisfied: sqlglot in /usr/local/lib/python3.10/dist-packages (from fugue~=0.8.0->pycaret[full]) (20.11.0)\n",
            "Collecting aiofiles<24.0,>=22.0 (from gradio>=3.50.2->pycaret[full])\n",
            "  Downloading aiofiles-23.2.1-py3-none-any.whl.metadata (9.7 kB)\n",
            "Requirement already satisfied: anyio<5.0,>=3.0 in /usr/local/lib/python3.10/dist-packages (from gradio>=3.50.2->pycaret[full]) (3.7.1)\n",
            "Collecting ffmpy (from gradio>=3.50.2->pycaret[full])\n",
            "  Downloading ffmpy-0.4.0-py3-none-any.whl.metadata (2.9 kB)\n",
            "Collecting gradio-client==1.3.0 (from gradio>=3.50.2->pycaret[full])\n",
            "  Downloading gradio_client-1.3.0-py3-none-any.whl.metadata (7.1 kB)\n",
            "Collecting httpx>=0.24.1 (from gradio>=3.50.2->pycaret[full])\n",
            "  Downloading httpx-0.27.2-py3-none-any.whl.metadata (7.1 kB)\n",
            "Requirement already satisfied: huggingface-hub>=0.19.3 in /usr/local/lib/python3.10/dist-packages (from gradio>=3.50.2->pycaret[full]) (0.24.7)\n",
            "Requirement already satisfied: importlib-resources<7.0,>=1.3 in /usr/local/lib/python3.10/dist-packages (from gradio>=3.50.2->pycaret[full]) (6.4.5)\n",
            "Collecting orjson~=3.0 (from gradio>=3.50.2->pycaret[full])\n",
            "  Downloading orjson-3.10.7-cp310-cp310-manylinux_2_17_x86_64.manylinux2014_x86_64.whl.metadata (50 kB)\n",
            "\u001b[2K     \u001b[90m━━━━━━━━━━━━━━━━━━━━━━━━━━━━━━━━━━━━━━━━\u001b[0m \u001b[32m50.4/50.4 kB\u001b[0m \u001b[31m3.2 MB/s\u001b[0m eta \u001b[36m0:00:00\u001b[0m\n",
            "\u001b[?25hRequirement already satisfied: pillow<11.0,>=8.0 in /usr/local/lib/python3.10/dist-packages (from gradio>=3.50.2->pycaret[full]) (10.4.0)\n",
            "Collecting pydub (from gradio>=3.50.2->pycaret[full])\n",
            "  Downloading pydub-0.25.1-py2.py3-none-any.whl.metadata (1.4 kB)\n",
            "Collecting python-multipart>=0.0.9 (from gradio>=3.50.2->pycaret[full])\n",
            "  Downloading python_multipart-0.0.10-py3-none-any.whl.metadata (1.9 kB)\n",
            "Collecting ruff>=0.2.2 (from gradio>=3.50.2->pycaret[full])\n",
            "  Downloading ruff-0.6.7-py3-none-manylinux_2_17_x86_64.manylinux2014_x86_64.whl.metadata (25 kB)\n",
            "Collecting semantic-version~=2.0 (from gradio>=3.50.2->pycaret[full])\n",
            "  Downloading semantic_version-2.10.0-py2.py3-none-any.whl.metadata (9.7 kB)\n",
            "Collecting tomlkit==0.12.0 (from gradio>=3.50.2->pycaret[full])\n",
            "  Downloading tomlkit-0.12.0-py3-none-any.whl.metadata (2.7 kB)\n",
            "Requirement already satisfied: typing-extensions~=4.0 in /usr/local/lib/python3.10/dist-packages (from gradio>=3.50.2->pycaret[full]) (4.12.2)\n",
            "Collecting websockets<13.0,>=10.0 (from gradio-client==1.3.0->gradio>=3.50.2->pycaret[full])\n",
            "  Downloading websockets-12.0-cp310-cp310-manylinux_2_5_x86_64.manylinux1_x86_64.manylinux_2_17_x86_64.manylinux2014_x86_64.whl.metadata (6.6 kB)\n",
            "Collecting starlette<0.39.0,>=0.37.2 (from fastapi->pycaret[full])\n",
            "  Downloading starlette-0.38.5-py3-none-any.whl.metadata (6.0 kB)\n",
            "Requirement already satisfied: networkx>=2.2 in /usr/local/lib/python3.10/dist-packages (from hyperopt>=0.2.7->pycaret[full]) (3.3)\n",
            "Requirement already satisfied: future in /usr/local/lib/python3.10/dist-packages (from hyperopt>=0.2.7->pycaret[full]) (1.0.0)\n",
            "Requirement already satisfied: py4j in /usr/local/lib/python3.10/dist-packages (from hyperopt>=0.2.7->pycaret[full]) (0.10.9.7)\n",
            "Requirement already satisfied: threadpoolctl>=2.0.0 in /usr/local/lib/python3.10/dist-packages (from imbalanced-learn>=0.12.0->pycaret[full]) (3.5.0)\n",
            "Requirement already satisfied: zipp>=3.20 in /usr/local/lib/python3.10/dist-packages (from importlib-metadata>=4.12.0->pycaret[full]) (3.20.2)\n",
            "Collecting interpret-core==0.6.3 (from interpret-core[aplr,dash,debug,linear,notebook,plotly,sensitivity,shap]==0.6.3->interpret>=0.2.7->pycaret[full])\n",
            "  Downloading interpret_core-0.6.3-py3-none-any.whl.metadata (2.8 kB)\n",
            "Collecting dill>=0.2.5 (from interpret-core[aplr,dash,debug,linear,notebook,plotly,sensitivity,shap]==0.6.3->interpret>=0.2.7->pycaret[full])\n",
            "  Downloading dill-0.3.8-py3-none-any.whl.metadata (10 kB)\n",
            "Collecting aplr>=10.5.1 (from interpret-core[aplr,dash,debug,linear,notebook,plotly,sensitivity,shap]==0.6.3->interpret>=0.2.7->pycaret[full])\n",
            "  Downloading aplr-10.6.3-cp310-cp310-manylinux_2_17_x86_64.manylinux2014_x86_64.whl.metadata (2.0 kB)\n",
            "Requirement already satisfied: ipykernel>=4.10.0 in /usr/local/lib/python3.10/dist-packages (from interpret-core[aplr,dash,debug,linear,notebook,plotly,sensitivity,shap]==0.6.3->interpret>=0.2.7->pycaret[full]) (5.5.6)\n",
            "Collecting SALib>=1.3.3 (from interpret-core[aplr,dash,debug,linear,notebook,plotly,sensitivity,shap]==0.6.3->interpret>=0.2.7->pycaret[full])\n",
            "  Downloading salib-1.5.1-py3-none-any.whl.metadata (11 kB)\n",
            "Collecting dash-core-components>=1.0.0 (from interpret-core[aplr,dash,debug,linear,notebook,plotly,sensitivity,shap]==0.6.3->interpret>=0.2.7->pycaret[full])\n",
            "  Downloading dash_core_components-2.0.0-py3-none-any.whl.metadata (2.9 kB)\n",
            "Collecting dash-html-components>=1.0.0 (from interpret-core[aplr,dash,debug,linear,notebook,plotly,sensitivity,shap]==0.6.3->interpret>=0.2.7->pycaret[full])\n",
            "  Downloading dash_html_components-2.0.0-py3-none-any.whl.metadata (3.8 kB)\n",
            "Collecting dash-table>=4.1.0 (from interpret-core[aplr,dash,debug,linear,notebook,plotly,sensitivity,shap]==0.6.3->interpret>=0.2.7->pycaret[full])\n",
            "  Downloading dash_table-5.0.0-py3-none-any.whl.metadata (2.4 kB)\n",
            "Collecting dash-cytoscape>=0.1.1 (from interpret-core[aplr,dash,debug,linear,notebook,plotly,sensitivity,shap]==0.6.3->interpret>=0.2.7->pycaret[full])\n",
            "  Downloading dash_cytoscape-1.0.2.tar.gz (4.0 MB)\n",
            "\u001b[2K     \u001b[90m━━━━━━━━━━━━━━━━━━━━━━━━━━━━━━━━━━━━━━━━\u001b[0m \u001b[32m4.0/4.0 MB\u001b[0m \u001b[31m60.0 MB/s\u001b[0m eta \u001b[36m0:00:00\u001b[0m\n",
            "\u001b[?25h  Preparing metadata (setup.py) ... \u001b[?25l\u001b[?25hdone\n",
            "Collecting gevent>=1.3.6 (from interpret-core[aplr,dash,debug,linear,notebook,plotly,sensitivity,shap]==0.6.3->interpret>=0.2.7->pycaret[full])\n",
            "  Downloading gevent-24.2.1-cp310-cp310-manylinux_2_28_x86_64.whl.metadata (13 kB)\n",
            "Requirement already satisfied: setuptools>=18.5 in /usr/local/lib/python3.10/dist-packages (from ipython>=5.5.0->pycaret[full]) (71.0.4)\n",
            "Collecting jedi>=0.16 (from ipython>=5.5.0->pycaret[full])\n",
            "  Using cached jedi-0.19.1-py2.py3-none-any.whl.metadata (22 kB)\n",
            "Requirement already satisfied: decorator in /usr/local/lib/python3.10/dist-packages (from ipython>=5.5.0->pycaret[full]) (4.4.2)\n",
            "Requirement already satisfied: pickleshare in /usr/local/lib/python3.10/dist-packages (from ipython>=5.5.0->pycaret[full]) (0.7.5)\n",
            "Requirement already satisfied: traitlets>=4.2 in /usr/local/lib/python3.10/dist-packages (from ipython>=5.5.0->pycaret[full]) (5.7.1)\n",
            "Requirement already satisfied: prompt-toolkit!=3.0.0,!=3.0.1,<3.1.0,>=2.0.0 in /usr/local/lib/python3.10/dist-packages (from ipython>=5.5.0->pycaret[full]) (3.0.47)\n",
            "Requirement already satisfied: pygments in /usr/local/lib/python3.10/dist-packages (from ipython>=5.5.0->pycaret[full]) (2.18.0)\n",
            "Requirement already satisfied: backcall in /usr/local/lib/python3.10/dist-packages (from ipython>=5.5.0->pycaret[full]) (0.2.0)\n",
            "Requirement already satisfied: matplotlib-inline in /usr/local/lib/python3.10/dist-packages (from ipython>=5.5.0->pycaret[full]) (0.1.7)\n",
            "Requirement already satisfied: pexpect>4.3 in /usr/local/lib/python3.10/dist-packages (from ipython>=5.5.0->pycaret[full]) (4.9.0)\n",
            "Requirement already satisfied: ipython-genutils~=0.2.0 in /usr/local/lib/python3.10/dist-packages (from ipywidgets>=7.6.5->pycaret[full]) (0.2.0)\n",
            "Requirement already satisfied: widgetsnbextension~=3.6.0 in /usr/local/lib/python3.10/dist-packages (from ipywidgets>=7.6.5->pycaret[full]) (3.6.9)\n",
            "Requirement already satisfied: jupyterlab-widgets>=1.0.0 in /usr/local/lib/python3.10/dist-packages (from ipywidgets>=7.6.5->pycaret[full]) (3.0.13)\n",
            "Requirement already satisfied: contourpy>=1.0.1 in /usr/local/lib/python3.10/dist-packages (from matplotlib<3.8.0->pycaret[full]) (1.3.0)\n",
            "Requirement already satisfied: cycler>=0.10 in /usr/local/lib/python3.10/dist-packages (from matplotlib<3.8.0->pycaret[full]) (0.12.1)\n",
            "Requirement already satisfied: fonttools>=4.22.0 in /usr/local/lib/python3.10/dist-packages (from matplotlib<3.8.0->pycaret[full]) (4.53.1)\n",
            "Requirement already satisfied: kiwisolver>=1.0.1 in /usr/local/lib/python3.10/dist-packages (from matplotlib<3.8.0->pycaret[full]) (1.4.7)\n",
            "Requirement already satisfied: pyparsing>=2.3.1 in /usr/local/lib/python3.10/dist-packages (from matplotlib<3.8.0->pycaret[full]) (3.1.4)\n",
            "Requirement already satisfied: python-dateutil>=2.7 in /usr/local/lib/python3.10/dist-packages (from matplotlib<3.8.0->pycaret[full]) (2.8.2)\n",
            "Collecting mlflow-skinny==2.16.2 (from mlflow>=2.0.0->pycaret[full])\n",
            "  Downloading mlflow_skinny-2.16.2-py3-none-any.whl.metadata (30 kB)\n",
            "Collecting alembic!=1.10.0,<2 (from mlflow>=2.0.0->pycaret[full])\n",
            "  Downloading alembic-1.13.2-py3-none-any.whl.metadata (7.4 kB)\n",
            "Collecting docker<8,>=4.0.0 (from mlflow>=2.0.0->pycaret[full])\n",
            "  Downloading docker-7.1.0-py3-none-any.whl.metadata (3.8 kB)\n",
            "Collecting graphene<4 (from mlflow>=2.0.0->pycaret[full])\n",
            "  Downloading graphene-3.3-py2.py3-none-any.whl.metadata (7.7 kB)\n",
            "Requirement already satisfied: markdown<4,>=3.3 in /usr/local/lib/python3.10/dist-packages (from mlflow>=2.0.0->pycaret[full]) (3.7)\n",
            "Requirement already satisfied: pyarrow<18,>=4.0.0 in /usr/local/lib/python3.10/dist-packages (from mlflow>=2.0.0->pycaret[full]) (14.0.2)\n",
            "Requirement already satisfied: sqlalchemy<3,>=1.4.0 in /usr/local/lib/python3.10/dist-packages (from mlflow>=2.0.0->pycaret[full]) (2.0.35)\n",
            "Collecting gunicorn<24 (from mlflow>=2.0.0->pycaret[full])\n",
            "  Downloading gunicorn-23.0.0-py3-none-any.whl.metadata (4.4 kB)\n",
            "Requirement already satisfied: cachetools<6,>=5.0.0 in /usr/local/lib/python3.10/dist-packages (from mlflow-skinny==2.16.2->mlflow>=2.0.0->pycaret[full]) (5.5.0)\n",
            "Collecting databricks-sdk<1,>=0.20.0 (from mlflow-skinny==2.16.2->mlflow>=2.0.0->pycaret[full])\n",
            "  Downloading databricks_sdk-0.32.3-py3-none-any.whl.metadata (37 kB)\n",
            "Collecting gitpython<4,>=3.1.9 (from mlflow-skinny==2.16.2->mlflow>=2.0.0->pycaret[full])\n",
            "  Downloading GitPython-3.1.43-py3-none-any.whl.metadata (13 kB)\n",
            "Collecting opentelemetry-api<3,>=1.9.0 (from mlflow-skinny==2.16.2->mlflow>=2.0.0->pycaret[full])\n",
            "  Downloading opentelemetry_api-1.27.0-py3-none-any.whl.metadata (1.4 kB)\n",
            "Collecting opentelemetry-sdk<3,>=1.9.0 (from mlflow-skinny==2.16.2->mlflow>=2.0.0->pycaret[full])\n",
            "  Downloading opentelemetry_sdk-1.27.0-py3-none-any.whl.metadata (1.5 kB)\n",
            "Requirement already satisfied: protobuf<6,>=3.12.0 in /usr/local/lib/python3.10/dist-packages (from mlflow-skinny==2.16.2->mlflow>=2.0.0->pycaret[full]) (3.20.3)\n",
            "Requirement already satisfied: sqlparse<1,>=0.4.0 in /usr/local/lib/python3.10/dist-packages (from mlflow-skinny==2.16.2->mlflow>=2.0.0->pycaret[full]) (0.5.1)\n",
            "Requirement already satisfied: itsdangerous>=2.0 in /usr/local/lib/python3.10/dist-packages (from flask->pycaret[full]) (2.2.0)\n",
            "Collecting xmltodict (from moto<5.0.0->pycaret[full])\n",
            "  Downloading xmltodict-0.13.0-py2.py3-none-any.whl.metadata (7.7 kB)\n",
            "Collecting responses>=0.13.0 (from moto<5.0.0->pycaret[full])\n",
            "  Downloading responses-0.25.3-py3-none-any.whl.metadata (46 kB)\n",
            "\u001b[2K     \u001b[90m━━━━━━━━━━━━━━━━━━━━━━━━━━━━━━━━━━━━━━━━\u001b[0m \u001b[32m46.7/46.7 kB\u001b[0m \u001b[31m3.1 MB/s\u001b[0m eta \u001b[36m0:00:00\u001b[0m\n",
            "\u001b[?25hRequirement already satisfied: fastjsonschema>=2.15 in /usr/local/lib/python3.10/dist-packages (from nbformat>=4.2.0->pycaret[full]) (2.20.0)\n",
            "Requirement already satisfied: jsonschema>=2.6 in /usr/local/lib/python3.10/dist-packages (from nbformat>=4.2.0->pycaret[full]) (4.23.0)\n",
            "Requirement already satisfied: jupyter-core!=5.0.*,>=4.12 in /usr/local/lib/python3.10/dist-packages (from nbformat>=4.2.0->pycaret[full]) (5.7.2)\n",
            "Requirement already satisfied: llvmlite<0.44,>=0.43.0dev0 in /usr/local/lib/python3.10/dist-packages (from numba>=0.55.0->pycaret[full]) (0.43.0)\n",
            "Collecting colorlog (from optuna>=3.0.0->pycaret[full])\n",
            "  Downloading colorlog-6.8.2-py3-none-any.whl.metadata (10 kB)\n",
            "Requirement already satisfied: pytz>=2020.1 in /usr/local/lib/python3.10/dist-packages (from pandas<2.2.0->pycaret[full]) (2024.2)\n",
            "Requirement already satisfied: tzdata>=2022.1 in /usr/local/lib/python3.10/dist-packages (from pandas<2.2.0->pycaret[full]) (2024.1)\n",
            "Requirement already satisfied: tenacity>=6.2.0 in /usr/local/lib/python3.10/dist-packages (from plotly>=5.14.0->pycaret[full]) (9.0.0)\n",
            "Collecting tsdownsample>=0.1.3 (from plotly-resampler>=0.8.3.1->pycaret[full])\n",
            "  Downloading tsdownsample-0.1.3-cp310-cp310-manylinux_2_17_x86_64.manylinux2014_x86_64.whl.metadata (7.9 kB)\n",
            "Requirement already satisfied: Cython!=0.29.18,!=0.29.31,>=0.29 in /usr/local/lib/python3.10/dist-packages (from pmdarima>=2.0.4->pycaret[full]) (3.0.11)\n",
            "Requirement already satisfied: iniconfig in /usr/local/lib/python3.10/dist-packages (from pytest<8.0.0->pycaret[full]) (2.0.0)\n",
            "Requirement already satisfied: pluggy<2.0,>=0.12 in /usr/local/lib/python3.10/dist-packages (from pytest<8.0.0->pycaret[full]) (1.5.0)\n",
            "Requirement already satisfied: exceptiongroup>=1.0.0rc8 in /usr/local/lib/python3.10/dist-packages (from pytest<8.0.0->pycaret[full]) (1.2.2)\n",
            "Requirement already satisfied: tomli>=1.0.0 in /usr/local/lib/python3.10/dist-packages (from pytest<8.0.0->pycaret[full]) (2.0.1)\n",
            "Requirement already satisfied: filelock in /usr/local/lib/python3.10/dist-packages (from ray>=1.0.0->ray[tune]>=1.0.0; (python_version != \"3.11\" and platform_system != \"Windows\") and extra == \"full\"->pycaret[full]) (3.16.1)\n",
            "Requirement already satisfied: aiosignal in /usr/local/lib/python3.10/dist-packages (from ray>=1.0.0->ray[tune]>=1.0.0; (python_version != \"3.11\" and platform_system != \"Windows\") and extra == \"full\"->pycaret[full]) (1.3.1)\n",
            "Requirement already satisfied: frozenlist in /usr/local/lib/python3.10/dist-packages (from ray>=1.0.0->ray[tune]>=1.0.0; (python_version != \"3.11\" and platform_system != \"Windows\") and extra == \"full\"->pycaret[full]) (1.4.1)\n",
            "Collecting tensorboardX>=1.9 (from ray[tune]>=1.0.0; (python_version != \"3.11\" and platform_system != \"Windows\") and extra == \"full\"->pycaret[full])\n",
            "  Downloading tensorboardX-2.6.2.2-py2.py3-none-any.whl.metadata (5.8 kB)\n",
            "Requirement already satisfied: charset-normalizer<4,>=2 in /usr/local/lib/python3.10/dist-packages (from requests>=2.27.1->pycaret[full]) (3.3.2)\n",
            "Requirement already satisfied: idna<4,>=2.5 in /usr/local/lib/python3.10/dist-packages (from requests>=2.27.1->pycaret[full]) (3.10)\n",
            "Collecting daal4py==2024.7.0 (from scikit-learn-intelex>=2023.0.1->pycaret[full])\n",
            "  Downloading daal4py-2024.7.0-py310-none-manylinux1_x86_64.whl.metadata (7.4 kB)\n",
            "Collecting daal==2024.7.0 (from daal4py==2024.7.0->scikit-learn-intelex>=2023.0.1->pycaret[full])\n",
            "  Downloading daal-2024.7.0-py2.py3-none-manylinux1_x86_64.whl.metadata (1.1 kB)\n",
            "Requirement already satisfied: tbb==2021.* in /usr/local/lib/python3.10/dist-packages (from daal==2024.7.0->daal4py==2024.7.0->scikit-learn-intelex>=2023.0.1->pycaret[full]) (2021.13.1)\n",
            "Collecting pyaml>=16.9 (from scikit-optimize>=0.9.0->pycaret[full])\n",
            "  Downloading pyaml-24.7.0-py3-none-any.whl.metadata (11 kB)\n",
            "Collecting slicer==0.0.7 (from shap~=0.44.0->pycaret[full])\n",
            "  Downloading slicer-0.0.7-py3-none-any.whl.metadata (3.7 kB)\n",
            "Collecting pynndescent>=0.5 (from umap-learn>=0.5.2->pycaret[full])\n",
            "  Downloading pynndescent-0.5.13-py3-none-any.whl.metadata (6.8 kB)\n",
            "Collecting h11>=0.8 (from uvicorn>=0.17.6->pycaret[full])\n",
            "  Downloading h11-0.14.0-py3-none-any.whl.metadata (8.2 kB)\n",
            "Requirement already satisfied: nvidia-nccl-cu12 in /usr/local/lib/python3.10/dist-packages (from xgboost>=1.1.0->pycaret[full]) (2.23.4)\n",
            "Collecting visions<0.7.7,>=0.7.5 (from visions[type_image_path]<0.7.7,>=0.7.5->ydata-profiling>=4.3.1->pycaret[full])\n",
            "  Downloading visions-0.7.6-py3-none-any.whl.metadata (11 kB)\n",
            "Collecting htmlmin==0.1.12 (from ydata-profiling>=4.3.1->pycaret[full])\n",
            "  Downloading htmlmin-0.1.12.tar.gz (19 kB)\n",
            "  Preparing metadata (setup.py) ... \u001b[?25l\u001b[?25hdone\n",
            "Collecting phik<0.13,>=0.11.1 (from ydata-profiling>=4.3.1->pycaret[full])\n",
            "  Downloading phik-0.12.4-cp310-cp310-manylinux_2_17_x86_64.manylinux2014_x86_64.whl.metadata (5.6 kB)\n",
            "Requirement already satisfied: seaborn<0.14,>=0.10.1 in /usr/local/lib/python3.10/dist-packages (from ydata-profiling>=4.3.1->pycaret[full]) (0.13.1)\n",
            "Collecting multimethod<2,>=1.4 (from ydata-profiling>=4.3.1->pycaret[full])\n",
            "  Downloading multimethod-1.12-py3-none-any.whl.metadata (9.6 kB)\n",
            "Requirement already satisfied: typeguard<5,>=3 in /usr/local/lib/python3.10/dist-packages (from ydata-profiling>=4.3.1->pycaret[full]) (4.3.0)\n",
            "Collecting imagehash==4.3.1 (from ydata-profiling>=4.3.1->pycaret[full])\n",
            "  Downloading ImageHash-4.3.1-py2.py3-none-any.whl.metadata (8.0 kB)\n",
            "Requirement already satisfied: wordcloud>=1.9.3 in /usr/local/lib/python3.10/dist-packages (from ydata-profiling>=4.3.1->pycaret[full]) (1.9.3)\n",
            "Collecting dacite>=1.8 (from ydata-profiling>=4.3.1->pycaret[full])\n",
            "  Downloading dacite-1.8.1-py3-none-any.whl.metadata (15 kB)\n",
            "Collecting PyWavelets (from imagehash==4.3.1->ydata-profiling>=4.3.1->pycaret[full])\n",
            "  Downloading pywavelets-1.7.0-cp310-cp310-manylinux_2_17_x86_64.manylinux2014_x86_64.whl.metadata (9.0 kB)\n",
            "Collecting retrying (from dash[testing]; extra == \"full\"->pycaret[full])\n",
            "  Downloading retrying-1.3.4-py3-none-any.whl.metadata (6.9 kB)\n",
            "Requirement already satisfied: nest-asyncio in /usr/local/lib/python3.10/dist-packages (from dash[testing]; extra == \"full\"->pycaret[full]) (1.6.0)\n",
            "Requirement already satisfied: beautifulsoup4>=4.8.2 in /usr/local/lib/python3.10/dist-packages (from dash[testing]; extra == \"full\"->pycaret[full]) (4.12.3)\n",
            "Requirement already satisfied: lxml>=4.6.2 in /usr/local/lib/python3.10/dist-packages (from dash[testing]; extra == \"full\"->pycaret[full]) (4.9.4)\n",
            "Collecting percy>=2.0.2 (from dash[testing]; extra == \"full\"->pycaret[full])\n",
            "  Downloading percy-2.0.2-py2.py3-none-any.whl.metadata (821 bytes)\n",
            "Collecting selenium<=4.2.0,>=3.141.0 (from dash[testing]; extra == \"full\"->pycaret[full])\n",
            "  Downloading selenium-4.2.0-py3-none-any.whl.metadata (6.5 kB)\n",
            "Collecting multiprocess>=0.70.12 (from dash[testing]; extra == \"full\"->pycaret[full])\n",
            "  Downloading multiprocess-0.70.16-py310-none-any.whl.metadata (7.2 kB)\n",
            "Collecting dash-testing-stub>=0.0.2 (from dash[testing]; extra == \"full\"->pycaret[full])\n",
            "  Downloading dash_testing_stub-0.0.2-py3-none-any.whl.metadata (587 bytes)\n",
            "Collecting Mako (from alembic!=1.10.0,<2->mlflow>=2.0.0->pycaret[full])\n",
            "  Downloading Mako-1.3.5-py3-none-any.whl.metadata (2.9 kB)\n",
            "Requirement already satisfied: sniffio>=1.1 in /usr/local/lib/python3.10/dist-packages (from anyio<5.0,>=3.0->gradio>=3.50.2->pycaret[full]) (1.3.1)\n",
            "Requirement already satisfied: soupsieve>1.2 in /usr/local/lib/python3.10/dist-packages (from beautifulsoup4>=4.8.2->dash[testing]; extra == \"full\"->pycaret[full]) (2.6)\n",
            "Requirement already satisfied: cffi>=1.12 in /usr/local/lib/python3.10/dist-packages (from cryptography>=43.0.1->evidently~=0.4.16->pycaret[full]) (1.17.1)\n",
            "Collecting dask-expr<1.2,>=1.1 (from dask[dataframe,distributed]>=2023.5.0; extra == \"dask\"->fugue[dask]; extra == \"full\"->pycaret[full])\n",
            "  Downloading dask_expr-1.1.14-py3-none-any.whl.metadata (2.5 kB)\n",
            "Requirement already satisfied: colour in /usr/local/lib/python3.10/dist-packages (from dtreeviz>=2.1->explainerdashboard>=0.3.8->pycaret[full]) (0.1.5)\n",
            "Collecting wtforms (from Flask-WTF>=1.1->explainerdashboard>=0.3.8->pycaret[full])\n",
            "  Downloading wtforms-3.1.2-py3-none-any.whl.metadata (5.3 kB)\n",
            "Collecting antlr4-python3-runtime<4.12 (from fugue-sql-antlr>=0.1.6->fugue~=0.8.0->pycaret[full])\n",
            "  Downloading antlr4_python3_runtime-4.11.1-py3-none-any.whl.metadata (291 bytes)\n",
            "Collecting graphql-core<3.3,>=3.1 (from graphene<4->mlflow>=2.0.0->pycaret[full])\n",
            "  Downloading graphql_core-3.2.4-py3-none-any.whl.metadata (10 kB)\n",
            "Collecting graphql-relay<3.3,>=3.1 (from graphene<4->mlflow>=2.0.0->pycaret[full])\n",
            "  Downloading graphql_relay-3.2.0-py3-none-any.whl.metadata (12 kB)\n",
            "Collecting aniso8601<10,>=8 (from graphene<4->mlflow>=2.0.0->pycaret[full])\n",
            "  Downloading aniso8601-9.0.1-py2.py3-none-any.whl.metadata (23 kB)\n",
            "Collecting httpcore==1.* (from httpx>=0.24.1->gradio>=3.50.2->pycaret[full])\n",
            "  Downloading httpcore-1.0.5-py3-none-any.whl.metadata (20 kB)\n",
            "Requirement already satisfied: jupyter-client in /usr/local/lib/python3.10/dist-packages (from ipykernel>=4.10.0->interpret-core[aplr,dash,debug,linear,notebook,plotly,sensitivity,shap]==0.6.3->interpret>=0.2.7->pycaret[full]) (6.1.12)\n",
            "Collecting appdirs (from iterative-telemetry>=0.0.5->evidently~=0.4.16->pycaret[full])\n",
            "  Downloading appdirs-1.4.4-py2.py3-none-any.whl.metadata (9.0 kB)\n",
            "Requirement already satisfied: distro in /usr/lib/python3/dist-packages (from iterative-telemetry>=0.0.5->evidently~=0.4.16->pycaret[full]) (1.7.0)\n",
            "Requirement already satisfied: parso<0.9.0,>=0.8.3 in /usr/local/lib/python3.10/dist-packages (from jedi>=0.16->ipython>=5.5.0->pycaret[full]) (0.8.4)\n",
            "Requirement already satisfied: attrs>=22.2.0 in /usr/local/lib/python3.10/dist-packages (from jsonschema>=2.6->nbformat>=4.2.0->pycaret[full]) (24.2.0)\n",
            "Requirement already satisfied: jsonschema-specifications>=2023.03.6 in /usr/local/lib/python3.10/dist-packages (from jsonschema>=2.6->nbformat>=4.2.0->pycaret[full]) (2023.12.1)\n",
            "Requirement already satisfied: referencing>=0.28.4 in /usr/local/lib/python3.10/dist-packages (from jsonschema>=2.6->nbformat>=4.2.0->pycaret[full]) (0.35.1)\n",
            "Requirement already satisfied: rpds-py>=0.7.1 in /usr/local/lib/python3.10/dist-packages (from jsonschema>=2.6->nbformat>=4.2.0->pycaret[full]) (0.20.0)\n",
            "Requirement already satisfied: platformdirs>=2.5 in /usr/local/lib/python3.10/dist-packages (from jupyter-core!=5.0.*,>=4.12->nbformat>=4.2.0->pycaret[full]) (4.3.6)\n",
            "Collecting ansi2html (from jupyter-dash>=0.4.1->explainerdashboard>=0.3.8->pycaret[full])\n",
            "  Downloading ansi2html-1.9.2-py3-none-any.whl.metadata (3.7 kB)\n",
            "Collecting msgspec>=0.18.2 (from litestar>=2.8.3->evidently~=0.4.16->pycaret[full])\n",
            "  Downloading msgspec-0.18.6-cp310-cp310-manylinux_2_17_x86_64.manylinux2014_x86_64.whl.metadata (6.9 kB)\n",
            "Requirement already satisfied: multidict>=6.0.2 in /usr/local/lib/python3.10/dist-packages (from litestar>=2.8.3->evidently~=0.4.16->pycaret[full]) (6.1.0)\n",
            "Collecting polyfactory>=2.6.3 (from litestar>=2.8.3->evidently~=0.4.16->pycaret[full])\n",
            "  Downloading polyfactory-2.16.2-py3-none-any.whl.metadata (27 kB)\n",
            "Collecting rich-click (from litestar>=2.8.3->evidently~=0.4.16->pycaret[full])\n",
            "  Downloading rich_click-1.8.3-py3-none-any.whl.metadata (7.9 kB)\n",
            "Requirement already satisfied: regex>=2021.8.3 in /usr/local/lib/python3.10/dist-packages (from nltk>=3.6.7->evidently~=0.4.16->pycaret[full]) (2024.9.11)\n",
            "Requirement already satisfied: ptyprocess>=0.5 in /usr/local/lib/python3.10/dist-packages (from pexpect>4.3->ipython>=5.5.0->pycaret[full]) (0.7.0)\n",
            "Requirement already satisfied: wcwidth in /usr/local/lib/python3.10/dist-packages (from prompt-toolkit!=3.0.0,!=3.0.1,<3.1.0,>=2.0.0->ipython>=5.5.0->pycaret[full]) (0.2.13)\n",
            "Requirement already satisfied: annotated-types>=0.6.0 in /usr/local/lib/python3.10/dist-packages (from pydantic>=1.10.13->evidently~=0.4.16->pycaret[full]) (0.7.0)\n",
            "Requirement already satisfied: pydantic-core==2.23.4 in /usr/local/lib/python3.10/dist-packages (from pydantic>=1.10.13->evidently~=0.4.16->pycaret[full]) (2.23.4)\n",
            "Requirement already satisfied: markdown-it-py>=2.2.0 in /usr/local/lib/python3.10/dist-packages (from rich>=13->evidently~=0.4.16->pycaret[full]) (3.0.0)\n",
            "INFO: pip is looking at multiple versions of selenium to determine which version is compatible with other requirements. This could take a while.\n",
            "Collecting selenium<=4.2.0,>=3.141.0 (from dash[testing]; extra == \"full\"->pycaret[full])\n",
            "  Downloading selenium-4.1.5-py3-none-any.whl.metadata (6.5 kB)\n",
            "  Downloading selenium-4.1.4-py3-none-any.whl.metadata (6.5 kB)\n",
            "  Downloading selenium-4.1.3-py3-none-any.whl.metadata (6.5 kB)\n",
            "  Downloading selenium-4.1.2-py3-none-any.whl.metadata (6.5 kB)\n",
            "  Downloading selenium-4.1.1-py3-none-any.whl.metadata (6.5 kB)\n",
            "  Downloading selenium-4.1.0-py3-none-any.whl.metadata (6.5 kB)\n",
            "  Downloading selenium-4.0.0-py3-none-any.whl.metadata (6.5 kB)\n",
            "INFO: pip is still looking at multiple versions of selenium to determine which version is compatible with other requirements. This could take a while.\n",
            "  Downloading selenium-3.141.0-py2.py3-none-any.whl.metadata (6.6 kB)\n",
            "Requirement already satisfied: greenlet!=0.4.17 in /usr/local/lib/python3.10/dist-packages (from sqlalchemy<3,>=1.4.0->mlflow>=2.0.0->pycaret[full]) (3.1.0)\n",
            "Collecting fs (from triad>=0.9.3->fugue~=0.8.0->pycaret[full])\n",
            "  Downloading fs-2.4.16-py2.py3-none-any.whl.metadata (6.3 kB)\n",
            "Requirement already satisfied: shellingham>=1.3.0 in /usr/local/lib/python3.10/dist-packages (from typer>=0.3->evidently~=0.4.16->pycaret[full]) (1.5.4)\n",
            "Collecting mypy-extensions>=0.3.0 (from typing-inspect>=0.9.0->evidently~=0.4.16->pycaret[full])\n",
            "  Downloading mypy_extensions-1.0.0-py3-none-any.whl.metadata (1.1 kB)\n",
            "Collecting httptools>=0.5.0 (from uvicorn[standard]>=0.22.0->evidently~=0.4.16->pycaret[full])\n",
            "  Downloading httptools-0.6.1-cp310-cp310-manylinux_2_5_x86_64.manylinux1_x86_64.manylinux_2_17_x86_64.manylinux2014_x86_64.whl.metadata (3.6 kB)\n",
            "Collecting python-dotenv>=0.13 (from uvicorn[standard]>=0.22.0->evidently~=0.4.16->pycaret[full])\n",
            "  Downloading python_dotenv-1.0.1-py3-none-any.whl.metadata (23 kB)\n",
            "Collecting uvloop!=0.15.0,!=0.15.1,>=0.14.0 (from uvicorn[standard]>=0.22.0->evidently~=0.4.16->pycaret[full])\n",
            "  Downloading uvloop-0.20.0-cp310-cp310-manylinux_2_17_x86_64.manylinux2014_x86_64.whl.metadata (4.9 kB)\n",
            "Collecting watchfiles>=0.13 (from uvicorn[standard]>=0.22.0->evidently~=0.4.16->pycaret[full])\n",
            "  Downloading watchfiles-0.24.0-cp310-cp310-manylinux_2_17_x86_64.manylinux2014_x86_64.whl.metadata (4.9 kB)\n",
            "Requirement already satisfied: notebook>=4.4.1 in /usr/local/lib/python3.10/dist-packages (from widgetsnbextension~=3.6.0->ipywidgets>=7.6.5->pycaret[full]) (6.5.5)\n",
            "Requirement already satisfied: pycparser in /usr/local/lib/python3.10/dist-packages (from cffi>=1.12->cryptography>=43.0.1->evidently~=0.4.16->pycaret[full]) (2.22)\n",
            "INFO: pip is looking at multiple versions of dask-expr to determine which version is compatible with other requirements. This could take a while.\n",
            "Collecting dask-expr<1.2,>=1.1 (from dask[dataframe,distributed]>=2023.5.0; extra == \"dask\"->fugue[dask]; extra == \"full\"->pycaret[full])\n",
            "  Downloading dask_expr-1.1.13-py3-none-any.whl.metadata (2.5 kB)\n",
            "  Downloading dask_expr-1.1.12-py3-none-any.whl.metadata (2.5 kB)\n",
            "  Downloading dask_expr-1.1.11-py3-none-any.whl.metadata (2.5 kB)\n",
            "  Downloading dask_expr-1.1.10-py3-none-any.whl.metadata (2.5 kB)\n",
            "Requirement already satisfied: google-auth~=2.0 in /usr/local/lib/python3.10/dist-packages (from databricks-sdk<1,>=0.20.0->mlflow-skinny==2.16.2->mlflow>=2.0.0->pycaret[full]) (2.27.0)\n",
            "Collecting zope.event (from gevent>=1.3.6->interpret-core[aplr,dash,debug,linear,notebook,plotly,sensitivity,shap]==0.6.3->interpret>=0.2.7->pycaret[full])\n",
            "  Downloading zope.event-5.0-py3-none-any.whl.metadata (4.4 kB)\n",
            "Collecting zope.interface (from gevent>=1.3.6->interpret-core[aplr,dash,debug,linear,notebook,plotly,sensitivity,shap]==0.6.3->interpret>=0.2.7->pycaret[full])\n",
            "  Downloading zope.interface-7.0.3-cp310-cp310-manylinux_2_5_x86_64.manylinux1_x86_64.manylinux_2_17_x86_64.manylinux2014_x86_64.whl.metadata (43 kB)\n",
            "\u001b[2K     \u001b[90m━━━━━━━━━━━━━━━━━━━━━━━━━━━━━━━━━━━━━━━━\u001b[0m \u001b[32m43.6/43.6 kB\u001b[0m \u001b[31m2.6 MB/s\u001b[0m eta \u001b[36m0:00:00\u001b[0m\n",
            "\u001b[?25hCollecting gitdb<5,>=4.0.1 (from gitpython<4,>=3.1.9->mlflow-skinny==2.16.2->mlflow>=2.0.0->pycaret[full])\n",
            "  Downloading gitdb-4.0.11-py3-none-any.whl.metadata (1.2 kB)\n",
            "Requirement already satisfied: mdurl~=0.1 in /usr/local/lib/python3.10/dist-packages (from markdown-it-py>=2.2.0->rich>=13->evidently~=0.4.16->pycaret[full]) (0.1.2)\n",
            "Requirement already satisfied: pyzmq<25,>=17 in /usr/local/lib/python3.10/dist-packages (from notebook>=4.4.1->widgetsnbextension~=3.6.0->ipywidgets>=7.6.5->pycaret[full]) (24.0.1)\n",
            "Requirement already satisfied: argon2-cffi in /usr/local/lib/python3.10/dist-packages (from notebook>=4.4.1->widgetsnbextension~=3.6.0->ipywidgets>=7.6.5->pycaret[full]) (23.1.0)\n",
            "Requirement already satisfied: nbconvert>=5 in /usr/local/lib/python3.10/dist-packages (from notebook>=4.4.1->widgetsnbextension~=3.6.0->ipywidgets>=7.6.5->pycaret[full]) (6.5.4)\n",
            "Requirement already satisfied: Send2Trash>=1.8.0 in /usr/local/lib/python3.10/dist-packages (from notebook>=4.4.1->widgetsnbextension~=3.6.0->ipywidgets>=7.6.5->pycaret[full]) (1.8.3)\n",
            "Requirement already satisfied: terminado>=0.8.3 in /usr/local/lib/python3.10/dist-packages (from notebook>=4.4.1->widgetsnbextension~=3.6.0->ipywidgets>=7.6.5->pycaret[full]) (0.18.1)\n",
            "Requirement already satisfied: prometheus-client in /usr/local/lib/python3.10/dist-packages (from notebook>=4.4.1->widgetsnbextension~=3.6.0->ipywidgets>=7.6.5->pycaret[full]) (0.20.0)\n",
            "Requirement already satisfied: nbclassic>=0.4.7 in /usr/local/lib/python3.10/dist-packages (from notebook>=4.4.1->widgetsnbextension~=3.6.0->ipywidgets>=7.6.5->pycaret[full]) (1.1.0)\n",
            "Collecting deprecated>=1.2.6 (from opentelemetry-api<3,>=1.9.0->mlflow-skinny==2.16.2->mlflow>=2.0.0->pycaret[full])\n",
            "  Downloading Deprecated-1.2.14-py2.py3-none-any.whl.metadata (5.4 kB)\n",
            "Collecting importlib-metadata>=4.12.0 (from pycaret[full])\n",
            "  Downloading importlib_metadata-8.4.0-py3-none-any.whl.metadata (4.7 kB)\n",
            "Collecting opentelemetry-semantic-conventions==0.48b0 (from opentelemetry-sdk<3,>=1.9.0->mlflow-skinny==2.16.2->mlflow>=2.0.0->pycaret[full])\n",
            "  Downloading opentelemetry_semantic_conventions-0.48b0-py3-none-any.whl.metadata (2.4 kB)\n",
            "Collecting faker (from polyfactory>=2.6.3->litestar>=2.8.3->evidently~=0.4.16->pycaret[full])\n",
            "  Downloading Faker-29.0.0-py3-none-any.whl.metadata (15 kB)\n",
            "Requirement already satisfied: wrapt<2,>=1.10 in /usr/local/lib/python3.10/dist-packages (from deprecated>=1.2.6->opentelemetry-api<3,>=1.9.0->mlflow-skinny==2.16.2->mlflow>=2.0.0->pycaret[full]) (1.16.0)\n",
            "Collecting smmap<6,>=3.0.1 (from gitdb<5,>=4.0.1->gitpython<4,>=3.1.9->mlflow-skinny==2.16.2->mlflow>=2.0.0->pycaret[full])\n",
            "  Downloading smmap-5.0.1-py3-none-any.whl.metadata (4.3 kB)\n",
            "Requirement already satisfied: pyasn1-modules>=0.2.1 in /usr/local/lib/python3.10/dist-packages (from google-auth~=2.0->databricks-sdk<1,>=0.20.0->mlflow-skinny==2.16.2->mlflow>=2.0.0->pycaret[full]) (0.4.1)\n",
            "Requirement already satisfied: rsa<5,>=3.1.4 in /usr/local/lib/python3.10/dist-packages (from google-auth~=2.0->databricks-sdk<1,>=0.20.0->mlflow-skinny==2.16.2->mlflow>=2.0.0->pycaret[full]) (4.9)\n",
            "Requirement already satisfied: notebook-shim>=0.2.3 in /usr/local/lib/python3.10/dist-packages (from nbclassic>=0.4.7->notebook>=4.4.1->widgetsnbextension~=3.6.0->ipywidgets>=7.6.5->pycaret[full]) (0.2.4)\n",
            "Requirement already satisfied: bleach in /usr/local/lib/python3.10/dist-packages (from nbconvert>=5->notebook>=4.4.1->widgetsnbextension~=3.6.0->ipywidgets>=7.6.5->pycaret[full]) (6.1.0)\n",
            "Requirement already satisfied: defusedxml in /usr/local/lib/python3.10/dist-packages (from nbconvert>=5->notebook>=4.4.1->widgetsnbextension~=3.6.0->ipywidgets>=7.6.5->pycaret[full]) (0.7.1)\n",
            "Requirement already satisfied: entrypoints>=0.2.2 in /usr/local/lib/python3.10/dist-packages (from nbconvert>=5->notebook>=4.4.1->widgetsnbextension~=3.6.0->ipywidgets>=7.6.5->pycaret[full]) (0.4)\n",
            "Requirement already satisfied: jupyterlab-pygments in /usr/local/lib/python3.10/dist-packages (from nbconvert>=5->notebook>=4.4.1->widgetsnbextension~=3.6.0->ipywidgets>=7.6.5->pycaret[full]) (0.3.0)\n",
            "Requirement already satisfied: mistune<2,>=0.8.1 in /usr/local/lib/python3.10/dist-packages (from nbconvert>=5->notebook>=4.4.1->widgetsnbextension~=3.6.0->ipywidgets>=7.6.5->pycaret[full]) (0.8.4)\n",
            "Requirement already satisfied: nbclient>=0.5.0 in /usr/local/lib/python3.10/dist-packages (from nbconvert>=5->notebook>=4.4.1->widgetsnbextension~=3.6.0->ipywidgets>=7.6.5->pycaret[full]) (0.10.0)\n",
            "Requirement already satisfied: pandocfilters>=1.4.1 in /usr/local/lib/python3.10/dist-packages (from nbconvert>=5->notebook>=4.4.1->widgetsnbextension~=3.6.0->ipywidgets>=7.6.5->pycaret[full]) (1.5.1)\n",
            "Requirement already satisfied: tinycss2 in /usr/local/lib/python3.10/dist-packages (from nbconvert>=5->notebook>=4.4.1->widgetsnbextension~=3.6.0->ipywidgets>=7.6.5->pycaret[full]) (1.3.0)\n",
            "Requirement already satisfied: argon2-cffi-bindings in /usr/local/lib/python3.10/dist-packages (from argon2-cffi->notebook>=4.4.1->widgetsnbextension~=3.6.0->ipywidgets>=7.6.5->pycaret[full]) (21.2.0)\n",
            "Requirement already satisfied: jupyter-server<3,>=1.8 in /usr/local/lib/python3.10/dist-packages (from notebook-shim>=0.2.3->nbclassic>=0.4.7->notebook>=4.4.1->widgetsnbextension~=3.6.0->ipywidgets>=7.6.5->pycaret[full]) (1.24.0)\n",
            "Requirement already satisfied: pyasn1<0.7.0,>=0.4.6 in /usr/local/lib/python3.10/dist-packages (from pyasn1-modules>=0.2.1->google-auth~=2.0->databricks-sdk<1,>=0.20.0->mlflow-skinny==2.16.2->mlflow>=2.0.0->pycaret[full]) (0.6.1)\n",
            "Requirement already satisfied: webencodings in /usr/local/lib/python3.10/dist-packages (from bleach->nbconvert>=5->notebook>=4.4.1->widgetsnbextension~=3.6.0->ipywidgets>=7.6.5->pycaret[full]) (0.5.1)\n",
            "Requirement already satisfied: websocket-client in /usr/local/lib/python3.10/dist-packages (from jupyter-server<3,>=1.8->notebook-shim>=0.2.3->nbclassic>=0.4.7->notebook>=4.4.1->widgetsnbextension~=3.6.0->ipywidgets>=7.6.5->pycaret[full]) (1.8.0)\n",
            "Downloading fairlearn-0.7.0-py3-none-any.whl (177 kB)\n",
            "\u001b[2K   \u001b[90m━━━━━━━━━━━━━━━━━━━━━━━━━━━━━━━━━━━━━━━━\u001b[0m \u001b[32m177.5/177.5 kB\u001b[0m \u001b[31m12.2 MB/s\u001b[0m eta \u001b[36m0:00:00\u001b[0m\n",
            "\u001b[?25hDownloading schemdraw-0.15-py3-none-any.whl (106 kB)\n",
            "\u001b[2K   \u001b[90m━━━━━━━━━━━━━━━━━━━━━━━━━━━━━━━━━━━━━━━━\u001b[0m \u001b[32m106.8/106.8 kB\u001b[0m \u001b[31m8.3 MB/s\u001b[0m eta \u001b[36m0:00:00\u001b[0m\n",
            "\u001b[?25hDownloading sktime-0.26.0-py3-none-any.whl (21.8 MB)\n",
            "\u001b[2K   \u001b[90m━━━━━━━━━━━━━━━━━━━━━━━━━━━━━━━━━━━━━━━━\u001b[0m \u001b[32m21.8/21.8 MB\u001b[0m \u001b[31m68.6 MB/s\u001b[0m eta \u001b[36m0:00:00\u001b[0m\n",
            "\u001b[?25hDownloading boto3-1.35.24-py3-none-any.whl (139 kB)\n",
            "\u001b[2K   \u001b[90m━━━━━━━━━━━━━━━━━━━━━━━━━━━━━━━━━━━━━━━━\u001b[0m \u001b[32m139.2/139.2 kB\u001b[0m \u001b[31m8.8 MB/s\u001b[0m eta \u001b[36m0:00:00\u001b[0m\n",
            "\u001b[?25hDownloading catboost-1.2.7-cp310-cp310-manylinux2014_x86_64.whl (98.7 MB)\n",
            "\u001b[2K   \u001b[90m━━━━━━━━━━━━━━━━━━━━━━━━━━━━━━━━━━━━━━━━\u001b[0m \u001b[32m98.7/98.7 MB\u001b[0m \u001b[31m8.0 MB/s\u001b[0m eta \u001b[36m0:00:00\u001b[0m\n",
            "\u001b[?25hDownloading category_encoders-2.6.3-py2.py3-none-any.whl (81 kB)\n",
            "\u001b[2K   \u001b[90m━━━━━━━━━━━━━━━━━━━━━━━━━━━━━━━━━━━━━━━━\u001b[0m \u001b[32m81.9/81.9 kB\u001b[0m \u001b[31m6.0 MB/s\u001b[0m eta \u001b[36m0:00:00\u001b[0m\n",
            "\u001b[?25hDownloading deprecation-2.1.0-py2.py3-none-any.whl (11 kB)\n",
            "Downloading evidently-0.4.37-py3-none-any.whl (3.4 MB)\n",
            "\u001b[2K   \u001b[90m━━━━━━━━━━━━━━━━━━━━━━━━━━━━━━━━━━━━━━━━\u001b[0m \u001b[32m3.4/3.4 MB\u001b[0m \u001b[31m72.9 MB/s\u001b[0m eta \u001b[36m0:00:00\u001b[0m\n",
            "\u001b[?25hDownloading explainerdashboard-0.4.7-py3-none-any.whl (287 kB)\n",
            "\u001b[2K   \u001b[90m━━━━━━━━━━━━━━━━━━━━━━━━━━━━━━━━━━━━━━━━\u001b[0m \u001b[32m287.8/287.8 kB\u001b[0m \u001b[31m21.1 MB/s\u001b[0m eta \u001b[36m0:00:00\u001b[0m\n",
            "\u001b[?25hDownloading fugue-0.8.7-py3-none-any.whl (279 kB)\n",
            "\u001b[2K   \u001b[90m━━━━━━━━━━━━━━━━━━━━━━━━━━━━━━━━━━━━━━━━\u001b[0m \u001b[32m279.8/279.8 kB\u001b[0m \u001b[31m18.2 MB/s\u001b[0m eta \u001b[36m0:00:00\u001b[0m\n",
            "\u001b[?25hDownloading gradio-4.44.0-py3-none-any.whl (18.1 MB)\n",
            "\u001b[2K   \u001b[90m━━━━━━━━━━━━━━━━━━━━━━━━━━━━━━━━━━━━━━━━\u001b[0m \u001b[32m18.1/18.1 MB\u001b[0m \u001b[31m86.6 MB/s\u001b[0m eta \u001b[36m0:00:00\u001b[0m\n",
            "\u001b[?25hDownloading gradio_client-1.3.0-py3-none-any.whl (318 kB)\n",
            "\u001b[2K   \u001b[90m━━━━━━━━━━━━━━━━━━━━━━━━━━━━━━━━━━━━━━━━\u001b[0m \u001b[32m318.7/318.7 kB\u001b[0m \u001b[31m23.6 MB/s\u001b[0m eta \u001b[36m0:00:00\u001b[0m\n",
            "\u001b[?25hDownloading tomlkit-0.12.0-py3-none-any.whl (37 kB)\n",
            "Downloading fastapi-0.115.0-py3-none-any.whl (94 kB)\n",
            "\u001b[2K   \u001b[90m━━━━━━━━━━━━━━━━━━━━━━━━━━━━━━━━━━━━━━━━\u001b[0m \u001b[32m94.6/94.6 kB\u001b[0m \u001b[31m7.2 MB/s\u001b[0m eta \u001b[36m0:00:00\u001b[0m\n",
            "\u001b[?25hDownloading interpret-0.6.3-py3-none-any.whl (1.4 kB)\n",
            "Downloading interpret_core-0.6.3-py3-none-any.whl (13.5 MB)\n",
            "\u001b[2K   \u001b[90m━━━━━━━━━━━━━━━━━━━━━━━━━━━━━━━━━━━━━━━━\u001b[0m \u001b[32m13.5/13.5 MB\u001b[0m \u001b[31m84.7 MB/s\u001b[0m eta \u001b[36m0:00:00\u001b[0m\n",
            "\u001b[?25hDownloading joblib-1.3.2-py3-none-any.whl (302 kB)\n",
            "\u001b[2K   \u001b[90m━━━━━━━━━━━━━━━━━━━━━━━━━━━━━━━━━━━━━━━━\u001b[0m \u001b[32m302.2/302.2 kB\u001b[0m \u001b[31m21.5 MB/s\u001b[0m eta \u001b[36m0:00:00\u001b[0m\n",
            "\u001b[?25hDownloading kaleido-0.2.1-py2.py3-none-manylinux1_x86_64.whl (79.9 MB)\n",
            "\u001b[2K   \u001b[90m━━━━━━━━━━━━━━━━━━━━━━━━━━━━━━━━━━━━━━━━\u001b[0m \u001b[32m79.9/79.9 MB\u001b[0m \u001b[31m8.8 MB/s\u001b[0m eta \u001b[36m0:00:00\u001b[0m\n",
            "\u001b[?25hDownloading kmodes-0.12.2-py2.py3-none-any.whl (20 kB)\n",
            "Downloading m2cgen-0.10.0-py3-none-any.whl (92 kB)\n",
            "\u001b[2K   \u001b[90m━━━━━━━━━━━━━━━━━━━━━━━━━━━━━━━━━━━━━━━━\u001b[0m \u001b[32m92.2/92.2 kB\u001b[0m \u001b[31m6.3 MB/s\u001b[0m eta \u001b[36m0:00:00\u001b[0m\n",
            "\u001b[?25hDownloading mlflow-2.16.2-py3-none-any.whl (26.7 MB)\n",
            "\u001b[2K   \u001b[90m━━━━━━━━━━━━━━━━━━━━━━━━━━━━━━━━━━━━━━━━\u001b[0m \u001b[32m26.7/26.7 MB\u001b[0m \u001b[31m61.2 MB/s\u001b[0m eta \u001b[36m0:00:00\u001b[0m\n",
            "\u001b[?25hDownloading mlflow_skinny-2.16.2-py3-none-any.whl (5.6 MB)\n",
            "\u001b[2K   \u001b[90m━━━━━━━━━━━━━━━━━━━━━━━━━━━━━━━━━━━━━━━━\u001b[0m \u001b[32m5.6/5.6 MB\u001b[0m \u001b[31m88.5 MB/s\u001b[0m eta \u001b[36m0:00:00\u001b[0m\n",
            "\u001b[?25hDownloading moto-4.2.14-py2.py3-none-any.whl (3.3 MB)\n",
            "\u001b[2K   \u001b[90m━━━━━━━━━━━━━━━━━━━━━━━━━━━━━━━━━━━━━━━━\u001b[0m \u001b[32m3.3/3.3 MB\u001b[0m \u001b[31m68.2 MB/s\u001b[0m eta \u001b[36m0:00:00\u001b[0m\n",
            "\u001b[?25hDownloading optuna-4.0.0-py3-none-any.whl (362 kB)\n",
            "\u001b[2K   \u001b[90m━━━━━━━━━━━━━━━━━━━━━━━━━━━━━━━━━━━━━━━━\u001b[0m \u001b[32m362.8/362.8 kB\u001b[0m \u001b[31m22.5 MB/s\u001b[0m eta \u001b[36m0:00:00\u001b[0m\n",
            "\u001b[?25hDownloading plotly_resampler-0.10.0-py3-none-any.whl (80 kB)\n",
            "\u001b[2K   \u001b[90m━━━━━━━━━━━━━━━━━━━━━━━━━━━━━━━━━━━━━━━━\u001b[0m \u001b[32m80.7/80.7 kB\u001b[0m \u001b[31m5.8 MB/s\u001b[0m eta \u001b[36m0:00:00\u001b[0m\n",
            "\u001b[?25hDownloading pmdarima-2.0.4-cp310-cp310-manylinux_2_17_x86_64.manylinux2014_x86_64.manylinux_2_28_x86_64.whl (2.1 MB)\n",
            "\u001b[2K   \u001b[90m━━━━━━━━━━━━━━━━━━━━━━━━━━━━━━━━━━━━━━━━\u001b[0m \u001b[32m2.1/2.1 MB\u001b[0m \u001b[31m66.7 MB/s\u001b[0m eta \u001b[36m0:00:00\u001b[0m\n",
            "\u001b[?25hDownloading ray-2.36.0-cp310-cp310-manylinux2014_x86_64.whl (65.4 MB)\n",
            "\u001b[2K   \u001b[90m━━━━━━━━━━━━━━━━━━━━━━━━━━━━━━━━━━━━━━━━\u001b[0m \u001b[32m65.4/65.4 MB\u001b[0m \u001b[31m10.0 MB/s\u001b[0m eta \u001b[36m0:00:00\u001b[0m\n",
            "\u001b[?25hDownloading scikit_learn-1.4.2-cp310-cp310-manylinux_2_17_x86_64.manylinux2014_x86_64.whl (12.1 MB)\n",
            "\u001b[2K   \u001b[90m━━━━━━━━━━━━━━━━━━━━━━━━━━━━━━━━━━━━━━━━\u001b[0m \u001b[32m12.1/12.1 MB\u001b[0m \u001b[31m82.3 MB/s\u001b[0m eta \u001b[36m0:00:00\u001b[0m\n",
            "\u001b[?25hDownloading scikit_learn_intelex-2024.7.0-py310-none-manylinux1_x86_64.whl (191 kB)\n",
            "\u001b[2K   \u001b[90m━━━━━━━━━━━━━━━━━━━━━━━━━━━━━━━━━━━━━━━━\u001b[0m \u001b[32m191.5/191.5 kB\u001b[0m \u001b[31m13.7 MB/s\u001b[0m eta \u001b[36m0:00:00\u001b[0m\n",
            "\u001b[?25hDownloading daal4py-2024.7.0-py310-none-manylinux1_x86_64.whl (11.3 MB)\n",
            "\u001b[2K   \u001b[90m━━━━━━━━━━━━━━━━━━━━━━━━━━━━━━━━━━━━━━━━\u001b[0m \u001b[32m11.3/11.3 MB\u001b[0m \u001b[31m89.9 MB/s\u001b[0m eta \u001b[36m0:00:00\u001b[0m\n",
            "\u001b[?25hDownloading daal-2024.7.0-py2.py3-none-manylinux1_x86_64.whl (66.6 MB)\n",
            "\u001b[2K   \u001b[90m━━━━━━━━━━━━━━━━━━━━━━━━━━━━━━━━━━━━━━━━\u001b[0m \u001b[32m66.6/66.6 MB\u001b[0m \u001b[31m9.2 MB/s\u001b[0m eta \u001b[36m0:00:00\u001b[0m\n",
            "\u001b[?25hDownloading scikit_optimize-0.10.2-py2.py3-none-any.whl (107 kB)\n",
            "\u001b[2K   \u001b[90m━━━━━━━━━━━━━━━━━━━━━━━━━━━━━━━━━━━━━━━━\u001b[0m \u001b[32m107.8/107.8 kB\u001b[0m \u001b[31m7.6 MB/s\u001b[0m eta \u001b[36m0:00:00\u001b[0m\n",
            "\u001b[?25hDownloading scikit_plot-0.3.7-py3-none-any.whl (33 kB)\n",
            "Downloading scipy-1.11.4-cp310-cp310-manylinux_2_17_x86_64.manylinux2014_x86_64.whl (36.4 MB)\n",
            "\u001b[2K   \u001b[90m━━━━━━━━━━━━━━━━━━━━━━━━━━━━━━━━━━━━━━━━\u001b[0m \u001b[32m36.4/36.4 MB\u001b[0m \u001b[31m28.9 MB/s\u001b[0m eta \u001b[36m0:00:00\u001b[0m\n",
            "\u001b[?25hDownloading shap-0.44.1-cp310-cp310-manylinux_2_12_x86_64.manylinux2010_x86_64.manylinux_2_17_x86_64.manylinux2014_x86_64.whl (535 kB)\n",
            "\u001b[2K   \u001b[90m━━━━━━━━━━━━━━━━━━━━━━━━━━━━━━━━━━━━━━━━\u001b[0m \u001b[32m535.7/535.7 kB\u001b[0m \u001b[31m24.8 MB/s\u001b[0m eta \u001b[36m0:00:00\u001b[0m\n",
            "\u001b[?25hDownloading slicer-0.0.7-py3-none-any.whl (14 kB)\n",
            "Downloading statsforecast-1.5.0-py3-none-any.whl (99 kB)\n",
            "\u001b[2K   \u001b[90m━━━━━━━━━━━━━━━━━━━━━━━━━━━━━━━━━━━━━━━━\u001b[0m \u001b[32m100.0/100.0 kB\u001b[0m \u001b[31m7.2 MB/s\u001b[0m eta \u001b[36m0:00:00\u001b[0m\n",
            "\u001b[?25hDownloading tbats-1.1.3-py3-none-any.whl (44 kB)\n",
            "\u001b[2K   \u001b[90m━━━━━━━━━━━━━━━━━━━━━━━━━━━━━━━━━━━━━━━━\u001b[0m \u001b[32m44.0/44.0 kB\u001b[0m \u001b[31m2.8 MB/s\u001b[0m eta \u001b[36m0:00:00\u001b[0m\n",
            "\u001b[?25hDownloading tune_sklearn-0.5.0-py3-none-any.whl (42 kB)\n",
            "\u001b[2K   \u001b[90m━━━━━━━━━━━━━━━━━━━━━━━━━━━━━━━━━━━━━━━━\u001b[0m \u001b[32m42.2/42.2 kB\u001b[0m \u001b[31m2.7 MB/s\u001b[0m eta \u001b[36m0:00:00\u001b[0m\n",
            "\u001b[?25hDownloading umap_learn-0.5.6-py3-none-any.whl (85 kB)\n",
            "\u001b[2K   \u001b[90m━━━━━━━━━━━━━━━━━━━━━━━━━━━━━━━━━━━━━━━━\u001b[0m \u001b[32m85.7/85.7 kB\u001b[0m \u001b[31m6.3 MB/s\u001b[0m eta \u001b[36m0:00:00\u001b[0m\n",
            "\u001b[?25hDownloading uvicorn-0.30.6-py3-none-any.whl (62 kB)\n",
            "\u001b[2K   \u001b[90m━━━━━━━━━━━━━━━━━━━━━━━━━━━━━━━━━━━━━━━━\u001b[0m \u001b[32m62.8/62.8 kB\u001b[0m \u001b[31m4.2 MB/s\u001b[0m eta \u001b[36m0:00:00\u001b[0m\n",
            "\u001b[?25hDownloading werkzeug-2.3.8-py3-none-any.whl (242 kB)\n",
            "\u001b[2K   \u001b[90m━━━━━━━━━━━━━━━━━━━━━━━━━━━━━━━━━━━━━━━━\u001b[0m \u001b[32m242.3/242.3 kB\u001b[0m \u001b[31m16.1 MB/s\u001b[0m eta \u001b[36m0:00:00\u001b[0m\n",
            "\u001b[?25hDownloading ydata_profiling-4.10.0-py2.py3-none-any.whl (356 kB)\n",
            "\u001b[2K   \u001b[90m━━━━━━━━━━━━━━━━━━━━━━━━━━━━━━━━━━━━━━━━\u001b[0m \u001b[32m356.2/356.2 kB\u001b[0m \u001b[31m21.4 MB/s\u001b[0m eta \u001b[36m0:00:00\u001b[0m\n",
            "\u001b[?25hDownloading ImageHash-4.3.1-py2.py3-none-any.whl (296 kB)\n",
            "\u001b[2K   \u001b[90m━━━━━━━━━━━━━━━━━━━━━━━━━━━━━━━━━━━━━━━━\u001b[0m \u001b[32m296.5/296.5 kB\u001b[0m \u001b[31m19.3 MB/s\u001b[0m eta \u001b[36m0:00:00\u001b[0m\n",
            "\u001b[?25hDownloading dash_core_components-2.0.0-py3-none-any.whl (3.8 kB)\n",
            "Downloading dash_html_components-2.0.0-py3-none-any.whl (4.1 kB)\n",
            "Downloading dash_table-5.0.0-py3-none-any.whl (3.9 kB)\n",
            "Downloading optuna_integration-4.0.0-py3-none-any.whl (96 kB)\n",
            "\u001b[2K   \u001b[90m━━━━━━━━━━━━━━━━━━━━━━━━━━━━━━━━━━━━━━━━\u001b[0m \u001b[32m96.9/96.9 kB\u001b[0m \u001b[31m6.8 MB/s\u001b[0m eta \u001b[36m0:00:00\u001b[0m\n",
            "\u001b[?25hDownloading pycaret-3.3.2-py3-none-any.whl (486 kB)\n",
            "\u001b[2K   \u001b[90m━━━━━━━━━━━━━━━━━━━━━━━━━━━━━━━━━━━━━━━━\u001b[0m \u001b[32m486.1/486.1 kB\u001b[0m \u001b[31m24.4 MB/s\u001b[0m eta \u001b[36m0:00:00\u001b[0m\n",
            "\u001b[?25hDownloading wurlitzer-3.1.1-py3-none-any.whl (8.6 kB)\n",
            "Downloading xxhash-3.5.0-cp310-cp310-manylinux_2_17_x86_64.manylinux2014_x86_64.whl (194 kB)\n",
            "\u001b[2K   \u001b[90m━━━━━━━━━━━━━━━━━━━━━━━━━━━━━━━━━━━━━━━━\u001b[0m \u001b[32m194.1/194.1 kB\u001b[0m \u001b[31m12.6 MB/s\u001b[0m eta \u001b[36m0:00:00\u001b[0m\n",
            "\u001b[?25hDownloading adagio-0.2.6-py3-none-any.whl (19 kB)\n",
            "Downloading aiofiles-23.2.1-py3-none-any.whl (15 kB)\n",
            "Downloading alembic-1.13.2-py3-none-any.whl (232 kB)\n",
            "\u001b[2K   \u001b[90m━━━━━━━━━━━━━━━━━━━━━━━━━━━━━━━━━━━━━━━━\u001b[0m \u001b[32m233.0/233.0 kB\u001b[0m \u001b[31m14.3 MB/s\u001b[0m eta \u001b[36m0:00:00\u001b[0m\n",
            "\u001b[?25hDownloading botocore-1.35.24-py3-none-any.whl (12.6 MB)\n",
            "\u001b[2K   \u001b[90m━━━━━━━━━━━━━━━━━━━━━━━━━━━━━━━━━━━━━━━━\u001b[0m \u001b[32m12.6/12.6 MB\u001b[0m \u001b[31m56.8 MB/s\u001b[0m eta \u001b[36m0:00:00\u001b[0m\n",
            "\u001b[?25hDownloading dacite-1.8.1-py3-none-any.whl (14 kB)\n",
            "Downloading dash-2.18.1-py3-none-any.whl (7.5 MB)\n",
            "\u001b[2K   \u001b[90m━━━━━━━━━━━━━━━━━━━━━━━━━━━━━━━━━━━━━━━━\u001b[0m \u001b[32m7.5/7.5 MB\u001b[0m \u001b[31m61.5 MB/s\u001b[0m eta \u001b[36m0:00:00\u001b[0m\n",
            "\u001b[?25hDownloading dash_bootstrap_components-1.6.0-py3-none-any.whl (222 kB)\n",
            "\u001b[2K   \u001b[90m━━━━━━━━━━━━━━━━━━━━━━━━━━━━━━━━━━━━━━━━\u001b[0m \u001b[32m222.5/222.5 kB\u001b[0m \u001b[31m13.6 MB/s\u001b[0m eta \u001b[36m0:00:00\u001b[0m\n",
            "\u001b[?25hDownloading dash_testing_stub-0.0.2-py3-none-any.whl (2.6 kB)\n",
            "Downloading docker-7.1.0-py3-none-any.whl (147 kB)\n",
            "\u001b[2K   \u001b[90m━━━━━━━━━━━━━━━━━━━━━━━━━━━━━━━━━━━━━━━━\u001b[0m \u001b[32m147.8/147.8 kB\u001b[0m \u001b[31m12.6 MB/s\u001b[0m eta \u001b[36m0:00:00\u001b[0m\n",
            "\u001b[?25hDownloading dtreeviz-2.2.2-py3-none-any.whl (91 kB)\n",
            "\u001b[2K   \u001b[90m━━━━━━━━━━━━━━━━━━━━━━━━━━━━━━━━━━━━━━━━\u001b[0m \u001b[32m91.8/91.8 kB\u001b[0m \u001b[31m7.5 MB/s\u001b[0m eta \u001b[36m0:00:00\u001b[0m\n",
            "\u001b[?25hDownloading dynaconf-3.2.6-py2.py3-none-any.whl (231 kB)\n",
            "\u001b[2K   \u001b[90m━━━━━━━━━━━━━━━━━━━━━━━━━━━━━━━━━━━━━━━━\u001b[0m \u001b[32m231.1/231.1 kB\u001b[0m \u001b[31m15.0 MB/s\u001b[0m eta \u001b[36m0:00:00\u001b[0m\n",
            "\u001b[?25hDownloading flask_wtf-1.2.1-py3-none-any.whl (12 kB)\n",
            "Downloading graphene-3.3-py2.py3-none-any.whl (128 kB)\n",
            "\u001b[2K   \u001b[90m━━━━━━━━━━━━━━━━━━━━━━━━━━━━━━━━━━━━━━━━\u001b[0m \u001b[32m128.2/128.2 kB\u001b[0m \u001b[31m7.7 MB/s\u001b[0m eta \u001b[36m0:00:00\u001b[0m\n",
            "\u001b[?25hDownloading gunicorn-23.0.0-py3-none-any.whl (85 kB)\n",
            "\u001b[2K   \u001b[90m━━━━━━━━━━━━━━━━━━━━━━━━━━━━━━━━━━━━━━━━\u001b[0m \u001b[32m85.0/85.0 kB\u001b[0m \u001b[31m5.9 MB/s\u001b[0m eta \u001b[36m0:00:00\u001b[0m\n",
            "\u001b[?25hDownloading h11-0.14.0-py3-none-any.whl (58 kB)\n",
            "\u001b[2K   \u001b[90m━━━━━━━━━━━━━━━━━━━━━━━━━━━━━━━━━━━━━━━━\u001b[0m \u001b[32m58.3/58.3 kB\u001b[0m \u001b[31m4.1 MB/s\u001b[0m eta \u001b[36m0:00:00\u001b[0m\n",
            "\u001b[?25hDownloading httpx-0.27.2-py3-none-any.whl (76 kB)\n",
            "\u001b[2K   \u001b[90m━━━━━━━━━━━━━━━━━━━━━━━━━━━━━━━━━━━━━━━━\u001b[0m \u001b[32m76.4/76.4 kB\u001b[0m \u001b[31m5.8 MB/s\u001b[0m eta \u001b[36m0:00:00\u001b[0m\n",
            "\u001b[?25hDownloading httpcore-1.0.5-py3-none-any.whl (77 kB)\n",
            "\u001b[2K   \u001b[90m━━━━━━━━━━━━━━━━━━━━━━━━━━━━━━━━━━━━━━━━\u001b[0m \u001b[32m77.9/77.9 kB\u001b[0m \u001b[31m6.3 MB/s\u001b[0m eta \u001b[36m0:00:00\u001b[0m\n",
            "\u001b[?25hDownloading iterative_telemetry-0.0.9-py3-none-any.whl (10 kB)\n",
            "Using cached jedi-0.19.1-py2.py3-none-any.whl (1.6 MB)\n",
            "Downloading jmespath-1.0.1-py3-none-any.whl (20 kB)\n",
            "Downloading jupyter_dash-0.4.2-py3-none-any.whl (23 kB)\n",
            "Downloading litestar-2.12.1-py3-none-any.whl (542 kB)\n",
            "\u001b[2K   \u001b[90m━━━━━━━━━━━━━━━━━━━━━━━━━━━━━━━━━━━━━━━━\u001b[0m \u001b[32m542.0/542.0 kB\u001b[0m \u001b[31m28.3 MB/s\u001b[0m eta \u001b[36m0:00:00\u001b[0m\n",
            "\u001b[?25hDownloading multimethod-1.12-py3-none-any.whl (10 kB)\n",
            "Downloading multiprocess-0.70.16-py310-none-any.whl (134 kB)\n",
            "\u001b[2K   \u001b[90m━━━━━━━━━━━━━━━━━━━━━━━━━━━━━━━━━━━━━━━━\u001b[0m \u001b[32m134.8/134.8 kB\u001b[0m \u001b[31m7.9 MB/s\u001b[0m eta \u001b[36m0:00:00\u001b[0m\n",
            "\u001b[?25hDownloading orjson-3.10.7-cp310-cp310-manylinux_2_17_x86_64.manylinux2014_x86_64.whl (141 kB)\n",
            "\u001b[2K   \u001b[90m━━━━━━━━━━━━━━━━━━━━━━━━━━━━━━━━━━━━━━━━\u001b[0m \u001b[32m141.9/141.9 kB\u001b[0m \u001b[31m10.2 MB/s\u001b[0m eta \u001b[36m0:00:00\u001b[0m\n",
            "\u001b[?25hDownloading percy-2.0.2-py2.py3-none-any.whl (12 kB)\n",
            "Downloading phik-0.12.4-cp310-cp310-manylinux_2_17_x86_64.manylinux2014_x86_64.whl (686 kB)\n",
            "\u001b[2K   \u001b[90m━━━━━━━━━━━━━━━━━━━━━━━━━━━━━━━━━━━━━━━━\u001b[0m \u001b[32m686.1/686.1 kB\u001b[0m \u001b[31m33.0 MB/s\u001b[0m eta \u001b[36m0:00:00\u001b[0m\n",
            "\u001b[?25hDownloading pyaml-24.7.0-py3-none-any.whl (24 kB)\n",
            "Downloading pynndescent-0.5.13-py3-none-any.whl (56 kB)\n",
            "\u001b[2K   \u001b[90m━━━━━━━━━━━━━━━━━━━━━━━━━━━━━━━━━━━━━━━━\u001b[0m \u001b[32m56.9/56.9 kB\u001b[0m \u001b[31m3.8 MB/s\u001b[0m eta \u001b[36m0:00:00\u001b[0m\n",
            "\u001b[?25hDownloading python_multipart-0.0.10-py3-none-any.whl (22 kB)\n",
            "Downloading qpd-0.4.4-py3-none-any.whl (169 kB)\n",
            "\u001b[2K   \u001b[90m━━━━━━━━━━━━━━━━━━━━━━━━━━━━━━━━━━━━━━━━\u001b[0m \u001b[32m169.2/169.2 kB\u001b[0m \u001b[31m9.4 MB/s\u001b[0m eta \u001b[36m0:00:00\u001b[0m\n",
            "\u001b[?25hDownloading responses-0.25.3-py3-none-any.whl (55 kB)\n",
            "\u001b[2K   \u001b[90m━━━━━━━━━━━━━━━━━━━━━━━━━━━━━━━━━━━━━━━━\u001b[0m \u001b[32m55.2/55.2 kB\u001b[0m \u001b[31m3.8 MB/s\u001b[0m eta \u001b[36m0:00:00\u001b[0m\n",
            "\u001b[?25hDownloading ruff-0.6.7-py3-none-manylinux_2_17_x86_64.manylinux2014_x86_64.whl (10.8 MB)\n",
            "\u001b[2K   \u001b[90m━━━━━━━━━━━━━━━━━━━━━━━━━━━━━━━━━━━━━━━━\u001b[0m \u001b[32m10.8/10.8 MB\u001b[0m \u001b[31m88.2 MB/s\u001b[0m eta \u001b[36m0:00:00\u001b[0m\n",
            "\u001b[?25hDownloading s3transfer-0.10.2-py3-none-any.whl (82 kB)\n",
            "\u001b[2K   \u001b[90m━━━━━━━━━━━━━━━━━━━━━━━━━━━━━━━━━━━━━━━━\u001b[0m \u001b[32m82.7/82.7 kB\u001b[0m \u001b[31m5.8 MB/s\u001b[0m eta \u001b[36m0:00:00\u001b[0m\n",
            "\u001b[?25hDownloading scikit_base-0.7.8-py3-none-any.whl (130 kB)\n",
            "\u001b[2K   \u001b[90m━━━━━━━━━━━━━━━━━━━━━━━━━━━━━━━━━━━━━━━━\u001b[0m \u001b[32m130.1/130.1 kB\u001b[0m \u001b[31m10.3 MB/s\u001b[0m eta \u001b[36m0:00:00\u001b[0m\n",
            "\u001b[?25hDownloading selenium-3.141.0-py2.py3-none-any.whl (904 kB)\n",
            "\u001b[2K   \u001b[90m━━━━━━━━━━━━━━━━━━━━━━━━━━━━━━━━━━━━━━━━\u001b[0m \u001b[32m904.6/904.6 kB\u001b[0m \u001b[31m41.9 MB/s\u001b[0m eta \u001b[36m0:00:00\u001b[0m\n",
            "\u001b[?25hDownloading semantic_version-2.10.0-py2.py3-none-any.whl (15 kB)\n",
            "Downloading starlette-0.38.5-py3-none-any.whl (71 kB)\n",
            "\u001b[2K   \u001b[90m━━━━━━━━━━━━━━━━━━━━━━━━━━━━━━━━━━━━━━━━\u001b[0m \u001b[32m71.4/71.4 kB\u001b[0m \u001b[31m4.9 MB/s\u001b[0m eta \u001b[36m0:00:00\u001b[0m\n",
            "\u001b[?25hDownloading tensorboardX-2.6.2.2-py2.py3-none-any.whl (101 kB)\n",
            "\u001b[2K   \u001b[90m━━━━━━━━━━━━━━━━━━━━━━━━━━━━━━━━━━━━━━━━\u001b[0m \u001b[32m101.7/101.7 kB\u001b[0m \u001b[31m7.3 MB/s\u001b[0m eta \u001b[36m0:00:00\u001b[0m\n",
            "\u001b[?25hDownloading triad-0.9.8-py3-none-any.whl (62 kB)\n",
            "\u001b[2K   \u001b[90m━━━━━━━━━━━━━━━━━━━━━━━━━━━━━━━━━━━━━━━━\u001b[0m \u001b[32m62.3/62.3 kB\u001b[0m \u001b[31m4.2 MB/s\u001b[0m eta \u001b[36m0:00:00\u001b[0m\n",
            "\u001b[?25hDownloading tsdownsample-0.1.3-cp310-cp310-manylinux_2_17_x86_64.manylinux2014_x86_64.whl (2.1 MB)\n",
            "\u001b[2K   \u001b[90m━━━━━━━━━━━━━━━━━━━━━━━━━━━━━━━━━━━━━━━━\u001b[0m \u001b[32m2.1/2.1 MB\u001b[0m \u001b[31m65.0 MB/s\u001b[0m eta \u001b[36m0:00:00\u001b[0m\n",
            "\u001b[?25hDownloading typing_inspect-0.9.0-py3-none-any.whl (8.8 kB)\n",
            "Downloading ujson-5.10.0-cp310-cp310-manylinux_2_17_x86_64.manylinux2014_x86_64.whl (53 kB)\n",
            "\u001b[2K   \u001b[90m━━━━━━━━━━━━━━━━━━━━━━━━━━━━━━━━━━━━━━━━\u001b[0m \u001b[32m53.6/53.6 kB\u001b[0m \u001b[31m3.9 MB/s\u001b[0m eta \u001b[36m0:00:00\u001b[0m\n",
            "\u001b[?25hDownloading visions-0.7.6-py3-none-any.whl (104 kB)\n",
            "\u001b[2K   \u001b[90m━━━━━━━━━━━━━━━━━━━━━━━━━━━━━━━━━━━━━━━━\u001b[0m \u001b[32m104.8/104.8 kB\u001b[0m \u001b[31m7.6 MB/s\u001b[0m eta \u001b[36m0:00:00\u001b[0m\n",
            "\u001b[?25hDownloading waitress-3.0.0-py3-none-any.whl (56 kB)\n",
            "\u001b[2K   \u001b[90m━━━━━━━━━━━━━━━━━━━━━━━━━━━━━━━━━━━━━━━━\u001b[0m \u001b[32m56.7/56.7 kB\u001b[0m \u001b[31m4.2 MB/s\u001b[0m eta \u001b[36m0:00:00\u001b[0m\n",
            "\u001b[?25hDownloading watchdog-5.0.2-py3-none-manylinux2014_x86_64.whl (78 kB)\n",
            "\u001b[2K   \u001b[90m━━━━━━━━━━━━━━━━━━━━━━━━━━━━━━━━━━━━━━━━\u001b[0m \u001b[32m79.0/79.0 kB\u001b[0m \u001b[31m5.7 MB/s\u001b[0m eta \u001b[36m0:00:00\u001b[0m\n",
            "\u001b[?25hDownloading colorlog-6.8.2-py3-none-any.whl (11 kB)\n",
            "Downloading dash_auth-2.3.0-py3-none-any.whl (14 kB)\n",
            "Downloading ffmpy-0.4.0-py3-none-any.whl (5.8 kB)\n",
            "Downloading flask_simplelogin-0.1.3-py3-none-any.whl (7.3 kB)\n",
            "Downloading oyaml-1.0-py2.py3-none-any.whl (3.0 kB)\n",
            "Downloading pydub-0.25.1-py2.py3-none-any.whl (32 kB)\n",
            "Downloading retrying-1.3.4-py3-none-any.whl (11 kB)\n",
            "Downloading xmltodict-0.13.0-py2.py3-none-any.whl (10.0 kB)\n",
            "Downloading aniso8601-9.0.1-py2.py3-none-any.whl (52 kB)\n",
            "\u001b[2K   \u001b[90m━━━━━━━━━━━━━━━━━━━━━━━━━━━━━━━━━━━━━━━━\u001b[0m \u001b[32m52.8/52.8 kB\u001b[0m \u001b[31m3.5 MB/s\u001b[0m eta \u001b[36m0:00:00\u001b[0m\n",
            "\u001b[?25hDownloading antlr4_python3_runtime-4.11.1-py3-none-any.whl (144 kB)\n",
            "\u001b[2K   \u001b[90m━━━━━━━━━━━━━━━━━━━━━━━━━━━━━━━━━━━━━━━━\u001b[0m \u001b[32m144.2/144.2 kB\u001b[0m \u001b[31m9.5 MB/s\u001b[0m eta \u001b[36m0:00:00\u001b[0m\n",
            "\u001b[?25hDownloading aplr-10.6.3-cp310-cp310-manylinux_2_17_x86_64.manylinux2014_x86_64.whl (6.6 MB)\n",
            "\u001b[2K   \u001b[90m━━━━━━━━━━━━━━━━━━━━━━━━━━━━━━━━━━━━━━━━\u001b[0m \u001b[32m6.6/6.6 MB\u001b[0m \u001b[31m81.5 MB/s\u001b[0m eta \u001b[36m0:00:00\u001b[0m\n",
            "\u001b[?25hDownloading dask_expr-1.1.10-py3-none-any.whl (242 kB)\n",
            "\u001b[2K   \u001b[90m━━━━━━━━━━━━━━━━━━━━━━━━━━━━━━━━━━━━━━━━\u001b[0m \u001b[32m242.2/242.2 kB\u001b[0m \u001b[31m16.6 MB/s\u001b[0m eta \u001b[36m0:00:00\u001b[0m\n",
            "\u001b[?25hDownloading databricks_sdk-0.32.3-py3-none-any.whl (555 kB)\n",
            "\u001b[2K   \u001b[90m━━━━━━━━━━━━━━━━━━━━━━━━━━━━━━━━━━━━━━━━\u001b[0m \u001b[32m555.1/555.1 kB\u001b[0m \u001b[31m27.3 MB/s\u001b[0m eta \u001b[36m0:00:00\u001b[0m\n",
            "\u001b[?25hDownloading dill-0.3.8-py3-none-any.whl (116 kB)\n",
            "\u001b[2K   \u001b[90m━━━━━━━━━━━━━━━━━━━━━━━━━━━━━━━━━━━━━━━━\u001b[0m \u001b[32m116.3/116.3 kB\u001b[0m \u001b[31m8.5 MB/s\u001b[0m eta \u001b[36m0:00:00\u001b[0m\n",
            "\u001b[?25hDownloading gevent-24.2.1-cp310-cp310-manylinux_2_28_x86_64.whl (6.5 MB)\n",
            "\u001b[2K   \u001b[90m━━━━━━━━━━━━━━━━━━━━━━━━━━━━━━━━━━━━━━━━\u001b[0m \u001b[32m6.5/6.5 MB\u001b[0m \u001b[31m86.9 MB/s\u001b[0m eta \u001b[36m0:00:00\u001b[0m\n",
            "\u001b[?25hDownloading GitPython-3.1.43-py3-none-any.whl (207 kB)\n",
            "\u001b[2K   \u001b[90m━━━━━━━━━━━━━━━━━━━━━━━━━━━━━━━━━━━━━━━━\u001b[0m \u001b[32m207.3/207.3 kB\u001b[0m \u001b[31m13.9 MB/s\u001b[0m eta \u001b[36m0:00:00\u001b[0m\n",
            "\u001b[?25hDownloading graphql_core-3.2.4-py3-none-any.whl (203 kB)\n",
            "\u001b[2K   \u001b[90m━━━━━━━━━━━━━━━━━━━━━━━━━━━━━━━━━━━━━━━━\u001b[0m \u001b[32m203.2/203.2 kB\u001b[0m \u001b[31m13.4 MB/s\u001b[0m eta \u001b[36m0:00:00\u001b[0m\n",
            "\u001b[?25hDownloading graphql_relay-3.2.0-py3-none-any.whl (16 kB)\n",
            "Downloading httptools-0.6.1-cp310-cp310-manylinux_2_5_x86_64.manylinux1_x86_64.manylinux_2_17_x86_64.manylinux2014_x86_64.whl (341 kB)\n",
            "\u001b[2K   \u001b[90m━━━━━━━━━━━━━━━━━━━━━━━━━━━━━━━━━━━━━━━━\u001b[0m \u001b[32m341.4/341.4 kB\u001b[0m \u001b[31m21.5 MB/s\u001b[0m eta \u001b[36m0:00:00\u001b[0m\n",
            "\u001b[?25hDownloading msgspec-0.18.6-cp310-cp310-manylinux_2_17_x86_64.manylinux2014_x86_64.whl (210 kB)\n",
            "\u001b[2K   \u001b[90m━━━━━━━━━━━━━━━━━━━━━━━━━━━━━━━━━━━━━━━━\u001b[0m \u001b[32m210.3/210.3 kB\u001b[0m \u001b[31m14.8 MB/s\u001b[0m eta \u001b[36m0:00:00\u001b[0m\n",
            "\u001b[?25hDownloading mypy_extensions-1.0.0-py3-none-any.whl (4.7 kB)\n",
            "Downloading opentelemetry_api-1.27.0-py3-none-any.whl (63 kB)\n",
            "\u001b[2K   \u001b[90m━━━━━━━━━━━━━━━━━━━━━━━━━━━━━━━━━━━━━━━━\u001b[0m \u001b[32m64.0/64.0 kB\u001b[0m \u001b[31m5.0 MB/s\u001b[0m eta \u001b[36m0:00:00\u001b[0m\n",
            "\u001b[?25hDownloading importlib_metadata-8.4.0-py3-none-any.whl (26 kB)\n",
            "Downloading opentelemetry_sdk-1.27.0-py3-none-any.whl (110 kB)\n",
            "\u001b[2K   \u001b[90m━━━━━━━━━━━━━━━━━━━━━━━━━━━━━━━━━━━━━━━━\u001b[0m \u001b[32m110.5/110.5 kB\u001b[0m \u001b[31m8.1 MB/s\u001b[0m eta \u001b[36m0:00:00\u001b[0m\n",
            "\u001b[?25hDownloading opentelemetry_semantic_conventions-0.48b0-py3-none-any.whl (149 kB)\n",
            "\u001b[2K   \u001b[90m━━━━━━━━━━━━━━━━━━━━━━━━━━━━━━━━━━━━━━━━\u001b[0m \u001b[32m149.7/149.7 kB\u001b[0m \u001b[31m11.5 MB/s\u001b[0m eta \u001b[36m0:00:00\u001b[0m\n",
            "\u001b[?25hDownloading polyfactory-2.16.2-py3-none-any.whl (58 kB)\n",
            "\u001b[2K   \u001b[90m━━━━━━━━━━━━━━━━━━━━━━━━━━━━━━━━━━━━━━━━\u001b[0m \u001b[32m58.3/58.3 kB\u001b[0m \u001b[31m4.6 MB/s\u001b[0m eta \u001b[36m0:00:00\u001b[0m\n",
            "\u001b[?25hDownloading python_dotenv-1.0.1-py3-none-any.whl (19 kB)\n",
            "Downloading salib-1.5.1-py3-none-any.whl (778 kB)\n",
            "\u001b[2K   \u001b[90m━━━━━━━━━━━━━━━━━━━━━━━━━━━━━━━━━━━━━━━━\u001b[0m \u001b[32m778.9/778.9 kB\u001b[0m \u001b[31m32.0 MB/s\u001b[0m eta \u001b[36m0:00:00\u001b[0m\n",
            "\u001b[?25hDownloading uvloop-0.20.0-cp310-cp310-manylinux_2_17_x86_64.manylinux2014_x86_64.whl (3.4 MB)\n",
            "\u001b[2K   \u001b[90m━━━━━━━━━━━━━━━━━━━━━━━━━━━━━━━━━━━━━━━━\u001b[0m \u001b[32m3.4/3.4 MB\u001b[0m \u001b[31m77.2 MB/s\u001b[0m eta \u001b[36m0:00:00\u001b[0m\n",
            "\u001b[?25hDownloading watchfiles-0.24.0-cp310-cp310-manylinux_2_17_x86_64.manylinux2014_x86_64.whl (425 kB)\n",
            "\u001b[2K   \u001b[90m━━━━━━━━━━━━━━━━━━━━━━━━━━━━━━━━━━━━━━━━\u001b[0m \u001b[32m425.7/425.7 kB\u001b[0m \u001b[31m28.5 MB/s\u001b[0m eta \u001b[36m0:00:00\u001b[0m\n",
            "\u001b[?25hDownloading websockets-12.0-cp310-cp310-manylinux_2_5_x86_64.manylinux1_x86_64.manylinux_2_17_x86_64.manylinux2014_x86_64.whl (130 kB)\n",
            "\u001b[2K   \u001b[90m━━━━━━━━━━━━━━━━━━━━━━━━━━━━━━━━━━━━━━━━\u001b[0m \u001b[32m130.2/130.2 kB\u001b[0m \u001b[31m9.7 MB/s\u001b[0m eta \u001b[36m0:00:00\u001b[0m\n",
            "\u001b[?25hDownloading wtforms-3.1.2-py3-none-any.whl (145 kB)\n",
            "\u001b[2K   \u001b[90m━━━━━━━━━━━━━━━━━━━━━━━━━━━━━━━━━━━━━━━━\u001b[0m \u001b[32m146.0/146.0 kB\u001b[0m \u001b[31m11.4 MB/s\u001b[0m eta \u001b[36m0:00:00\u001b[0m\n",
            "\u001b[?25hDownloading ansi2html-1.9.2-py3-none-any.whl (17 kB)\n",
            "Downloading appdirs-1.4.4-py2.py3-none-any.whl (9.6 kB)\n",
            "Downloading fs-2.4.16-py2.py3-none-any.whl (135 kB)\n",
            "\u001b[2K   \u001b[90m━━━━━━━━━━━━━━━━━━━━━━━━━━━━━━━━━━━━━━━━\u001b[0m \u001b[32m135.3/135.3 kB\u001b[0m \u001b[31m10.3 MB/s\u001b[0m eta \u001b[36m0:00:00\u001b[0m\n",
            "\u001b[?25hDownloading Mako-1.3.5-py3-none-any.whl (78 kB)\n",
            "\u001b[2K   \u001b[90m━━━━━━━━━━━━━━━━━━━━━━━━━━━━━━━━━━━━━━━━\u001b[0m \u001b[32m78.6/78.6 kB\u001b[0m \u001b[31m6.6 MB/s\u001b[0m eta \u001b[36m0:00:00\u001b[0m\n",
            "\u001b[?25hDownloading pywavelets-1.7.0-cp310-cp310-manylinux_2_17_x86_64.manylinux2014_x86_64.whl (4.5 MB)\n",
            "\u001b[2K   \u001b[90m━━━━━━━━━━━━━━━━━━━━━━━━━━━━━━━━━━━━━━━━\u001b[0m \u001b[32m4.5/4.5 MB\u001b[0m \u001b[31m70.6 MB/s\u001b[0m eta \u001b[36m0:00:00\u001b[0m\n",
            "\u001b[?25hDownloading rich_click-1.8.3-py3-none-any.whl (35 kB)\n",
            "Downloading Deprecated-1.2.14-py2.py3-none-any.whl (9.6 kB)\n",
            "Downloading gitdb-4.0.11-py3-none-any.whl (62 kB)\n",
            "\u001b[2K   \u001b[90m━━━━━━━━━━━━━━━━━━━━━━━━━━━━━━━━━━━━━━━━\u001b[0m \u001b[32m62.7/62.7 kB\u001b[0m \u001b[31m5.3 MB/s\u001b[0m eta \u001b[36m0:00:00\u001b[0m\n",
            "\u001b[?25hDownloading Faker-29.0.0-py3-none-any.whl (1.8 MB)\n",
            "\u001b[2K   \u001b[90m━━━━━━━━━━━━━━━━━━━━━━━━━━━━━━━━━━━━━━━━\u001b[0m \u001b[32m1.8/1.8 MB\u001b[0m \u001b[31m9.5 MB/s\u001b[0m eta \u001b[36m0:00:00\u001b[0m\n",
            "\u001b[?25hDownloading zope.event-5.0-py3-none-any.whl (6.8 kB)\n",
            "Downloading zope.interface-7.0.3-cp310-cp310-manylinux_2_5_x86_64.manylinux1_x86_64.manylinux_2_17_x86_64.manylinux2014_x86_64.whl (254 kB)\n",
            "\u001b[2K   \u001b[90m━━━━━━━━━━━━━━━━━━━━━━━━━━━━━━━━━━━━━━━━\u001b[0m \u001b[32m254.1/254.1 kB\u001b[0m \u001b[31m17.6 MB/s\u001b[0m eta \u001b[36m0:00:00\u001b[0m\n",
            "\u001b[?25hDownloading smmap-5.0.1-py3-none-any.whl (24 kB)\n",
            "Building wheels for collected packages: pyod, htmlmin, fugue-sql-antlr, dash-cytoscape\n",
            "  Building wheel for pyod (setup.py) ... \u001b[?25l\u001b[?25hdone\n",
            "  Created wheel for pyod: filename=pyod-2.0.2-py3-none-any.whl size=198469 sha256=3ca8cdc5e958d4ec8a5388d25202c48a46579d2d981043169365f8006f3d5929\n",
            "  Stored in directory: /root/.cache/pip/wheels/77/c2/20/34d1f15b41b701ba69f42a32304825810d680754d509f91391\n",
            "  Building wheel for htmlmin (setup.py) ... \u001b[?25l\u001b[?25hdone\n",
            "  Created wheel for htmlmin: filename=htmlmin-0.1.12-py3-none-any.whl size=27081 sha256=3fd9d34fa58beba1eb9440ce9e1621ab3e7336b22248e95ba2d04235207d53d0\n",
            "  Stored in directory: /root/.cache/pip/wheels/dd/91/29/a79cecb328d01739e64017b6fb9a1ab9d8cb1853098ec5966d\n",
            "  Building wheel for fugue-sql-antlr (setup.py) ... \u001b[?25l\u001b[?25hdone\n",
            "  Created wheel for fugue-sql-antlr: filename=fugue_sql_antlr-0.2.2-py3-none-any.whl size=158202 sha256=4f30347f011c0e65347c5664f5420e34adcfd4f75e9af34a8f333ec9a05324aa\n",
            "  Stored in directory: /root/.cache/pip/wheels/2b/be/4b/27ebc4ae02e605628d7bbe2a49ab875eb84275a1ddb46cbe2c\n",
            "  Building wheel for dash-cytoscape (setup.py) ... \u001b[?25l\u001b[?25hdone\n",
            "  Created wheel for dash-cytoscape: filename=dash_cytoscape-1.0.2-py3-none-any.whl size=4010717 sha256=354a30d742e8a68be5e70ff44834a4c41781e034b34fe841ce4d4a5ed01c4ca4\n",
            "  Stored in directory: /root/.cache/pip/wheels/91/23/5e/56fa701c668444b121ad2353a96478179dc49086a9c44ee930\n",
            "Successfully built pyod htmlmin fugue-sql-antlr dash-cytoscape\n",
            "Installing collected packages: pydub, kaleido, htmlmin, dash-testing-stub, dash-table, dash-html-components, dash-core-components, appdirs, antlr4-python3-runtime, aniso8601, zope.interface, zope.event, xxhash, xmltodict, wurlitzer, wtforms, Werkzeug, websockets, watchdog, waitress, uvloop, ujson, tsdownsample, tomlkit, tensorboardX, smmap, slicer, semantic-version, selenium, scipy, scikit-base, schemdraw, ruff, retrying, PyWavelets, python-multipart, python-dotenv, pyaml, oyaml, orjson, mypy-extensions, multimethod, msgspec, Mako, m2cgen, joblib, jmespath, jedi, importlib-metadata, httptools, h11, gunicorn, graphql-core, fs, ffmpy, dynaconf, dill, deprecation, deprecated, dacite, daal, colorlog, aplr, ansi2html, aiofiles, watchfiles, uvicorn, typing-inspect, starlette, scikit-learn, responses, percy, opentelemetry-api, multiprocess, iterative-telemetry, imagehash, httpcore, graphql-relay, gitdb, gevent, faker, docker, daal4py, botocore, alembic, visions, triad, sktime, shap, scikit-plot, scikit-optimize, scikit-learn-intelex, SALib, s3transfer, rich-click, pyod, pynndescent, polyfactory, phik, optuna, opentelemetry-semantic-conventions, kmodes, interpret-core, httpx, graphene, gitpython, Flask-WTF, fastapi, fairlearn, dtreeviz, databricks-sdk, dask-expr, dash, catboost, umap-learn, ray, pmdarima, plotly-resampler, optuna-integration, opentelemetry-sdk, litestar, jupyter-dash, gradio-client, fugue-sql-antlr, flask-simplelogin, dash-cytoscape, dash-bootstrap-components, dash-auth, category-encoders, boto3, adagio, ydata-profiling, tbats, qpd, moto, mlflow-skinny, gradio, explainerdashboard, evidently, tune-sklearn, mlflow, interpret, fugue, statsforecast, pycaret\n",
            "  Attempting uninstall: Werkzeug\n",
            "    Found existing installation: Werkzeug 3.0.4\n",
            "    Uninstalling Werkzeug-3.0.4:\n",
            "      Successfully uninstalled Werkzeug-3.0.4\n",
            "  Attempting uninstall: scipy\n",
            "    Found existing installation: scipy 1.13.1\n",
            "    Uninstalling scipy-1.13.1:\n",
            "      Successfully uninstalled scipy-1.13.1\n",
            "  Attempting uninstall: joblib\n",
            "    Found existing installation: joblib 1.4.2\n",
            "    Uninstalling joblib-1.4.2:\n",
            "      Successfully uninstalled joblib-1.4.2\n",
            "  Attempting uninstall: importlib-metadata\n",
            "    Found existing installation: importlib_metadata 8.5.0\n",
            "    Uninstalling importlib_metadata-8.5.0:\n",
            "      Successfully uninstalled importlib_metadata-8.5.0\n",
            "  Attempting uninstall: scikit-learn\n",
            "    Found existing installation: scikit-learn 1.3.2\n",
            "    Uninstalling scikit-learn-1.3.2:\n",
            "      Successfully uninstalled scikit-learn-1.3.2\n",
            "Successfully installed Flask-WTF-1.2.1 Mako-1.3.5 PyWavelets-1.7.0 SALib-1.5.1 Werkzeug-2.3.8 adagio-0.2.6 aiofiles-23.2.1 alembic-1.13.2 aniso8601-9.0.1 ansi2html-1.9.2 antlr4-python3-runtime-4.11.1 aplr-10.6.3 appdirs-1.4.4 boto3-1.35.24 botocore-1.35.24 catboost-1.2.7 category-encoders-2.6.3 colorlog-6.8.2 daal-2024.7.0 daal4py-2024.7.0 dacite-1.8.1 dash-2.18.1 dash-auth-2.3.0 dash-bootstrap-components-1.6.0 dash-core-components-2.0.0 dash-cytoscape-1.0.2 dash-html-components-2.0.0 dash-table-5.0.0 dash-testing-stub-0.0.2 dask-expr-1.1.10 databricks-sdk-0.32.3 deprecated-1.2.14 deprecation-2.1.0 dill-0.3.8 docker-7.1.0 dtreeviz-2.2.2 dynaconf-3.2.6 evidently-0.4.37 explainerdashboard-0.4.7 fairlearn-0.7.0 faker-29.0.0 fastapi-0.115.0 ffmpy-0.4.0 flask-simplelogin-0.1.3 fs-2.4.16 fugue-0.8.7 fugue-sql-antlr-0.2.2 gevent-24.2.1 gitdb-4.0.11 gitpython-3.1.43 gradio-4.44.0 gradio-client-1.3.0 graphene-3.3 graphql-core-3.2.4 graphql-relay-3.2.0 gunicorn-23.0.0 h11-0.14.0 htmlmin-0.1.12 httpcore-1.0.5 httptools-0.6.1 httpx-0.27.2 imagehash-4.3.1 importlib-metadata-8.4.0 interpret-0.6.3 interpret-core-0.6.3 iterative-telemetry-0.0.9 jedi-0.19.1 jmespath-1.0.1 joblib-1.3.2 jupyter-dash-0.4.2 kaleido-0.2.1 kmodes-0.12.2 litestar-2.12.1 m2cgen-0.10.0 mlflow-2.16.2 mlflow-skinny-2.16.2 moto-4.2.14 msgspec-0.18.6 multimethod-1.12 multiprocess-0.70.16 mypy-extensions-1.0.0 opentelemetry-api-1.27.0 opentelemetry-sdk-1.27.0 opentelemetry-semantic-conventions-0.48b0 optuna-4.0.0 optuna-integration-4.0.0 orjson-3.10.7 oyaml-1.0 percy-2.0.2 phik-0.12.4 plotly-resampler-0.10.0 pmdarima-2.0.4 polyfactory-2.16.2 pyaml-24.7.0 pycaret-3.3.2 pydub-0.25.1 pynndescent-0.5.13 pyod-2.0.2 python-dotenv-1.0.1 python-multipart-0.0.10 qpd-0.4.4 ray-2.36.0 responses-0.25.3 retrying-1.3.4 rich-click-1.8.3 ruff-0.6.7 s3transfer-0.10.2 schemdraw-0.15 scikit-base-0.7.8 scikit-learn-1.4.2 scikit-learn-intelex-2024.7.0 scikit-optimize-0.10.2 scikit-plot-0.3.7 scipy-1.11.4 selenium-3.141.0 semantic-version-2.10.0 shap-0.44.1 sktime-0.26.0 slicer-0.0.7 smmap-5.0.1 starlette-0.38.5 statsforecast-1.5.0 tbats-1.1.3 tensorboardX-2.6.2.2 tomlkit-0.12.0 triad-0.9.8 tsdownsample-0.1.3 tune-sklearn-0.5.0 typing-inspect-0.9.0 ujson-5.10.0 umap-learn-0.5.6 uvicorn-0.30.6 uvloop-0.20.0 visions-0.7.6 waitress-3.0.0 watchdog-5.0.2 watchfiles-0.24.0 websockets-12.0 wtforms-3.1.2 wurlitzer-3.1.1 xmltodict-0.13.0 xxhash-3.5.0 ydata-profiling-4.10.0 zope.event-5.0 zope.interface-7.0.3\n"
          ]
        }
      ]
    },
    {
      "cell_type": "code",
      "source": [
        "import pycaret\n",
        "pycaret.__version__"
      ],
      "metadata": {
        "colab": {
          "base_uri": "https://localhost:8080/",
          "height": 35
        },
        "id": "iAvFwbinZBo-",
        "outputId": "8748d63c-cadc-4f46-e5b1-bfd55057545e"
      },
      "id": "iAvFwbinZBo-",
      "execution_count": null,
      "outputs": [
        {
          "output_type": "execute_result",
          "data": {
            "text/plain": [
              "'3.3.2'"
            ],
            "application/vnd.google.colaboratory.intrinsic+json": {
              "type": "string"
            }
          },
          "metadata": {},
          "execution_count": 2
        }
      ]
    },
    {
      "cell_type": "code",
      "source": [
        "import pandas as pd\n",
        "housing_data = pd.read_csv('/content/house_price_regression_dataset.csv')"
      ],
      "metadata": {
        "id": "y7IQfPZ8ZCNo"
      },
      "id": "y7IQfPZ8ZCNo",
      "execution_count": null,
      "outputs": []
    },
    {
      "cell_type": "code",
      "source": [
        "from pycaret.regression import *\n",
        "setup_regression = setup(housing_data, target = 'House_Price', session_id = 987)"
      ],
      "metadata": {
        "colab": {
          "base_uri": "https://localhost:8080/",
          "height": 645
        },
        "id": "Hcpxo6v5ZEWH",
        "outputId": "bde3497f-891e-42d6-bcb2-18d2178dc06d"
      },
      "id": "Hcpxo6v5ZEWH",
      "execution_count": null,
      "outputs": [
        {
          "output_type": "display_data",
          "data": {
            "text/plain": [
              "<pandas.io.formats.style.Styler at 0x7aa2e54fc1c0>"
            ],
            "text/html": [
              "<style type=\"text/css\">\n",
              "#T_006bc_row8_col1 {\n",
              "  background-color: lightgreen;\n",
              "}\n",
              "</style>\n",
              "<table id=\"T_006bc\" class=\"dataframe\">\n",
              "  <thead>\n",
              "    <tr>\n",
              "      <th class=\"blank level0\" >&nbsp;</th>\n",
              "      <th id=\"T_006bc_level0_col0\" class=\"col_heading level0 col0\" >Description</th>\n",
              "      <th id=\"T_006bc_level0_col1\" class=\"col_heading level0 col1\" >Value</th>\n",
              "    </tr>\n",
              "  </thead>\n",
              "  <tbody>\n",
              "    <tr>\n",
              "      <th id=\"T_006bc_level0_row0\" class=\"row_heading level0 row0\" >0</th>\n",
              "      <td id=\"T_006bc_row0_col0\" class=\"data row0 col0\" >Session id</td>\n",
              "      <td id=\"T_006bc_row0_col1\" class=\"data row0 col1\" >987</td>\n",
              "    </tr>\n",
              "    <tr>\n",
              "      <th id=\"T_006bc_level0_row1\" class=\"row_heading level0 row1\" >1</th>\n",
              "      <td id=\"T_006bc_row1_col0\" class=\"data row1 col0\" >Target</td>\n",
              "      <td id=\"T_006bc_row1_col1\" class=\"data row1 col1\" >House_Price</td>\n",
              "    </tr>\n",
              "    <tr>\n",
              "      <th id=\"T_006bc_level0_row2\" class=\"row_heading level0 row2\" >2</th>\n",
              "      <td id=\"T_006bc_row2_col0\" class=\"data row2 col0\" >Target type</td>\n",
              "      <td id=\"T_006bc_row2_col1\" class=\"data row2 col1\" >Regression</td>\n",
              "    </tr>\n",
              "    <tr>\n",
              "      <th id=\"T_006bc_level0_row3\" class=\"row_heading level0 row3\" >3</th>\n",
              "      <td id=\"T_006bc_row3_col0\" class=\"data row3 col0\" >Original data shape</td>\n",
              "      <td id=\"T_006bc_row3_col1\" class=\"data row3 col1\" >(1000, 8)</td>\n",
              "    </tr>\n",
              "    <tr>\n",
              "      <th id=\"T_006bc_level0_row4\" class=\"row_heading level0 row4\" >4</th>\n",
              "      <td id=\"T_006bc_row4_col0\" class=\"data row4 col0\" >Transformed data shape</td>\n",
              "      <td id=\"T_006bc_row4_col1\" class=\"data row4 col1\" >(1000, 8)</td>\n",
              "    </tr>\n",
              "    <tr>\n",
              "      <th id=\"T_006bc_level0_row5\" class=\"row_heading level0 row5\" >5</th>\n",
              "      <td id=\"T_006bc_row5_col0\" class=\"data row5 col0\" >Transformed train set shape</td>\n",
              "      <td id=\"T_006bc_row5_col1\" class=\"data row5 col1\" >(700, 8)</td>\n",
              "    </tr>\n",
              "    <tr>\n",
              "      <th id=\"T_006bc_level0_row6\" class=\"row_heading level0 row6\" >6</th>\n",
              "      <td id=\"T_006bc_row6_col0\" class=\"data row6 col0\" >Transformed test set shape</td>\n",
              "      <td id=\"T_006bc_row6_col1\" class=\"data row6 col1\" >(300, 8)</td>\n",
              "    </tr>\n",
              "    <tr>\n",
              "      <th id=\"T_006bc_level0_row7\" class=\"row_heading level0 row7\" >7</th>\n",
              "      <td id=\"T_006bc_row7_col0\" class=\"data row7 col0\" >Numeric features</td>\n",
              "      <td id=\"T_006bc_row7_col1\" class=\"data row7 col1\" >7</td>\n",
              "    </tr>\n",
              "    <tr>\n",
              "      <th id=\"T_006bc_level0_row8\" class=\"row_heading level0 row8\" >8</th>\n",
              "      <td id=\"T_006bc_row8_col0\" class=\"data row8 col0\" >Preprocess</td>\n",
              "      <td id=\"T_006bc_row8_col1\" class=\"data row8 col1\" >True</td>\n",
              "    </tr>\n",
              "    <tr>\n",
              "      <th id=\"T_006bc_level0_row9\" class=\"row_heading level0 row9\" >9</th>\n",
              "      <td id=\"T_006bc_row9_col0\" class=\"data row9 col0\" >Imputation type</td>\n",
              "      <td id=\"T_006bc_row9_col1\" class=\"data row9 col1\" >simple</td>\n",
              "    </tr>\n",
              "    <tr>\n",
              "      <th id=\"T_006bc_level0_row10\" class=\"row_heading level0 row10\" >10</th>\n",
              "      <td id=\"T_006bc_row10_col0\" class=\"data row10 col0\" >Numeric imputation</td>\n",
              "      <td id=\"T_006bc_row10_col1\" class=\"data row10 col1\" >mean</td>\n",
              "    </tr>\n",
              "    <tr>\n",
              "      <th id=\"T_006bc_level0_row11\" class=\"row_heading level0 row11\" >11</th>\n",
              "      <td id=\"T_006bc_row11_col0\" class=\"data row11 col0\" >Categorical imputation</td>\n",
              "      <td id=\"T_006bc_row11_col1\" class=\"data row11 col1\" >mode</td>\n",
              "    </tr>\n",
              "    <tr>\n",
              "      <th id=\"T_006bc_level0_row12\" class=\"row_heading level0 row12\" >12</th>\n",
              "      <td id=\"T_006bc_row12_col0\" class=\"data row12 col0\" >Fold Generator</td>\n",
              "      <td id=\"T_006bc_row12_col1\" class=\"data row12 col1\" >KFold</td>\n",
              "    </tr>\n",
              "    <tr>\n",
              "      <th id=\"T_006bc_level0_row13\" class=\"row_heading level0 row13\" >13</th>\n",
              "      <td id=\"T_006bc_row13_col0\" class=\"data row13 col0\" >Fold Number</td>\n",
              "      <td id=\"T_006bc_row13_col1\" class=\"data row13 col1\" >10</td>\n",
              "    </tr>\n",
              "    <tr>\n",
              "      <th id=\"T_006bc_level0_row14\" class=\"row_heading level0 row14\" >14</th>\n",
              "      <td id=\"T_006bc_row14_col0\" class=\"data row14 col0\" >CPU Jobs</td>\n",
              "      <td id=\"T_006bc_row14_col1\" class=\"data row14 col1\" >-1</td>\n",
              "    </tr>\n",
              "    <tr>\n",
              "      <th id=\"T_006bc_level0_row15\" class=\"row_heading level0 row15\" >15</th>\n",
              "      <td id=\"T_006bc_row15_col0\" class=\"data row15 col0\" >Use GPU</td>\n",
              "      <td id=\"T_006bc_row15_col1\" class=\"data row15 col1\" >False</td>\n",
              "    </tr>\n",
              "    <tr>\n",
              "      <th id=\"T_006bc_level0_row16\" class=\"row_heading level0 row16\" >16</th>\n",
              "      <td id=\"T_006bc_row16_col0\" class=\"data row16 col0\" >Log Experiment</td>\n",
              "      <td id=\"T_006bc_row16_col1\" class=\"data row16 col1\" >False</td>\n",
              "    </tr>\n",
              "    <tr>\n",
              "      <th id=\"T_006bc_level0_row17\" class=\"row_heading level0 row17\" >17</th>\n",
              "      <td id=\"T_006bc_row17_col0\" class=\"data row17 col0\" >Experiment Name</td>\n",
              "      <td id=\"T_006bc_row17_col1\" class=\"data row17 col1\" >reg-default-name</td>\n",
              "    </tr>\n",
              "    <tr>\n",
              "      <th id=\"T_006bc_level0_row18\" class=\"row_heading level0 row18\" >18</th>\n",
              "      <td id=\"T_006bc_row18_col0\" class=\"data row18 col0\" >USI</td>\n",
              "      <td id=\"T_006bc_row18_col1\" class=\"data row18 col1\" >8cfd</td>\n",
              "    </tr>\n",
              "  </tbody>\n",
              "</table>\n"
            ]
          },
          "metadata": {}
        }
      ]
    },
    {
      "cell_type": "code",
      "source": [
        "from pycaret.regression import RegressionExperiment\n",
        "regression_experiment = RegressionExperiment()"
      ],
      "metadata": {
        "id": "Rjx50sKHZFH1"
      },
      "id": "Rjx50sKHZFH1",
      "execution_count": null,
      "outputs": []
    },
    {
      "cell_type": "code",
      "source": [
        "regression_experiment.setup(housing_data, target = 'House_Price', session_id = 987)"
      ],
      "metadata": {
        "colab": {
          "base_uri": "https://localhost:8080/",
          "height": 663
        },
        "id": "DKw_GnipZJhd",
        "outputId": "1fa47bb8-33d3-4b26-c409-12a274d4e637"
      },
      "id": "DKw_GnipZJhd",
      "execution_count": null,
      "outputs": [
        {
          "output_type": "display_data",
          "data": {
            "text/plain": [
              "<pandas.io.formats.style.Styler at 0x7aa2e599b010>"
            ],
            "text/html": [
              "<style type=\"text/css\">\n",
              "#T_7da10_row8_col1 {\n",
              "  background-color: lightgreen;\n",
              "}\n",
              "</style>\n",
              "<table id=\"T_7da10\" class=\"dataframe\">\n",
              "  <thead>\n",
              "    <tr>\n",
              "      <th class=\"blank level0\" >&nbsp;</th>\n",
              "      <th id=\"T_7da10_level0_col0\" class=\"col_heading level0 col0\" >Description</th>\n",
              "      <th id=\"T_7da10_level0_col1\" class=\"col_heading level0 col1\" >Value</th>\n",
              "    </tr>\n",
              "  </thead>\n",
              "  <tbody>\n",
              "    <tr>\n",
              "      <th id=\"T_7da10_level0_row0\" class=\"row_heading level0 row0\" >0</th>\n",
              "      <td id=\"T_7da10_row0_col0\" class=\"data row0 col0\" >Session id</td>\n",
              "      <td id=\"T_7da10_row0_col1\" class=\"data row0 col1\" >987</td>\n",
              "    </tr>\n",
              "    <tr>\n",
              "      <th id=\"T_7da10_level0_row1\" class=\"row_heading level0 row1\" >1</th>\n",
              "      <td id=\"T_7da10_row1_col0\" class=\"data row1 col0\" >Target</td>\n",
              "      <td id=\"T_7da10_row1_col1\" class=\"data row1 col1\" >House_Price</td>\n",
              "    </tr>\n",
              "    <tr>\n",
              "      <th id=\"T_7da10_level0_row2\" class=\"row_heading level0 row2\" >2</th>\n",
              "      <td id=\"T_7da10_row2_col0\" class=\"data row2 col0\" >Target type</td>\n",
              "      <td id=\"T_7da10_row2_col1\" class=\"data row2 col1\" >Regression</td>\n",
              "    </tr>\n",
              "    <tr>\n",
              "      <th id=\"T_7da10_level0_row3\" class=\"row_heading level0 row3\" >3</th>\n",
              "      <td id=\"T_7da10_row3_col0\" class=\"data row3 col0\" >Original data shape</td>\n",
              "      <td id=\"T_7da10_row3_col1\" class=\"data row3 col1\" >(1000, 8)</td>\n",
              "    </tr>\n",
              "    <tr>\n",
              "      <th id=\"T_7da10_level0_row4\" class=\"row_heading level0 row4\" >4</th>\n",
              "      <td id=\"T_7da10_row4_col0\" class=\"data row4 col0\" >Transformed data shape</td>\n",
              "      <td id=\"T_7da10_row4_col1\" class=\"data row4 col1\" >(1000, 8)</td>\n",
              "    </tr>\n",
              "    <tr>\n",
              "      <th id=\"T_7da10_level0_row5\" class=\"row_heading level0 row5\" >5</th>\n",
              "      <td id=\"T_7da10_row5_col0\" class=\"data row5 col0\" >Transformed train set shape</td>\n",
              "      <td id=\"T_7da10_row5_col1\" class=\"data row5 col1\" >(700, 8)</td>\n",
              "    </tr>\n",
              "    <tr>\n",
              "      <th id=\"T_7da10_level0_row6\" class=\"row_heading level0 row6\" >6</th>\n",
              "      <td id=\"T_7da10_row6_col0\" class=\"data row6 col0\" >Transformed test set shape</td>\n",
              "      <td id=\"T_7da10_row6_col1\" class=\"data row6 col1\" >(300, 8)</td>\n",
              "    </tr>\n",
              "    <tr>\n",
              "      <th id=\"T_7da10_level0_row7\" class=\"row_heading level0 row7\" >7</th>\n",
              "      <td id=\"T_7da10_row7_col0\" class=\"data row7 col0\" >Numeric features</td>\n",
              "      <td id=\"T_7da10_row7_col1\" class=\"data row7 col1\" >7</td>\n",
              "    </tr>\n",
              "    <tr>\n",
              "      <th id=\"T_7da10_level0_row8\" class=\"row_heading level0 row8\" >8</th>\n",
              "      <td id=\"T_7da10_row8_col0\" class=\"data row8 col0\" >Preprocess</td>\n",
              "      <td id=\"T_7da10_row8_col1\" class=\"data row8 col1\" >True</td>\n",
              "    </tr>\n",
              "    <tr>\n",
              "      <th id=\"T_7da10_level0_row9\" class=\"row_heading level0 row9\" >9</th>\n",
              "      <td id=\"T_7da10_row9_col0\" class=\"data row9 col0\" >Imputation type</td>\n",
              "      <td id=\"T_7da10_row9_col1\" class=\"data row9 col1\" >simple</td>\n",
              "    </tr>\n",
              "    <tr>\n",
              "      <th id=\"T_7da10_level0_row10\" class=\"row_heading level0 row10\" >10</th>\n",
              "      <td id=\"T_7da10_row10_col0\" class=\"data row10 col0\" >Numeric imputation</td>\n",
              "      <td id=\"T_7da10_row10_col1\" class=\"data row10 col1\" >mean</td>\n",
              "    </tr>\n",
              "    <tr>\n",
              "      <th id=\"T_7da10_level0_row11\" class=\"row_heading level0 row11\" >11</th>\n",
              "      <td id=\"T_7da10_row11_col0\" class=\"data row11 col0\" >Categorical imputation</td>\n",
              "      <td id=\"T_7da10_row11_col1\" class=\"data row11 col1\" >mode</td>\n",
              "    </tr>\n",
              "    <tr>\n",
              "      <th id=\"T_7da10_level0_row12\" class=\"row_heading level0 row12\" >12</th>\n",
              "      <td id=\"T_7da10_row12_col0\" class=\"data row12 col0\" >Fold Generator</td>\n",
              "      <td id=\"T_7da10_row12_col1\" class=\"data row12 col1\" >KFold</td>\n",
              "    </tr>\n",
              "    <tr>\n",
              "      <th id=\"T_7da10_level0_row13\" class=\"row_heading level0 row13\" >13</th>\n",
              "      <td id=\"T_7da10_row13_col0\" class=\"data row13 col0\" >Fold Number</td>\n",
              "      <td id=\"T_7da10_row13_col1\" class=\"data row13 col1\" >10</td>\n",
              "    </tr>\n",
              "    <tr>\n",
              "      <th id=\"T_7da10_level0_row14\" class=\"row_heading level0 row14\" >14</th>\n",
              "      <td id=\"T_7da10_row14_col0\" class=\"data row14 col0\" >CPU Jobs</td>\n",
              "      <td id=\"T_7da10_row14_col1\" class=\"data row14 col1\" >-1</td>\n",
              "    </tr>\n",
              "    <tr>\n",
              "      <th id=\"T_7da10_level0_row15\" class=\"row_heading level0 row15\" >15</th>\n",
              "      <td id=\"T_7da10_row15_col0\" class=\"data row15 col0\" >Use GPU</td>\n",
              "      <td id=\"T_7da10_row15_col1\" class=\"data row15 col1\" >False</td>\n",
              "    </tr>\n",
              "    <tr>\n",
              "      <th id=\"T_7da10_level0_row16\" class=\"row_heading level0 row16\" >16</th>\n",
              "      <td id=\"T_7da10_row16_col0\" class=\"data row16 col0\" >Log Experiment</td>\n",
              "      <td id=\"T_7da10_row16_col1\" class=\"data row16 col1\" >False</td>\n",
              "    </tr>\n",
              "    <tr>\n",
              "      <th id=\"T_7da10_level0_row17\" class=\"row_heading level0 row17\" >17</th>\n",
              "      <td id=\"T_7da10_row17_col0\" class=\"data row17 col0\" >Experiment Name</td>\n",
              "      <td id=\"T_7da10_row17_col1\" class=\"data row17 col1\" >reg-default-name</td>\n",
              "    </tr>\n",
              "    <tr>\n",
              "      <th id=\"T_7da10_level0_row18\" class=\"row_heading level0 row18\" >18</th>\n",
              "      <td id=\"T_7da10_row18_col0\" class=\"data row18 col0\" >USI</td>\n",
              "      <td id=\"T_7da10_row18_col1\" class=\"data row18 col1\" >75e1</td>\n",
              "    </tr>\n",
              "  </tbody>\n",
              "</table>\n"
            ]
          },
          "metadata": {}
        },
        {
          "output_type": "execute_result",
          "data": {
            "text/plain": [
              "<pycaret.regression.oop.RegressionExperiment at 0x7aa33c4babc0>"
            ]
          },
          "metadata": {},
          "execution_count": 6
        }
      ]
    },
    {
      "cell_type": "code",
      "source": [
        "top_model = compare_models()"
      ],
      "metadata": {
        "colab": {
          "base_uri": "https://localhost:8080/",
          "height": 677,
          "referenced_widgets": [
            "c6d3fb635c50494d9469eee978b48741",
            "d2cb86d459ac47ca895e21c7958c1030",
            "cccaeb681168499caaf4a76b8ebf3f7e",
            "f6a5262bc86c4e4980333eb3371f8786",
            "c7edcb35cbd04539b75903566fffbb3b",
            "5955e0f9c4a44956ab3f17476311daef",
            "a847269bade8486ba15c87701eff31ad",
            "7f445a9b9e104ac08bdf5197ccbb7ec5",
            "963f50e8247f41a2bc441231ddceb0ef",
            "15b56ef24771499cbff3def6d78b9674",
            "bbde2636b8eb421aa6ccededf2b6219a"
          ]
        },
        "id": "oQ-uSmVqZKO-",
        "outputId": "e0ae8061-c3a6-4b90-cd38-4cefd8c83115"
      },
      "id": "oQ-uSmVqZKO-",
      "execution_count": null,
      "outputs": [
        {
          "output_type": "display_data",
          "data": {
            "text/plain": [
              "<IPython.core.display.HTML object>"
            ],
            "text/html": []
          },
          "metadata": {}
        },
        {
          "output_type": "display_data",
          "data": {
            "text/plain": [
              "<pandas.io.formats.style.Styler at 0x7aa2e57ce080>"
            ],
            "text/html": [
              "<style type=\"text/css\">\n",
              "#T_1fdf9 th {\n",
              "  text-align: left;\n",
              "}\n",
              "#T_1fdf9_row0_col0, #T_1fdf9_row0_col2, #T_1fdf9_row1_col0, #T_1fdf9_row1_col1, #T_1fdf9_row1_col2, #T_1fdf9_row1_col3, #T_1fdf9_row2_col0, #T_1fdf9_row2_col1, #T_1fdf9_row2_col3, #T_1fdf9_row3_col0, #T_1fdf9_row3_col2, #T_1fdf9_row4_col0, #T_1fdf9_row4_col1, #T_1fdf9_row4_col2, #T_1fdf9_row4_col3, #T_1fdf9_row5_col0, #T_1fdf9_row5_col1, #T_1fdf9_row5_col2, #T_1fdf9_row5_col3, #T_1fdf9_row6_col0, #T_1fdf9_row6_col1, #T_1fdf9_row6_col2, #T_1fdf9_row6_col3, #T_1fdf9_row6_col4, #T_1fdf9_row6_col5, #T_1fdf9_row6_col6, #T_1fdf9_row7_col0, #T_1fdf9_row7_col1, #T_1fdf9_row7_col2, #T_1fdf9_row7_col3, #T_1fdf9_row7_col4, #T_1fdf9_row7_col5, #T_1fdf9_row7_col6, #T_1fdf9_row8_col0, #T_1fdf9_row8_col1, #T_1fdf9_row8_col2, #T_1fdf9_row8_col3, #T_1fdf9_row8_col4, #T_1fdf9_row8_col5, #T_1fdf9_row8_col6, #T_1fdf9_row9_col0, #T_1fdf9_row9_col1, #T_1fdf9_row9_col2, #T_1fdf9_row9_col3, #T_1fdf9_row9_col4, #T_1fdf9_row9_col5, #T_1fdf9_row9_col6, #T_1fdf9_row10_col0, #T_1fdf9_row10_col1, #T_1fdf9_row10_col2, #T_1fdf9_row10_col3, #T_1fdf9_row10_col4, #T_1fdf9_row10_col5, #T_1fdf9_row10_col6, #T_1fdf9_row11_col0, #T_1fdf9_row11_col1, #T_1fdf9_row11_col2, #T_1fdf9_row11_col3, #T_1fdf9_row11_col4, #T_1fdf9_row11_col5, #T_1fdf9_row11_col6, #T_1fdf9_row12_col0, #T_1fdf9_row12_col1, #T_1fdf9_row12_col2, #T_1fdf9_row12_col3, #T_1fdf9_row12_col4, #T_1fdf9_row12_col5, #T_1fdf9_row12_col6, #T_1fdf9_row13_col0, #T_1fdf9_row13_col1, #T_1fdf9_row13_col2, #T_1fdf9_row13_col3, #T_1fdf9_row13_col4, #T_1fdf9_row13_col5, #T_1fdf9_row13_col6, #T_1fdf9_row14_col0, #T_1fdf9_row14_col1, #T_1fdf9_row14_col2, #T_1fdf9_row14_col3, #T_1fdf9_row14_col4, #T_1fdf9_row14_col5, #T_1fdf9_row14_col6, #T_1fdf9_row15_col0, #T_1fdf9_row15_col1, #T_1fdf9_row15_col2, #T_1fdf9_row15_col3, #T_1fdf9_row15_col4, #T_1fdf9_row15_col5, #T_1fdf9_row15_col6, #T_1fdf9_row16_col0, #T_1fdf9_row16_col1, #T_1fdf9_row16_col2, #T_1fdf9_row16_col3, #T_1fdf9_row16_col4, #T_1fdf9_row16_col5, #T_1fdf9_row16_col6, #T_1fdf9_row17_col0, #T_1fdf9_row17_col1, #T_1fdf9_row17_col2, #T_1fdf9_row17_col3, #T_1fdf9_row17_col4, #T_1fdf9_row17_col5, #T_1fdf9_row17_col6, #T_1fdf9_row18_col0, #T_1fdf9_row18_col1, #T_1fdf9_row18_col2, #T_1fdf9_row18_col3, #T_1fdf9_row18_col4, #T_1fdf9_row18_col5, #T_1fdf9_row18_col6, #T_1fdf9_row19_col0, #T_1fdf9_row19_col1, #T_1fdf9_row19_col2, #T_1fdf9_row19_col3, #T_1fdf9_row19_col4, #T_1fdf9_row19_col5, #T_1fdf9_row19_col6 {\n",
              "  text-align: left;\n",
              "}\n",
              "#T_1fdf9_row0_col1, #T_1fdf9_row0_col3, #T_1fdf9_row0_col4, #T_1fdf9_row0_col5, #T_1fdf9_row0_col6, #T_1fdf9_row1_col4, #T_1fdf9_row1_col5, #T_1fdf9_row1_col6, #T_1fdf9_row2_col2, #T_1fdf9_row2_col4, #T_1fdf9_row2_col5, #T_1fdf9_row2_col6, #T_1fdf9_row3_col1, #T_1fdf9_row3_col3, #T_1fdf9_row3_col4, #T_1fdf9_row3_col5, #T_1fdf9_row3_col6, #T_1fdf9_row4_col4, #T_1fdf9_row4_col5, #T_1fdf9_row4_col6, #T_1fdf9_row5_col4, #T_1fdf9_row5_col5, #T_1fdf9_row5_col6 {\n",
              "  text-align: left;\n",
              "  background-color: yellow;\n",
              "}\n",
              "#T_1fdf9_row0_col7, #T_1fdf9_row2_col7, #T_1fdf9_row3_col7, #T_1fdf9_row4_col7, #T_1fdf9_row5_col7, #T_1fdf9_row6_col7, #T_1fdf9_row7_col7, #T_1fdf9_row8_col7, #T_1fdf9_row9_col7, #T_1fdf9_row10_col7, #T_1fdf9_row11_col7, #T_1fdf9_row12_col7, #T_1fdf9_row13_col7, #T_1fdf9_row14_col7, #T_1fdf9_row15_col7, #T_1fdf9_row16_col7, #T_1fdf9_row17_col7, #T_1fdf9_row19_col7 {\n",
              "  text-align: left;\n",
              "  background-color: lightgrey;\n",
              "}\n",
              "#T_1fdf9_row1_col7, #T_1fdf9_row18_col7 {\n",
              "  text-align: left;\n",
              "  background-color: yellow;\n",
              "  background-color: lightgrey;\n",
              "}\n",
              "</style>\n",
              "<table id=\"T_1fdf9\" class=\"dataframe\">\n",
              "  <thead>\n",
              "    <tr>\n",
              "      <th class=\"blank level0\" >&nbsp;</th>\n",
              "      <th id=\"T_1fdf9_level0_col0\" class=\"col_heading level0 col0\" >Model</th>\n",
              "      <th id=\"T_1fdf9_level0_col1\" class=\"col_heading level0 col1\" >MAE</th>\n",
              "      <th id=\"T_1fdf9_level0_col2\" class=\"col_heading level0 col2\" >MSE</th>\n",
              "      <th id=\"T_1fdf9_level0_col3\" class=\"col_heading level0 col3\" >RMSE</th>\n",
              "      <th id=\"T_1fdf9_level0_col4\" class=\"col_heading level0 col4\" >R2</th>\n",
              "      <th id=\"T_1fdf9_level0_col5\" class=\"col_heading level0 col5\" >RMSLE</th>\n",
              "      <th id=\"T_1fdf9_level0_col6\" class=\"col_heading level0 col6\" >MAPE</th>\n",
              "      <th id=\"T_1fdf9_level0_col7\" class=\"col_heading level0 col7\" >TT (Sec)</th>\n",
              "    </tr>\n",
              "  </thead>\n",
              "  <tbody>\n",
              "    <tr>\n",
              "      <th id=\"T_1fdf9_level0_row0\" class=\"row_heading level0 row0\" >lr</th>\n",
              "      <td id=\"T_1fdf9_row0_col0\" class=\"data row0 col0\" >Linear Regression</td>\n",
              "      <td id=\"T_1fdf9_row0_col1\" class=\"data row0 col1\" >7863.4802</td>\n",
              "      <td id=\"T_1fdf9_row0_col2\" class=\"data row0 col2\" >97946039.9769</td>\n",
              "      <td id=\"T_1fdf9_row0_col3\" class=\"data row0 col3\" >9866.9436</td>\n",
              "      <td id=\"T_1fdf9_row0_col4\" class=\"data row0 col4\" >0.9984</td>\n",
              "      <td id=\"T_1fdf9_row0_col5\" class=\"data row0 col5\" >0.0229</td>\n",
              "      <td id=\"T_1fdf9_row0_col6\" class=\"data row0 col6\" >0.0159</td>\n",
              "      <td id=\"T_1fdf9_row0_col7\" class=\"data row0 col7\" >0.7740</td>\n",
              "    </tr>\n",
              "    <tr>\n",
              "      <th id=\"T_1fdf9_level0_row1\" class=\"row_heading level0 row1\" >lasso</th>\n",
              "      <td id=\"T_1fdf9_row1_col0\" class=\"data row1 col0\" >Lasso Regression</td>\n",
              "      <td id=\"T_1fdf9_row1_col1\" class=\"data row1 col1\" >7863.4962</td>\n",
              "      <td id=\"T_1fdf9_row1_col2\" class=\"data row1 col2\" >97945993.5143</td>\n",
              "      <td id=\"T_1fdf9_row1_col3\" class=\"data row1 col3\" >9866.9506</td>\n",
              "      <td id=\"T_1fdf9_row1_col4\" class=\"data row1 col4\" >0.9984</td>\n",
              "      <td id=\"T_1fdf9_row1_col5\" class=\"data row1 col5\" >0.0229</td>\n",
              "      <td id=\"T_1fdf9_row1_col6\" class=\"data row1 col6\" >0.0159</td>\n",
              "      <td id=\"T_1fdf9_row1_col7\" class=\"data row1 col7\" >0.0230</td>\n",
              "    </tr>\n",
              "    <tr>\n",
              "      <th id=\"T_1fdf9_level0_row2\" class=\"row_heading level0 row2\" >ridge</th>\n",
              "      <td id=\"T_1fdf9_row2_col0\" class=\"data row2 col0\" >Ridge Regression</td>\n",
              "      <td id=\"T_1fdf9_row2_col1\" class=\"data row2 col1\" >7863.5986</td>\n",
              "      <td id=\"T_1fdf9_row2_col2\" class=\"data row2 col2\" >97943149.9716</td>\n",
              "      <td id=\"T_1fdf9_row2_col3\" class=\"data row2 col3\" >9866.9628</td>\n",
              "      <td id=\"T_1fdf9_row2_col4\" class=\"data row2 col4\" >0.9984</td>\n",
              "      <td id=\"T_1fdf9_row2_col5\" class=\"data row2 col5\" >0.0229</td>\n",
              "      <td id=\"T_1fdf9_row2_col6\" class=\"data row2 col6\" >0.0159</td>\n",
              "      <td id=\"T_1fdf9_row2_col7\" class=\"data row2 col7\" >0.0250</td>\n",
              "    </tr>\n",
              "    <tr>\n",
              "      <th id=\"T_1fdf9_level0_row3\" class=\"row_heading level0 row3\" >lar</th>\n",
              "      <td id=\"T_1fdf9_row3_col0\" class=\"data row3 col0\" >Least Angle Regression</td>\n",
              "      <td id=\"T_1fdf9_row3_col1\" class=\"data row3 col1\" >7863.4802</td>\n",
              "      <td id=\"T_1fdf9_row3_col2\" class=\"data row3 col2\" >97946039.9769</td>\n",
              "      <td id=\"T_1fdf9_row3_col3\" class=\"data row3 col3\" >9866.9436</td>\n",
              "      <td id=\"T_1fdf9_row3_col4\" class=\"data row3 col4\" >0.9984</td>\n",
              "      <td id=\"T_1fdf9_row3_col5\" class=\"data row3 col5\" >0.0229</td>\n",
              "      <td id=\"T_1fdf9_row3_col6\" class=\"data row3 col6\" >0.0159</td>\n",
              "      <td id=\"T_1fdf9_row3_col7\" class=\"data row3 col7\" >0.0300</td>\n",
              "    </tr>\n",
              "    <tr>\n",
              "      <th id=\"T_1fdf9_level0_row4\" class=\"row_heading level0 row4\" >llar</th>\n",
              "      <td id=\"T_1fdf9_row4_col0\" class=\"data row4 col0\" >Lasso Least Angle Regression</td>\n",
              "      <td id=\"T_1fdf9_row4_col1\" class=\"data row4 col1\" >7863.4961</td>\n",
              "      <td id=\"T_1fdf9_row4_col2\" class=\"data row4 col2\" >97945994.8862</td>\n",
              "      <td id=\"T_1fdf9_row4_col3\" class=\"data row4 col3\" >9866.9507</td>\n",
              "      <td id=\"T_1fdf9_row4_col4\" class=\"data row4 col4\" >0.9984</td>\n",
              "      <td id=\"T_1fdf9_row4_col5\" class=\"data row4 col5\" >0.0229</td>\n",
              "      <td id=\"T_1fdf9_row4_col6\" class=\"data row4 col6\" >0.0159</td>\n",
              "      <td id=\"T_1fdf9_row4_col7\" class=\"data row4 col7\" >0.0370</td>\n",
              "    </tr>\n",
              "    <tr>\n",
              "      <th id=\"T_1fdf9_level0_row5\" class=\"row_heading level0 row5\" >br</th>\n",
              "      <td id=\"T_1fdf9_row5_col0\" class=\"data row5 col0\" >Bayesian Ridge</td>\n",
              "      <td id=\"T_1fdf9_row5_col1\" class=\"data row5 col1\" >7863.9495</td>\n",
              "      <td id=\"T_1fdf9_row5_col2\" class=\"data row5 col2\" >97944308.4349</td>\n",
              "      <td id=\"T_1fdf9_row5_col3\" class=\"data row5 col3\" >9867.1119</td>\n",
              "      <td id=\"T_1fdf9_row5_col4\" class=\"data row5 col4\" >0.9984</td>\n",
              "      <td id=\"T_1fdf9_row5_col5\" class=\"data row5 col5\" >0.0229</td>\n",
              "      <td id=\"T_1fdf9_row5_col6\" class=\"data row5 col6\" >0.0159</td>\n",
              "      <td id=\"T_1fdf9_row5_col7\" class=\"data row5 col7\" >0.0260</td>\n",
              "    </tr>\n",
              "    <tr>\n",
              "      <th id=\"T_1fdf9_level0_row6\" class=\"row_heading level0 row6\" >en</th>\n",
              "      <td id=\"T_1fdf9_row6_col0\" class=\"data row6 col0\" >Elastic Net</td>\n",
              "      <td id=\"T_1fdf9_row6_col1\" class=\"data row6 col1\" >9456.3959</td>\n",
              "      <td id=\"T_1fdf9_row6_col2\" class=\"data row6 col2\" >137781809.9516</td>\n",
              "      <td id=\"T_1fdf9_row6_col3\" class=\"data row6 col3\" >11729.9310</td>\n",
              "      <td id=\"T_1fdf9_row6_col4\" class=\"data row6 col4\" >0.9977</td>\n",
              "      <td id=\"T_1fdf9_row6_col5\" class=\"data row6 col5\" >0.0263</td>\n",
              "      <td id=\"T_1fdf9_row6_col6\" class=\"data row6 col6\" >0.0189</td>\n",
              "      <td id=\"T_1fdf9_row6_col7\" class=\"data row6 col7\" >0.0240</td>\n",
              "    </tr>\n",
              "    <tr>\n",
              "      <th id=\"T_1fdf9_level0_row7\" class=\"row_heading level0 row7\" >catboost</th>\n",
              "      <td id=\"T_1fdf9_row7_col0\" class=\"data row7 col0\" >CatBoost Regressor</td>\n",
              "      <td id=\"T_1fdf9_row7_col1\" class=\"data row7 col1\" >10494.8253</td>\n",
              "      <td id=\"T_1fdf9_row7_col2\" class=\"data row7 col2\" >193302746.5383</td>\n",
              "      <td id=\"T_1fdf9_row7_col3\" class=\"data row7 col3\" >13826.7385</td>\n",
              "      <td id=\"T_1fdf9_row7_col4\" class=\"data row7 col4\" >0.9968</td>\n",
              "      <td id=\"T_1fdf9_row7_col5\" class=\"data row7 col5\" >0.0359</td>\n",
              "      <td id=\"T_1fdf9_row7_col6\" class=\"data row7 col6\" >0.0229</td>\n",
              "      <td id=\"T_1fdf9_row7_col7\" class=\"data row7 col7\" >1.5520</td>\n",
              "    </tr>\n",
              "    <tr>\n",
              "      <th id=\"T_1fdf9_level0_row8\" class=\"row_heading level0 row8\" >gbr</th>\n",
              "      <td id=\"T_1fdf9_row8_col0\" class=\"data row8 col0\" >Gradient Boosting Regressor</td>\n",
              "      <td id=\"T_1fdf9_row8_col1\" class=\"data row8 col1\" >12793.5034</td>\n",
              "      <td id=\"T_1fdf9_row8_col2\" class=\"data row8 col2\" >251392583.3119</td>\n",
              "      <td id=\"T_1fdf9_row8_col3\" class=\"data row8 col3\" >15803.4434</td>\n",
              "      <td id=\"T_1fdf9_row8_col4\" class=\"data row8 col4\" >0.9959</td>\n",
              "      <td id=\"T_1fdf9_row8_col5\" class=\"data row8 col5\" >0.0375</td>\n",
              "      <td id=\"T_1fdf9_row8_col6\" class=\"data row8 col6\" >0.0265</td>\n",
              "      <td id=\"T_1fdf9_row8_col7\" class=\"data row8 col7\" >0.1360</td>\n",
              "    </tr>\n",
              "    <tr>\n",
              "      <th id=\"T_1fdf9_level0_row9\" class=\"row_heading level0 row9\" >lightgbm</th>\n",
              "      <td id=\"T_1fdf9_row9_col0\" class=\"data row9 col0\" >Light Gradient Boosting Machine</td>\n",
              "      <td id=\"T_1fdf9_row9_col1\" class=\"data row9 col1\" >12882.0719</td>\n",
              "      <td id=\"T_1fdf9_row9_col2\" class=\"data row9 col2\" >261340031.0113</td>\n",
              "      <td id=\"T_1fdf9_row9_col3\" class=\"data row9 col3\" >16101.5718</td>\n",
              "      <td id=\"T_1fdf9_row9_col4\" class=\"data row9 col4\" >0.9957</td>\n",
              "      <td id=\"T_1fdf9_row9_col5\" class=\"data row9 col5\" >0.0393</td>\n",
              "      <td id=\"T_1fdf9_row9_col6\" class=\"data row9 col6\" >0.0269</td>\n",
              "      <td id=\"T_1fdf9_row9_col7\" class=\"data row9 col7\" >0.2930</td>\n",
              "    </tr>\n",
              "    <tr>\n",
              "      <th id=\"T_1fdf9_level0_row10\" class=\"row_heading level0 row10\" >xgboost</th>\n",
              "      <td id=\"T_1fdf9_row10_col0\" class=\"data row10 col0\" >Extreme Gradient Boosting</td>\n",
              "      <td id=\"T_1fdf9_row10_col1\" class=\"data row10 col1\" >14822.8016</td>\n",
              "      <td id=\"T_1fdf9_row10_col2\" class=\"data row10 col2\" >346227777.6000</td>\n",
              "      <td id=\"T_1fdf9_row10_col3\" class=\"data row10 col3\" >18524.6110</td>\n",
              "      <td id=\"T_1fdf9_row10_col4\" class=\"data row10 col4\" >0.9943</td>\n",
              "      <td id=\"T_1fdf9_row10_col5\" class=\"data row10 col5\" >0.0429</td>\n",
              "      <td id=\"T_1fdf9_row10_col6\" class=\"data row10 col6\" >0.0305</td>\n",
              "      <td id=\"T_1fdf9_row10_col7\" class=\"data row10 col7\" >0.1160</td>\n",
              "    </tr>\n",
              "    <tr>\n",
              "      <th id=\"T_1fdf9_level0_row11\" class=\"row_heading level0 row11\" >et</th>\n",
              "      <td id=\"T_1fdf9_row11_col0\" class=\"data row11 col0\" >Extra Trees Regressor</td>\n",
              "      <td id=\"T_1fdf9_row11_col1\" class=\"data row11 col1\" >15938.6303</td>\n",
              "      <td id=\"T_1fdf9_row11_col2\" class=\"data row11 col2\" >392571448.8898</td>\n",
              "      <td id=\"T_1fdf9_row11_col3\" class=\"data row11 col3\" >19698.1404</td>\n",
              "      <td id=\"T_1fdf9_row11_col4\" class=\"data row11 col4\" >0.9936</td>\n",
              "      <td id=\"T_1fdf9_row11_col5\" class=\"data row11 col5\" >0.0446</td>\n",
              "      <td id=\"T_1fdf9_row11_col6\" class=\"data row11 col6\" >0.0322</td>\n",
              "      <td id=\"T_1fdf9_row11_col7\" class=\"data row11 col7\" >0.2960</td>\n",
              "    </tr>\n",
              "    <tr>\n",
              "      <th id=\"T_1fdf9_level0_row12\" class=\"row_heading level0 row12\" >rf</th>\n",
              "      <td id=\"T_1fdf9_row12_col0\" class=\"data row12 col0\" >Random Forest Regressor</td>\n",
              "      <td id=\"T_1fdf9_row12_col1\" class=\"data row12 col1\" >17488.0088</td>\n",
              "      <td id=\"T_1fdf9_row12_col2\" class=\"data row12 col2\" >475359776.9296</td>\n",
              "      <td id=\"T_1fdf9_row12_col3\" class=\"data row12 col3\" >21756.4911</td>\n",
              "      <td id=\"T_1fdf9_row12_col4\" class=\"data row12 col4\" >0.9922</td>\n",
              "      <td id=\"T_1fdf9_row12_col5\" class=\"data row12 col5\" >0.0516</td>\n",
              "      <td id=\"T_1fdf9_row12_col6\" class=\"data row12 col6\" >0.0360</td>\n",
              "      <td id=\"T_1fdf9_row12_col7\" class=\"data row12 col7\" >0.5410</td>\n",
              "    </tr>\n",
              "    <tr>\n",
              "      <th id=\"T_1fdf9_level0_row13\" class=\"row_heading level0 row13\" >huber</th>\n",
              "      <td id=\"T_1fdf9_row13_col0\" class=\"data row13 col0\" >Huber Regressor</td>\n",
              "      <td id=\"T_1fdf9_row13_col1\" class=\"data row13 col1\" >20036.1106</td>\n",
              "      <td id=\"T_1fdf9_row13_col2\" class=\"data row13 col2\" >588639917.4293</td>\n",
              "      <td id=\"T_1fdf9_row13_col3\" class=\"data row13 col3\" >23920.9575</td>\n",
              "      <td id=\"T_1fdf9_row13_col4\" class=\"data row13 col4\" >0.9904</td>\n",
              "      <td id=\"T_1fdf9_row13_col5\" class=\"data row13 col5\" >0.0564</td>\n",
              "      <td id=\"T_1fdf9_row13_col6\" class=\"data row13 col6\" >0.0411</td>\n",
              "      <td id=\"T_1fdf9_row13_col7\" class=\"data row13 col7\" >0.0610</td>\n",
              "    </tr>\n",
              "    <tr>\n",
              "      <th id=\"T_1fdf9_level0_row14\" class=\"row_heading level0 row14\" >dt</th>\n",
              "      <td id=\"T_1fdf9_row14_col0\" class=\"data row14 col0\" >Decision Tree Regressor</td>\n",
              "      <td id=\"T_1fdf9_row14_col1\" class=\"data row14 col1\" >25535.1449</td>\n",
              "      <td id=\"T_1fdf9_row14_col2\" class=\"data row14 col2\" >1031451523.4071</td>\n",
              "      <td id=\"T_1fdf9_row14_col3\" class=\"data row14 col3\" >32007.7345</td>\n",
              "      <td id=\"T_1fdf9_row14_col4\" class=\"data row14 col4\" >0.9833</td>\n",
              "      <td id=\"T_1fdf9_row14_col5\" class=\"data row14 col5\" >0.0723</td>\n",
              "      <td id=\"T_1fdf9_row14_col6\" class=\"data row14 col6\" >0.0517</td>\n",
              "      <td id=\"T_1fdf9_row14_col7\" class=\"data row14 col7\" >0.0260</td>\n",
              "    </tr>\n",
              "    <tr>\n",
              "      <th id=\"T_1fdf9_level0_row15\" class=\"row_heading level0 row15\" >ada</th>\n",
              "      <td id=\"T_1fdf9_row15_col0\" class=\"data row15 col0\" >AdaBoost Regressor</td>\n",
              "      <td id=\"T_1fdf9_row15_col1\" class=\"data row15 col1\" >25946.6896</td>\n",
              "      <td id=\"T_1fdf9_row15_col2\" class=\"data row15 col2\" >1022392473.4266</td>\n",
              "      <td id=\"T_1fdf9_row15_col3\" class=\"data row15 col3\" >31886.1135</td>\n",
              "      <td id=\"T_1fdf9_row15_col4\" class=\"data row15 col4\" >0.9832</td>\n",
              "      <td id=\"T_1fdf9_row15_col5\" class=\"data row15 col5\" >0.0773</td>\n",
              "      <td id=\"T_1fdf9_row15_col6\" class=\"data row15 col6\" >0.0543</td>\n",
              "      <td id=\"T_1fdf9_row15_col7\" class=\"data row15 col7\" >0.1280</td>\n",
              "    </tr>\n",
              "    <tr>\n",
              "      <th id=\"T_1fdf9_level0_row16\" class=\"row_heading level0 row16\" >knn</th>\n",
              "      <td id=\"T_1fdf9_row16_col0\" class=\"data row16 col0\" >K Neighbors Regressor</td>\n",
              "      <td id=\"T_1fdf9_row16_col1\" class=\"data row16 col1\" >26182.5787</td>\n",
              "      <td id=\"T_1fdf9_row16_col2\" class=\"data row16 col2\" >1055036025.6000</td>\n",
              "      <td id=\"T_1fdf9_row16_col3\" class=\"data row16 col3\" >32424.4475</td>\n",
              "      <td id=\"T_1fdf9_row16_col4\" class=\"data row16 col4\" >0.9827</td>\n",
              "      <td id=\"T_1fdf9_row16_col5\" class=\"data row16 col5\" >0.0723</td>\n",
              "      <td id=\"T_1fdf9_row16_col6\" class=\"data row16 col6\" >0.0523</td>\n",
              "      <td id=\"T_1fdf9_row16_col7\" class=\"data row16 col7\" >0.0340</td>\n",
              "    </tr>\n",
              "    <tr>\n",
              "      <th id=\"T_1fdf9_level0_row17\" class=\"row_heading level0 row17\" >omp</th>\n",
              "      <td id=\"T_1fdf9_row17_col0\" class=\"data row17 col0\" >Orthogonal Matching Pursuit</td>\n",
              "      <td id=\"T_1fdf9_row17_col1\" class=\"data row17 col1\" >26620.7428</td>\n",
              "      <td id=\"T_1fdf9_row17_col2\" class=\"data row17 col2\" >1082619224.2718</td>\n",
              "      <td id=\"T_1fdf9_row17_col3\" class=\"data row17 col3\" >32777.9858</td>\n",
              "      <td id=\"T_1fdf9_row17_col4\" class=\"data row17 col4\" >0.9822</td>\n",
              "      <td id=\"T_1fdf9_row17_col5\" class=\"data row17 col5\" >0.0774</td>\n",
              "      <td id=\"T_1fdf9_row17_col6\" class=\"data row17 col6\" >0.0548</td>\n",
              "      <td id=\"T_1fdf9_row17_col7\" class=\"data row17 col7\" >0.0240</td>\n",
              "    </tr>\n",
              "    <tr>\n",
              "      <th id=\"T_1fdf9_level0_row18\" class=\"row_heading level0 row18\" >par</th>\n",
              "      <td id=\"T_1fdf9_row18_col0\" class=\"data row18 col0\" >Passive Aggressive Regressor</td>\n",
              "      <td id=\"T_1fdf9_row18_col1\" class=\"data row18 col1\" >54905.3935</td>\n",
              "      <td id=\"T_1fdf9_row18_col2\" class=\"data row18 col2\" >4278085826.7516</td>\n",
              "      <td id=\"T_1fdf9_row18_col3\" class=\"data row18 col3\" >63790.0197</td>\n",
              "      <td id=\"T_1fdf9_row18_col4\" class=\"data row18 col4\" >0.9302</td>\n",
              "      <td id=\"T_1fdf9_row18_col5\" class=\"data row18 col5\" >0.1249</td>\n",
              "      <td id=\"T_1fdf9_row18_col6\" class=\"data row18 col6\" >0.0986</td>\n",
              "      <td id=\"T_1fdf9_row18_col7\" class=\"data row18 col7\" >0.0230</td>\n",
              "    </tr>\n",
              "    <tr>\n",
              "      <th id=\"T_1fdf9_level0_row19\" class=\"row_heading level0 row19\" >dummy</th>\n",
              "      <td id=\"T_1fdf9_row19_col0\" class=\"data row19 col0\" >Dummy Regressor</td>\n",
              "      <td id=\"T_1fdf9_row19_col1\" class=\"data row19 col1\" >216911.5594</td>\n",
              "      <td id=\"T_1fdf9_row19_col2\" class=\"data row19 col2\" >63255485644.8000</td>\n",
              "      <td id=\"T_1fdf9_row19_col3\" class=\"data row19 col3\" >250987.2250</td>\n",
              "      <td id=\"T_1fdf9_row19_col4\" class=\"data row19 col4\" >-0.0227</td>\n",
              "      <td id=\"T_1fdf9_row19_col5\" class=\"data row19 col5\" >0.4989</td>\n",
              "      <td id=\"T_1fdf9_row19_col6\" class=\"data row19 col6\" >0.5160</td>\n",
              "      <td id=\"T_1fdf9_row19_col7\" class=\"data row19 col7\" >0.0290</td>\n",
              "    </tr>\n",
              "  </tbody>\n",
              "</table>\n"
            ]
          },
          "metadata": {}
        },
        {
          "output_type": "display_data",
          "data": {
            "text/plain": [
              "Processing:   0%|          | 0/85 [00:00<?, ?it/s]"
            ],
            "application/vnd.jupyter.widget-view+json": {
              "version_major": 2,
              "version_minor": 0,
              "model_id": "c6d3fb635c50494d9469eee978b48741"
            }
          },
          "metadata": {
            "application/vnd.jupyter.widget-view+json": {
              "colab": {
                "custom_widget_manager": {
                  "url": "https://ssl.gstatic.com/colaboratory-static/widgets/colab-cdn-widget-manager/2b70e893a8ba7c0f/manager.min.js"
                }
              }
            }
          }
        },
        {
          "output_type": "display_data",
          "data": {
            "text/plain": [
              "<IPython.core.display.HTML object>"
            ],
            "text/html": []
          },
          "metadata": {}
        }
      ]
    },
    {
      "cell_type": "code",
      "source": [
        "regressor = create_model('catboost')"
      ],
      "metadata": {
        "colab": {
          "base_uri": "https://localhost:8080/",
          "height": 457,
          "referenced_widgets": [
            "a0e0f96276f441c890d34533d5004305",
            "81c261638ac04427bfcabad1d1af384c",
            "a668ba7f7ae04ff88209c114d91aee2d",
            "900b596a186943c8ace7a53378a66550",
            "ea16ea7c12ea4372b6503f29dd057521",
            "2a90ba1894b3421a977b1b6602c706a2",
            "6de9a34a925a4208bc0e5622304d8d08",
            "13e4ff11416543f0941846bbe6bcdebc",
            "c4e66079c798430f80b5a531a0325f4d",
            "774e99d40ed3434189160a04ecbfa5cf",
            "32af936f5fda4d23811b098f9bf4b31f"
          ]
        },
        "id": "jmrz7eVoZLBT",
        "outputId": "a9754635-ee92-4d4a-a0aa-7cc456fb83e8"
      },
      "id": "jmrz7eVoZLBT",
      "execution_count": null,
      "outputs": [
        {
          "output_type": "display_data",
          "data": {
            "text/plain": [
              "<IPython.core.display.HTML object>"
            ],
            "text/html": []
          },
          "metadata": {}
        },
        {
          "output_type": "display_data",
          "data": {
            "text/plain": [
              "<pandas.io.formats.style.Styler at 0x7aa2e5156260>"
            ],
            "text/html": [
              "<style type=\"text/css\">\n",
              "#T_e3223_row10_col0, #T_e3223_row10_col1, #T_e3223_row10_col2, #T_e3223_row10_col3, #T_e3223_row10_col4, #T_e3223_row10_col5 {\n",
              "  background: yellow;\n",
              "}\n",
              "</style>\n",
              "<table id=\"T_e3223\" class=\"dataframe\">\n",
              "  <thead>\n",
              "    <tr>\n",
              "      <th class=\"blank level0\" >&nbsp;</th>\n",
              "      <th id=\"T_e3223_level0_col0\" class=\"col_heading level0 col0\" >MAE</th>\n",
              "      <th id=\"T_e3223_level0_col1\" class=\"col_heading level0 col1\" >MSE</th>\n",
              "      <th id=\"T_e3223_level0_col2\" class=\"col_heading level0 col2\" >RMSE</th>\n",
              "      <th id=\"T_e3223_level0_col3\" class=\"col_heading level0 col3\" >R2</th>\n",
              "      <th id=\"T_e3223_level0_col4\" class=\"col_heading level0 col4\" >RMSLE</th>\n",
              "      <th id=\"T_e3223_level0_col5\" class=\"col_heading level0 col5\" >MAPE</th>\n",
              "    </tr>\n",
              "    <tr>\n",
              "      <th class=\"index_name level0\" >Fold</th>\n",
              "      <th class=\"blank col0\" >&nbsp;</th>\n",
              "      <th class=\"blank col1\" >&nbsp;</th>\n",
              "      <th class=\"blank col2\" >&nbsp;</th>\n",
              "      <th class=\"blank col3\" >&nbsp;</th>\n",
              "      <th class=\"blank col4\" >&nbsp;</th>\n",
              "      <th class=\"blank col5\" >&nbsp;</th>\n",
              "    </tr>\n",
              "  </thead>\n",
              "  <tbody>\n",
              "    <tr>\n",
              "      <th id=\"T_e3223_level0_row0\" class=\"row_heading level0 row0\" >0</th>\n",
              "      <td id=\"T_e3223_row0_col0\" class=\"data row0 col0\" >11475.7576</td>\n",
              "      <td id=\"T_e3223_row0_col1\" class=\"data row0 col1\" >238033280.8644</td>\n",
              "      <td id=\"T_e3223_row0_col2\" class=\"data row0 col2\" >15428.3272</td>\n",
              "      <td id=\"T_e3223_row0_col3\" class=\"data row0 col3\" >0.9967</td>\n",
              "      <td id=\"T_e3223_row0_col4\" class=\"data row0 col4\" >0.0347</td>\n",
              "      <td id=\"T_e3223_row0_col5\" class=\"data row0 col5\" >0.0233</td>\n",
              "    </tr>\n",
              "    <tr>\n",
              "      <th id=\"T_e3223_level0_row1\" class=\"row_heading level0 row1\" >1</th>\n",
              "      <td id=\"T_e3223_row1_col0\" class=\"data row1 col0\" >10413.8676</td>\n",
              "      <td id=\"T_e3223_row1_col1\" class=\"data row1 col1\" >165669254.5262</td>\n",
              "      <td id=\"T_e3223_row1_col2\" class=\"data row1 col2\" >12871.2569</td>\n",
              "      <td id=\"T_e3223_row1_col3\" class=\"data row1 col3\" >0.9972</td>\n",
              "      <td id=\"T_e3223_row1_col4\" class=\"data row1 col4\" >0.0360</td>\n",
              "      <td id=\"T_e3223_row1_col5\" class=\"data row1 col5\" >0.0242</td>\n",
              "    </tr>\n",
              "    <tr>\n",
              "      <th id=\"T_e3223_level0_row2\" class=\"row_heading level0 row2\" >2</th>\n",
              "      <td id=\"T_e3223_row2_col0\" class=\"data row2 col0\" >10949.8971</td>\n",
              "      <td id=\"T_e3223_row2_col1\" class=\"data row2 col1\" >214433188.0943</td>\n",
              "      <td id=\"T_e3223_row2_col2\" class=\"data row2 col2\" >14643.5374</td>\n",
              "      <td id=\"T_e3223_row2_col3\" class=\"data row2 col3\" >0.9971</td>\n",
              "      <td id=\"T_e3223_row2_col4\" class=\"data row2 col4\" >0.0333</td>\n",
              "      <td id=\"T_e3223_row2_col5\" class=\"data row2 col5\" >0.0232</td>\n",
              "    </tr>\n",
              "    <tr>\n",
              "      <th id=\"T_e3223_level0_row3\" class=\"row_heading level0 row3\" >3</th>\n",
              "      <td id=\"T_e3223_row3_col0\" class=\"data row3 col0\" >10399.4851</td>\n",
              "      <td id=\"T_e3223_row3_col1\" class=\"data row3 col1\" >172206344.6300</td>\n",
              "      <td id=\"T_e3223_row3_col2\" class=\"data row3 col2\" >13122.7415</td>\n",
              "      <td id=\"T_e3223_row3_col3\" class=\"data row3 col3\" >0.9975</td>\n",
              "      <td id=\"T_e3223_row3_col4\" class=\"data row3 col4\" >0.0302</td>\n",
              "      <td id=\"T_e3223_row3_col5\" class=\"data row3 col5\" >0.0214</td>\n",
              "    </tr>\n",
              "    <tr>\n",
              "      <th id=\"T_e3223_level0_row4\" class=\"row_heading level0 row4\" >4</th>\n",
              "      <td id=\"T_e3223_row4_col0\" class=\"data row4 col0\" >9869.4965</td>\n",
              "      <td id=\"T_e3223_row4_col1\" class=\"data row4 col1\" >135915184.2161</td>\n",
              "      <td id=\"T_e3223_row4_col2\" class=\"data row4 col2\" >11658.2668</td>\n",
              "      <td id=\"T_e3223_row4_col3\" class=\"data row4 col3\" >0.9979</td>\n",
              "      <td id=\"T_e3223_row4_col4\" class=\"data row4 col4\" >0.0329</td>\n",
              "      <td id=\"T_e3223_row4_col5\" class=\"data row4 col5\" >0.0237</td>\n",
              "    </tr>\n",
              "    <tr>\n",
              "      <th id=\"T_e3223_level0_row5\" class=\"row_heading level0 row5\" >5</th>\n",
              "      <td id=\"T_e3223_row5_col0\" class=\"data row5 col0\" >10692.4554</td>\n",
              "      <td id=\"T_e3223_row5_col1\" class=\"data row5 col1\" >179289645.2230</td>\n",
              "      <td id=\"T_e3223_row5_col2\" class=\"data row5 col2\" >13389.9083</td>\n",
              "      <td id=\"T_e3223_row5_col3\" class=\"data row5 col3\" >0.9967</td>\n",
              "      <td id=\"T_e3223_row5_col4\" class=\"data row5 col4\" >0.0259</td>\n",
              "      <td id=\"T_e3223_row5_col5\" class=\"data row5 col5\" >0.0203</td>\n",
              "    </tr>\n",
              "    <tr>\n",
              "      <th id=\"T_e3223_level0_row6\" class=\"row_heading level0 row6\" >6</th>\n",
              "      <td id=\"T_e3223_row6_col0\" class=\"data row6 col0\" >11105.7217</td>\n",
              "      <td id=\"T_e3223_row6_col1\" class=\"data row6 col1\" >204982607.3897</td>\n",
              "      <td id=\"T_e3223_row6_col2\" class=\"data row6 col2\" >14317.2137</td>\n",
              "      <td id=\"T_e3223_row6_col3\" class=\"data row6 col3\" >0.9967</td>\n",
              "      <td id=\"T_e3223_row6_col4\" class=\"data row6 col4\" >0.0576</td>\n",
              "      <td id=\"T_e3223_row6_col5\" class=\"data row6 col5\" >0.0307</td>\n",
              "    </tr>\n",
              "    <tr>\n",
              "      <th id=\"T_e3223_level0_row7\" class=\"row_heading level0 row7\" >7</th>\n",
              "      <td id=\"T_e3223_row7_col0\" class=\"data row7 col0\" >10201.5633</td>\n",
              "      <td id=\"T_e3223_row7_col1\" class=\"data row7 col1\" >229699692.1626</td>\n",
              "      <td id=\"T_e3223_row7_col2\" class=\"data row7 col2\" >15155.8468</td>\n",
              "      <td id=\"T_e3223_row7_col3\" class=\"data row7 col3\" >0.9956</td>\n",
              "      <td id=\"T_e3223_row7_col4\" class=\"data row7 col4\" >0.0641</td>\n",
              "      <td id=\"T_e3223_row7_col5\" class=\"data row7 col5\" >0.0288</td>\n",
              "    </tr>\n",
              "    <tr>\n",
              "      <th id=\"T_e3223_level0_row8\" class=\"row_heading level0 row8\" >8</th>\n",
              "      <td id=\"T_e3223_row8_col0\" class=\"data row8 col0\" >9161.1530</td>\n",
              "      <td id=\"T_e3223_row8_col1\" class=\"data row8 col1\" >135442296.5111</td>\n",
              "      <td id=\"T_e3223_row8_col2\" class=\"data row8 col2\" >11637.9679</td>\n",
              "      <td id=\"T_e3223_row8_col3\" class=\"data row8 col3\" >0.9973</td>\n",
              "      <td id=\"T_e3223_row8_col4\" class=\"data row8 col4\" >0.0230</td>\n",
              "      <td id=\"T_e3223_row8_col5\" class=\"data row8 col5\" >0.0166</td>\n",
              "    </tr>\n",
              "    <tr>\n",
              "      <th id=\"T_e3223_level0_row9\" class=\"row_heading level0 row9\" >9</th>\n",
              "      <td id=\"T_e3223_row9_col0\" class=\"data row9 col0\" >10678.8552</td>\n",
              "      <td id=\"T_e3223_row9_col1\" class=\"data row9 col1\" >257355971.7657</td>\n",
              "      <td id=\"T_e3223_row9_col2\" class=\"data row9 col2\" >16042.3182</td>\n",
              "      <td id=\"T_e3223_row9_col3\" class=\"data row9 col3\" >0.9957</td>\n",
              "      <td id=\"T_e3223_row9_col4\" class=\"data row9 col4\" >0.0216</td>\n",
              "      <td id=\"T_e3223_row9_col5\" class=\"data row9 col5\" >0.0165</td>\n",
              "    </tr>\n",
              "    <tr>\n",
              "      <th id=\"T_e3223_level0_row10\" class=\"row_heading level0 row10\" >Mean</th>\n",
              "      <td id=\"T_e3223_row10_col0\" class=\"data row10 col0\" >10494.8253</td>\n",
              "      <td id=\"T_e3223_row10_col1\" class=\"data row10 col1\" >193302746.5383</td>\n",
              "      <td id=\"T_e3223_row10_col2\" class=\"data row10 col2\" >13826.7385</td>\n",
              "      <td id=\"T_e3223_row10_col3\" class=\"data row10 col3\" >0.9968</td>\n",
              "      <td id=\"T_e3223_row10_col4\" class=\"data row10 col4\" >0.0359</td>\n",
              "      <td id=\"T_e3223_row10_col5\" class=\"data row10 col5\" >0.0229</td>\n",
              "    </tr>\n",
              "    <tr>\n",
              "      <th id=\"T_e3223_level0_row11\" class=\"row_heading level0 row11\" >Std</th>\n",
              "      <td id=\"T_e3223_row11_col0\" class=\"data row11 col0\" >623.4422</td>\n",
              "      <td id=\"T_e3223_row11_col1\" class=\"data row11 col1\" >40071795.2844</td>\n",
              "      <td id=\"T_e3223_row11_col2\" class=\"data row11 col2\" >1457.4120</td>\n",
              "      <td id=\"T_e3223_row11_col3\" class=\"data row11 col3\" >0.0007</td>\n",
              "      <td id=\"T_e3223_row11_col4\" class=\"data row11 col4\" >0.0134</td>\n",
              "      <td id=\"T_e3223_row11_col5\" class=\"data row11 col5\" >0.0043</td>\n",
              "    </tr>\n",
              "  </tbody>\n",
              "</table>\n"
            ]
          },
          "metadata": {}
        },
        {
          "output_type": "display_data",
          "data": {
            "text/plain": [
              "Processing:   0%|          | 0/4 [00:00<?, ?it/s]"
            ],
            "application/vnd.jupyter.widget-view+json": {
              "version_major": 2,
              "version_minor": 0,
              "model_id": "a0e0f96276f441c890d34533d5004305"
            }
          },
          "metadata": {
            "application/vnd.jupyter.widget-view+json": {
              "colab": {
                "custom_widget_manager": {
                  "url": "https://ssl.gstatic.com/colaboratory-static/widgets/colab-cdn-widget-manager/2b70e893a8ba7c0f/manager.min.js"
                }
              }
            }
          }
        },
        {
          "output_type": "display_data",
          "data": {
            "text/plain": [
              "<IPython.core.display.HTML object>"
            ],
            "text/html": []
          },
          "metadata": {}
        }
      ]
    },
    {
      "cell_type": "code",
      "source": [
        "plot_model(regressor, plot = 'residuals')"
      ],
      "metadata": {
        "colab": {
          "base_uri": "https://localhost:8080/",
          "height": 524
        },
        "id": "nupHNzADZLvy",
        "outputId": "8bb22fe7-0071-46e4-e5c9-7263cb21ec7c"
      },
      "id": "nupHNzADZLvy",
      "execution_count": null,
      "outputs": [
        {
          "output_type": "display_data",
          "data": {
            "text/plain": [
              "<IPython.core.display.HTML object>"
            ],
            "text/html": []
          },
          "metadata": {}
        },
        {
          "output_type": "display_data",
          "data": {
            "text/plain": [
              "<Figure size 800x550 with 2 Axes>"
            ],
            "image/png": "[encoded data removed]"
          },
          "metadata": {}
        }
      ]
    },
    {
      "cell_type": "code",
      "source": [
        "plot_model(regressor, plot = 'error')"
      ],
      "metadata": {
        "colab": {
          "base_uri": "https://localhost:8080/",
          "height": 526
        },
        "id": "zpiyXPZTZMYh",
        "outputId": "2a421a98-b2e3-4244-94c3-cc30d102ebc5"
      },
      "id": "zpiyXPZTZMYh",
      "execution_count": null,
      "outputs": [
        {
          "output_type": "display_data",
          "data": {
            "text/plain": [
              "<IPython.core.display.HTML object>"
            ],
            "text/html": []
          },
          "metadata": {}
        },
        {
          "output_type": "display_data",
          "data": {
            "text/plain": [
              "<Figure size 800x550 with 1 Axes>"
            ],
            "image/png": "[encoded data removed]"
          },
          "metadata": {}
        }
      ]
    },
    {
      "cell_type": "code",
      "source": [
        "plot_model(regressor, plot = 'feature')"
      ],
      "metadata": {
        "colab": {
          "base_uri": "https://localhost:8080/",
          "height": 485
        },
        "id": "MDuQo9jaZNHp",
        "outputId": "a67e610d-c445-4cad-915c-70015565132b"
      },
      "id": "MDuQo9jaZNHp",
      "execution_count": null,
      "outputs": [
        {
          "output_type": "display_data",
          "data": {
            "text/plain": [
              "<IPython.core.display.HTML object>"
            ],
            "text/html": []
          },
          "metadata": {}
        },
        {
          "output_type": "display_data",
          "data": {
            "text/plain": [
              "<Figure size 800x500 with 1 Axes>"
            ],
            "image/png": "[encoded data removed]"
          },
          "metadata": {}
        }
      ]
    },
    {
      "cell_type": "code",
      "source": [
        "evaluate_model(regressor)"
      ],
      "metadata": {
        "colab": {
          "base_uri": "https://localhost:8080/",
          "height": 217,
          "referenced_widgets": [
            "5ec17ecd16a44577905d2bc68a022689",
            "480f8d092b6d46b692a733809fb5c364",
            "999beac373d0486893a1c4a1e5bbf1a7",
            "bdbe14b5f700469e899dd1bfbbce6f1c",
            "8b0ca4e92cbd4f6b955886f8802e6a1a",
            "74cf443779d144a2aad5304be10704c2",
            "3e8180f4db44465898ecba657780077c"
          ]
        },
        "id": "3uQuk1dqZNy7",
        "outputId": "a16d24a2-1e13-4234-e5d4-29bd5063b6df"
      },
      "id": "3uQuk1dqZNy7",
      "execution_count": null,
      "outputs": [
        {
          "output_type": "display_data",
          "data": {
            "text/plain": [
              "interactive(children=(ToggleButtons(description='Plot Type:', icons=('',), options=(('Pipeline Plot', 'pipelin…"
            ],
            "application/vnd.jupyter.widget-view+json": {
              "version_major": 2,
              "version_minor": 0,
              "model_id": "5ec17ecd16a44577905d2bc68a022689"
            }
          },
          "metadata": {
            "application/vnd.jupyter.widget-view+json": {
              "colab": {
                "custom_widget_manager": {
                  "url": "https://ssl.gstatic.com/colaboratory-static/widgets/colab-cdn-widget-manager/2b70e893a8ba7c0f/manager.min.js"
                }
              }
            }
          }
        }
      ]
    },
    {
      "cell_type": "code",
      "source": [
        "test_predictions = predict_model(regressor)\n",
        "test_predictions.head()"
      ],
      "metadata": {
        "colab": {
          "base_uri": "https://localhost:8080/",
          "height": 270
        },
        "id": "0nQf5N0FZOb-",
        "outputId": "757456d5-dc69-4960-ec08-3c144cadb044"
      },
      "id": "0nQf5N0FZOb-",
      "execution_count": null,
      "outputs": [
        {
          "output_type": "display_data",
          "data": {
            "text/plain": [
              "<pandas.io.formats.style.Styler at 0x7aa2e5aef820>"
            ],
            "text/html": [
              "<style type=\"text/css\">\n",
              "</style>\n",
              "<table id=\"T_59f70\" class=\"dataframe\">\n",
              "  <thead>\n",
              "    <tr>\n",
              "      <th class=\"blank level0\" >&nbsp;</th>\n",
              "      <th id=\"T_59f70_level0_col0\" class=\"col_heading level0 col0\" >Model</th>\n",
              "      <th id=\"T_59f70_level0_col1\" class=\"col_heading level0 col1\" >MAE</th>\n",
              "      <th id=\"T_59f70_level0_col2\" class=\"col_heading level0 col2\" >MSE</th>\n",
              "      <th id=\"T_59f70_level0_col3\" class=\"col_heading level0 col3\" >RMSE</th>\n",
              "      <th id=\"T_59f70_level0_col4\" class=\"col_heading level0 col4\" >R2</th>\n",
              "      <th id=\"T_59f70_level0_col5\" class=\"col_heading level0 col5\" >RMSLE</th>\n",
              "      <th id=\"T_59f70_level0_col6\" class=\"col_heading level0 col6\" >MAPE</th>\n",
              "    </tr>\n",
              "  </thead>\n",
              "  <tbody>\n",
              "    <tr>\n",
              "      <th id=\"T_59f70_level0_row0\" class=\"row_heading level0 row0\" >0</th>\n",
              "      <td id=\"T_59f70_row0_col0\" class=\"data row0 col0\" >CatBoost Regressor</td>\n",
              "      <td id=\"T_59f70_row0_col1\" class=\"data row0 col1\" >11585.0789</td>\n",
              "      <td id=\"T_59f70_row0_col2\" class=\"data row0 col2\" >231860825.1323</td>\n",
              "      <td id=\"T_59f70_row0_col3\" class=\"data row0 col3\" >15226.9769</td>\n",
              "      <td id=\"T_59f70_row0_col4\" class=\"data row0 col4\" >0.9965</td>\n",
              "      <td id=\"T_59f70_row0_col5\" class=\"data row0 col5\" >0.0444</td>\n",
              "      <td id=\"T_59f70_row0_col6\" class=\"data row0 col6\" >0.0262</td>\n",
              "    </tr>\n",
              "  </tbody>\n",
              "</table>\n"
            ]
          },
          "metadata": {}
        },
        {
          "output_type": "execute_result",
          "data": {
            "text/plain": [
              "     Square_Footage  Num_Bedrooms  Num_Bathrooms  Year_Built  Lot_Size  \\\n",
              "851            1314             5              1        1972  3.998550   \n",
              "615            2628             4              2        1987  2.498519   \n",
              "545            4275             4              3        1959  3.276248   \n",
              "98             1370             2              2        1973  3.148272   \n",
              "642            1171             3              1        1958  0.693736   \n",
              "\n",
              "     Garage_Size  Neighborhood_Quality   House_Price  prediction_label  \n",
              "851            2                     5  341956.28125     350400.425007  \n",
              "615            0                     4  576020.06250     591204.113440  \n",
              "545            0                     4  896792.56250     912038.890246  \n",
              "98             1                     4  304730.50000     317035.580943  \n",
              "642            1                     6  206781.75000     223412.304440  "
            ],
            "text/html": [
              "\n",
              "  <div id=\"df-72ece2b9-f9d1-4ae8-aa10-9a3c8e09bf54\" class=\"colab-df-container\">\n",
              "    <div>\n",
              "<style scoped>\n",
              "    .dataframe tbody tr th:only-of-type {\n",
              "        vertical-align: middle;\n",
              "    }\n",
              "\n",
              "    .dataframe tbody tr th {\n",
              "        vertical-align: top;\n",
              "    }\n",
              "\n",
              "    .dataframe thead th {\n",
              "        text-align: right;\n",
              "    }\n",
              "</style>\n",
              "<table border=\"1\" class=\"dataframe\">\n",
              "  <thead>\n",
              "    <tr style=\"text-align: right;\">\n",
              "      <th></th>\n",
              "      <th>Square_Footage</th>\n",
              "      <th>Num_Bedrooms</th>\n",
              "      <th>Num_Bathrooms</th>\n",
              "      <th>Year_Built</th>\n",
              "      <th>Lot_Size</th>\n",
              "      <th>Garage_Size</th>\n",
              "      <th>Neighborhood_Quality</th>\n",
              "      <th>House_Price</th>\n",
              "      <th>prediction_label</th>\n",
              "    </tr>\n",
              "  </thead>\n",
              "  <tbody>\n",
              "    <tr>\n",
              "      <th>851</th>\n",
              "      <td>1314</td>\n",
              "      <td>5</td>\n",
              "      <td>1</td>\n",
              "      <td>1972</td>\n",
              "      <td>3.998550</td>\n",
              "      <td>2</td>\n",
              "      <td>5</td>\n",
              "      <td>341956.28125</td>\n",
              "      <td>350400.425007</td>\n",
              "    </tr>\n",
              "    <tr>\n",
              "      <th>615</th>\n",
              "      <td>2628</td>\n",
              "      <td>4</td>\n",
              "      <td>2</td>\n",
              "      <td>1987</td>\n",
              "      <td>2.498519</td>\n",
              "      <td>0</td>\n",
              "      <td>4</td>\n",
              "      <td>576020.06250</td>\n",
              "      <td>591204.113440</td>\n",
              "    </tr>\n",
              "    <tr>\n",
              "      <th>545</th>\n",
              "      <td>4275</td>\n",
              "      <td>4</td>\n",
              "      <td>3</td>\n",
              "      <td>1959</td>\n",
              "      <td>3.276248</td>\n",
              "      <td>0</td>\n",
              "      <td>4</td>\n",
              "      <td>896792.56250</td>\n",
              "      <td>912038.890246</td>\n",
              "    </tr>\n",
              "    <tr>\n",
              "      <th>98</th>\n",
              "      <td>1370</td>\n",
              "      <td>2</td>\n",
              "      <td>2</td>\n",
              "      <td>1973</td>\n",
              "      <td>3.148272</td>\n",
              "      <td>1</td>\n",
              "      <td>4</td>\n",
              "      <td>304730.50000</td>\n",
              "      <td>317035.580943</td>\n",
              "    </tr>\n",
              "    <tr>\n",
              "      <th>642</th>\n",
              "      <td>1171</td>\n",
              "      <td>3</td>\n",
              "      <td>1</td>\n",
              "      <td>1958</td>\n",
              "      <td>0.693736</td>\n",
              "      <td>1</td>\n",
              "      <td>6</td>\n",
              "      <td>206781.75000</td>\n",
              "      <td>223412.304440</td>\n",
              "    </tr>\n",
              "  </tbody>\n",
              "</table>\n",
              "</div>\n",
              "    <div class=\"colab-df-buttons\">\n",
              "\n",
              "  <div class=\"colab-df-container\">\n",
              "    <button class=\"colab-df-convert\" onclick=\"convertToInteractive('df-72ece2b9-f9d1-4ae8-aa10-9a3c8e09bf54')\"\n",
              "            title=\"Convert this dataframe to an interactive table.\"\n",
              "            style=\"display:none;\">\n",
              "\n",
              "  <svg xmlns=\"http://www.w3.org/2000/svg\" height=\"24px\" viewBox=\"0 -960 960 960\">\n",
              "    <path d=\"M120-120v-720h720v720H120Zm60-500h600v-160H180v160Zm220 220h160v-160H400v160Zm0 220h160v-160H400v160ZM180-400h160v-160H180v160Zm440 0h160v-160H620v160ZM180-180h160v-160H180v160Zm440 0h160v-160H620v160Z\"/>\n",
              "  </svg>\n",
              "    </button>\n",
              "\n",
              "  <style>\n",
              "    .colab-df-container {\n",
              "      display:flex;\n",
              "      gap: 12px;\n",
              "    }\n",
              "\n",
              "    .colab-df-convert {\n",
              "      background-color: #E8F0FE;\n",
              "      border: none;\n",
              "      border-radius: 50%;\n",
              "      cursor: pointer;\n",
              "      display: none;\n",
              "      fill: #1967D2;\n",
              "      height: 32px;\n",
              "      padding: 0 0 0 0;\n",
              "      width: 32px;\n",
              "    }\n",
              "\n",
              "    .colab-df-convert:hover {\n",
              "      background-color: #E2EBFA;\n",
              "      box-shadow: 0px 1px 2px rgba(60, 64, 67, 0.3), 0px 1px 3px 1px rgba(60, 64, 67, 0.15);\n",
              "      fill: #174EA6;\n",
              "    }\n",
              "\n",
              "    .colab-df-buttons div {\n",
              "      margin-bottom: 4px;\n",
              "    }\n",
              "\n",
              "    [theme=dark] .colab-df-convert {\n",
              "      background-color: #3B4455;\n",
              "      fill: #D2E3FC;\n",
              "    }\n",
              "\n",
              "    [theme=dark] .colab-df-convert:hover {\n",
              "      background-color: #434B5C;\n",
              "      box-shadow: 0px 1px 3px 1px rgba(0, 0, 0, 0.15);\n",
              "      filter: drop-shadow(0px 1px 2px rgba(0, 0, 0, 0.3));\n",
              "      fill: #FFFFFF;\n",
              "    }\n",
              "  </style>\n",
              "\n",
              "    <script>\n",
              "      const buttonEl =\n",
              "        document.querySelector('#df-72ece2b9-f9d1-4ae8-aa10-9a3c8e09bf54 button.colab-df-convert');\n",
              "      buttonEl.style.display =\n",
              "        google.colab.kernel.accessAllowed ? 'block' : 'none';\n",
              "\n",
              "      async function convertToInteractive(key) {\n",
              "        const element = document.querySelector('#df-72ece2b9-f9d1-4ae8-aa10-9a3c8e09bf54');\n",
              "        const dataTable =\n",
              "          await google.colab.kernel.invokeFunction('convertToInteractive',\n",
              "                                                    [key], {});\n",
              "        if (!dataTable) return;\n",
              "\n",
              "        const docLinkHtml = 'Like what you see? Visit the ' +\n",
              "          '<a target=\"_blank\" href=https://colab.research.google.com/notebooks/data_table.ipynb>data table notebook</a>'\n",
              "          + ' to learn more about interactive tables.';\n",
              "        element.innerHTML = '';\n",
              "        dataTable['output_type'] = 'display_data';\n",
              "        await google.colab.output.renderOutput(dataTable, element);\n",
              "        const docLink = document.createElement('div');\n",
              "        docLink.innerHTML = docLinkHtml;\n",
              "        element.appendChild(docLink);\n",
              "      }\n",
              "    </script>\n",
              "  </div>\n",
              "\n",
              "\n",
              "<div id=\"df-e01d5933-2a78-4791-a8e2-e0bbf804a899\">\n",
              "  <button class=\"colab-df-quickchart\" onclick=\"quickchart('df-e01d5933-2a78-4791-a8e2-e0bbf804a899')\"\n",
              "            title=\"Suggest charts\"\n",
              "            style=\"display:none;\">\n",
              "\n",
              "<svg xmlns=\"http://www.w3.org/2000/svg\" height=\"24px\"viewBox=\"0 0 24 24\"\n",
              "     width=\"24px\">\n",
              "    <g>\n",
              "        <path d=\"M19 3H5c-1.1 0-2 .9-2 2v14c0 1.1.9 2 2 2h14c1.1 0 2-.9 2-2V5c0-1.1-.9-2-2-2zM9 17H7v-7h2v7zm4 0h-2V7h2v10zm4 0h-2v-4h2v4z\"/>\n",
              "    </g>\n",
              "</svg>\n",
              "  </button>\n",
              "\n",
              "<style>\n",
              "  .colab-df-quickchart {\n",
              "      --bg-color: #E8F0FE;\n",
              "      --fill-color: #1967D2;\n",
              "      --hover-bg-color: #E2EBFA;\n",
              "      --hover-fill-color: #174EA6;\n",
              "      --disabled-fill-color: #AAA;\n",
              "      --disabled-bg-color: #DDD;\n",
              "  }\n",
              "\n",
              "  [theme=dark] .colab-df-quickchart {\n",
              "      --bg-color: #3B4455;\n",
              "      --fill-color: #D2E3FC;\n",
              "      --hover-bg-color: #434B5C;\n",
              "      --hover-fill-color: #FFFFFF;\n",
              "      --disabled-bg-color: #3B4455;\n",
              "      --disabled-fill-color: #666;\n",
              "  }\n",
              "\n",
              "  .colab-df-quickchart {\n",
              "    background-color: var(--bg-color);\n",
              "    border: none;\n",
              "    border-radius: 50%;\n",
              "    cursor: pointer;\n",
              "    display: none;\n",
              "    fill: var(--fill-color);\n",
              "    height: 32px;\n",
              "    padding: 0;\n",
              "    width: 32px;\n",
              "  }\n",
              "\n",
              "  .colab-df-quickchart:hover {\n",
              "    background-color: var(--hover-bg-color);\n",
              "    box-shadow: 0 1px 2px rgba(60, 64, 67, 0.3), 0 1px 3px 1px rgba(60, 64, 67, 0.15);\n",
              "    fill: var(--button-hover-fill-color);\n",
              "  }\n",
              "\n",
              "  .colab-df-quickchart-complete:disabled,\n",
              "  .colab-df-quickchart-complete:disabled:hover {\n",
              "    background-color: var(--disabled-bg-color);\n",
              "    fill: var(--disabled-fill-color);\n",
              "    box-shadow: none;\n",
              "  }\n",
              "\n",
              "  .colab-df-spinner {\n",
              "    border: 2px solid var(--fill-color);\n",
              "    border-color: transparent;\n",
              "    border-bottom-color: var(--fill-color);\n",
              "    animation:\n",
              "      spin 1s steps(1) infinite;\n",
              "  }\n",
              "\n",
              "  @keyframes spin {\n",
              "    0% {\n",
              "      border-color: transparent;\n",
              "      border-bottom-color: var(--fill-color);\n",
              "      border-left-color: var(--fill-color);\n",
              "    }\n",
              "    20% {\n",
              "      border-color: transparent;\n",
              "      border-left-color: var(--fill-color);\n",
              "      border-top-color: var(--fill-color);\n",
              "    }\n",
              "    30% {\n",
              "      border-color: transparent;\n",
              "      border-left-color: var(--fill-color);\n",
              "      border-top-color: var(--fill-color);\n",
              "      border-right-color: var(--fill-color);\n",
              "    }\n",
              "    40% {\n",
              "      border-color: transparent;\n",
              "      border-right-color: var(--fill-color);\n",
              "      border-top-color: var(--fill-color);\n",
              "    }\n",
              "    60% {\n",
              "      border-color: transparent;\n",
              "      border-right-color: var(--fill-color);\n",
              "    }\n",
              "    80% {\n",
              "      border-color: transparent;\n",
              "      border-right-color: var(--fill-color);\n",
              "      border-bottom-color: var(--fill-color);\n",
              "    }\n",
              "    90% {\n",
              "      border-color: transparent;\n",
              "      border-bottom-color: var(--fill-color);\n",
              "    }\n",
              "  }\n",
              "</style>\n",
              "\n",
              "  <script>\n",
              "    async function quickchart(key) {\n",
              "      const quickchartButtonEl =\n",
              "        document.querySelector('#' + key + ' button');\n",
              "      quickchartButtonEl.disabled = true;  // To prevent multiple clicks.\n",
              "      quickchartButtonEl.classList.add('colab-df-spinner');\n",
              "      try {\n",
              "        const charts = await google.colab.kernel.invokeFunction(\n",
              "            'suggestCharts', [key], {});\n",
              "      } catch (error) {\n",
              "        console.error('Error during call to suggestCharts:', error);\n",
              "      }\n",
              "      quickchartButtonEl.classList.remove('colab-df-spinner');\n",
              "      quickchartButtonEl.classList.add('colab-df-quickchart-complete');\n",
              "    }\n",
              "    (() => {\n",
              "      let quickchartButtonEl =\n",
              "        document.querySelector('#df-e01d5933-2a78-4791-a8e2-e0bbf804a899 button');\n",
              "      quickchartButtonEl.style.display =\n",
              "        google.colab.kernel.accessAllowed ? 'block' : 'none';\n",
              "    })();\n",
              "  </script>\n",
              "</div>\n",
              "\n",
              "    </div>\n",
              "  </div>\n"
            ],
            "application/vnd.google.colaboratory.intrinsic+json": {
              "type": "dataframe",
              "variable_name": "test_predictions",
              "summary": "{\n  \"name\": \"test_predictions\",\n  \"rows\": 300,\n  \"fields\": [\n    {\n      \"column\": \"Square_Footage\",\n      \"properties\": {\n        \"dtype\": \"int32\",\n        \"num_unique_values\": 286,\n        \"samples\": [\n          4702,\n          4400,\n          1399\n        ],\n        \"semantic_type\": \"\",\n        \"description\": \"\"\n      }\n    },\n    {\n      \"column\": \"Num_Bedrooms\",\n      \"properties\": {\n        \"dtype\": \"int8\",\n        \"num_unique_values\": 5,\n        \"samples\": [\n          4,\n          1,\n          2\n        ],\n        \"semantic_type\": \"\",\n        \"description\": \"\"\n      }\n    },\n    {\n      \"column\": \"Num_Bathrooms\",\n      \"properties\": {\n        \"dtype\": \"int8\",\n        \"num_unique_values\": 3,\n        \"samples\": [\n          1,\n          2,\n          3\n        ],\n        \"semantic_type\": \"\",\n        \"description\": \"\"\n      }\n    },\n    {\n      \"column\": \"Year_Built\",\n      \"properties\": {\n        \"dtype\": \"int32\",\n        \"num_unique_values\": 72,\n        \"samples\": [\n          1958,\n          1997,\n          1995\n        ],\n        \"semantic_type\": \"\",\n        \"description\": \"\"\n      }\n    },\n    {\n      \"column\": \"Lot_Size\",\n      \"properties\": {\n        \"dtype\": \"float32\",\n        \"num_unique_values\": 300,\n        \"samples\": [\n          3.795747995376587,\n          4.206228733062744,\n          2.0613319873809814\n        ],\n        \"semantic_type\": \"\",\n        \"description\": \"\"\n      }\n    },\n    {\n      \"column\": \"Garage_Size\",\n      \"properties\": {\n        \"dtype\": \"int8\",\n        \"num_unique_values\": 3,\n        \"samples\": [\n          2,\n          0,\n          1\n        ],\n        \"semantic_type\": \"\",\n        \"description\": \"\"\n      }\n    },\n    {\n      \"column\": \"Neighborhood_Quality\",\n      \"properties\": {\n        \"dtype\": \"int8\",\n        \"num_unique_values\": 10,\n        \"samples\": [\n          1,\n          4,\n          9\n        ],\n        \"semantic_type\": \"\",\n        \"description\": \"\"\n      }\n    },\n    {\n      \"column\": \"House_Price\",\n      \"properties\": {\n        \"dtype\": \"float32\",\n        \"num_unique_values\": 300,\n        \"samples\": [\n          933332.75,\n          1004325.375,\n          721018.0625\n        ],\n        \"semantic_type\": \"\",\n        \"description\": \"\"\n      }\n    },\n    {\n      \"column\": \"prediction_label\",\n      \"properties\": {\n        \"dtype\": \"number\",\n        \"std\": 254982.36135221377,\n        \"min\": 174040.56950063264,\n        \"max\": 1083912.1754677042,\n        \"num_unique_values\": 300,\n        \"samples\": [\n          922730.9373745741,\n          987085.2248183743,\n          735008.2186525065\n        ],\n        \"semantic_type\": \"\",\n        \"description\": \"\"\n      }\n    }\n  ]\n}"
            }
          },
          "metadata": {},
          "execution_count": 13
        }
      ]
    },
    {
      "cell_type": "code",
      "source": [
        "copied_housing_data = housing_data.copy()\n",
        "copied_housing_data.drop('House_Price', axis=1, inplace=True)\n",
        "copied_housing_data.head()"
      ],
      "metadata": {
        "colab": {
          "base_uri": "https://localhost:8080/",
          "height": 206
        },
        "id": "oQEgkzL7ZPrv",
        "outputId": "760a6cd2-dee6-4f57-f04d-af5674508d06"
      },
      "id": "oQEgkzL7ZPrv",
      "execution_count": null,
      "outputs": [
        {
          "output_type": "execute_result",
          "data": {
            "text/plain": [
              "   Square_Footage  Num_Bedrooms  Num_Bathrooms  Year_Built  Lot_Size  \\\n",
              "0            1360             2              1        1981  0.599637   \n",
              "1            4272             3              3        2016  4.753014   \n",
              "2            3592             1              2        2016  3.634823   \n",
              "3             966             1              2        1977  2.730667   \n",
              "4            4926             2              1        1993  4.699073   \n",
              "\n",
              "   Garage_Size  Neighborhood_Quality  \n",
              "0            0                     5  \n",
              "1            1                     6  \n",
              "2            0                     9  \n",
              "3            1                     8  \n",
              "4            0                     8  "
            ],
            "text/html": [
              "\n",
              "  <div id=\"df-f9db544d-d504-41e0-9885-5a646650b03f\" class=\"colab-df-container\">\n",
              "    <div>\n",
              "<style scoped>\n",
              "    .dataframe tbody tr th:only-of-type {\n",
              "        vertical-align: middle;\n",
              "    }\n",
              "\n",
              "    .dataframe tbody tr th {\n",
              "        vertical-align: top;\n",
              "    }\n",
              "\n",
              "    .dataframe thead th {\n",
              "        text-align: right;\n",
              "    }\n",
              "</style>\n",
              "<table border=\"1\" class=\"dataframe\">\n",
              "  <thead>\n",
              "    <tr style=\"text-align: right;\">\n",
              "      <th></th>\n",
              "      <th>Square_Footage</th>\n",
              "      <th>Num_Bedrooms</th>\n",
              "      <th>Num_Bathrooms</th>\n",
              "      <th>Year_Built</th>\n",
              "      <th>Lot_Size</th>\n",
              "      <th>Garage_Size</th>\n",
              "      <th>Neighborhood_Quality</th>\n",
              "    </tr>\n",
              "  </thead>\n",
              "  <tbody>\n",
              "    <tr>\n",
              "      <th>0</th>\n",
              "      <td>1360</td>\n",
              "      <td>2</td>\n",
              "      <td>1</td>\n",
              "      <td>1981</td>\n",
              "      <td>0.599637</td>\n",
              "      <td>0</td>\n",
              "      <td>5</td>\n",
              "    </tr>\n",
              "    <tr>\n",
              "      <th>1</th>\n",
              "      <td>4272</td>\n",
              "      <td>3</td>\n",
              "      <td>3</td>\n",
              "      <td>2016</td>\n",
              "      <td>4.753014</td>\n",
              "      <td>1</td>\n",
              "      <td>6</td>\n",
              "    </tr>\n",
              "    <tr>\n",
              "      <th>2</th>\n",
              "      <td>3592</td>\n",
              "      <td>1</td>\n",
              "      <td>2</td>\n",
              "      <td>2016</td>\n",
              "      <td>3.634823</td>\n",
              "      <td>0</td>\n",
              "      <td>9</td>\n",
              "    </tr>\n",
              "    <tr>\n",
              "      <th>3</th>\n",
              "      <td>966</td>\n",
              "      <td>1</td>\n",
              "      <td>2</td>\n",
              "      <td>1977</td>\n",
              "      <td>2.730667</td>\n",
              "      <td>1</td>\n",
              "      <td>8</td>\n",
              "    </tr>\n",
              "    <tr>\n",
              "      <th>4</th>\n",
              "      <td>4926</td>\n",
              "      <td>2</td>\n",
              "      <td>1</td>\n",
              "      <td>1993</td>\n",
              "      <td>4.699073</td>\n",
              "      <td>0</td>\n",
              "      <td>8</td>\n",
              "    </tr>\n",
              "  </tbody>\n",
              "</table>\n",
              "</div>\n",
              "    <div class=\"colab-df-buttons\">\n",
              "\n",
              "  <div class=\"colab-df-container\">\n",
              "    <button class=\"colab-df-convert\" onclick=\"convertToInteractive('df-f9db544d-d504-41e0-9885-5a646650b03f')\"\n",
              "            title=\"Convert this dataframe to an interactive table.\"\n",
              "            style=\"display:none;\">\n",
              "\n",
              "  <svg xmlns=\"http://www.w3.org/2000/svg\" height=\"24px\" viewBox=\"0 -960 960 960\">\n",
              "    <path d=\"M120-120v-720h720v720H120Zm60-500h600v-160H180v160Zm220 220h160v-160H400v160Zm0 220h160v-160H400v160ZM180-400h160v-160H180v160Zm440 0h160v-160H620v160ZM180-180h160v-160H180v160Zm440 0h160v-160H620v160Z\"/>\n",
              "  </svg>\n",
              "    </button>\n",
              "\n",
              "  <style>\n",
              "    .colab-df-container {\n",
              "      display:flex;\n",
              "      gap: 12px;\n",
              "    }\n",
              "\n",
              "    .colab-df-convert {\n",
              "      background-color: #E8F0FE;\n",
              "      border: none;\n",
              "      border-radius: 50%;\n",
              "      cursor: pointer;\n",
              "      display: none;\n",
              "      fill: #1967D2;\n",
              "      height: 32px;\n",
              "      padding: 0 0 0 0;\n",
              "      width: 32px;\n",
              "    }\n",
              "\n",
              "    .colab-df-convert:hover {\n",
              "      background-color: #E2EBFA;\n",
              "      box-shadow: 0px 1px 2px rgba(60, 64, 67, 0.3), 0px 1px 3px 1px rgba(60, 64, 67, 0.15);\n",
              "      fill: #174EA6;\n",
              "    }\n",
              "\n",
              "    .colab-df-buttons div {\n",
              "      margin-bottom: 4px;\n",
              "    }\n",
              "\n",
              "    [theme=dark] .colab-df-convert {\n",
              "      background-color: #3B4455;\n",
              "      fill: #D2E3FC;\n",
              "    }\n",
              "\n",
              "    [theme=dark] .colab-df-convert:hover {\n",
              "      background-color: #434B5C;\n",
              "      box-shadow: 0px 1px 3px 1px rgba(0, 0, 0, 0.15);\n",
              "      filter: drop-shadow(0px 1px 2px rgba(0, 0, 0, 0.3));\n",
              "      fill: #FFFFFF;\n",
              "    }\n",
              "  </style>\n",
              "\n",
              "    <script>\n",
              "      const buttonEl =\n",
              "        document.querySelector('#df-f9db544d-d504-41e0-9885-5a646650b03f button.colab-df-convert');\n",
              "      buttonEl.style.display =\n",
              "        google.colab.kernel.accessAllowed ? 'block' : 'none';\n",
              "\n",
              "      async function convertToInteractive(key) {\n",
              "        const element = document.querySelector('#df-f9db544d-d504-41e0-9885-5a646650b03f');\n",
              "        const dataTable =\n",
              "          await google.colab.kernel.invokeFunction('convertToInteractive',\n",
              "                                                    [key], {});\n",
              "        if (!dataTable) return;\n",
              "\n",
              "        const docLinkHtml = 'Like what you see? Visit the ' +\n",
              "          '<a target=\"_blank\" href=https://colab.research.google.com/notebooks/data_table.ipynb>data table notebook</a>'\n",
              "          + ' to learn more about interactive tables.';\n",
              "        element.innerHTML = '';\n",
              "        dataTable['output_type'] = 'display_data';\n",
              "        await google.colab.output.renderOutput(dataTable, element);\n",
              "        const docLink = document.createElement('div');\n",
              "        docLink.innerHTML = docLinkHtml;\n",
              "        element.appendChild(docLink);\n",
              "      }\n",
              "    </script>\n",
              "  </div>\n",
              "\n",
              "\n",
              "<div id=\"df-a1949854-9b22-4269-b23d-e217fe43dec2\">\n",
              "  <button class=\"colab-df-quickchart\" onclick=\"quickchart('df-a1949854-9b22-4269-b23d-e217fe43dec2')\"\n",
              "            title=\"Suggest charts\"\n",
              "            style=\"display:none;\">\n",
              "\n",
              "<svg xmlns=\"http://www.w3.org/2000/svg\" height=\"24px\"viewBox=\"0 0 24 24\"\n",
              "     width=\"24px\">\n",
              "    <g>\n",
              "        <path d=\"M19 3H5c-1.1 0-2 .9-2 2v14c0 1.1.9 2 2 2h14c1.1 0 2-.9 2-2V5c0-1.1-.9-2-2-2zM9 17H7v-7h2v7zm4 0h-2V7h2v10zm4 0h-2v-4h2v4z\"/>\n",
              "    </g>\n",
              "</svg>\n",
              "  </button>\n",
              "\n",
              "<style>\n",
              "  .colab-df-quickchart {\n",
              "      --bg-color: #E8F0FE;\n",
              "      --fill-color: #1967D2;\n",
              "      --hover-bg-color: #E2EBFA;\n",
              "      --hover-fill-color: #174EA6;\n",
              "      --disabled-fill-color: #AAA;\n",
              "      --disabled-bg-color: #DDD;\n",
              "  }\n",
              "\n",
              "  [theme=dark] .colab-df-quickchart {\n",
              "      --bg-color: #3B4455;\n",
              "      --fill-color: #D2E3FC;\n",
              "      --hover-bg-color: #434B5C;\n",
              "      --hover-fill-color: #FFFFFF;\n",
              "      --disabled-bg-color: #3B4455;\n",
              "      --disabled-fill-color: #666;\n",
              "  }\n",
              "\n",
              "  .colab-df-quickchart {\n",
              "    background-color: var(--bg-color);\n",
              "    border: none;\n",
              "    border-radius: 50%;\n",
              "    cursor: pointer;\n",
              "    display: none;\n",
              "    fill: var(--fill-color);\n",
              "    height: 32px;\n",
              "    padding: 0;\n",
              "    width: 32px;\n",
              "  }\n",
              "\n",
              "  .colab-df-quickchart:hover {\n",
              "    background-color: var(--hover-bg-color);\n",
              "    box-shadow: 0 1px 2px rgba(60, 64, 67, 0.3), 0 1px 3px 1px rgba(60, 64, 67, 0.15);\n",
              "    fill: var(--button-hover-fill-color);\n",
              "  }\n",
              "\n",
              "  .colab-df-quickchart-complete:disabled,\n",
              "  .colab-df-quickchart-complete:disabled:hover {\n",
              "    background-color: var(--disabled-bg-color);\n",
              "    fill: var(--disabled-fill-color);\n",
              "    box-shadow: none;\n",
              "  }\n",
              "\n",
              "  .colab-df-spinner {\n",
              "    border: 2px solid var(--fill-color);\n",
              "    border-color: transparent;\n",
              "    border-bottom-color: var(--fill-color);\n",
              "    animation:\n",
              "      spin 1s steps(1) infinite;\n",
              "  }\n",
              "\n",
              "  @keyframes spin {\n",
              "    0% {\n",
              "      border-color: transparent;\n",
              "      border-bottom-color: var(--fill-color);\n",
              "      border-left-color: var(--fill-color);\n",
              "    }\n",
              "    20% {\n",
              "      border-color: transparent;\n",
              "      border-left-color: var(--fill-color);\n",
              "      border-top-color: var(--fill-color);\n",
              "    }\n",
              "    30% {\n",
              "      border-color: transparent;\n",
              "      border-left-color: var(--fill-color);\n",
              "      border-top-color: var(--fill-color);\n",
              "      border-right-color: var(--fill-color);\n",
              "    }\n",
              "    40% {\n",
              "      border-color: transparent;\n",
              "      border-right-color: var(--fill-color);\n",
              "      border-top-color: var(--fill-color);\n",
              "    }\n",
              "    60% {\n",
              "      border-color: transparent;\n",
              "      border-right-color: var(--fill-color);\n",
              "    }\n",
              "    80% {\n",
              "      border-color: transparent;\n",
              "      border-right-color: var(--fill-color);\n",
              "      border-bottom-color: var(--fill-color);\n",
              "    }\n",
              "    90% {\n",
              "      border-color: transparent;\n",
              "      border-bottom-color: var(--fill-color);\n",
              "    }\n",
              "  }\n",
              "</style>\n",
              "\n",
              "  <script>\n",
              "    async function quickchart(key) {\n",
              "      const quickchartButtonEl =\n",
              "        document.querySelector('#' + key + ' button');\n",
              "      quickchartButtonEl.disabled = true;  // To prevent multiple clicks.\n",
              "      quickchartButtonEl.classList.add('colab-df-spinner');\n",
              "      try {\n",
              "        const charts = await google.colab.kernel.invokeFunction(\n",
              "            'suggestCharts', [key], {});\n",
              "      } catch (error) {\n",
              "        console.error('Error during call to suggestCharts:', error);\n",
              "      }\n",
              "      quickchartButtonEl.classList.remove('colab-df-spinner');\n",
              "      quickchartButtonEl.classList.add('colab-df-quickchart-complete');\n",
              "    }\n",
              "    (() => {\n",
              "      let quickchartButtonEl =\n",
              "        document.querySelector('#df-a1949854-9b22-4269-b23d-e217fe43dec2 button');\n",
              "      quickchartButtonEl.style.display =\n",
              "        google.colab.kernel.accessAllowed ? 'block' : 'none';\n",
              "    })();\n",
              "  </script>\n",
              "</div>\n",
              "\n",
              "    </div>\n",
              "  </div>\n"
            ],
            "application/vnd.google.colaboratory.intrinsic+json": {
              "type": "dataframe",
              "variable_name": "copied_housing_data",
              "summary": "{\n  \"name\": \"copied_housing_data\",\n  \"rows\": 1000,\n  \"fields\": [\n    {\n      \"column\": \"Square_Footage\",\n      \"properties\": {\n        \"dtype\": \"number\",\n        \"std\": 1255,\n        \"min\": 503,\n        \"max\": 4999,\n        \"num_unique_values\": 894,\n        \"samples\": [\n          2408,\n          1691,\n          2693\n        ],\n        \"semantic_type\": \"\",\n        \"description\": \"\"\n      }\n    },\n    {\n      \"column\": \"Num_Bedrooms\",\n      \"properties\": {\n        \"dtype\": \"number\",\n        \"std\": 1,\n        \"min\": 1,\n        \"max\": 5,\n        \"num_unique_values\": 5,\n        \"samples\": [\n          3,\n          4,\n          1\n        ],\n        \"semantic_type\": \"\",\n        \"description\": \"\"\n      }\n    },\n    {\n      \"column\": \"Num_Bathrooms\",\n      \"properties\": {\n        \"dtype\": \"number\",\n        \"std\": 0,\n        \"min\": 1,\n        \"max\": 3,\n        \"num_unique_values\": 3,\n        \"samples\": [\n          1,\n          3,\n          2\n        ],\n        \"semantic_type\": \"\",\n        \"description\": \"\"\n      }\n    },\n    {\n      \"column\": \"Year_Built\",\n      \"properties\": {\n        \"dtype\": \"number\",\n        \"std\": 20,\n        \"min\": 1950,\n        \"max\": 2022,\n        \"num_unique_values\": 73,\n        \"samples\": [\n          1990,\n          1959,\n          1996\n        ],\n        \"semantic_type\": \"\",\n        \"description\": \"\"\n      }\n    },\n    {\n      \"column\": \"Lot_Size\",\n      \"properties\": {\n        \"dtype\": \"number\",\n        \"std\": 1.2979031460668564,\n        \"min\": 0.5060582193045366,\n        \"max\": 4.989302700131234,\n        \"num_unique_values\": 1000,\n        \"samples\": [\n          2.0980924148921565,\n          1.3696223685537567,\n          1.792970224290059\n        ],\n        \"semantic_type\": \"\",\n        \"description\": \"\"\n      }\n    },\n    {\n      \"column\": \"Garage_Size\",\n      \"properties\": {\n        \"dtype\": \"number\",\n        \"std\": 0,\n        \"min\": 0,\n        \"max\": 2,\n        \"num_unique_values\": 3,\n        \"samples\": [\n          0,\n          1,\n          2\n        ],\n        \"semantic_type\": \"\",\n        \"description\": \"\"\n      }\n    },\n    {\n      \"column\": \"Neighborhood_Quality\",\n      \"properties\": {\n        \"dtype\": \"number\",\n        \"std\": 2,\n        \"min\": 1,\n        \"max\": 10,\n        \"num_unique_values\": 10,\n        \"samples\": [\n          7,\n          6,\n          2\n        ],\n        \"semantic_type\": \"\",\n        \"description\": \"\"\n      }\n    }\n  ]\n}"
            }
          },
          "metadata": {},
          "execution_count": 14
        }
      ]
    },
    {
      "cell_type": "code",
      "source": [
        "model_output = predict_model(regressor, data = copied_housing_data)\n",
        "model_output.head()"
      ],
      "metadata": {
        "colab": {
          "base_uri": "https://localhost:8080/",
          "height": 206
        },
        "id": "MszRXyOlZT1R",
        "outputId": "c75d452f-03b2-405a-ac14-d2f9e30a275a"
      },
      "id": "MszRXyOlZT1R",
      "execution_count": null,
      "outputs": [
        {
          "output_type": "display_data",
          "data": {
            "text/plain": [
              "<IPython.core.display.HTML object>"
            ],
            "text/html": []
          },
          "metadata": {}
        },
        {
          "output_type": "execute_result",
          "data": {
            "text/plain": [
              "   Square_Footage  Num_Bedrooms  Num_Bathrooms  Year_Built  Lot_Size  \\\n",
              "0            1360             2              1        1981  0.599637   \n",
              "1            4272             3              3        2016  4.753014   \n",
              "2            3592             1              2        2016  3.634823   \n",
              "3             966             1              2        1977  2.730667   \n",
              "4            4926             2              1        1993  4.699072   \n",
              "\n",
              "   Garage_Size  Neighborhood_Quality  prediction_label  \n",
              "0            0                     5      2.644525e+05  \n",
              "1            1                     6      9.783471e+05  \n",
              "2            0                     9      7.773853e+05  \n",
              "3            1                     8      2.252218e+05  \n",
              "4            0                     8      1.022263e+06  "
            ],
            "text/html": [
              "\n",
              "  <div id=\"df-805dba57-8dc5-41c1-b540-918b547beb0a\" class=\"colab-df-container\">\n",
              "    <div>\n",
              "<style scoped>\n",
              "    .dataframe tbody tr th:only-of-type {\n",
              "        vertical-align: middle;\n",
              "    }\n",
              "\n",
              "    .dataframe tbody tr th {\n",
              "        vertical-align: top;\n",
              "    }\n",
              "\n",
              "    .dataframe thead th {\n",
              "        text-align: right;\n",
              "    }\n",
              "</style>\n",
              "<table border=\"1\" class=\"dataframe\">\n",
              "  <thead>\n",
              "    <tr style=\"text-align: right;\">\n",
              "      <th></th>\n",
              "      <th>Square_Footage</th>\n",
              "      <th>Num_Bedrooms</th>\n",
              "      <th>Num_Bathrooms</th>\n",
              "      <th>Year_Built</th>\n",
              "      <th>Lot_Size</th>\n",
              "      <th>Garage_Size</th>\n",
              "      <th>Neighborhood_Quality</th>\n",
              "      <th>prediction_label</th>\n",
              "    </tr>\n",
              "  </thead>\n",
              "  <tbody>\n",
              "    <tr>\n",
              "      <th>0</th>\n",
              "      <td>1360</td>\n",
              "      <td>2</td>\n",
              "      <td>1</td>\n",
              "      <td>1981</td>\n",
              "      <td>0.599637</td>\n",
              "      <td>0</td>\n",
              "      <td>5</td>\n",
              "      <td>2.644525e+05</td>\n",
              "    </tr>\n",
              "    <tr>\n",
              "      <th>1</th>\n",
              "      <td>4272</td>\n",
              "      <td>3</td>\n",
              "      <td>3</td>\n",
              "      <td>2016</td>\n",
              "      <td>4.753014</td>\n",
              "      <td>1</td>\n",
              "      <td>6</td>\n",
              "      <td>9.783471e+05</td>\n",
              "    </tr>\n",
              "    <tr>\n",
              "      <th>2</th>\n",
              "      <td>3592</td>\n",
              "      <td>1</td>\n",
              "      <td>2</td>\n",
              "      <td>2016</td>\n",
              "      <td>3.634823</td>\n",
              "      <td>0</td>\n",
              "      <td>9</td>\n",
              "      <td>7.773853e+05</td>\n",
              "    </tr>\n",
              "    <tr>\n",
              "      <th>3</th>\n",
              "      <td>966</td>\n",
              "      <td>1</td>\n",
              "      <td>2</td>\n",
              "      <td>1977</td>\n",
              "      <td>2.730667</td>\n",
              "      <td>1</td>\n",
              "      <td>8</td>\n",
              "      <td>2.252218e+05</td>\n",
              "    </tr>\n",
              "    <tr>\n",
              "      <th>4</th>\n",
              "      <td>4926</td>\n",
              "      <td>2</td>\n",
              "      <td>1</td>\n",
              "      <td>1993</td>\n",
              "      <td>4.699072</td>\n",
              "      <td>0</td>\n",
              "      <td>8</td>\n",
              "      <td>1.022263e+06</td>\n",
              "    </tr>\n",
              "  </tbody>\n",
              "</table>\n",
              "</div>\n",
              "    <div class=\"colab-df-buttons\">\n",
              "\n",
              "  <div class=\"colab-df-container\">\n",
              "    <button class=\"colab-df-convert\" onclick=\"convertToInteractive('df-805dba57-8dc5-41c1-b540-918b547beb0a')\"\n",
              "            title=\"Convert this dataframe to an interactive table.\"\n",
              "            style=\"display:none;\">\n",
              "\n",
              "  <svg xmlns=\"http://www.w3.org/2000/svg\" height=\"24px\" viewBox=\"0 -960 960 960\">\n",
              "    <path d=\"M120-120v-720h720v720H120Zm60-500h600v-160H180v160Zm220 220h160v-160H400v160Zm0 220h160v-160H400v160ZM180-400h160v-160H180v160Zm440 0h160v-160H620v160ZM180-180h160v-160H180v160Zm440 0h160v-160H620v160Z\"/>\n",
              "  </svg>\n",
              "    </button>\n",
              "\n",
              "  <style>\n",
              "    .colab-df-container {\n",
              "      display:flex;\n",
              "      gap: 12px;\n",
              "    }\n",
              "\n",
              "    .colab-df-convert {\n",
              "      background-color: #E8F0FE;\n",
              "      border: none;\n",
              "      border-radius: 50%;\n",
              "      cursor: pointer;\n",
              "      display: none;\n",
              "      fill: #1967D2;\n",
              "      height: 32px;\n",
              "      padding: 0 0 0 0;\n",
              "      width: 32px;\n",
              "    }\n",
              "\n",
              "    .colab-df-convert:hover {\n",
              "      background-color: #E2EBFA;\n",
              "      box-shadow: 0px 1px 2px rgba(60, 64, 67, 0.3), 0px 1px 3px 1px rgba(60, 64, 67, 0.15);\n",
              "      fill: #174EA6;\n",
              "    }\n",
              "\n",
              "    .colab-df-buttons div {\n",
              "      margin-bottom: 4px;\n",
              "    }\n",
              "\n",
              "    [theme=dark] .colab-df-convert {\n",
              "      background-color: #3B4455;\n",
              "      fill: #D2E3FC;\n",
              "    }\n",
              "\n",
              "    [theme=dark] .colab-df-convert:hover {\n",
              "      background-color: #434B5C;\n",
              "      box-shadow: 0px 1px 3px 1px rgba(0, 0, 0, 0.15);\n",
              "      filter: drop-shadow(0px 1px 2px rgba(0, 0, 0, 0.3));\n",
              "      fill: #FFFFFF;\n",
              "    }\n",
              "  </style>\n",
              "\n",
              "    <script>\n",
              "      const buttonEl =\n",
              "        document.querySelector('#df-805dba57-8dc5-41c1-b540-918b547beb0a button.colab-df-convert');\n",
              "      buttonEl.style.display =\n",
              "        google.colab.kernel.accessAllowed ? 'block' : 'none';\n",
              "\n",
              "      async function convertToInteractive(key) {\n",
              "        const element = document.querySelector('#df-805dba57-8dc5-41c1-b540-918b547beb0a');\n",
              "        const dataTable =\n",
              "          await google.colab.kernel.invokeFunction('convertToInteractive',\n",
              "                                                    [key], {});\n",
              "        if (!dataTable) return;\n",
              "\n",
              "        const docLinkHtml = 'Like what you see? Visit the ' +\n",
              "          '<a target=\"_blank\" href=https://colab.research.google.com/notebooks/data_table.ipynb>data table notebook</a>'\n",
              "          + ' to learn more about interactive tables.';\n",
              "        element.innerHTML = '';\n",
              "        dataTable['output_type'] = 'display_data';\n",
              "        await google.colab.output.renderOutput(dataTable, element);\n",
              "        const docLink = document.createElement('div');\n",
              "        docLink.innerHTML = docLinkHtml;\n",
              "        element.appendChild(docLink);\n",
              "      }\n",
              "    </script>\n",
              "  </div>\n",
              "\n",
              "\n",
              "<div id=\"df-08fae78d-2b28-49c0-937a-f9a4708b3709\">\n",
              "  <button class=\"colab-df-quickchart\" onclick=\"quickchart('df-08fae78d-2b28-49c0-937a-f9a4708b3709')\"\n",
              "            title=\"Suggest charts\"\n",
              "            style=\"display:none;\">\n",
              "\n",
              "<svg xmlns=\"http://www.w3.org/2000/svg\" height=\"24px\"viewBox=\"0 0 24 24\"\n",
              "     width=\"24px\">\n",
              "    <g>\n",
              "        <path d=\"M19 3H5c-1.1 0-2 .9-2 2v14c0 1.1.9 2 2 2h14c1.1 0 2-.9 2-2V5c0-1.1-.9-2-2-2zM9 17H7v-7h2v7zm4 0h-2V7h2v10zm4 0h-2v-4h2v4z\"/>\n",
              "    </g>\n",
              "</svg>\n",
              "  </button>\n",
              "\n",
              "<style>\n",
              "  .colab-df-quickchart {\n",
              "      --bg-color: #E8F0FE;\n",
              "      --fill-color: #1967D2;\n",
              "      --hover-bg-color: #E2EBFA;\n",
              "      --hover-fill-color: #174EA6;\n",
              "      --disabled-fill-color: #AAA;\n",
              "      --disabled-bg-color: #DDD;\n",
              "  }\n",
              "\n",
              "  [theme=dark] .colab-df-quickchart {\n",
              "      --bg-color: #3B4455;\n",
              "      --fill-color: #D2E3FC;\n",
              "      --hover-bg-color: #434B5C;\n",
              "      --hover-fill-color: #FFFFFF;\n",
              "      --disabled-bg-color: #3B4455;\n",
              "      --disabled-fill-color: #666;\n",
              "  }\n",
              "\n",
              "  .colab-df-quickchart {\n",
              "    background-color: var(--bg-color);\n",
              "    border: none;\n",
              "    border-radius: 50%;\n",
              "    cursor: pointer;\n",
              "    display: none;\n",
              "    fill: var(--fill-color);\n",
              "    height: 32px;\n",
              "    padding: 0;\n",
              "    width: 32px;\n",
              "  }\n",
              "\n",
              "  .colab-df-quickchart:hover {\n",
              "    background-color: var(--hover-bg-color);\n",
              "    box-shadow: 0 1px 2px rgba(60, 64, 67, 0.3), 0 1px 3px 1px rgba(60, 64, 67, 0.15);\n",
              "    fill: var(--button-hover-fill-color);\n",
              "  }\n",
              "\n",
              "  .colab-df-quickchart-complete:disabled,\n",
              "  .colab-df-quickchart-complete:disabled:hover {\n",
              "    background-color: var(--disabled-bg-color);\n",
              "    fill: var(--disabled-fill-color);\n",
              "    box-shadow: none;\n",
              "  }\n",
              "\n",
              "  .colab-df-spinner {\n",
              "    border: 2px solid var(--fill-color);\n",
              "    border-color: transparent;\n",
              "    border-bottom-color: var(--fill-color);\n",
              "    animation:\n",
              "      spin 1s steps(1) infinite;\n",
              "  }\n",
              "\n",
              "  @keyframes spin {\n",
              "    0% {\n",
              "      border-color: transparent;\n",
              "      border-bottom-color: var(--fill-color);\n",
              "      border-left-color: var(--fill-color);\n",
              "    }\n",
              "    20% {\n",
              "      border-color: transparent;\n",
              "      border-left-color: var(--fill-color);\n",
              "      border-top-color: var(--fill-color);\n",
              "    }\n",
              "    30% {\n",
              "      border-color: transparent;\n",
              "      border-left-color: var(--fill-color);\n",
              "      border-top-color: var(--fill-color);\n",
              "      border-right-color: var(--fill-color);\n",
              "    }\n",
              "    40% {\n",
              "      border-color: transparent;\n",
              "      border-right-color: var(--fill-color);\n",
              "      border-top-color: var(--fill-color);\n",
              "    }\n",
              "    60% {\n",
              "      border-color: transparent;\n",
              "      border-right-color: var(--fill-color);\n",
              "    }\n",
              "    80% {\n",
              "      border-color: transparent;\n",
              "      border-right-color: var(--fill-color);\n",
              "      border-bottom-color: var(--fill-color);\n",
              "    }\n",
              "    90% {\n",
              "      border-color: transparent;\n",
              "      border-bottom-color: var(--fill-color);\n",
              "    }\n",
              "  }\n",
              "</style>\n",
              "\n",
              "  <script>\n",
              "    async function quickchart(key) {\n",
              "      const quickchartButtonEl =\n",
              "        document.querySelector('#' + key + ' button');\n",
              "      quickchartButtonEl.disabled = true;  // To prevent multiple clicks.\n",
              "      quickchartButtonEl.classList.add('colab-df-spinner');\n",
              "      try {\n",
              "        const charts = await google.colab.kernel.invokeFunction(\n",
              "            'suggestCharts', [key], {});\n",
              "      } catch (error) {\n",
              "        console.error('Error during call to suggestCharts:', error);\n",
              "      }\n",
              "      quickchartButtonEl.classList.remove('colab-df-spinner');\n",
              "      quickchartButtonEl.classList.add('colab-df-quickchart-complete');\n",
              "    }\n",
              "    (() => {\n",
              "      let quickchartButtonEl =\n",
              "        document.querySelector('#df-08fae78d-2b28-49c0-937a-f9a4708b3709 button');\n",
              "      quickchartButtonEl.style.display =\n",
              "        google.colab.kernel.accessAllowed ? 'block' : 'none';\n",
              "    })();\n",
              "  </script>\n",
              "</div>\n",
              "\n",
              "    </div>\n",
              "  </div>\n"
            ],
            "application/vnd.google.colaboratory.intrinsic+json": {
              "type": "dataframe",
              "variable_name": "model_output",
              "summary": "{\n  \"name\": \"model_output\",\n  \"rows\": 1000,\n  \"fields\": [\n    {\n      \"column\": \"Square_Footage\",\n      \"properties\": {\n        \"dtype\": \"int32\",\n        \"num_unique_values\": 894,\n        \"samples\": [\n          2408,\n          1691,\n          2693\n        ],\n        \"semantic_type\": \"\",\n        \"description\": \"\"\n      }\n    },\n    {\n      \"column\": \"Num_Bedrooms\",\n      \"properties\": {\n        \"dtype\": \"int8\",\n        \"num_unique_values\": 5,\n        \"samples\": [\n          3,\n          4,\n          1\n        ],\n        \"semantic_type\": \"\",\n        \"description\": \"\"\n      }\n    },\n    {\n      \"column\": \"Num_Bathrooms\",\n      \"properties\": {\n        \"dtype\": \"int8\",\n        \"num_unique_values\": 3,\n        \"samples\": [\n          1,\n          3,\n          2\n        ],\n        \"semantic_type\": \"\",\n        \"description\": \"\"\n      }\n    },\n    {\n      \"column\": \"Year_Built\",\n      \"properties\": {\n        \"dtype\": \"int32\",\n        \"num_unique_values\": 73,\n        \"samples\": [\n          1990,\n          1959,\n          1996\n        ],\n        \"semantic_type\": \"\",\n        \"description\": \"\"\n      }\n    },\n    {\n      \"column\": \"Lot_Size\",\n      \"properties\": {\n        \"dtype\": \"float32\",\n        \"num_unique_values\": 1000,\n        \"samples\": [\n          2.0980923175811768,\n          1.3696223497390747,\n          1.7929701805114746\n        ],\n        \"semantic_type\": \"\",\n        \"description\": \"\"\n      }\n    },\n    {\n      \"column\": \"Garage_Size\",\n      \"properties\": {\n        \"dtype\": \"int8\",\n        \"num_unique_values\": 3,\n        \"samples\": [\n          0,\n          1,\n          2\n        ],\n        \"semantic_type\": \"\",\n        \"description\": \"\"\n      }\n    },\n    {\n      \"column\": \"Neighborhood_Quality\",\n      \"properties\": {\n        \"dtype\": \"int8\",\n        \"num_unique_values\": 10,\n        \"samples\": [\n          7,\n          6,\n          2\n        ],\n        \"semantic_type\": \"\",\n        \"description\": \"\"\n      }\n    },\n    {\n      \"column\": \"prediction_label\",\n      \"properties\": {\n        \"dtype\": \"number\",\n        \"std\": 252108.48553916547,\n        \"min\": 109408.45659113437,\n        \"max\": 1105791.9358707757,\n        \"num_unique_values\": 1000,\n        \"samples\": [\n          871859.2547228665,\n          489387.9647908575,\n          947174.7343852948\n        ],\n        \"semantic_type\": \"\",\n        \"description\": \"\"\n      }\n    }\n  ]\n}"
            }
          },
          "metadata": {},
          "execution_count": 15
        }
      ]
    },
    {
      "cell_type": "code",
      "source": [
        "save_model(regressor, 'regression_pipeline_model')"
      ],
      "metadata": {
        "colab": {
          "base_uri": "https://localhost:8080/"
        },
        "id": "iYr275-XZVt-",
        "outputId": "1ca38b81-ca70-487c-b151-16a12d37f1e6"
      },
      "id": "iYr275-XZVt-",
      "execution_count": null,
      "outputs": [
        {
          "output_type": "stream",
          "name": "stdout",
          "text": [
            "Transformation Pipeline and Model Successfully Saved\n"
          ]
        },
        {
          "output_type": "execute_result",
          "data": {
            "text/plain": [
              "(Pipeline(memory=Memory(location=None),\n",
              "          steps=[('numerical_imputer',\n",
              "                  TransformerWrapper(include=['Square_Footage', 'Num_Bedrooms',\n",
              "                                              'Num_Bathrooms', 'Year_Built',\n",
              "                                              'Lot_Size', 'Garage_Size',\n",
              "                                              'Neighborhood_Quality'],\n",
              "                                     transformer=SimpleImputer())),\n",
              "                 ('categorical_imputer',\n",
              "                  TransformerWrapper(include=[],\n",
              "                                     transformer=SimpleImputer(strategy='most_frequent'))),\n",
              "                 ('trained_model',\n",
              "                  <catboost.core.CatBoostRegressor object at 0x7aa2e51573d0>)]),\n",
              " 'regression_pipeline_model.pkl')"
            ]
          },
          "metadata": {},
          "execution_count": 16
        }
      ]
    },
    {
      "cell_type": "code",
      "source": [
        "loaded_pipeline_model = load_model('regression_pipeline_model')\n",
        "loaded_pipeline_model"
      ],
      "metadata": {
        "colab": {
          "base_uri": "https://localhost:8080/",
          "height": 357
        },
        "id": "CV6bxk0lZWRX",
        "outputId": "6ead4078-f926-4812-b337-32af2bd0c13a"
      },
      "id": "CV6bxk0lZWRX",
      "execution_count": null,
      "outputs": [
        {
          "output_type": "stream",
          "name": "stdout",
          "text": [
            "Transformation Pipeline and Model Successfully Loaded\n"
          ]
        },
        {
          "output_type": "execute_result",
          "data": {
            "text/plain": [
              "Pipeline(memory=FastMemory(location=/tmp/joblib),\n",
              "         steps=[('numerical_imputer',\n",
              "                 TransformerWrapper(include=['Square_Footage', 'Num_Bedrooms',\n",
              "                                             'Num_Bathrooms', 'Year_Built',\n",
              "                                             'Lot_Size', 'Garage_Size',\n",
              "                                             'Neighborhood_Quality'],\n",
              "                                    transformer=SimpleImputer())),\n",
              "                ('categorical_imputer',\n",
              "                 TransformerWrapper(include=[],\n",
              "                                    transformer=SimpleImputer(strategy='most_frequent'))),\n",
              "                ('trained_model',\n",
              "                 <catboost.core.CatBoostRegressor object at 0x7aa2e5202890>)])"
            ],
            "text/html": [
              "<style>#sk-container-id-1 {\n",
              "  /* Definition of color scheme common for light and dark mode */\n",
              "  --sklearn-color-text: black;\n",
              "  --sklearn-color-line: gray;\n",
              "  /* Definition of color scheme for unfitted estimators */\n",
              "  --sklearn-color-unfitted-level-0: #fff5e6;\n",
              "  --sklearn-color-unfitted-level-1: #f6e4d2;\n",
              "  --sklearn-color-unfitted-level-2: #ffe0b3;\n",
              "  --sklearn-color-unfitted-level-3: chocolate;\n",
              "  /* Definition of color scheme for fitted estimators */\n",
              "  --sklearn-color-fitted-level-0: #f0f8ff;\n",
              "  --sklearn-color-fitted-level-1: #d4ebff;\n",
              "  --sklearn-color-fitted-level-2: #b3dbfd;\n",
              "  --sklearn-color-fitted-level-3: cornflowerblue;\n",
              "\n",
              "  /* Specific color for light theme */\n",
              "  --sklearn-color-text-on-default-background: var(--sg-text-color, var(--theme-code-foreground, var(--jp-content-font-color1, black)));\n",
              "  --sklearn-color-background: var(--sg-background-color, var(--theme-background, var(--jp-layout-color0, white)));\n",
              "  --sklearn-color-border-box: var(--sg-text-color, var(--theme-code-foreground, var(--jp-content-font-color1, black)));\n",
              "  --sklearn-color-icon: #696969;\n",
              "\n",
              "  @media (prefers-color-scheme: dark) {\n",
              "    /* Redefinition of color scheme for dark theme */\n",
              "    --sklearn-color-text-on-default-background: var(--sg-text-color, var(--theme-code-foreground, var(--jp-content-font-color1, white)));\n",
              "    --sklearn-color-background: var(--sg-background-color, var(--theme-background, var(--jp-layout-color0, #111)));\n",
              "    --sklearn-color-border-box: var(--sg-text-color, var(--theme-code-foreground, var(--jp-content-font-color1, white)));\n",
              "    --sklearn-color-icon: #878787;\n",
              "  }\n",
              "}\n",
              "\n",
              "#sk-container-id-1 {\n",
              "  color: var(--sklearn-color-text);\n",
              "}\n",
              "\n",
              "#sk-container-id-1 pre {\n",
              "  padding: 0;\n",
              "}\n",
              "\n",
              "#sk-container-id-1 input.sk-hidden--visually {\n",
              "  border: 0;\n",
              "  clip: rect(1px 1px 1px 1px);\n",
              "  clip: rect(1px, 1px, 1px, 1px);\n",
              "  height: 1px;\n",
              "  margin: -1px;\n",
              "  overflow: hidden;\n",
              "  padding: 0;\n",
              "  position: absolute;\n",
              "  width: 1px;\n",
              "}\n",
              "\n",
              "#sk-container-id-1 div.sk-dashed-wrapped {\n",
              "  border: 1px dashed var(--sklearn-color-line);\n",
              "  margin: 0 0.4em 0.5em 0.4em;\n",
              "  box-sizing: border-box;\n",
              "  padding-bottom: 0.4em;\n",
              "  background-color: var(--sklearn-color-background);\n",
              "}\n",
              "\n",
              "#sk-container-id-1 div.sk-container {\n",
              "  /* jupyter's `normalize.less` sets `[hidden] { display: none; }`\n",
              "     but bootstrap.min.css set `[hidden] { display: none !important; }`\n",
              "     so we also need the `!important` here to be able to override the\n",
              "     default hidden behavior on the sphinx rendered scikit-learn.org.\n",
              "     See: https://github.com/scikit-learn/scikit-learn/issues/21755 */\n",
              "  display: inline-block !important;\n",
              "  position: relative;\n",
              "}\n",
              "\n",
              "#sk-container-id-1 div.sk-text-repr-fallback {\n",
              "  display: none;\n",
              "}\n",
              "\n",
              "div.sk-parallel-item,\n",
              "div.sk-serial,\n",
              "div.sk-item {\n",
              "  /* draw centered vertical line to link estimators */\n",
              "  background-image: linear-gradient(var(--sklearn-color-text-on-default-background), var(--sklearn-color-text-on-default-background));\n",
              "  background-size: 2px 100%;\n",
              "  background-repeat: no-repeat;\n",
              "  background-position: center center;\n",
              "}\n",
              "\n",
              "/* Parallel-specific style estimator block */\n",
              "\n",
              "#sk-container-id-1 div.sk-parallel-item::after {\n",
              "  content: \"\";\n",
              "  width: 100%;\n",
              "  border-bottom: 2px solid var(--sklearn-color-text-on-default-background);\n",
              "  flex-grow: 1;\n",
              "}\n",
              "\n",
              "#sk-container-id-1 div.sk-parallel {\n",
              "  display: flex;\n",
              "  align-items: stretch;\n",
              "  justify-content: center;\n",
              "  background-color: var(--sklearn-color-background);\n",
              "  position: relative;\n",
              "}\n",
              "\n",
              "#sk-container-id-1 div.sk-parallel-item {\n",
              "  display: flex;\n",
              "  flex-direction: column;\n",
              "}\n",
              "\n",
              "#sk-container-id-1 div.sk-parallel-item:first-child::after {\n",
              "  align-self: flex-end;\n",
              "  width: 50%;\n",
              "}\n",
              "\n",
              "#sk-container-id-1 div.sk-parallel-item:last-child::after {\n",
              "  align-self: flex-start;\n",
              "  width: 50%;\n",
              "}\n",
              "\n",
              "#sk-container-id-1 div.sk-parallel-item:only-child::after {\n",
              "  width: 0;\n",
              "}\n",
              "\n",
              "/* Serial-specific style estimator block */\n",
              "\n",
              "#sk-container-id-1 div.sk-serial {\n",
              "  display: flex;\n",
              "  flex-direction: column;\n",
              "  align-items: center;\n",
              "  background-color: var(--sklearn-color-background);\n",
              "  padding-right: 1em;\n",
              "  padding-left: 1em;\n",
              "}\n",
              "\n",
              "\n",
              "/* Toggleable style: style used for estimator/Pipeline/ColumnTransformer box that is\n",
              "clickable and can be expanded/collapsed.\n",
              "- Pipeline and ColumnTransformer use this feature and define the default style\n",
              "- Estimators will overwrite some part of the style using the `sk-estimator` class\n",
              "*/\n",
              "\n",
              "/* Pipeline and ColumnTransformer style (default) */\n",
              "\n",
              "#sk-container-id-1 div.sk-toggleable {\n",
              "  /* Default theme specific background. It is overwritten whether we have a\n",
              "  specific estimator or a Pipeline/ColumnTransformer */\n",
              "  background-color: var(--sklearn-color-background);\n",
              "}\n",
              "\n",
              "/* Toggleable label */\n",
              "#sk-container-id-1 label.sk-toggleable__label {\n",
              "  cursor: pointer;\n",
              "  display: block;\n",
              "  width: 100%;\n",
              "  margin-bottom: 0;\n",
              "  padding: 0.5em;\n",
              "  box-sizing: border-box;\n",
              "  text-align: center;\n",
              "}\n",
              "\n",
              "#sk-container-id-1 label.sk-toggleable__label-arrow:before {\n",
              "  /* Arrow on the left of the label */\n",
              "  content: \"▸\";\n",
              "  float: left;\n",
              "  margin-right: 0.25em;\n",
              "  color: var(--sklearn-color-icon);\n",
              "}\n",
              "\n",
              "#sk-container-id-1 label.sk-toggleable__label-arrow:hover:before {\n",
              "  color: var(--sklearn-color-text);\n",
              "}\n",
              "\n",
              "/* Toggleable content - dropdown */\n",
              "\n",
              "#sk-container-id-1 div.sk-toggleable__content {\n",
              "  max-height: 0;\n",
              "  max-width: 0;\n",
              "  overflow: hidden;\n",
              "  text-align: left;\n",
              "  /* unfitted */\n",
              "  background-color: var(--sklearn-color-unfitted-level-0);\n",
              "}\n",
              "\n",
              "#sk-container-id-1 div.sk-toggleable__content.fitted {\n",
              "  /* fitted */\n",
              "  background-color: var(--sklearn-color-fitted-level-0);\n",
              "}\n",
              "\n",
              "#sk-container-id-1 div.sk-toggleable__content pre {\n",
              "  margin: 0.2em;\n",
              "  border-radius: 0.25em;\n",
              "  color: var(--sklearn-color-text);\n",
              "  /* unfitted */\n",
              "  background-color: var(--sklearn-color-unfitted-level-0);\n",
              "}\n",
              "\n",
              "#sk-container-id-1 div.sk-toggleable__content.fitted pre {\n",
              "  /* unfitted */\n",
              "  background-color: var(--sklearn-color-fitted-level-0);\n",
              "}\n",
              "\n",
              "#sk-container-id-1 input.sk-toggleable__control:checked~div.sk-toggleable__content {\n",
              "  /* Expand drop-down */\n",
              "  max-height: 200px;\n",
              "  max-width: 100%;\n",
              "  overflow: auto;\n",
              "}\n",
              "\n",
              "#sk-container-id-1 input.sk-toggleable__control:checked~label.sk-toggleable__label-arrow:before {\n",
              "  content: \"▾\";\n",
              "}\n",
              "\n",
              "/* Pipeline/ColumnTransformer-specific style */\n",
              "\n",
              "#sk-container-id-1 div.sk-label input.sk-toggleable__control:checked~label.sk-toggleable__label {\n",
              "  color: var(--sklearn-color-text);\n",
              "  background-color: var(--sklearn-color-unfitted-level-2);\n",
              "}\n",
              "\n",
              "#sk-container-id-1 div.sk-label.fitted input.sk-toggleable__control:checked~label.sk-toggleable__label {\n",
              "  background-color: var(--sklearn-color-fitted-level-2);\n",
              "}\n",
              "\n",
              "/* Estimator-specific style */\n",
              "\n",
              "/* Colorize estimator box */\n",
              "#sk-container-id-1 div.sk-estimator input.sk-toggleable__control:checked~label.sk-toggleable__label {\n",
              "  /* unfitted */\n",
              "  background-color: var(--sklearn-color-unfitted-level-2);\n",
              "}\n",
              "\n",
              "#sk-container-id-1 div.sk-estimator.fitted input.sk-toggleable__control:checked~label.sk-toggleable__label {\n",
              "  /* fitted */\n",
              "  background-color: var(--sklearn-color-fitted-level-2);\n",
              "}\n",
              "\n",
              "#sk-container-id-1 div.sk-label label.sk-toggleable__label,\n",
              "#sk-container-id-1 div.sk-label label {\n",
              "  /* The background is the default theme color */\n",
              "  color: var(--sklearn-color-text-on-default-background);\n",
              "}\n",
              "\n",
              "/* On hover, darken the color of the background */\n",
              "#sk-container-id-1 div.sk-label:hover label.sk-toggleable__label {\n",
              "  color: var(--sklearn-color-text);\n",
              "  background-color: var(--sklearn-color-unfitted-level-2);\n",
              "}\n",
              "\n",
              "/* Label box, darken color on hover, fitted */\n",
              "#sk-container-id-1 div.sk-label.fitted:hover label.sk-toggleable__label.fitted {\n",
              "  color: var(--sklearn-color-text);\n",
              "  background-color: var(--sklearn-color-fitted-level-2);\n",
              "}\n",
              "\n",
              "/* Estimator label */\n",
              "\n",
              "#sk-container-id-1 div.sk-label label {\n",
              "  font-family: monospace;\n",
              "  font-weight: bold;\n",
              "  display: inline-block;\n",
              "  line-height: 1.2em;\n",
              "}\n",
              "\n",
              "#sk-container-id-1 div.sk-label-container {\n",
              "  text-align: center;\n",
              "}\n",
              "\n",
              "/* Estimator-specific */\n",
              "#sk-container-id-1 div.sk-estimator {\n",
              "  font-family: monospace;\n",
              "  border: 1px dotted var(--sklearn-color-border-box);\n",
              "  border-radius: 0.25em;\n",
              "  box-sizing: border-box;\n",
              "  margin-bottom: 0.5em;\n",
              "  /* unfitted */\n",
              "  background-color: var(--sklearn-color-unfitted-level-0);\n",
              "}\n",
              "\n",
              "#sk-container-id-1 div.sk-estimator.fitted {\n",
              "  /* fitted */\n",
              "  background-color: var(--sklearn-color-fitted-level-0);\n",
              "}\n",
              "\n",
              "/* on hover */\n",
              "#sk-container-id-1 div.sk-estimator:hover {\n",
              "  /* unfitted */\n",
              "  background-color: var(--sklearn-color-unfitted-level-2);\n",
              "}\n",
              "\n",
              "#sk-container-id-1 div.sk-estimator.fitted:hover {\n",
              "  /* fitted */\n",
              "  background-color: var(--sklearn-color-fitted-level-2);\n",
              "}\n",
              "\n",
              "/* Specification for estimator info (e.g. \"i\" and \"?\") */\n",
              "\n",
              "/* Common style for \"i\" and \"?\" */\n",
              "\n",
              ".sk-estimator-doc-link,\n",
              "a:link.sk-estimator-doc-link,\n",
              "a:visited.sk-estimator-doc-link {\n",
              "  float: right;\n",
              "  font-size: smaller;\n",
              "  line-height: 1em;\n",
              "  font-family: monospace;\n",
              "  background-color: var(--sklearn-color-background);\n",
              "  border-radius: 1em;\n",
              "  height: 1em;\n",
              "  width: 1em;\n",
              "  text-decoration: none !important;\n",
              "  margin-left: 1ex;\n",
              "  /* unfitted */\n",
              "  border: var(--sklearn-color-unfitted-level-1) 1pt solid;\n",
              "  color: var(--sklearn-color-unfitted-level-1);\n",
              "}\n",
              "\n",
              ".sk-estimator-doc-link.fitted,\n",
              "a:link.sk-estimator-doc-link.fitted,\n",
              "a:visited.sk-estimator-doc-link.fitted {\n",
              "  /* fitted */\n",
              "  border: var(--sklearn-color-fitted-level-1) 1pt solid;\n",
              "  color: var(--sklearn-color-fitted-level-1);\n",
              "}\n",
              "\n",
              "/* On hover */\n",
              "div.sk-estimator:hover .sk-estimator-doc-link:hover,\n",
              ".sk-estimator-doc-link:hover,\n",
              "div.sk-label-container:hover .sk-estimator-doc-link:hover,\n",
              ".sk-estimator-doc-link:hover {\n",
              "  /* unfitted */\n",
              "  background-color: var(--sklearn-color-unfitted-level-3);\n",
              "  color: var(--sklearn-color-background);\n",
              "  text-decoration: none;\n",
              "}\n",
              "\n",
              "div.sk-estimator.fitted:hover .sk-estimator-doc-link.fitted:hover,\n",
              ".sk-estimator-doc-link.fitted:hover,\n",
              "div.sk-label-container:hover .sk-estimator-doc-link.fitted:hover,\n",
              ".sk-estimator-doc-link.fitted:hover {\n",
              "  /* fitted */\n",
              "  background-color: var(--sklearn-color-fitted-level-3);\n",
              "  color: var(--sklearn-color-background);\n",
              "  text-decoration: none;\n",
              "}\n",
              "\n",
              "/* Span, style for the box shown on hovering the info icon */\n",
              ".sk-estimator-doc-link span {\n",
              "  display: none;\n",
              "  z-index: 9999;\n",
              "  position: relative;\n",
              "  font-weight: normal;\n",
              "  right: .2ex;\n",
              "  padding: .5ex;\n",
              "  margin: .5ex;\n",
              "  width: min-content;\n",
              "  min-width: 20ex;\n",
              "  max-width: 50ex;\n",
              "  color: var(--sklearn-color-text);\n",
              "  box-shadow: 2pt 2pt 4pt #999;\n",
              "  /* unfitted */\n",
              "  background: var(--sklearn-color-unfitted-level-0);\n",
              "  border: .5pt solid var(--sklearn-color-unfitted-level-3);\n",
              "}\n",
              "\n",
              ".sk-estimator-doc-link.fitted span {\n",
              "  /* fitted */\n",
              "  background: var(--sklearn-color-fitted-level-0);\n",
              "  border: var(--sklearn-color-fitted-level-3);\n",
              "}\n",
              "\n",
              ".sk-estimator-doc-link:hover span {\n",
              "  display: block;\n",
              "}\n",
              "\n",
              "/* \"?\"-specific style due to the `<a>` HTML tag */\n",
              "\n",
              "#sk-container-id-1 a.estimator_doc_link {\n",
              "  float: right;\n",
              "  font-size: 1rem;\n",
              "  line-height: 1em;\n",
              "  font-family: monospace;\n",
              "  background-color: var(--sklearn-color-background);\n",
              "  border-radius: 1rem;\n",
              "  height: 1rem;\n",
              "  width: 1rem;\n",
              "  text-decoration: none;\n",
              "  /* unfitted */\n",
              "  color: var(--sklearn-color-unfitted-level-1);\n",
              "  border: var(--sklearn-color-unfitted-level-1) 1pt solid;\n",
              "}\n",
              "\n",
              "#sk-container-id-1 a.estimator_doc_link.fitted {\n",
              "  /* fitted */\n",
              "  border: var(--sklearn-color-fitted-level-1) 1pt solid;\n",
              "  color: var(--sklearn-color-fitted-level-1);\n",
              "}\n",
              "\n",
              "/* On hover */\n",
              "#sk-container-id-1 a.estimator_doc_link:hover {\n",
              "  /* unfitted */\n",
              "  background-color: var(--sklearn-color-unfitted-level-3);\n",
              "  color: var(--sklearn-color-background);\n",
              "  text-decoration: none;\n",
              "}\n",
              "\n",
              "#sk-container-id-1 a.estimator_doc_link.fitted:hover {\n",
              "  /* fitted */\n",
              "  background-color: var(--sklearn-color-fitted-level-3);\n",
              "}\n",
              "</style><div id=\"sk-container-id-1\" class=\"sk-top-container\"><div class=\"sk-text-repr-fallback\"><pre>Pipeline(memory=FastMemory(location=/tmp/joblib),\n",
              "         steps=[(&#x27;numerical_imputer&#x27;,\n",
              "                 TransformerWrapper(include=[&#x27;Square_Footage&#x27;, &#x27;Num_Bedrooms&#x27;,\n",
              "                                             &#x27;Num_Bathrooms&#x27;, &#x27;Year_Built&#x27;,\n",
              "                                             &#x27;Lot_Size&#x27;, &#x27;Garage_Size&#x27;,\n",
              "                                             &#x27;Neighborhood_Quality&#x27;],\n",
              "                                    transformer=SimpleImputer())),\n",
              "                (&#x27;categorical_imputer&#x27;,\n",
              "                 TransformerWrapper(include=[],\n",
              "                                    transformer=SimpleImputer(strategy=&#x27;most_frequent&#x27;))),\n",
              "                (&#x27;trained_model&#x27;,\n",
              "                 &lt;catboost.core.CatBoostRegressor object at 0x7aa2e5202890&gt;)])</pre><b>In a Jupyter environment, please rerun this cell to show the HTML representation or trust the notebook. <br />On GitHub, the HTML representation is unable to render, please try loading this page with nbviewer.org.</b></div><div class=\"sk-container\" hidden><div class=\"sk-item sk-dashed-wrapped\"><div class=\"sk-label-container\"><div class=\"sk-label fitted sk-toggleable\"><input class=\"sk-toggleable__control sk-hidden--visually\" id=\"sk-estimator-id-1\" type=\"checkbox\" ><label for=\"sk-estimator-id-1\" class=\"sk-toggleable__label fitted sk-toggleable__label-arrow fitted\">&nbsp;Pipeline<span class=\"sk-estimator-doc-link fitted\">i<span>Fitted</span></span></label><div class=\"sk-toggleable__content fitted\"><pre>Pipeline(memory=FastMemory(location=/tmp/joblib),\n",
              "         steps=[(&#x27;numerical_imputer&#x27;,\n",
              "                 TransformerWrapper(include=[&#x27;Square_Footage&#x27;, &#x27;Num_Bedrooms&#x27;,\n",
              "                                             &#x27;Num_Bathrooms&#x27;, &#x27;Year_Built&#x27;,\n",
              "                                             &#x27;Lot_Size&#x27;, &#x27;Garage_Size&#x27;,\n",
              "                                             &#x27;Neighborhood_Quality&#x27;],\n",
              "                                    transformer=SimpleImputer())),\n",
              "                (&#x27;categorical_imputer&#x27;,\n",
              "                 TransformerWrapper(include=[],\n",
              "                                    transformer=SimpleImputer(strategy=&#x27;most_frequent&#x27;))),\n",
              "                (&#x27;trained_model&#x27;,\n",
              "                 &lt;catboost.core.CatBoostRegressor object at 0x7aa2e5202890&gt;)])</pre></div> </div></div><div class=\"sk-serial\"><div class=\"sk-item sk-dashed-wrapped\"><div class=\"sk-label-container\"><div class=\"sk-label fitted sk-toggleable\"><input class=\"sk-toggleable__control sk-hidden--visually\" id=\"sk-estimator-id-2\" type=\"checkbox\" ><label for=\"sk-estimator-id-2\" class=\"sk-toggleable__label fitted sk-toggleable__label-arrow fitted\">numerical_imputer: TransformerWrapper</label><div class=\"sk-toggleable__content fitted\"><pre>TransformerWrapper(include=[&#x27;Square_Footage&#x27;, &#x27;Num_Bedrooms&#x27;, &#x27;Num_Bathrooms&#x27;,\n",
              "                            &#x27;Year_Built&#x27;, &#x27;Lot_Size&#x27;, &#x27;Garage_Size&#x27;,\n",
              "                            &#x27;Neighborhood_Quality&#x27;],\n",
              "                   transformer=SimpleImputer())</pre></div> </div></div><div class=\"sk-parallel\"><div class=\"sk-parallel-item\"><div class=\"sk-item\"><div class=\"sk-label-container\"><div class=\"sk-label fitted sk-toggleable\"><input class=\"sk-toggleable__control sk-hidden--visually\" id=\"sk-estimator-id-3\" type=\"checkbox\" ><label for=\"sk-estimator-id-3\" class=\"sk-toggleable__label fitted sk-toggleable__label-arrow fitted\">transformer: SimpleImputer</label><div class=\"sk-toggleable__content fitted\"><pre>SimpleImputer()</pre></div> </div></div><div class=\"sk-serial\"><div class=\"sk-item\"><div class=\"sk-estimator fitted sk-toggleable\"><input class=\"sk-toggleable__control sk-hidden--visually\" id=\"sk-estimator-id-4\" type=\"checkbox\" ><label for=\"sk-estimator-id-4\" class=\"sk-toggleable__label fitted sk-toggleable__label-arrow fitted\">&nbsp;SimpleImputer<a class=\"sk-estimator-doc-link fitted\" rel=\"noreferrer\" target=\"_blank\" href=\"https://scikit-learn.org/1.4/modules/generated/sklearn.impute.SimpleImputer.html\">?<span>Documentation for SimpleImputer</span></a></label><div class=\"sk-toggleable__content fitted\"><pre>SimpleImputer()</pre></div> </div></div></div></div></div></div></div><div class=\"sk-item sk-dashed-wrapped\"><div class=\"sk-label-container\"><div class=\"sk-label fitted sk-toggleable\"><input class=\"sk-toggleable__control sk-hidden--visually\" id=\"sk-estimator-id-5\" type=\"checkbox\" ><label for=\"sk-estimator-id-5\" class=\"sk-toggleable__label fitted sk-toggleable__label-arrow fitted\">categorical_imputer: TransformerWrapper</label><div class=\"sk-toggleable__content fitted\"><pre>TransformerWrapper(include=[],\n",
              "                   transformer=SimpleImputer(strategy=&#x27;most_frequent&#x27;))</pre></div> </div></div><div class=\"sk-parallel\"><div class=\"sk-parallel-item\"><div class=\"sk-item\"><div class=\"sk-label-container\"><div class=\"sk-label fitted sk-toggleable\"><input class=\"sk-toggleable__control sk-hidden--visually\" id=\"sk-estimator-id-6\" type=\"checkbox\" ><label for=\"sk-estimator-id-6\" class=\"sk-toggleable__label fitted sk-toggleable__label-arrow fitted\">transformer: SimpleImputer</label><div class=\"sk-toggleable__content fitted\"><pre>SimpleImputer(strategy=&#x27;most_frequent&#x27;)</pre></div> </div></div><div class=\"sk-serial\"><div class=\"sk-item\"><div class=\"sk-estimator fitted sk-toggleable\"><input class=\"sk-toggleable__control sk-hidden--visually\" id=\"sk-estimator-id-7\" type=\"checkbox\" ><label for=\"sk-estimator-id-7\" class=\"sk-toggleable__label fitted sk-toggleable__label-arrow fitted\">&nbsp;SimpleImputer<a class=\"sk-estimator-doc-link fitted\" rel=\"noreferrer\" target=\"_blank\" href=\"https://scikit-learn.org/1.4/modules/generated/sklearn.impute.SimpleImputer.html\">?<span>Documentation for SimpleImputer</span></a></label><div class=\"sk-toggleable__content fitted\"><pre>SimpleImputer(strategy=&#x27;most_frequent&#x27;)</pre></div> </div></div></div></div></div></div></div><div class=\"sk-item\"><div class=\"sk-estimator fitted sk-toggleable\"><input class=\"sk-toggleable__control sk-hidden--visually\" id=\"sk-estimator-id-8\" type=\"checkbox\" ><label for=\"sk-estimator-id-8\" class=\"sk-toggleable__label fitted sk-toggleable__label-arrow fitted\">CatBoostRegressor</label><div class=\"sk-toggleable__content fitted\"><pre>&lt;catboost.core.CatBoostRegressor object at 0x7aa2e5202890&gt;</pre></div> </div></div></div></div></div></div>"
            ]
          },
          "metadata": {},
          "execution_count": 17
        }
      ]
    },
    {
      "cell_type": "code",
      "source": [
        "create_app(regressor)"
      ],
      "metadata": {
        "colab": {
          "base_uri": "https://localhost:8080/",
          "height": 626
        },
        "id": "NpBRKwGlZW5r",
        "outputId": "127ec508-a9d8-40a6-86e7-12944019172d"
      },
      "id": "NpBRKwGlZW5r",
      "execution_count": null,
      "outputs": [
        {
          "output_type": "stream",
          "name": "stdout",
          "text": [
            "Setting queue=True in a Colab notebook requires sharing enabled. Setting `share=True` (you can turn this off by setting `share=False` in `launch()` explicitly).\n",
            "\n",
            "Colab notebook detected. To show errors in colab notebook, set debug=True in launch()\n",
            "Running on public URL: https://c47c6e85ea6705fb53.gradio.live\n",
            "\n",
            "This share link expires in 72 hours. For free permanent hosting and GPU upgrades, run `gradio deploy` from Terminal to deploy to Spaces (https://huggingface.co/spaces)\n"
          ]
        },
        {
          "output_type": "display_data",
          "data": {
            "text/plain": [
              "<IPython.core.display.HTML object>"
            ],
            "text/html": [
              "<div><iframe src=\"https://c47c6e85ea6705fb53.gradio.live\" width=\"100%\" height=\"500\" allow=\"autoplay; camera; microphone; clipboard-read; clipboard-write;\" frameborder=\"0\" allowfullscreen></iframe></div>"
            ]
          },
          "metadata": {}
        },
        {
          "output_type": "execute_result",
          "data": {
            "text/plain": []
          },
          "metadata": {},
          "execution_count": 19
        }
      ]
    },
    {
      "cell_type": "markdown",
      "id": "b2c7d62e",
      "metadata": {
        "id": "b2c7d62e"
      },
      "source": [
        "# 👇 Detailed function-by-function overview"
      ]
    },
    {
      "cell_type": "markdown",
      "id": "e05937f5",
      "metadata": {
        "id": "e05937f5"
      },
      "source": [
        "## ✅ Setup\n",
        "The `setup` function initializes the experiment in PyCaret and creates the transformation pipeline based on all the parameters passed in the function. Setup function must be called before executing any other function. It takes two required parameters: `data` and `target`. All the other parameters are optional and are used for configuring data preprocessing pipeline."
      ]
    },
    {
      "cell_type": "code",
      "execution_count": null,
      "id": "24e503be",
      "metadata": {
        "id": "24e503be"
      },
      "outputs": [],
      "source": [
        "s = setup(data, target = 'House_Price', session_id = 123)"
      ]
    },
    {
      "cell_type": "markdown",
      "id": "924d198b",
      "metadata": {
        "id": "924d198b"
      },
      "source": [
        "To access all the variables created by the setup function such as transformed dataset, random_state, etc. you can use `get_config` method."
      ]
    },
    {
      "cell_type": "code",
      "execution_count": null,
      "id": "76128b08",
      "metadata": {
        "id": "76128b08"
      },
      "outputs": [],
      "source": [
        "# check all available config\n",
        "get_config()"
      ]
    },
    {
      "cell_type": "code",
      "execution_count": null,
      "id": "dbc43292",
      "metadata": {
        "id": "dbc43292"
      },
      "outputs": [],
      "source": [
        "# lets access X_train_transformed\n",
        "get_config('X_train_transformed')"
      ]
    },
    {
      "cell_type": "code",
      "execution_count": null,
      "id": "ef9cd061",
      "metadata": {
        "id": "ef9cd061"
      },
      "outputs": [],
      "source": [
        "# another example: let's access seed\n",
        "print(\"The current seed is: {}\".format(get_config('seed')))\n",
        "\n",
        "# now lets change it using set_config\n",
        "set_config('seed', 786)\n",
        "print(\"The new seed is: {}\".format(get_config('seed')))"
      ]
    },
    {
      "cell_type": "markdown",
      "id": "7afbe41d",
      "metadata": {
        "id": "7afbe41d"
      },
      "source": [
        "All the preprocessing configurations and experiment settings/parameters are passed into the `setup` function. To see all available parameters, check the docstring:"
      ]
    },
    {
      "cell_type": "code",
      "execution_count": null,
      "id": "2885a14f",
      "metadata": {
        "id": "2885a14f"
      },
      "outputs": [],
      "source": [
        "# help(setup)"
      ]
    },
    {
      "cell_type": "code",
      "execution_count": null,
      "id": "34ae0fce",
      "metadata": {
        "id": "34ae0fce"
      },
      "outputs": [],
      "source": [
        "# init setup with normalize = True\n",
        "s = setup(data, target = 'House_Price', session_id = 123,\n",
        "          normalize = True, normalize_method = 'minmax')"
      ]
    },
    {
      "cell_type": "code",
      "execution_count": null,
      "id": "04204ae7",
      "metadata": {
        "id": "04204ae7"
      },
      "outputs": [],
      "source": [
        "# lets check the X_train_transformed to see effect of params passed\n",
        "get_config('X_train_transformed')['Garage_Size'].hist()"
      ]
    },
    {
      "cell_type": "markdown",
      "id": "d28a3e4e",
      "metadata": {
        "id": "d28a3e4e"
      },
      "source": [
        "Notice that all the values are between 0 and 1 - that is because we passed `normalize=True` in the `setup` function. If you don't remember how it compares to actual data, no problem - we can also access non-transformed values using `get_config` and then compare. See below and notice the range of values on x-axis and compare it with histogram above."
      ]
    },
    {
      "cell_type": "code",
      "execution_count": null,
      "id": "68cc1c63",
      "metadata": {
        "id": "68cc1c63"
      },
      "outputs": [],
      "source": [
        "get_config('X_train')['Garage_Size'].hist()"
      ]
    },
    {
      "cell_type": "markdown",
      "id": "b3776fbf",
      "metadata": {
        "id": "b3776fbf"
      },
      "source": [
        "___"
      ]
    },
    {
      "cell_type": "markdown",
      "id": "36b8b803",
      "metadata": {
        "id": "36b8b803"
      },
      "source": [
        "## ✅ Compare Models\n",
        "The `compare_models` function trains and evaluates the performance of all estimators available in the model library using cross-validation. The output of this function is a scoring grid with average cross-validated scores. Metrics evaluated during CV can be accessed using the `get_metrics` function. Custom metrics can be added or removed using `add_metric` and `remove_metric` function."
      ]
    },
    {
      "cell_type": "code",
      "execution_count": null,
      "id": "a3350418",
      "metadata": {
        "id": "a3350418"
      },
      "outputs": [],
      "source": [
        "best = compare_models()"
      ]
    },
    {
      "cell_type": "markdown",
      "id": "cd18dcf6",
      "metadata": {
        "id": "cd18dcf6"
      },
      "source": [
        "`compare_models` by default uses all the estimators in model library (all except models with `Turbo=False`) . To see all available models you can use the function `models()`"
      ]
    },
    {
      "cell_type": "code",
      "execution_count": null,
      "id": "432e93d7",
      "metadata": {
        "id": "432e93d7"
      },
      "outputs": [],
      "source": [
        "# check available models\n",
        "models()"
      ]
    },
    {
      "cell_type": "markdown",
      "id": "f588f54b",
      "metadata": {
        "id": "f588f54b"
      },
      "source": [
        "You can use the `include` and `exclude` parameter in the `compare_models` to train only select model or exclude specific models from training by passing the model id's in `exclude` parameter."
      ]
    },
    {
      "cell_type": "code",
      "execution_count": null,
      "id": "f2a7e578",
      "metadata": {
        "id": "f2a7e578"
      },
      "outputs": [],
      "source": [
        "compare_tree_models = compare_models(include = ['dt', 'rf', 'et', 'gbr', 'xgboost', 'lightgbm', 'catboost'])"
      ]
    },
    {
      "cell_type": "code",
      "execution_count": null,
      "id": "c15a467e",
      "metadata": {
        "id": "c15a467e"
      },
      "outputs": [],
      "source": [
        "compare_tree_models"
      ]
    },
    {
      "cell_type": "markdown",
      "id": "af9ae6cd",
      "metadata": {
        "id": "af9ae6cd"
      },
      "source": [
        "The function above has return trained model object as an output. The scoring grid is only displayed and not returned. If you need access to the scoring grid you can use `pull` function to access the dataframe."
      ]
    },
    {
      "cell_type": "code",
      "execution_count": null,
      "id": "fc529e25",
      "metadata": {
        "id": "fc529e25"
      },
      "outputs": [],
      "source": [
        "compare_tree_models_results = pull()\n",
        "compare_tree_models_results"
      ]
    },
    {
      "cell_type": "markdown",
      "id": "05a72fc2",
      "metadata": {
        "id": "05a72fc2"
      },
      "source": [
        "By default `compare_models` return the single best performing model based on the metric defined in the `sort` parameter. Let's change our code to return 3 top models based on `MAE`."
      ]
    },
    {
      "cell_type": "code",
      "execution_count": null,
      "id": "1066dd07",
      "metadata": {
        "id": "1066dd07"
      },
      "outputs": [],
      "source": [
        "best_mae_models_top3 = compare_models(sort = 'MAE', n_select = 3)"
      ]
    },
    {
      "cell_type": "code",
      "execution_count": null,
      "id": "aa259708",
      "metadata": {
        "id": "aa259708"
      },
      "outputs": [],
      "source": [
        "# list of top 3 models by MAE\n",
        "best_mae_models_top3"
      ]
    },
    {
      "cell_type": "markdown",
      "id": "1d91d27e",
      "metadata": {
        "id": "1d91d27e"
      },
      "source": [
        "Some other parameters that you might find very useful in `compare_models` are:\n",
        "\n",
        "- fold\n",
        "- cross_validation\n",
        "- budget_time\n",
        "- errors\n",
        "- probability_threshold\n",
        "- parallel\n",
        "\n",
        "You can check the docstring of the function for more info."
      ]
    },
    {
      "cell_type": "code",
      "execution_count": null,
      "id": "f0c49e0b",
      "metadata": {
        "id": "f0c49e0b"
      },
      "outputs": [],
      "source": [
        "# help(compare_models)"
      ]
    },
    {
      "cell_type": "markdown",
      "id": "9e6c47cb",
      "metadata": {
        "id": "9e6c47cb"
      },
      "source": [
        "## ✅ Experiment Logging\n",
        "PyCaret integrates with many different type of experiment loggers (default = 'mlflow'). To turn on experiment tracking in PyCaret you can set `log_experiment` and `experiment_name` parameter. It will automatically track all the metrics, hyperparameters, and artifacts based on the defined logger."
      ]
    },
    {
      "cell_type": "code",
      "execution_count": null,
      "id": "1af63fd0",
      "metadata": {
        "id": "1af63fd0"
      },
      "outputs": [],
      "source": [
        "# from pycaret.regression import *\n",
        "# s = setup(data, target = 'charges', log_experiment='mlflow', experiment_name='insurance_experiment')"
      ]
    },
    {
      "cell_type": "code",
      "execution_count": null,
      "id": "42cd6120",
      "metadata": {
        "id": "42cd6120"
      },
      "outputs": [],
      "source": [
        "# compare models\n",
        "# best = compare_models()"
      ]
    },
    {
      "cell_type": "code",
      "execution_count": null,
      "id": "adc82ce5",
      "metadata": {
        "id": "adc82ce5"
      },
      "outputs": [],
      "source": [
        "# start mlflow server on localhost:5000\n",
        "# !mlflow ui"
      ]
    },
    {
      "cell_type": "markdown",
      "id": "a06f9df7",
      "metadata": {
        "id": "a06f9df7"
      },
      "source": [
        "By default PyCaret uses `MLFlow` logger that can be changed using `log_experiment` parameter. Following loggers are available:\n",
        "    \n",
        "    - mlflow\n",
        "    - wandb\n",
        "    - comet_ml\n",
        "    - dagshub\n",
        "    \n",
        "Other logging related parameters that you may find useful are:\n",
        "\n",
        "- experiment_custom_tags\n",
        "- log_plots\n",
        "- log_data\n",
        "- log_profile\n",
        "\n",
        "For more information check out the docstring of the `setup` function."
      ]
    },
    {
      "cell_type": "code",
      "execution_count": null,
      "id": "2f8b6aa1",
      "metadata": {
        "id": "2f8b6aa1"
      },
      "outputs": [],
      "source": [
        "# help(setup)"
      ]
    },
    {
      "cell_type": "markdown",
      "id": "6ce0b555",
      "metadata": {
        "id": "6ce0b555"
      },
      "source": [
        "## ✅ Create Model\n",
        "The `create_model` function trains and evaluates the performance of a given estimator using cross-validation. The output of this function is a scoring grid with CV scores by fold. Metrics evaluated during CV can be accessed using the `get_metrics` function. Custom metrics can be added or removed using `add_metric` and `remove_metric` function. All the available models can be accessed using the `models` function."
      ]
    },
    {
      "cell_type": "code",
      "execution_count": null,
      "id": "837cebfa",
      "metadata": {
        "id": "837cebfa"
      },
      "outputs": [],
      "source": [
        "# check all the available models\n",
        "models()"
      ]
    },
    {
      "cell_type": "code",
      "execution_count": null,
      "id": "16641cab",
      "metadata": {
        "id": "16641cab"
      },
      "outputs": [],
      "source": [
        "# train linear regression with default fold=10\n",
        "lr = create_model('lr')"
      ]
    },
    {
      "cell_type": "markdown",
      "id": "074b4572",
      "metadata": {
        "id": "074b4572"
      },
      "source": [
        "The function above has return trained model object as an output. The scoring grid is only displayed and not returned. If you need access to the scoring grid you can use `pull` function to access the dataframe."
      ]
    },
    {
      "cell_type": "code",
      "execution_count": null,
      "id": "fe277e1b",
      "metadata": {
        "id": "fe277e1b"
      },
      "outputs": [],
      "source": [
        "lr_results = pull()\n",
        "print(type(lr_results))\n",
        "lr_results"
      ]
    },
    {
      "cell_type": "code",
      "execution_count": null,
      "id": "148a74c4",
      "metadata": {
        "id": "148a74c4"
      },
      "outputs": [],
      "source": [
        "# train linear regression with fold=3\n",
        "lr = create_model('lr', fold=3)"
      ]
    },
    {
      "cell_type": "code",
      "execution_count": null,
      "id": "5a8906a8",
      "metadata": {
        "id": "5a8906a8"
      },
      "outputs": [],
      "source": [
        "# train linear regression with specific model parameters\n",
        "create_model('lr', fit_intercept = False)"
      ]
    },
    {
      "cell_type": "code",
      "execution_count": null,
      "id": "b85af29b",
      "metadata": {
        "id": "b85af29b"
      },
      "outputs": [],
      "source": [
        "# train lr and return train score as well alongwith CV\n",
        "create_model('lr', return_train_score=True)"
      ]
    },
    {
      "cell_type": "markdown",
      "id": "08634e9e",
      "metadata": {
        "id": "08634e9e"
      },
      "source": [
        "Some other parameters that you might find very useful in `create_model` are:\n",
        "\n",
        "- cross_validation\n",
        "- engine\n",
        "- fit_kwargs\n",
        "- groups\n",
        "\n",
        "You can check the docstring of the function for more info."
      ]
    },
    {
      "cell_type": "code",
      "execution_count": null,
      "id": "3fb32c74",
      "metadata": {
        "id": "3fb32c74"
      },
      "outputs": [],
      "source": [
        "# help(create_model)"
      ]
    },
    {
      "cell_type": "markdown",
      "id": "d5378836",
      "metadata": {
        "id": "d5378836"
      },
      "source": [
        "## ✅ Tune Model\n",
        "\n",
        "The `tune_model` function tunes the hyperparameters of the model. The output of this function is a scoring grid with cross-validated scores by fold. The best model is selected based on the metric defined in optimize parameter. Metrics evaluated during cross-validation can be accessed using the `get_metrics` function. Custom metrics can be added or removed using `add_metric` and `remove_metric` function."
      ]
    },
    {
      "cell_type": "code",
      "execution_count": null,
      "id": "402597f2",
      "metadata": {
        "id": "402597f2"
      },
      "outputs": [],
      "source": [
        "# train a dt model with default params\n",
        "dt = create_model('dt')"
      ]
    },
    {
      "cell_type": "code",
      "execution_count": null,
      "id": "90dc451d",
      "metadata": {
        "id": "90dc451d"
      },
      "outputs": [],
      "source": [
        "# tune hyperparameters of dt\n",
        "tuned_dt = tune_model(dt)"
      ]
    },
    {
      "cell_type": "markdown",
      "id": "805b66b9",
      "metadata": {
        "id": "805b66b9"
      },
      "source": [
        "Metric to optimize can be defined in `optimize` parameter (default = 'Accuracy'). Also, a custom tuned grid can be passed with `custom_grid` parameter."
      ]
    },
    {
      "cell_type": "code",
      "execution_count": null,
      "id": "cca8e640",
      "metadata": {
        "id": "cca8e640"
      },
      "outputs": [],
      "source": [
        "dt"
      ]
    },
    {
      "cell_type": "code",
      "execution_count": null,
      "id": "31e050ff",
      "metadata": {
        "id": "31e050ff"
      },
      "outputs": [],
      "source": [
        "# define tuning grid\n",
        "dt_grid = {'max_depth' : [None, 2, 4, 6, 8, 10, 12]}\n",
        "\n",
        "# tune model with custom grid and metric = MAE\n",
        "tuned_dt = tune_model(dt, custom_grid = dt_grid, optimize = 'MAE')"
      ]
    },
    {
      "cell_type": "code",
      "execution_count": null,
      "id": "6cca514b",
      "metadata": {
        "id": "6cca514b"
      },
      "outputs": [],
      "source": [
        "# to access the tuner object you can set return_tuner = True\n",
        "tuned_dt, tuner = tune_model(dt, return_tuner=True)"
      ]
    },
    {
      "cell_type": "code",
      "execution_count": null,
      "id": "80cbb4a6",
      "metadata": {
        "id": "80cbb4a6"
      },
      "outputs": [],
      "source": [
        "# model object\n",
        "tuned_dt"
      ]
    },
    {
      "cell_type": "code",
      "execution_count": null,
      "id": "7d5e49ca",
      "metadata": {
        "id": "7d5e49ca"
      },
      "outputs": [],
      "source": [
        "# tuner object\n",
        "tuner"
      ]
    },
    {
      "cell_type": "markdown",
      "id": "0a33c70b",
      "metadata": {
        "id": "0a33c70b"
      },
      "source": [
        "The default search algorithm is `RandomizedSearchCV` from `sklearn`. This can be changed by using `search_library` and `search_algorithm` parameter."
      ]
    },
    {
      "cell_type": "code",
      "execution_count": null,
      "id": "31e33547",
      "metadata": {
        "id": "31e33547"
      },
      "outputs": [],
      "source": [
        "# tune dt using optuna\n",
        "tuned_dt = tune_model(dt, search_library = 'optuna')"
      ]
    },
    {
      "cell_type": "markdown",
      "id": "a1e2875b",
      "metadata": {
        "id": "a1e2875b"
      },
      "source": [
        "For more details on all available `search_library` and `search_algorithm` please check the docstring. Some other parameters that you might find very useful in `tune_model` are:\n",
        "\n",
        "- choose_better\n",
        "- n_iter\n",
        "- early_stopping\n",
        "- groups\n",
        "\n",
        "You can check the docstring of the function for more info."
      ]
    },
    {
      "cell_type": "code",
      "execution_count": null,
      "id": "94f9c86e",
      "metadata": {
        "id": "94f9c86e"
      },
      "outputs": [],
      "source": [
        "# help(tune_model)"
      ]
    },
    {
      "cell_type": "markdown",
      "id": "2ca8ee07",
      "metadata": {
        "id": "2ca8ee07"
      },
      "source": [
        "## ✅ Ensemble Model"
      ]
    },
    {
      "cell_type": "markdown",
      "id": "ce321d4c",
      "metadata": {
        "id": "ce321d4c"
      },
      "source": [
        "The `ensemble_model` function ensembles a given estimator. The output of this function is a scoring grid with CV scores by fold. Metrics evaluated during CV can be accessed using the `get_metrics` function. Custom metrics can be added or removed using `add_metric` and `remove_metric` function."
      ]
    },
    {
      "cell_type": "code",
      "execution_count": null,
      "id": "c8ee936d",
      "metadata": {
        "id": "c8ee936d"
      },
      "outputs": [],
      "source": [
        "# ensemble with bagging\n",
        "ensemble_model(dt, method = 'Bagging')"
      ]
    },
    {
      "cell_type": "code",
      "execution_count": null,
      "id": "79279394",
      "metadata": {
        "id": "79279394"
      },
      "outputs": [],
      "source": [
        "# ensemble with boosting\n",
        "ensemble_model(dt, method = 'Boosting')"
      ]
    },
    {
      "cell_type": "markdown",
      "id": "d0fa1ce2",
      "metadata": {
        "id": "d0fa1ce2"
      },
      "source": [
        "Some other parameters that you might find very useful in `ensemble_model` are:\n",
        "\n",
        "- choose_better\n",
        "- n_estimators\n",
        "- groups\n",
        "- fit_kwargs\n",
        "- return_train_score\n",
        "\n",
        "You can check the docstring of the function for more info."
      ]
    },
    {
      "cell_type": "code",
      "execution_count": null,
      "id": "78130ed1",
      "metadata": {
        "id": "78130ed1"
      },
      "outputs": [],
      "source": [
        "# help(ensemble_model)"
      ]
    },
    {
      "cell_type": "markdown",
      "id": "ea8a9a4e",
      "metadata": {
        "id": "ea8a9a4e"
      },
      "source": [
        "## ✅ Blend Models"
      ]
    },
    {
      "cell_type": "markdown",
      "id": "2ede29c4",
      "metadata": {
        "id": "2ede29c4"
      },
      "source": [
        "The `blend_models` function trains a `VotingRegressor` for select models passed in the `estimator_list` parameter. The output of this function is a scoring grid with CV scores by fold. Metrics evaluated during CV can be accessed using the `get_metrics` function. Custom metrics can be added or removed using `add_metric` and `remove_metric` function."
      ]
    },
    {
      "cell_type": "code",
      "execution_count": null,
      "id": "61a7a1c5",
      "metadata": {
        "id": "61a7a1c5"
      },
      "outputs": [],
      "source": [
        "# top 3 models based on mae\n",
        "best_mae_models_top3"
      ]
    },
    {
      "cell_type": "code",
      "execution_count": null,
      "id": "04f65f2f",
      "metadata": {
        "id": "04f65f2f"
      },
      "outputs": [],
      "source": [
        "# blend top 3 models\n",
        "blend_models(best_mae_models_top3)"
      ]
    },
    {
      "cell_type": "markdown",
      "id": "9e788c9c",
      "metadata": {
        "id": "9e788c9c"
      },
      "source": [
        "Some other parameters that you might find very useful in `blend_models` are:\n",
        "\n",
        "- choose_better\n",
        "- weights\n",
        "- optimize\n",
        "- fit_kwargs\n",
        "- return_train_score\n",
        "\n",
        "You can check the docstring of the function for more info."
      ]
    },
    {
      "cell_type": "code",
      "execution_count": null,
      "id": "99b549a6",
      "metadata": {
        "id": "99b549a6"
      },
      "outputs": [],
      "source": [
        "# help(blend_models)"
      ]
    },
    {
      "cell_type": "markdown",
      "id": "e76969b0",
      "metadata": {
        "id": "e76969b0"
      },
      "source": [
        "## ✅ Stack Models"
      ]
    },
    {
      "cell_type": "markdown",
      "id": "55909804",
      "metadata": {
        "id": "55909804"
      },
      "source": [
        "The `stack_models` function trains a meta-model over select estimators passed in the estimator_list parameter. The output of this function is a scoring grid with CV scores by fold. Metrics evaluated during CV can be accessed using the `get_metrics` function. Custom metrics can be added or removed using `add_metric` and `remove_metric` function."
      ]
    },
    {
      "cell_type": "code",
      "execution_count": null,
      "id": "201c681e",
      "metadata": {
        "id": "201c681e"
      },
      "outputs": [],
      "source": [
        "# stack models\n",
        "stack_models(best_mae_models_top3)"
      ]
    },
    {
      "cell_type": "markdown",
      "id": "af78cda8",
      "metadata": {
        "id": "af78cda8"
      },
      "source": [
        "Some other parameters that you might find very useful in `stack_models` are:\n",
        "\n",
        "- choose_better\n",
        "- meta_model\n",
        "- restack\n",
        "- optimize\n",
        "- return_train_score\n",
        "\n",
        "You can check the docstring of the function for more info."
      ]
    },
    {
      "cell_type": "code",
      "execution_count": null,
      "id": "3305e597",
      "metadata": {
        "id": "3305e597"
      },
      "outputs": [],
      "source": [
        "# help(stack_models)"
      ]
    },
    {
      "cell_type": "markdown",
      "id": "279a3127",
      "metadata": {
        "id": "279a3127"
      },
      "source": [
        "## ✅ Plot Model"
      ]
    },
    {
      "cell_type": "markdown",
      "id": "862bd3e9",
      "metadata": {
        "id": "862bd3e9"
      },
      "source": [
        "The `plot_model` function analyzes the performance of a trained model on the hold-out set. It may require re-training the model in certain cases."
      ]
    },
    {
      "cell_type": "code",
      "execution_count": null,
      "id": "9c8da9b4",
      "metadata": {
        "id": "9c8da9b4"
      },
      "outputs": [],
      "source": [
        "# plot residuals\n",
        "plot_model(best, plot = 'residuals')"
      ]
    },
    {
      "cell_type": "code",
      "execution_count": null,
      "id": "952b6f24",
      "metadata": {
        "id": "952b6f24"
      },
      "outputs": [],
      "source": [
        "# to control the scale of plot\n",
        "plot_model(best, plot = 'residuals', scale = 2)"
      ]
    },
    {
      "cell_type": "code",
      "execution_count": null,
      "id": "293e4d15",
      "metadata": {
        "id": "293e4d15"
      },
      "outputs": [],
      "source": [
        "# to save the plot\n",
        "plot_model(best, plot = 'residuals', save=True)"
      ]
    },
    {
      "cell_type": "markdown",
      "id": "2fef279d",
      "metadata": {
        "id": "2fef279d"
      },
      "source": [
        "Some other parameters that you might find very useful in `plot_model` are:\n",
        "\n",
        "- fit_kwargs\n",
        "- plot_kwargs\n",
        "- groups\n",
        "- display_format\n",
        "\n",
        "You can check the docstring of the function for more info."
      ]
    },
    {
      "cell_type": "code",
      "execution_count": null,
      "id": "54b09b8e",
      "metadata": {
        "id": "54b09b8e"
      },
      "outputs": [],
      "source": [
        "# help(plot_model)"
      ]
    },
    {
      "cell_type": "markdown",
      "id": "b724ca46",
      "metadata": {
        "id": "b724ca46"
      },
      "source": [
        "## ✅ Interpret Model"
      ]
    },
    {
      "cell_type": "markdown",
      "id": "52f8fb33",
      "metadata": {
        "id": "52f8fb33"
      },
      "source": [
        "The `interpret_model` function analyzes the predictions generated from a trained model. Most plots in this function are implemented based on the SHAP (Shapley Additive exPlanations). For more info on this, please see https://shap.readthedocs.io/en/latest/"
      ]
    },
    {
      "cell_type": "code",
      "execution_count": null,
      "id": "6b6891b7",
      "metadata": {
        "id": "6b6891b7"
      },
      "outputs": [],
      "source": [
        "# train lightgbm model\n",
        "lightgbm = create_model('lightgbm')"
      ]
    },
    {
      "cell_type": "code",
      "execution_count": null,
      "id": "3198b571",
      "metadata": {
        "id": "3198b571"
      },
      "outputs": [],
      "source": [
        "# interpret summary model\n",
        "interpret_model(lightgbm, plot = 'summary')"
      ]
    },
    {
      "cell_type": "code",
      "execution_count": null,
      "id": "824bafdc",
      "metadata": {
        "id": "824bafdc"
      },
      "outputs": [],
      "source": [
        "# reason plot for test set observation 1\n",
        "interpret_model(lightgbm, plot = 'reason', observation = 1)"
      ]
    },
    {
      "cell_type": "markdown",
      "id": "ca7ce2b4",
      "metadata": {
        "id": "ca7ce2b4"
      },
      "source": [
        "Some other parameters that you might find very useful in `interpret_model` are:\n",
        "\n",
        "- plot\n",
        "- feature\n",
        "- use_train_data\n",
        "- X_new_sample\n",
        "- y_new_sample\n",
        "- save\n",
        "\n",
        "You can check the docstring of the function for more info."
      ]
    },
    {
      "cell_type": "code",
      "execution_count": null,
      "id": "42595030",
      "metadata": {
        "id": "42595030"
      },
      "outputs": [],
      "source": [
        "# help(interpret_model)"
      ]
    },
    {
      "cell_type": "markdown",
      "id": "9f57d0c8",
      "metadata": {
        "id": "9f57d0c8"
      },
      "source": [
        "## ✅ Get Leaderboard"
      ]
    },
    {
      "cell_type": "markdown",
      "id": "ec63b67a",
      "metadata": {
        "id": "ec63b67a"
      },
      "source": [
        "This function returns the leaderboard of all models trained in the current setup."
      ]
    },
    {
      "cell_type": "code",
      "execution_count": null,
      "id": "307a6e3c",
      "metadata": {
        "id": "307a6e3c"
      },
      "outputs": [],
      "source": [
        "# get leaderboard\n",
        "lb = get_leaderboard()\n",
        "lb"
      ]
    },
    {
      "cell_type": "code",
      "execution_count": null,
      "id": "f8a8b060",
      "metadata": {
        "id": "f8a8b060"
      },
      "outputs": [],
      "source": [
        "# select the best model based on MAE\n",
        "lb.sort_values(by='MAE', ascending=True)['Model'].iloc[0]"
      ]
    },
    {
      "cell_type": "markdown",
      "id": "9ecf0bfa",
      "metadata": {
        "id": "9ecf0bfa"
      },
      "source": [
        "Some other parameters that you might find very useful in `get_leaderboard` are:\n",
        "\n",
        "- finalize_models\n",
        "- fit_kwargs\n",
        "- model_only\n",
        "- groups\n",
        "\n",
        "You can check the docstring of the function for more info."
      ]
    },
    {
      "cell_type": "code",
      "execution_count": null,
      "id": "dc76f0a5",
      "metadata": {
        "id": "dc76f0a5"
      },
      "outputs": [],
      "source": [
        "# help(get_leaderboard)"
      ]
    },
    {
      "cell_type": "markdown",
      "id": "94669c72",
      "metadata": {
        "id": "94669c72"
      },
      "source": [
        "## ✅ AutoML\n",
        "This function returns the best model out of all trained models in the current setup based on the optimize parameter. Metrics evaluated can be accessed using the `get_metrics` function."
      ]
    },
    {
      "cell_type": "code",
      "execution_count": null,
      "id": "01532054",
      "metadata": {
        "id": "01532054"
      },
      "outputs": [],
      "source": [
        "# find best model based on CV metrics\n",
        "automl()"
      ]
    },
    {
      "cell_type": "markdown",
      "id": "726b2986",
      "metadata": {
        "id": "726b2986"
      },
      "source": [
        "## ✅ Dashboard\n",
        "The dashboard function generates the interactive dashboard for a trained model. The dashboard is implemented using `ExplainerDashboard`. For more information check out [Explainer Dashboard.](explainerdashboard.readthedocs.io)"
      ]
    },
    {
      "cell_type": "code",
      "execution_count": null,
      "id": "ca75507d",
      "metadata": {
        "id": "ca75507d"
      },
      "outputs": [],
      "source": [
        "# dashboard function\n",
        "dashboard(dt, display_format ='inline')"
      ]
    },
    {
      "cell_type": "markdown",
      "id": "58fd3e5a",
      "metadata": {
        "id": "58fd3e5a"
      },
      "source": [
        "## ✅Create App\n",
        "This function creates a basic gradio app for inference."
      ]
    },
    {
      "cell_type": "code",
      "execution_count": null,
      "id": "5cf989d3",
      "metadata": {
        "id": "5cf989d3"
      },
      "outputs": [],
      "source": [
        "# create gradio app\n",
        "create_app(best)"
      ]
    },
    {
      "cell_type": "markdown",
      "id": "a2d8e21d",
      "metadata": {
        "id": "a2d8e21d"
      },
      "source": [
        "## ✅ Create API\n",
        "This function takes an input model and creates a POST API for inference."
      ]
    },
    {
      "cell_type": "code",
      "execution_count": null,
      "id": "978413c9",
      "metadata": {
        "id": "978413c9"
      },
      "outputs": [],
      "source": [
        "# create api\n",
        "create_api(best, api_name = 'my_first_api')"
      ]
    },
    {
      "cell_type": "code",
      "execution_count": null,
      "id": "68e539aa",
      "metadata": {
        "id": "68e539aa"
      },
      "outputs": [],
      "source": [
        "# !python my_first_api.py"
      ]
    },
    {
      "cell_type": "code",
      "execution_count": null,
      "id": "a3de3327",
      "metadata": {
        "id": "a3de3327"
      },
      "outputs": [],
      "source": [
        "# check out the .py file created with this magic command\n",
        "# %load my_first_api.py"
      ]
    },
    {
      "cell_type": "markdown",
      "id": "1023f7df",
      "metadata": {
        "id": "1023f7df"
      },
      "source": [
        "## ✅ Create Docker\n",
        "This function creates a `Dockerfile` and `requirements.txt` for productionalizing API end-point."
      ]
    },
    {
      "cell_type": "code",
      "execution_count": null,
      "id": "452ced14",
      "metadata": {
        "id": "452ced14"
      },
      "outputs": [],
      "source": [
        "create_docker('my_first_api')"
      ]
    },
    {
      "cell_type": "code",
      "execution_count": null,
      "id": "301e1fa5",
      "metadata": {
        "id": "301e1fa5"
      },
      "outputs": [],
      "source": [
        "# check out the DockerFile file created with this magic command\n",
        "# %load DockerFile"
      ]
    },
    {
      "cell_type": "code",
      "execution_count": null,
      "id": "ca1e9ef7",
      "metadata": {
        "id": "ca1e9ef7"
      },
      "outputs": [],
      "source": [
        "# check out the requirements file created with this magic command\n",
        "# %load requirements.txt"
      ]
    },
    {
      "cell_type": "markdown",
      "id": "e27c212b",
      "metadata": {
        "id": "e27c212b"
      },
      "source": [
        "## ✅ Finalize Model\n",
        "This function trains a given model on the entire dataset including the hold-out set."
      ]
    },
    {
      "cell_type": "code",
      "execution_count": null,
      "id": "65225684",
      "metadata": {
        "id": "65225684"
      },
      "outputs": [],
      "source": [
        "final_best = finalize_model(best)"
      ]
    },
    {
      "cell_type": "code",
      "execution_count": null,
      "id": "80d17fec",
      "metadata": {
        "id": "80d17fec"
      },
      "outputs": [],
      "source": [
        "final_best"
      ]
    },
    {
      "cell_type": "markdown",
      "id": "b4693f88",
      "metadata": {
        "id": "b4693f88"
      },
      "source": [
        "## ✅ Convert Model\n",
        "This function transpiles the trained machine learning model's decision function in different programming languages such as Python, C, Java, Go, C#, etc. It is very useful if you want to deploy models into environments where you can't install your normal Python stack to support model inference."
      ]
    },
    {
      "cell_type": "code",
      "execution_count": null,
      "id": "dbe0e9fe",
      "metadata": {
        "id": "dbe0e9fe"
      },
      "outputs": [],
      "source": [
        "# transpiles learned function to java\n",
        "print(convert_model(dt, language = 'java'))"
      ]
    },
    {
      "cell_type": "markdown",
      "id": "ed00202c",
      "metadata": {
        "id": "ed00202c"
      },
      "source": [
        "## ✅ Deploy Model\n",
        "This function deploys the entire ML pipeline on the cloud.\n",
        "\n",
        "**AWS:**  When deploying model on AWS S3, environment variables must be configured using the command-line interface. To configure AWS environment variables, type `aws configure` in terminal. The following information is required which can be generated using the Identity and Access Management (IAM) portal of your amazon console account:\n",
        "\n",
        "- AWS Access Key ID\n",
        "- AWS Secret Key Access\n",
        "- Default Region Name (can be seen under Global settings on your AWS console)\n",
        "- Default output format (must be left blank)\n",
        "\n",
        "**GCP:** To deploy a model on Google Cloud Platform ('gcp'), the project must be created using the command-line or GCP console. Once the project is created, you must create a service account and download the service account key as a JSON file to set environment variables in your local environment. Learn more about it: https://cloud.google.com/docs/authentication/production\n",
        "\n",
        "**Azure:** To deploy a model on Microsoft Azure ('azure'), environment variables for the connection string must be set in your local environment. Go to settings of storage account on Azure portal to access the connection string required.\n",
        "AZURE_STORAGE_CONNECTION_STRING (required as environment variable)\n",
        "Learn more about it: https://docs.microsoft.com/en-us/azure/storage/blobs/storage-quickstart-blobs-python?toc=%2Fpython%2Fazure%2FTOC.json"
      ]
    },
    {
      "cell_type": "code",
      "execution_count": null,
      "id": "40b20a18",
      "metadata": {
        "id": "40b20a18"
      },
      "outputs": [],
      "source": [
        "# deploy model on aws s3\n",
        "# deploy_model(best, model_name = 'my_first_platform_on_aws',\n",
        "#             platform = 'aws', authentication = {'bucket' : 'pycaret-test'})"
      ]
    },
    {
      "cell_type": "code",
      "execution_count": null,
      "id": "9e236516",
      "metadata": {
        "id": "9e236516"
      },
      "outputs": [],
      "source": [
        "# load model from aws s3\n",
        "# loaded_from_aws = load_model(model_name = 'my_first_platform_on_aws', platform = 'aws',\n",
        "#                              authentication = {'bucket' : 'pycaret-test'})\n",
        "\n",
        "# loaded_from_aws"
      ]
    },
    {
      "cell_type": "markdown",
      "id": "e169ae86",
      "metadata": {
        "id": "e169ae86"
      },
      "source": [
        "## ✅ Save / Load Model\n",
        "This function saves the transformation pipeline and a trained model object into the current working directory as a pickle file for later use."
      ]
    },
    {
      "cell_type": "code",
      "execution_count": null,
      "id": "bc5cf24a",
      "metadata": {
        "id": "bc5cf24a"
      },
      "outputs": [],
      "source": [
        "# save model\n",
        "save_model(best, 'my_first_model')"
      ]
    },
    {
      "cell_type": "code",
      "execution_count": null,
      "id": "e8478d34",
      "metadata": {
        "id": "e8478d34"
      },
      "outputs": [],
      "source": [
        "# load model\n",
        "loaded_from_disk = load_model('my_first_model')\n",
        "loaded_from_disk"
      ]
    },
    {
      "cell_type": "markdown",
      "id": "de5eee8c",
      "metadata": {
        "id": "de5eee8c"
      },
      "source": [
        "## ✅ Save / Load Experiment\n",
        "This function saves all the experiment variables on disk, allowing to later resume without rerunning the setup function."
      ]
    },
    {
      "cell_type": "code",
      "execution_count": null,
      "id": "6a3c61b6",
      "metadata": {
        "id": "6a3c61b6"
      },
      "outputs": [],
      "source": [
        "# save experiment\n",
        "save_experiment('my_experiment')"
      ]
    },
    {
      "cell_type": "code",
      "execution_count": null,
      "id": "83252c09",
      "metadata": {
        "id": "83252c09"
      },
      "outputs": [],
      "source": [
        "# load experiment from disk\n",
        "exp_from_disk = load_experiment('my_experiment', data=data)"
      ]
    },
    {
      "cell_type": "code",
      "execution_count": null,
      "id": "154571c1",
      "metadata": {
        "id": "154571c1"
      },
      "outputs": [],
      "source": []
    }
  ],
  "metadata": {
    "kernelspec": {
      "display_name": ".venv",
      "language": "python",
      "name": "python3"
    },
    "language_info": {
      "codemirror_mode": {
        "name": "ipython",
        "version": 3
      },
      "file_extension": ".py",
      "mimetype": "text/x-python",
      "name": "python",
      "nbconvert_exporter": "python",
      "pygments_lexer": "ipython3",
      "version": "3.11.9"
    },
    "colab": {
      "provenance": []
    },
    "widgets": {
      "application/vnd.jupyter.widget-state+json": {
        "c6d3fb635c50494d9469eee978b48741": {
          "model_module": "@jupyter-widgets/controls",
          "model_name": "HBoxModel",
          "model_module_version": "1.5.0",
          "state": {
            "_dom_classes": [],
            "_model_module": "@jupyter-widgets/controls",
            "_model_module_version": "1.5.0",
            "_model_name": "HBoxModel",
            "_view_count": null,
            "_view_module": "@jupyter-widgets/controls",
            "_view_module_version": "1.5.0",
            "_view_name": "HBoxView",
            "box_style": "",
            "children": [
              "IPY_MODEL_d2cb86d459ac47ca895e21c7958c1030",
              "IPY_MODEL_cccaeb681168499caaf4a76b8ebf3f7e",
              "IPY_MODEL_f6a5262bc86c4e4980333eb3371f8786"
            ],
            "layout": "IPY_MODEL_c7edcb35cbd04539b75903566fffbb3b"
          }
        },
        "d2cb86d459ac47ca895e21c7958c1030": {
          "model_module": "@jupyter-widgets/controls",
          "model_name": "HTMLModel",
          "model_module_version": "1.5.0",
          "state": {
            "_dom_classes": [],
            "_model_module": "@jupyter-widgets/controls",
            "_model_module_version": "1.5.0",
            "_model_name": "HTMLModel",
            "_view_count": null,
            "_view_module": "@jupyter-widgets/controls",
            "_view_module_version": "1.5.0",
            "_view_name": "HTMLView",
            "description": "",
            "description_tooltip": null,
            "layout": "IPY_MODEL_5955e0f9c4a44956ab3f17476311daef",
            "placeholder": "​",
            "style": "IPY_MODEL_a847269bade8486ba15c87701eff31ad",
            "value": "Processing: 100%"
          }
        },
        "cccaeb681168499caaf4a76b8ebf3f7e": {
          "model_module": "@jupyter-widgets/controls",
          "model_name": "FloatProgressModel",
          "model_module_version": "1.5.0",
          "state": {
            "_dom_classes": [],
            "_model_module": "@jupyter-widgets/controls",
            "_model_module_version": "1.5.0",
            "_model_name": "FloatProgressModel",
            "_view_count": null,
            "_view_module": "@jupyter-widgets/controls",
            "_view_module_version": "1.5.0",
            "_view_name": "ProgressView",
            "bar_style": "",
            "description": "",
            "description_tooltip": null,
            "layout": "IPY_MODEL_7f445a9b9e104ac08bdf5197ccbb7ec5",
            "max": 85,
            "min": 0,
            "orientation": "horizontal",
            "style": "IPY_MODEL_963f50e8247f41a2bc441231ddceb0ef",
            "value": 85
          }
        },
        "f6a5262bc86c4e4980333eb3371f8786": {
          "model_module": "@jupyter-widgets/controls",
          "model_name": "HTMLModel",
          "model_module_version": "1.5.0",
          "state": {
            "_dom_classes": [],
            "_model_module": "@jupyter-widgets/controls",
            "_model_module_version": "1.5.0",
            "_model_name": "HTMLModel",
            "_view_count": null,
            "_view_module": "@jupyter-widgets/controls",
            "_view_module_version": "1.5.0",
            "_view_name": "HTMLView",
            "description": "",
            "description_tooltip": null,
            "layout": "IPY_MODEL_15b56ef24771499cbff3def6d78b9674",
            "placeholder": "​",
            "style": "IPY_MODEL_bbde2636b8eb421aa6ccededf2b6219a",
            "value": " 85/85 [00:48&lt;00:00,  1.29it/s]"
          }
        },
        "c7edcb35cbd04539b75903566fffbb3b": {
          "model_module": "@jupyter-widgets/base",
          "model_name": "LayoutModel",
          "model_module_version": "1.2.0",
          "state": {
            "_model_module": "@jupyter-widgets/base",
            "_model_module_version": "1.2.0",
            "_model_name": "LayoutModel",
            "_view_count": null,
            "_view_module": "@jupyter-widgets/base",
            "_view_module_version": "1.2.0",
            "_view_name": "LayoutView",
            "align_content": null,
            "align_items": null,
            "align_self": null,
            "border": null,
            "bottom": null,
            "display": null,
            "flex": null,
            "flex_flow": null,
            "grid_area": null,
            "grid_auto_columns": null,
            "grid_auto_flow": null,
            "grid_auto_rows": null,
            "grid_column": null,
            "grid_gap": null,
            "grid_row": null,
            "grid_template_areas": null,
            "grid_template_columns": null,
            "grid_template_rows": null,
            "height": null,
            "justify_content": null,
            "justify_items": null,
            "left": null,
            "margin": null,
            "max_height": null,
            "max_width": null,
            "min_height": null,
            "min_width": null,
            "object_fit": null,
            "object_position": null,
            "order": null,
            "overflow": null,
            "overflow_x": null,
            "overflow_y": null,
            "padding": null,
            "right": null,
            "top": null,
            "visibility": "hidden",
            "width": null
          }
        },
        "5955e0f9c4a44956ab3f17476311daef": {
          "model_module": "@jupyter-widgets/base",
          "model_name": "LayoutModel",
          "model_module_version": "1.2.0",
          "state": {
            "_model_module": "@jupyter-widgets/base",
            "_model_module_version": "1.2.0",
            "_model_name": "LayoutModel",
            "_view_count": null,
            "_view_module": "@jupyter-widgets/base",
            "_view_module_version": "1.2.0",
            "_view_name": "LayoutView",
            "align_content": null,
            "align_items": null,
            "align_self": null,
            "border": null,
            "bottom": null,
            "display": null,
            "flex": null,
            "flex_flow": null,
            "grid_area": null,
            "grid_auto_columns": null,
            "grid_auto_flow": null,
            "grid_auto_rows": null,
            "grid_column": null,
            "grid_gap": null,
            "grid_row": null,
            "grid_template_areas": null,
            "grid_template_columns": null,
            "grid_template_rows": null,
            "height": null,
            "justify_content": null,
            "justify_items": null,
            "left": null,
            "margin": null,
            "max_height": null,
            "max_width": null,
            "min_height": null,
            "min_width": null,
            "object_fit": null,
            "object_position": null,
            "order": null,
            "overflow": null,
            "overflow_x": null,
            "overflow_y": null,
            "padding": null,
            "right": null,
            "top": null,
            "visibility": null,
            "width": null
          }
        },
        "a847269bade8486ba15c87701eff31ad": {
          "model_module": "@jupyter-widgets/controls",
          "model_name": "DescriptionStyleModel",
          "model_module_version": "1.5.0",
          "state": {
            "_model_module": "@jupyter-widgets/controls",
            "_model_module_version": "1.5.0",
            "_model_name": "DescriptionStyleModel",
            "_view_count": null,
            "_view_module": "@jupyter-widgets/base",
            "_view_module_version": "1.2.0",
            "_view_name": "StyleView",
            "description_width": ""
          }
        },
        "7f445a9b9e104ac08bdf5197ccbb7ec5": {
          "model_module": "@jupyter-widgets/base",
          "model_name": "LayoutModel",
          "model_module_version": "1.2.0",
          "state": {
            "_model_module": "@jupyter-widgets/base",
            "_model_module_version": "1.2.0",
            "_model_name": "LayoutModel",
            "_view_count": null,
            "_view_module": "@jupyter-widgets/base",
            "_view_module_version": "1.2.0",
            "_view_name": "LayoutView",
            "align_content": null,
            "align_items": null,
            "align_self": null,
            "border": null,
            "bottom": null,
            "display": null,
            "flex": null,
            "flex_flow": null,
            "grid_area": null,
            "grid_auto_columns": null,
            "grid_auto_flow": null,
            "grid_auto_rows": null,
            "grid_column": null,
            "grid_gap": null,
            "grid_row": null,
            "grid_template_areas": null,
            "grid_template_columns": null,
            "grid_template_rows": null,
            "height": null,
            "justify_content": null,
            "justify_items": null,
            "left": null,
            "margin": null,
            "max_height": null,
            "max_width": null,
            "min_height": null,
            "min_width": null,
            "object_fit": null,
            "object_position": null,
            "order": null,
            "overflow": null,
            "overflow_x": null,
            "overflow_y": null,
            "padding": null,
            "right": null,
            "top": null,
            "visibility": null,
            "width": null
          }
        },
        "963f50e8247f41a2bc441231ddceb0ef": {
          "model_module": "@jupyter-widgets/controls",
          "model_name": "ProgressStyleModel",
          "model_module_version": "1.5.0",
          "state": {
            "_model_module": "@jupyter-widgets/controls",
            "_model_module_version": "1.5.0",
            "_model_name": "ProgressStyleModel",
            "_view_count": null,
            "_view_module": "@jupyter-widgets/base",
            "_view_module_version": "1.2.0",
            "_view_name": "StyleView",
            "bar_color": null,
            "description_width": ""
          }
        },
        "15b56ef24771499cbff3def6d78b9674": {
          "model_module": "@jupyter-widgets/base",
          "model_name": "LayoutModel",
          "model_module_version": "1.2.0",
          "state": {
            "_model_module": "@jupyter-widgets/base",
            "_model_module_version": "1.2.0",
            "_model_name": "LayoutModel",
            "_view_count": null,
            "_view_module": "@jupyter-widgets/base",
            "_view_module_version": "1.2.0",
            "_view_name": "LayoutView",
            "align_content": null,
            "align_items": null,
            "align_self": null,
            "border": null,
            "bottom": null,
            "display": null,
            "flex": null,
            "flex_flow": null,
            "grid_area": null,
            "grid_auto_columns": null,
            "grid_auto_flow": null,
            "grid_auto_rows": null,
            "grid_column": null,
            "grid_gap": null,
            "grid_row": null,
            "grid_template_areas": null,
            "grid_template_columns": null,
            "grid_template_rows": null,
            "height": null,
            "justify_content": null,
            "justify_items": null,
            "left": null,
            "margin": null,
            "max_height": null,
            "max_width": null,
            "min_height": null,
            "min_width": null,
            "object_fit": null,
            "object_position": null,
            "order": null,
            "overflow": null,
            "overflow_x": null,
            "overflow_y": null,
            "padding": null,
            "right": null,
            "top": null,
            "visibility": null,
            "width": null
          }
        },
        "bbde2636b8eb421aa6ccededf2b6219a": {
          "model_module": "@jupyter-widgets/controls",
          "model_name": "DescriptionStyleModel",
          "model_module_version": "1.5.0",
          "state": {
            "_model_module": "@jupyter-widgets/controls",
            "_model_module_version": "1.5.0",
            "_model_name": "DescriptionStyleModel",
            "_view_count": null,
            "_view_module": "@jupyter-widgets/base",
            "_view_module_version": "1.2.0",
            "_view_name": "StyleView",
            "description_width": ""
          }
        },
        "a0e0f96276f441c890d34533d5004305": {
          "model_module": "@jupyter-widgets/controls",
          "model_name": "HBoxModel",
          "model_module_version": "1.5.0",
          "state": {
            "_dom_classes": [],
            "_model_module": "@jupyter-widgets/controls",
            "_model_module_version": "1.5.0",
            "_model_name": "HBoxModel",
            "_view_count": null,
            "_view_module": "@jupyter-widgets/controls",
            "_view_module_version": "1.5.0",
            "_view_name": "HBoxView",
            "box_style": "",
            "children": [
              "IPY_MODEL_81c261638ac04427bfcabad1d1af384c",
              "IPY_MODEL_a668ba7f7ae04ff88209c114d91aee2d",
              "IPY_MODEL_900b596a186943c8ace7a53378a66550"
            ],
            "layout": "IPY_MODEL_ea16ea7c12ea4372b6503f29dd057521"
          }
        },
        "81c261638ac04427bfcabad1d1af384c": {
          "model_module": "@jupyter-widgets/controls",
          "model_name": "HTMLModel",
          "model_module_version": "1.5.0",
          "state": {
            "_dom_classes": [],
            "_model_module": "@jupyter-widgets/controls",
            "_model_module_version": "1.5.0",
            "_model_name": "HTMLModel",
            "_view_count": null,
            "_view_module": "@jupyter-widgets/controls",
            "_view_module_version": "1.5.0",
            "_view_name": "HTMLView",
            "description": "",
            "description_tooltip": null,
            "layout": "IPY_MODEL_2a90ba1894b3421a977b1b6602c706a2",
            "placeholder": "​",
            "style": "IPY_MODEL_6de9a34a925a4208bc0e5622304d8d08",
            "value": "Processing: 100%"
          }
        },
        "a668ba7f7ae04ff88209c114d91aee2d": {
          "model_module": "@jupyter-widgets/controls",
          "model_name": "FloatProgressModel",
          "model_module_version": "1.5.0",
          "state": {
            "_dom_classes": [],
            "_model_module": "@jupyter-widgets/controls",
            "_model_module_version": "1.5.0",
            "_model_name": "FloatProgressModel",
            "_view_count": null,
            "_view_module": "@jupyter-widgets/controls",
            "_view_module_version": "1.5.0",
            "_view_name": "ProgressView",
            "bar_style": "",
            "description": "",
            "description_tooltip": null,
            "layout": "IPY_MODEL_13e4ff11416543f0941846bbe6bcdebc",
            "max": 4,
            "min": 0,
            "orientation": "horizontal",
            "style": "IPY_MODEL_c4e66079c798430f80b5a531a0325f4d",
            "value": 4
          }
        },
        "900b596a186943c8ace7a53378a66550": {
          "model_module": "@jupyter-widgets/controls",
          "model_name": "HTMLModel",
          "model_module_version": "1.5.0",
          "state": {
            "_dom_classes": [],
            "_model_module": "@jupyter-widgets/controls",
            "_model_module_version": "1.5.0",
            "_model_name": "HTMLModel",
            "_view_count": null,
            "_view_module": "@jupyter-widgets/controls",
            "_view_module_version": "1.5.0",
            "_view_name": "HTMLView",
            "description": "",
            "description_tooltip": null,
            "layout": "IPY_MODEL_774e99d40ed3434189160a04ecbfa5cf",
            "placeholder": "​",
            "style": "IPY_MODEL_32af936f5fda4d23811b098f9bf4b31f",
            "value": " 4/4 [00:16&lt;00:00,  4.04s/it]"
          }
        },
        "ea16ea7c12ea4372b6503f29dd057521": {
          "model_module": "@jupyter-widgets/base",
          "model_name": "LayoutModel",
          "model_module_version": "1.2.0",
          "state": {
            "_model_module": "@jupyter-widgets/base",
            "_model_module_version": "1.2.0",
            "_model_name": "LayoutModel",
            "_view_count": null,
            "_view_module": "@jupyter-widgets/base",
            "_view_module_version": "1.2.0",
            "_view_name": "LayoutView",
            "align_content": null,
            "align_items": null,
            "align_self": null,
            "border": null,
            "bottom": null,
            "display": null,
            "flex": null,
            "flex_flow": null,
            "grid_area": null,
            "grid_auto_columns": null,
            "grid_auto_flow": null,
            "grid_auto_rows": null,
            "grid_column": null,
            "grid_gap": null,
            "grid_row": null,
            "grid_template_areas": null,
            "grid_template_columns": null,
            "grid_template_rows": null,
            "height": null,
            "justify_content": null,
            "justify_items": null,
            "left": null,
            "margin": null,
            "max_height": null,
            "max_width": null,
            "min_height": null,
            "min_width": null,
            "object_fit": null,
            "object_position": null,
            "order": null,
            "overflow": null,
            "overflow_x": null,
            "overflow_y": null,
            "padding": null,
            "right": null,
            "top": null,
            "visibility": "hidden",
            "width": null
          }
        },
        "2a90ba1894b3421a977b1b6602c706a2": {
          "model_module": "@jupyter-widgets/base",
          "model_name": "LayoutModel",
          "model_module_version": "1.2.0",
          "state": {
            "_model_module": "@jupyter-widgets/base",
            "_model_module_version": "1.2.0",
            "_model_name": "LayoutModel",
            "_view_count": null,
            "_view_module": "@jupyter-widgets/base",
            "_view_module_version": "1.2.0",
            "_view_name": "LayoutView",
            "align_content": null,
            "align_items": null,
            "align_self": null,
            "border": null,
            "bottom": null,
            "display": null,
            "flex": null,
            "flex_flow": null,
            "grid_area": null,
            "grid_auto_columns": null,
            "grid_auto_flow": null,
            "grid_auto_rows": null,
            "grid_column": null,
            "grid_gap": null,
            "grid_row": null,
            "grid_template_areas": null,
            "grid_template_columns": null,
            "grid_template_rows": null,
            "height": null,
            "justify_content": null,
            "justify_items": null,
            "left": null,
            "margin": null,
            "max_height": null,
            "max_width": null,
            "min_height": null,
            "min_width": null,
            "object_fit": null,
            "object_position": null,
            "order": null,
            "overflow": null,
            "overflow_x": null,
            "overflow_y": null,
            "padding": null,
            "right": null,
            "top": null,
            "visibility": null,
            "width": null
          }
        },
        "6de9a34a925a4208bc0e5622304d8d08": {
          "model_module": "@jupyter-widgets/controls",
          "model_name": "DescriptionStyleModel",
          "model_module_version": "1.5.0",
          "state": {
            "_model_module": "@jupyter-widgets/controls",
            "_model_module_version": "1.5.0",
            "_model_name": "DescriptionStyleModel",
            "_view_count": null,
            "_view_module": "@jupyter-widgets/base",
            "_view_module_version": "1.2.0",
            "_view_name": "StyleView",
            "description_width": ""
          }
        },
        "13e4ff11416543f0941846bbe6bcdebc": {
          "model_module": "@jupyter-widgets/base",
          "model_name": "LayoutModel",
          "model_module_version": "1.2.0",
          "state": {
            "_model_module": "@jupyter-widgets/base",
            "_model_module_version": "1.2.0",
            "_model_name": "LayoutModel",
            "_view_count": null,
            "_view_module": "@jupyter-widgets/base",
            "_view_module_version": "1.2.0",
            "_view_name": "LayoutView",
            "align_content": null,
            "align_items": null,
            "align_self": null,
            "border": null,
            "bottom": null,
            "display": null,
            "flex": null,
            "flex_flow": null,
            "grid_area": null,
            "grid_auto_columns": null,
            "grid_auto_flow": null,
            "grid_auto_rows": null,
            "grid_column": null,
            "grid_gap": null,
            "grid_row": null,
            "grid_template_areas": null,
            "grid_template_columns": null,
            "grid_template_rows": null,
            "height": null,
            "justify_content": null,
            "justify_items": null,
            "left": null,
            "margin": null,
            "max_height": null,
            "max_width": null,
            "min_height": null,
            "min_width": null,
            "object_fit": null,
            "object_position": null,
            "order": null,
            "overflow": null,
            "overflow_x": null,
            "overflow_y": null,
            "padding": null,
            "right": null,
            "top": null,
            "visibility": null,
            "width": null
          }
        },
        "c4e66079c798430f80b5a531a0325f4d": {
          "model_module": "@jupyter-widgets/controls",
          "model_name": "ProgressStyleModel",
          "model_module_version": "1.5.0",
          "state": {
            "_model_module": "@jupyter-widgets/controls",
            "_model_module_version": "1.5.0",
            "_model_name": "ProgressStyleModel",
            "_view_count": null,
            "_view_module": "@jupyter-widgets/base",
            "_view_module_version": "1.2.0",
            "_view_name": "StyleView",
            "bar_color": null,
            "description_width": ""
          }
        },
        "774e99d40ed3434189160a04ecbfa5cf": {
          "model_module": "@jupyter-widgets/base",
          "model_name": "LayoutModel",
          "model_module_version": "1.2.0",
          "state": {
            "_model_module": "@jupyter-widgets/base",
            "_model_module_version": "1.2.0",
            "_model_name": "LayoutModel",
            "_view_count": null,
            "_view_module": "@jupyter-widgets/base",
            "_view_module_version": "1.2.0",
            "_view_name": "LayoutView",
            "align_content": null,
            "align_items": null,
            "align_self": null,
            "border": null,
            "bottom": null,
            "display": null,
            "flex": null,
            "flex_flow": null,
            "grid_area": null,
            "grid_auto_columns": null,
            "grid_auto_flow": null,
            "grid_auto_rows": null,
            "grid_column": null,
            "grid_gap": null,
            "grid_row": null,
            "grid_template_areas": null,
            "grid_template_columns": null,
            "grid_template_rows": null,
            "height": null,
            "justify_content": null,
            "justify_items": null,
            "left": null,
            "margin": null,
            "max_height": null,
            "max_width": null,
            "min_height": null,
            "min_width": null,
            "object_fit": null,
            "object_position": null,
            "order": null,
            "overflow": null,
            "overflow_x": null,
            "overflow_y": null,
            "padding": null,
            "right": null,
            "top": null,
            "visibility": null,
            "width": null
          }
        },
        "32af936f5fda4d23811b098f9bf4b31f": {
          "model_module": "@jupyter-widgets/controls",
          "model_name": "DescriptionStyleModel",
          "model_module_version": "1.5.0",
          "state": {
            "_model_module": "@jupyter-widgets/controls",
            "_model_module_version": "1.5.0",
            "_model_name": "DescriptionStyleModel",
            "_view_count": null,
            "_view_module": "@jupyter-widgets/base",
            "_view_module_version": "1.2.0",
            "_view_name": "StyleView",
            "description_width": ""
          }
        },
        "5ec17ecd16a44577905d2bc68a022689": {
          "model_module": "@jupyter-widgets/controls",
          "model_name": "VBoxModel",
          "model_module_version": "1.5.0",
          "state": {
            "_dom_classes": [
              "widget-interact"
            ],
            "_model_module": "@jupyter-widgets/controls",
            "_model_module_version": "1.5.0",
            "_model_name": "VBoxModel",
            "_view_count": null,
            "_view_module": "@jupyter-widgets/controls",
            "_view_module_version": "1.5.0",
            "_view_name": "VBoxView",
            "box_style": "",
            "children": [
              "IPY_MODEL_480f8d092b6d46b692a733809fb5c364",
              "IPY_MODEL_999beac373d0486893a1c4a1e5bbf1a7"
            ],
            "layout": "IPY_MODEL_bdbe14b5f700469e899dd1bfbbce6f1c"
          }
        },
        "480f8d092b6d46b692a733809fb5c364": {
          "model_module": "@jupyter-widgets/controls",
          "model_name": "ToggleButtonsModel",
          "model_module_version": "1.5.0",
          "state": {
            "_dom_classes": [],
            "_model_module": "@jupyter-widgets/controls",
            "_model_module_version": "1.5.0",
            "_model_name": "ToggleButtonsModel",
            "_options_labels": [
              "Pipeline Plot",
              "Hyperparameters",
              "Residuals",
              "Prediction Error",
              "Cooks Distance",
              "Feature Selection",
              "Learning Curve",
              "Manifold Learning",
              "Validation Curve",
              "Feature Importance",
              "Feature Importance (All)",
              "Decision Tree",
              "Interactive Residuals"
            ],
            "_view_count": null,
            "_view_module": "@jupyter-widgets/controls",
            "_view_module_version": "1.5.0",
            "_view_name": "ToggleButtonsView",
            "button_style": "",
            "description": "Plot Type:",
            "description_tooltip": null,
            "disabled": false,
            "icons": [
              ""
            ],
            "index": 0,
            "layout": "IPY_MODEL_8b0ca4e92cbd4f6b955886f8802e6a1a",
            "style": "IPY_MODEL_74cf443779d144a2aad5304be10704c2",
            "tooltips": []
          }
        },
        "999beac373d0486893a1c4a1e5bbf1a7": {
          "model_module": "@jupyter-widgets/output",
          "model_name": "OutputModel",
          "model_module_version": "1.0.0",
          "state": {
            "_dom_classes": [],
            "_model_module": "@jupyter-widgets/output",
            "_model_module_version": "1.0.0",
            "_model_name": "OutputModel",
            "_view_count": null,
            "_view_module": "@jupyter-widgets/output",
            "_view_module_version": "1.0.0",
            "_view_name": "OutputView",
            "layout": "IPY_MODEL_3e8180f4db44465898ecba657780077c",
            "msg_id": "",
            "outputs": [
              {
                "output_type": "display_data",
                "data": {
                  "text/plain": "<Figure size 1200x600 with 1 Axes>",
                  "image/png": "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\n"
                },
                "metadata": {}
              }
            ]
          }
        },
        "bdbe14b5f700469e899dd1bfbbce6f1c": {
          "model_module": "@jupyter-widgets/base",
          "model_name": "LayoutModel",
          "model_module_version": "1.2.0",
          "state": {
            "_model_module": "@jupyter-widgets/base",
            "_model_module_version": "1.2.0",
            "_model_name": "LayoutModel",
            "_view_count": null,
            "_view_module": "@jupyter-widgets/base",
            "_view_module_version": "1.2.0",
            "_view_name": "LayoutView",
            "align_content": null,
            "align_items": null,
            "align_self": null,
            "border": null,
            "bottom": null,
            "display": null,
            "flex": null,
            "flex_flow": null,
            "grid_area": null,
            "grid_auto_columns": null,
            "grid_auto_flow": null,
            "grid_auto_rows": null,
            "grid_column": null,
            "grid_gap": null,
            "grid_row": null,
            "grid_template_areas": null,
            "grid_template_columns": null,
            "grid_template_rows": null,
            "height": null,
            "justify_content": null,
            "justify_items": null,
            "left": null,
            "margin": null,
            "max_height": null,
            "max_width": null,
            "min_height": null,
            "min_width": null,
            "object_fit": null,
            "object_position": null,
            "order": null,
            "overflow": null,
            "overflow_x": null,
            "overflow_y": null,
            "padding": null,
            "right": null,
            "top": null,
            "visibility": null,
            "width": null
          }
        },
        "8b0ca4e92cbd4f6b955886f8802e6a1a": {
          "model_module": "@jupyter-widgets/base",
          "model_name": "LayoutModel",
          "model_module_version": "1.2.0",
          "state": {
            "_model_module": "@jupyter-widgets/base",
            "_model_module_version": "1.2.0",
            "_model_name": "LayoutModel",
            "_view_count": null,
            "_view_module": "@jupyter-widgets/base",
            "_view_module_version": "1.2.0",
            "_view_name": "LayoutView",
            "align_content": null,
            "align_items": null,
            "align_self": null,
            "border": null,
            "bottom": null,
            "display": null,
            "flex": null,
            "flex_flow": null,
            "grid_area": null,
            "grid_auto_columns": null,
            "grid_auto_flow": null,
            "grid_auto_rows": null,
            "grid_column": null,
            "grid_gap": null,
            "grid_row": null,
            "grid_template_areas": null,
            "grid_template_columns": null,
            "grid_template_rows": null,
            "height": null,
            "justify_content": null,
            "justify_items": null,
            "left": null,
            "margin": null,
            "max_height": null,
            "max_width": null,
            "min_height": null,
            "min_width": null,
            "object_fit": null,
            "object_position": null,
            "order": null,
            "overflow": null,
            "overflow_x": null,
            "overflow_y": null,
            "padding": null,
            "right": null,
            "top": null,
            "visibility": null,
            "width": null
          }
        },
        "74cf443779d144a2aad5304be10704c2": {
          "model_module": "@jupyter-widgets/controls",
          "model_name": "ToggleButtonsStyleModel",
          "model_module_version": "1.5.0",
          "state": {
            "_model_module": "@jupyter-widgets/controls",
            "_model_module_version": "1.5.0",
            "_model_name": "ToggleButtonsStyleModel",
            "_view_count": null,
            "_view_module": "@jupyter-widgets/base",
            "_view_module_version": "1.2.0",
            "_view_name": "StyleView",
            "button_width": "",
            "description_width": "",
            "font_weight": ""
          }
        },
        "3e8180f4db44465898ecba657780077c": {
          "model_module": "@jupyter-widgets/base",
          "model_name": "LayoutModel",
          "model_module_version": "1.2.0",
          "state": {
            "_model_module": "@jupyter-widgets/base",
            "_model_module_version": "1.2.0",
            "_model_name": "LayoutModel",
            "_view_count": null,
            "_view_module": "@jupyter-widgets/base",
            "_view_module_version": "1.2.0",
            "_view_name": "LayoutView",
            "align_content": null,
            "align_items": null,
            "align_self": null,
            "border": null,
            "bottom": null,
            "display": null,
            "flex": null,
            "flex_flow": null,
            "grid_area": null,
            "grid_auto_columns": null,
            "grid_auto_flow": null,
            "grid_auto_rows": null,
            "grid_column": null,
            "grid_gap": null,
            "grid_row": null,
            "grid_template_areas": null,
            "grid_template_columns": null,
            "grid_template_rows": null,
            "height": null,
            "justify_content": null,
            "justify_items": null,
            "left": null,
            "margin": null,
            "max_height": null,
            "max_width": null,
            "min_height": null,
            "min_width": null,
            "object_fit": null,
            "object_position": null,
            "order": null,
            "overflow": null,
            "overflow_x": null,
            "overflow_y": null,
            "padding": null,
            "right": null,
            "top": null,
            "visibility": null,
            "width": null
          }
        }
      }
    }
  },
  "nbformat": 4,
  "nbformat_minor": 5
}