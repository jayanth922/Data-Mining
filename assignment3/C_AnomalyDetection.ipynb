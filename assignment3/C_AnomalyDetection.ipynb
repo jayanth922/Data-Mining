{
  "cells": [
    {
      "cell_type": "code",
      "source": [
        "!pip install pycaret[full]"
      ],
      "metadata": {
        "colab": {
          "base_uri": "https://localhost:8080/"
        },
        "id": "_t8XxndyEcUV",
        "outputId": "e90aa338-7123-42c8-dc2e-03b80f0f349d",
        "collapsed": true
      },
      "id": "_t8XxndyEcUV",
      "execution_count": null,
      "outputs": [
        {
          "output_type": "stream",
          "name": "stdout",
          "text": [
            "Collecting pycaret[full]\n",
            "  Downloading pycaret-3.3.2-py3-none-any.whl.metadata (17 kB)\n",
            "Requirement already satisfied: ipython>=5.5.0 in /usr/local/lib/python3.10/dist-packages (from pycaret[full]) (7.34.0)\n",
            "Requirement already satisfied: ipywidgets>=7.6.5 in /usr/local/lib/python3.10/dist-packages (from pycaret[full]) (7.7.1)\n",
            "Requirement already satisfied: tqdm>=4.62.0 in /usr/local/lib/python3.10/dist-packages (from pycaret[full]) (4.66.5)\n",
            "Requirement already satisfied: numpy<1.27,>=1.21 in /usr/local/lib/python3.10/dist-packages (from pycaret[full]) (1.26.4)\n",
            "Requirement already satisfied: pandas<2.2.0 in /usr/local/lib/python3.10/dist-packages (from pycaret[full]) (2.1.4)\n",
            "Requirement already satisfied: jinja2>=3 in /usr/local/lib/python3.10/dist-packages (from pycaret[full]) (3.1.4)\n",
            "Collecting scipy<=1.11.4,>=1.6.1 (from pycaret[full])\n",
            "  Downloading scipy-1.11.4-cp310-cp310-manylinux_2_17_x86_64.manylinux2014_x86_64.whl.metadata (60 kB)\n",
            "\u001b[2K     \u001b[90m━━━━━━━━━━━━━━━━━━━━━━━━━━━━━━━━━━━━━━━━\u001b[0m \u001b[32m60.4/60.4 kB\u001b[0m \u001b[31m424.9 kB/s\u001b[0m eta \u001b[36m0:00:00\u001b[0m\n",
            "\u001b[?25hCollecting joblib<1.4,>=1.2.0 (from pycaret[full])\n",
            "  Downloading joblib-1.3.2-py3-none-any.whl.metadata (5.4 kB)\n",
            "Collecting scikit-learn>1.4.0 (from pycaret[full])\n",
            "  Downloading scikit_learn-1.5.2-cp310-cp310-manylinux_2_17_x86_64.manylinux2014_x86_64.whl.metadata (13 kB)\n",
            "Collecting pyod>=1.1.3 (from pycaret[full])\n",
            "  Downloading pyod-2.0.2.tar.gz (165 kB)\n",
            "\u001b[2K     \u001b[90m━━━━━━━━━━━━━━━━━━━━━━━━━━━━━━━━━━━━━━━━\u001b[0m \u001b[32m165.8/165.8 kB\u001b[0m \u001b[31m2.5 MB/s\u001b[0m eta \u001b[36m0:00:00\u001b[0m\n",
            "\u001b[?25h  Preparing metadata (setup.py) ... \u001b[?25l\u001b[?25hdone\n",
            "Requirement already satisfied: imbalanced-learn>=0.12.0 in /usr/local/lib/python3.10/dist-packages (from pycaret[full]) (0.12.3)\n",
            "Collecting category-encoders>=2.4.0 (from pycaret[full])\n",
            "  Downloading category_encoders-2.6.3-py2.py3-none-any.whl.metadata (8.0 kB)\n",
            "Requirement already satisfied: lightgbm>=3.0.0 in /usr/local/lib/python3.10/dist-packages (from pycaret[full]) (4.5.0)\n",
            "Requirement already satisfied: numba>=0.55.0 in /usr/local/lib/python3.10/dist-packages (from pycaret[full]) (0.60.0)\n",
            "Requirement already satisfied: requests>=2.27.1 in /usr/local/lib/python3.10/dist-packages (from pycaret[full]) (2.32.3)\n",
            "Requirement already satisfied: psutil>=5.9.0 in /usr/local/lib/python3.10/dist-packages (from pycaret[full]) (5.9.5)\n",
            "Requirement already satisfied: markupsafe>=2.0.1 in /usr/local/lib/python3.10/dist-packages (from pycaret[full]) (2.1.5)\n",
            "Requirement already satisfied: importlib-metadata>=4.12.0 in /usr/local/lib/python3.10/dist-packages (from pycaret[full]) (8.5.0)\n",
            "Requirement already satisfied: nbformat>=4.2.0 in /usr/local/lib/python3.10/dist-packages (from pycaret[full]) (5.10.4)\n",
            "Requirement already satisfied: cloudpickle in /usr/local/lib/python3.10/dist-packages (from pycaret[full]) (2.2.1)\n",
            "Collecting deprecation>=2.1.0 (from pycaret[full])\n",
            "  Downloading deprecation-2.1.0-py2.py3-none-any.whl.metadata (4.6 kB)\n",
            "Collecting xxhash (from pycaret[full])\n",
            "  Downloading xxhash-3.5.0-cp310-cp310-manylinux_2_17_x86_64.manylinux2014_x86_64.whl.metadata (12 kB)\n",
            "Requirement already satisfied: matplotlib<3.8.0 in /usr/local/lib/python3.10/dist-packages (from pycaret[full]) (3.7.1)\n",
            "Collecting scikit-plot>=0.3.7 (from pycaret[full])\n",
            "  Downloading scikit_plot-0.3.7-py3-none-any.whl.metadata (7.1 kB)\n",
            "Requirement already satisfied: yellowbrick>=1.4 in /usr/local/lib/python3.10/dist-packages (from pycaret[full]) (1.5)\n",
            "Requirement already satisfied: plotly>=5.14.0 in /usr/local/lib/python3.10/dist-packages (from pycaret[full]) (5.15.0)\n",
            "Collecting kaleido>=0.2.1 (from pycaret[full])\n",
            "  Downloading kaleido-0.2.1-py2.py3-none-manylinux1_x86_64.whl.metadata (15 kB)\n",
            "Collecting schemdraw==0.15 (from pycaret[full])\n",
            "  Downloading schemdraw-0.15-py3-none-any.whl.metadata (2.2 kB)\n",
            "Collecting plotly-resampler>=0.8.3.1 (from pycaret[full])\n",
            "  Downloading plotly_resampler-0.10.0-py3-none-any.whl.metadata (13 kB)\n",
            "Requirement already satisfied: statsmodels>=0.12.1 in /usr/local/lib/python3.10/dist-packages (from pycaret[full]) (0.14.3)\n",
            "Collecting sktime==0.26.0 (from pycaret[full])\n",
            "  Downloading sktime-0.26.0-py3-none-any.whl.metadata (29 kB)\n",
            "Collecting tbats>=1.1.3 (from pycaret[full])\n",
            "  Downloading tbats-1.1.3-py3-none-any.whl.metadata (3.8 kB)\n",
            "Collecting pmdarima>=2.0.4 (from pycaret[full])\n",
            "  Downloading pmdarima-2.0.4-cp310-cp310-manylinux_2_17_x86_64.manylinux2014_x86_64.manylinux_2_28_x86_64.whl.metadata (7.8 kB)\n",
            "Collecting wurlitzer (from pycaret[full])\n",
            "  Downloading wurlitzer-3.1.1-py3-none-any.whl.metadata (2.5 kB)\n",
            "Collecting shap~=0.44.0 (from pycaret[full])\n",
            "  Downloading shap-0.44.1-cp310-cp310-manylinux_2_12_x86_64.manylinux2010_x86_64.manylinux_2_17_x86_64.manylinux2014_x86_64.whl.metadata (24 kB)\n",
            "Collecting interpret>=0.2.7 (from pycaret[full])\n",
            "  Downloading interpret-0.6.3-py3-none-any.whl.metadata (1.1 kB)\n",
            "Collecting umap-learn>=0.5.2 (from pycaret[full])\n",
            "  Downloading umap_learn-0.5.6-py3-none-any.whl.metadata (21 kB)\n",
            "Requirement already satisfied: pyyaml in /usr/local/lib/python3.10/dist-packages (from pycaret[full]) (6.0.2)\n",
            "Collecting ydata-profiling>=4.3.1 (from pycaret[full])\n",
            "  Downloading ydata_profiling-4.10.0-py2.py3-none-any.whl.metadata (20 kB)\n",
            "Collecting explainerdashboard>=0.3.8 (from pycaret[full])\n",
            "  Downloading explainerdashboard-0.4.7-py3-none-any.whl.metadata (3.8 kB)\n",
            "Collecting fairlearn==0.7.0 (from pycaret[full])\n",
            "  Downloading fairlearn-0.7.0-py3-none-any.whl.metadata (7.3 kB)\n",
            "Collecting kmodes>=0.11.1 (from pycaret[full])\n",
            "  Downloading kmodes-0.12.2-py2.py3-none-any.whl.metadata (8.1 kB)\n",
            "Requirement already satisfied: mlxtend>=0.19.0 in /usr/local/lib/python3.10/dist-packages (from pycaret[full]) (0.23.1)\n",
            "Collecting statsforecast<1.6.0,>=0.5.5 (from pycaret[full])\n",
            "  Downloading statsforecast-1.5.0-py3-none-any.whl.metadata (23 kB)\n",
            "Requirement already satisfied: hyperopt>=0.2.7 in /usr/local/lib/python3.10/dist-packages (from pycaret[full]) (0.2.7)\n",
            "Collecting optuna>=3.0.0 (from pycaret[full])\n",
            "  Downloading optuna-4.0.0-py3-none-any.whl.metadata (16 kB)\n",
            "Collecting optuna-integration (from pycaret[full])\n",
            "  Downloading optuna_integration-4.0.0-py3-none-any.whl.metadata (11 kB)\n",
            "Collecting scikit-optimize>=0.9.0 (from pycaret[full])\n",
            "  Downloading scikit_optimize-0.10.2-py2.py3-none-any.whl.metadata (9.7 kB)\n",
            "Collecting mlflow>=2.0.0 (from pycaret[full])\n",
            "  Downloading mlflow-2.16.2-py3-none-any.whl.metadata (29 kB)\n",
            "Collecting gradio>=3.50.2 (from pycaret[full])\n",
            "  Downloading gradio-4.44.0-py3-none-any.whl.metadata (15 kB)\n",
            "Collecting boto3>=1.24.56 (from pycaret[full])\n",
            "  Downloading boto3-1.35.24-py3-none-any.whl.metadata (6.6 kB)\n",
            "Collecting fastapi (from pycaret[full])\n",
            "  Downloading fastapi-0.115.0-py3-none-any.whl.metadata (27 kB)\n",
            "Collecting uvicorn>=0.17.6 (from pycaret[full])\n",
            "  Downloading uvicorn-0.30.6-py3-none-any.whl.metadata (6.6 kB)\n",
            "Collecting m2cgen>=0.9.0 (from pycaret[full])\n",
            "  Downloading m2cgen-0.10.0-py3-none-any.whl.metadata (9.9 kB)\n",
            "Collecting evidently~=0.4.16 (from pycaret[full])\n",
            "  Downloading evidently-0.4.37-py3-none-any.whl.metadata (11 kB)\n",
            "Requirement already satisfied: dask>=2024.4.1 in /usr/local/lib/python3.10/dist-packages (from pycaret[full]) (2024.8.0)\n",
            "Requirement already satisfied: distributed>=2024.4.1 in /usr/local/lib/python3.10/dist-packages (from pycaret[full]) (2024.8.0)\n",
            "Collecting fugue~=0.8.0 (from pycaret[full])\n",
            "  Downloading fugue-0.8.7-py3-none-any.whl.metadata (17 kB)\n",
            "Requirement already satisfied: flask in /usr/local/lib/python3.10/dist-packages (from pycaret[full]) (2.2.5)\n",
            "Collecting Werkzeug<3.0,>=2.2 (from pycaret[full])\n",
            "  Downloading werkzeug-2.3.8-py3-none-any.whl.metadata (4.1 kB)\n",
            "Requirement already satisfied: pytest<8.0.0 in /usr/local/lib/python3.10/dist-packages (from pycaret[full]) (7.4.4)\n",
            "Collecting moto<5.0.0 (from pycaret[full])\n",
            "  Downloading moto-4.2.14-py2.py3-none-any.whl.metadata (12 kB)\n",
            "Collecting dash[testing] (from pycaret[full])\n",
            "  Downloading dash-2.18.1-py3-none-any.whl.metadata (10 kB)\n",
            "Collecting scikit-learn-intelex>=2023.0.1 (from pycaret[full])\n",
            "  Downloading scikit_learn_intelex-2024.7.0-py310-none-manylinux1_x86_64.whl.metadata (12 kB)\n",
            "Collecting catboost>=0.23.2 (from pycaret[full])\n",
            "  Downloading catboost-1.2.7-cp310-cp310-manylinux2014_x86_64.whl.metadata (1.2 kB)\n",
            "Collecting tune-sklearn>=0.2.1 (from pycaret[full])\n",
            "  Downloading tune_sklearn-0.5.0-py3-none-any.whl.metadata (12 kB)\n",
            "Collecting ray>=1.0.0 (from ray[tune]>=1.0.0; (python_version != \"3.11\" and platform_system != \"Windows\") and extra == \"full\"->pycaret[full])\n",
            "  Downloading ray-2.36.0-cp310-cp310-manylinux2014_x86_64.whl.metadata (16 kB)\n",
            "Requirement already satisfied: xgboost>=1.1.0 in /usr/local/lib/python3.10/dist-packages (from pycaret[full]) (2.1.1)\n",
            "Requirement already satisfied: packaging in /usr/local/lib/python3.10/dist-packages (from sktime==0.26.0->pycaret[full]) (24.1)\n",
            "Collecting scikit-base<0.8.0 (from sktime==0.26.0->pycaret[full])\n",
            "  Downloading scikit_base-0.7.8-py3-none-any.whl.metadata (8.8 kB)\n",
            "Collecting scikit-learn>1.4.0 (from pycaret[full])\n",
            "  Downloading scikit_learn-1.4.2-cp310-cp310-manylinux_2_17_x86_64.manylinux2014_x86_64.whl.metadata (11 kB)\n",
            "Collecting botocore<1.36.0,>=1.35.24 (from boto3>=1.24.56->pycaret[full])\n",
            "  Downloading botocore-1.35.24-py3-none-any.whl.metadata (5.7 kB)\n",
            "Collecting jmespath<2.0.0,>=0.7.1 (from boto3>=1.24.56->pycaret[full])\n",
            "  Downloading jmespath-1.0.1-py3-none-any.whl.metadata (7.6 kB)\n",
            "Collecting s3transfer<0.11.0,>=0.10.0 (from boto3>=1.24.56->pycaret[full])\n",
            "  Downloading s3transfer-0.10.2-py3-none-any.whl.metadata (1.7 kB)\n",
            "Requirement already satisfied: graphviz in /usr/local/lib/python3.10/dist-packages (from catboost>=0.23.2->pycaret[full]) (0.20.3)\n",
            "Requirement already satisfied: six in /usr/local/lib/python3.10/dist-packages (from catboost>=0.23.2->pycaret[full]) (1.16.0)\n",
            "Requirement already satisfied: patsy>=0.5.1 in /usr/local/lib/python3.10/dist-packages (from category-encoders>=2.4.0->pycaret[full]) (0.5.6)\n",
            "Requirement already satisfied: click>=8.1 in /usr/local/lib/python3.10/dist-packages (from dask>=2024.4.1->pycaret[full]) (8.1.7)\n",
            "Requirement already satisfied: fsspec>=2021.09.0 in /usr/local/lib/python3.10/dist-packages (from dask>=2024.4.1->pycaret[full]) (2024.6.1)\n",
            "Requirement already satisfied: partd>=1.4.0 in /usr/local/lib/python3.10/dist-packages (from dask>=2024.4.1->pycaret[full]) (1.4.2)\n",
            "Requirement already satisfied: toolz>=0.10.0 in /usr/local/lib/python3.10/dist-packages (from dask>=2024.4.1->pycaret[full]) (0.12.1)\n",
            "Requirement already satisfied: locket>=1.0.0 in /usr/local/lib/python3.10/dist-packages (from distributed>=2024.4.1->pycaret[full]) (1.0.0)\n",
            "Requirement already satisfied: msgpack>=1.0.0 in /usr/local/lib/python3.10/dist-packages (from distributed>=2024.4.1->pycaret[full]) (1.0.8)\n",
            "Requirement already satisfied: sortedcontainers>=2.0.5 in /usr/local/lib/python3.10/dist-packages (from distributed>=2024.4.1->pycaret[full]) (2.4.0)\n",
            "Requirement already satisfied: tblib>=1.6.0 in /usr/local/lib/python3.10/dist-packages (from distributed>=2024.4.1->pycaret[full]) (3.0.0)\n",
            "Requirement already satisfied: tornado>=6.0.4 in /usr/local/lib/python3.10/dist-packages (from distributed>=2024.4.1->pycaret[full]) (6.3.3)\n",
            "Requirement already satisfied: urllib3>=1.24.3 in /usr/local/lib/python3.10/dist-packages (from distributed>=2024.4.1->pycaret[full]) (2.0.7)\n",
            "Requirement already satisfied: zict>=3.0.0 in /usr/local/lib/python3.10/dist-packages (from distributed>=2024.4.1->pycaret[full]) (3.0.0)\n",
            "Requirement already satisfied: nltk>=3.6.7 in /usr/local/lib/python3.10/dist-packages (from evidently~=0.4.16->pycaret[full]) (3.8.1)\n",
            "Requirement already satisfied: pydantic>=1.10.13 in /usr/local/lib/python3.10/dist-packages (from evidently~=0.4.16->pycaret[full]) (2.9.2)\n",
            "Collecting litestar>=2.8.3 (from evidently~=0.4.16->pycaret[full])\n",
            "  Downloading litestar-2.12.1-py3-none-any.whl.metadata (105 kB)\n",
            "\u001b[2K     \u001b[90m━━━━━━━━━━━━━━━━━━━━━━━━━━━━━━━━━━━━━━━━\u001b[0m \u001b[32m105.3/105.3 kB\u001b[0m \u001b[31m5.1 MB/s\u001b[0m eta \u001b[36m0:00:00\u001b[0m\n",
            "\u001b[?25hCollecting typing-inspect>=0.9.0 (from evidently~=0.4.16->pycaret[full])\n",
            "  Downloading typing_inspect-0.9.0-py3-none-any.whl.metadata (1.5 kB)\n",
            "Collecting watchdog>=3.0.0 (from evidently~=0.4.16->pycaret[full])\n",
            "  Downloading watchdog-5.0.2-py3-none-manylinux2014_x86_64.whl.metadata (41 kB)\n",
            "\u001b[2K     \u001b[90m━━━━━━━━━━━━━━━━━━━━━━━━━━━━━━━━━━━━━━━━\u001b[0m \u001b[32m41.6/41.6 kB\u001b[0m \u001b[31m2.0 MB/s\u001b[0m eta \u001b[36m0:00:00\u001b[0m\n",
            "\u001b[?25hRequirement already satisfied: typer>=0.3 in /usr/local/lib/python3.10/dist-packages (from evidently~=0.4.16->pycaret[full]) (0.12.5)\n",
            "Requirement already satisfied: rich>=13 in /usr/local/lib/python3.10/dist-packages (from evidently~=0.4.16->pycaret[full]) (13.8.1)\n",
            "Collecting iterative-telemetry>=0.0.5 (from evidently~=0.4.16->pycaret[full])\n",
            "  Downloading iterative_telemetry-0.0.9-py3-none-any.whl.metadata (4.1 kB)\n",
            "Collecting dynaconf>=3.2.4 (from evidently~=0.4.16->pycaret[full])\n",
            "  Downloading dynaconf-3.2.6-py2.py3-none-any.whl.metadata (9.1 kB)\n",
            "Requirement already satisfied: certifi>=2024.7.4 in /usr/local/lib/python3.10/dist-packages (from evidently~=0.4.16->pycaret[full]) (2024.8.30)\n",
            "Collecting ujson>=5.4.0 (from evidently~=0.4.16->pycaret[full])\n",
            "  Downloading ujson-5.10.0-cp310-cp310-manylinux_2_17_x86_64.manylinux2014_x86_64.whl.metadata (9.3 kB)\n",
            "Requirement already satisfied: cryptography>=43.0.1 in /usr/local/lib/python3.10/dist-packages (from evidently~=0.4.16->pycaret[full]) (43.0.1)\n",
            "Collecting dash-auth (from explainerdashboard>=0.3.8->pycaret[full])\n",
            "  Downloading dash_auth-2.3.0-py3-none-any.whl.metadata (10 kB)\n",
            "Collecting dash-bootstrap-components>=1 (from explainerdashboard>=0.3.8->pycaret[full])\n",
            "  Downloading dash_bootstrap_components-1.6.0-py3-none-any.whl.metadata (5.2 kB)\n",
            "Collecting dtreeviz>=2.1 (from explainerdashboard>=0.3.8->pycaret[full])\n",
            "  Downloading dtreeviz-2.2.2-py3-none-any.whl.metadata (2.4 kB)\n",
            "Collecting flask-simplelogin (from explainerdashboard>=0.3.8->pycaret[full])\n",
            "  Downloading flask_simplelogin-0.1.3-py3-none-any.whl.metadata (3.3 kB)\n",
            "Collecting Flask-WTF>=1.1 (from explainerdashboard>=0.3.8->pycaret[full])\n",
            "  Downloading flask_wtf-1.2.1-py3-none-any.whl.metadata (3.4 kB)\n",
            "Collecting jupyter-dash>=0.4.1 (from explainerdashboard>=0.3.8->pycaret[full])\n",
            "  Downloading jupyter_dash-0.4.2-py3-none-any.whl.metadata (3.6 kB)\n",
            "Collecting oyaml (from explainerdashboard>=0.3.8->pycaret[full])\n",
            "  Downloading oyaml-1.0-py2.py3-none-any.whl.metadata (1.2 kB)\n",
            "Collecting waitress (from explainerdashboard>=0.3.8->pycaret[full])\n",
            "  Downloading waitress-3.0.0-py3-none-any.whl.metadata (4.2 kB)\n",
            "Collecting triad>=0.9.3 (from fugue~=0.8.0->pycaret[full])\n",
            "  Downloading triad-0.9.8-py3-none-any.whl.metadata (6.3 kB)\n",
            "Collecting adagio>=0.2.4 (from fugue~=0.8.0->pycaret[full])\n",
            "  Downloading adagio-0.2.6-py3-none-any.whl.metadata (1.8 kB)\n",
            "Collecting qpd>=0.4.4 (from fugue~=0.8.0->pycaret[full])\n",
            "  Downloading qpd-0.4.4-py3-none-any.whl.metadata (6.4 kB)\n",
            "Collecting fugue-sql-antlr>=0.1.6 (from fugue~=0.8.0->pycaret[full])\n",
            "  Downloading fugue-sql-antlr-0.2.2.tar.gz (154 kB)\n",
            "\u001b[2K     \u001b[90m━━━━━━━━━━━━━━━━━━━━━━━━━━━━━━━━━━━━━━━━\u001b[0m \u001b[32m154.7/154.7 kB\u001b[0m \u001b[31m6.1 MB/s\u001b[0m eta \u001b[36m0:00:00\u001b[0m\n",
            "\u001b[?25h  Preparing metadata (setup.py) ... \u001b[?25l\u001b[?25hdone\n",
            "Requirement already satisfied: sqlglot in /usr/local/lib/python3.10/dist-packages (from fugue~=0.8.0->pycaret[full]) (20.11.0)\n",
            "Collecting aiofiles<24.0,>=22.0 (from gradio>=3.50.2->pycaret[full])\n",
            "  Downloading aiofiles-23.2.1-py3-none-any.whl.metadata (9.7 kB)\n",
            "Requirement already satisfied: anyio<5.0,>=3.0 in /usr/local/lib/python3.10/dist-packages (from gradio>=3.50.2->pycaret[full]) (3.7.1)\n",
            "Collecting ffmpy (from gradio>=3.50.2->pycaret[full])\n",
            "  Downloading ffmpy-0.4.0-py3-none-any.whl.metadata (2.9 kB)\n",
            "Collecting gradio-client==1.3.0 (from gradio>=3.50.2->pycaret[full])\n",
            "  Downloading gradio_client-1.3.0-py3-none-any.whl.metadata (7.1 kB)\n",
            "Collecting httpx>=0.24.1 (from gradio>=3.50.2->pycaret[full])\n",
            "  Downloading httpx-0.27.2-py3-none-any.whl.metadata (7.1 kB)\n",
            "Requirement already satisfied: huggingface-hub>=0.19.3 in /usr/local/lib/python3.10/dist-packages (from gradio>=3.50.2->pycaret[full]) (0.24.7)\n",
            "Requirement already satisfied: importlib-resources<7.0,>=1.3 in /usr/local/lib/python3.10/dist-packages (from gradio>=3.50.2->pycaret[full]) (6.4.5)\n",
            "Collecting orjson~=3.0 (from gradio>=3.50.2->pycaret[full])\n",
            "  Downloading orjson-3.10.7-cp310-cp310-manylinux_2_17_x86_64.manylinux2014_x86_64.whl.metadata (50 kB)\n",
            "\u001b[2K     \u001b[90m━━━━━━━━━━━━━━━━━━━━━━━━━━━━━━━━━━━━━━━━\u001b[0m \u001b[32m50.4/50.4 kB\u001b[0m \u001b[31m3.3 MB/s\u001b[0m eta \u001b[36m0:00:00\u001b[0m\n",
            "\u001b[?25hRequirement already satisfied: pillow<11.0,>=8.0 in /usr/local/lib/python3.10/dist-packages (from gradio>=3.50.2->pycaret[full]) (10.4.0)\n",
            "Collecting pydub (from gradio>=3.50.2->pycaret[full])\n",
            "  Downloading pydub-0.25.1-py2.py3-none-any.whl.metadata (1.4 kB)\n",
            "Collecting python-multipart>=0.0.9 (from gradio>=3.50.2->pycaret[full])\n",
            "  Downloading python_multipart-0.0.10-py3-none-any.whl.metadata (1.9 kB)\n",
            "Collecting ruff>=0.2.2 (from gradio>=3.50.2->pycaret[full])\n",
            "  Downloading ruff-0.6.7-py3-none-manylinux_2_17_x86_64.manylinux2014_x86_64.whl.metadata (25 kB)\n",
            "Collecting semantic-version~=2.0 (from gradio>=3.50.2->pycaret[full])\n",
            "  Downloading semantic_version-2.10.0-py2.py3-none-any.whl.metadata (9.7 kB)\n",
            "Collecting tomlkit==0.12.0 (from gradio>=3.50.2->pycaret[full])\n",
            "  Downloading tomlkit-0.12.0-py3-none-any.whl.metadata (2.7 kB)\n",
            "Requirement already satisfied: typing-extensions~=4.0 in /usr/local/lib/python3.10/dist-packages (from gradio>=3.50.2->pycaret[full]) (4.12.2)\n",
            "Collecting websockets<13.0,>=10.0 (from gradio-client==1.3.0->gradio>=3.50.2->pycaret[full])\n",
            "  Downloading websockets-12.0-cp310-cp310-manylinux_2_5_x86_64.manylinux1_x86_64.manylinux_2_17_x86_64.manylinux2014_x86_64.whl.metadata (6.6 kB)\n",
            "Collecting starlette<0.39.0,>=0.37.2 (from fastapi->pycaret[full])\n",
            "  Downloading starlette-0.38.5-py3-none-any.whl.metadata (6.0 kB)\n",
            "Requirement already satisfied: networkx>=2.2 in /usr/local/lib/python3.10/dist-packages (from hyperopt>=0.2.7->pycaret[full]) (3.3)\n",
            "Requirement already satisfied: future in /usr/local/lib/python3.10/dist-packages (from hyperopt>=0.2.7->pycaret[full]) (1.0.0)\n",
            "Requirement already satisfied: py4j in /usr/local/lib/python3.10/dist-packages (from hyperopt>=0.2.7->pycaret[full]) (0.10.9.7)\n",
            "Requirement already satisfied: threadpoolctl>=2.0.0 in /usr/local/lib/python3.10/dist-packages (from imbalanced-learn>=0.12.0->pycaret[full]) (3.5.0)\n",
            "Requirement already satisfied: zipp>=3.20 in /usr/local/lib/python3.10/dist-packages (from importlib-metadata>=4.12.0->pycaret[full]) (3.20.2)\n",
            "Collecting interpret-core==0.6.3 (from interpret-core[aplr,dash,debug,linear,notebook,plotly,sensitivity,shap]==0.6.3->interpret>=0.2.7->pycaret[full])\n",
            "  Downloading interpret_core-0.6.3-py3-none-any.whl.metadata (2.8 kB)\n",
            "Collecting SALib>=1.3.3 (from interpret-core[aplr,dash,debug,linear,notebook,plotly,sensitivity,shap]==0.6.3->interpret>=0.2.7->pycaret[full])\n",
            "  Downloading salib-1.5.1-py3-none-any.whl.metadata (11 kB)\n",
            "Collecting dash-core-components>=1.0.0 (from interpret-core[aplr,dash,debug,linear,notebook,plotly,sensitivity,shap]==0.6.3->interpret>=0.2.7->pycaret[full])\n",
            "  Downloading dash_core_components-2.0.0-py3-none-any.whl.metadata (2.9 kB)\n",
            "Collecting dash-html-components>=1.0.0 (from interpret-core[aplr,dash,debug,linear,notebook,plotly,sensitivity,shap]==0.6.3->interpret>=0.2.7->pycaret[full])\n",
            "  Downloading dash_html_components-2.0.0-py3-none-any.whl.metadata (3.8 kB)\n",
            "Collecting dash-table>=4.1.0 (from interpret-core[aplr,dash,debug,linear,notebook,plotly,sensitivity,shap]==0.6.3->interpret>=0.2.7->pycaret[full])\n",
            "  Downloading dash_table-5.0.0-py3-none-any.whl.metadata (2.4 kB)\n",
            "Collecting dash-cytoscape>=0.1.1 (from interpret-core[aplr,dash,debug,linear,notebook,plotly,sensitivity,shap]==0.6.3->interpret>=0.2.7->pycaret[full])\n",
            "  Downloading dash_cytoscape-1.0.2.tar.gz (4.0 MB)\n",
            "\u001b[2K     \u001b[90m━━━━━━━━━━━━━━━━━━━━━━━━━━━━━━━━━━━━━━━━\u001b[0m \u001b[32m4.0/4.0 MB\u001b[0m \u001b[31m25.3 MB/s\u001b[0m eta \u001b[36m0:00:00\u001b[0m\n",
            "\u001b[?25h  Preparing metadata (setup.py) ... \u001b[?25l\u001b[?25hdone\n",
            "Collecting gevent>=1.3.6 (from interpret-core[aplr,dash,debug,linear,notebook,plotly,sensitivity,shap]==0.6.3->interpret>=0.2.7->pycaret[full])\n",
            "  Downloading gevent-24.2.1-cp310-cp310-manylinux_2_28_x86_64.whl.metadata (13 kB)\n",
            "Collecting aplr>=10.5.1 (from interpret-core[aplr,dash,debug,linear,notebook,plotly,sensitivity,shap]==0.6.3->interpret>=0.2.7->pycaret[full])\n",
            "  Downloading aplr-10.6.3-cp310-cp310-manylinux_2_17_x86_64.manylinux2014_x86_64.whl.metadata (2.0 kB)\n",
            "Collecting dill>=0.2.5 (from interpret-core[aplr,dash,debug,linear,notebook,plotly,sensitivity,shap]==0.6.3->interpret>=0.2.7->pycaret[full])\n",
            "  Downloading dill-0.3.8-py3-none-any.whl.metadata (10 kB)\n",
            "Requirement already satisfied: ipykernel>=4.10.0 in /usr/local/lib/python3.10/dist-packages (from interpret-core[aplr,dash,debug,linear,notebook,plotly,sensitivity,shap]==0.6.3->interpret>=0.2.7->pycaret[full]) (5.5.6)\n",
            "Requirement already satisfied: setuptools>=18.5 in /usr/local/lib/python3.10/dist-packages (from ipython>=5.5.0->pycaret[full]) (71.0.4)\n",
            "Collecting jedi>=0.16 (from ipython>=5.5.0->pycaret[full])\n",
            "  Using cached jedi-0.19.1-py2.py3-none-any.whl.metadata (22 kB)\n",
            "Requirement already satisfied: decorator in /usr/local/lib/python3.10/dist-packages (from ipython>=5.5.0->pycaret[full]) (4.4.2)\n",
            "Requirement already satisfied: pickleshare in /usr/local/lib/python3.10/dist-packages (from ipython>=5.5.0->pycaret[full]) (0.7.5)\n",
            "Requirement already satisfied: traitlets>=4.2 in /usr/local/lib/python3.10/dist-packages (from ipython>=5.5.0->pycaret[full]) (5.7.1)\n",
            "Requirement already satisfied: prompt-toolkit!=3.0.0,!=3.0.1,<3.1.0,>=2.0.0 in /usr/local/lib/python3.10/dist-packages (from ipython>=5.5.0->pycaret[full]) (3.0.47)\n",
            "Requirement already satisfied: pygments in /usr/local/lib/python3.10/dist-packages (from ipython>=5.5.0->pycaret[full]) (2.18.0)\n",
            "Requirement already satisfied: backcall in /usr/local/lib/python3.10/dist-packages (from ipython>=5.5.0->pycaret[full]) (0.2.0)\n",
            "Requirement already satisfied: matplotlib-inline in /usr/local/lib/python3.10/dist-packages (from ipython>=5.5.0->pycaret[full]) (0.1.7)\n",
            "Requirement already satisfied: pexpect>4.3 in /usr/local/lib/python3.10/dist-packages (from ipython>=5.5.0->pycaret[full]) (4.9.0)\n",
            "Requirement already satisfied: ipython-genutils~=0.2.0 in /usr/local/lib/python3.10/dist-packages (from ipywidgets>=7.6.5->pycaret[full]) (0.2.0)\n",
            "Requirement already satisfied: widgetsnbextension~=3.6.0 in /usr/local/lib/python3.10/dist-packages (from ipywidgets>=7.6.5->pycaret[full]) (3.6.9)\n",
            "Requirement already satisfied: jupyterlab-widgets>=1.0.0 in /usr/local/lib/python3.10/dist-packages (from ipywidgets>=7.6.5->pycaret[full]) (3.0.13)\n",
            "Requirement already satisfied: contourpy>=1.0.1 in /usr/local/lib/python3.10/dist-packages (from matplotlib<3.8.0->pycaret[full]) (1.3.0)\n",
            "Requirement already satisfied: cycler>=0.10 in /usr/local/lib/python3.10/dist-packages (from matplotlib<3.8.0->pycaret[full]) (0.12.1)\n",
            "Requirement already satisfied: fonttools>=4.22.0 in /usr/local/lib/python3.10/dist-packages (from matplotlib<3.8.0->pycaret[full]) (4.53.1)\n",
            "Requirement already satisfied: kiwisolver>=1.0.1 in /usr/local/lib/python3.10/dist-packages (from matplotlib<3.8.0->pycaret[full]) (1.4.7)\n",
            "Requirement already satisfied: pyparsing>=2.3.1 in /usr/local/lib/python3.10/dist-packages (from matplotlib<3.8.0->pycaret[full]) (3.1.4)\n",
            "Requirement already satisfied: python-dateutil>=2.7 in /usr/local/lib/python3.10/dist-packages (from matplotlib<3.8.0->pycaret[full]) (2.8.2)\n",
            "Collecting mlflow-skinny==2.16.2 (from mlflow>=2.0.0->pycaret[full])\n",
            "  Downloading mlflow_skinny-2.16.2-py3-none-any.whl.metadata (30 kB)\n",
            "Collecting alembic!=1.10.0,<2 (from mlflow>=2.0.0->pycaret[full])\n",
            "  Downloading alembic-1.13.2-py3-none-any.whl.metadata (7.4 kB)\n",
            "Collecting docker<8,>=4.0.0 (from mlflow>=2.0.0->pycaret[full])\n",
            "  Downloading docker-7.1.0-py3-none-any.whl.metadata (3.8 kB)\n",
            "Collecting graphene<4 (from mlflow>=2.0.0->pycaret[full])\n",
            "  Downloading graphene-3.3-py2.py3-none-any.whl.metadata (7.7 kB)\n",
            "Requirement already satisfied: markdown<4,>=3.3 in /usr/local/lib/python3.10/dist-packages (from mlflow>=2.0.0->pycaret[full]) (3.7)\n",
            "Requirement already satisfied: pyarrow<18,>=4.0.0 in /usr/local/lib/python3.10/dist-packages (from mlflow>=2.0.0->pycaret[full]) (14.0.2)\n",
            "Requirement already satisfied: sqlalchemy<3,>=1.4.0 in /usr/local/lib/python3.10/dist-packages (from mlflow>=2.0.0->pycaret[full]) (2.0.35)\n",
            "Collecting gunicorn<24 (from mlflow>=2.0.0->pycaret[full])\n",
            "  Downloading gunicorn-23.0.0-py3-none-any.whl.metadata (4.4 kB)\n",
            "Requirement already satisfied: cachetools<6,>=5.0.0 in /usr/local/lib/python3.10/dist-packages (from mlflow-skinny==2.16.2->mlflow>=2.0.0->pycaret[full]) (5.5.0)\n",
            "Collecting databricks-sdk<1,>=0.20.0 (from mlflow-skinny==2.16.2->mlflow>=2.0.0->pycaret[full])\n",
            "  Downloading databricks_sdk-0.32.3-py3-none-any.whl.metadata (37 kB)\n",
            "Collecting gitpython<4,>=3.1.9 (from mlflow-skinny==2.16.2->mlflow>=2.0.0->pycaret[full])\n",
            "  Downloading GitPython-3.1.43-py3-none-any.whl.metadata (13 kB)\n",
            "Collecting opentelemetry-api<3,>=1.9.0 (from mlflow-skinny==2.16.2->mlflow>=2.0.0->pycaret[full])\n",
            "  Downloading opentelemetry_api-1.27.0-py3-none-any.whl.metadata (1.4 kB)\n",
            "Collecting opentelemetry-sdk<3,>=1.9.0 (from mlflow-skinny==2.16.2->mlflow>=2.0.0->pycaret[full])\n",
            "  Downloading opentelemetry_sdk-1.27.0-py3-none-any.whl.metadata (1.5 kB)\n",
            "Requirement already satisfied: protobuf<6,>=3.12.0 in /usr/local/lib/python3.10/dist-packages (from mlflow-skinny==2.16.2->mlflow>=2.0.0->pycaret[full]) (3.20.3)\n",
            "Requirement already satisfied: sqlparse<1,>=0.4.0 in /usr/local/lib/python3.10/dist-packages (from mlflow-skinny==2.16.2->mlflow>=2.0.0->pycaret[full]) (0.5.1)\n",
            "Requirement already satisfied: itsdangerous>=2.0 in /usr/local/lib/python3.10/dist-packages (from flask->pycaret[full]) (2.2.0)\n",
            "Collecting xmltodict (from moto<5.0.0->pycaret[full])\n",
            "  Downloading xmltodict-0.13.0-py2.py3-none-any.whl.metadata (7.7 kB)\n",
            "Collecting responses>=0.13.0 (from moto<5.0.0->pycaret[full])\n",
            "  Downloading responses-0.25.3-py3-none-any.whl.metadata (46 kB)\n",
            "\u001b[2K     \u001b[90m━━━━━━━━━━━━━━━━━━━━━━━━━━━━━━━━━━━━━━━━\u001b[0m \u001b[32m46.7/46.7 kB\u001b[0m \u001b[31m3.2 MB/s\u001b[0m eta \u001b[36m0:00:00\u001b[0m\n",
            "\u001b[?25hRequirement already satisfied: fastjsonschema>=2.15 in /usr/local/lib/python3.10/dist-packages (from nbformat>=4.2.0->pycaret[full]) (2.20.0)\n",
            "Requirement already satisfied: jsonschema>=2.6 in /usr/local/lib/python3.10/dist-packages (from nbformat>=4.2.0->pycaret[full]) (4.23.0)\n",
            "Requirement already satisfied: jupyter-core!=5.0.*,>=4.12 in /usr/local/lib/python3.10/dist-packages (from nbformat>=4.2.0->pycaret[full]) (5.7.2)\n",
            "Requirement already satisfied: llvmlite<0.44,>=0.43.0dev0 in /usr/local/lib/python3.10/dist-packages (from numba>=0.55.0->pycaret[full]) (0.43.0)\n",
            "Collecting colorlog (from optuna>=3.0.0->pycaret[full])\n",
            "  Downloading colorlog-6.8.2-py3-none-any.whl.metadata (10 kB)\n",
            "Requirement already satisfied: pytz>=2020.1 in /usr/local/lib/python3.10/dist-packages (from pandas<2.2.0->pycaret[full]) (2024.2)\n",
            "Requirement already satisfied: tzdata>=2022.1 in /usr/local/lib/python3.10/dist-packages (from pandas<2.2.0->pycaret[full]) (2024.1)\n",
            "Requirement already satisfied: tenacity>=6.2.0 in /usr/local/lib/python3.10/dist-packages (from plotly>=5.14.0->pycaret[full]) (9.0.0)\n",
            "Collecting tsdownsample>=0.1.3 (from plotly-resampler>=0.8.3.1->pycaret[full])\n",
            "  Downloading tsdownsample-0.1.3-cp310-cp310-manylinux_2_17_x86_64.manylinux2014_x86_64.whl.metadata (7.9 kB)\n",
            "Requirement already satisfied: Cython!=0.29.18,!=0.29.31,>=0.29 in /usr/local/lib/python3.10/dist-packages (from pmdarima>=2.0.4->pycaret[full]) (3.0.11)\n",
            "Requirement already satisfied: iniconfig in /usr/local/lib/python3.10/dist-packages (from pytest<8.0.0->pycaret[full]) (2.0.0)\n",
            "Requirement already satisfied: pluggy<2.0,>=0.12 in /usr/local/lib/python3.10/dist-packages (from pytest<8.0.0->pycaret[full]) (1.5.0)\n",
            "Requirement already satisfied: exceptiongroup>=1.0.0rc8 in /usr/local/lib/python3.10/dist-packages (from pytest<8.0.0->pycaret[full]) (1.2.2)\n",
            "Requirement already satisfied: tomli>=1.0.0 in /usr/local/lib/python3.10/dist-packages (from pytest<8.0.0->pycaret[full]) (2.0.1)\n",
            "Requirement already satisfied: filelock in /usr/local/lib/python3.10/dist-packages (from ray>=1.0.0->ray[tune]>=1.0.0; (python_version != \"3.11\" and platform_system != \"Windows\") and extra == \"full\"->pycaret[full]) (3.16.1)\n",
            "Requirement already satisfied: aiosignal in /usr/local/lib/python3.10/dist-packages (from ray>=1.0.0->ray[tune]>=1.0.0; (python_version != \"3.11\" and platform_system != \"Windows\") and extra == \"full\"->pycaret[full]) (1.3.1)\n",
            "Requirement already satisfied: frozenlist in /usr/local/lib/python3.10/dist-packages (from ray>=1.0.0->ray[tune]>=1.0.0; (python_version != \"3.11\" and platform_system != \"Windows\") and extra == \"full\"->pycaret[full]) (1.4.1)\n",
            "Collecting tensorboardX>=1.9 (from ray[tune]>=1.0.0; (python_version != \"3.11\" and platform_system != \"Windows\") and extra == \"full\"->pycaret[full])\n",
            "  Downloading tensorboardX-2.6.2.2-py2.py3-none-any.whl.metadata (5.8 kB)\n",
            "Requirement already satisfied: charset-normalizer<4,>=2 in /usr/local/lib/python3.10/dist-packages (from requests>=2.27.1->pycaret[full]) (3.3.2)\n",
            "Requirement already satisfied: idna<4,>=2.5 in /usr/local/lib/python3.10/dist-packages (from requests>=2.27.1->pycaret[full]) (3.10)\n",
            "Collecting daal4py==2024.7.0 (from scikit-learn-intelex>=2023.0.1->pycaret[full])\n",
            "  Downloading daal4py-2024.7.0-py310-none-manylinux1_x86_64.whl.metadata (7.4 kB)\n",
            "Collecting daal==2024.7.0 (from daal4py==2024.7.0->scikit-learn-intelex>=2023.0.1->pycaret[full])\n",
            "  Downloading daal-2024.7.0-py2.py3-none-manylinux1_x86_64.whl.metadata (1.1 kB)\n",
            "Requirement already satisfied: tbb==2021.* in /usr/local/lib/python3.10/dist-packages (from daal==2024.7.0->daal4py==2024.7.0->scikit-learn-intelex>=2023.0.1->pycaret[full]) (2021.13.1)\n",
            "Collecting pyaml>=16.9 (from scikit-optimize>=0.9.0->pycaret[full])\n",
            "  Downloading pyaml-24.7.0-py3-none-any.whl.metadata (11 kB)\n",
            "Collecting slicer==0.0.7 (from shap~=0.44.0->pycaret[full])\n",
            "  Downloading slicer-0.0.7-py3-none-any.whl.metadata (3.7 kB)\n",
            "Collecting pynndescent>=0.5 (from umap-learn>=0.5.2->pycaret[full])\n",
            "  Downloading pynndescent-0.5.13-py3-none-any.whl.metadata (6.8 kB)\n",
            "Collecting h11>=0.8 (from uvicorn>=0.17.6->pycaret[full])\n",
            "  Downloading h11-0.14.0-py3-none-any.whl.metadata (8.2 kB)\n",
            "Requirement already satisfied: nvidia-nccl-cu12 in /usr/local/lib/python3.10/dist-packages (from xgboost>=1.1.0->pycaret[full]) (2.23.4)\n",
            "Collecting visions<0.7.7,>=0.7.5 (from visions[type_image_path]<0.7.7,>=0.7.5->ydata-profiling>=4.3.1->pycaret[full])\n",
            "  Downloading visions-0.7.6-py3-none-any.whl.metadata (11 kB)\n",
            "Collecting htmlmin==0.1.12 (from ydata-profiling>=4.3.1->pycaret[full])\n",
            "  Downloading htmlmin-0.1.12.tar.gz (19 kB)\n",
            "  Preparing metadata (setup.py) ... \u001b[?25l\u001b[?25hdone\n",
            "Collecting phik<0.13,>=0.11.1 (from ydata-profiling>=4.3.1->pycaret[full])\n",
            "  Downloading phik-0.12.4-cp310-cp310-manylinux_2_17_x86_64.manylinux2014_x86_64.whl.metadata (5.6 kB)\n",
            "Requirement already satisfied: seaborn<0.14,>=0.10.1 in /usr/local/lib/python3.10/dist-packages (from ydata-profiling>=4.3.1->pycaret[full]) (0.13.1)\n",
            "Collecting multimethod<2,>=1.4 (from ydata-profiling>=4.3.1->pycaret[full])\n",
            "  Downloading multimethod-1.12-py3-none-any.whl.metadata (9.6 kB)\n",
            "Requirement already satisfied: typeguard<5,>=3 in /usr/local/lib/python3.10/dist-packages (from ydata-profiling>=4.3.1->pycaret[full]) (4.3.0)\n",
            "Collecting imagehash==4.3.1 (from ydata-profiling>=4.3.1->pycaret[full])\n",
            "  Downloading ImageHash-4.3.1-py2.py3-none-any.whl.metadata (8.0 kB)\n",
            "Requirement already satisfied: wordcloud>=1.9.3 in /usr/local/lib/python3.10/dist-packages (from ydata-profiling>=4.3.1->pycaret[full]) (1.9.3)\n",
            "Collecting dacite>=1.8 (from ydata-profiling>=4.3.1->pycaret[full])\n",
            "  Downloading dacite-1.8.1-py3-none-any.whl.metadata (15 kB)\n",
            "Collecting PyWavelets (from imagehash==4.3.1->ydata-profiling>=4.3.1->pycaret[full])\n",
            "  Downloading pywavelets-1.7.0-cp310-cp310-manylinux_2_17_x86_64.manylinux2014_x86_64.whl.metadata (9.0 kB)\n",
            "Collecting retrying (from dash[testing]; extra == \"full\"->pycaret[full])\n",
            "  Downloading retrying-1.3.4-py3-none-any.whl.metadata (6.9 kB)\n",
            "Requirement already satisfied: nest-asyncio in /usr/local/lib/python3.10/dist-packages (from dash[testing]; extra == \"full\"->pycaret[full]) (1.6.0)\n",
            "Requirement already satisfied: beautifulsoup4>=4.8.2 in /usr/local/lib/python3.10/dist-packages (from dash[testing]; extra == \"full\"->pycaret[full]) (4.12.3)\n",
            "Requirement already satisfied: lxml>=4.6.2 in /usr/local/lib/python3.10/dist-packages (from dash[testing]; extra == \"full\"->pycaret[full]) (4.9.4)\n",
            "Collecting percy>=2.0.2 (from dash[testing]; extra == \"full\"->pycaret[full])\n",
            "  Downloading percy-2.0.2-py2.py3-none-any.whl.metadata (821 bytes)\n",
            "Collecting selenium<=4.2.0,>=3.141.0 (from dash[testing]; extra == \"full\"->pycaret[full])\n",
            "  Downloading selenium-4.2.0-py3-none-any.whl.metadata (6.5 kB)\n",
            "Collecting multiprocess>=0.70.12 (from dash[testing]; extra == \"full\"->pycaret[full])\n",
            "  Downloading multiprocess-0.70.16-py310-none-any.whl.metadata (7.2 kB)\n",
            "Collecting dash-testing-stub>=0.0.2 (from dash[testing]; extra == \"full\"->pycaret[full])\n",
            "  Downloading dash_testing_stub-0.0.2-py3-none-any.whl.metadata (587 bytes)\n",
            "Collecting Mako (from alembic!=1.10.0,<2->mlflow>=2.0.0->pycaret[full])\n",
            "  Downloading Mako-1.3.5-py3-none-any.whl.metadata (2.9 kB)\n",
            "Requirement already satisfied: sniffio>=1.1 in /usr/local/lib/python3.10/dist-packages (from anyio<5.0,>=3.0->gradio>=3.50.2->pycaret[full]) (1.3.1)\n",
            "Requirement already satisfied: soupsieve>1.2 in /usr/local/lib/python3.10/dist-packages (from beautifulsoup4>=4.8.2->dash[testing]; extra == \"full\"->pycaret[full]) (2.6)\n",
            "Requirement already satisfied: cffi>=1.12 in /usr/local/lib/python3.10/dist-packages (from cryptography>=43.0.1->evidently~=0.4.16->pycaret[full]) (1.17.1)\n",
            "Collecting dask-expr<1.2,>=1.1 (from dask[dataframe,distributed]>=2023.5.0; extra == \"dask\"->fugue[dask]; extra == \"full\"->pycaret[full])\n",
            "  Downloading dask_expr-1.1.14-py3-none-any.whl.metadata (2.5 kB)\n",
            "Requirement already satisfied: colour in /usr/local/lib/python3.10/dist-packages (from dtreeviz>=2.1->explainerdashboard>=0.3.8->pycaret[full]) (0.1.5)\n",
            "Collecting wtforms (from Flask-WTF>=1.1->explainerdashboard>=0.3.8->pycaret[full])\n",
            "  Downloading wtforms-3.1.2-py3-none-any.whl.metadata (5.3 kB)\n",
            "Collecting antlr4-python3-runtime<4.12 (from fugue-sql-antlr>=0.1.6->fugue~=0.8.0->pycaret[full])\n",
            "  Downloading antlr4_python3_runtime-4.11.1-py3-none-any.whl.metadata (291 bytes)\n",
            "Collecting graphql-core<3.3,>=3.1 (from graphene<4->mlflow>=2.0.0->pycaret[full])\n",
            "  Downloading graphql_core-3.2.4-py3-none-any.whl.metadata (10 kB)\n",
            "Collecting graphql-relay<3.3,>=3.1 (from graphene<4->mlflow>=2.0.0->pycaret[full])\n",
            "  Downloading graphql_relay-3.2.0-py3-none-any.whl.metadata (12 kB)\n",
            "Collecting aniso8601<10,>=8 (from graphene<4->mlflow>=2.0.0->pycaret[full])\n",
            "  Downloading aniso8601-9.0.1-py2.py3-none-any.whl.metadata (23 kB)\n",
            "Collecting httpcore==1.* (from httpx>=0.24.1->gradio>=3.50.2->pycaret[full])\n",
            "  Downloading httpcore-1.0.5-py3-none-any.whl.metadata (20 kB)\n",
            "Requirement already satisfied: jupyter-client in /usr/local/lib/python3.10/dist-packages (from ipykernel>=4.10.0->interpret-core[aplr,dash,debug,linear,notebook,plotly,sensitivity,shap]==0.6.3->interpret>=0.2.7->pycaret[full]) (6.1.12)\n",
            "Collecting appdirs (from iterative-telemetry>=0.0.5->evidently~=0.4.16->pycaret[full])\n",
            "  Downloading appdirs-1.4.4-py2.py3-none-any.whl.metadata (9.0 kB)\n",
            "Requirement already satisfied: distro in /usr/lib/python3/dist-packages (from iterative-telemetry>=0.0.5->evidently~=0.4.16->pycaret[full]) (1.7.0)\n",
            "Requirement already satisfied: parso<0.9.0,>=0.8.3 in /usr/local/lib/python3.10/dist-packages (from jedi>=0.16->ipython>=5.5.0->pycaret[full]) (0.8.4)\n",
            "Requirement already satisfied: attrs>=22.2.0 in /usr/local/lib/python3.10/dist-packages (from jsonschema>=2.6->nbformat>=4.2.0->pycaret[full]) (24.2.0)\n",
            "Requirement already satisfied: jsonschema-specifications>=2023.03.6 in /usr/local/lib/python3.10/dist-packages (from jsonschema>=2.6->nbformat>=4.2.0->pycaret[full]) (2023.12.1)\n",
            "Requirement already satisfied: referencing>=0.28.4 in /usr/local/lib/python3.10/dist-packages (from jsonschema>=2.6->nbformat>=4.2.0->pycaret[full]) (0.35.1)\n",
            "Requirement already satisfied: rpds-py>=0.7.1 in /usr/local/lib/python3.10/dist-packages (from jsonschema>=2.6->nbformat>=4.2.0->pycaret[full]) (0.20.0)\n",
            "Requirement already satisfied: platformdirs>=2.5 in /usr/local/lib/python3.10/dist-packages (from jupyter-core!=5.0.*,>=4.12->nbformat>=4.2.0->pycaret[full]) (4.3.6)\n",
            "Collecting ansi2html (from jupyter-dash>=0.4.1->explainerdashboard>=0.3.8->pycaret[full])\n",
            "  Downloading ansi2html-1.9.2-py3-none-any.whl.metadata (3.7 kB)\n",
            "Collecting msgspec>=0.18.2 (from litestar>=2.8.3->evidently~=0.4.16->pycaret[full])\n",
            "  Downloading msgspec-0.18.6-cp310-cp310-manylinux_2_17_x86_64.manylinux2014_x86_64.whl.metadata (6.9 kB)\n",
            "Requirement already satisfied: multidict>=6.0.2 in /usr/local/lib/python3.10/dist-packages (from litestar>=2.8.3->evidently~=0.4.16->pycaret[full]) (6.1.0)\n",
            "Collecting polyfactory>=2.6.3 (from litestar>=2.8.3->evidently~=0.4.16->pycaret[full])\n",
            "  Downloading polyfactory-2.16.2-py3-none-any.whl.metadata (27 kB)\n",
            "Collecting rich-click (from litestar>=2.8.3->evidently~=0.4.16->pycaret[full])\n",
            "  Downloading rich_click-1.8.3-py3-none-any.whl.metadata (7.9 kB)\n",
            "Requirement already satisfied: regex>=2021.8.3 in /usr/local/lib/python3.10/dist-packages (from nltk>=3.6.7->evidently~=0.4.16->pycaret[full]) (2024.9.11)\n",
            "Requirement already satisfied: ptyprocess>=0.5 in /usr/local/lib/python3.10/dist-packages (from pexpect>4.3->ipython>=5.5.0->pycaret[full]) (0.7.0)\n",
            "Requirement already satisfied: wcwidth in /usr/local/lib/python3.10/dist-packages (from prompt-toolkit!=3.0.0,!=3.0.1,<3.1.0,>=2.0.0->ipython>=5.5.0->pycaret[full]) (0.2.13)\n",
            "Requirement already satisfied: annotated-types>=0.6.0 in /usr/local/lib/python3.10/dist-packages (from pydantic>=1.10.13->evidently~=0.4.16->pycaret[full]) (0.7.0)\n",
            "Requirement already satisfied: pydantic-core==2.23.4 in /usr/local/lib/python3.10/dist-packages (from pydantic>=1.10.13->evidently~=0.4.16->pycaret[full]) (2.23.4)\n",
            "Requirement already satisfied: markdown-it-py>=2.2.0 in /usr/local/lib/python3.10/dist-packages (from rich>=13->evidently~=0.4.16->pycaret[full]) (3.0.0)\n",
            "INFO: pip is looking at multiple versions of selenium to determine which version is compatible with other requirements. This could take a while.\n",
            "Collecting selenium<=4.2.0,>=3.141.0 (from dash[testing]; extra == \"full\"->pycaret[full])\n",
            "  Downloading selenium-4.1.5-py3-none-any.whl.metadata (6.5 kB)\n",
            "  Downloading selenium-4.1.4-py3-none-any.whl.metadata (6.5 kB)\n",
            "  Downloading selenium-4.1.3-py3-none-any.whl.metadata (6.5 kB)\n",
            "  Downloading selenium-4.1.2-py3-none-any.whl.metadata (6.5 kB)\n",
            "  Downloading selenium-4.1.1-py3-none-any.whl.metadata (6.5 kB)\n",
            "  Downloading selenium-4.1.0-py3-none-any.whl.metadata (6.5 kB)\n",
            "  Downloading selenium-4.0.0-py3-none-any.whl.metadata (6.5 kB)\n",
            "INFO: pip is still looking at multiple versions of selenium to determine which version is compatible with other requirements. This could take a while.\n",
            "  Downloading selenium-3.141.0-py2.py3-none-any.whl.metadata (6.6 kB)\n",
            "Requirement already satisfied: greenlet!=0.4.17 in /usr/local/lib/python3.10/dist-packages (from sqlalchemy<3,>=1.4.0->mlflow>=2.0.0->pycaret[full]) (3.1.0)\n",
            "Collecting fs (from triad>=0.9.3->fugue~=0.8.0->pycaret[full])\n",
            "  Downloading fs-2.4.16-py2.py3-none-any.whl.metadata (6.3 kB)\n",
            "Requirement already satisfied: shellingham>=1.3.0 in /usr/local/lib/python3.10/dist-packages (from typer>=0.3->evidently~=0.4.16->pycaret[full]) (1.5.4)\n",
            "Collecting mypy-extensions>=0.3.0 (from typing-inspect>=0.9.0->evidently~=0.4.16->pycaret[full])\n",
            "  Downloading mypy_extensions-1.0.0-py3-none-any.whl.metadata (1.1 kB)\n",
            "Collecting httptools>=0.5.0 (from uvicorn[standard]>=0.22.0->evidently~=0.4.16->pycaret[full])\n",
            "  Downloading httptools-0.6.1-cp310-cp310-manylinux_2_5_x86_64.manylinux1_x86_64.manylinux_2_17_x86_64.manylinux2014_x86_64.whl.metadata (3.6 kB)\n",
            "Collecting python-dotenv>=0.13 (from uvicorn[standard]>=0.22.0->evidently~=0.4.16->pycaret[full])\n",
            "  Downloading python_dotenv-1.0.1-py3-none-any.whl.metadata (23 kB)\n",
            "Collecting uvloop!=0.15.0,!=0.15.1,>=0.14.0 (from uvicorn[standard]>=0.22.0->evidently~=0.4.16->pycaret[full])\n",
            "  Downloading uvloop-0.20.0-cp310-cp310-manylinux_2_17_x86_64.manylinux2014_x86_64.whl.metadata (4.9 kB)\n",
            "Collecting watchfiles>=0.13 (from uvicorn[standard]>=0.22.0->evidently~=0.4.16->pycaret[full])\n",
            "  Downloading watchfiles-0.24.0-cp310-cp310-manylinux_2_17_x86_64.manylinux2014_x86_64.whl.metadata (4.9 kB)\n",
            "Requirement already satisfied: notebook>=4.4.1 in /usr/local/lib/python3.10/dist-packages (from widgetsnbextension~=3.6.0->ipywidgets>=7.6.5->pycaret[full]) (6.5.5)\n",
            "Requirement already satisfied: pycparser in /usr/local/lib/python3.10/dist-packages (from cffi>=1.12->cryptography>=43.0.1->evidently~=0.4.16->pycaret[full]) (2.22)\n",
            "INFO: pip is looking at multiple versions of dask-expr to determine which version is compatible with other requirements. This could take a while.\n",
            "Collecting dask-expr<1.2,>=1.1 (from dask[dataframe,distributed]>=2023.5.0; extra == \"dask\"->fugue[dask]; extra == \"full\"->pycaret[full])\n",
            "  Downloading dask_expr-1.1.13-py3-none-any.whl.metadata (2.5 kB)\n",
            "  Downloading dask_expr-1.1.12-py3-none-any.whl.metadata (2.5 kB)\n",
            "  Downloading dask_expr-1.1.11-py3-none-any.whl.metadata (2.5 kB)\n",
            "  Downloading dask_expr-1.1.10-py3-none-any.whl.metadata (2.5 kB)\n",
            "Requirement already satisfied: google-auth~=2.0 in /usr/local/lib/python3.10/dist-packages (from databricks-sdk<1,>=0.20.0->mlflow-skinny==2.16.2->mlflow>=2.0.0->pycaret[full]) (2.27.0)\n",
            "Collecting zope.event (from gevent>=1.3.6->interpret-core[aplr,dash,debug,linear,notebook,plotly,sensitivity,shap]==0.6.3->interpret>=0.2.7->pycaret[full])\n",
            "  Downloading zope.event-5.0-py3-none-any.whl.metadata (4.4 kB)\n",
            "Collecting zope.interface (from gevent>=1.3.6->interpret-core[aplr,dash,debug,linear,notebook,plotly,sensitivity,shap]==0.6.3->interpret>=0.2.7->pycaret[full])\n",
            "  Downloading zope.interface-7.0.3-cp310-cp310-manylinux_2_5_x86_64.manylinux1_x86_64.manylinux_2_17_x86_64.manylinux2014_x86_64.whl.metadata (43 kB)\n",
            "\u001b[2K     \u001b[90m━━━━━━━━━━━━━━━━━━━━━━━━━━━━━━━━━━━━━━━━\u001b[0m \u001b[32m43.6/43.6 kB\u001b[0m \u001b[31m2.9 MB/s\u001b[0m eta \u001b[36m0:00:00\u001b[0m\n",
            "\u001b[?25hCollecting gitdb<5,>=4.0.1 (from gitpython<4,>=3.1.9->mlflow-skinny==2.16.2->mlflow>=2.0.0->pycaret[full])\n",
            "  Downloading gitdb-4.0.11-py3-none-any.whl.metadata (1.2 kB)\n",
            "Requirement already satisfied: mdurl~=0.1 in /usr/local/lib/python3.10/dist-packages (from markdown-it-py>=2.2.0->rich>=13->evidently~=0.4.16->pycaret[full]) (0.1.2)\n",
            "Requirement already satisfied: pyzmq<25,>=17 in /usr/local/lib/python3.10/dist-packages (from notebook>=4.4.1->widgetsnbextension~=3.6.0->ipywidgets>=7.6.5->pycaret[full]) (24.0.1)\n",
            "Requirement already satisfied: argon2-cffi in /usr/local/lib/python3.10/dist-packages (from notebook>=4.4.1->widgetsnbextension~=3.6.0->ipywidgets>=7.6.5->pycaret[full]) (23.1.0)\n",
            "Requirement already satisfied: nbconvert>=5 in /usr/local/lib/python3.10/dist-packages (from notebook>=4.4.1->widgetsnbextension~=3.6.0->ipywidgets>=7.6.5->pycaret[full]) (6.5.4)\n",
            "Requirement already satisfied: Send2Trash>=1.8.0 in /usr/local/lib/python3.10/dist-packages (from notebook>=4.4.1->widgetsnbextension~=3.6.0->ipywidgets>=7.6.5->pycaret[full]) (1.8.3)\n",
            "Requirement already satisfied: terminado>=0.8.3 in /usr/local/lib/python3.10/dist-packages (from notebook>=4.4.1->widgetsnbextension~=3.6.0->ipywidgets>=7.6.5->pycaret[full]) (0.18.1)\n",
            "Requirement already satisfied: prometheus-client in /usr/local/lib/python3.10/dist-packages (from notebook>=4.4.1->widgetsnbextension~=3.6.0->ipywidgets>=7.6.5->pycaret[full]) (0.20.0)\n",
            "Requirement already satisfied: nbclassic>=0.4.7 in /usr/local/lib/python3.10/dist-packages (from notebook>=4.4.1->widgetsnbextension~=3.6.0->ipywidgets>=7.6.5->pycaret[full]) (1.1.0)\n",
            "Collecting deprecated>=1.2.6 (from opentelemetry-api<3,>=1.9.0->mlflow-skinny==2.16.2->mlflow>=2.0.0->pycaret[full])\n",
            "  Downloading Deprecated-1.2.14-py2.py3-none-any.whl.metadata (5.4 kB)\n",
            "Collecting importlib-metadata>=4.12.0 (from pycaret[full])\n",
            "  Downloading importlib_metadata-8.4.0-py3-none-any.whl.metadata (4.7 kB)\n",
            "Collecting opentelemetry-semantic-conventions==0.48b0 (from opentelemetry-sdk<3,>=1.9.0->mlflow-skinny==2.16.2->mlflow>=2.0.0->pycaret[full])\n",
            "  Downloading opentelemetry_semantic_conventions-0.48b0-py3-none-any.whl.metadata (2.4 kB)\n",
            "Collecting faker (from polyfactory>=2.6.3->litestar>=2.8.3->evidently~=0.4.16->pycaret[full])\n",
            "  Downloading Faker-29.0.0-py3-none-any.whl.metadata (15 kB)\n",
            "Requirement already satisfied: wrapt<2,>=1.10 in /usr/local/lib/python3.10/dist-packages (from deprecated>=1.2.6->opentelemetry-api<3,>=1.9.0->mlflow-skinny==2.16.2->mlflow>=2.0.0->pycaret[full]) (1.16.0)\n",
            "Collecting smmap<6,>=3.0.1 (from gitdb<5,>=4.0.1->gitpython<4,>=3.1.9->mlflow-skinny==2.16.2->mlflow>=2.0.0->pycaret[full])\n",
            "  Downloading smmap-5.0.1-py3-none-any.whl.metadata (4.3 kB)\n",
            "Requirement already satisfied: pyasn1-modules>=0.2.1 in /usr/local/lib/python3.10/dist-packages (from google-auth~=2.0->databricks-sdk<1,>=0.20.0->mlflow-skinny==2.16.2->mlflow>=2.0.0->pycaret[full]) (0.4.1)\n",
            "Requirement already satisfied: rsa<5,>=3.1.4 in /usr/local/lib/python3.10/dist-packages (from google-auth~=2.0->databricks-sdk<1,>=0.20.0->mlflow-skinny==2.16.2->mlflow>=2.0.0->pycaret[full]) (4.9)\n",
            "Requirement already satisfied: notebook-shim>=0.2.3 in /usr/local/lib/python3.10/dist-packages (from nbclassic>=0.4.7->notebook>=4.4.1->widgetsnbextension~=3.6.0->ipywidgets>=7.6.5->pycaret[full]) (0.2.4)\n",
            "Requirement already satisfied: bleach in /usr/local/lib/python3.10/dist-packages (from nbconvert>=5->notebook>=4.4.1->widgetsnbextension~=3.6.0->ipywidgets>=7.6.5->pycaret[full]) (6.1.0)\n",
            "Requirement already satisfied: defusedxml in /usr/local/lib/python3.10/dist-packages (from nbconvert>=5->notebook>=4.4.1->widgetsnbextension~=3.6.0->ipywidgets>=7.6.5->pycaret[full]) (0.7.1)\n",
            "Requirement already satisfied: entrypoints>=0.2.2 in /usr/local/lib/python3.10/dist-packages (from nbconvert>=5->notebook>=4.4.1->widgetsnbextension~=3.6.0->ipywidgets>=7.6.5->pycaret[full]) (0.4)\n",
            "Requirement already satisfied: jupyterlab-pygments in /usr/local/lib/python3.10/dist-packages (from nbconvert>=5->notebook>=4.4.1->widgetsnbextension~=3.6.0->ipywidgets>=7.6.5->pycaret[full]) (0.3.0)\n",
            "Requirement already satisfied: mistune<2,>=0.8.1 in /usr/local/lib/python3.10/dist-packages (from nbconvert>=5->notebook>=4.4.1->widgetsnbextension~=3.6.0->ipywidgets>=7.6.5->pycaret[full]) (0.8.4)\n",
            "Requirement already satisfied: nbclient>=0.5.0 in /usr/local/lib/python3.10/dist-packages (from nbconvert>=5->notebook>=4.4.1->widgetsnbextension~=3.6.0->ipywidgets>=7.6.5->pycaret[full]) (0.10.0)\n",
            "Requirement already satisfied: pandocfilters>=1.4.1 in /usr/local/lib/python3.10/dist-packages (from nbconvert>=5->notebook>=4.4.1->widgetsnbextension~=3.6.0->ipywidgets>=7.6.5->pycaret[full]) (1.5.1)\n",
            "Requirement already satisfied: tinycss2 in /usr/local/lib/python3.10/dist-packages (from nbconvert>=5->notebook>=4.4.1->widgetsnbextension~=3.6.0->ipywidgets>=7.6.5->pycaret[full]) (1.3.0)\n",
            "Requirement already satisfied: argon2-cffi-bindings in /usr/local/lib/python3.10/dist-packages (from argon2-cffi->notebook>=4.4.1->widgetsnbextension~=3.6.0->ipywidgets>=7.6.5->pycaret[full]) (21.2.0)\n",
            "Requirement already satisfied: jupyter-server<3,>=1.8 in /usr/local/lib/python3.10/dist-packages (from notebook-shim>=0.2.3->nbclassic>=0.4.7->notebook>=4.4.1->widgetsnbextension~=3.6.0->ipywidgets>=7.6.5->pycaret[full]) (1.24.0)\n",
            "Requirement already satisfied: pyasn1<0.7.0,>=0.4.6 in /usr/local/lib/python3.10/dist-packages (from pyasn1-modules>=0.2.1->google-auth~=2.0->databricks-sdk<1,>=0.20.0->mlflow-skinny==2.16.2->mlflow>=2.0.0->pycaret[full]) (0.6.1)\n",
            "Requirement already satisfied: webencodings in /usr/local/lib/python3.10/dist-packages (from bleach->nbconvert>=5->notebook>=4.4.1->widgetsnbextension~=3.6.0->ipywidgets>=7.6.5->pycaret[full]) (0.5.1)\n",
            "Requirement already satisfied: websocket-client in /usr/local/lib/python3.10/dist-packages (from jupyter-server<3,>=1.8->notebook-shim>=0.2.3->nbclassic>=0.4.7->notebook>=4.4.1->widgetsnbextension~=3.6.0->ipywidgets>=7.6.5->pycaret[full]) (1.8.0)\n",
            "Downloading fairlearn-0.7.0-py3-none-any.whl (177 kB)\n",
            "\u001b[2K   \u001b[90m━━━━━━━━━━━━━━━━━━━━━━━━━━━━━━━━━━━━━━━━\u001b[0m \u001b[32m177.5/177.5 kB\u001b[0m \u001b[31m9.9 MB/s\u001b[0m eta \u001b[36m0:00:00\u001b[0m\n",
            "\u001b[?25hDownloading schemdraw-0.15-py3-none-any.whl (106 kB)\n",
            "\u001b[2K   \u001b[90m━━━━━━━━━━━━━━━━━━━━━━━━━━━━━━━━━━━━━━━━\u001b[0m \u001b[32m106.8/106.8 kB\u001b[0m \u001b[31m7.4 MB/s\u001b[0m eta \u001b[36m0:00:00\u001b[0m\n",
            "\u001b[?25hDownloading sktime-0.26.0-py3-none-any.whl (21.8 MB)\n",
            "\u001b[2K   \u001b[90m━━━━━━━━━━━━━━━━━━━━━━━━━━━━━━━━━━━━━━━━\u001b[0m \u001b[32m21.8/21.8 MB\u001b[0m \u001b[31m37.1 MB/s\u001b[0m eta \u001b[36m0:00:00\u001b[0m\n",
            "\u001b[?25hDownloading boto3-1.35.24-py3-none-any.whl (139 kB)\n",
            "\u001b[2K   \u001b[90m━━━━━━━━━━━━━━━━━━━━━━━━━━━━━━━━━━━━━━━━\u001b[0m \u001b[32m139.2/139.2 kB\u001b[0m \u001b[31m6.6 MB/s\u001b[0m eta \u001b[36m0:00:00\u001b[0m\n",
            "\u001b[?25hDownloading catboost-1.2.7-cp310-cp310-manylinux2014_x86_64.whl (98.7 MB)\n",
            "\u001b[2K   \u001b[90m━━━━━━━━━━━━━━━━━━━━━━━━━━━━━━━━━━━━━━━━\u001b[0m \u001b[32m98.7/98.7 MB\u001b[0m \u001b[31m7.3 MB/s\u001b[0m eta \u001b[36m0:00:00\u001b[0m\n",
            "\u001b[?25hDownloading category_encoders-2.6.3-py2.py3-none-any.whl (81 kB)\n",
            "\u001b[2K   \u001b[90m━━━━━━━━━━━━━━━━━━━━━━━━━━━━━━━━━━━━━━━━\u001b[0m \u001b[32m81.9/81.9 kB\u001b[0m \u001b[31m5.4 MB/s\u001b[0m eta \u001b[36m0:00:00\u001b[0m\n",
            "\u001b[?25hDownloading deprecation-2.1.0-py2.py3-none-any.whl (11 kB)\n",
            "Downloading evidently-0.4.37-py3-none-any.whl (3.4 MB)\n",
            "\u001b[2K   \u001b[90m━━━━━━━━━━━━━━━━━━━━━━━━━━━━━━━━━━━━━━━━\u001b[0m \u001b[32m3.4/3.4 MB\u001b[0m \u001b[31m64.9 MB/s\u001b[0m eta \u001b[36m0:00:00\u001b[0m\n",
            "\u001b[?25hDownloading explainerdashboard-0.4.7-py3-none-any.whl (287 kB)\n",
            "\u001b[2K   \u001b[90m━━━━━━━━━━━━━━━━━━━━━━━━━━━━━━━━━━━━━━━━\u001b[0m \u001b[32m287.8/287.8 kB\u001b[0m \u001b[31m18.7 MB/s\u001b[0m eta \u001b[36m0:00:00\u001b[0m\n",
            "\u001b[?25hDownloading fugue-0.8.7-py3-none-any.whl (279 kB)\n",
            "\u001b[2K   \u001b[90m━━━━━━━━━━━━━━━━━━━━━━━━━━━━━━━━━━━━━━━━\u001b[0m \u001b[32m279.8/279.8 kB\u001b[0m \u001b[31m20.6 MB/s\u001b[0m eta \u001b[36m0:00:00\u001b[0m\n",
            "\u001b[?25hDownloading gradio-4.44.0-py3-none-any.whl (18.1 MB)\n",
            "\u001b[2K   \u001b[90m━━━━━━━━━━━━━━━━━━━━━━━━━━━━━━━━━━━━━━━━\u001b[0m \u001b[32m18.1/18.1 MB\u001b[0m \u001b[31m54.9 MB/s\u001b[0m eta \u001b[36m0:00:00\u001b[0m\n",
            "\u001b[?25hDownloading gradio_client-1.3.0-py3-none-any.whl (318 kB)\n",
            "\u001b[2K   \u001b[90m━━━━━━━━━━━━━━━━━━━━━━━━━━━━━━━━━━━━━━━━\u001b[0m \u001b[32m318.7/318.7 kB\u001b[0m \u001b[31m23.4 MB/s\u001b[0m eta \u001b[36m0:00:00\u001b[0m\n",
            "\u001b[?25hDownloading tomlkit-0.12.0-py3-none-any.whl (37 kB)\n",
            "Downloading fastapi-0.115.0-py3-none-any.whl (94 kB)\n",
            "\u001b[2K   \u001b[90m━━━━━━━━━━━━━━━━━━━━━━━━━━━━━━━━━━━━━━━━\u001b[0m \u001b[32m94.6/94.6 kB\u001b[0m \u001b[31m7.3 MB/s\u001b[0m eta \u001b[36m0:00:00\u001b[0m\n",
            "\u001b[?25hDownloading interpret-0.6.3-py3-none-any.whl (1.4 kB)\n",
            "Downloading interpret_core-0.6.3-py3-none-any.whl (13.5 MB)\n",
            "\u001b[2K   \u001b[90m━━━━━━━━━━━━━━━━━━━━━━━━━━━━━━━━━━━━━━━━\u001b[0m \u001b[32m13.5/13.5 MB\u001b[0m \u001b[31m56.1 MB/s\u001b[0m eta \u001b[36m0:00:00\u001b[0m\n",
            "\u001b[?25hDownloading joblib-1.3.2-py3-none-any.whl (302 kB)\n",
            "\u001b[2K   \u001b[90m━━━━━━━━━━━━━━━━━━━━━━━━━━━━━━━━━━━━━━━━\u001b[0m \u001b[32m302.2/302.2 kB\u001b[0m \u001b[31m19.1 MB/s\u001b[0m eta \u001b[36m0:00:00\u001b[0m\n",
            "\u001b[?25hDownloading kaleido-0.2.1-py2.py3-none-manylinux1_x86_64.whl (79.9 MB)\n",
            "\u001b[2K   \u001b[90m━━━━━━━━━━━━━━━━━━━━━━━━━━━━━━━━━━━━━━━━\u001b[0m \u001b[32m79.9/79.9 MB\u001b[0m \u001b[31m8.2 MB/s\u001b[0m eta \u001b[36m0:00:00\u001b[0m\n",
            "\u001b[?25hDownloading kmodes-0.12.2-py2.py3-none-any.whl (20 kB)\n",
            "Downloading m2cgen-0.10.0-py3-none-any.whl (92 kB)\n",
            "\u001b[2K   \u001b[90m━━━━━━━━━━━━━━━━━━━━━━━━━━━━━━━━━━━━━━━━\u001b[0m \u001b[32m92.2/92.2 kB\u001b[0m \u001b[31m7.0 MB/s\u001b[0m eta \u001b[36m0:00:00\u001b[0m\n",
            "\u001b[?25hDownloading mlflow-2.16.2-py3-none-any.whl (26.7 MB)\n",
            "\u001b[2K   \u001b[90m━━━━━━━━━━━━━━━━━━━━━━━━━━━━━━━━━━━━━━━━\u001b[0m \u001b[32m26.7/26.7 MB\u001b[0m \u001b[31m44.0 MB/s\u001b[0m eta \u001b[36m0:00:00\u001b[0m\n",
            "\u001b[?25hDownloading mlflow_skinny-2.16.2-py3-none-any.whl (5.6 MB)\n",
            "\u001b[2K   \u001b[90m━━━━━━━━━━━━━━━━━━━━━━━━━━━━━━━━━━━━━━━━\u001b[0m \u001b[32m5.6/5.6 MB\u001b[0m \u001b[31m59.8 MB/s\u001b[0m eta \u001b[36m0:00:00\u001b[0m\n",
            "\u001b[?25hDownloading moto-4.2.14-py2.py3-none-any.whl (3.3 MB)\n",
            "\u001b[2K   \u001b[90m━━━━━━━━━━━━━━━━━━━━━━━━━━━━━━━━━━━━━━━━\u001b[0m \u001b[32m3.3/3.3 MB\u001b[0m \u001b[31m60.8 MB/s\u001b[0m eta \u001b[36m0:00:00\u001b[0m\n",
            "\u001b[?25hDownloading optuna-4.0.0-py3-none-any.whl (362 kB)\n",
            "\u001b[2K   \u001b[90m━━━━━━━━━━━━━━━━━━━━━━━━━━━━━━━━━━━━━━━━\u001b[0m \u001b[32m362.8/362.8 kB\u001b[0m \u001b[31m22.3 MB/s\u001b[0m eta \u001b[36m0:00:00\u001b[0m\n",
            "\u001b[?25hDownloading plotly_resampler-0.10.0-py3-none-any.whl (80 kB)\n",
            "\u001b[2K   \u001b[90m━━━━━━━━━━━━━━━━━━━━━━━━━━━━━━━━━━━━━━━━\u001b[0m \u001b[32m80.7/80.7 kB\u001b[0m \u001b[31m5.4 MB/s\u001b[0m eta \u001b[36m0:00:00\u001b[0m\n",
            "\u001b[?25hDownloading pmdarima-2.0.4-cp310-cp310-manylinux_2_17_x86_64.manylinux2014_x86_64.manylinux_2_28_x86_64.whl (2.1 MB)\n",
            "\u001b[2K   \u001b[90m━━━━━━━━━━━━━━━━━━━━━━━━━━━━━━━━━━━━━━━━\u001b[0m \u001b[32m2.1/2.1 MB\u001b[0m \u001b[31m49.6 MB/s\u001b[0m eta \u001b[36m0:00:00\u001b[0m\n",
            "\u001b[?25hDownloading ray-2.36.0-cp310-cp310-manylinux2014_x86_64.whl (65.4 MB)\n",
            "\u001b[2K   \u001b[90m━━━━━━━━━━━━━━━━━━━━━━━━━━━━━━━━━━━━━━━━\u001b[0m \u001b[32m65.4/65.4 MB\u001b[0m \u001b[31m9.3 MB/s\u001b[0m eta \u001b[36m0:00:00\u001b[0m\n",
            "\u001b[?25hDownloading scikit_learn-1.4.2-cp310-cp310-manylinux_2_17_x86_64.manylinux2014_x86_64.whl (12.1 MB)\n",
            "\u001b[2K   \u001b[90m━━━━━━━━━━━━━━━━━━━━━━━━━━━━━━━━━━━━━━━━\u001b[0m \u001b[32m12.1/12.1 MB\u001b[0m \u001b[31m61.2 MB/s\u001b[0m eta \u001b[36m0:00:00\u001b[0m\n",
            "\u001b[?25hDownloading scikit_learn_intelex-2024.7.0-py310-none-manylinux1_x86_64.whl (191 kB)\n",
            "\u001b[2K   \u001b[90m━━━━━━━━━━━━━━━━━━━━━━━━━━━━━━━━━━━━━━━━\u001b[0m \u001b[32m191.5/191.5 kB\u001b[0m \u001b[31m14.2 MB/s\u001b[0m eta \u001b[36m0:00:00\u001b[0m\n",
            "\u001b[?25hDownloading daal4py-2024.7.0-py310-none-manylinux1_x86_64.whl (11.3 MB)\n",
            "\u001b[2K   \u001b[90m━━━━━━━━━━━━━━━━━━━━━━━━━━━━━━━━━━━━━━━━\u001b[0m \u001b[32m11.3/11.3 MB\u001b[0m \u001b[31m56.9 MB/s\u001b[0m eta \u001b[36m0:00:00\u001b[0m\n",
            "\u001b[?25hDownloading daal-2024.7.0-py2.py3-none-manylinux1_x86_64.whl (66.6 MB)\n",
            "\u001b[2K   \u001b[90m━━━━━━━━━━━━━━━━━━━━━━━━━━━━━━━━━━━━━━━━\u001b[0m \u001b[32m66.6/66.6 MB\u001b[0m \u001b[31m9.1 MB/s\u001b[0m eta \u001b[36m0:00:00\u001b[0m\n",
            "\u001b[?25hDownloading scikit_optimize-0.10.2-py2.py3-none-any.whl (107 kB)\n",
            "\u001b[2K   \u001b[90m━━━━━━━━━━━━━━━━━━━━━━━━━━━━━━━━━━━━━━━━\u001b[0m \u001b[32m107.8/107.8 kB\u001b[0m \u001b[31m6.6 MB/s\u001b[0m eta \u001b[36m0:00:00\u001b[0m\n",
            "\u001b[?25hDownloading scikit_plot-0.3.7-py3-none-any.whl (33 kB)\n",
            "Downloading scipy-1.11.4-cp310-cp310-manylinux_2_17_x86_64.manylinux2014_x86_64.whl (36.4 MB)\n",
            "\u001b[2K   \u001b[90m━━━━━━━━━━━━━━━━━━━━━━━━━━━━━━━━━━━━━━━━\u001b[0m \u001b[32m36.4/36.4 MB\u001b[0m \u001b[31m34.3 MB/s\u001b[0m eta \u001b[36m0:00:00\u001b[0m\n",
            "\u001b[?25hDownloading shap-0.44.1-cp310-cp310-manylinux_2_12_x86_64.manylinux2010_x86_64.manylinux_2_17_x86_64.manylinux2014_x86_64.whl (535 kB)\n",
            "\u001b[2K   \u001b[90m━━━━━━━━━━━━━━━━━━━━━━━━━━━━━━━━━━━━━━━━\u001b[0m \u001b[32m535.7/535.7 kB\u001b[0m \u001b[31m25.1 MB/s\u001b[0m eta \u001b[36m0:00:00\u001b[0m\n",
            "\u001b[?25hDownloading slicer-0.0.7-py3-none-any.whl (14 kB)\n",
            "Downloading statsforecast-1.5.0-py3-none-any.whl (99 kB)\n",
            "\u001b[2K   \u001b[90m━━━━━━━━━━━━━━━━━━━━━━━━━━━━━━━━━━━━━━━━\u001b[0m \u001b[32m100.0/100.0 kB\u001b[0m \u001b[31m7.5 MB/s\u001b[0m eta \u001b[36m0:00:00\u001b[0m\n",
            "\u001b[?25hDownloading tbats-1.1.3-py3-none-any.whl (44 kB)\n",
            "\u001b[2K   \u001b[90m━━━━━━━━━━━━━━━━━━━━━━━━━━━━━━━━━━━━━━━━\u001b[0m \u001b[32m44.0/44.0 kB\u001b[0m \u001b[31m2.7 MB/s\u001b[0m eta \u001b[36m0:00:00\u001b[0m\n",
            "\u001b[?25hDownloading tune_sklearn-0.5.0-py3-none-any.whl (42 kB)\n",
            "\u001b[2K   \u001b[90m━━━━━━━━━━━━━━━━━━━━━━━━━━━━━━━━━━━━━━━━\u001b[0m \u001b[32m42.2/42.2 kB\u001b[0m \u001b[31m2.6 MB/s\u001b[0m eta \u001b[36m0:00:00\u001b[0m\n",
            "\u001b[?25hDownloading umap_learn-0.5.6-py3-none-any.whl (85 kB)\n",
            "\u001b[2K   \u001b[90m━━━━━━━━━━━━━━━━━━━━━━━━━━━━━━━━━━━━━━━━\u001b[0m \u001b[32m85.7/85.7 kB\u001b[0m \u001b[31m6.0 MB/s\u001b[0m eta \u001b[36m0:00:00\u001b[0m\n",
            "\u001b[?25hDownloading uvicorn-0.30.6-py3-none-any.whl (62 kB)\n",
            "\u001b[2K   \u001b[90m━━━━━━━━━━━━━━━━━━━━━━━━━━━━━━━━━━━━━━━━\u001b[0m \u001b[32m62.8/62.8 kB\u001b[0m \u001b[31m5.0 MB/s\u001b[0m eta \u001b[36m0:00:00\u001b[0m\n",
            "\u001b[?25hDownloading werkzeug-2.3.8-py3-none-any.whl (242 kB)\n",
            "\u001b[2K   \u001b[90m━━━━━━━━━━━━━━━━━━━━━━━━━━━━━━━━━━━━━━━━\u001b[0m \u001b[32m242.3/242.3 kB\u001b[0m \u001b[31m16.5 MB/s\u001b[0m eta \u001b[36m0:00:00\u001b[0m\n",
            "\u001b[?25hDownloading ydata_profiling-4.10.0-py2.py3-none-any.whl (356 kB)\n",
            "\u001b[2K   \u001b[90m━━━━━━━━━━━━━━━━━━━━━━━━━━━━━━━━━━━━━━━━\u001b[0m \u001b[32m356.2/356.2 kB\u001b[0m \u001b[31m22.6 MB/s\u001b[0m eta \u001b[36m0:00:00\u001b[0m\n",
            "\u001b[?25hDownloading ImageHash-4.3.1-py2.py3-none-any.whl (296 kB)\n",
            "\u001b[2K   \u001b[90m━━━━━━━━━━━━━━━━━━━━━━━━━━━━━━━━━━━━━━━━\u001b[0m \u001b[32m296.5/296.5 kB\u001b[0m \u001b[31m19.3 MB/s\u001b[0m eta \u001b[36m0:00:00\u001b[0m\n",
            "\u001b[?25hDownloading dash_core_components-2.0.0-py3-none-any.whl (3.8 kB)\n",
            "Downloading dash_html_components-2.0.0-py3-none-any.whl (4.1 kB)\n",
            "Downloading dash_table-5.0.0-py3-none-any.whl (3.9 kB)\n",
            "Downloading optuna_integration-4.0.0-py3-none-any.whl (96 kB)\n",
            "\u001b[2K   \u001b[90m━━━━━━━━━━━━━━━━━━━━━━━━━━━━━━━━━━━━━━━━\u001b[0m \u001b[32m96.9/96.9 kB\u001b[0m \u001b[31m6.1 MB/s\u001b[0m eta \u001b[36m0:00:00\u001b[0m\n",
            "\u001b[?25hDownloading pycaret-3.3.2-py3-none-any.whl (486 kB)\n",
            "\u001b[2K   \u001b[90m━━━━━━━━━━━━━━━━━━━━━━━━━━━━━━━━━━━━━━━━\u001b[0m \u001b[32m486.1/486.1 kB\u001b[0m \u001b[31m27.4 MB/s\u001b[0m eta \u001b[36m0:00:00\u001b[0m\n",
            "\u001b[?25hDownloading wurlitzer-3.1.1-py3-none-any.whl (8.6 kB)\n",
            "Downloading xxhash-3.5.0-cp310-cp310-manylinux_2_17_x86_64.manylinux2014_x86_64.whl (194 kB)\n",
            "\u001b[2K   \u001b[90m━━━━━━━━━━━━━━━━━━━━━━━━━━━━━━━━━━━━━━━━\u001b[0m \u001b[32m194.1/194.1 kB\u001b[0m \u001b[31m13.4 MB/s\u001b[0m eta \u001b[36m0:00:00\u001b[0m\n",
            "\u001b[?25hDownloading adagio-0.2.6-py3-none-any.whl (19 kB)\n",
            "Downloading aiofiles-23.2.1-py3-none-any.whl (15 kB)\n",
            "Downloading alembic-1.13.2-py3-none-any.whl (232 kB)\n",
            "\u001b[2K   \u001b[90m━━━━━━━━━━━━━━━━━━━━━━━━━━━━━━━━━━━━━━━━\u001b[0m \u001b[32m233.0/233.0 kB\u001b[0m \u001b[31m16.0 MB/s\u001b[0m eta \u001b[36m0:00:00\u001b[0m\n",
            "\u001b[?25hDownloading botocore-1.35.24-py3-none-any.whl (12.6 MB)\n",
            "\u001b[2K   \u001b[90m━━━━━━━━━━━━━━━━━━━━━━━━━━━━━━━━━━━━━━━━\u001b[0m \u001b[32m12.6/12.6 MB\u001b[0m \u001b[31m52.9 MB/s\u001b[0m eta \u001b[36m0:00:00\u001b[0m\n",
            "\u001b[?25hDownloading dacite-1.8.1-py3-none-any.whl (14 kB)\n",
            "Downloading dash-2.18.1-py3-none-any.whl (7.5 MB)\n",
            "\u001b[2K   \u001b[90m━━━━━━━━━━━━━━━━━━━━━━━━━━━━━━━━━━━━━━━━\u001b[0m \u001b[32m7.5/7.5 MB\u001b[0m \u001b[31m54.6 MB/s\u001b[0m eta \u001b[36m0:00:00\u001b[0m\n",
            "\u001b[?25hDownloading dash_bootstrap_components-1.6.0-py3-none-any.whl (222 kB)\n",
            "\u001b[2K   \u001b[90m━━━━━━━━━━━━━━━━━━━━━━━━━━━━━━━━━━━━━━━━\u001b[0m \u001b[32m222.5/222.5 kB\u001b[0m \u001b[31m14.2 MB/s\u001b[0m eta \u001b[36m0:00:00\u001b[0m\n",
            "\u001b[?25hDownloading dash_testing_stub-0.0.2-py3-none-any.whl (2.6 kB)\n",
            "Downloading docker-7.1.0-py3-none-any.whl (147 kB)\n",
            "\u001b[2K   \u001b[90m━━━━━━━━━━━━━━━━━━━━━━━━━━━━━━━━━━━━━━━━\u001b[0m \u001b[32m147.8/147.8 kB\u001b[0m \u001b[31m9.1 MB/s\u001b[0m eta \u001b[36m0:00:00\u001b[0m\n",
            "\u001b[?25hDownloading dtreeviz-2.2.2-py3-none-any.whl (91 kB)\n",
            "\u001b[2K   \u001b[90m━━━━━━━━━━━━━━━━━━━━━━━━━━━━━━━━━━━━━━━━\u001b[0m \u001b[32m91.8/91.8 kB\u001b[0m \u001b[31m6.3 MB/s\u001b[0m eta \u001b[36m0:00:00\u001b[0m\n",
            "\u001b[?25hDownloading dynaconf-3.2.6-py2.py3-none-any.whl (231 kB)\n",
            "\u001b[2K   \u001b[90m━━━━━━━━━━━━━━━━━━━━━━━━━━━━━━━━━━━━━━━━\u001b[0m \u001b[32m231.1/231.1 kB\u001b[0m \u001b[31m15.2 MB/s\u001b[0m eta \u001b[36m0:00:00\u001b[0m\n",
            "\u001b[?25hDownloading flask_wtf-1.2.1-py3-none-any.whl (12 kB)\n",
            "Downloading graphene-3.3-py2.py3-none-any.whl (128 kB)\n",
            "\u001b[2K   \u001b[90m━━━━━━━━━━━━━━━━━━━━━━━━━━━━━━━━━━━━━━━━\u001b[0m \u001b[32m128.2/128.2 kB\u001b[0m \u001b[31m9.0 MB/s\u001b[0m eta \u001b[36m0:00:00\u001b[0m\n",
            "\u001b[?25hDownloading gunicorn-23.0.0-py3-none-any.whl (85 kB)\n",
            "\u001b[2K   \u001b[90m━━━━━━━━━━━━━━━━━━━━━━━━━━━━━━━━━━━━━━━━\u001b[0m \u001b[32m85.0/85.0 kB\u001b[0m \u001b[31m5.8 MB/s\u001b[0m eta \u001b[36m0:00:00\u001b[0m\n",
            "\u001b[?25hDownloading h11-0.14.0-py3-none-any.whl (58 kB)\n",
            "\u001b[2K   \u001b[90m━━━━━━━━━━━━━━━━━━━━━━━━━━━━━━━━━━━━━━━━\u001b[0m \u001b[32m58.3/58.3 kB\u001b[0m \u001b[31m3.5 MB/s\u001b[0m eta \u001b[36m0:00:00\u001b[0m\n",
            "\u001b[?25hDownloading httpx-0.27.2-py3-none-any.whl (76 kB)\n",
            "\u001b[2K   \u001b[90m━━━━━━━━━━━━━━━━━━━━━━━━━━━━━━━━━━━━━━━━\u001b[0m \u001b[32m76.4/76.4 kB\u001b[0m \u001b[31m5.0 MB/s\u001b[0m eta \u001b[36m0:00:00\u001b[0m\n",
            "\u001b[?25hDownloading httpcore-1.0.5-py3-none-any.whl (77 kB)\n",
            "\u001b[2K   \u001b[90m━━━━━━━━━━━━━━━━━━━━━━━━━━━━━━━━━━━━━━━━\u001b[0m \u001b[32m77.9/77.9 kB\u001b[0m \u001b[31m4.8 MB/s\u001b[0m eta \u001b[36m0:00:00\u001b[0m\n",
            "\u001b[?25hDownloading iterative_telemetry-0.0.9-py3-none-any.whl (10 kB)\n",
            "Using cached jedi-0.19.1-py2.py3-none-any.whl (1.6 MB)\n",
            "Downloading jmespath-1.0.1-py3-none-any.whl (20 kB)\n",
            "Downloading jupyter_dash-0.4.2-py3-none-any.whl (23 kB)\n",
            "Downloading litestar-2.12.1-py3-none-any.whl (542 kB)\n",
            "\u001b[2K   \u001b[90m━━━━━━━━━━━━━━━━━━━━━━━━━━━━━━━━━━━━━━━━\u001b[0m \u001b[32m542.0/542.0 kB\u001b[0m \u001b[31m30.7 MB/s\u001b[0m eta \u001b[36m0:00:00\u001b[0m\n",
            "\u001b[?25hDownloading multimethod-1.12-py3-none-any.whl (10 kB)\n",
            "Downloading multiprocess-0.70.16-py310-none-any.whl (134 kB)\n",
            "\u001b[2K   \u001b[90m━━━━━━━━━━━━━━━━━━━━━━━━━━━━━━━━━━━━━━━━\u001b[0m \u001b[32m134.8/134.8 kB\u001b[0m \u001b[31m8.7 MB/s\u001b[0m eta \u001b[36m0:00:00\u001b[0m\n",
            "\u001b[?25hDownloading orjson-3.10.7-cp310-cp310-manylinux_2_17_x86_64.manylinux2014_x86_64.whl (141 kB)\n",
            "\u001b[2K   \u001b[90m━━━━━━━━━━━━━━━━━━━━━━━━━━━━━━━━━━━━━━━━\u001b[0m \u001b[32m141.9/141.9 kB\u001b[0m \u001b[31m8.1 MB/s\u001b[0m eta \u001b[36m0:00:00\u001b[0m\n",
            "\u001b[?25hDownloading percy-2.0.2-py2.py3-none-any.whl (12 kB)\n",
            "Downloading phik-0.12.4-cp310-cp310-manylinux_2_17_x86_64.manylinux2014_x86_64.whl (686 kB)\n",
            "\u001b[2K   \u001b[90m━━━━━━━━━━━━━━━━━━━━━━━━━━━━━━━━━━━━━━━━\u001b[0m \u001b[32m686.1/686.1 kB\u001b[0m \u001b[31m30.8 MB/s\u001b[0m eta \u001b[36m0:00:00\u001b[0m\n",
            "\u001b[?25hDownloading pyaml-24.7.0-py3-none-any.whl (24 kB)\n",
            "Downloading pynndescent-0.5.13-py3-none-any.whl (56 kB)\n",
            "\u001b[2K   \u001b[90m━━━━━━━━━━━━━━━━━━━━━━━━━━━━━━━━━━━━━━━━\u001b[0m \u001b[32m56.9/56.9 kB\u001b[0m \u001b[31m4.0 MB/s\u001b[0m eta \u001b[36m0:00:00\u001b[0m\n",
            "\u001b[?25hDownloading python_multipart-0.0.10-py3-none-any.whl (22 kB)\n",
            "Downloading qpd-0.4.4-py3-none-any.whl (169 kB)\n",
            "\u001b[2K   \u001b[90m━━━━━━━━━━━━━━━━━━━━━━━━━━━━━━━━━━━━━━━━\u001b[0m \u001b[32m169.2/169.2 kB\u001b[0m \u001b[31m12.6 MB/s\u001b[0m eta \u001b[36m0:00:00\u001b[0m\n",
            "\u001b[?25hDownloading responses-0.25.3-py3-none-any.whl (55 kB)\n",
            "\u001b[2K   \u001b[90m━━━━━━━━━━━━━━━━━━━━━━━━━━━━━━━━━━━━━━━━\u001b[0m \u001b[32m55.2/55.2 kB\u001b[0m \u001b[31m3.8 MB/s\u001b[0m eta \u001b[36m0:00:00\u001b[0m\n",
            "\u001b[?25hDownloading ruff-0.6.7-py3-none-manylinux_2_17_x86_64.manylinux2014_x86_64.whl (10.8 MB)\n",
            "\u001b[2K   \u001b[90m━━━━━━━━━━━━━━━━━━━━━━━━━━━━━━━━━━━━━━━━\u001b[0m \u001b[32m10.8/10.8 MB\u001b[0m \u001b[31m74.4 MB/s\u001b[0m eta \u001b[36m0:00:00\u001b[0m\n",
            "\u001b[?25hDownloading s3transfer-0.10.2-py3-none-any.whl (82 kB)\n",
            "\u001b[2K   \u001b[90m━━━━━━━━━━━━━━━━━━━━━━━━━━━━━━━━━━━━━━━━\u001b[0m \u001b[32m82.7/82.7 kB\u001b[0m \u001b[31m5.7 MB/s\u001b[0m eta \u001b[36m0:00:00\u001b[0m\n",
            "\u001b[?25hDownloading scikit_base-0.7.8-py3-none-any.whl (130 kB)\n",
            "\u001b[2K   \u001b[90m━━━━━━━━━━━━━━━━━━━━━━━━━━━━━━━━━━━━━━━━\u001b[0m \u001b[32m130.1/130.1 kB\u001b[0m \u001b[31m9.3 MB/s\u001b[0m eta \u001b[36m0:00:00\u001b[0m\n",
            "\u001b[?25hDownloading selenium-3.141.0-py2.py3-none-any.whl (904 kB)\n",
            "\u001b[2K   \u001b[90m━━━━━━━━━━━━━━━━━━━━━━━━━━━━━━━━━━━━━━━━\u001b[0m \u001b[32m904.6/904.6 kB\u001b[0m \u001b[31m42.3 MB/s\u001b[0m eta \u001b[36m0:00:00\u001b[0m\n",
            "\u001b[?25hDownloading semantic_version-2.10.0-py2.py3-none-any.whl (15 kB)\n",
            "Downloading starlette-0.38.5-py3-none-any.whl (71 kB)\n",
            "\u001b[2K   \u001b[90m━━━━━━━━━━━━━━━━━━━━━━━━━━━━━━━━━━━━━━━━\u001b[0m \u001b[32m71.4/71.4 kB\u001b[0m \u001b[31m4.7 MB/s\u001b[0m eta \u001b[36m0:00:00\u001b[0m\n",
            "\u001b[?25hDownloading tensorboardX-2.6.2.2-py2.py3-none-any.whl (101 kB)\n",
            "\u001b[2K   \u001b[90m━━━━━━━━━━━━━━━━━━━━━━━━━━━━━━━━━━━━━━━━\u001b[0m \u001b[32m101.7/101.7 kB\u001b[0m \u001b[31m6.3 MB/s\u001b[0m eta \u001b[36m0:00:00\u001b[0m\n",
            "\u001b[?25hDownloading triad-0.9.8-py3-none-any.whl (62 kB)\n",
            "\u001b[2K   \u001b[90m━━━━━━━━━━━━━━━━━━━━━━━━━━━━━━━━━━━━━━━━\u001b[0m \u001b[32m62.3/62.3 kB\u001b[0m \u001b[31m244.9 kB/s\u001b[0m eta \u001b[36m0:00:00\u001b[0m\n",
            "\u001b[?25hDownloading tsdownsample-0.1.3-cp310-cp310-manylinux_2_17_x86_64.manylinux2014_x86_64.whl (2.1 MB)\n",
            "\u001b[2K   \u001b[90m━━━━━━━━━━━━━━━━━━━━━━━━━━━━━━━━━━━━━━━━\u001b[0m \u001b[32m2.1/2.1 MB\u001b[0m \u001b[31m58.0 MB/s\u001b[0m eta \u001b[36m0:00:00\u001b[0m\n",
            "\u001b[?25hDownloading typing_inspect-0.9.0-py3-none-any.whl (8.8 kB)\n",
            "Downloading ujson-5.10.0-cp310-cp310-manylinux_2_17_x86_64.manylinux2014_x86_64.whl (53 kB)\n",
            "\u001b[2K   \u001b[90m━━━━━━━━━━━━━━━━━━━━━━━━━━━━━━━━━━━━━━━━\u001b[0m \u001b[32m53.6/53.6 kB\u001b[0m \u001b[31m3.7 MB/s\u001b[0m eta \u001b[36m0:00:00\u001b[0m\n",
            "\u001b[?25hDownloading visions-0.7.6-py3-none-any.whl (104 kB)\n",
            "\u001b[2K   \u001b[90m━━━━━━━━━━━━━━━━━━━━━━━━━━━━━━━━━━━━━━━━\u001b[0m \u001b[32m104.8/104.8 kB\u001b[0m \u001b[31m6.5 MB/s\u001b[0m eta \u001b[36m0:00:00\u001b[0m\n",
            "\u001b[?25hDownloading waitress-3.0.0-py3-none-any.whl (56 kB)\n",
            "\u001b[2K   \u001b[90m━━━━━━━━━━━━━━━━━━━━━━━━━━━━━━━━━━━━━━━━\u001b[0m \u001b[32m56.7/56.7 kB\u001b[0m \u001b[31m3.6 MB/s\u001b[0m eta \u001b[36m0:00:00\u001b[0m\n",
            "\u001b[?25hDownloading watchdog-5.0.2-py3-none-manylinux2014_x86_64.whl (78 kB)\n",
            "\u001b[2K   \u001b[90m━━━━━━━━━━━━━━━━━━━━━━━━━━━━━━━━━━━━━━━━\u001b[0m \u001b[32m79.0/79.0 kB\u001b[0m \u001b[31m5.4 MB/s\u001b[0m eta \u001b[36m0:00:00\u001b[0m\n",
            "\u001b[?25hDownloading colorlog-6.8.2-py3-none-any.whl (11 kB)\n",
            "Downloading dash_auth-2.3.0-py3-none-any.whl (14 kB)\n",
            "Downloading ffmpy-0.4.0-py3-none-any.whl (5.8 kB)\n",
            "Downloading flask_simplelogin-0.1.3-py3-none-any.whl (7.3 kB)\n",
            "Downloading oyaml-1.0-py2.py3-none-any.whl (3.0 kB)\n",
            "Downloading pydub-0.25.1-py2.py3-none-any.whl (32 kB)\n",
            "Downloading retrying-1.3.4-py3-none-any.whl (11 kB)\n",
            "Downloading xmltodict-0.13.0-py2.py3-none-any.whl (10.0 kB)\n",
            "Downloading aniso8601-9.0.1-py2.py3-none-any.whl (52 kB)\n",
            "\u001b[2K   \u001b[90m━━━━━━━━━━━━━━━━━━━━━━━━━━━━━━━━━━━━━━━━\u001b[0m \u001b[32m52.8/52.8 kB\u001b[0m \u001b[31m3.3 MB/s\u001b[0m eta \u001b[36m0:00:00\u001b[0m\n",
            "\u001b[?25hDownloading antlr4_python3_runtime-4.11.1-py3-none-any.whl (144 kB)\n",
            "\u001b[2K   \u001b[90m━━━━━━━━━━━━━━━━━━━━━━━━━━━━━━━━━━━━━━━━\u001b[0m \u001b[32m144.2/144.2 kB\u001b[0m \u001b[31m10.4 MB/s\u001b[0m eta \u001b[36m0:00:00\u001b[0m\n",
            "\u001b[?25hDownloading aplr-10.6.3-cp310-cp310-manylinux_2_17_x86_64.manylinux2014_x86_64.whl (6.6 MB)\n",
            "\u001b[2K   \u001b[90m━━━━━━━━━━━━━━━━━━━━━━━━━━━━━━━━━━━━━━━━\u001b[0m \u001b[32m6.6/6.6 MB\u001b[0m \u001b[31m32.1 MB/s\u001b[0m eta \u001b[36m0:00:00\u001b[0m\n",
            "\u001b[?25hDownloading dask_expr-1.1.10-py3-none-any.whl (242 kB)\n",
            "\u001b[2K   \u001b[90m━━━━━━━━━━━━━━━━━━━━━━━━━━━━━━━━━━━━━━━━\u001b[0m \u001b[32m242.2/242.2 kB\u001b[0m \u001b[31m17.0 MB/s\u001b[0m eta \u001b[36m0:00:00\u001b[0m\n",
            "\u001b[?25hDownloading databricks_sdk-0.32.3-py3-none-any.whl (555 kB)\n",
            "\u001b[2K   \u001b[90m━━━━━━━━━━━━━━━━━━━━━━━━━━━━━━━━━━━━━━━━\u001b[0m \u001b[32m555.1/555.1 kB\u001b[0m \u001b[31m29.2 MB/s\u001b[0m eta \u001b[36m0:00:00\u001b[0m\n",
            "\u001b[?25hDownloading dill-0.3.8-py3-none-any.whl (116 kB)\n",
            "\u001b[2K   \u001b[90m━━━━━━━━━━━━━━━━━━━━━━━━━━━━━━━━━━━━━━━━\u001b[0m \u001b[32m116.3/116.3 kB\u001b[0m \u001b[31m7.7 MB/s\u001b[0m eta \u001b[36m0:00:00\u001b[0m\n",
            "\u001b[?25hDownloading gevent-24.2.1-cp310-cp310-manylinux_2_28_x86_64.whl (6.5 MB)\n",
            "\u001b[2K   \u001b[90m━━━━━━━━━━━━━━━━━━━━━━━━━━━━━━━━━━━━━━━━\u001b[0m \u001b[32m6.5/6.5 MB\u001b[0m \u001b[31m71.4 MB/s\u001b[0m eta \u001b[36m0:00:00\u001b[0m\n",
            "\u001b[?25hDownloading GitPython-3.1.43-py3-none-any.whl (207 kB)\n",
            "\u001b[2K   \u001b[90m━━━━━━━━━━━━━━━━━━━━━━━━━━━━━━━━━━━━━━━━\u001b[0m \u001b[32m207.3/207.3 kB\u001b[0m \u001b[31m13.7 MB/s\u001b[0m eta \u001b[36m0:00:00\u001b[0m\n",
            "\u001b[?25hDownloading graphql_core-3.2.4-py3-none-any.whl (203 kB)\n",
            "\u001b[2K   \u001b[90m━━━━━━━━━━━━━━━━━━━━━━━━━━━━━━━━━━━━━━━━\u001b[0m \u001b[32m203.2/203.2 kB\u001b[0m \u001b[31m13.2 MB/s\u001b[0m eta \u001b[36m0:00:00\u001b[0m\n",
            "\u001b[?25hDownloading graphql_relay-3.2.0-py3-none-any.whl (16 kB)\n",
            "Downloading httptools-0.6.1-cp310-cp310-manylinux_2_5_x86_64.manylinux1_x86_64.manylinux_2_17_x86_64.manylinux2014_x86_64.whl (341 kB)\n",
            "\u001b[2K   \u001b[90m━━━━━━━━━━━━━━━━━━━━━━━━━━━━━━━━━━━━━━━━\u001b[0m \u001b[32m341.4/341.4 kB\u001b[0m \u001b[31m19.6 MB/s\u001b[0m eta \u001b[36m0:00:00\u001b[0m\n",
            "\u001b[?25hDownloading msgspec-0.18.6-cp310-cp310-manylinux_2_17_x86_64.manylinux2014_x86_64.whl (210 kB)\n",
            "\u001b[2K   \u001b[90m━━━━━━━━━━━━━━━━━━━━━━━━━━━━━━━━━━━━━━━━\u001b[0m \u001b[32m210.3/210.3 kB\u001b[0m \u001b[31m14.8 MB/s\u001b[0m eta \u001b[36m0:00:00\u001b[0m\n",
            "\u001b[?25hDownloading mypy_extensions-1.0.0-py3-none-any.whl (4.7 kB)\n",
            "Downloading opentelemetry_api-1.27.0-py3-none-any.whl (63 kB)\n",
            "\u001b[2K   \u001b[90m━━━━━━━━━━━━━━━━━━━━━━━━━━━━━━━━━━━━━━━━\u001b[0m \u001b[32m64.0/64.0 kB\u001b[0m \u001b[31m4.2 MB/s\u001b[0m eta \u001b[36m0:00:00\u001b[0m\n",
            "\u001b[?25hDownloading importlib_metadata-8.4.0-py3-none-any.whl (26 kB)\n",
            "Downloading opentelemetry_sdk-1.27.0-py3-none-any.whl (110 kB)\n",
            "\u001b[2K   \u001b[90m━━━━━━━━━━━━━━━━━━━━━━━━━━━━━━━━━━━━━━━━\u001b[0m \u001b[32m110.5/110.5 kB\u001b[0m \u001b[31m7.1 MB/s\u001b[0m eta \u001b[36m0:00:00\u001b[0m\n",
            "\u001b[?25hDownloading opentelemetry_semantic_conventions-0.48b0-py3-none-any.whl (149 kB)\n",
            "\u001b[2K   \u001b[90m━━━━━━━━━━━━━━━━━━━━━━━━━━━━━━━━━━━━━━━━\u001b[0m \u001b[32m149.7/149.7 kB\u001b[0m \u001b[31m9.4 MB/s\u001b[0m eta \u001b[36m0:00:00\u001b[0m\n",
            "\u001b[?25hDownloading polyfactory-2.16.2-py3-none-any.whl (58 kB)\n",
            "\u001b[2K   \u001b[90m━━━━━━━━━━━━━━━━━━━━━━━━━━━━━━━━━━━━━━━━\u001b[0m \u001b[32m58.3/58.3 kB\u001b[0m \u001b[31m3.9 MB/s\u001b[0m eta \u001b[36m0:00:00\u001b[0m\n",
            "\u001b[?25hDownloading python_dotenv-1.0.1-py3-none-any.whl (19 kB)\n",
            "Downloading salib-1.5.1-py3-none-any.whl (778 kB)\n",
            "\u001b[2K   \u001b[90m━━━━━━━━━━━━━━━━━━━━━━━━━━━━━━━━━━━━━━━━\u001b[0m \u001b[32m778.9/778.9 kB\u001b[0m \u001b[31m39.7 MB/s\u001b[0m eta \u001b[36m0:00:00\u001b[0m\n",
            "\u001b[?25hDownloading uvloop-0.20.0-cp310-cp310-manylinux_2_17_x86_64.manylinux2014_x86_64.whl (3.4 MB)\n",
            "\u001b[2K   \u001b[90m━━━━━━━━━━━━━━━━━━━━━━━━━━━━━━━━━━━━━━━━\u001b[0m \u001b[32m3.4/3.4 MB\u001b[0m \u001b[31m76.6 MB/s\u001b[0m eta \u001b[36m0:00:00\u001b[0m\n",
            "\u001b[?25hDownloading watchfiles-0.24.0-cp310-cp310-manylinux_2_17_x86_64.manylinux2014_x86_64.whl (425 kB)\n",
            "\u001b[2K   \u001b[90m━━━━━━━━━━━━━━━━━━━━━━━━━━━━━━━━━━━━━━━━\u001b[0m \u001b[32m425.7/425.7 kB\u001b[0m \u001b[31m24.4 MB/s\u001b[0m eta \u001b[36m0:00:00\u001b[0m\n",
            "\u001b[?25hDownloading websockets-12.0-cp310-cp310-manylinux_2_5_x86_64.manylinux1_x86_64.manylinux_2_17_x86_64.manylinux2014_x86_64.whl (130 kB)\n",
            "\u001b[2K   \u001b[90m━━━━━━━━━━━━━━━━━━━━━━━━━━━━━━━━━━━━━━━━\u001b[0m \u001b[32m130.2/130.2 kB\u001b[0m \u001b[31m8.7 MB/s\u001b[0m eta \u001b[36m0:00:00\u001b[0m\n",
            "\u001b[?25hDownloading wtforms-3.1.2-py3-none-any.whl (145 kB)\n",
            "\u001b[2K   \u001b[90m━━━━━━━━━━━━━━━━━━━━━━━━━━━━━━━━━━━━━━━━\u001b[0m \u001b[32m146.0/146.0 kB\u001b[0m \u001b[31m10.8 MB/s\u001b[0m eta \u001b[36m0:00:00\u001b[0m\n",
            "\u001b[?25hDownloading ansi2html-1.9.2-py3-none-any.whl (17 kB)\n",
            "Downloading appdirs-1.4.4-py2.py3-none-any.whl (9.6 kB)\n",
            "Downloading fs-2.4.16-py2.py3-none-any.whl (135 kB)\n",
            "\u001b[2K   \u001b[90m━━━━━━━━━━━━━━━━━━━━━━━━━━━━━━━━━━━━━━━━\u001b[0m \u001b[32m135.3/135.3 kB\u001b[0m \u001b[31m9.7 MB/s\u001b[0m eta \u001b[36m0:00:00\u001b[0m\n",
            "\u001b[?25hDownloading Mako-1.3.5-py3-none-any.whl (78 kB)\n",
            "\u001b[2K   \u001b[90m━━━━━━━━━━━━━━━━━━━━━━━━━━━━━━━━━━━━━━━━\u001b[0m \u001b[32m78.6/78.6 kB\u001b[0m \u001b[31m5.4 MB/s\u001b[0m eta \u001b[36m0:00:00\u001b[0m\n",
            "\u001b[?25hDownloading pywavelets-1.7.0-cp310-cp310-manylinux_2_17_x86_64.manylinux2014_x86_64.whl (4.5 MB)\n",
            "\u001b[2K   \u001b[90m━━━━━━━━━━━━━━━━━━━━━━━━━━━━━━━━━━━━━━━━\u001b[0m \u001b[32m4.5/4.5 MB\u001b[0m \u001b[31m61.7 MB/s\u001b[0m eta \u001b[36m0:00:00\u001b[0m\n",
            "\u001b[?25hDownloading rich_click-1.8.3-py3-none-any.whl (35 kB)\n",
            "Downloading Deprecated-1.2.14-py2.py3-none-any.whl (9.6 kB)\n",
            "Downloading gitdb-4.0.11-py3-none-any.whl (62 kB)\n",
            "\u001b[2K   \u001b[90m━━━━━━━━━━━━━━━━━━━━━━━━━━━━━━━━━━━━━━━━\u001b[0m \u001b[32m62.7/62.7 kB\u001b[0m \u001b[31m4.4 MB/s\u001b[0m eta \u001b[36m0:00:00\u001b[0m\n",
            "\u001b[?25hDownloading Faker-29.0.0-py3-none-any.whl (1.8 MB)\n",
            "\u001b[2K   \u001b[90m━━━━━━━━━━━━━━━━━━━━━━━━━━━━━━━━━━━━━━━━\u001b[0m \u001b[32m1.8/1.8 MB\u001b[0m \u001b[31m55.8 MB/s\u001b[0m eta \u001b[36m0:00:00\u001b[0m\n",
            "\u001b[?25hDownloading zope.event-5.0-py3-none-any.whl (6.8 kB)\n",
            "Downloading zope.interface-7.0.3-cp310-cp310-manylinux_2_5_x86_64.manylinux1_x86_64.manylinux_2_17_x86_64.manylinux2014_x86_64.whl (254 kB)\n",
            "\u001b[2K   \u001b[90m━━━━━━━━━━━━━━━━━━━━━━━━━━━━━━━━━━━━━━━━\u001b[0m \u001b[32m254.1/254.1 kB\u001b[0m \u001b[31m16.4 MB/s\u001b[0m eta \u001b[36m0:00:00\u001b[0m\n",
            "\u001b[?25hDownloading smmap-5.0.1-py3-none-any.whl (24 kB)\n",
            "Building wheels for collected packages: pyod, htmlmin, fugue-sql-antlr, dash-cytoscape\n",
            "  Building wheel for pyod (setup.py) ... \u001b[?25l\u001b[?25hdone\n",
            "  Created wheel for pyod: filename=pyod-2.0.2-py3-none-any.whl size=198469 sha256=8c1cab4fa0623df479874abd6bdd7341f7c764edad352ae650a28f7b47ed87fd\n",
            "  Stored in directory: /root/.cache/pip/wheels/77/c2/20/34d1f15b41b701ba69f42a32304825810d680754d509f91391\n",
            "  Building wheel for htmlmin (setup.py) ... \u001b[?25l\u001b[?25hdone\n",
            "  Created wheel for htmlmin: filename=htmlmin-0.1.12-py3-none-any.whl size=27081 sha256=f62d70b7faa07a8c603294859ab76bee432a7e336f668a9e39c6912e11adf909\n",
            "  Stored in directory: /root/.cache/pip/wheels/dd/91/29/a79cecb328d01739e64017b6fb9a1ab9d8cb1853098ec5966d\n",
            "  Building wheel for fugue-sql-antlr (setup.py) ... \u001b[?25l\u001b[?25hdone\n",
            "  Created wheel for fugue-sql-antlr: filename=fugue_sql_antlr-0.2.2-py3-none-any.whl size=158202 sha256=1d42b6541307004c0260a86ece31e57aa96975d0a7dafb079b3afe3262d2d82c\n",
            "  Stored in directory: /root/.cache/pip/wheels/2b/be/4b/27ebc4ae02e605628d7bbe2a49ab875eb84275a1ddb46cbe2c\n",
            "  Building wheel for dash-cytoscape (setup.py) ... \u001b[?25l\u001b[?25hdone\n",
            "  Created wheel for dash-cytoscape: filename=dash_cytoscape-1.0.2-py3-none-any.whl size=4010717 sha256=a83c1451adb24604d05e62349142c2f13b65eb0b4940663a551853937a85cca2\n",
            "  Stored in directory: /root/.cache/pip/wheels/91/23/5e/56fa701c668444b121ad2353a96478179dc49086a9c44ee930\n",
            "Successfully built pyod htmlmin fugue-sql-antlr dash-cytoscape\n",
            "Installing collected packages: pydub, kaleido, htmlmin, dash-testing-stub, dash-table, dash-html-components, dash-core-components, appdirs, antlr4-python3-runtime, aniso8601, zope.interface, zope.event, xxhash, xmltodict, wurlitzer, wtforms, Werkzeug, websockets, watchdog, waitress, uvloop, ujson, tsdownsample, tomlkit, tensorboardX, smmap, slicer, semantic-version, selenium, scipy, scikit-base, schemdraw, ruff, retrying, PyWavelets, python-multipart, python-dotenv, pyaml, oyaml, orjson, mypy-extensions, multimethod, msgspec, Mako, m2cgen, joblib, jmespath, jedi, importlib-metadata, httptools, h11, gunicorn, graphql-core, fs, ffmpy, dynaconf, dill, deprecation, deprecated, dacite, daal, colorlog, aplr, ansi2html, aiofiles, watchfiles, uvicorn, typing-inspect, starlette, scikit-learn, responses, percy, opentelemetry-api, multiprocess, iterative-telemetry, imagehash, httpcore, graphql-relay, gitdb, gevent, faker, docker, daal4py, botocore, alembic, visions, triad, sktime, shap, scikit-plot, scikit-optimize, scikit-learn-intelex, SALib, s3transfer, rich-click, pyod, pynndescent, polyfactory, phik, optuna, opentelemetry-semantic-conventions, kmodes, interpret-core, httpx, graphene, gitpython, Flask-WTF, fastapi, fairlearn, dtreeviz, databricks-sdk, dask-expr, dash, catboost, umap-learn, ray, pmdarima, plotly-resampler, optuna-integration, opentelemetry-sdk, litestar, jupyter-dash, gradio-client, fugue-sql-antlr, flask-simplelogin, dash-cytoscape, dash-bootstrap-components, dash-auth, category-encoders, boto3, adagio, ydata-profiling, tbats, qpd, moto, mlflow-skinny, gradio, explainerdashboard, evidently, tune-sklearn, mlflow, interpret, fugue, statsforecast, pycaret\n",
            "  Attempting uninstall: Werkzeug\n",
            "    Found existing installation: Werkzeug 3.0.4\n",
            "    Uninstalling Werkzeug-3.0.4:\n",
            "      Successfully uninstalled Werkzeug-3.0.4\n",
            "  Attempting uninstall: scipy\n",
            "    Found existing installation: scipy 1.13.1\n",
            "    Uninstalling scipy-1.13.1:\n",
            "      Successfully uninstalled scipy-1.13.1\n",
            "  Attempting uninstall: joblib\n",
            "    Found existing installation: joblib 1.4.2\n",
            "    Uninstalling joblib-1.4.2:\n",
            "      Successfully uninstalled joblib-1.4.2\n",
            "  Attempting uninstall: importlib-metadata\n",
            "    Found existing installation: importlib_metadata 8.5.0\n",
            "    Uninstalling importlib_metadata-8.5.0:\n",
            "      Successfully uninstalled importlib_metadata-8.5.0\n",
            "  Attempting uninstall: scikit-learn\n",
            "    Found existing installation: scikit-learn 1.3.2\n",
            "    Uninstalling scikit-learn-1.3.2:\n",
            "      Successfully uninstalled scikit-learn-1.3.2\n",
            "Successfully installed Flask-WTF-1.2.1 Mako-1.3.5 PyWavelets-1.7.0 SALib-1.5.1 Werkzeug-2.3.8 adagio-0.2.6 aiofiles-23.2.1 alembic-1.13.2 aniso8601-9.0.1 ansi2html-1.9.2 antlr4-python3-runtime-4.11.1 aplr-10.6.3 appdirs-1.4.4 boto3-1.35.24 botocore-1.35.24 catboost-1.2.7 category-encoders-2.6.3 colorlog-6.8.2 daal-2024.7.0 daal4py-2024.7.0 dacite-1.8.1 dash-2.18.1 dash-auth-2.3.0 dash-bootstrap-components-1.6.0 dash-core-components-2.0.0 dash-cytoscape-1.0.2 dash-html-components-2.0.0 dash-table-5.0.0 dash-testing-stub-0.0.2 dask-expr-1.1.10 databricks-sdk-0.32.3 deprecated-1.2.14 deprecation-2.1.0 dill-0.3.8 docker-7.1.0 dtreeviz-2.2.2 dynaconf-3.2.6 evidently-0.4.37 explainerdashboard-0.4.7 fairlearn-0.7.0 faker-29.0.0 fastapi-0.115.0 ffmpy-0.4.0 flask-simplelogin-0.1.3 fs-2.4.16 fugue-0.8.7 fugue-sql-antlr-0.2.2 gevent-24.2.1 gitdb-4.0.11 gitpython-3.1.43 gradio-4.44.0 gradio-client-1.3.0 graphene-3.3 graphql-core-3.2.4 graphql-relay-3.2.0 gunicorn-23.0.0 h11-0.14.0 htmlmin-0.1.12 httpcore-1.0.5 httptools-0.6.1 httpx-0.27.2 imagehash-4.3.1 importlib-metadata-8.4.0 interpret-0.6.3 interpret-core-0.6.3 iterative-telemetry-0.0.9 jedi-0.19.1 jmespath-1.0.1 joblib-1.3.2 jupyter-dash-0.4.2 kaleido-0.2.1 kmodes-0.12.2 litestar-2.12.1 m2cgen-0.10.0 mlflow-2.16.2 mlflow-skinny-2.16.2 moto-4.2.14 msgspec-0.18.6 multimethod-1.12 multiprocess-0.70.16 mypy-extensions-1.0.0 opentelemetry-api-1.27.0 opentelemetry-sdk-1.27.0 opentelemetry-semantic-conventions-0.48b0 optuna-4.0.0 optuna-integration-4.0.0 orjson-3.10.7 oyaml-1.0 percy-2.0.2 phik-0.12.4 plotly-resampler-0.10.0 pmdarima-2.0.4 polyfactory-2.16.2 pyaml-24.7.0 pycaret-3.3.2 pydub-0.25.1 pynndescent-0.5.13 pyod-2.0.2 python-dotenv-1.0.1 python-multipart-0.0.10 qpd-0.4.4 ray-2.36.0 responses-0.25.3 retrying-1.3.4 rich-click-1.8.3 ruff-0.6.7 s3transfer-0.10.2 schemdraw-0.15 scikit-base-0.7.8 scikit-learn-1.4.2 scikit-learn-intelex-2024.7.0 scikit-optimize-0.10.2 scikit-plot-0.3.7 scipy-1.11.4 selenium-3.141.0 semantic-version-2.10.0 shap-0.44.1 sktime-0.26.0 slicer-0.0.7 smmap-5.0.1 starlette-0.38.5 statsforecast-1.5.0 tbats-1.1.3 tensorboardX-2.6.2.2 tomlkit-0.12.0 triad-0.9.8 tsdownsample-0.1.3 tune-sklearn-0.5.0 typing-inspect-0.9.0 ujson-5.10.0 umap-learn-0.5.6 uvicorn-0.30.6 uvloop-0.20.0 visions-0.7.6 waitress-3.0.0 watchdog-5.0.2 watchfiles-0.24.0 websockets-12.0 wtforms-3.1.2 wurlitzer-3.1.1 xmltodict-0.13.0 xxhash-3.5.0 ydata-profiling-4.10.0 zope.event-5.0 zope.interface-7.0.3\n"
          ]
        }
      ]
    },
    {
      "cell_type": "code",
      "source": [
        "import pycaret\n",
        "pycaret.__version__"
      ],
      "metadata": {
        "colab": {
          "base_uri": "https://localhost:8080/",
          "height": 35
        },
        "id": "IY4J6VUJoHfg",
        "outputId": "b3a74dc7-435d-4fc5-8801-aad67019b08f"
      },
      "id": "IY4J6VUJoHfg",
      "execution_count": null,
      "outputs": [
        {
          "output_type": "execute_result",
          "data": {
            "text/plain": [
              "'3.3.2'"
            ],
            "application/vnd.google.colaboratory.intrinsic+json": {
              "type": "string"
            }
          },
          "metadata": {},
          "execution_count": 2
        }
      ]
    },
    {
      "cell_type": "code",
      "source": [
        "from pycaret.datasets import get_data\n",
        "df = get_data('anomaly')"
      ],
      "metadata": {
        "colab": {
          "base_uri": "https://localhost:8080/",
          "height": 206
        },
        "id": "rjVyh_hZoIF0",
        "outputId": "e2092f35-d220-4a15-f78f-afdcaaa9aced"
      },
      "id": "rjVyh_hZoIF0",
      "execution_count": null,
      "outputs": [
        {
          "output_type": "display_data",
          "data": {
            "text/plain": [
              "       Col1      Col2      Col3      Col4      Col5      Col6      Col7  \\\n",
              "0  0.263995  0.764929  0.138424  0.935242  0.605867  0.518790  0.912225   \n",
              "1  0.546092  0.653975  0.065575  0.227772  0.845269  0.837066  0.272379   \n",
              "2  0.336714  0.538842  0.192801  0.553563  0.074515  0.332993  0.365792   \n",
              "3  0.092108  0.995017  0.014465  0.176371  0.241530  0.514724  0.562208   \n",
              "4  0.325261  0.805968  0.957033  0.331665  0.307923  0.355315  0.501899   \n",
              "\n",
              "       Col8      Col9     Col10  \n",
              "0  0.608234  0.723782  0.733591  \n",
              "1  0.331679  0.429297  0.367422  \n",
              "2  0.861309  0.899017  0.088600  \n",
              "3  0.158963  0.073715  0.208463  \n",
              "4  0.558449  0.885169  0.182754  "
            ],
            "text/html": [
              "\n",
              "  <div id=\"df-0094e925-c4ed-4ea4-94e4-a9f2e6cd847c\" class=\"colab-df-container\">\n",
              "    <div>\n",
              "<style scoped>\n",
              "    .dataframe tbody tr th:only-of-type {\n",
              "        vertical-align: middle;\n",
              "    }\n",
              "\n",
              "    .dataframe tbody tr th {\n",
              "        vertical-align: top;\n",
              "    }\n",
              "\n",
              "    .dataframe thead th {\n",
              "        text-align: right;\n",
              "    }\n",
              "</style>\n",
              "<table border=\"1\" class=\"dataframe\">\n",
              "  <thead>\n",
              "    <tr style=\"text-align: right;\">\n",
              "      <th></th>\n",
              "      <th>Col1</th>\n",
              "      <th>Col2</th>\n",
              "      <th>Col3</th>\n",
              "      <th>Col4</th>\n",
              "      <th>Col5</th>\n",
              "      <th>Col6</th>\n",
              "      <th>Col7</th>\n",
              "      <th>Col8</th>\n",
              "      <th>Col9</th>\n",
              "      <th>Col10</th>\n",
              "    </tr>\n",
              "  </thead>\n",
              "  <tbody>\n",
              "    <tr>\n",
              "      <th>0</th>\n",
              "      <td>0.263995</td>\n",
              "      <td>0.764929</td>\n",
              "      <td>0.138424</td>\n",
              "      <td>0.935242</td>\n",
              "      <td>0.605867</td>\n",
              "      <td>0.518790</td>\n",
              "      <td>0.912225</td>\n",
              "      <td>0.608234</td>\n",
              "      <td>0.723782</td>\n",
              "      <td>0.733591</td>\n",
              "    </tr>\n",
              "    <tr>\n",
              "      <th>1</th>\n",
              "      <td>0.546092</td>\n",
              "      <td>0.653975</td>\n",
              "      <td>0.065575</td>\n",
              "      <td>0.227772</td>\n",
              "      <td>0.845269</td>\n",
              "      <td>0.837066</td>\n",
              "      <td>0.272379</td>\n",
              "      <td>0.331679</td>\n",
              "      <td>0.429297</td>\n",
              "      <td>0.367422</td>\n",
              "    </tr>\n",
              "    <tr>\n",
              "      <th>2</th>\n",
              "      <td>0.336714</td>\n",
              "      <td>0.538842</td>\n",
              "      <td>0.192801</td>\n",
              "      <td>0.553563</td>\n",
              "      <td>0.074515</td>\n",
              "      <td>0.332993</td>\n",
              "      <td>0.365792</td>\n",
              "      <td>0.861309</td>\n",
              "      <td>0.899017</td>\n",
              "      <td>0.088600</td>\n",
              "    </tr>\n",
              "    <tr>\n",
              "      <th>3</th>\n",
              "      <td>0.092108</td>\n",
              "      <td>0.995017</td>\n",
              "      <td>0.014465</td>\n",
              "      <td>0.176371</td>\n",
              "      <td>0.241530</td>\n",
              "      <td>0.514724</td>\n",
              "      <td>0.562208</td>\n",
              "      <td>0.158963</td>\n",
              "      <td>0.073715</td>\n",
              "      <td>0.208463</td>\n",
              "    </tr>\n",
              "    <tr>\n",
              "      <th>4</th>\n",
              "      <td>0.325261</td>\n",
              "      <td>0.805968</td>\n",
              "      <td>0.957033</td>\n",
              "      <td>0.331665</td>\n",
              "      <td>0.307923</td>\n",
              "      <td>0.355315</td>\n",
              "      <td>0.501899</td>\n",
              "      <td>0.558449</td>\n",
              "      <td>0.885169</td>\n",
              "      <td>0.182754</td>\n",
              "    </tr>\n",
              "  </tbody>\n",
              "</table>\n",
              "</div>\n",
              "    <div class=\"colab-df-buttons\">\n",
              "\n",
              "  <div class=\"colab-df-container\">\n",
              "    <button class=\"colab-df-convert\" onclick=\"convertToInteractive('df-0094e925-c4ed-4ea4-94e4-a9f2e6cd847c')\"\n",
              "            title=\"Convert this dataframe to an interactive table.\"\n",
              "            style=\"display:none;\">\n",
              "\n",
              "  <svg xmlns=\"http://www.w3.org/2000/svg\" height=\"24px\" viewBox=\"0 -960 960 960\">\n",
              "    <path d=\"M120-120v-720h720v720H120Zm60-500h600v-160H180v160Zm220 220h160v-160H400v160Zm0 220h160v-160H400v160ZM180-400h160v-160H180v160Zm440 0h160v-160H620v160ZM180-180h160v-160H180v160Zm440 0h160v-160H620v160Z\"/>\n",
              "  </svg>\n",
              "    </button>\n",
              "\n",
              "  <style>\n",
              "    .colab-df-container {\n",
              "      display:flex;\n",
              "      gap: 12px;\n",
              "    }\n",
              "\n",
              "    .colab-df-convert {\n",
              "      background-color: #E8F0FE;\n",
              "      border: none;\n",
              "      border-radius: 50%;\n",
              "      cursor: pointer;\n",
              "      display: none;\n",
              "      fill: #1967D2;\n",
              "      height: 32px;\n",
              "      padding: 0 0 0 0;\n",
              "      width: 32px;\n",
              "    }\n",
              "\n",
              "    .colab-df-convert:hover {\n",
              "      background-color: #E2EBFA;\n",
              "      box-shadow: 0px 1px 2px rgba(60, 64, 67, 0.3), 0px 1px 3px 1px rgba(60, 64, 67, 0.15);\n",
              "      fill: #174EA6;\n",
              "    }\n",
              "\n",
              "    .colab-df-buttons div {\n",
              "      margin-bottom: 4px;\n",
              "    }\n",
              "\n",
              "    [theme=dark] .colab-df-convert {\n",
              "      background-color: #3B4455;\n",
              "      fill: #D2E3FC;\n",
              "    }\n",
              "\n",
              "    [theme=dark] .colab-df-convert:hover {\n",
              "      background-color: #434B5C;\n",
              "      box-shadow: 0px 1px 3px 1px rgba(0, 0, 0, 0.15);\n",
              "      filter: drop-shadow(0px 1px 2px rgba(0, 0, 0, 0.3));\n",
              "      fill: #FFFFFF;\n",
              "    }\n",
              "  </style>\n",
              "\n",
              "    <script>\n",
              "      const buttonEl =\n",
              "        document.querySelector('#df-0094e925-c4ed-4ea4-94e4-a9f2e6cd847c button.colab-df-convert');\n",
              "      buttonEl.style.display =\n",
              "        google.colab.kernel.accessAllowed ? 'block' : 'none';\n",
              "\n",
              "      async function convertToInteractive(key) {\n",
              "        const element = document.querySelector('#df-0094e925-c4ed-4ea4-94e4-a9f2e6cd847c');\n",
              "        const dataTable =\n",
              "          await google.colab.kernel.invokeFunction('convertToInteractive',\n",
              "                                                    [key], {});\n",
              "        if (!dataTable) return;\n",
              "\n",
              "        const docLinkHtml = 'Like what you see? Visit the ' +\n",
              "          '<a target=\"_blank\" href=https://colab.research.google.com/notebooks/data_table.ipynb>data table notebook</a>'\n",
              "          + ' to learn more about interactive tables.';\n",
              "        element.innerHTML = '';\n",
              "        dataTable['output_type'] = 'display_data';\n",
              "        await google.colab.output.renderOutput(dataTable, element);\n",
              "        const docLink = document.createElement('div');\n",
              "        docLink.innerHTML = docLinkHtml;\n",
              "        element.appendChild(docLink);\n",
              "      }\n",
              "    </script>\n",
              "  </div>\n",
              "\n",
              "\n",
              "<div id=\"df-05506706-631a-442e-b469-3e2afb4874fb\">\n",
              "  <button class=\"colab-df-quickchart\" onclick=\"quickchart('df-05506706-631a-442e-b469-3e2afb4874fb')\"\n",
              "            title=\"Suggest charts\"\n",
              "            style=\"display:none;\">\n",
              "\n",
              "<svg xmlns=\"http://www.w3.org/2000/svg\" height=\"24px\"viewBox=\"0 0 24 24\"\n",
              "     width=\"24px\">\n",
              "    <g>\n",
              "        <path d=\"M19 3H5c-1.1 0-2 .9-2 2v14c0 1.1.9 2 2 2h14c1.1 0 2-.9 2-2V5c0-1.1-.9-2-2-2zM9 17H7v-7h2v7zm4 0h-2V7h2v10zm4 0h-2v-4h2v4z\"/>\n",
              "    </g>\n",
              "</svg>\n",
              "  </button>\n",
              "\n",
              "<style>\n",
              "  .colab-df-quickchart {\n",
              "      --bg-color: #E8F0FE;\n",
              "      --fill-color: #1967D2;\n",
              "      --hover-bg-color: #E2EBFA;\n",
              "      --hover-fill-color: #174EA6;\n",
              "      --disabled-fill-color: #AAA;\n",
              "      --disabled-bg-color: #DDD;\n",
              "  }\n",
              "\n",
              "  [theme=dark] .colab-df-quickchart {\n",
              "      --bg-color: #3B4455;\n",
              "      --fill-color: #D2E3FC;\n",
              "      --hover-bg-color: #434B5C;\n",
              "      --hover-fill-color: #FFFFFF;\n",
              "      --disabled-bg-color: #3B4455;\n",
              "      --disabled-fill-color: #666;\n",
              "  }\n",
              "\n",
              "  .colab-df-quickchart {\n",
              "    background-color: var(--bg-color);\n",
              "    border: none;\n",
              "    border-radius: 50%;\n",
              "    cursor: pointer;\n",
              "    display: none;\n",
              "    fill: var(--fill-color);\n",
              "    height: 32px;\n",
              "    padding: 0;\n",
              "    width: 32px;\n",
              "  }\n",
              "\n",
              "  .colab-df-quickchart:hover {\n",
              "    background-color: var(--hover-bg-color);\n",
              "    box-shadow: 0 1px 2px rgba(60, 64, 67, 0.3), 0 1px 3px 1px rgba(60, 64, 67, 0.15);\n",
              "    fill: var(--button-hover-fill-color);\n",
              "  }\n",
              "\n",
              "  .colab-df-quickchart-complete:disabled,\n",
              "  .colab-df-quickchart-complete:disabled:hover {\n",
              "    background-color: var(--disabled-bg-color);\n",
              "    fill: var(--disabled-fill-color);\n",
              "    box-shadow: none;\n",
              "  }\n",
              "\n",
              "  .colab-df-spinner {\n",
              "    border: 2px solid var(--fill-color);\n",
              "    border-color: transparent;\n",
              "    border-bottom-color: var(--fill-color);\n",
              "    animation:\n",
              "      spin 1s steps(1) infinite;\n",
              "  }\n",
              "\n",
              "  @keyframes spin {\n",
              "    0% {\n",
              "      border-color: transparent;\n",
              "      border-bottom-color: var(--fill-color);\n",
              "      border-left-color: var(--fill-color);\n",
              "    }\n",
              "    20% {\n",
              "      border-color: transparent;\n",
              "      border-left-color: var(--fill-color);\n",
              "      border-top-color: var(--fill-color);\n",
              "    }\n",
              "    30% {\n",
              "      border-color: transparent;\n",
              "      border-left-color: var(--fill-color);\n",
              "      border-top-color: var(--fill-color);\n",
              "      border-right-color: var(--fill-color);\n",
              "    }\n",
              "    40% {\n",
              "      border-color: transparent;\n",
              "      border-right-color: var(--fill-color);\n",
              "      border-top-color: var(--fill-color);\n",
              "    }\n",
              "    60% {\n",
              "      border-color: transparent;\n",
              "      border-right-color: var(--fill-color);\n",
              "    }\n",
              "    80% {\n",
              "      border-color: transparent;\n",
              "      border-right-color: var(--fill-color);\n",
              "      border-bottom-color: var(--fill-color);\n",
              "    }\n",
              "    90% {\n",
              "      border-color: transparent;\n",
              "      border-bottom-color: var(--fill-color);\n",
              "    }\n",
              "  }\n",
              "</style>\n",
              "\n",
              "  <script>\n",
              "    async function quickchart(key) {\n",
              "      const quickchartButtonEl =\n",
              "        document.querySelector('#' + key + ' button');\n",
              "      quickchartButtonEl.disabled = true;  // To prevent multiple clicks.\n",
              "      quickchartButtonEl.classList.add('colab-df-spinner');\n",
              "      try {\n",
              "        const charts = await google.colab.kernel.invokeFunction(\n",
              "            'suggestCharts', [key], {});\n",
              "      } catch (error) {\n",
              "        console.error('Error during call to suggestCharts:', error);\n",
              "      }\n",
              "      quickchartButtonEl.classList.remove('colab-df-spinner');\n",
              "      quickchartButtonEl.classList.add('colab-df-quickchart-complete');\n",
              "    }\n",
              "    (() => {\n",
              "      let quickchartButtonEl =\n",
              "        document.querySelector('#df-05506706-631a-442e-b469-3e2afb4874fb button');\n",
              "      quickchartButtonEl.style.display =\n",
              "        google.colab.kernel.accessAllowed ? 'block' : 'none';\n",
              "    })();\n",
              "  </script>\n",
              "</div>\n",
              "\n",
              "    </div>\n",
              "  </div>\n"
            ],
            "application/vnd.google.colaboratory.intrinsic+json": {
              "type": "dataframe",
              "summary": "{\n  \"name\": \"df = get_data('anomaly')\",\n  \"rows\": 5,\n  \"fields\": [\n    {\n      \"column\": \"Col1\",\n      \"properties\": {\n        \"dtype\": \"number\",\n        \"std\": 0.16297191700530808,\n        \"min\": 0.092107835,\n        \"max\": 0.546092303,\n        \"num_unique_values\": 5,\n        \"samples\": [\n          0.546092303,\n          0.325261175,\n          0.336714104\n        ],\n        \"semantic_type\": \"\",\n        \"description\": \"\"\n      }\n    },\n    {\n      \"column\": \"Col2\",\n      \"properties\": {\n        \"dtype\": \"number\",\n        \"std\": 0.17115895478837426,\n        \"min\": 0.538842451,\n        \"max\": 0.995016662,\n        \"num_unique_values\": 5,\n        \"samples\": [\n          0.65397459,\n          0.805967636,\n          0.538842451\n        ],\n        \"semantic_type\": \"\",\n        \"description\": \"\"\n      }\n    },\n    {\n      \"column\": \"Col3\",\n      \"properties\": {\n        \"dtype\": \"number\",\n        \"std\": 0.3880424063486611,\n        \"min\": 0.014465045,\n        \"max\": 0.957033424,\n        \"num_unique_values\": 5,\n        \"samples\": [\n          0.065575135,\n          0.957033424,\n          0.192801069\n        ],\n        \"semantic_type\": \"\",\n        \"description\": \"\"\n      }\n    },\n    {\n      \"column\": \"Col4\",\n      \"properties\": {\n        \"dtype\": \"number\",\n        \"std\": 0.30996682815713245,\n        \"min\": 0.176370646,\n        \"max\": 0.935242061,\n        \"num_unique_values\": 5,\n        \"samples\": [\n          0.227771913,\n          0.331664957,\n          0.553562822\n        ],\n        \"semantic_type\": \"\",\n        \"description\": \"\"\n      }\n    },\n    {\n      \"column\": \"Col5\",\n      \"properties\": {\n        \"dtype\": \"number\",\n        \"std\": 0.3078349519122483,\n        \"min\": 0.074514511,\n        \"max\": 0.845269445,\n        \"num_unique_values\": 5,\n        \"samples\": [\n          0.845269445,\n          0.307923366,\n          0.074514511\n        ],\n        \"semantic_type\": \"\",\n        \"description\": \"\"\n      }\n    },\n    {\n      \"column\": \"Col6\",\n      \"properties\": {\n        \"dtype\": \"number\",\n        \"std\": 0.2014415578350426,\n        \"min\": 0.332993162,\n        \"max\": 0.837065879,\n        \"num_unique_values\": 5,\n        \"samples\": [\n          0.837065879,\n          0.355314772,\n          0.332993162\n        ],\n        \"semantic_type\": \"\",\n        \"description\": \"\"\n      }\n    },\n    {\n      \"column\": \"Col7\",\n      \"properties\": {\n        \"dtype\": \"number\",\n        \"std\": 0.24546075865576666,\n        \"min\": 0.272378939,\n        \"max\": 0.912225161,\n        \"num_unique_values\": 5,\n        \"samples\": [\n          0.272378939,\n          0.50189852,\n          0.365792205\n        ],\n        \"semantic_type\": \"\",\n        \"description\": \"\"\n      }\n    },\n    {\n      \"column\": \"Col8\",\n      \"properties\": {\n        \"dtype\": \"number\",\n        \"std\": 0.2693715500050094,\n        \"min\": 0.158963258,\n        \"max\": 0.861309323,\n        \"num_unique_values\": 5,\n        \"samples\": [\n          0.331678698,\n          0.558449452,\n          0.861309323\n        ],\n        \"semantic_type\": \"\",\n        \"description\": \"\"\n      }\n    },\n    {\n      \"column\": \"Col9\",\n      \"properties\": {\n        \"dtype\": \"number\",\n        \"std\": 0.35076541170065156,\n        \"min\": 0.073715215,\n        \"max\": 0.899016587,\n        \"num_unique_values\": 5,\n        \"samples\": [\n          0.429296975,\n          0.885169295,\n          0.899016587\n        ],\n        \"semantic_type\": \"\",\n        \"description\": \"\"\n      }\n    },\n    {\n      \"column\": \"Col10\",\n      \"properties\": {\n        \"dtype\": \"number\",\n        \"std\": 0.25399582785359026,\n        \"min\": 0.088600152,\n        \"max\": 0.73359095,\n        \"num_unique_values\": 5,\n        \"samples\": [\n          0.367422001,\n          0.182754409,\n          0.088600152\n        ],\n        \"semantic_type\": \"\",\n        \"description\": \"\"\n      }\n    }\n  ]\n}"
            }
          },
          "metadata": {}
        }
      ]
    },
    {
      "cell_type": "code",
      "source": [
        "from pycaret.anomaly import *\n",
        "setup_anomaly = setup(df, session_id = 101)"
      ],
      "metadata": {
        "colab": {
          "base_uri": "https://localhost:8080/",
          "height": 457
        },
        "id": "poXhdUJaoIus",
        "outputId": "321685a2-d9f8-46f1-845e-ce6eafebcd3c"
      },
      "id": "poXhdUJaoIus",
      "execution_count": null,
      "outputs": [
        {
          "output_type": "display_data",
          "data": {
            "text/plain": [
              "<pandas.io.formats.style.Styler at 0x799e3d1ae560>"
            ],
            "text/html": [
              "<style type=\"text/css\">\n",
              "#T_c5c65_row4_col1 {\n",
              "  background-color: lightgreen;\n",
              "}\n",
              "</style>\n",
              "<table id=\"T_c5c65\" class=\"dataframe\">\n",
              "  <thead>\n",
              "    <tr>\n",
              "      <th class=\"blank level0\" >&nbsp;</th>\n",
              "      <th id=\"T_c5c65_level0_col0\" class=\"col_heading level0 col0\" >Description</th>\n",
              "      <th id=\"T_c5c65_level0_col1\" class=\"col_heading level0 col1\" >Value</th>\n",
              "    </tr>\n",
              "  </thead>\n",
              "  <tbody>\n",
              "    <tr>\n",
              "      <th id=\"T_c5c65_level0_row0\" class=\"row_heading level0 row0\" >0</th>\n",
              "      <td id=\"T_c5c65_row0_col0\" class=\"data row0 col0\" >Session id</td>\n",
              "      <td id=\"T_c5c65_row0_col1\" class=\"data row0 col1\" >101</td>\n",
              "    </tr>\n",
              "    <tr>\n",
              "      <th id=\"T_c5c65_level0_row1\" class=\"row_heading level0 row1\" >1</th>\n",
              "      <td id=\"T_c5c65_row1_col0\" class=\"data row1 col0\" >Original data shape</td>\n",
              "      <td id=\"T_c5c65_row1_col1\" class=\"data row1 col1\" >(1000, 10)</td>\n",
              "    </tr>\n",
              "    <tr>\n",
              "      <th id=\"T_c5c65_level0_row2\" class=\"row_heading level0 row2\" >2</th>\n",
              "      <td id=\"T_c5c65_row2_col0\" class=\"data row2 col0\" >Transformed data shape</td>\n",
              "      <td id=\"T_c5c65_row2_col1\" class=\"data row2 col1\" >(1000, 10)</td>\n",
              "    </tr>\n",
              "    <tr>\n",
              "      <th id=\"T_c5c65_level0_row3\" class=\"row_heading level0 row3\" >3</th>\n",
              "      <td id=\"T_c5c65_row3_col0\" class=\"data row3 col0\" >Numeric features</td>\n",
              "      <td id=\"T_c5c65_row3_col1\" class=\"data row3 col1\" >10</td>\n",
              "    </tr>\n",
              "    <tr>\n",
              "      <th id=\"T_c5c65_level0_row4\" class=\"row_heading level0 row4\" >4</th>\n",
              "      <td id=\"T_c5c65_row4_col0\" class=\"data row4 col0\" >Preprocess</td>\n",
              "      <td id=\"T_c5c65_row4_col1\" class=\"data row4 col1\" >True</td>\n",
              "    </tr>\n",
              "    <tr>\n",
              "      <th id=\"T_c5c65_level0_row5\" class=\"row_heading level0 row5\" >5</th>\n",
              "      <td id=\"T_c5c65_row5_col0\" class=\"data row5 col0\" >Imputation type</td>\n",
              "      <td id=\"T_c5c65_row5_col1\" class=\"data row5 col1\" >simple</td>\n",
              "    </tr>\n",
              "    <tr>\n",
              "      <th id=\"T_c5c65_level0_row6\" class=\"row_heading level0 row6\" >6</th>\n",
              "      <td id=\"T_c5c65_row6_col0\" class=\"data row6 col0\" >Numeric imputation</td>\n",
              "      <td id=\"T_c5c65_row6_col1\" class=\"data row6 col1\" >mean</td>\n",
              "    </tr>\n",
              "    <tr>\n",
              "      <th id=\"T_c5c65_level0_row7\" class=\"row_heading level0 row7\" >7</th>\n",
              "      <td id=\"T_c5c65_row7_col0\" class=\"data row7 col0\" >Categorical imputation</td>\n",
              "      <td id=\"T_c5c65_row7_col1\" class=\"data row7 col1\" >mode</td>\n",
              "    </tr>\n",
              "    <tr>\n",
              "      <th id=\"T_c5c65_level0_row8\" class=\"row_heading level0 row8\" >8</th>\n",
              "      <td id=\"T_c5c65_row8_col0\" class=\"data row8 col0\" >CPU Jobs</td>\n",
              "      <td id=\"T_c5c65_row8_col1\" class=\"data row8 col1\" >-1</td>\n",
              "    </tr>\n",
              "    <tr>\n",
              "      <th id=\"T_c5c65_level0_row9\" class=\"row_heading level0 row9\" >9</th>\n",
              "      <td id=\"T_c5c65_row9_col0\" class=\"data row9 col0\" >Use GPU</td>\n",
              "      <td id=\"T_c5c65_row9_col1\" class=\"data row9 col1\" >False</td>\n",
              "    </tr>\n",
              "    <tr>\n",
              "      <th id=\"T_c5c65_level0_row10\" class=\"row_heading level0 row10\" >10</th>\n",
              "      <td id=\"T_c5c65_row10_col0\" class=\"data row10 col0\" >Log Experiment</td>\n",
              "      <td id=\"T_c5c65_row10_col1\" class=\"data row10 col1\" >False</td>\n",
              "    </tr>\n",
              "    <tr>\n",
              "      <th id=\"T_c5c65_level0_row11\" class=\"row_heading level0 row11\" >11</th>\n",
              "      <td id=\"T_c5c65_row11_col0\" class=\"data row11 col0\" >Experiment Name</td>\n",
              "      <td id=\"T_c5c65_row11_col1\" class=\"data row11 col1\" >anomaly-default-name</td>\n",
              "    </tr>\n",
              "    <tr>\n",
              "      <th id=\"T_c5c65_level0_row12\" class=\"row_heading level0 row12\" >12</th>\n",
              "      <td id=\"T_c5c65_row12_col0\" class=\"data row12 col0\" >USI</td>\n",
              "      <td id=\"T_c5c65_row12_col1\" class=\"data row12 col1\" >0ff9</td>\n",
              "    </tr>\n",
              "  </tbody>\n",
              "</table>\n"
            ]
          },
          "metadata": {}
        }
      ]
    },
    {
      "cell_type": "code",
      "source": [
        "from pycaret.anomaly import AnomalyExperiment\n",
        "anomaly_exp = AnomalyExperiment()"
      ],
      "metadata": {
        "id": "BkagrTCboJTA"
      },
      "id": "BkagrTCboJTA",
      "execution_count": null,
      "outputs": []
    },
    {
      "cell_type": "code",
      "source": [
        "anomaly_exp.setup(df, session_id = 101)"
      ],
      "metadata": {
        "colab": {
          "base_uri": "https://localhost:8080/",
          "height": 474
        },
        "id": "olb8eZiZoJ1O",
        "outputId": "2853d86f-582f-418e-fcfa-6a527d8aecd2"
      },
      "id": "olb8eZiZoJ1O",
      "execution_count": null,
      "outputs": [
        {
          "output_type": "display_data",
          "data": {
            "text/plain": [
              "<pandas.io.formats.style.Styler at 0x799dd85d5cf0>"
            ],
            "text/html": [
              "<style type=\"text/css\">\n",
              "#T_5ea77_row4_col1 {\n",
              "  background-color: lightgreen;\n",
              "}\n",
              "</style>\n",
              "<table id=\"T_5ea77\" class=\"dataframe\">\n",
              "  <thead>\n",
              "    <tr>\n",
              "      <th class=\"blank level0\" >&nbsp;</th>\n",
              "      <th id=\"T_5ea77_level0_col0\" class=\"col_heading level0 col0\" >Description</th>\n",
              "      <th id=\"T_5ea77_level0_col1\" class=\"col_heading level0 col1\" >Value</th>\n",
              "    </tr>\n",
              "  </thead>\n",
              "  <tbody>\n",
              "    <tr>\n",
              "      <th id=\"T_5ea77_level0_row0\" class=\"row_heading level0 row0\" >0</th>\n",
              "      <td id=\"T_5ea77_row0_col0\" class=\"data row0 col0\" >Session id</td>\n",
              "      <td id=\"T_5ea77_row0_col1\" class=\"data row0 col1\" >101</td>\n",
              "    </tr>\n",
              "    <tr>\n",
              "      <th id=\"T_5ea77_level0_row1\" class=\"row_heading level0 row1\" >1</th>\n",
              "      <td id=\"T_5ea77_row1_col0\" class=\"data row1 col0\" >Original data shape</td>\n",
              "      <td id=\"T_5ea77_row1_col1\" class=\"data row1 col1\" >(1000, 10)</td>\n",
              "    </tr>\n",
              "    <tr>\n",
              "      <th id=\"T_5ea77_level0_row2\" class=\"row_heading level0 row2\" >2</th>\n",
              "      <td id=\"T_5ea77_row2_col0\" class=\"data row2 col0\" >Transformed data shape</td>\n",
              "      <td id=\"T_5ea77_row2_col1\" class=\"data row2 col1\" >(1000, 10)</td>\n",
              "    </tr>\n",
              "    <tr>\n",
              "      <th id=\"T_5ea77_level0_row3\" class=\"row_heading level0 row3\" >3</th>\n",
              "      <td id=\"T_5ea77_row3_col0\" class=\"data row3 col0\" >Numeric features</td>\n",
              "      <td id=\"T_5ea77_row3_col1\" class=\"data row3 col1\" >10</td>\n",
              "    </tr>\n",
              "    <tr>\n",
              "      <th id=\"T_5ea77_level0_row4\" class=\"row_heading level0 row4\" >4</th>\n",
              "      <td id=\"T_5ea77_row4_col0\" class=\"data row4 col0\" >Preprocess</td>\n",
              "      <td id=\"T_5ea77_row4_col1\" class=\"data row4 col1\" >True</td>\n",
              "    </tr>\n",
              "    <tr>\n",
              "      <th id=\"T_5ea77_level0_row5\" class=\"row_heading level0 row5\" >5</th>\n",
              "      <td id=\"T_5ea77_row5_col0\" class=\"data row5 col0\" >Imputation type</td>\n",
              "      <td id=\"T_5ea77_row5_col1\" class=\"data row5 col1\" >simple</td>\n",
              "    </tr>\n",
              "    <tr>\n",
              "      <th id=\"T_5ea77_level0_row6\" class=\"row_heading level0 row6\" >6</th>\n",
              "      <td id=\"T_5ea77_row6_col0\" class=\"data row6 col0\" >Numeric imputation</td>\n",
              "      <td id=\"T_5ea77_row6_col1\" class=\"data row6 col1\" >mean</td>\n",
              "    </tr>\n",
              "    <tr>\n",
              "      <th id=\"T_5ea77_level0_row7\" class=\"row_heading level0 row7\" >7</th>\n",
              "      <td id=\"T_5ea77_row7_col0\" class=\"data row7 col0\" >Categorical imputation</td>\n",
              "      <td id=\"T_5ea77_row7_col1\" class=\"data row7 col1\" >mode</td>\n",
              "    </tr>\n",
              "    <tr>\n",
              "      <th id=\"T_5ea77_level0_row8\" class=\"row_heading level0 row8\" >8</th>\n",
              "      <td id=\"T_5ea77_row8_col0\" class=\"data row8 col0\" >CPU Jobs</td>\n",
              "      <td id=\"T_5ea77_row8_col1\" class=\"data row8 col1\" >-1</td>\n",
              "    </tr>\n",
              "    <tr>\n",
              "      <th id=\"T_5ea77_level0_row9\" class=\"row_heading level0 row9\" >9</th>\n",
              "      <td id=\"T_5ea77_row9_col0\" class=\"data row9 col0\" >Use GPU</td>\n",
              "      <td id=\"T_5ea77_row9_col1\" class=\"data row9 col1\" >False</td>\n",
              "    </tr>\n",
              "    <tr>\n",
              "      <th id=\"T_5ea77_level0_row10\" class=\"row_heading level0 row10\" >10</th>\n",
              "      <td id=\"T_5ea77_row10_col0\" class=\"data row10 col0\" >Log Experiment</td>\n",
              "      <td id=\"T_5ea77_row10_col1\" class=\"data row10 col1\" >False</td>\n",
              "    </tr>\n",
              "    <tr>\n",
              "      <th id=\"T_5ea77_level0_row11\" class=\"row_heading level0 row11\" >11</th>\n",
              "      <td id=\"T_5ea77_row11_col0\" class=\"data row11 col0\" >Experiment Name</td>\n",
              "      <td id=\"T_5ea77_row11_col1\" class=\"data row11 col1\" >anomaly-default-name</td>\n",
              "    </tr>\n",
              "    <tr>\n",
              "      <th id=\"T_5ea77_level0_row12\" class=\"row_heading level0 row12\" >12</th>\n",
              "      <td id=\"T_5ea77_row12_col0\" class=\"data row12 col0\" >USI</td>\n",
              "      <td id=\"T_5ea77_row12_col1\" class=\"data row12 col1\" >6bc4</td>\n",
              "    </tr>\n",
              "  </tbody>\n",
              "</table>\n"
            ]
          },
          "metadata": {}
        },
        {
          "output_type": "execute_result",
          "data": {
            "text/plain": [
              "<pycaret.anomaly.oop.AnomalyExperiment at 0x799dd85d5c30>"
            ]
          },
          "metadata": {},
          "execution_count": 6
        }
      ]
    },
    {
      "cell_type": "code",
      "source": [
        "isolation_forest = create_model('iforest')\n",
        "isolation_forest"
      ],
      "metadata": {
        "colab": {
          "base_uri": "https://localhost:8080/",
          "height": 69,
          "referenced_widgets": [
            "85b5d499bcae49e2a33688c28542859e",
            "985c73be6f2f4ece9829a203bb237d67",
            "05e22de2bb964df791bf875762476a59",
            "9e32ac992229499d93cb94f83554942d",
            "6d7e44bbbf2547e9acd2d1220c4ebab1",
            "40fd91d4b6914255a6a2ec67e2f1bb9f",
            "3865e93d5ff343599f29bd1282275ca2",
            "e1d63f559fac412a85c5976ec1fe7285",
            "ee3b9e0f219443638a38155ac310cdc9",
            "322cca3b26f04cca832668be8d893abf",
            "7d1abac1e8a347da9901ce3ab8bde211"
          ]
        },
        "id": "a1n_jl_koKXd",
        "outputId": "7f4fdd54-b1c0-4f44-e052-4f208ada8f16"
      },
      "id": "a1n_jl_koKXd",
      "execution_count": null,
      "outputs": [
        {
          "output_type": "display_data",
          "data": {
            "text/plain": [
              "<IPython.core.display.HTML object>"
            ],
            "text/html": []
          },
          "metadata": {}
        },
        {
          "output_type": "display_data",
          "data": {
            "text/plain": [
              "<IPython.core.display.HTML object>"
            ],
            "text/html": []
          },
          "metadata": {}
        },
        {
          "output_type": "display_data",
          "data": {
            "text/plain": [
              "Processing:   0%|          | 0/3 [00:00<?, ?it/s]"
            ],
            "application/vnd.jupyter.widget-view+json": {
              "version_major": 2,
              "version_minor": 0,
              "model_id": "85b5d499bcae49e2a33688c28542859e"
            }
          },
          "metadata": {
            "application/vnd.jupyter.widget-view+json": {
              "colab": {
                "custom_widget_manager": {
                  "url": "https://ssl.gstatic.com/colaboratory-static/widgets/colab-cdn-widget-manager/2b70e893a8ba7c0f/manager.min.js"
                }
              }
            }
          }
        },
        {
          "output_type": "display_data",
          "data": {
            "text/plain": [
              "<IPython.core.display.HTML object>"
            ],
            "text/html": []
          },
          "metadata": {}
        },
        {
          "output_type": "execute_result",
          "data": {
            "text/plain": [
              "IForest(behaviour='new', bootstrap=False, contamination=0.05,\n",
              "    max_features=1.0, max_samples='auto', n_estimators=100, n_jobs=-1,\n",
              "    random_state=101, verbose=0)"
            ]
          },
          "metadata": {},
          "execution_count": 7
        }
      ]
    },
    {
      "cell_type": "code",
      "source": [
        "models()"
      ],
      "metadata": {
        "colab": {
          "base_uri": "https://localhost:8080/",
          "height": 457
        },
        "id": "uldmv2FZoLIz",
        "outputId": "9dabd088-f875-434c-b960-33702a590646"
      },
      "id": "uldmv2FZoLIz",
      "execution_count": null,
      "outputs": [
        {
          "output_type": "execute_result",
          "data": {
            "text/plain": [
              "                                        Name  \\\n",
              "ID                                             \n",
              "abod            Angle-base Outlier Detection   \n",
              "cluster       Clustering-Based Local Outlier   \n",
              "cof         Connectivity-Based Local Outlier   \n",
              "iforest                     Isolation Forest   \n",
              "histogram  Histogram-based Outlier Detection   \n",
              "knn             K-Nearest Neighbors Detector   \n",
              "lof                     Local Outlier Factor   \n",
              "svm                   One-class SVM detector   \n",
              "pca             Principal Component Analysis   \n",
              "mcd           Minimum Covariance Determinant   \n",
              "sod               Subspace Outlier Detection   \n",
              "sos             Stochastic Outlier Selection   \n",
              "\n",
              "                                                  Reference  \n",
              "ID                                                           \n",
              "abod                                  pyod.models.abod.ABOD  \n",
              "cluster    pycaret.internal.patches.pyod.CBLOFForceToDouble  \n",
              "cof                                     pyod.models.cof.COF  \n",
              "iforest                         pyod.models.iforest.IForest  \n",
              "histogram                             pyod.models.hbos.HBOS  \n",
              "knn                                     pyod.models.knn.KNN  \n",
              "lof                                     pyod.models.lof.LOF  \n",
              "svm                                 pyod.models.ocsvm.OCSVM  \n",
              "pca                                     pyod.models.pca.PCA  \n",
              "mcd                                     pyod.models.mcd.MCD  \n",
              "sod                                     pyod.models.sod.SOD  \n",
              "sos                                     pyod.models.sos.SOS  "
            ],
            "text/html": [
              "\n",
              "  <div id=\"df-a1dcb134-37f4-4a1a-a51e-190e76e6ca58\" class=\"colab-df-container\">\n",
              "    <div>\n",
              "<style scoped>\n",
              "    .dataframe tbody tr th:only-of-type {\n",
              "        vertical-align: middle;\n",
              "    }\n",
              "\n",
              "    .dataframe tbody tr th {\n",
              "        vertical-align: top;\n",
              "    }\n",
              "\n",
              "    .dataframe thead th {\n",
              "        text-align: right;\n",
              "    }\n",
              "</style>\n",
              "<table border=\"1\" class=\"dataframe\">\n",
              "  <thead>\n",
              "    <tr style=\"text-align: right;\">\n",
              "      <th></th>\n",
              "      <th>Name</th>\n",
              "      <th>Reference</th>\n",
              "    </tr>\n",
              "    <tr>\n",
              "      <th>ID</th>\n",
              "      <th></th>\n",
              "      <th></th>\n",
              "    </tr>\n",
              "  </thead>\n",
              "  <tbody>\n",
              "    <tr>\n",
              "      <th>abod</th>\n",
              "      <td>Angle-base Outlier Detection</td>\n",
              "      <td>pyod.models.abod.ABOD</td>\n",
              "    </tr>\n",
              "    <tr>\n",
              "      <th>cluster</th>\n",
              "      <td>Clustering-Based Local Outlier</td>\n",
              "      <td>pycaret.internal.patches.pyod.CBLOFForceToDouble</td>\n",
              "    </tr>\n",
              "    <tr>\n",
              "      <th>cof</th>\n",
              "      <td>Connectivity-Based Local Outlier</td>\n",
              "      <td>pyod.models.cof.COF</td>\n",
              "    </tr>\n",
              "    <tr>\n",
              "      <th>iforest</th>\n",
              "      <td>Isolation Forest</td>\n",
              "      <td>pyod.models.iforest.IForest</td>\n",
              "    </tr>\n",
              "    <tr>\n",
              "      <th>histogram</th>\n",
              "      <td>Histogram-based Outlier Detection</td>\n",
              "      <td>pyod.models.hbos.HBOS</td>\n",
              "    </tr>\n",
              "    <tr>\n",
              "      <th>knn</th>\n",
              "      <td>K-Nearest Neighbors Detector</td>\n",
              "      <td>pyod.models.knn.KNN</td>\n",
              "    </tr>\n",
              "    <tr>\n",
              "      <th>lof</th>\n",
              "      <td>Local Outlier Factor</td>\n",
              "      <td>pyod.models.lof.LOF</td>\n",
              "    </tr>\n",
              "    <tr>\n",
              "      <th>svm</th>\n",
              "      <td>One-class SVM detector</td>\n",
              "      <td>pyod.models.ocsvm.OCSVM</td>\n",
              "    </tr>\n",
              "    <tr>\n",
              "      <th>pca</th>\n",
              "      <td>Principal Component Analysis</td>\n",
              "      <td>pyod.models.pca.PCA</td>\n",
              "    </tr>\n",
              "    <tr>\n",
              "      <th>mcd</th>\n",
              "      <td>Minimum Covariance Determinant</td>\n",
              "      <td>pyod.models.mcd.MCD</td>\n",
              "    </tr>\n",
              "    <tr>\n",
              "      <th>sod</th>\n",
              "      <td>Subspace Outlier Detection</td>\n",
              "      <td>pyod.models.sod.SOD</td>\n",
              "    </tr>\n",
              "    <tr>\n",
              "      <th>sos</th>\n",
              "      <td>Stochastic Outlier Selection</td>\n",
              "      <td>pyod.models.sos.SOS</td>\n",
              "    </tr>\n",
              "  </tbody>\n",
              "</table>\n",
              "</div>\n",
              "    <div class=\"colab-df-buttons\">\n",
              "\n",
              "  <div class=\"colab-df-container\">\n",
              "    <button class=\"colab-df-convert\" onclick=\"convertToInteractive('df-a1dcb134-37f4-4a1a-a51e-190e76e6ca58')\"\n",
              "            title=\"Convert this dataframe to an interactive table.\"\n",
              "            style=\"display:none;\">\n",
              "\n",
              "  <svg xmlns=\"http://www.w3.org/2000/svg\" height=\"24px\" viewBox=\"0 -960 960 960\">\n",
              "    <path d=\"M120-120v-720h720v720H120Zm60-500h600v-160H180v160Zm220 220h160v-160H400v160Zm0 220h160v-160H400v160ZM180-400h160v-160H180v160Zm440 0h160v-160H620v160ZM180-180h160v-160H180v160Zm440 0h160v-160H620v160Z\"/>\n",
              "  </svg>\n",
              "    </button>\n",
              "\n",
              "  <style>\n",
              "    .colab-df-container {\n",
              "      display:flex;\n",
              "      gap: 12px;\n",
              "    }\n",
              "\n",
              "    .colab-df-convert {\n",
              "      background-color: #E8F0FE;\n",
              "      border: none;\n",
              "      border-radius: 50%;\n",
              "      cursor: pointer;\n",
              "      display: none;\n",
              "      fill: #1967D2;\n",
              "      height: 32px;\n",
              "      padding: 0 0 0 0;\n",
              "      width: 32px;\n",
              "    }\n",
              "\n",
              "    .colab-df-convert:hover {\n",
              "      background-color: #E2EBFA;\n",
              "      box-shadow: 0px 1px 2px rgba(60, 64, 67, 0.3), 0px 1px 3px 1px rgba(60, 64, 67, 0.15);\n",
              "      fill: #174EA6;\n",
              "    }\n",
              "\n",
              "    .colab-df-buttons div {\n",
              "      margin-bottom: 4px;\n",
              "    }\n",
              "\n",
              "    [theme=dark] .colab-df-convert {\n",
              "      background-color: #3B4455;\n",
              "      fill: #D2E3FC;\n",
              "    }\n",
              "\n",
              "    [theme=dark] .colab-df-convert:hover {\n",
              "      background-color: #434B5C;\n",
              "      box-shadow: 0px 1px 3px 1px rgba(0, 0, 0, 0.15);\n",
              "      filter: drop-shadow(0px 1px 2px rgba(0, 0, 0, 0.3));\n",
              "      fill: #FFFFFF;\n",
              "    }\n",
              "  </style>\n",
              "\n",
              "    <script>\n",
              "      const buttonEl =\n",
              "        document.querySelector('#df-a1dcb134-37f4-4a1a-a51e-190e76e6ca58 button.colab-df-convert');\n",
              "      buttonEl.style.display =\n",
              "        google.colab.kernel.accessAllowed ? 'block' : 'none';\n",
              "\n",
              "      async function convertToInteractive(key) {\n",
              "        const element = document.querySelector('#df-a1dcb134-37f4-4a1a-a51e-190e76e6ca58');\n",
              "        const dataTable =\n",
              "          await google.colab.kernel.invokeFunction('convertToInteractive',\n",
              "                                                    [key], {});\n",
              "        if (!dataTable) return;\n",
              "\n",
              "        const docLinkHtml = 'Like what you see? Visit the ' +\n",
              "          '<a target=\"_blank\" href=https://colab.research.google.com/notebooks/data_table.ipynb>data table notebook</a>'\n",
              "          + ' to learn more about interactive tables.';\n",
              "        element.innerHTML = '';\n",
              "        dataTable['output_type'] = 'display_data';\n",
              "        await google.colab.output.renderOutput(dataTable, element);\n",
              "        const docLink = document.createElement('div');\n",
              "        docLink.innerHTML = docLinkHtml;\n",
              "        element.appendChild(docLink);\n",
              "      }\n",
              "    </script>\n",
              "  </div>\n",
              "\n",
              "\n",
              "<div id=\"df-d3df311f-a8dd-4a64-b8ab-1a614be80c39\">\n",
              "  <button class=\"colab-df-quickchart\" onclick=\"quickchart('df-d3df311f-a8dd-4a64-b8ab-1a614be80c39')\"\n",
              "            title=\"Suggest charts\"\n",
              "            style=\"display:none;\">\n",
              "\n",
              "<svg xmlns=\"http://www.w3.org/2000/svg\" height=\"24px\"viewBox=\"0 0 24 24\"\n",
              "     width=\"24px\">\n",
              "    <g>\n",
              "        <path d=\"M19 3H5c-1.1 0-2 .9-2 2v14c0 1.1.9 2 2 2h14c1.1 0 2-.9 2-2V5c0-1.1-.9-2-2-2zM9 17H7v-7h2v7zm4 0h-2V7h2v10zm4 0h-2v-4h2v4z\"/>\n",
              "    </g>\n",
              "</svg>\n",
              "  </button>\n",
              "\n",
              "<style>\n",
              "  .colab-df-quickchart {\n",
              "      --bg-color: #E8F0FE;\n",
              "      --fill-color: #1967D2;\n",
              "      --hover-bg-color: #E2EBFA;\n",
              "      --hover-fill-color: #174EA6;\n",
              "      --disabled-fill-color: #AAA;\n",
              "      --disabled-bg-color: #DDD;\n",
              "  }\n",
              "\n",
              "  [theme=dark] .colab-df-quickchart {\n",
              "      --bg-color: #3B4455;\n",
              "      --fill-color: #D2E3FC;\n",
              "      --hover-bg-color: #434B5C;\n",
              "      --hover-fill-color: #FFFFFF;\n",
              "      --disabled-bg-color: #3B4455;\n",
              "      --disabled-fill-color: #666;\n",
              "  }\n",
              "\n",
              "  .colab-df-quickchart {\n",
              "    background-color: var(--bg-color);\n",
              "    border: none;\n",
              "    border-radius: 50%;\n",
              "    cursor: pointer;\n",
              "    display: none;\n",
              "    fill: var(--fill-color);\n",
              "    height: 32px;\n",
              "    padding: 0;\n",
              "    width: 32px;\n",
              "  }\n",
              "\n",
              "  .colab-df-quickchart:hover {\n",
              "    background-color: var(--hover-bg-color);\n",
              "    box-shadow: 0 1px 2px rgba(60, 64, 67, 0.3), 0 1px 3px 1px rgba(60, 64, 67, 0.15);\n",
              "    fill: var(--button-hover-fill-color);\n",
              "  }\n",
              "\n",
              "  .colab-df-quickchart-complete:disabled,\n",
              "  .colab-df-quickchart-complete:disabled:hover {\n",
              "    background-color: var(--disabled-bg-color);\n",
              "    fill: var(--disabled-fill-color);\n",
              "    box-shadow: none;\n",
              "  }\n",
              "\n",
              "  .colab-df-spinner {\n",
              "    border: 2px solid var(--fill-color);\n",
              "    border-color: transparent;\n",
              "    border-bottom-color: var(--fill-color);\n",
              "    animation:\n",
              "      spin 1s steps(1) infinite;\n",
              "  }\n",
              "\n",
              "  @keyframes spin {\n",
              "    0% {\n",
              "      border-color: transparent;\n",
              "      border-bottom-color: var(--fill-color);\n",
              "      border-left-color: var(--fill-color);\n",
              "    }\n",
              "    20% {\n",
              "      border-color: transparent;\n",
              "      border-left-color: var(--fill-color);\n",
              "      border-top-color: var(--fill-color);\n",
              "    }\n",
              "    30% {\n",
              "      border-color: transparent;\n",
              "      border-left-color: var(--fill-color);\n",
              "      border-top-color: var(--fill-color);\n",
              "      border-right-color: var(--fill-color);\n",
              "    }\n",
              "    40% {\n",
              "      border-color: transparent;\n",
              "      border-right-color: var(--fill-color);\n",
              "      border-top-color: var(--fill-color);\n",
              "    }\n",
              "    60% {\n",
              "      border-color: transparent;\n",
              "      border-right-color: var(--fill-color);\n",
              "    }\n",
              "    80% {\n",
              "      border-color: transparent;\n",
              "      border-right-color: var(--fill-color);\n",
              "      border-bottom-color: var(--fill-color);\n",
              "    }\n",
              "    90% {\n",
              "      border-color: transparent;\n",
              "      border-bottom-color: var(--fill-color);\n",
              "    }\n",
              "  }\n",
              "</style>\n",
              "\n",
              "  <script>\n",
              "    async function quickchart(key) {\n",
              "      const quickchartButtonEl =\n",
              "        document.querySelector('#' + key + ' button');\n",
              "      quickchartButtonEl.disabled = true;  // To prevent multiple clicks.\n",
              "      quickchartButtonEl.classList.add('colab-df-spinner');\n",
              "      try {\n",
              "        const charts = await google.colab.kernel.invokeFunction(\n",
              "            'suggestCharts', [key], {});\n",
              "      } catch (error) {\n",
              "        console.error('Error during call to suggestCharts:', error);\n",
              "      }\n",
              "      quickchartButtonEl.classList.remove('colab-df-spinner');\n",
              "      quickchartButtonEl.classList.add('colab-df-quickchart-complete');\n",
              "    }\n",
              "    (() => {\n",
              "      let quickchartButtonEl =\n",
              "        document.querySelector('#df-d3df311f-a8dd-4a64-b8ab-1a614be80c39 button');\n",
              "      quickchartButtonEl.style.display =\n",
              "        google.colab.kernel.accessAllowed ? 'block' : 'none';\n",
              "    })();\n",
              "  </script>\n",
              "</div>\n",
              "\n",
              "    </div>\n",
              "  </div>\n"
            ],
            "application/vnd.google.colaboratory.intrinsic+json": {
              "type": "dataframe",
              "summary": "{\n  \"name\": \"models()\",\n  \"rows\": 12,\n  \"fields\": [\n    {\n      \"column\": \"ID\",\n      \"properties\": {\n        \"dtype\": \"string\",\n        \"num_unique_values\": 12,\n        \"samples\": [\n          \"sod\",\n          \"mcd\",\n          \"abod\"\n        ],\n        \"semantic_type\": \"\",\n        \"description\": \"\"\n      }\n    },\n    {\n      \"column\": \"Name\",\n      \"properties\": {\n        \"dtype\": \"string\",\n        \"num_unique_values\": 12,\n        \"samples\": [\n          \"Subspace Outlier Detection\",\n          \"Minimum Covariance Determinant\",\n          \"Angle-base Outlier Detection\"\n        ],\n        \"semantic_type\": \"\",\n        \"description\": \"\"\n      }\n    },\n    {\n      \"column\": \"Reference\",\n      \"properties\": {\n        \"dtype\": \"string\",\n        \"num_unique_values\": 12,\n        \"samples\": [\n          \"pyod.models.sod.SOD\",\n          \"pyod.models.mcd.MCD\",\n          \"pyod.models.abod.ABOD\"\n        ],\n        \"semantic_type\": \"\",\n        \"description\": \"\"\n      }\n    }\n  ]\n}"
            }
          },
          "metadata": {},
          "execution_count": 8
        }
      ]
    },
    {
      "cell_type": "code",
      "source": [
        "anomaly_results = assign_model(isolation_forest)\n",
        "anomaly_results"
      ],
      "metadata": {
        "colab": {
          "base_uri": "https://localhost:8080/",
          "height": 424
        },
        "id": "gleL6KdLoLo2",
        "outputId": "ac5be200-dbb6-4252-b9a7-e3073bc0ba86"
      },
      "id": "gleL6KdLoLo2",
      "execution_count": null,
      "outputs": [
        {
          "output_type": "execute_result",
          "data": {
            "text/plain": [
              "         Col1      Col2      Col3      Col4      Col5      Col6      Col7  \\\n",
              "0    0.263995  0.764929  0.138424  0.935242  0.605867  0.518790  0.912225   \n",
              "1    0.546092  0.653975  0.065575  0.227772  0.845269  0.837066  0.272379   \n",
              "2    0.336714  0.538842  0.192801  0.553563  0.074515  0.332993  0.365792   \n",
              "3    0.092108  0.995017  0.014465  0.176371  0.241530  0.514724  0.562208   \n",
              "4    0.325261  0.805968  0.957033  0.331665  0.307923  0.355315  0.501899   \n",
              "..        ...       ...       ...       ...       ...       ...       ...   \n",
              "995  0.305055  0.656837  0.331665  0.822525  0.907127  0.882276  0.855732   \n",
              "996  0.812627  0.864258  0.616604  0.167966  0.811223  0.938071  0.418462   \n",
              "997  0.250967  0.138627  0.919703  0.461234  0.886555  0.869888  0.800908   \n",
              "998  0.502436  0.936820  0.580062  0.540773  0.151995  0.059452  0.225220   \n",
              "999  0.457991  0.017755  0.714113  0.125992  0.063316  0.154739  0.922974   \n",
              "\n",
              "         Col8      Col9     Col10  Anomaly  Anomaly_Score  \n",
              "0    0.608234  0.723782  0.733591        1       0.000659  \n",
              "1    0.331679  0.429297  0.367422        0      -0.073049  \n",
              "2    0.861309  0.899017  0.088600        1       0.019030  \n",
              "3    0.158963  0.073715  0.208463        1       0.070963  \n",
              "4    0.558449  0.885169  0.182754        0      -0.014927  \n",
              "..        ...       ...       ...      ...            ...  \n",
              "995  0.584786  0.808640  0.242762        0      -0.074269  \n",
              "996  0.472306  0.348347  0.671129        0      -0.077809  \n",
              "997  0.530324  0.779433  0.234952        0      -0.056883  \n",
              "998  0.242755  0.279385  0.538755        0      -0.090477  \n",
              "999  0.692299  0.816777  0.307592        0      -0.006022  \n",
              "\n",
              "[1000 rows x 12 columns]"
            ],
            "text/html": [
              "\n",
              "  <div id=\"df-f9a2ada0-69d0-4e6d-9510-569c9bc3c6fa\" class=\"colab-df-container\">\n",
              "    <div>\n",
              "<style scoped>\n",
              "    .dataframe tbody tr th:only-of-type {\n",
              "        vertical-align: middle;\n",
              "    }\n",
              "\n",
              "    .dataframe tbody tr th {\n",
              "        vertical-align: top;\n",
              "    }\n",
              "\n",
              "    .dataframe thead th {\n",
              "        text-align: right;\n",
              "    }\n",
              "</style>\n",
              "<table border=\"1\" class=\"dataframe\">\n",
              "  <thead>\n",
              "    <tr style=\"text-align: right;\">\n",
              "      <th></th>\n",
              "      <th>Col1</th>\n",
              "      <th>Col2</th>\n",
              "      <th>Col3</th>\n",
              "      <th>Col4</th>\n",
              "      <th>Col5</th>\n",
              "      <th>Col6</th>\n",
              "      <th>Col7</th>\n",
              "      <th>Col8</th>\n",
              "      <th>Col9</th>\n",
              "      <th>Col10</th>\n",
              "      <th>Anomaly</th>\n",
              "      <th>Anomaly_Score</th>\n",
              "    </tr>\n",
              "  </thead>\n",
              "  <tbody>\n",
              "    <tr>\n",
              "      <th>0</th>\n",
              "      <td>0.263995</td>\n",
              "      <td>0.764929</td>\n",
              "      <td>0.138424</td>\n",
              "      <td>0.935242</td>\n",
              "      <td>0.605867</td>\n",
              "      <td>0.518790</td>\n",
              "      <td>0.912225</td>\n",
              "      <td>0.608234</td>\n",
              "      <td>0.723782</td>\n",
              "      <td>0.733591</td>\n",
              "      <td>1</td>\n",
              "      <td>0.000659</td>\n",
              "    </tr>\n",
              "    <tr>\n",
              "      <th>1</th>\n",
              "      <td>0.546092</td>\n",
              "      <td>0.653975</td>\n",
              "      <td>0.065575</td>\n",
              "      <td>0.227772</td>\n",
              "      <td>0.845269</td>\n",
              "      <td>0.837066</td>\n",
              "      <td>0.272379</td>\n",
              "      <td>0.331679</td>\n",
              "      <td>0.429297</td>\n",
              "      <td>0.367422</td>\n",
              "      <td>0</td>\n",
              "      <td>-0.073049</td>\n",
              "    </tr>\n",
              "    <tr>\n",
              "      <th>2</th>\n",
              "      <td>0.336714</td>\n",
              "      <td>0.538842</td>\n",
              "      <td>0.192801</td>\n",
              "      <td>0.553563</td>\n",
              "      <td>0.074515</td>\n",
              "      <td>0.332993</td>\n",
              "      <td>0.365792</td>\n",
              "      <td>0.861309</td>\n",
              "      <td>0.899017</td>\n",
              "      <td>0.088600</td>\n",
              "      <td>1</td>\n",
              "      <td>0.019030</td>\n",
              "    </tr>\n",
              "    <tr>\n",
              "      <th>3</th>\n",
              "      <td>0.092108</td>\n",
              "      <td>0.995017</td>\n",
              "      <td>0.014465</td>\n",
              "      <td>0.176371</td>\n",
              "      <td>0.241530</td>\n",
              "      <td>0.514724</td>\n",
              "      <td>0.562208</td>\n",
              "      <td>0.158963</td>\n",
              "      <td>0.073715</td>\n",
              "      <td>0.208463</td>\n",
              "      <td>1</td>\n",
              "      <td>0.070963</td>\n",
              "    </tr>\n",
              "    <tr>\n",
              "      <th>4</th>\n",
              "      <td>0.325261</td>\n",
              "      <td>0.805968</td>\n",
              "      <td>0.957033</td>\n",
              "      <td>0.331665</td>\n",
              "      <td>0.307923</td>\n",
              "      <td>0.355315</td>\n",
              "      <td>0.501899</td>\n",
              "      <td>0.558449</td>\n",
              "      <td>0.885169</td>\n",
              "      <td>0.182754</td>\n",
              "      <td>0</td>\n",
              "      <td>-0.014927</td>\n",
              "    </tr>\n",
              "    <tr>\n",
              "      <th>...</th>\n",
              "      <td>...</td>\n",
              "      <td>...</td>\n",
              "      <td>...</td>\n",
              "      <td>...</td>\n",
              "      <td>...</td>\n",
              "      <td>...</td>\n",
              "      <td>...</td>\n",
              "      <td>...</td>\n",
              "      <td>...</td>\n",
              "      <td>...</td>\n",
              "      <td>...</td>\n",
              "      <td>...</td>\n",
              "    </tr>\n",
              "    <tr>\n",
              "      <th>995</th>\n",
              "      <td>0.305055</td>\n",
              "      <td>0.656837</td>\n",
              "      <td>0.331665</td>\n",
              "      <td>0.822525</td>\n",
              "      <td>0.907127</td>\n",
              "      <td>0.882276</td>\n",
              "      <td>0.855732</td>\n",
              "      <td>0.584786</td>\n",
              "      <td>0.808640</td>\n",
              "      <td>0.242762</td>\n",
              "      <td>0</td>\n",
              "      <td>-0.074269</td>\n",
              "    </tr>\n",
              "    <tr>\n",
              "      <th>996</th>\n",
              "      <td>0.812627</td>\n",
              "      <td>0.864258</td>\n",
              "      <td>0.616604</td>\n",
              "      <td>0.167966</td>\n",
              "      <td>0.811223</td>\n",
              "      <td>0.938071</td>\n",
              "      <td>0.418462</td>\n",
              "      <td>0.472306</td>\n",
              "      <td>0.348347</td>\n",
              "      <td>0.671129</td>\n",
              "      <td>0</td>\n",
              "      <td>-0.077809</td>\n",
              "    </tr>\n",
              "    <tr>\n",
              "      <th>997</th>\n",
              "      <td>0.250967</td>\n",
              "      <td>0.138627</td>\n",
              "      <td>0.919703</td>\n",
              "      <td>0.461234</td>\n",
              "      <td>0.886555</td>\n",
              "      <td>0.869888</td>\n",
              "      <td>0.800908</td>\n",
              "      <td>0.530324</td>\n",
              "      <td>0.779433</td>\n",
              "      <td>0.234952</td>\n",
              "      <td>0</td>\n",
              "      <td>-0.056883</td>\n",
              "    </tr>\n",
              "    <tr>\n",
              "      <th>998</th>\n",
              "      <td>0.502436</td>\n",
              "      <td>0.936820</td>\n",
              "      <td>0.580062</td>\n",
              "      <td>0.540773</td>\n",
              "      <td>0.151995</td>\n",
              "      <td>0.059452</td>\n",
              "      <td>0.225220</td>\n",
              "      <td>0.242755</td>\n",
              "      <td>0.279385</td>\n",
              "      <td>0.538755</td>\n",
              "      <td>0</td>\n",
              "      <td>-0.090477</td>\n",
              "    </tr>\n",
              "    <tr>\n",
              "      <th>999</th>\n",
              "      <td>0.457991</td>\n",
              "      <td>0.017755</td>\n",
              "      <td>0.714113</td>\n",
              "      <td>0.125992</td>\n",
              "      <td>0.063316</td>\n",
              "      <td>0.154739</td>\n",
              "      <td>0.922974</td>\n",
              "      <td>0.692299</td>\n",
              "      <td>0.816777</td>\n",
              "      <td>0.307592</td>\n",
              "      <td>0</td>\n",
              "      <td>-0.006022</td>\n",
              "    </tr>\n",
              "  </tbody>\n",
              "</table>\n",
              "<p>1000 rows × 12 columns</p>\n",
              "</div>\n",
              "    <div class=\"colab-df-buttons\">\n",
              "\n",
              "  <div class=\"colab-df-container\">\n",
              "    <button class=\"colab-df-convert\" onclick=\"convertToInteractive('df-f9a2ada0-69d0-4e6d-9510-569c9bc3c6fa')\"\n",
              "            title=\"Convert this dataframe to an interactive table.\"\n",
              "            style=\"display:none;\">\n",
              "\n",
              "  <svg xmlns=\"http://www.w3.org/2000/svg\" height=\"24px\" viewBox=\"0 -960 960 960\">\n",
              "    <path d=\"M120-120v-720h720v720H120Zm60-500h600v-160H180v160Zm220 220h160v-160H400v160Zm0 220h160v-160H400v160ZM180-400h160v-160H180v160Zm440 0h160v-160H620v160ZM180-180h160v-160H180v160Zm440 0h160v-160H620v160Z\"/>\n",
              "  </svg>\n",
              "    </button>\n",
              "\n",
              "  <style>\n",
              "    .colab-df-container {\n",
              "      display:flex;\n",
              "      gap: 12px;\n",
              "    }\n",
              "\n",
              "    .colab-df-convert {\n",
              "      background-color: #E8F0FE;\n",
              "      border: none;\n",
              "      border-radius: 50%;\n",
              "      cursor: pointer;\n",
              "      display: none;\n",
              "      fill: #1967D2;\n",
              "      height: 32px;\n",
              "      padding: 0 0 0 0;\n",
              "      width: 32px;\n",
              "    }\n",
              "\n",
              "    .colab-df-convert:hover {\n",
              "      background-color: #E2EBFA;\n",
              "      box-shadow: 0px 1px 2px rgba(60, 64, 67, 0.3), 0px 1px 3px 1px rgba(60, 64, 67, 0.15);\n",
              "      fill: #174EA6;\n",
              "    }\n",
              "\n",
              "    .colab-df-buttons div {\n",
              "      margin-bottom: 4px;\n",
              "    }\n",
              "\n",
              "    [theme=dark] .colab-df-convert {\n",
              "      background-color: #3B4455;\n",
              "      fill: #D2E3FC;\n",
              "    }\n",
              "\n",
              "    [theme=dark] .colab-df-convert:hover {\n",
              "      background-color: #434B5C;\n",
              "      box-shadow: 0px 1px 3px 1px rgba(0, 0, 0, 0.15);\n",
              "      filter: drop-shadow(0px 1px 2px rgba(0, 0, 0, 0.3));\n",
              "      fill: #FFFFFF;\n",
              "    }\n",
              "  </style>\n",
              "\n",
              "    <script>\n",
              "      const buttonEl =\n",
              "        document.querySelector('#df-f9a2ada0-69d0-4e6d-9510-569c9bc3c6fa button.colab-df-convert');\n",
              "      buttonEl.style.display =\n",
              "        google.colab.kernel.accessAllowed ? 'block' : 'none';\n",
              "\n",
              "      async function convertToInteractive(key) {\n",
              "        const element = document.querySelector('#df-f9a2ada0-69d0-4e6d-9510-569c9bc3c6fa');\n",
              "        const dataTable =\n",
              "          await google.colab.kernel.invokeFunction('convertToInteractive',\n",
              "                                                    [key], {});\n",
              "        if (!dataTable) return;\n",
              "\n",
              "        const docLinkHtml = 'Like what you see? Visit the ' +\n",
              "          '<a target=\"_blank\" href=https://colab.research.google.com/notebooks/data_table.ipynb>data table notebook</a>'\n",
              "          + ' to learn more about interactive tables.';\n",
              "        element.innerHTML = '';\n",
              "        dataTable['output_type'] = 'display_data';\n",
              "        await google.colab.output.renderOutput(dataTable, element);\n",
              "        const docLink = document.createElement('div');\n",
              "        docLink.innerHTML = docLinkHtml;\n",
              "        element.appendChild(docLink);\n",
              "      }\n",
              "    </script>\n",
              "  </div>\n",
              "\n",
              "\n",
              "<div id=\"df-8464b500-a864-4b3c-8ea7-be158858a966\">\n",
              "  <button class=\"colab-df-quickchart\" onclick=\"quickchart('df-8464b500-a864-4b3c-8ea7-be158858a966')\"\n",
              "            title=\"Suggest charts\"\n",
              "            style=\"display:none;\">\n",
              "\n",
              "<svg xmlns=\"http://www.w3.org/2000/svg\" height=\"24px\"viewBox=\"0 0 24 24\"\n",
              "     width=\"24px\">\n",
              "    <g>\n",
              "        <path d=\"M19 3H5c-1.1 0-2 .9-2 2v14c0 1.1.9 2 2 2h14c1.1 0 2-.9 2-2V5c0-1.1-.9-2-2-2zM9 17H7v-7h2v7zm4 0h-2V7h2v10zm4 0h-2v-4h2v4z\"/>\n",
              "    </g>\n",
              "</svg>\n",
              "  </button>\n",
              "\n",
              "<style>\n",
              "  .colab-df-quickchart {\n",
              "      --bg-color: #E8F0FE;\n",
              "      --fill-color: #1967D2;\n",
              "      --hover-bg-color: #E2EBFA;\n",
              "      --hover-fill-color: #174EA6;\n",
              "      --disabled-fill-color: #AAA;\n",
              "      --disabled-bg-color: #DDD;\n",
              "  }\n",
              "\n",
              "  [theme=dark] .colab-df-quickchart {\n",
              "      --bg-color: #3B4455;\n",
              "      --fill-color: #D2E3FC;\n",
              "      --hover-bg-color: #434B5C;\n",
              "      --hover-fill-color: #FFFFFF;\n",
              "      --disabled-bg-color: #3B4455;\n",
              "      --disabled-fill-color: #666;\n",
              "  }\n",
              "\n",
              "  .colab-df-quickchart {\n",
              "    background-color: var(--bg-color);\n",
              "    border: none;\n",
              "    border-radius: 50%;\n",
              "    cursor: pointer;\n",
              "    display: none;\n",
              "    fill: var(--fill-color);\n",
              "    height: 32px;\n",
              "    padding: 0;\n",
              "    width: 32px;\n",
              "  }\n",
              "\n",
              "  .colab-df-quickchart:hover {\n",
              "    background-color: var(--hover-bg-color);\n",
              "    box-shadow: 0 1px 2px rgba(60, 64, 67, 0.3), 0 1px 3px 1px rgba(60, 64, 67, 0.15);\n",
              "    fill: var(--button-hover-fill-color);\n",
              "  }\n",
              "\n",
              "  .colab-df-quickchart-complete:disabled,\n",
              "  .colab-df-quickchart-complete:disabled:hover {\n",
              "    background-color: var(--disabled-bg-color);\n",
              "    fill: var(--disabled-fill-color);\n",
              "    box-shadow: none;\n",
              "  }\n",
              "\n",
              "  .colab-df-spinner {\n",
              "    border: 2px solid var(--fill-color);\n",
              "    border-color: transparent;\n",
              "    border-bottom-color: var(--fill-color);\n",
              "    animation:\n",
              "      spin 1s steps(1) infinite;\n",
              "  }\n",
              "\n",
              "  @keyframes spin {\n",
              "    0% {\n",
              "      border-color: transparent;\n",
              "      border-bottom-color: var(--fill-color);\n",
              "      border-left-color: var(--fill-color);\n",
              "    }\n",
              "    20% {\n",
              "      border-color: transparent;\n",
              "      border-left-color: var(--fill-color);\n",
              "      border-top-color: var(--fill-color);\n",
              "    }\n",
              "    30% {\n",
              "      border-color: transparent;\n",
              "      border-left-color: var(--fill-color);\n",
              "      border-top-color: var(--fill-color);\n",
              "      border-right-color: var(--fill-color);\n",
              "    }\n",
              "    40% {\n",
              "      border-color: transparent;\n",
              "      border-right-color: var(--fill-color);\n",
              "      border-top-color: var(--fill-color);\n",
              "    }\n",
              "    60% {\n",
              "      border-color: transparent;\n",
              "      border-right-color: var(--fill-color);\n",
              "    }\n",
              "    80% {\n",
              "      border-color: transparent;\n",
              "      border-right-color: var(--fill-color);\n",
              "      border-bottom-color: var(--fill-color);\n",
              "    }\n",
              "    90% {\n",
              "      border-color: transparent;\n",
              "      border-bottom-color: var(--fill-color);\n",
              "    }\n",
              "  }\n",
              "</style>\n",
              "\n",
              "  <script>\n",
              "    async function quickchart(key) {\n",
              "      const quickchartButtonEl =\n",
              "        document.querySelector('#' + key + ' button');\n",
              "      quickchartButtonEl.disabled = true;  // To prevent multiple clicks.\n",
              "      quickchartButtonEl.classList.add('colab-df-spinner');\n",
              "      try {\n",
              "        const charts = await google.colab.kernel.invokeFunction(\n",
              "            'suggestCharts', [key], {});\n",
              "      } catch (error) {\n",
              "        console.error('Error during call to suggestCharts:', error);\n",
              "      }\n",
              "      quickchartButtonEl.classList.remove('colab-df-spinner');\n",
              "      quickchartButtonEl.classList.add('colab-df-quickchart-complete');\n",
              "    }\n",
              "    (() => {\n",
              "      let quickchartButtonEl =\n",
              "        document.querySelector('#df-8464b500-a864-4b3c-8ea7-be158858a966 button');\n",
              "      quickchartButtonEl.style.display =\n",
              "        google.colab.kernel.accessAllowed ? 'block' : 'none';\n",
              "    })();\n",
              "  </script>\n",
              "</div>\n",
              "\n",
              "  <div id=\"id_f6c77f48-e9a8-4971-a960-da897cd15249\">\n",
              "    <style>\n",
              "      .colab-df-generate {\n",
              "        background-color: #E8F0FE;\n",
              "        border: none;\n",
              "        border-radius: 50%;\n",
              "        cursor: pointer;\n",
              "        display: none;\n",
              "        fill: #1967D2;\n",
              "        height: 32px;\n",
              "        padding: 0 0 0 0;\n",
              "        width: 32px;\n",
              "      }\n",
              "\n",
              "      .colab-df-generate:hover {\n",
              "        background-color: #E2EBFA;\n",
              "        box-shadow: 0px 1px 2px rgba(60, 64, 67, 0.3), 0px 1px 3px 1px rgba(60, 64, 67, 0.15);\n",
              "        fill: #174EA6;\n",
              "      }\n",
              "\n",
              "      [theme=dark] .colab-df-generate {\n",
              "        background-color: #3B4455;\n",
              "        fill: #D2E3FC;\n",
              "      }\n",
              "\n",
              "      [theme=dark] .colab-df-generate:hover {\n",
              "        background-color: #434B5C;\n",
              "        box-shadow: 0px 1px 3px 1px rgba(0, 0, 0, 0.15);\n",
              "        filter: drop-shadow(0px 1px 2px rgba(0, 0, 0, 0.3));\n",
              "        fill: #FFFFFF;\n",
              "      }\n",
              "    </style>\n",
              "    <button class=\"colab-df-generate\" onclick=\"generateWithVariable('anomaly_results')\"\n",
              "            title=\"Generate code using this dataframe.\"\n",
              "            style=\"display:none;\">\n",
              "\n",
              "  <svg xmlns=\"http://www.w3.org/2000/svg\" height=\"24px\"viewBox=\"0 0 24 24\"\n",
              "       width=\"24px\">\n",
              "    <path d=\"M7,19H8.4L18.45,9,17,7.55,7,17.6ZM5,21V16.75L18.45,3.32a2,2,0,0,1,2.83,0l1.4,1.43a1.91,1.91,0,0,1,.58,1.4,1.91,1.91,0,0,1-.58,1.4L9.25,21ZM18.45,9,17,7.55Zm-12,3A5.31,5.31,0,0,0,4.9,8.1,5.31,5.31,0,0,0,1,6.5,5.31,5.31,0,0,0,4.9,4.9,5.31,5.31,0,0,0,6.5,1,5.31,5.31,0,0,0,8.1,4.9,5.31,5.31,0,0,0,12,6.5,5.46,5.46,0,0,0,6.5,12Z\"/>\n",
              "  </svg>\n",
              "    </button>\n",
              "    <script>\n",
              "      (() => {\n",
              "      const buttonEl =\n",
              "        document.querySelector('#id_f6c77f48-e9a8-4971-a960-da897cd15249 button.colab-df-generate');\n",
              "      buttonEl.style.display =\n",
              "        google.colab.kernel.accessAllowed ? 'block' : 'none';\n",
              "\n",
              "      buttonEl.onclick = () => {\n",
              "        google.colab.notebook.generateWithVariable('anomaly_results');\n",
              "      }\n",
              "      })();\n",
              "    </script>\n",
              "  </div>\n",
              "\n",
              "    </div>\n",
              "  </div>\n"
            ],
            "application/vnd.google.colaboratory.intrinsic+json": {
              "type": "dataframe",
              "variable_name": "anomaly_results",
              "summary": "{\n  \"name\": \"anomaly_results\",\n  \"rows\": 1000,\n  \"fields\": [\n    {\n      \"column\": \"Col1\",\n      \"properties\": {\n        \"dtype\": \"float32\",\n        \"num_unique_values\": 1000,\n        \"samples\": [\n          0.9129378199577332,\n          0.4352959990501404,\n          0.5734938383102417\n        ],\n        \"semantic_type\": \"\",\n        \"description\": \"\"\n      }\n    },\n    {\n      \"column\": \"Col2\",\n      \"properties\": {\n        \"dtype\": \"float32\",\n        \"num_unique_values\": 1000,\n        \"samples\": [\n          0.6034935116767883,\n          0.29044073820114136,\n          0.7119404673576355\n        ],\n        \"semantic_type\": \"\",\n        \"description\": \"\"\n      }\n    },\n    {\n      \"column\": \"Col3\",\n      \"properties\": {\n        \"dtype\": \"float32\",\n        \"num_unique_values\": 1000,\n        \"samples\": [\n          0.6866453886032104,\n          0.8235213160514832,\n          0.4485180377960205\n        ],\n        \"semantic_type\": \"\",\n        \"description\": \"\"\n      }\n    },\n    {\n      \"column\": \"Col4\",\n      \"properties\": {\n        \"dtype\": \"float32\",\n        \"num_unique_values\": 1000,\n        \"samples\": [\n          0.12941132485866547,\n          0.16941584646701813,\n          0.8417219519615173\n        ],\n        \"semantic_type\": \"\",\n        \"description\": \"\"\n      }\n    },\n    {\n      \"column\": \"Col5\",\n      \"properties\": {\n        \"dtype\": \"float32\",\n        \"num_unique_values\": 1000,\n        \"samples\": [\n          0.1584024727344513,\n          0.8850599527359009,\n          0.792153000831604\n        ],\n        \"semantic_type\": \"\",\n        \"description\": \"\"\n      }\n    },\n    {\n      \"column\": \"Col6\",\n      \"properties\": {\n        \"dtype\": \"float32\",\n        \"num_unique_values\": 1000,\n        \"samples\": [\n          0.06317591667175293,\n          0.5244405269622803,\n          0.4782978594303131\n        ],\n        \"semantic_type\": \"\",\n        \"description\": \"\"\n      }\n    },\n    {\n      \"column\": \"Col7\",\n      \"properties\": {\n        \"dtype\": \"float32\",\n        \"num_unique_values\": 1000,\n        \"samples\": [\n          0.752866804599762,\n          0.7684053778648376,\n          0.6436194181442261\n        ],\n        \"semantic_type\": \"\",\n        \"description\": \"\"\n      }\n    },\n    {\n      \"column\": \"Col8\",\n      \"properties\": {\n        \"dtype\": \"float32\",\n        \"num_unique_values\": 1000,\n        \"samples\": [\n          0.4487888514995575,\n          0.6476980447769165,\n          0.34407874941825867\n        ],\n        \"semantic_type\": \"\",\n        \"description\": \"\"\n      }\n    },\n    {\n      \"column\": \"Col9\",\n      \"properties\": {\n        \"dtype\": \"float32\",\n        \"num_unique_values\": 1000,\n        \"samples\": [\n          0.5163691639900208,\n          0.6603410840034485,\n          0.49205026030540466\n        ],\n        \"semantic_type\": \"\",\n        \"description\": \"\"\n      }\n    },\n    {\n      \"column\": \"Col10\",\n      \"properties\": {\n        \"dtype\": \"float32\",\n        \"num_unique_values\": 1000,\n        \"samples\": [\n          0.4971039593219757,\n          0.4334120452404022,\n          0.4929497241973877\n        ],\n        \"semantic_type\": \"\",\n        \"description\": \"\"\n      }\n    },\n    {\n      \"column\": \"Anomaly\",\n      \"properties\": {\n        \"dtype\": \"number\",\n        \"std\": 0,\n        \"min\": 0,\n        \"max\": 1,\n        \"num_unique_values\": 2,\n        \"samples\": [\n          0,\n          1\n        ],\n        \"semantic_type\": \"\",\n        \"description\": \"\"\n      }\n    },\n    {\n      \"column\": \"Anomaly_Score\",\n      \"properties\": {\n        \"dtype\": \"number\",\n        \"std\": 0.03276582894938474,\n        \"min\": -0.13441545318752002,\n        \"max\": 0.0802511480220528,\n        \"num_unique_values\": 1000,\n        \"samples\": [\n          -0.051766977451709384,\n          -0.08805143544007393\n        ],\n        \"semantic_type\": \"\",\n        \"description\": \"\"\n      }\n    }\n  ]\n}"
            }
          },
          "metadata": {},
          "execution_count": 9
        }
      ]
    },
    {
      "cell_type": "code",
      "source": [
        "plot_model(isolation_forest, plot='tsne')"
      ],
      "metadata": {
        "colab": {
          "base_uri": "https://localhost:8080/",
          "height": 817
        },
        "id": "JZWOkTF3oMEj",
        "outputId": "52603b12-2cff-4e32-d06c-aeaa81dc4656"
      },
      "id": "JZWOkTF3oMEj",
      "execution_count": null,
      "outputs": [
        {
          "output_type": "display_data",
          "data": {
            "text/plain": [
              "<IPython.core.display.HTML object>"
            ],
            "text/html": []
          },
          "metadata": {}
        },
        {
          "output_type": "display_data",
          "data": {
            "text/html": [
              "<html>\n",
              "<head><meta charset=\"utf-8\" /></head>\n",
              "<body>\n",
              "    <div>            <script src=\"https://cdnjs.cloudflare.com/ajax/libs/mathjax/2.7.5/MathJax.js?config=TeX-AMS-MML_SVG\"></script><script type=\"text/javascript\">if (window.MathJax && window.MathJax.Hub && window.MathJax.Hub.Config) {window.MathJax.Hub.Config({SVG: {font: \"STIX-Web\"}});}</script>                <script type=\"text/javascript\">window.PlotlyConfig = {MathJaxConfig: 'local'};</script>\n",
              "        <script charset=\"utf-8\" src=\"https://cdn.plot.ly/plotly-2.24.1.min.js\"></script>                <div id=\"48c00891-8b11-436e-a3f0-aa4110c009ad\" class=\"plotly-graph-div\" style=\"height:800px; width:900px;\"></div>            <script type=\"text/javascript\">                                    window.PLOTLYENV=window.PLOTLYENV || {};                                    if (document.getElementById(\"48c00891-8b11-436e-a3f0-aa4110c009ad\")) {                    Plotly.newPlot(                        \"48c00891-8b11-436e-a3f0-aa4110c009ad\",                        [{\"customdata\":[[0.26399535],[0.54609233],[0.33671412],[0.09210783],[0.32526118],[0.21246485],[0.25856572],[0.86923677],[0.19707796],[0.29298452],[0.8217832],[0.79662293],[0.045577012],[0.61366034],[0.95074457],[0.33634633],[0.034440666],[0.74154425],[0.18443266],[0.66451496],[0.16282485],[0.72983843],[0.62837386],[0.05788366],[0.44553483],[0.80183697],[0.27709612],[0.22863401],[0.8348607],[0.6697665],[0.5325273],[0.17045908],[0.5102885],[0.977562],[0.24977599],[0.9755007],[0.6137017],[0.16742036],[0.5374725],[0.37989914],[0.6338973],[0.6339604],[0.5499747],[0.17817299],[0.85563815],[0.3217967],[0.8174905],[0.25487942],[0.3441405],[0.8061457],[0.27708167],[0.5443285],[0.07708393],[0.27308145],[0.39087734],[0.3496214],[0.21454975],[0.20607522],[0.86462],[0.9817088],[0.33482966],[0.6483871],[0.09364356],[0.8378027],[0.76034397],[0.2914042],[0.3413454],[0.7611125],[0.5418998],[0.6841766],[0.9835356],[0.52081245],[0.32822773],[0.09715794],[0.8760886],[0.8702145],[0.656087],[0.3067915],[0.48126733],[0.25955918],[0.32612365],[0.93056804],[0.6583894],[0.6899923],[0.31578112],[0.5669051],[0.63752663],[0.6875407],[0.3243006],[0.5927049],[0.74025315],[0.5940329],[0.59645295],[0.2776808],[0.25832966],[0.14246087],[0.43553346],[0.70249903],[0.58897537],[0.6533044],[0.3369685],[0.6312447],[0.7353008],[0.050390366],[0.06426492],[0.6653595],[0.91783524],[0.4465101],[0.6619382],[0.43935984],[0.6875724],[0.36346224],[0.6542622],[0.57855356],[0.065927945],[0.55014855],[0.13918282],[0.08000463],[0.27822837],[0.5601243],[0.53639865],[0.4265319],[0.78910977],[0.7429005],[0.90169257],[0.6503374],[0.11405731],[0.26081258],[0.43991232],[0.9644093],[0.18440141],[0.34514543],[0.17589459],[0.31251445],[0.6741319],[0.32825044],[0.5982311],[0.09259882],[0.49791652],[0.41977653],[0.3121767],[0.9378571],[0.049030963],[0.47610453],[0.44739753],[0.29580605],[0.737364],[0.6258963],[0.40881342],[0.43751115],[0.69135135],[0.9355553],[0.43784666],[0.07221772],[0.67636067],[0.468884],[0.5438206],[0.65552264],[0.69352895],[0.108878314],[0.28546375],[0.0],[0.7064955],[0.27353063],[0.29232028],[0.6739843],[0.12612183],[0.9467075],[0.9363389],[0.85375535],[0.7060714],[0.6936822],[0.5085279],[0.34717038],[0.70415425],[0.6587301],[0.15584156],[0.31108543],[0.28113535],[0.0945878],[0.683261],[0.90772927],[0.29151267],[0.7527345],[0.93482965],[0.07141396],[0.5948963],[0.40467203],[0.1383762],[0.7473385],[0.5308825],[0.2826496],[0.69933575],[0.05611125],[0.855235],[0.07789513],[0.8916496],[0.3867423],[0.27113158],[0.95888895],[0.08512087],[0.52690226],[0.066577785],[0.8415067],[0.2553421],[0.060545772],[0.07338587],[0.18749373],[0.8583657],[0.09064035],[0.7097252],[0.6313006],[0.24750447],[0.8228436],[0.37347677],[0.6255386],[0.2929517],[0.29973033],[0.25121406],[0.34448054],[0.29306477],[0.7628032],[0.7384708],[0.67488325],[0.7191516],[0.13098022],[0.51132804],[0.04492903],[0.56091446],[0.74404067],[0.26696163],[0.64423186],[0.038113352],[0.0571553],[0.34139246],[0.72046363],[0.40287822],[0.63514894],[0.32072946],[0.091209695],[0.23414609],[0.8902211],[0.6021709],[0.63365203],[0.80624086],[0.7397312],[0.46523127],[0.7321109],[0.3738743],[0.5015879],[0.115383156],[0.7319466],[0.41829872],[0.062259592],[0.3914964],[0.3598493],[0.24523562],[0.6100283],[0.43540362],[0.43430966],[0.52376336],[0.17118786],[0.1877343],[0.94501466],[0.027851097],[0.68445706],[0.17801453],[0.6434279],[0.59588355],[0.3723617],[0.58610356],[0.27165884],[0.5995111],[0.46836308],[0.31451556],[0.21893726],[0.25471658],[0.25612816],[0.60225976],[0.13438107],[0.5138874],[0.62424165],[0.16025186],[0.5807081],[0.27054048],[0.83291996],[0.93032134],[0.7191579],[0.88672006],[0.09879228],[0.7871743],[0.3655924],[0.7195762],[0.8058956],[0.75557834],[0.5260059],[0.68880427],[0.2211153],[0.73936945],[0.40844023],[0.34892654],[0.43371376],[0.5964966],[0.6942953],[0.709031],[0.867653],[0.89332545],[0.7460209],[0.5382844],[0.8922193],[0.9351758],[0.2605277],[0.95678043],[0.20493248],[0.68773335],[0.32906362],[0.6321498],[0.4637445],[0.69885963],[0.38544658],[0.47997537],[0.7322791],[0.3813543],[0.459326],[0.25740144],[0.6650148],[0.103399545],[0.42528442],[0.94352907],[0.5947502],[0.5437768],[0.18203989],[0.23584208],[0.58598447],[0.7620132],[0.6849829],[0.6769369],[0.29018497],[0.48106822],[0.49276602],[0.22185624],[0.053875998],[0.08275115],[0.38536623],[0.70251393],[0.9155316],[0.082087435],[0.25128037],[0.41672182],[0.27703267],[0.5795398],[0.5693635],[0.13339971],[0.26504546],[0.9365719],[0.25261855],[0.054033082],[0.8024814],[0.5281977],[0.9515026],[0.57212114],[0.7529382],[0.14385754],[0.5134846],[0.3133224],[0.68779737],[0.37705985],[0.34822613],[0.6776328],[0.24138752],[0.8506502],[0.2203481],[0.47644547],[0.690324],[0.36469594],[0.6492492],[0.9437019],[0.529646],[0.299097],[0.96696246],[0.27200523],[0.31416145],[0.752021],[0.22188245],[0.7203327],[0.37920478],[0.60168654],[0.58293265],[0.95080984],[0.5883014],[0.8808872],[0.4678577],[0.8799022],[0.619844],[0.35900256],[0.29151127],[0.6941571],[0.72796035],[0.6177039],[0.39581257],[0.5831728],[0.7103324],[0.2537537],[0.04941223],[0.7283787],[0.4324329],[0.58612347],[0.052342374],[0.053483903],[0.5187294],[0.9330402],[0.7035543],[0.2689899],[0.73300695],[0.44435248],[0.58339465],[0.87117267],[0.42876709],[0.30046085],[0.95332944],[0.60644394],[0.9098681],[0.71489644],[0.4973495],[0.8530975],[0.72180414],[0.30346733],[0.6644851],[0.27978063],[0.5694817],[0.6286289],[0.088368125],[0.7335673],[0.5374368],[0.6385937],[0.95472693],[0.6322023],[0.64213467],[0.7446531],[0.115714006],[0.48625007],[0.44035614],[0.08272289],[0.511591],[0.39462754],[0.224394],[0.62692755],[0.29025406],[0.77900803],[0.8661058],[0.87332606],[0.49548915],[0.5942977],[0.91820157],[0.57704276],[0.01946767],[0.6702983],[0.54659534],[0.59166515],[0.4215582],[0.68560857],[0.34030303],[0.67562675],[0.31906736],[0.38849968],[0.7069496],[0.5594095],[0.6876635],[0.70880455],[0.6818881],[0.42253512],[0.3200046],[0.6582814],[0.63415486],[0.777332],[0.8126772],[0.0742808],[0.39600217],[0.054933913],[0.82505894],[0.382642],[0.8687298],[0.58804333],[0.89155155],[0.10920046],[0.6476828],[0.7243425],[0.07016304],[0.28088206],[0.03911326],[0.5796416],[0.6390009],[0.2817459],[0.6478577],[0.6479058],[0.87522626],[0.5676033],[0.2629406],[0.26802605],[0.40519133],[0.47996545],[0.33552402],[0.77716535],[0.42548797],[0.23798612],[0.14252298],[0.72417647],[0.23469894],[0.07818228],[0.8559902],[0.27025175],[0.43551785],[0.7626975],[0.46448725],[0.39611268],[0.37638092],[0.29459468],[0.6944921],[0.6227679],[0.84755975],[0.30146307],[0.9129378],[0.50001717],[0.90258795],[0.30451795],[0.29916567],[0.09201409],[0.4885489],[0.66466445],[0.26534954],[0.723657],[0.14926238],[0.04577339],[0.6966106],[0.42181486],[0.7338458],[0.41879538],[0.6774435],[0.2612836],[0.26852778],[0.54432225],[0.43163204],[0.9810181],[0.21498072],[0.39473],[0.12222494],[0.29749689],[0.37490442],[0.6869877],[0.3885492],[0.039296072],[0.73553425],[0.3792949],[0.7321234],[0.33922145],[0.6594506],[0.054838642],[0.6401121],[0.3071417],[0.3966119],[0.42043915],[0.24171497],[0.06589315],[0.9105219],[0.6971631],[0.072559856],[0.81825095],[0.3118888],[0.9616446],[0.81632555],[0.14647302],[0.5487539],[0.9461581],[0.29399273],[0.33147964],[0.90622],[0.5255404],[0.83301413],[0.5148498],[0.57460904],[0.46871185],[0.71002775],[0.64597327],[0.22979441],[0.5517834],[0.05582299],[0.33175093],[0.7155202],[0.58392435],[0.3069577],[0.7914782],[0.16423663],[0.06571122],[0.94899315],[0.08042383],[0.052495427],[0.5663461],[0.3630266],[0.60544217],[0.6308506],[0.065791234],[0.28681707],[0.68546283],[0.2608537],[0.6591224],[0.44317392],[0.602064],[0.06036691],[0.78190315],[0.51457983],[0.4838862],[0.6002138],[0.49736404],[0.41114524],[0.11699917],[0.34189013],[0.74695086],[0.39629275],[0.62214386],[0.33527115],[0.14025714],[0.08162068],[0.06983757],[0.46894002],[0.9908574],[0.8966168],[0.25531057],[0.22464527],[0.01991825],[0.29648042],[0.155459],[0.57791674],[0.95630306],[0.8134644],[0.5296758],[0.28767136],[0.48039135],[0.2810448],[0.63319653],[0.09332538],[0.284474],[0.052223776],[0.051129386],[0.9674056],[0.040045727],[0.9085829],[0.6621174],[0.4247032],[0.7220781],[0.6661933],[0.5096812],[0.7513536],[0.27907312],[0.074927],[0.91635954],[0.31040326],[0.71660405],[0.4855871],[0.3060752],[0.4775582],[0.71192396],[0.066348635],[0.27453935],[0.31082252],[0.47607312],[0.18679556],[0.26654208],[0.07023114],[0.26951927],[0.8000047],[0.27363366],[0.14647919],[0.37831897],[0.37384906],[0.24217084],[0.2497965],[0.06659119],[0.3729568],[0.5018123],[0.31309775],[0.8802022],[0.5198189],[0.36413875],[0.4926829],[0.28573266],[0.89011496],[0.31641957],[0.26866353],[0.77197593],[0.968889],[0.08033438],[0.7368282],[0.30055806],[0.9179504],[0.46581504],[0.05403668],[0.96315014],[0.0896535],[0.7076932],[0.636416],[0.5395211],[0.11475716],[0.3573124],[0.67639834],[0.4348284],[0.032326385],[0.7113656],[0.18748651],[0.052789655],[0.5058636],[0.9274319],[0.68098426],[0.8828222],[0.49570546],[0.5962404],[0.3206107],[0.3413685],[0.1596818],[0.31813368],[0.83930105],[0.06435925],[0.47021663],[0.77625227],[0.6358434],[0.62510544],[0.52959067],[0.98690015],[0.078585684],[0.23328426],[0.36333096],[0.716717],[0.37588978],[0.2233169],[0.29934397],[0.5385958],[0.73029715],[0.6603308],[0.435296],[0.3264943],[0.8544027],[0.57349384],[0.75778615],[0.7047432],[0.2815756],[0.6719682],[0.313726],[0.36433828],[0.3682164],[0.3862952],[0.6559719],[0.56602526],[0.4249991],[0.09011037],[0.77235055],[0.33104727],[0.27371618],[0.23877569],[0.37307978],[0.33118588],[0.25613454],[0.6783732],[0.43463835],[0.65466833],[0.98668104],[0.3715205],[0.40835962],[0.40932366],[0.28341207],[0.39524654],[0.010984428],[0.30601388],[0.26619482],[0.29931852],[0.31829396],[0.7428259],[0.09766433],[0.07966694],[0.6132588],[0.9944307],[0.5688351],[0.7080345],[0.3705927],[0.66986734],[0.6512956],[0.46253157],[0.7196256],[0.4537725],[0.39486393],[0.32397482],[0.14645472],[0.77906704],[0.4018289],[0.6014796],[0.856423],[0.56524295],[0.3012251],[0.28210816],[0.594378],[0.7053124],[0.54086965],[0.31924957],[0.36176613],[0.6250007],[0.3162874],[0.04723902],[0.8011822],[0.5084744],[0.8178934],[0.3992356],[0.974052],[0.7224153],[0.039564762],[0.90868413],[0.47301012],[0.71804965],[0.76347905],[0.64759654],[0.89499736],[0.2228259],[0.35901225],[0.9449102],[0.29787782],[0.172518],[0.55658627],[0.8764817],[0.48667786],[0.45949674],[0.47412637],[0.7010114],[0.3375974],[0.5375789],[0.96699244],[0.056849547],[0.23324907],[0.3800547],[0.6029294],[0.303848],[0.17019455],[0.97216856],[0.33216894],[0.6887287],[0.1107734],[0.27335206],[0.5729397],[0.49145707],[0.28139],[0.82169724],[0.67497766],[0.58513457],[0.71059614],[0.04048879],[0.5680543],[0.32175294],[0.61185026],[0.9260969],[0.6183474],[0.6676298],[0.39773348],[0.2908755],[0.5943751],[0.50825524],[0.33857137],[0.43230236],[0.30222198],[0.8761982],[0.080204494],[0.09233353],[0.09365645],[0.6084524],[0.7326546],[0.94415885],[0.2674231],[0.7311242],[0.6613085],[0.38776627],[0.9625853],[0.32206705],[0.63408107],[0.47534502],[0.353559],[0.8859363],[0.8767981],[0.22158106],[0.39436245],[0.80503565],[0.45289847],[0.59252053],[0.7610264],[0.24504903],[0.37213936],[0.68105483],[0.74714315],[0.92073953],[0.09720795],[0.699303],[0.721647],[0.5353561],[0.7382938],[0.70646757],[0.6739506],[0.7112123],[0.30255872],[0.080097854],[0.70701087],[0.51224864],[0.6596275],[0.6575597],[0.10064561],[0.9266536],[0.89287937],[0.8391575],[0.89095974],[0.55675447],[0.96036196],[0.6310379],[0.029838065],[0.27884334],[0.9261577],[0.55150425],[0.48594236],[0.4372347],[0.25231802],[0.515467],[0.43725228],[0.4937242],[0.83324724],[0.31752148],[0.28623456],[0.72683394],[0.49566704],[0.028645255],[0.31967193],[0.6743446],[0.76603717],[0.6545699],[0.7565144],[0.52825373],[0.3897195],[0.35508746],[0.870152],[0.7390833],[0.30576184],[0.4115877],[0.06363309],[0.7354094],[0.6059167],[0.5393956],[0.5661835],[0.6747952],[0.070993364],[0.1252641],[0.27960148],[0.9521744],[0.23380676],[0.43724743],[0.9254231],[0.43349862],[0.525179],[0.08843553],[0.44767764],[0.6470006],[0.9036033],[0.26579073],[0.66419697],[0.49812067],[0.49018896],[0.7470842],[0.90678364],[0.6787709],[0.34859985],[0.29483968],[0.7056918],[0.21191794],[0.06320112],[0.27669954],[0.6724594],[0.80820596],[0.29653838],[0.16012686],[0.43938503],[0.5559514],[0.38624012],[0.15868962],[0.21449986],[0.29957944],[0.56916165],[0.4886148],[0.878295],[0.6493809],[0.46571335],[0.16813774],[0.87529546],[0.84113234],[0.33292082],[0.5130479],[0.30505508],[0.812627],[0.25096706],[0.50243556],[0.45799074]],\"hovertemplate\":\"0=%{x}\\u003cbr\\u003e1=%{y}\\u003cbr\\u003e2=%{z}\\u003cbr\\u003eFeature=%{customdata[0]}\\u003cbr\\u003eAnomaly=%{marker.color}\\u003cextra\\u003e\\u003c\\u002fextra\\u003e\",\"legendgroup\":\"\",\"marker\":{\"color\":[1,0,1,1,0,0,0,1,1,1,0,1,0,1,1,1,0,1,1,0,1,0,0,1,0,1,0,0,1,1,0,0,0,1,1,1,0,0,0,0,0,0,0,1,0,0,0,0,0,0,0,1,0,1,0,1,0,0,0,1,0,0,0,1,0,0,0,0,0,1,0,0,0,0,0,0,0,0,0,0,0,0,0,0,0,0,0,0,0,0,0,0,0,0,0,0,0,0,0,0,0,0,0,0,0,0,0,0,0,0,0,0,0,0,0,0,0,0,0,0,0,0,0,0,0,0,0,0,0,0,0,0,0,0,0,0,0,0,0,0,0,0,0,0,0,0,0,0,0,0,0,0,0,0,0,0,0,0,0,0,0,0,0,0,0,0,0,0,0,0,0,0,0,0,0,0,0,0,0,0,0,0,0,0,0,0,0,0,0,0,0,0,0,0,0,0,0,0,1,0,0,0,0,0,0,0,0,0,0,0,0,0,0,0,0,0,0,0,0,0,0,0,0,0,0,0,0,0,0,0,0,0,0,0,0,0,0,0,0,1,0,0,0,0,0,0,0,0,0,0,0,0,0,0,0,0,0,0,0,0,0,0,0,0,0,0,0,0,0,0,0,0,0,0,0,0,0,0,0,0,0,0,0,0,0,0,0,0,0,0,0,0,0,0,0,0,0,0,0,0,0,0,0,0,0,0,0,0,0,0,0,0,0,0,0,0,0,0,0,0,0,0,0,0,0,0,0,0,0,0,0,0,0,0,0,0,0,0,0,0,0,0,0,0,0,0,0,0,0,0,0,0,0,0,0,0,0,0,0,0,0,0,0,0,0,0,0,0,0,0,0,0,0,0,0,0,0,0,0,0,0,0,0,0,0,0,0,0,0,0,0,0,0,0,0,0,0,0,0,0,0,0,0,0,0,0,0,0,0,0,0,0,0,0,0,0,0,0,0,0,0,0,0,0,0,0,0,0,0,0,0,0,0,0,0,0,0,0,0,0,0,0,0,0,0,0,0,0,0,0,0,0,0,0,0,0,0,0,0,0,0,0,0,0,0,0,0,0,0,0,0,0,0,0,0,0,0,0,0,0,0,0,0,0,0,0,0,0,0,0,0,0,0,0,0,0,0,0,0,0,0,0,0,0,0,0,0,0,0,0,0,0,0,0,0,0,0,0,0,0,0,0,0,0,0,0,0,0,0,0,0,0,0,0,0,0,0,0,0,0,0,0,0,0,0,1,0,0,0,0,0,0,0,0,0,0,0,0,0,0,0,0,0,0,0,0,0,0,0,0,0,0,0,0,0,0,0,0,0,0,0,0,0,0,0,0,0,0,0,0,0,0,0,0,0,0,0,0,0,0,0,0,1,0,0,0,0,0,0,0,0,0,0,0,0,0,0,0,0,0,0,0,0,0,0,0,0,0,0,0,0,0,0,0,0,0,0,0,0,0,0,0,0,0,0,0,0,0,0,0,0,0,0,0,0,0,0,0,0,0,0,0,0,0,0,0,0,0,0,0,0,0,0,0,0,0,0,0,0,0,1,0,0,0,0,0,0,0,0,0,0,0,0,0,0,0,0,0,0,0,1,1,1,1,1,0,0,0,1,0,1,0,0,1,0,0,1,1,1,0,1,0,1,1,1,0,0,0,1,0,0,0,0,0,0,0,0,0,0,0,0,0,0,0,0,0,0,0,0,0,0,0,0,0,0,0,0,0,0,0,0,0,0,0,0,0,0,0,0,1,0,0,0,0,0,0,0,0,0,0,0,0,0,0,0,0,0,0,0,0,0,0,0,0,0,0,0,0,0,0,0,0,0,0,0,0,0,0,0,0,0,0,0,0,0,0,0,0,0,0,0,0,0,0,0,0,0,0,0,0,0,0,0,0,0,0,0,0,0,0,0,0,0,0,0,0,0,0,0,0,0,0,0,0,0,0,0,0,0,0,0,0,0,0,0,0,0,0,0,0,0,0,0,0,0,0,0,0,0,0,0,0,0,0,0,0,0,0,0,0,0,0,0,0,0,0,0,0,0,0,0,0,0,0,0,0,0,0,0,0,0,0,0,0,0,0,0,0,0,0,0,0,0,0,0,0,0,0,0,0,0,0,0,0,0,0,0,0,0,0,0,0,0,0,0,0,0,0,0,0,0,0,0,0,0,0,0,0,0,0,0,0,0,0,0,0,0,0,0,0,0,0,0,1,0,0,0,0,0,0,0,0,0,0,0,0,0,0,0,0,0,0,0,0,0,0,0,0,0,0],\"coloraxis\":\"coloraxis\",\"opacity\":0.7,\"symbol\":\"circle\"},\"mode\":\"markers\",\"name\":\"\",\"scene\":\"scene\",\"showlegend\":false,\"x\":[-1.6699001,-0.15360284,5.6879773,11.683899,11.934803,7.1001782,-3.5774813,18.0029,1.7966268,-10.396525,17.548023,12.773365,11.130697,4.799257,8.169621,15.607931,11.157954,-5.325369,4.726374,11.698414,6.289602,-3.2914512,5.976917,2.394164,9.022431,-1.0722927,11.557722,-1.8377893,21.03516,14.766894,0.111553736,2.8208477,1.9480792,8.505115,-5.743744,-2.5967834,2.5798821,-2.0719798,-2.498588,7.8850822,-12.649518,12.114857,-11.721165,7.4830284,10.548551,15.846281,10.431249,1.9934824,12.457148,-8.741609,17.51946,3.726407,-7.1672783,15.738123,8.844973,1.7496195,7.954417,-3.752363,9.064448,8.471005,-1.7947088,-6.649671,16.7382,12.331714,-8.814042,10.621919,-7.415022,-5.5291214,11.701961,10.814166,19.03476,14.749023,-4.644021,13.856513,-12.943207,-6.888846,11.400866,14.952161,-14.997588,-11.333042,-10.711009,-7.7867184,9.828676,-5.228851,-2.6137326,2.1297014,-7.144661,-5.985752,-5.065865,-5.5531855,-5.232404,15.823382,-11.648718,-5.202634,0.3575896,17.259485,-9.193286,0.40057063,-4.984572,11.16411,-3.1554618,-9.121442,0.34671542,-8.964676,18.164808,-10.3803215,-7.589367,-0.020920811,-12.611424,14.638697,-7.3476014,-2.8989692,15.343561,-7.3266225,9.4517765,-9.471066,-3.8202477,-5.4105754,12.262366,-6.3361516,-10.161912,-4.320773,1.0745203,-10.397955,-3.4161003,-0.24370629,0.76218307,12.840579,-2.549359,-0.37201604,-3.8306475,-8.776918,17.515728,-0.6348912,-9.012142,-5.263579,8.295297,15.795652,-0.59572166,-1.8605982,14.781422,-6.024256,-8.339037,10.323441,-6.651339,-10.894625,14.899958,-8.511861,-0.026812706,-5.0838304,-6.800484,-9.426016,1.5366974,-8.897095,-3.3473055,-9.829285,-8.859409,-11.298036,-14.856745,11.306469,-2.6772451,-4.512218,-11.76901,-14.611876,11.41875,-10.161427,14.861667,16.482388,8.225394,-5.108687,-8.3073015,1.4194824,10.11519,7.508427,-2.0157518,-7.1986136,9.241322,6.8014474,0.71868604,14.988442,-2.529373,10.562815,3.0841022,16.415417,16.329077,-4.495875,11.90789,-4.634569,-9.3125,-8.976649,-8.985955,10.48944,16.61622,8.074837,-5.621852,-2.1585732,-3.335837,1.354404,-2.7202857,-2.5238707,-3.6282508,-3.5279958,1.8122072,10.594146,7.0497065,3.1009228,-11.866711,-3.668758,10.528883,-0.2991509,-2.9376583,12.907347,14.870708,-8.403639,-4.083563,-3.6861296,-0.4900449,15.337028,17.26571,-0.38182333,6.991141,-2.1927457,10.594555,-13.426523,-6.924996,-11.31295,-10.406595,-8.553782,-9.613712,12.4261,-2.839541,-11.837338,15.004461,15.510199,-6.0490527,-2.0676663,-0.25569806,-8.64704,12.985846,5.4594593,-3.8338857,1.6443888,6.242145,-4.4156804,15.377012,-7.360283,-8.438281,-14.158809,-10.274972,6.9576488,-6.373261,-1.0170527,14.215043,-4.6788087,-10.69158,1.6883124,-2.4170265,-6.676007,12.187977,-6.4512405,6.3009677,-5.345462,8.905952,-1.5423679,-7.3212147,-4.1321325,17.023743,-4.1798215,-12.425716,2.0196607,-0.51088035,2.0178049,-5.692525,5.520206,10.73945,-8.154773,15.557478,10.5948515,-0.9578636,-9.285212,-10.832555,5.725446,-9.440032,-5.092082,9.406531,-2.6835928,-8.134076,-2.00147,-6.031085,-1.9760911,-6.4197216,-0.7055476,-7.534862,-3.472822,-5.2569656,14.686185,13.856919,-13.829927,-5.339537,-2.5613132,2.592656,-6.207489,16.55675,15.747943,12.43879,-12.220237,-0.09847997,-11.318291,-11.807736,16.180315,15.650371,-9.136071,10.476971,5.522695,-5.5358396,-1.9295971,-4.9829454,-3.35149,-13.06308,1.156826,2.1015577,-8.574268,15.116199,-0.33365864,-11.931079,-3.9191184,16.657694,17.407034,8.601364,12.550817,-4.373783,14.982943,-6.8641768,-9.800028,-6.04975,10.515904,-0.86969316,-5.256409,12.228081,13.6675,-4.81021,-9.322956,12.290334,-8.946856,17.424618,9.17076,-0.34873572,-10.814812,12.787979,15.453957,-0.7543911,-6.015164,-6.369378,1.8606075,-8.186372,-8.675429,-6.4772,-2.2088377,18.211262,-3.0580604,0.64710784,-0.67357486,-1.7884465,-10.46392,14.416387,-11.910025,16.57061,-5.936905,-7.106233,0.032493178,-11.008109,-3.9750822,11.35797,9.41818,15.032125,-9.717851,-12.055173,12.936083,1.1891376,-5.3631434,13.170374,-3.1046152,-11.122169,-5.783543,0.086168416,-8.654346,-7.539005,-6.249426,-1.7657969,-3.9313152,-7.9812527,-9.565222,-6.2501593,-9.363165,-4.9591107,1.9342885,-10.107539,15.36253,-3.2090414,-8.905475,-6.0666194,-6.1260147,-8.710522,3.2154021,17.542908,-3.9016356,8.352567,-3.5778286,11.168059,3.1173267,-3.6678548,-6.498758,18.574608,-12.221846,-0.5371074,-11.705865,-6.339534,-2.1722612,17.271511,9.568898,-3.8612146,-6.1141357,-2.2426026,1.1514276,9.031124,-8.0305805,-3.287961,12.667495,-3.6259031,11.433867,-8.992468,-3.714131,-5.5189877,13.18979,18.924847,-1.6900177,-7.5328565,10.848129,-12.948247,7.6380696,-10.31539,-14.583149,8.27262,13.715181,-5.975685,9.8741255,17.32987,-8.777217,7.109023,11.065386,-6.9801173,8.879281,-10.451168,-12.300939,15.342692,0.7929964,0.27062306,7.763041,-14.702268,-14.3684,0.5251435,8.938371,-12.123501,-7.8677516,0.8799397,-5.460878,-12.453867,18.35099,-9.812506,8.250838,-10.662591,-8.23291,-7.5831637,-7.5656347,-9.5317135,-6.021105,-1.8590122,11.658759,-3.8879905,-3.4514804,-11.08378,-5.9387565,13.115516,12.3790045,-3.821661,12.578752,1.3315386,-4.03379,-4.3178277,5.6055403,-12.650552,14.80317,10.374195,16.96416,6.940283,14.742771,2.618212,12.402126,-7.9348445,-5.385435,-0.73461574,-1.3502432,-4.2304955,-4.6966143,-3.6103213,5.792883,-14.625834,-10.053575,-4.491804,9.97131,11.26937,-11.303785,-0.17400219,13.479001,-14.273564,-10.491648,-7.644766,-14.924888,-0.87525046,0.45168832,-4.0683002,10.4701,10.839847,8.849261,17.404528,-4.0853486,-5.8501034,-6.2792845,-1.4993876,-1.2326597,0.27826753,15.458882,12.702949,-11.400408,13.427125,14.887769,3.1702302,11.50816,-3.3945253,1.9278833,-0.38091028,12.464808,-3.6008863,0.63112706,-10.522218,15.451994,-11.106654,13.585937,14.385499,-10.103855,-9.458203,-6.0119076,10.348809,-14.866598,-8.014735,-3.4349034,11.768709,-12.454053,17.313023,1.8161511,13.695746,17.707088,-8.424296,14.867431,-7.5612717,-12.874328,-9.204869,-1.4461882,16.371273,14.257147,-2.8205273,14.152682,17.108288,15.694454,1.5098987,17.339106,-2.5356407,-5.9221516,-4.4946136,-10.795893,-3.4059677,-11.775877,9.163968,-2.3901203,-11.846419,-11.817434,-1.2905773,-8.574505,-6.4083176,16.34603,-5.495944,-10.447766,1.2378207,17.256329,0.020026969,-8.006394,15.961158,15.229275,11.642339,12.968058,14.056671,-4.6547794,9.388794,-3.778693,11.902209,-0.5819428,17.547647,15.729963,-6.4283442,1.40417,10.964303,-6.011702,-5.0085707,-4.494599,-7.535721,-8.90394,-3.2326646,-4.6280117,-4.4784384,-1.16447,-0.737731,-7.70671,-7.0058928,-0.7221907,8.799903,18.356941,-3.352745,10.253231,-3.519896,-7.8123527,-4.1263056,1.1649585,-14.467107,10.131013,-5.236446,-3.5423083,-4.5000844,-0.7571414,15.096851,-0.58149,6.790601,-0.25161898,-2.2963252,-6.0107803,14.194134,-12.799247,7.56473,-6.790772,12.202438,-6.384905,-10.381234,-8.621607,-2.707711,15.585397,-7.537659,2.6224008,10.685405,-4.932757,-5.663307,14.859229,17.460205,-7.2271843,0.75030786,-2.4739537,13.026934,-0.23558903,14.771389,-0.4452345,1.30572,-8.081416,-1.3107634,-9.188515,-7.720926,-1.2486039,10.590369,-9.865271,0.82105833,14.219259,13.889067,-0.73923045,7.916145,-11.433663,-5.625697,10.035305,-8.655957,-8.236076,-11.866426,-11.670819,16.265326,16.660824,13.563551,14.6251135,18.178656,0.567691,16.660164,11.710021,-4.0773935,-11.093777,-14.991978,11.112719,-3.3365617,-12.180545,4.8089724,21.069635,-8.973033,1.2072512,16.839268,13.325951,-1.1802304,8.243992,9.048514,-11.065435,-5.9327254,-0.8999961,-6.2986817,9.855836,6.8613505,15.695118,-6.2841816,-7.2961273,4.794147,-4.139125,2.4331563,3.6751957,6.4526496,2.0001147,10.625806,11.302286,14.522835,7.7972097,-3.110179,12.118205,-1.1649433,-5.5782504,0.9596623,15.501911,-8.696113,-12.741565,-14.006202,10.959765,-4.1901474,-5.6882977,-5.4581795,11.16616,-3.1744962,-13.799195,-11.013075,14.759309,7.439689,18.002773,0.039992727,10.735952,0.12135492,-5.6013055,-10.943881,7.1024685,-11.221418,-5.4476147,13.662426,-10.26279,16.615845,-7.6584444,-9.217022,-6.990827,-2.221411,-5.3420835,-3.9398813,10.878556,-3.231212,10.214957,-10.9385805,-4.5256157,0.12697932,-2.8106754,-3.745642,-10.444589,-3.489343,-3.3953495,-14.440676,-3.1973262,-9.588449,-4.3729463,1.5703092,-6.9596033,-14.305104,17.651304,-6.267375,11.185594,-13.712539,-10.608658,17.973787,-8.857713,12.1813345,-12.564006,-5.291184,3.4976034,-10.400687,7.261978,-10.877542,-8.436469,-6.0621696,-3.5100393,-1.3524997,0.24568246,5.9910417,-9.307086,-10.273573,-3.2885318,15.356753,-10.68856,10.277703,10.708251,-12.90108,-3.0975828,2.086269,7.1507244,-0.46507934,17.92321,8.775341,14.125755,14.943238,5.3650904,-14.530964,1.0542105,-0.8059219,-7.4751606,15.322276,-12.264076,-5.7959056,15.657035,-3.3205266,-4.1607914,16.231749,10.343225,7.492064,11.246209,12.832605,9.760083,13.909052,-8.895499,-10.249263,-8.700193,14.174503,-1.1537815,-4.0698857,12.391061,2.6032488,-10.846969,-7.5095415,-3.6405966,11.809929,-5.2209578,-8.910625,-10.031407,-2.0607183,0.8365031,-2.8257918,15.207063,-12.378896,12.042355,-3.3815546,-11.23616,2.3910906,-10.703708,0.1492595,15.744113,-5.499488,-10.85548,12.107624,-5.7361345,16.513386,-9.538997,-7.0563226,-8.206167,0.57680386,-8.805727,-5.267152,-5.217308,-4.5570655,6.9879355,-6.627828,-13.181246,-9.116184,14.915961,15.686119,15.478389,-3.5653837,-6.4789815,-2.5421457,9.027578,10.401204,15.529697,8.603245,-8.833115,15.8079,-7.67554,-6.1203427,-7.669943,-1.1361678,-3.6574187,-2.0456314,-5.7190623,-10.474079,18.371103,-12.021596,10.339159,14.389762,2.9931724,8.669169,-13.648217,-4.9444976,-8.137551,-11.841421,-13.408858,11.640816,10.513456,-3.9811468,0.81737065,15.031077,16.035166,-4.3942647,17.677282,-5.1579905,-9.058036,1.8090852,-6.875366,2.138386,-3.9221437,-5.0973067,0.9577169,10.9377165,-8.115565,-7.1928287,17.631317,15.585981,10.75251,-9.381896,7.2205896,0.6783236,15.282999,8.4682045,-4.314228,-14.373281,12.59835,-12.747494,11.646988,-12.727593,-9.575921,-1.2027221,2.326542,-3.7737145,-3.4350834,17.788301,15.23642,-5.7809,-6.2885165,16.381237,12.974856,10.185035,-4.5069265,-6.5543838,-6.45295,6.298819,-14.416394,-4.650037,-11.307006,-3.531694,-15.194188,10.807826,-7.061932,16.27953,-11.704101,-5.114191,10.469975,-9.639882,-4.65642,-3.8725355,15.3829155,-1.1356515,11.073398,10.860084,-3.0844517,-13.466089,-4.5767565,15.575179,-6.2569475,-5.2854795,13.322934,14.1646185,12.741851,11.562295,-12.813036,-13.077712,7.343787,12.697194,-4.315662,-6.831535,-13.142999,13.043158,12.535025],\"y\":[5.75408,-8.487559,11.464821,-3.238463,13.349771,-3.6974876,-10.607467,-0.92794365,1.7084699,2.5636582,-3.8866835,10.697938,-2.2714787,9.456447,5.5052724,4.8861485,-2.392536,-7.585098,10.801234,9.009598,-3.8637865,11.139878,9.888623,1.2742555,-0.30343527,12.672505,9.802909,1.4220834,4.188389,2.4165328,1.3103083,-8.191302,8.672354,3.8567007,-1.2026712,11.335735,0.33788294,1.6854863,10.016254,-3.9825282,-8.110365,3.131401,-4.411719,1.3581821,4.0868244,4.453025,4.0946016,1.2161757,10.431066,-8.909888,-6.026534,9.610064,-0.38117194,4.4683924,-2.889401,-15.01919,-5.0354114,-1.5198933,3.4123769,8.115541,-1.8182908,-3.9955904,7.9678965,2.591868,-5.290076,4.476076,-6.356588,-7.2733326,10.188202,-1.0513246,3.4194028,-0.95204014,7.8261466,-5.6028676,9.715307,8.331933,9.353664,4.119745,7.2383814,6.5813966,6.282458,10.177697,10.360197,-4.1902924,-9.957588,-6.254113,-11.765696,-9.886199,-4.120224,10.367202,10.012614,-4.084002,-2.9449759,-10.713038,-13.153319,6.873271,-0.68286556,-6.1133394,-5.1610875,9.271587,8.829645,-8.7621155,-6.0716825,-1.1069857,7.0204043,2.0505064,-2.0577407,-10.392329,10.347816,3.2856848,9.4064665,10.814125,-6.244854,7.6870446,12.476149,9.860651,-14.484445,-10.7906475,-4.4407163,-5.61435,9.493384,-2.5468848,-9.049533,-6.3730445,-2.1516926,-7.363816,-12.829492,-2.554979,-9.243664,-7.4674845,-4.0715413,-0.741575,-5.281306,-10.716579,-10.088018,5.6328015,11.327557,-4.6019588,-6.1411443,-2.0147467,-5.3751144,11.617796,-1.2206386,11.646805,-6.6148896,4.438614,-2.090655,-7.8339386,-6.9129653,-0.546008,10.402244,8.707327,-5.041622,-1.7710754,10.050389,-1.4317164,-6.628896,-7.845552,7.0151086,-4.678141,-13.580784,-1.7696077,5.3593335,6.9625793,-2.9605665,-9.493949,-5.4453287,1.8951607,8.113868,-1.9192809,-2.2159908,-5.52101,-0.8895856,11.942375,-2.271522,-9.434615,-2.5036416,11.299235,-7.1522617,-3.2636545,-3.8328626,1.0938125,-9.217845,4.3421993,2.639149,-13.709875,3.6260662,-3.998914,5.7926774,8.628981,-8.103648,12.388167,-4.459868,12.54195,-13.883536,-12.123417,-4.6333156,-10.553608,8.588213,-2.4001696,-2.3683717,-0.80517703,-12.381487,10.4871435,11.770821,-8.44789,7.1968055,-2.9942243,0.33003116,-5.0241313,-3.1984992,4.378408,4.809264,10.710993,-2.6478698,-3.2922575,-5.369412,4.681195,5.6653485,-1.8676105,12.295579,-8.171037,10.20998,10.009809,-12.787114,7.957142,-4.4694657,6.1524124,-10.259703,2.3604522,-11.309453,-3.1190362,-3.604666,-4.196599,-9.243821,-7.980137,-3.0756402,8.350321,-2.2540736,11.6874075,-3.2814,-7.311803,9.375435,-10.080587,-0.08315071,-11.971532,5.648415,5.7432137,-4.293615,10.476625,-1.1145893,-2.2134347,-0.8641696,-2.0484679,2.6751635,-0.8639281,6.318263,-10.698336,2.94257,-6.472474,10.445855,-2.709958,12.920485,-3.561388,-0.13183834,-9.974535,-4.0815463,-13.475201,10.241071,-10.1138935,-9.592498,-11.358332,7.003855,10.155416,-3.547181,-5.0414166,6.809827,12.44207,-9.521273,5.56167,-4.980808,9.880031,4.1938705,7.195739,11.721906,-9.32395,-6.497184,-8.197146,-11.384687,8.305149,11.354708,-10.469577,-1.6409562,-8.783946,-4.167028,-6.261398,-1.8361998,5.819219,-1.9983628,7.0983157,-6.0521183,-11.388483,3.4412072,-0.5524725,-0.2797243,7.0429397,-7.38013,6.651964,-7.618156,2.9800348,2.251934,-7.6392813,1.5204495,11.26203,-4.9533615,7.4045725,-2.2184818,-9.85301,7.3547826,-11.88294,-6.439465,6.4652743,-1.9781293,-5.1480265,10.129434,9.714601,-3.1046731,-3.4397252,6.9692597,-1.3273659,-13.74865,6.026369,-4.3980227,0.5335417,-9.605701,8.92579,-7.1845245,5.131779,3.4392774,5.848012,5.5456886,4.5350237,-4.71986,-2.5155783,-1.2575731,8.466043,-10.759715,-9.50703,-3.0688741,5.841438,-1.2253696,6.4111214,-6.299478,-11.082033,-6.500353,4.499026,-1.6081723,-6.8423505,5.8366823,11.793062,-7.6770234,-7.000636,1.0280141,-6.984514,-2.7257478,5.1536775,3.6689923,-13.106285,-10.949788,-11.070382,-5.487373,-3.3206549,10.607856,6.1582117,-1.9932599,-5.2801967,8.54637,-0.86463076,-12.100927,11.389725,-3.9913073,-0.6128738,9.067921,6.666409,-7.755637,-0.7352152,-1.275678,-0.956072,-2.9328759,10.722451,-6.7489324,-0.13749835,8.5468,8.114227,-8.706833,-11.221383,2.1150005,0.060151465,9.382264,4.9619164,-5.183735,-6.3489423,-7.5927405,-8.957363,-0.8976728,-13.311483,9.320085,0.6293775,-5.861128,-9.3015785,-10.062524,10.378724,5.6019917,6.5539136,-10.460687,-3.7636526,-9.045463,-8.285079,-3.8649967,8.291285,10.943731,-3.6299725,-8.201376,-6.297911,8.034212,-10.809168,-10.930851,-0.81158435,7.4652042,9.009087,9.945749,-12.941508,-4.576039,-0.7754816,3.984862,-3.9232259,-11.032464,10.1145315,9.925338,11.510235,2.807925,6.5710697,12.030484,9.574081,-2.8966768,-2.841099,2.9158084,-3.9867625,9.511084,0.88188255,-6.3154774,11.396614,-5.853327,6.9150724,-5.2901473,-13.036433,-2.268128,10.971981,7.529297,8.501843,-8.255973,10.719485,-4.351179,5.5464144,-0.34249654,9.855821,10.6760645,1.807495,-9.589547,8.879064,9.027417,-12.729182,-12.358657,6.326966,-5.212321,-13.4789,-11.588132,-0.3750416,4.9392056,-10.315341,-7.224871,-5.41812,0.11061896,8.78073,-14.013034,9.850053,-4.912254,7.119886,5.726988,12.72756,5.7252846,-5.837575,0.72375053,3.4501534,9.278785,-1.4142216,-9.644839,-5.27954,-2.7608,9.472572,-6.3090773,0.89388835,10.595645,-3.9170616,6.967093,12.177885,8.36734,-8.694448,7.400896,1.5460353,12.756622,-8.341922,-7.9231024,5.2067833,6.9026866,-3.7298164,-1.5900679,8.014598,-1.2375965,-8.051533,9.765812,8.967619,3.2700293,6.616059,6.4172435,-15.058939,6.200856,-11.474624,-2.0444074,8.119161,-5.9903035,3.8919547,-5.858143,-5.153256,-5.4455843,2.0664716,-9.281465,10.527066,3.583814,-10.179085,-2.96601,-2.8826377,-9.922348,-6.479116,-9.909966,-6.790291,3.5409198,-2.6827583,-0.9100246,3.9640336,-2.275133,7.251428,10.739961,7.1387973,-4.521426,-12.584758,-5.832464,8.885434,-3.6323903,-1.1247942,10.096332,5.570646,-5.176861,-2.64695,-6.319723,6.619019,-7.870131,0.48718104,-1.3294252,-4.106707,6.6378226,-4.933019,-0.31797478,6.1890626,-8.532688,2.5065389,-8.45311,-10.582643,6.9055643,9.838625,10.218089,7.892137,6.682363,-8.912679,-7.6259303,7.056504,7.7416472,-4.111774,-13.381473,3.741164,-6.812172,-5.3512764,-0.045517668,-0.37809888,-1.3105125,-0.81064,-1.2511686,4.5859423,-0.45164987,9.606269,-4.9252844,-2.0582798,1.8696243,-11.878668,-2.3036346,-6.201721,-2.864498,7.205092,-6.153981,-5.148559,2.5943384,10.252544,9.547161,6.460138,5.334165,-5.5267725,-4.3971624,-4.8327074,-2.340206,8.0484915,1.016842,-1.4928795,-0.7610247,-0.52037144,6.7193704,-0.07961389,-13.49888,13.094051,-0.44687632,5.7397895,3.2152722,-9.7668705,8.735945,9.608363,10.417535,3.7999551,3.9465768,0.52229017,-4.989953,-1.4615672,11.7206955,-5.158835,-12.015587,11.342234,6.380681,5.3410716,9.052228,5.939872,1.1711365,7.4830503,-4.4151907,-7.686216,-1.201669,-5.2339783,-9.545848,-6.589341,9.8004675,6.9063997,-0.5941491,3.428198,2.790957,-1.4553888,-0.25238788,6.6156535,-2.637603,-3.3757296,-4.9759474,-10.687646,-10.802205,-8.7249365,-2.3754597,4.215771,-1.8251957,-0.4064721,-3.8154008,-2.9642258,-5.7975,-6.6789036,-1.6980356,-10.729046,7.7567635,-5.066687,5.7274976,-1.1594753,-5.9922147,-9.2858095,4.1691566,-8.9151745,-4.1103005,2.349163,6.0778475,1.8939377,5.4421473,-3.8154733,-5.9118996,-6.119162,11.102023,8.123373,7.2567844,3.775833,-4.669343,4.850673,9.463091,4.1943536,4.1454053,-14.247828,-3.3849206,6.2811303,2.3028593,1.44021,3.9534895,-7.159591,-1.3967853,12.789787,4.5791826,-5.062739,-3.7695227,3.7381394,4.5659194,-3.4718325,10.867521,-15.510638,-4.462001,9.53654,0.91610926,8.674983,1.1700934,-6.686058,-2.2271278,-3.517954,-3.4865751,10.034738,-0.2128388,-2.7414925,-2.4287364,-4.4173527,10.139058,5.1452136,6.392079,2.8951967,-0.47956887,8.332916,7.604797,1.5053406,9.6251955,5.8709345,9.838349,-6.278526,11.181731,3.057294,-7.9039373,10.7444725,-13.511446,-13.874006,-5.5277343,11.71708,6.59995,-2.9773479,5.428377,-8.981907,3.9083245,-1.7991834,-3.5142496,-10.754996,7.1276608,-13.070058,-13.3856945,11.784018,-9.7953825,13.125738,6.553586,5.1921296,0.8047831,-11.144805,8.932477,-6.07773,-0.49685913,-4.2400036,8.681371,8.078893,9.644566,-13.184333,-5.776173,10.200686,5.5673094,3.1485002,-3.397715,-3.7636786,7.3717413,8.420408,-1.4661685,7.2448044,2.383639,7.4833264,-14.045881,-9.256492,-3.8842552,9.939501,8.83414,-7.27954,-2.6978946,0.23836812,-1.4920967,-7.9593043,12.102482,-9.5836115,-3.8885448,-11.813864,-5.483412,-5.2339416,10.010446,0.40912372,8.003032,10.889872,-6.094546,9.356291,-6.0284495,0.25787377,-2.0852358,-2.884934,-2.7047281,10.979394,5.9906597,-4.778767,-7.3684382,-12.296187,-5.38165,7.477223,9.322541,4.6219025,-12.876274,11.079405,7.293674,0.8933357,11.438075,-1.9406337,10.582338,12.755908,-2.9007812,-3.7146428,9.292916,-0.99495703,-2.9953263,-9.803018,-10.852249,-5.435697,-7.7418275,8.935864,9.880517,-2.1026187,-5.711266,9.657775,-2.7591476,9.27629,-2.545281,-8.995619,-2.603339,-6.9973326,7.603522,2.4002318,9.765294,7.514436,-1.7845476,10.194083,-7.6729174,-4.4324136,-11.404945,8.213449,-2.5297587,11.089086,-1.4475473,-2.5386326,-11.766633,10.128978,-12.561856,-3.5396202,-8.527735,-4.5856524,6.232998,10.3993,11.607154,4.5908446,4.176793,-0.43920437,-0.036857463,-6.140628,8.3308525,-1.8532674,6.6888614,1.523834,10.460869,2.7306929,7.4923787,4.7428045,4.0565467,9.885644,6.276272,-10.111354,-2.252147,-5.9638395,-7.7280545,-2.7761981,-4.9468093,0.3511215,10.250095,10.826126,-1.7318153,-7.5031,7.0701437,9.715936,-7.673778,-3.7949398,-2.6842883,9.619763,2.1775072,13.28572,5.0896587,-8.239375,-6.626169,-5.105653,9.5152,-5.1490746,-5.700393,6.1337113,-9.375806,11.255546,-10.451068,5.5948477,-2.1411238,-9.401901,13.743369,-3.270004,-11.858756,1.9943483,-0.6320917,8.740138,-0.94576305,10.438789,-7.205375,-3.1181254,8.650961,-4.021254,6.8642206,-6.0978885,6.7398477,4.1019855,5.647088,6.3615236,-8.687941,-10.200107,4.632385,0.25359505,0.13174821,-2.8817792,-0.6392445,-8.993304,-5.806978,2.9808755,0.8681274,-4.1930037,-13.293581,-3.5743575,11.089772,7.431609,6.830857,-8.735852,-8.258158,7.568638,3.0945213,-4.087653,5.6358137,8.508486,5.2626743,12.981127,6.2398796,-10.895036,-10.391548,6.0759096,-0.22602127,-3.796021,2.9448154,9.045593,5.520119,-12.831536,5.418038,-6.3937864,-4.3106914,-1.901117,-4.468814,10.404369,-3.846233,7.775487,4.9971604,10.359489,3.9285433,5.8052263,-6.4396534,7.2402096,-1.1070694,10.273458],\"z\":[0.45928118,2.1402907,-3.3779004,-3.9935467,1.1586446,-0.17497244,4.8187537,-2.4773118,0.12798445,3.0087943,2.8694704,-3.3678155,5.341815,4.668327,-1.8895639,-4.8116527,5.3658533,-0.22869869,-4.5014496,-3.9630895,-0.25024197,-0.9465036,3.8373313,0.3214885,2.4510841,-1.8713831,-3.3927255,-2.3044941,2.6709323,0.7073542,-1.6546239,1.8666908,4.2337537,-2.629159,3.1813638,-2.5144703,-2.9183044,-2.534508,0.66243786,1.1990901,0.89261514,-2.1625824,-2.0387113,3.4853067,-1.5484394,-5.397225,-2.4742343,0.22819598,-3.3613808,-2.5018165,-0.016666405,-5.492699,2.5196834,-5.2013645,-1.3346453,1.3738483,1.9574246,5.4970937,-2.5095723,-2.7258596,4.0573115,-5.1097083,-0.9049962,-2.136878,-1.609442,-3.2277515,2.1244311,0.27601278,-2.4353132,-0.14379486,1.2076629,-2.8838105,2.6974888,-1.3547155,-3.175508,-1.9631457,-0.4390255,-0.51349074,0.37606525,2.1984167,1.9913921,-2.1145942,2.999949,-4.980647,1.550373,-0.54536164,-2.6866016,-0.36242482,0.6398695,0.74562716,-3.1535144,1.6519724,-2.4393735,4.124805,0.63599235,-0.043649014,0.10247152,-2.1410394,-6.5754085,0.67165285,2.2252316,-1.0033642,-2.1252573,3.1252172,-1.2605798,-0.52021515,-3.3983073,-2.0864706,-2.5045257,-1.3046453,0.80790055,2.7935252,3.4819915,-0.28189757,-1.2801152,0.19611205,3.1382954,4.322001,-2.6960225,-7.4631176,0.47253844,0.34231082,-2.2384205,-1.7877669,-6.485345,0.33014193,-0.826347,-2.9754667,0.9741357,-0.80141467,3.3293357,0.8350424,-1.0477711,2.3575943,-0.5988465,-1.9099044,1.9841018,-3.3864987,1.4151258,-0.3451847,-0.85824275,-0.55770546,3.6827838,1.7877574,-8.089486,0.8324115,1.5053875,0.5686109,2.0414364,-2.042962,1.5114166,-2.552614,-3.9485302,4.375294,-0.018574145,-0.0010837831,-1.3526561,-1.0564418,-3.1793456,-0.6302936,3.1661084,5.125827,-2.3529398,2.0843568,-1.7531723,-1.5868388,-1.7258401,1.8930521,-0.5056174,-6.5775104,-2.906096,-2.1759343,1.5338488,-0.381644,-4.259907,-0.8905715,-0.2422178,-0.8214594,2.50217,-3.9510767,-2.381002,0.33274555,0.56985104,2.789739,2.4452522,3.6828806,0.32781813,3.5250733,0.48126653,-1.9375801,0.16005275,0.88614947,1.63093,-1.2857326,-0.5573971,4.100918,-2.3309097,-2.5977557,3.3851311,-6.1729474,1.9906592,-1.6275402,0.1759952,2.8457005,-2.1267352,2.0852456,4.03144,2.0912707,-0.21642065,3.5706632,-4.5559716,2.0191054,-1.9440962,0.4370113,0.36027223,-1.8384507,2.8601832,0.7141368,-0.9637049,-0.074823834,-2.5967908,-2.0532963,1.7532164,-1.3326644,-0.8229847,3.4383736,-1.0321397,1.5345743,-0.2006964,4.3233414,3.380387,-2.4155805,-2.8689454,-3.5800695,3.7203708,-2.4497533,2.783175,-1.6062708,-2.9466355,-0.8138636,1.8105272,-3.8464086,-0.08732224,0.11650291,-0.977566,-1.0403515,-1.6113596,-1.0228199,-0.48585933,3.250252,5.8290033,-2.1325047,-2.9533043,4.848827,0.14888777,0.42246342,-1.8603355,1.3360941,4.453782,-8.415048,0.48483467,4.1604576,0.5295268,-3.1691163,5.0224156,-0.13205004,-2.7734694,0.4944092,-2.7108324,-4.233257,-3.3749757,1.6233951,-3.4934344,0.36438328,-1.404576,4.185462,-0.36445057,0.7489165,-2.3394487,0.2639647,-1.1147441,0.54579514,0.91692835,-0.36852753,-1.3198345,-3.3527358,-5.1112165,-1.5302036,0.17005064,3.0020123,1.0513333,-1.0085032,-3.1856833,-3.6009364,-4.791413,0.9876665,0.8887366,1.8331829,-3.3697915,-1.070428,0.32733998,2.616085,-0.07502622,-1.4132482,0.7155058,-3.466309,-3.5685146,-2.7258167,0.8504798,2.713852,2.4919143,1.9638153,1.0340289,-0.27260122,-1.2495582,0.389613,-6.647192,2.50031,-2.8838158,0.38260114,-0.23213616,-3.2125857,-3.2798972,-0.686699,2.1322148,-2.18692,-3.7459424,-1.7642319,1.3275371,0.067607395,0.6146109,1.0819254,4.698528,-0.30280724,-0.8287196,0.14724723,-0.12762824,-2.1361125,0.03325852,2.0060406,-2.952907,2.793552,-2.6865838,4.691941,-2.095076,2.170835,3.0844555,1.3322929,-2.491604,1.3464327,-2.2598665,-3.5283039,-9.175929,1.5298316,-5.1484237,2.7525947,1.84988,-1.1748466,0.36832514,-1.5811318,0.65294224,-2.6099079,1.6433526,0.34290764,-2.6673248,-1.974515,-1.7979915,2.8823936,1.1126884,-1.7466313,-3.785527,1.6167725,-0.18665864,0.02567563,-3.323224,-2.4900043,-2.3482425,-0.23121099,0.8761396,-1.4957333,-0.61297226,-0.09091858,-3.4321008,3.0061753,-0.05423463,-0.32443577,-3.0773735,-2.600631,-5.5614095,2.4888182,-3.5338366,0.061927877,-4.242898,-1.8823481,3.4450312,1.4534392,-0.7511323,-1.3718276,-0.92754984,-1.1353449,-7.4003105,-3.3576531,2.0121384,1.6248407,-0.33052593,1.3728619,-1.8316505,0.5129599,0.09838608,-1.4359256,-2.3669505,-1.29935,-1.7261347,-2.3952122,-0.16101432,-2.2642062,-1.8338976,2.1372633,-1.8261149,2.0319316,2.603748,-2.9890707,-2.3447716,1.0225351,-0.54408,-0.28827715,3.4663374,0.41171739,1.8849602,-0.19799115,-0.19644572,4.2569656,-5.3344655,-1.4939636,0.5924494,-3.3011894,2.4079735,0.5644467,-1.9248585,-2.5403695,-0.33879668,0.39800707,-1.8616867,0.6902166,0.6043215,0.21208207,0.37742156,3.4817665,2.3298967,-1.2448982,-3.6319468,1.5202934,-1.8331587,-3.0780966,2.845221,-0.2562889,-4.716195,1.4900681,-0.27810103,0.9346315,-0.22670287,-1.7080152,-2.801154,3.6059756,-0.86922204,-3.1415963,-2.615104,0.6911519,-1.2896295,-0.15952079,1.1718897,3.320274,-2.7468944,-2.4874132,-3.1961615,-0.10673653,3.7096477,1.9682487,-0.3089943,-0.99838024,0.17998336,-4.396138,1.3215998,1.7769665,3.4734015,1.1121362,-3.1451464,2.582737,-2.045592,-0.46753818,-1.0391222,1.654274,3.6919541,-0.30324897,-0.15780745,1.420066,-1.8902522,0.5655038,3.55057,1.4062408,1.3850597,-1.9350014,-2.177463,0.2737514,1.7918224,-0.13943867,-1.763648,2.0620165,3.1775715,0.7214189,-0.042213365,-0.69669473,-4.5390897,1.6264478,1.3790078,3.4016008,5.766065,-0.99436796,-2.509022,-3.8674781,3.83656,3.4308321,3.5963917,1.5280898,-0.5716561,2.140122,2.7979758,2.4782574,-4.4139104,1.2326751,-2.2587574,-1.5086716,-0.88272625,-4.037852,1.8245329,2.4838667,-0.38776144,2.3070974,1.6074181,-3.8377936,-0.32754853,0.45904115,-2.638361,2.4791677,1.023306,-1.300716,0.41735345,-0.77767307,1.1412169,0.6519248,1.8249313,-1.167683,-1.0899242,-3.2210457,3.938581,-1.5570978,-0.38159773,-4.4636064,-2.8474007,0.45967972,0.45881647,-1.1877608,3.8294275,2.7388897,-5.9662056,3.6124325,-2.3260696,-1.7655997,1.9406807,3.130415,0.9249001,2.365726,-1.5942379,1.3876036,0.98845965,2.420111,2.0709414,0.121394105,-0.81764174,0.518624,2.4146385,-0.6999489,-0.2532859,2.720702,0.6993972,4.321892,0.51553655,-3.245802,0.60187405,-1.7077593,-3.3057852,1.4702227,1.0294042,-0.6886498,1.5691788,3.7914803,-2.3125432,-1.9615746,0.9809966,0.7293242,-2.5532868,1.542108,0.82502925,4.0867224,1.1526426,1.6819047,-1.1516222,-0.16563742,-6.951488,0.28511235,3.5300634,0.3981773,3.3836057,-3.020693,2.5525427,2.8809526,-1.3765851,0.8105507,-6.656666,0.95312446,1.2775004,2.9430575,5.631532,-2.1168764,0.88097626,0.98001355,3.2095838,-1.4876837,0.9768944,3.7007678,3.041594,-2.5354927,-2.4826097,3.2020304,0.9127678,1.6777086,3.5553901,1.4869633,2.9500742,2.5178556,-2.1789541,3.7162125,3.8920956,-1.1106852,-0.14394055,-2.4442744,-1.0758103,-1.1462996,0.9779002,-4.0419183,-1.0770159,-2.3028948,0.18549849,-1.920934,-1.3754166,2.0835786,1.5172652,-0.96260154,-1.4129968,-0.7823124,0.8368504,2.1090033,-0.44622415,-0.338527,0.013623492,2.95145,-3.5363076,2.9033582,-2.5854766,-1.1986719,-0.044405077,2.2566495,5.811813,2.4322932,-0.17683147,1.3161488,3.4820106,2.5629992,-0.66265345,2.1784005,-0.2675344,-1.9903231,-3.504659,1.3723257,5.2757683,-1.1473526,0.60632706,1.1060302,2.215107,1.7182591,-1.087692,2.5255754,-1.3254584,-3.8137321,2.3068056,-1.0373058,-1.9944922,3.318508,-1.7384491,0.5585642,0.27851972,4.7406855,4.637417,2.6924543,-1.3594806,1.2745262,0.75776505,3.918571,1.4260931,3.385871,-2.7403595,-1.4312112,-6.251642,-1.8938003,6.8556666,1.3764584,-0.061082985,-5.27886,6.8827147,-2.2346208,-4.433072,1.3823864,-3.4098842,-5.553582,-0.32190132,4.2597795,-0.54776317,-1.2423342,-4.370842,1.0159812,-4.4799876,-0.70454645,2.2187524,-8.377486,-4.2272906,2.9329069,0.12896198,0.3372198,1.1421101,2.549196,-2.3613377,-1.7628741,-1.2906691,4.589445,-0.9222778,1.5782912,1.821038,2.466628,0.92706805,0.69857115,1.6165456,-0.5931985,0.99061054,-0.4096225,-0.19491634,-1.0404259,2.1725929,4.061061,1.1653949,1.9642608,2.184784,5.9860125,-2.134488,-1.7495817,0.3415667,2.711513,1.4222242,0.290215,2.8412304,0.7033908,1.8951153,0.307749,0.028653575,3.1292741,-2.4343536,1.7658873,0.8320399,-0.80501854,-2.671023,-1.8246669,-1.4182756,2.2836952,-1.850515,1.2523296,-0.36266348,1.5554743,5.249475,-0.104681574,2.900194,4.0111995,-0.31602523,-1.1071631,3.7989066,-3.8922715,0.4807962,1.1154444,0.68823683,1.8764592,-1.2123188,1.0699588,0.622293,-0.5052782,-3.5633738,2.7064235,-0.9128228,-1.4219077,3.7197852,-1.5636189,-0.41323745,-4.6209826,0.75767523,4.600308,-3.358525,2.6318934,-1.5809005,2.242164,-1.8848242,0.13217703,0.24902938,-1.4523304,2.844436,0.10839934,1.9846877,-0.091969594,-4.6671233,2.9116757,-0.22141,1.8180643,-3.5861168,-0.7820924,-1.7696501,-2.0984938,-0.3611242,3.8289118,1.571651,0.81927,-0.2543581,1.1514987,3.168684,3.3878946,-0.83848363,3.130103,-2.0110288,-1.838017,1.993762,0.8656666,-2.845085,-0.74672866,1.2784563,-6.624555,-0.50246423,3.4435918,4.1506886,-0.28642806,-4.9847603,-4.231199,-2.41727,-0.14578941,2.7112882,4.090017,0.96454805,1.9458581,0.39722598,2.13366,-3.9614508,-3.1638403,4.377968,3.68097,1.0106149,-0.14858286,2.4862537,1.6376404,-2.4146206,1.5929296,1.5917281,-3.1309052,3.5703013,-0.6825468,0.41437095,-1.6836917,0.43321982,-2.8301542,2.1781135,-3.7944486,-1.1772804,2.9499335,-1.6505585,-3.1727912,-1.1423191,3.38887,1.4679012,2.205818,0.18724574,1.5765059,2.9509034,-2.0169592,-1.8125805,-0.47551924,-4.659085,-7.3450103,-1.7261882,4.080596,1.3694366,0.5207162,1.9319928,3.1053233,0.66965634,2.4279811,0.22962682,-1.4552048,-3.2349167,-3.242048,-2.434641,-3.1065543,2.8470728,-1.0002598,1.1460199,-1.9272282,0.49338758,2.9372056,2.9377017,-1.2252345,-7.3318777,-0.633494,-4.043931,1.5498376,1.7229519,0.4268457,-3.4499633,-4.076091,-0.16139802,1.8087039,-3.3124254,0.49979353,-1.4227285,-0.29205298,-0.14319064,-2.4867995,2.003923,2.906089,-2.0994124,3.3899438,0.8857092,0.32745805,-2.2604933,2.6164477,-0.762299,-2.9078953,-2.3980367,2.643954,-0.3105681,-0.057045855,-0.07223986,-3.234272,-2.1002345,-1.8344826,2.4221063,-0.40888178,4.0834427,0.34852168,0.935381,-2.9465425,-0.8533504,-0.92981684,-0.9792141,-0.6488169,-3.1754253,-3.5982058,2.069597,4.1970663,-0.71947163,0.09674672,-3.253931,-0.9261532,0.587738,0.86988723,-0.72037154,0.11240923,2.1624796,0.40796143,3.1483846,2.342831,2.3274488,3.9322689,0.36723095,-2.981108,-0.16167508,1.554117,2.5080132,0.7528113,-1.2068028,-3.870398,-2.3778858,-2.4217029,2.057028,-0.5592328,-6.801983,2.8591511,-0.6703197,-0.4231883],\"type\":\"scatter3d\"}],                        {\"template\":{\"data\":{\"histogram2dcontour\":[{\"type\":\"histogram2dcontour\",\"colorbar\":{\"outlinewidth\":0,\"ticks\":\"\"},\"colorscale\":[[0.0,\"#0d0887\"],[0.1111111111111111,\"#46039f\"],[0.2222222222222222,\"#7201a8\"],[0.3333333333333333,\"#9c179e\"],[0.4444444444444444,\"#bd3786\"],[0.5555555555555556,\"#d8576b\"],[0.6666666666666666,\"#ed7953\"],[0.7777777777777778,\"#fb9f3a\"],[0.8888888888888888,\"#fdca26\"],[1.0,\"#f0f921\"]]}],\"choropleth\":[{\"type\":\"choropleth\",\"colorbar\":{\"outlinewidth\":0,\"ticks\":\"\"}}],\"histogram2d\":[{\"type\":\"histogram2d\",\"colorbar\":{\"outlinewidth\":0,\"ticks\":\"\"},\"colorscale\":[[0.0,\"#0d0887\"],[0.1111111111111111,\"#46039f\"],[0.2222222222222222,\"#7201a8\"],[0.3333333333333333,\"#9c179e\"],[0.4444444444444444,\"#bd3786\"],[0.5555555555555556,\"#d8576b\"],[0.6666666666666666,\"#ed7953\"],[0.7777777777777778,\"#fb9f3a\"],[0.8888888888888888,\"#fdca26\"],[1.0,\"#f0f921\"]]}],\"heatmap\":[{\"type\":\"heatmap\",\"colorbar\":{\"outlinewidth\":0,\"ticks\":\"\"},\"colorscale\":[[0.0,\"#0d0887\"],[0.1111111111111111,\"#46039f\"],[0.2222222222222222,\"#7201a8\"],[0.3333333333333333,\"#9c179e\"],[0.4444444444444444,\"#bd3786\"],[0.5555555555555556,\"#d8576b\"],[0.6666666666666666,\"#ed7953\"],[0.7777777777777778,\"#fb9f3a\"],[0.8888888888888888,\"#fdca26\"],[1.0,\"#f0f921\"]]}],\"heatmapgl\":[{\"type\":\"heatmapgl\",\"colorbar\":{\"outlinewidth\":0,\"ticks\":\"\"},\"colorscale\":[[0.0,\"#0d0887\"],[0.1111111111111111,\"#46039f\"],[0.2222222222222222,\"#7201a8\"],[0.3333333333333333,\"#9c179e\"],[0.4444444444444444,\"#bd3786\"],[0.5555555555555556,\"#d8576b\"],[0.6666666666666666,\"#ed7953\"],[0.7777777777777778,\"#fb9f3a\"],[0.8888888888888888,\"#fdca26\"],[1.0,\"#f0f921\"]]}],\"contourcarpet\":[{\"type\":\"contourcarpet\",\"colorbar\":{\"outlinewidth\":0,\"ticks\":\"\"}}],\"contour\":[{\"type\":\"contour\",\"colorbar\":{\"outlinewidth\":0,\"ticks\":\"\"},\"colorscale\":[[0.0,\"#0d0887\"],[0.1111111111111111,\"#46039f\"],[0.2222222222222222,\"#7201a8\"],[0.3333333333333333,\"#9c179e\"],[0.4444444444444444,\"#bd3786\"],[0.5555555555555556,\"#d8576b\"],[0.6666666666666666,\"#ed7953\"],[0.7777777777777778,\"#fb9f3a\"],[0.8888888888888888,\"#fdca26\"],[1.0,\"#f0f921\"]]}],\"surface\":[{\"type\":\"surface\",\"colorbar\":{\"outlinewidth\":0,\"ticks\":\"\"},\"colorscale\":[[0.0,\"#0d0887\"],[0.1111111111111111,\"#46039f\"],[0.2222222222222222,\"#7201a8\"],[0.3333333333333333,\"#9c179e\"],[0.4444444444444444,\"#bd3786\"],[0.5555555555555556,\"#d8576b\"],[0.6666666666666666,\"#ed7953\"],[0.7777777777777778,\"#fb9f3a\"],[0.8888888888888888,\"#fdca26\"],[1.0,\"#f0f921\"]]}],\"mesh3d\":[{\"type\":\"mesh3d\",\"colorbar\":{\"outlinewidth\":0,\"ticks\":\"\"}}],\"scatter\":[{\"fillpattern\":{\"fillmode\":\"overlay\",\"size\":10,\"solidity\":0.2},\"type\":\"scatter\"}],\"parcoords\":[{\"type\":\"parcoords\",\"line\":{\"colorbar\":{\"outlinewidth\":0,\"ticks\":\"\"}}}],\"scatterpolargl\":[{\"type\":\"scatterpolargl\",\"marker\":{\"colorbar\":{\"outlinewidth\":0,\"ticks\":\"\"}}}],\"bar\":[{\"error_x\":{\"color\":\"#2a3f5f\"},\"error_y\":{\"color\":\"#2a3f5f\"},\"marker\":{\"line\":{\"color\":\"#E5ECF6\",\"width\":0.5},\"pattern\":{\"fillmode\":\"overlay\",\"size\":10,\"solidity\":0.2}},\"type\":\"bar\"}],\"scattergeo\":[{\"type\":\"scattergeo\",\"marker\":{\"colorbar\":{\"outlinewidth\":0,\"ticks\":\"\"}}}],\"scatterpolar\":[{\"type\":\"scatterpolar\",\"marker\":{\"colorbar\":{\"outlinewidth\":0,\"ticks\":\"\"}}}],\"histogram\":[{\"marker\":{\"pattern\":{\"fillmode\":\"overlay\",\"size\":10,\"solidity\":0.2}},\"type\":\"histogram\"}],\"scattergl\":[{\"type\":\"scattergl\",\"marker\":{\"colorbar\":{\"outlinewidth\":0,\"ticks\":\"\"}}}],\"scatter3d\":[{\"type\":\"scatter3d\",\"line\":{\"colorbar\":{\"outlinewidth\":0,\"ticks\":\"\"}},\"marker\":{\"colorbar\":{\"outlinewidth\":0,\"ticks\":\"\"}}}],\"scattermapbox\":[{\"type\":\"scattermapbox\",\"marker\":{\"colorbar\":{\"outlinewidth\":0,\"ticks\":\"\"}}}],\"scatterternary\":[{\"type\":\"scatterternary\",\"marker\":{\"colorbar\":{\"outlinewidth\":0,\"ticks\":\"\"}}}],\"scattercarpet\":[{\"type\":\"scattercarpet\",\"marker\":{\"colorbar\":{\"outlinewidth\":0,\"ticks\":\"\"}}}],\"carpet\":[{\"aaxis\":{\"endlinecolor\":\"#2a3f5f\",\"gridcolor\":\"white\",\"linecolor\":\"white\",\"minorgridcolor\":\"white\",\"startlinecolor\":\"#2a3f5f\"},\"baxis\":{\"endlinecolor\":\"#2a3f5f\",\"gridcolor\":\"white\",\"linecolor\":\"white\",\"minorgridcolor\":\"white\",\"startlinecolor\":\"#2a3f5f\"},\"type\":\"carpet\"}],\"table\":[{\"cells\":{\"fill\":{\"color\":\"#EBF0F8\"},\"line\":{\"color\":\"white\"}},\"header\":{\"fill\":{\"color\":\"#C8D4E3\"},\"line\":{\"color\":\"white\"}},\"type\":\"table\"}],\"barpolar\":[{\"marker\":{\"line\":{\"color\":\"#E5ECF6\",\"width\":0.5},\"pattern\":{\"fillmode\":\"overlay\",\"size\":10,\"solidity\":0.2}},\"type\":\"barpolar\"}],\"pie\":[{\"automargin\":true,\"type\":\"pie\"}]},\"layout\":{\"autotypenumbers\":\"strict\",\"colorway\":[\"#636efa\",\"#EF553B\",\"#00cc96\",\"#ab63fa\",\"#FFA15A\",\"#19d3f3\",\"#FF6692\",\"#B6E880\",\"#FF97FF\",\"#FECB52\"],\"font\":{\"color\":\"#2a3f5f\"},\"hovermode\":\"closest\",\"hoverlabel\":{\"align\":\"left\"},\"paper_bgcolor\":\"white\",\"plot_bgcolor\":\"#E5ECF6\",\"polar\":{\"bgcolor\":\"#E5ECF6\",\"angularaxis\":{\"gridcolor\":\"white\",\"linecolor\":\"white\",\"ticks\":\"\"},\"radialaxis\":{\"gridcolor\":\"white\",\"linecolor\":\"white\",\"ticks\":\"\"}},\"ternary\":{\"bgcolor\":\"#E5ECF6\",\"aaxis\":{\"gridcolor\":\"white\",\"linecolor\":\"white\",\"ticks\":\"\"},\"baxis\":{\"gridcolor\":\"white\",\"linecolor\":\"white\",\"ticks\":\"\"},\"caxis\":{\"gridcolor\":\"white\",\"linecolor\":\"white\",\"ticks\":\"\"}},\"coloraxis\":{\"colorbar\":{\"outlinewidth\":0,\"ticks\":\"\"}},\"colorscale\":{\"sequential\":[[0.0,\"#0d0887\"],[0.1111111111111111,\"#46039f\"],[0.2222222222222222,\"#7201a8\"],[0.3333333333333333,\"#9c179e\"],[0.4444444444444444,\"#bd3786\"],[0.5555555555555556,\"#d8576b\"],[0.6666666666666666,\"#ed7953\"],[0.7777777777777778,\"#fb9f3a\"],[0.8888888888888888,\"#fdca26\"],[1.0,\"#f0f921\"]],\"sequentialminus\":[[0.0,\"#0d0887\"],[0.1111111111111111,\"#46039f\"],[0.2222222222222222,\"#7201a8\"],[0.3333333333333333,\"#9c179e\"],[0.4444444444444444,\"#bd3786\"],[0.5555555555555556,\"#d8576b\"],[0.6666666666666666,\"#ed7953\"],[0.7777777777777778,\"#fb9f3a\"],[0.8888888888888888,\"#fdca26\"],[1.0,\"#f0f921\"]],\"diverging\":[[0,\"#8e0152\"],[0.1,\"#c51b7d\"],[0.2,\"#de77ae\"],[0.3,\"#f1b6da\"],[0.4,\"#fde0ef\"],[0.5,\"#f7f7f7\"],[0.6,\"#e6f5d0\"],[0.7,\"#b8e186\"],[0.8,\"#7fbc41\"],[0.9,\"#4d9221\"],[1,\"#276419\"]]},\"xaxis\":{\"gridcolor\":\"white\",\"linecolor\":\"white\",\"ticks\":\"\",\"title\":{\"standoff\":15},\"zerolinecolor\":\"white\",\"automargin\":true,\"zerolinewidth\":2},\"yaxis\":{\"gridcolor\":\"white\",\"linecolor\":\"white\",\"ticks\":\"\",\"title\":{\"standoff\":15},\"zerolinecolor\":\"white\",\"automargin\":true,\"zerolinewidth\":2},\"scene\":{\"xaxis\":{\"backgroundcolor\":\"#E5ECF6\",\"gridcolor\":\"white\",\"linecolor\":\"white\",\"showbackground\":true,\"ticks\":\"\",\"zerolinecolor\":\"white\",\"gridwidth\":2},\"yaxis\":{\"backgroundcolor\":\"#E5ECF6\",\"gridcolor\":\"white\",\"linecolor\":\"white\",\"showbackground\":true,\"ticks\":\"\",\"zerolinecolor\":\"white\",\"gridwidth\":2},\"zaxis\":{\"backgroundcolor\":\"#E5ECF6\",\"gridcolor\":\"white\",\"linecolor\":\"white\",\"showbackground\":true,\"ticks\":\"\",\"zerolinecolor\":\"white\",\"gridwidth\":2}},\"shapedefaults\":{\"line\":{\"color\":\"#2a3f5f\"}},\"annotationdefaults\":{\"arrowcolor\":\"#2a3f5f\",\"arrowhead\":0,\"arrowwidth\":1},\"geo\":{\"bgcolor\":\"white\",\"landcolor\":\"#E5ECF6\",\"subunitcolor\":\"white\",\"showland\":true,\"showlakes\":true,\"lakecolor\":\"white\"},\"title\":{\"x\":0.05},\"mapbox\":{\"style\":\"light\"}}},\"scene\":{\"domain\":{\"x\":[0.0,1.0],\"y\":[0.0,1.0]},\"xaxis\":{\"title\":{\"text\":\"0\"}},\"yaxis\":{\"title\":{\"text\":\"1\"}},\"zaxis\":{\"title\":{\"text\":\"2\"}}},\"coloraxis\":{\"colorbar\":{\"title\":{\"text\":\"Anomaly\"}},\"colorscale\":[[0.0,\"#0d0887\"],[0.1111111111111111,\"#46039f\"],[0.2222222222222222,\"#7201a8\"],[0.3333333333333333,\"#9c179e\"],[0.4444444444444444,\"#bd3786\"],[0.5555555555555556,\"#d8576b\"],[0.6666666666666666,\"#ed7953\"],[0.7777777777777778,\"#fb9f3a\"],[0.8888888888888888,\"#fdca26\"],[1.0,\"#f0f921\"]]},\"legend\":{\"tracegroupgap\":0},\"title\":{\"text\":\"3d TSNE Plot for Outliers\"},\"height\":800,\"width\":900},                        {\"responsive\": true}                    ).then(function(){\n",
              "                            \n",
              "var gd = document.getElementById('48c00891-8b11-436e-a3f0-aa4110c009ad');\n",
              "var x = new MutationObserver(function (mutations, observer) {{\n",
              "        var display = window.getComputedStyle(gd).display;\n",
              "        if (!display || display === 'none') {{\n",
              "            console.log([gd, 'removed!']);\n",
              "            Plotly.purge(gd);\n",
              "            observer.disconnect();\n",
              "        }}\n",
              "}});\n",
              "\n",
              "// Listen for the removal of the full notebook cells\n",
              "var notebookContainer = gd.closest('#notebook-container');\n",
              "if (notebookContainer) {{\n",
              "    x.observe(notebookContainer, {childList: true});\n",
              "}}\n",
              "\n",
              "// Listen for the clearing of the current output cell\n",
              "var outputEl = gd.closest('.output');\n",
              "if (outputEl) {{\n",
              "    x.observe(outputEl, {childList: true});\n",
              "}}\n",
              "\n",
              "                        })                };                            </script>        </div>\n",
              "</body>\n",
              "</html>"
            ]
          },
          "metadata": {}
        }
      ]
    },
    {
      "cell_type": "code",
      "source": [
        "evaluate_model(isolation_forest)"
      ],
      "metadata": {
        "colab": {
          "base_uri": "https://localhost:8080/",
          "height": 206,
          "referenced_widgets": [
            "ca76a1aabae5430a8fc20924860f2928",
            "13ffb544db0f4839b4838827666bf20c",
            "1483de7ad24b4ac4b3377b7c27a63960",
            "7cace800f44a4278a414f07a6c945125",
            "88a17b72ff464cdd991d098cda78f0e8",
            "cd0a08476abd4b33b9a2d555d97e0d7a",
            "cd9f1429dc6145f1bda0d1e53974db78"
          ]
        },
        "id": "ustMLosGoMoI",
        "outputId": "b2dbe1db-a274-4901-cd12-d8cdd92e135f"
      },
      "id": "ustMLosGoMoI",
      "execution_count": null,
      "outputs": [
        {
          "output_type": "display_data",
          "data": {
            "text/plain": [
              "interactive(children=(ToggleButtons(description='Plot Type:', icons=('',), options=(('Pipeline Plot', 'pipelin…"
            ],
            "application/vnd.jupyter.widget-view+json": {
              "version_major": 2,
              "version_minor": 0,
              "model_id": "ca76a1aabae5430a8fc20924860f2928"
            }
          },
          "metadata": {
            "application/vnd.jupyter.widget-view+json": {
              "colab": {
                "custom_widget_manager": {
                  "url": "https://ssl.gstatic.com/colaboratory-static/widgets/colab-cdn-widget-manager/2b70e893a8ba7c0f/manager.min.js"
                }
              }
            }
          }
        }
      ]
    },
    {
      "cell_type": "code",
      "source": [
        "iforest_predictions = predict_model(isolation_forest, data=df)\n",
        "iforest_predictions"
      ],
      "metadata": {
        "colab": {
          "base_uri": "https://localhost:8080/",
          "height": 424
        },
        "id": "F1_peZUxoNJg",
        "outputId": "ac643700-d75b-4237-9312-dda05fdf352f"
      },
      "id": "F1_peZUxoNJg",
      "execution_count": null,
      "outputs": [
        {
          "output_type": "execute_result",
          "data": {
            "text/plain": [
              "         Col1      Col2      Col3      Col4      Col5      Col6      Col7  \\\n",
              "0    0.263995  0.764929  0.138424  0.935242  0.605867  0.518790  0.912225   \n",
              "1    0.546092  0.653975  0.065575  0.227772  0.845269  0.837066  0.272379   \n",
              "2    0.336714  0.538842  0.192801  0.553563  0.074515  0.332993  0.365792   \n",
              "3    0.092108  0.995017  0.014465  0.176371  0.241530  0.514724  0.562208   \n",
              "4    0.325261  0.805968  0.957033  0.331665  0.307923  0.355315  0.501899   \n",
              "..        ...       ...       ...       ...       ...       ...       ...   \n",
              "995  0.305055  0.656837  0.331665  0.822525  0.907127  0.882276  0.855732   \n",
              "996  0.812627  0.864258  0.616604  0.167966  0.811223  0.938071  0.418462   \n",
              "997  0.250967  0.138627  0.919703  0.461234  0.886555  0.869888  0.800908   \n",
              "998  0.502436  0.936820  0.580062  0.540773  0.151995  0.059452  0.225220   \n",
              "999  0.457991  0.017755  0.714113  0.125992  0.063316  0.154739  0.922974   \n",
              "\n",
              "         Col8      Col9     Col10  Anomaly  Anomaly_Score  \n",
              "0    0.608234  0.723782  0.733591        1       0.000659  \n",
              "1    0.331679  0.429297  0.367422        0      -0.073049  \n",
              "2    0.861309  0.899017  0.088600        1       0.019030  \n",
              "3    0.158963  0.073715  0.208463        1       0.070963  \n",
              "4    0.558449  0.885169  0.182754        0      -0.014927  \n",
              "..        ...       ...       ...      ...            ...  \n",
              "995  0.584786  0.808640  0.242762        0      -0.074269  \n",
              "996  0.472306  0.348347  0.671129        0      -0.077809  \n",
              "997  0.530324  0.779433  0.234952        0      -0.056883  \n",
              "998  0.242755  0.279385  0.538755        0      -0.090477  \n",
              "999  0.692299  0.816777  0.307592        0      -0.006022  \n",
              "\n",
              "[1000 rows x 12 columns]"
            ],
            "text/html": [
              "\n",
              "  <div id=\"df-060117b3-c15d-40bc-bab1-1b8dc6d837cc\" class=\"colab-df-container\">\n",
              "    <div>\n",
              "<style scoped>\n",
              "    .dataframe tbody tr th:only-of-type {\n",
              "        vertical-align: middle;\n",
              "    }\n",
              "\n",
              "    .dataframe tbody tr th {\n",
              "        vertical-align: top;\n",
              "    }\n",
              "\n",
              "    .dataframe thead th {\n",
              "        text-align: right;\n",
              "    }\n",
              "</style>\n",
              "<table border=\"1\" class=\"dataframe\">\n",
              "  <thead>\n",
              "    <tr style=\"text-align: right;\">\n",
              "      <th></th>\n",
              "      <th>Col1</th>\n",
              "      <th>Col2</th>\n",
              "      <th>Col3</th>\n",
              "      <th>Col4</th>\n",
              "      <th>Col5</th>\n",
              "      <th>Col6</th>\n",
              "      <th>Col7</th>\n",
              "      <th>Col8</th>\n",
              "      <th>Col9</th>\n",
              "      <th>Col10</th>\n",
              "      <th>Anomaly</th>\n",
              "      <th>Anomaly_Score</th>\n",
              "    </tr>\n",
              "  </thead>\n",
              "  <tbody>\n",
              "    <tr>\n",
              "      <th>0</th>\n",
              "      <td>0.263995</td>\n",
              "      <td>0.764929</td>\n",
              "      <td>0.138424</td>\n",
              "      <td>0.935242</td>\n",
              "      <td>0.605867</td>\n",
              "      <td>0.518790</td>\n",
              "      <td>0.912225</td>\n",
              "      <td>0.608234</td>\n",
              "      <td>0.723782</td>\n",
              "      <td>0.733591</td>\n",
              "      <td>1</td>\n",
              "      <td>0.000659</td>\n",
              "    </tr>\n",
              "    <tr>\n",
              "      <th>1</th>\n",
              "      <td>0.546092</td>\n",
              "      <td>0.653975</td>\n",
              "      <td>0.065575</td>\n",
              "      <td>0.227772</td>\n",
              "      <td>0.845269</td>\n",
              "      <td>0.837066</td>\n",
              "      <td>0.272379</td>\n",
              "      <td>0.331679</td>\n",
              "      <td>0.429297</td>\n",
              "      <td>0.367422</td>\n",
              "      <td>0</td>\n",
              "      <td>-0.073049</td>\n",
              "    </tr>\n",
              "    <tr>\n",
              "      <th>2</th>\n",
              "      <td>0.336714</td>\n",
              "      <td>0.538842</td>\n",
              "      <td>0.192801</td>\n",
              "      <td>0.553563</td>\n",
              "      <td>0.074515</td>\n",
              "      <td>0.332993</td>\n",
              "      <td>0.365792</td>\n",
              "      <td>0.861309</td>\n",
              "      <td>0.899017</td>\n",
              "      <td>0.088600</td>\n",
              "      <td>1</td>\n",
              "      <td>0.019030</td>\n",
              "    </tr>\n",
              "    <tr>\n",
              "      <th>3</th>\n",
              "      <td>0.092108</td>\n",
              "      <td>0.995017</td>\n",
              "      <td>0.014465</td>\n",
              "      <td>0.176371</td>\n",
              "      <td>0.241530</td>\n",
              "      <td>0.514724</td>\n",
              "      <td>0.562208</td>\n",
              "      <td>0.158963</td>\n",
              "      <td>0.073715</td>\n",
              "      <td>0.208463</td>\n",
              "      <td>1</td>\n",
              "      <td>0.070963</td>\n",
              "    </tr>\n",
              "    <tr>\n",
              "      <th>4</th>\n",
              "      <td>0.325261</td>\n",
              "      <td>0.805968</td>\n",
              "      <td>0.957033</td>\n",
              "      <td>0.331665</td>\n",
              "      <td>0.307923</td>\n",
              "      <td>0.355315</td>\n",
              "      <td>0.501899</td>\n",
              "      <td>0.558449</td>\n",
              "      <td>0.885169</td>\n",
              "      <td>0.182754</td>\n",
              "      <td>0</td>\n",
              "      <td>-0.014927</td>\n",
              "    </tr>\n",
              "    <tr>\n",
              "      <th>...</th>\n",
              "      <td>...</td>\n",
              "      <td>...</td>\n",
              "      <td>...</td>\n",
              "      <td>...</td>\n",
              "      <td>...</td>\n",
              "      <td>...</td>\n",
              "      <td>...</td>\n",
              "      <td>...</td>\n",
              "      <td>...</td>\n",
              "      <td>...</td>\n",
              "      <td>...</td>\n",
              "      <td>...</td>\n",
              "    </tr>\n",
              "    <tr>\n",
              "      <th>995</th>\n",
              "      <td>0.305055</td>\n",
              "      <td>0.656837</td>\n",
              "      <td>0.331665</td>\n",
              "      <td>0.822525</td>\n",
              "      <td>0.907127</td>\n",
              "      <td>0.882276</td>\n",
              "      <td>0.855732</td>\n",
              "      <td>0.584786</td>\n",
              "      <td>0.808640</td>\n",
              "      <td>0.242762</td>\n",
              "      <td>0</td>\n",
              "      <td>-0.074269</td>\n",
              "    </tr>\n",
              "    <tr>\n",
              "      <th>996</th>\n",
              "      <td>0.812627</td>\n",
              "      <td>0.864258</td>\n",
              "      <td>0.616604</td>\n",
              "      <td>0.167966</td>\n",
              "      <td>0.811223</td>\n",
              "      <td>0.938071</td>\n",
              "      <td>0.418462</td>\n",
              "      <td>0.472306</td>\n",
              "      <td>0.348347</td>\n",
              "      <td>0.671129</td>\n",
              "      <td>0</td>\n",
              "      <td>-0.077809</td>\n",
              "    </tr>\n",
              "    <tr>\n",
              "      <th>997</th>\n",
              "      <td>0.250967</td>\n",
              "      <td>0.138627</td>\n",
              "      <td>0.919703</td>\n",
              "      <td>0.461234</td>\n",
              "      <td>0.886555</td>\n",
              "      <td>0.869888</td>\n",
              "      <td>0.800908</td>\n",
              "      <td>0.530324</td>\n",
              "      <td>0.779433</td>\n",
              "      <td>0.234952</td>\n",
              "      <td>0</td>\n",
              "      <td>-0.056883</td>\n",
              "    </tr>\n",
              "    <tr>\n",
              "      <th>998</th>\n",
              "      <td>0.502436</td>\n",
              "      <td>0.936820</td>\n",
              "      <td>0.580062</td>\n",
              "      <td>0.540773</td>\n",
              "      <td>0.151995</td>\n",
              "      <td>0.059452</td>\n",
              "      <td>0.225220</td>\n",
              "      <td>0.242755</td>\n",
              "      <td>0.279385</td>\n",
              "      <td>0.538755</td>\n",
              "      <td>0</td>\n",
              "      <td>-0.090477</td>\n",
              "    </tr>\n",
              "    <tr>\n",
              "      <th>999</th>\n",
              "      <td>0.457991</td>\n",
              "      <td>0.017755</td>\n",
              "      <td>0.714113</td>\n",
              "      <td>0.125992</td>\n",
              "      <td>0.063316</td>\n",
              "      <td>0.154739</td>\n",
              "      <td>0.922974</td>\n",
              "      <td>0.692299</td>\n",
              "      <td>0.816777</td>\n",
              "      <td>0.307592</td>\n",
              "      <td>0</td>\n",
              "      <td>-0.006022</td>\n",
              "    </tr>\n",
              "  </tbody>\n",
              "</table>\n",
              "<p>1000 rows × 12 columns</p>\n",
              "</div>\n",
              "    <div class=\"colab-df-buttons\">\n",
              "\n",
              "  <div class=\"colab-df-container\">\n",
              "    <button class=\"colab-df-convert\" onclick=\"convertToInteractive('df-060117b3-c15d-40bc-bab1-1b8dc6d837cc')\"\n",
              "            title=\"Convert this dataframe to an interactive table.\"\n",
              "            style=\"display:none;\">\n",
              "\n",
              "  <svg xmlns=\"http://www.w3.org/2000/svg\" height=\"24px\" viewBox=\"0 -960 960 960\">\n",
              "    <path d=\"M120-120v-720h720v720H120Zm60-500h600v-160H180v160Zm220 220h160v-160H400v160Zm0 220h160v-160H400v160ZM180-400h160v-160H180v160Zm440 0h160v-160H620v160ZM180-180h160v-160H180v160Zm440 0h160v-160H620v160Z\"/>\n",
              "  </svg>\n",
              "    </button>\n",
              "\n",
              "  <style>\n",
              "    .colab-df-container {\n",
              "      display:flex;\n",
              "      gap: 12px;\n",
              "    }\n",
              "\n",
              "    .colab-df-convert {\n",
              "      background-color: #E8F0FE;\n",
              "      border: none;\n",
              "      border-radius: 50%;\n",
              "      cursor: pointer;\n",
              "      display: none;\n",
              "      fill: #1967D2;\n",
              "      height: 32px;\n",
              "      padding: 0 0 0 0;\n",
              "      width: 32px;\n",
              "    }\n",
              "\n",
              "    .colab-df-convert:hover {\n",
              "      background-color: #E2EBFA;\n",
              "      box-shadow: 0px 1px 2px rgba(60, 64, 67, 0.3), 0px 1px 3px 1px rgba(60, 64, 67, 0.15);\n",
              "      fill: #174EA6;\n",
              "    }\n",
              "\n",
              "    .colab-df-buttons div {\n",
              "      margin-bottom: 4px;\n",
              "    }\n",
              "\n",
              "    [theme=dark] .colab-df-convert {\n",
              "      background-color: #3B4455;\n",
              "      fill: #D2E3FC;\n",
              "    }\n",
              "\n",
              "    [theme=dark] .colab-df-convert:hover {\n",
              "      background-color: #434B5C;\n",
              "      box-shadow: 0px 1px 3px 1px rgba(0, 0, 0, 0.15);\n",
              "      filter: drop-shadow(0px 1px 2px rgba(0, 0, 0, 0.3));\n",
              "      fill: #FFFFFF;\n",
              "    }\n",
              "  </style>\n",
              "\n",
              "    <script>\n",
              "      const buttonEl =\n",
              "        document.querySelector('#df-060117b3-c15d-40bc-bab1-1b8dc6d837cc button.colab-df-convert');\n",
              "      buttonEl.style.display =\n",
              "        google.colab.kernel.accessAllowed ? 'block' : 'none';\n",
              "\n",
              "      async function convertToInteractive(key) {\n",
              "        const element = document.querySelector('#df-060117b3-c15d-40bc-bab1-1b8dc6d837cc');\n",
              "        const dataTable =\n",
              "          await google.colab.kernel.invokeFunction('convertToInteractive',\n",
              "                                                    [key], {});\n",
              "        if (!dataTable) return;\n",
              "\n",
              "        const docLinkHtml = 'Like what you see? Visit the ' +\n",
              "          '<a target=\"_blank\" href=https://colab.research.google.com/notebooks/data_table.ipynb>data table notebook</a>'\n",
              "          + ' to learn more about interactive tables.';\n",
              "        element.innerHTML = '';\n",
              "        dataTable['output_type'] = 'display_data';\n",
              "        await google.colab.output.renderOutput(dataTable, element);\n",
              "        const docLink = document.createElement('div');\n",
              "        docLink.innerHTML = docLinkHtml;\n",
              "        element.appendChild(docLink);\n",
              "      }\n",
              "    </script>\n",
              "  </div>\n",
              "\n",
              "\n",
              "<div id=\"df-bb358b39-4807-4bf9-9056-fdd01c99f77c\">\n",
              "  <button class=\"colab-df-quickchart\" onclick=\"quickchart('df-bb358b39-4807-4bf9-9056-fdd01c99f77c')\"\n",
              "            title=\"Suggest charts\"\n",
              "            style=\"display:none;\">\n",
              "\n",
              "<svg xmlns=\"http://www.w3.org/2000/svg\" height=\"24px\"viewBox=\"0 0 24 24\"\n",
              "     width=\"24px\">\n",
              "    <g>\n",
              "        <path d=\"M19 3H5c-1.1 0-2 .9-2 2v14c0 1.1.9 2 2 2h14c1.1 0 2-.9 2-2V5c0-1.1-.9-2-2-2zM9 17H7v-7h2v7zm4 0h-2V7h2v10zm4 0h-2v-4h2v4z\"/>\n",
              "    </g>\n",
              "</svg>\n",
              "  </button>\n",
              "\n",
              "<style>\n",
              "  .colab-df-quickchart {\n",
              "      --bg-color: #E8F0FE;\n",
              "      --fill-color: #1967D2;\n",
              "      --hover-bg-color: #E2EBFA;\n",
              "      --hover-fill-color: #174EA6;\n",
              "      --disabled-fill-color: #AAA;\n",
              "      --disabled-bg-color: #DDD;\n",
              "  }\n",
              "\n",
              "  [theme=dark] .colab-df-quickchart {\n",
              "      --bg-color: #3B4455;\n",
              "      --fill-color: #D2E3FC;\n",
              "      --hover-bg-color: #434B5C;\n",
              "      --hover-fill-color: #FFFFFF;\n",
              "      --disabled-bg-color: #3B4455;\n",
              "      --disabled-fill-color: #666;\n",
              "  }\n",
              "\n",
              "  .colab-df-quickchart {\n",
              "    background-color: var(--bg-color);\n",
              "    border: none;\n",
              "    border-radius: 50%;\n",
              "    cursor: pointer;\n",
              "    display: none;\n",
              "    fill: var(--fill-color);\n",
              "    height: 32px;\n",
              "    padding: 0;\n",
              "    width: 32px;\n",
              "  }\n",
              "\n",
              "  .colab-df-quickchart:hover {\n",
              "    background-color: var(--hover-bg-color);\n",
              "    box-shadow: 0 1px 2px rgba(60, 64, 67, 0.3), 0 1px 3px 1px rgba(60, 64, 67, 0.15);\n",
              "    fill: var(--button-hover-fill-color);\n",
              "  }\n",
              "\n",
              "  .colab-df-quickchart-complete:disabled,\n",
              "  .colab-df-quickchart-complete:disabled:hover {\n",
              "    background-color: var(--disabled-bg-color);\n",
              "    fill: var(--disabled-fill-color);\n",
              "    box-shadow: none;\n",
              "  }\n",
              "\n",
              "  .colab-df-spinner {\n",
              "    border: 2px solid var(--fill-color);\n",
              "    border-color: transparent;\n",
              "    border-bottom-color: var(--fill-color);\n",
              "    animation:\n",
              "      spin 1s steps(1) infinite;\n",
              "  }\n",
              "\n",
              "  @keyframes spin {\n",
              "    0% {\n",
              "      border-color: transparent;\n",
              "      border-bottom-color: var(--fill-color);\n",
              "      border-left-color: var(--fill-color);\n",
              "    }\n",
              "    20% {\n",
              "      border-color: transparent;\n",
              "      border-left-color: var(--fill-color);\n",
              "      border-top-color: var(--fill-color);\n",
              "    }\n",
              "    30% {\n",
              "      border-color: transparent;\n",
              "      border-left-color: var(--fill-color);\n",
              "      border-top-color: var(--fill-color);\n",
              "      border-right-color: var(--fill-color);\n",
              "    }\n",
              "    40% {\n",
              "      border-color: transparent;\n",
              "      border-right-color: var(--fill-color);\n",
              "      border-top-color: var(--fill-color);\n",
              "    }\n",
              "    60% {\n",
              "      border-color: transparent;\n",
              "      border-right-color: var(--fill-color);\n",
              "    }\n",
              "    80% {\n",
              "      border-color: transparent;\n",
              "      border-right-color: var(--fill-color);\n",
              "      border-bottom-color: var(--fill-color);\n",
              "    }\n",
              "    90% {\n",
              "      border-color: transparent;\n",
              "      border-bottom-color: var(--fill-color);\n",
              "    }\n",
              "  }\n",
              "</style>\n",
              "\n",
              "  <script>\n",
              "    async function quickchart(key) {\n",
              "      const quickchartButtonEl =\n",
              "        document.querySelector('#' + key + ' button');\n",
              "      quickchartButtonEl.disabled = true;  // To prevent multiple clicks.\n",
              "      quickchartButtonEl.classList.add('colab-df-spinner');\n",
              "      try {\n",
              "        const charts = await google.colab.kernel.invokeFunction(\n",
              "            'suggestCharts', [key], {});\n",
              "      } catch (error) {\n",
              "        console.error('Error during call to suggestCharts:', error);\n",
              "      }\n",
              "      quickchartButtonEl.classList.remove('colab-df-spinner');\n",
              "      quickchartButtonEl.classList.add('colab-df-quickchart-complete');\n",
              "    }\n",
              "    (() => {\n",
              "      let quickchartButtonEl =\n",
              "        document.querySelector('#df-bb358b39-4807-4bf9-9056-fdd01c99f77c button');\n",
              "      quickchartButtonEl.style.display =\n",
              "        google.colab.kernel.accessAllowed ? 'block' : 'none';\n",
              "    })();\n",
              "  </script>\n",
              "</div>\n",
              "\n",
              "  <div id=\"id_679ea670-62fd-41e2-b6d5-166704af22c3\">\n",
              "    <style>\n",
              "      .colab-df-generate {\n",
              "        background-color: #E8F0FE;\n",
              "        border: none;\n",
              "        border-radius: 50%;\n",
              "        cursor: pointer;\n",
              "        display: none;\n",
              "        fill: #1967D2;\n",
              "        height: 32px;\n",
              "        padding: 0 0 0 0;\n",
              "        width: 32px;\n",
              "      }\n",
              "\n",
              "      .colab-df-generate:hover {\n",
              "        background-color: #E2EBFA;\n",
              "        box-shadow: 0px 1px 2px rgba(60, 64, 67, 0.3), 0px 1px 3px 1px rgba(60, 64, 67, 0.15);\n",
              "        fill: #174EA6;\n",
              "      }\n",
              "\n",
              "      [theme=dark] .colab-df-generate {\n",
              "        background-color: #3B4455;\n",
              "        fill: #D2E3FC;\n",
              "      }\n",
              "\n",
              "      [theme=dark] .colab-df-generate:hover {\n",
              "        background-color: #434B5C;\n",
              "        box-shadow: 0px 1px 3px 1px rgba(0, 0, 0, 0.15);\n",
              "        filter: drop-shadow(0px 1px 2px rgba(0, 0, 0, 0.3));\n",
              "        fill: #FFFFFF;\n",
              "      }\n",
              "    </style>\n",
              "    <button class=\"colab-df-generate\" onclick=\"generateWithVariable('iforest_predictions')\"\n",
              "            title=\"Generate code using this dataframe.\"\n",
              "            style=\"display:none;\">\n",
              "\n",
              "  <svg xmlns=\"http://www.w3.org/2000/svg\" height=\"24px\"viewBox=\"0 0 24 24\"\n",
              "       width=\"24px\">\n",
              "    <path d=\"M7,19H8.4L18.45,9,17,7.55,7,17.6ZM5,21V16.75L18.45,3.32a2,2,0,0,1,2.83,0l1.4,1.43a1.91,1.91,0,0,1,.58,1.4,1.91,1.91,0,0,1-.58,1.4L9.25,21ZM18.45,9,17,7.55Zm-12,3A5.31,5.31,0,0,0,4.9,8.1,5.31,5.31,0,0,0,1,6.5,5.31,5.31,0,0,0,4.9,4.9,5.31,5.31,0,0,0,6.5,1,5.31,5.31,0,0,0,8.1,4.9,5.31,5.31,0,0,0,12,6.5,5.46,5.46,0,0,0,6.5,12Z\"/>\n",
              "  </svg>\n",
              "    </button>\n",
              "    <script>\n",
              "      (() => {\n",
              "      const buttonEl =\n",
              "        document.querySelector('#id_679ea670-62fd-41e2-b6d5-166704af22c3 button.colab-df-generate');\n",
              "      buttonEl.style.display =\n",
              "        google.colab.kernel.accessAllowed ? 'block' : 'none';\n",
              "\n",
              "      buttonEl.onclick = () => {\n",
              "        google.colab.notebook.generateWithVariable('iforest_predictions');\n",
              "      }\n",
              "      })();\n",
              "    </script>\n",
              "  </div>\n",
              "\n",
              "    </div>\n",
              "  </div>\n"
            ],
            "application/vnd.google.colaboratory.intrinsic+json": {
              "type": "dataframe",
              "variable_name": "iforest_predictions",
              "summary": "{\n  \"name\": \"iforest_predictions\",\n  \"rows\": 1000,\n  \"fields\": [\n    {\n      \"column\": \"Col1\",\n      \"properties\": {\n        \"dtype\": \"number\",\n        \"std\": 0.2591380084506427,\n        \"min\": 0.0,\n        \"max\": 0.99443072,\n        \"num_unique_values\": 1000,\n        \"samples\": [\n          0.912937812,\n          0.435296009,\n          0.573493847\n        ],\n        \"semantic_type\": \"\",\n        \"description\": \"\"\n      }\n    },\n    {\n      \"column\": \"Col2\",\n      \"properties\": {\n        \"dtype\": \"number\",\n        \"std\": 0.2519313888120579,\n        \"min\": 0.0,\n        \"max\": 1.0,\n        \"num_unique_values\": 1000,\n        \"samples\": [\n          0.6034935,\n          0.290440743,\n          0.71194044\n        ],\n        \"semantic_type\": \"\",\n        \"description\": \"\"\n      }\n    },\n    {\n      \"column\": \"Col3\",\n      \"properties\": {\n        \"dtype\": \"number\",\n        \"std\": 0.2566063916478608,\n        \"min\": 0.0,\n        \"max\": 1.0,\n        \"num_unique_values\": 1000,\n        \"samples\": [\n          0.686645381,\n          0.823521345,\n          0.448518031\n        ],\n        \"semantic_type\": \"\",\n        \"description\": \"\"\n      }\n    },\n    {\n      \"column\": \"Col4\",\n      \"properties\": {\n        \"dtype\": \"number\",\n        \"std\": 0.2635617786543451,\n        \"min\": 0.0,\n        \"max\": 1.0,\n        \"num_unique_values\": 1000,\n        \"samples\": [\n          0.129411327,\n          0.169415852,\n          0.841721968\n        ],\n        \"semantic_type\": \"\",\n        \"description\": \"\"\n      }\n    },\n    {\n      \"column\": \"Col5\",\n      \"properties\": {\n        \"dtype\": \"number\",\n        \"std\": 0.33465786622692406,\n        \"min\": 0.0,\n        \"max\": 1.0,\n        \"num_unique_values\": 1000,\n        \"samples\": [\n          0.158402475,\n          0.885059958,\n          0.792152985\n        ],\n        \"semantic_type\": \"\",\n        \"description\": \"\"\n      }\n    },\n    {\n      \"column\": \"Col6\",\n      \"properties\": {\n        \"dtype\": \"number\",\n        \"std\": 0.31746975110866305,\n        \"min\": 0.0,\n        \"max\": 1.0,\n        \"num_unique_values\": 1000,\n        \"samples\": [\n          0.063175913,\n          0.524440536,\n          0.478297845\n        ],\n        \"semantic_type\": \"\",\n        \"description\": \"\"\n      }\n    },\n    {\n      \"column\": \"Col7\",\n      \"properties\": {\n        \"dtype\": \"number\",\n        \"std\": 0.27848329985006426,\n        \"min\": 0.0,\n        \"max\": 1.0,\n        \"num_unique_values\": 1000,\n        \"samples\": [\n          0.752866818,\n          0.768405388,\n          0.643619434\n        ],\n        \"semantic_type\": \"\",\n        \"description\": \"\"\n      }\n    },\n    {\n      \"column\": \"Col8\",\n      \"properties\": {\n        \"dtype\": \"number\",\n        \"std\": 0.2201286056921682,\n        \"min\": 0.0,\n        \"max\": 1.0,\n        \"num_unique_values\": 1000,\n        \"samples\": [\n          0.448788845,\n          0.647698063,\n          0.344078758\n        ],\n        \"semantic_type\": \"\",\n        \"description\": \"\"\n      }\n    },\n    {\n      \"column\": \"Col9\",\n      \"properties\": {\n        \"dtype\": \"number\",\n        \"std\": 0.24143244105932168,\n        \"min\": 0.0,\n        \"max\": 0.988731809,\n        \"num_unique_values\": 1000,\n        \"samples\": [\n          0.516369185,\n          0.660341101,\n          0.492050258\n        ],\n        \"semantic_type\": \"\",\n        \"description\": \"\"\n      }\n    },\n    {\n      \"column\": \"Col10\",\n      \"properties\": {\n        \"dtype\": \"number\",\n        \"std\": 0.21167715932454367,\n        \"min\": 0.014494632,\n        \"max\": 1.0,\n        \"num_unique_values\": 1000,\n        \"samples\": [\n          0.497103964,\n          0.433412044,\n          0.492949724\n        ],\n        \"semantic_type\": \"\",\n        \"description\": \"\"\n      }\n    },\n    {\n      \"column\": \"Anomaly\",\n      \"properties\": {\n        \"dtype\": \"number\",\n        \"std\": 0,\n        \"min\": 0,\n        \"max\": 1,\n        \"num_unique_values\": 2,\n        \"samples\": [\n          0,\n          1\n        ],\n        \"semantic_type\": \"\",\n        \"description\": \"\"\n      }\n    },\n    {\n      \"column\": \"Anomaly_Score\",\n      \"properties\": {\n        \"dtype\": \"number\",\n        \"std\": 0.03276582894938474,\n        \"min\": -0.13441545318752002,\n        \"max\": 0.0802511480220528,\n        \"num_unique_values\": 1000,\n        \"samples\": [\n          -0.051766977451709384,\n          -0.08805143544007393\n        ],\n        \"semantic_type\": \"\",\n        \"description\": \"\"\n      }\n    }\n  ]\n}"
            }
          },
          "metadata": {},
          "execution_count": 12
        }
      ]
    },
    {
      "cell_type": "code",
      "source": [
        "save_model(isolation_forest, 'iforest_pipeline')"
      ],
      "metadata": {
        "colab": {
          "base_uri": "https://localhost:8080/"
        },
        "id": "3BJZ-Hx5oNqx",
        "outputId": "b7f8548b-f384-4883-eda1-e837764f7b99"
      },
      "id": "3BJZ-Hx5oNqx",
      "execution_count": null,
      "outputs": [
        {
          "output_type": "stream",
          "name": "stdout",
          "text": [
            "Transformation Pipeline and Model Successfully Saved\n"
          ]
        },
        {
          "output_type": "execute_result",
          "data": {
            "text/plain": [
              "(Pipeline(memory=Memory(location=None),\n",
              "          steps=[('numerical_imputer',\n",
              "                  TransformerWrapper(include=['Col1', 'Col2', 'Col3', 'Col4',\n",
              "                                              'Col5', 'Col6', 'Col7', 'Col8',\n",
              "                                              'Col9', 'Col10'],\n",
              "                                     transformer=SimpleImputer())),\n",
              "                 ('categorical_imputer',\n",
              "                  TransformerWrapper(include=[],\n",
              "                                     transformer=SimpleImputer(strategy='most_frequent'))),\n",
              "                 ('trained_model',\n",
              "                  IForest(behaviour='new', bootstrap=False, contamination=0.05,\n",
              "     max_features=1.0, max_samples='auto', n_estimators=100, n_jobs=-1,\n",
              "     random_state=101, verbose=0))]),\n",
              " 'iforest_pipeline.pkl')"
            ]
          },
          "metadata": {},
          "execution_count": 13
        }
      ]
    },
    {
      "cell_type": "code",
      "source": [
        "loaded_pipeline = load_model('iforest_pipeline')\n",
        "loaded_pipeline"
      ],
      "metadata": {
        "colab": {
          "base_uri": "https://localhost:8080/",
          "height": 357
        },
        "id": "GcIzgqw9oOQF",
        "outputId": "62ae81c8-4462-4e0f-b676-6646dbb77243"
      },
      "id": "GcIzgqw9oOQF",
      "execution_count": null,
      "outputs": [
        {
          "output_type": "stream",
          "name": "stdout",
          "text": [
            "Transformation Pipeline and Model Successfully Loaded\n"
          ]
        },
        {
          "output_type": "execute_result",
          "data": {
            "text/plain": [
              "Pipeline(memory=FastMemory(location=/tmp/joblib),\n",
              "         steps=[('numerical_imputer',\n",
              "                 TransformerWrapper(include=['Col1', 'Col2', 'Col3', 'Col4',\n",
              "                                             'Col5', 'Col6', 'Col7', 'Col8',\n",
              "                                             'Col9', 'Col10'],\n",
              "                                    transformer=SimpleImputer())),\n",
              "                ('categorical_imputer',\n",
              "                 TransformerWrapper(include=[],\n",
              "                                    transformer=SimpleImputer(strategy='most_frequent'))),\n",
              "                ('trained_model',\n",
              "                 IForest(behaviour='new', bootstrap=False, contamination=0.05,\n",
              "    max_features=1.0, max_samples='auto', n_estimators=100, n_jobs=-1,\n",
              "    random_state=101, verbose=0))])"
            ],
            "text/html": [
              "<style>#sk-container-id-1 {\n",
              "  /* Definition of color scheme common for light and dark mode */\n",
              "  --sklearn-color-text: black;\n",
              "  --sklearn-color-line: gray;\n",
              "  /* Definition of color scheme for unfitted estimators */\n",
              "  --sklearn-color-unfitted-level-0: #fff5e6;\n",
              "  --sklearn-color-unfitted-level-1: #f6e4d2;\n",
              "  --sklearn-color-unfitted-level-2: #ffe0b3;\n",
              "  --sklearn-color-unfitted-level-3: chocolate;\n",
              "  /* Definition of color scheme for fitted estimators */\n",
              "  --sklearn-color-fitted-level-0: #f0f8ff;\n",
              "  --sklearn-color-fitted-level-1: #d4ebff;\n",
              "  --sklearn-color-fitted-level-2: #b3dbfd;\n",
              "  --sklearn-color-fitted-level-3: cornflowerblue;\n",
              "\n",
              "  /* Specific color for light theme */\n",
              "  --sklearn-color-text-on-default-background: var(--sg-text-color, var(--theme-code-foreground, var(--jp-content-font-color1, black)));\n",
              "  --sklearn-color-background: var(--sg-background-color, var(--theme-background, var(--jp-layout-color0, white)));\n",
              "  --sklearn-color-border-box: var(--sg-text-color, var(--theme-code-foreground, var(--jp-content-font-color1, black)));\n",
              "  --sklearn-color-icon: #696969;\n",
              "\n",
              "  @media (prefers-color-scheme: dark) {\n",
              "    /* Redefinition of color scheme for dark theme */\n",
              "    --sklearn-color-text-on-default-background: var(--sg-text-color, var(--theme-code-foreground, var(--jp-content-font-color1, white)));\n",
              "    --sklearn-color-background: var(--sg-background-color, var(--theme-background, var(--jp-layout-color0, #111)));\n",
              "    --sklearn-color-border-box: var(--sg-text-color, var(--theme-code-foreground, var(--jp-content-font-color1, white)));\n",
              "    --sklearn-color-icon: #878787;\n",
              "  }\n",
              "}\n",
              "\n",
              "#sk-container-id-1 {\n",
              "  color: var(--sklearn-color-text);\n",
              "}\n",
              "\n",
              "#sk-container-id-1 pre {\n",
              "  padding: 0;\n",
              "}\n",
              "\n",
              "#sk-container-id-1 input.sk-hidden--visually {\n",
              "  border: 0;\n",
              "  clip: rect(1px 1px 1px 1px);\n",
              "  clip: rect(1px, 1px, 1px, 1px);\n",
              "  height: 1px;\n",
              "  margin: -1px;\n",
              "  overflow: hidden;\n",
              "  padding: 0;\n",
              "  position: absolute;\n",
              "  width: 1px;\n",
              "}\n",
              "\n",
              "#sk-container-id-1 div.sk-dashed-wrapped {\n",
              "  border: 1px dashed var(--sklearn-color-line);\n",
              "  margin: 0 0.4em 0.5em 0.4em;\n",
              "  box-sizing: border-box;\n",
              "  padding-bottom: 0.4em;\n",
              "  background-color: var(--sklearn-color-background);\n",
              "}\n",
              "\n",
              "#sk-container-id-1 div.sk-container {\n",
              "  /* jupyter's `normalize.less` sets `[hidden] { display: none; }`\n",
              "     but bootstrap.min.css set `[hidden] { display: none !important; }`\n",
              "     so we also need the `!important` here to be able to override the\n",
              "     default hidden behavior on the sphinx rendered scikit-learn.org.\n",
              "     See: https://github.com/scikit-learn/scikit-learn/issues/21755 */\n",
              "  display: inline-block !important;\n",
              "  position: relative;\n",
              "}\n",
              "\n",
              "#sk-container-id-1 div.sk-text-repr-fallback {\n",
              "  display: none;\n",
              "}\n",
              "\n",
              "div.sk-parallel-item,\n",
              "div.sk-serial,\n",
              "div.sk-item {\n",
              "  /* draw centered vertical line to link estimators */\n",
              "  background-image: linear-gradient(var(--sklearn-color-text-on-default-background), var(--sklearn-color-text-on-default-background));\n",
              "  background-size: 2px 100%;\n",
              "  background-repeat: no-repeat;\n",
              "  background-position: center center;\n",
              "}\n",
              "\n",
              "/* Parallel-specific style estimator block */\n",
              "\n",
              "#sk-container-id-1 div.sk-parallel-item::after {\n",
              "  content: \"\";\n",
              "  width: 100%;\n",
              "  border-bottom: 2px solid var(--sklearn-color-text-on-default-background);\n",
              "  flex-grow: 1;\n",
              "}\n",
              "\n",
              "#sk-container-id-1 div.sk-parallel {\n",
              "  display: flex;\n",
              "  align-items: stretch;\n",
              "  justify-content: center;\n",
              "  background-color: var(--sklearn-color-background);\n",
              "  position: relative;\n",
              "}\n",
              "\n",
              "#sk-container-id-1 div.sk-parallel-item {\n",
              "  display: flex;\n",
              "  flex-direction: column;\n",
              "}\n",
              "\n",
              "#sk-container-id-1 div.sk-parallel-item:first-child::after {\n",
              "  align-self: flex-end;\n",
              "  width: 50%;\n",
              "}\n",
              "\n",
              "#sk-container-id-1 div.sk-parallel-item:last-child::after {\n",
              "  align-self: flex-start;\n",
              "  width: 50%;\n",
              "}\n",
              "\n",
              "#sk-container-id-1 div.sk-parallel-item:only-child::after {\n",
              "  width: 0;\n",
              "}\n",
              "\n",
              "/* Serial-specific style estimator block */\n",
              "\n",
              "#sk-container-id-1 div.sk-serial {\n",
              "  display: flex;\n",
              "  flex-direction: column;\n",
              "  align-items: center;\n",
              "  background-color: var(--sklearn-color-background);\n",
              "  padding-right: 1em;\n",
              "  padding-left: 1em;\n",
              "}\n",
              "\n",
              "\n",
              "/* Toggleable style: style used for estimator/Pipeline/ColumnTransformer box that is\n",
              "clickable and can be expanded/collapsed.\n",
              "- Pipeline and ColumnTransformer use this feature and define the default style\n",
              "- Estimators will overwrite some part of the style using the `sk-estimator` class\n",
              "*/\n",
              "\n",
              "/* Pipeline and ColumnTransformer style (default) */\n",
              "\n",
              "#sk-container-id-1 div.sk-toggleable {\n",
              "  /* Default theme specific background. It is overwritten whether we have a\n",
              "  specific estimator or a Pipeline/ColumnTransformer */\n",
              "  background-color: var(--sklearn-color-background);\n",
              "}\n",
              "\n",
              "/* Toggleable label */\n",
              "#sk-container-id-1 label.sk-toggleable__label {\n",
              "  cursor: pointer;\n",
              "  display: block;\n",
              "  width: 100%;\n",
              "  margin-bottom: 0;\n",
              "  padding: 0.5em;\n",
              "  box-sizing: border-box;\n",
              "  text-align: center;\n",
              "}\n",
              "\n",
              "#sk-container-id-1 label.sk-toggleable__label-arrow:before {\n",
              "  /* Arrow on the left of the label */\n",
              "  content: \"▸\";\n",
              "  float: left;\n",
              "  margin-right: 0.25em;\n",
              "  color: var(--sklearn-color-icon);\n",
              "}\n",
              "\n",
              "#sk-container-id-1 label.sk-toggleable__label-arrow:hover:before {\n",
              "  color: var(--sklearn-color-text);\n",
              "}\n",
              "\n",
              "/* Toggleable content - dropdown */\n",
              "\n",
              "#sk-container-id-1 div.sk-toggleable__content {\n",
              "  max-height: 0;\n",
              "  max-width: 0;\n",
              "  overflow: hidden;\n",
              "  text-align: left;\n",
              "  /* unfitted */\n",
              "  background-color: var(--sklearn-color-unfitted-level-0);\n",
              "}\n",
              "\n",
              "#sk-container-id-1 div.sk-toggleable__content.fitted {\n",
              "  /* fitted */\n",
              "  background-color: var(--sklearn-color-fitted-level-0);\n",
              "}\n",
              "\n",
              "#sk-container-id-1 div.sk-toggleable__content pre {\n",
              "  margin: 0.2em;\n",
              "  border-radius: 0.25em;\n",
              "  color: var(--sklearn-color-text);\n",
              "  /* unfitted */\n",
              "  background-color: var(--sklearn-color-unfitted-level-0);\n",
              "}\n",
              "\n",
              "#sk-container-id-1 div.sk-toggleable__content.fitted pre {\n",
              "  /* unfitted */\n",
              "  background-color: var(--sklearn-color-fitted-level-0);\n",
              "}\n",
              "\n",
              "#sk-container-id-1 input.sk-toggleable__control:checked~div.sk-toggleable__content {\n",
              "  /* Expand drop-down */\n",
              "  max-height: 200px;\n",
              "  max-width: 100%;\n",
              "  overflow: auto;\n",
              "}\n",
              "\n",
              "#sk-container-id-1 input.sk-toggleable__control:checked~label.sk-toggleable__label-arrow:before {\n",
              "  content: \"▾\";\n",
              "}\n",
              "\n",
              "/* Pipeline/ColumnTransformer-specific style */\n",
              "\n",
              "#sk-container-id-1 div.sk-label input.sk-toggleable__control:checked~label.sk-toggleable__label {\n",
              "  color: var(--sklearn-color-text);\n",
              "  background-color: var(--sklearn-color-unfitted-level-2);\n",
              "}\n",
              "\n",
              "#sk-container-id-1 div.sk-label.fitted input.sk-toggleable__control:checked~label.sk-toggleable__label {\n",
              "  background-color: var(--sklearn-color-fitted-level-2);\n",
              "}\n",
              "\n",
              "/* Estimator-specific style */\n",
              "\n",
              "/* Colorize estimator box */\n",
              "#sk-container-id-1 div.sk-estimator input.sk-toggleable__control:checked~label.sk-toggleable__label {\n",
              "  /* unfitted */\n",
              "  background-color: var(--sklearn-color-unfitted-level-2);\n",
              "}\n",
              "\n",
              "#sk-container-id-1 div.sk-estimator.fitted input.sk-toggleable__control:checked~label.sk-toggleable__label {\n",
              "  /* fitted */\n",
              "  background-color: var(--sklearn-color-fitted-level-2);\n",
              "}\n",
              "\n",
              "#sk-container-id-1 div.sk-label label.sk-toggleable__label,\n",
              "#sk-container-id-1 div.sk-label label {\n",
              "  /* The background is the default theme color */\n",
              "  color: var(--sklearn-color-text-on-default-background);\n",
              "}\n",
              "\n",
              "/* On hover, darken the color of the background */\n",
              "#sk-container-id-1 div.sk-label:hover label.sk-toggleable__label {\n",
              "  color: var(--sklearn-color-text);\n",
              "  background-color: var(--sklearn-color-unfitted-level-2);\n",
              "}\n",
              "\n",
              "/* Label box, darken color on hover, fitted */\n",
              "#sk-container-id-1 div.sk-label.fitted:hover label.sk-toggleable__label.fitted {\n",
              "  color: var(--sklearn-color-text);\n",
              "  background-color: var(--sklearn-color-fitted-level-2);\n",
              "}\n",
              "\n",
              "/* Estimator label */\n",
              "\n",
              "#sk-container-id-1 div.sk-label label {\n",
              "  font-family: monospace;\n",
              "  font-weight: bold;\n",
              "  display: inline-block;\n",
              "  line-height: 1.2em;\n",
              "}\n",
              "\n",
              "#sk-container-id-1 div.sk-label-container {\n",
              "  text-align: center;\n",
              "}\n",
              "\n",
              "/* Estimator-specific */\n",
              "#sk-container-id-1 div.sk-estimator {\n",
              "  font-family: monospace;\n",
              "  border: 1px dotted var(--sklearn-color-border-box);\n",
              "  border-radius: 0.25em;\n",
              "  box-sizing: border-box;\n",
              "  margin-bottom: 0.5em;\n",
              "  /* unfitted */\n",
              "  background-color: var(--sklearn-color-unfitted-level-0);\n",
              "}\n",
              "\n",
              "#sk-container-id-1 div.sk-estimator.fitted {\n",
              "  /* fitted */\n",
              "  background-color: var(--sklearn-color-fitted-level-0);\n",
              "}\n",
              "\n",
              "/* on hover */\n",
              "#sk-container-id-1 div.sk-estimator:hover {\n",
              "  /* unfitted */\n",
              "  background-color: var(--sklearn-color-unfitted-level-2);\n",
              "}\n",
              "\n",
              "#sk-container-id-1 div.sk-estimator.fitted:hover {\n",
              "  /* fitted */\n",
              "  background-color: var(--sklearn-color-fitted-level-2);\n",
              "}\n",
              "\n",
              "/* Specification for estimator info (e.g. \"i\" and \"?\") */\n",
              "\n",
              "/* Common style for \"i\" and \"?\" */\n",
              "\n",
              ".sk-estimator-doc-link,\n",
              "a:link.sk-estimator-doc-link,\n",
              "a:visited.sk-estimator-doc-link {\n",
              "  float: right;\n",
              "  font-size: smaller;\n",
              "  line-height: 1em;\n",
              "  font-family: monospace;\n",
              "  background-color: var(--sklearn-color-background);\n",
              "  border-radius: 1em;\n",
              "  height: 1em;\n",
              "  width: 1em;\n",
              "  text-decoration: none !important;\n",
              "  margin-left: 1ex;\n",
              "  /* unfitted */\n",
              "  border: var(--sklearn-color-unfitted-level-1) 1pt solid;\n",
              "  color: var(--sklearn-color-unfitted-level-1);\n",
              "}\n",
              "\n",
              ".sk-estimator-doc-link.fitted,\n",
              "a:link.sk-estimator-doc-link.fitted,\n",
              "a:visited.sk-estimator-doc-link.fitted {\n",
              "  /* fitted */\n",
              "  border: var(--sklearn-color-fitted-level-1) 1pt solid;\n",
              "  color: var(--sklearn-color-fitted-level-1);\n",
              "}\n",
              "\n",
              "/* On hover */\n",
              "div.sk-estimator:hover .sk-estimator-doc-link:hover,\n",
              ".sk-estimator-doc-link:hover,\n",
              "div.sk-label-container:hover .sk-estimator-doc-link:hover,\n",
              ".sk-estimator-doc-link:hover {\n",
              "  /* unfitted */\n",
              "  background-color: var(--sklearn-color-unfitted-level-3);\n",
              "  color: var(--sklearn-color-background);\n",
              "  text-decoration: none;\n",
              "}\n",
              "\n",
              "div.sk-estimator.fitted:hover .sk-estimator-doc-link.fitted:hover,\n",
              ".sk-estimator-doc-link.fitted:hover,\n",
              "div.sk-label-container:hover .sk-estimator-doc-link.fitted:hover,\n",
              ".sk-estimator-doc-link.fitted:hover {\n",
              "  /* fitted */\n",
              "  background-color: var(--sklearn-color-fitted-level-3);\n",
              "  color: var(--sklearn-color-background);\n",
              "  text-decoration: none;\n",
              "}\n",
              "\n",
              "/* Span, style for the box shown on hovering the info icon */\n",
              ".sk-estimator-doc-link span {\n",
              "  display: none;\n",
              "  z-index: 9999;\n",
              "  position: relative;\n",
              "  font-weight: normal;\n",
              "  right: .2ex;\n",
              "  padding: .5ex;\n",
              "  margin: .5ex;\n",
              "  width: min-content;\n",
              "  min-width: 20ex;\n",
              "  max-width: 50ex;\n",
              "  color: var(--sklearn-color-text);\n",
              "  box-shadow: 2pt 2pt 4pt #999;\n",
              "  /* unfitted */\n",
              "  background: var(--sklearn-color-unfitted-level-0);\n",
              "  border: .5pt solid var(--sklearn-color-unfitted-level-3);\n",
              "}\n",
              "\n",
              ".sk-estimator-doc-link.fitted span {\n",
              "  /* fitted */\n",
              "  background: var(--sklearn-color-fitted-level-0);\n",
              "  border: var(--sklearn-color-fitted-level-3);\n",
              "}\n",
              "\n",
              ".sk-estimator-doc-link:hover span {\n",
              "  display: block;\n",
              "}\n",
              "\n",
              "/* \"?\"-specific style due to the `<a>` HTML tag */\n",
              "\n",
              "#sk-container-id-1 a.estimator_doc_link {\n",
              "  float: right;\n",
              "  font-size: 1rem;\n",
              "  line-height: 1em;\n",
              "  font-family: monospace;\n",
              "  background-color: var(--sklearn-color-background);\n",
              "  border-radius: 1rem;\n",
              "  height: 1rem;\n",
              "  width: 1rem;\n",
              "  text-decoration: none;\n",
              "  /* unfitted */\n",
              "  color: var(--sklearn-color-unfitted-level-1);\n",
              "  border: var(--sklearn-color-unfitted-level-1) 1pt solid;\n",
              "}\n",
              "\n",
              "#sk-container-id-1 a.estimator_doc_link.fitted {\n",
              "  /* fitted */\n",
              "  border: var(--sklearn-color-fitted-level-1) 1pt solid;\n",
              "  color: var(--sklearn-color-fitted-level-1);\n",
              "}\n",
              "\n",
              "/* On hover */\n",
              "#sk-container-id-1 a.estimator_doc_link:hover {\n",
              "  /* unfitted */\n",
              "  background-color: var(--sklearn-color-unfitted-level-3);\n",
              "  color: var(--sklearn-color-background);\n",
              "  text-decoration: none;\n",
              "}\n",
              "\n",
              "#sk-container-id-1 a.estimator_doc_link.fitted:hover {\n",
              "  /* fitted */\n",
              "  background-color: var(--sklearn-color-fitted-level-3);\n",
              "}\n",
              "</style><div id=\"sk-container-id-1\" class=\"sk-top-container\"><div class=\"sk-text-repr-fallback\"><pre>Pipeline(memory=FastMemory(location=/tmp/joblib),\n",
              "         steps=[(&#x27;numerical_imputer&#x27;,\n",
              "                 TransformerWrapper(include=[&#x27;Col1&#x27;, &#x27;Col2&#x27;, &#x27;Col3&#x27;, &#x27;Col4&#x27;,\n",
              "                                             &#x27;Col5&#x27;, &#x27;Col6&#x27;, &#x27;Col7&#x27;, &#x27;Col8&#x27;,\n",
              "                                             &#x27;Col9&#x27;, &#x27;Col10&#x27;],\n",
              "                                    transformer=SimpleImputer())),\n",
              "                (&#x27;categorical_imputer&#x27;,\n",
              "                 TransformerWrapper(include=[],\n",
              "                                    transformer=SimpleImputer(strategy=&#x27;most_frequent&#x27;))),\n",
              "                (&#x27;trained_model&#x27;,\n",
              "                 IForest(behaviour=&#x27;new&#x27;, bootstrap=False, contamination=0.05,\n",
              "    max_features=1.0, max_samples=&#x27;auto&#x27;, n_estimators=100, n_jobs=-1,\n",
              "    random_state=101, verbose=0))])</pre><b>In a Jupyter environment, please rerun this cell to show the HTML representation or trust the notebook. <br />On GitHub, the HTML representation is unable to render, please try loading this page with nbviewer.org.</b></div><div class=\"sk-container\" hidden><div class=\"sk-item sk-dashed-wrapped\"><div class=\"sk-label-container\"><div class=\"sk-label fitted sk-toggleable\"><input class=\"sk-toggleable__control sk-hidden--visually\" id=\"sk-estimator-id-1\" type=\"checkbox\" ><label for=\"sk-estimator-id-1\" class=\"sk-toggleable__label fitted sk-toggleable__label-arrow fitted\">&nbsp;Pipeline<span class=\"sk-estimator-doc-link fitted\">i<span>Fitted</span></span></label><div class=\"sk-toggleable__content fitted\"><pre>Pipeline(memory=FastMemory(location=/tmp/joblib),\n",
              "         steps=[(&#x27;numerical_imputer&#x27;,\n",
              "                 TransformerWrapper(include=[&#x27;Col1&#x27;, &#x27;Col2&#x27;, &#x27;Col3&#x27;, &#x27;Col4&#x27;,\n",
              "                                             &#x27;Col5&#x27;, &#x27;Col6&#x27;, &#x27;Col7&#x27;, &#x27;Col8&#x27;,\n",
              "                                             &#x27;Col9&#x27;, &#x27;Col10&#x27;],\n",
              "                                    transformer=SimpleImputer())),\n",
              "                (&#x27;categorical_imputer&#x27;,\n",
              "                 TransformerWrapper(include=[],\n",
              "                                    transformer=SimpleImputer(strategy=&#x27;most_frequent&#x27;))),\n",
              "                (&#x27;trained_model&#x27;,\n",
              "                 IForest(behaviour=&#x27;new&#x27;, bootstrap=False, contamination=0.05,\n",
              "    max_features=1.0, max_samples=&#x27;auto&#x27;, n_estimators=100, n_jobs=-1,\n",
              "    random_state=101, verbose=0))])</pre></div> </div></div><div class=\"sk-serial\"><div class=\"sk-item sk-dashed-wrapped\"><div class=\"sk-label-container\"><div class=\"sk-label fitted sk-toggleable\"><input class=\"sk-toggleable__control sk-hidden--visually\" id=\"sk-estimator-id-2\" type=\"checkbox\" ><label for=\"sk-estimator-id-2\" class=\"sk-toggleable__label fitted sk-toggleable__label-arrow fitted\">numerical_imputer: TransformerWrapper</label><div class=\"sk-toggleable__content fitted\"><pre>TransformerWrapper(include=[&#x27;Col1&#x27;, &#x27;Col2&#x27;, &#x27;Col3&#x27;, &#x27;Col4&#x27;, &#x27;Col5&#x27;, &#x27;Col6&#x27;,\n",
              "                            &#x27;Col7&#x27;, &#x27;Col8&#x27;, &#x27;Col9&#x27;, &#x27;Col10&#x27;],\n",
              "                   transformer=SimpleImputer())</pre></div> </div></div><div class=\"sk-parallel\"><div class=\"sk-parallel-item\"><div class=\"sk-item\"><div class=\"sk-label-container\"><div class=\"sk-label fitted sk-toggleable\"><input class=\"sk-toggleable__control sk-hidden--visually\" id=\"sk-estimator-id-3\" type=\"checkbox\" ><label for=\"sk-estimator-id-3\" class=\"sk-toggleable__label fitted sk-toggleable__label-arrow fitted\">transformer: SimpleImputer</label><div class=\"sk-toggleable__content fitted\"><pre>SimpleImputer()</pre></div> </div></div><div class=\"sk-serial\"><div class=\"sk-item\"><div class=\"sk-estimator fitted sk-toggleable\"><input class=\"sk-toggleable__control sk-hidden--visually\" id=\"sk-estimator-id-4\" type=\"checkbox\" ><label for=\"sk-estimator-id-4\" class=\"sk-toggleable__label fitted sk-toggleable__label-arrow fitted\">&nbsp;SimpleImputer<a class=\"sk-estimator-doc-link fitted\" rel=\"noreferrer\" target=\"_blank\" href=\"https://scikit-learn.org/1.4/modules/generated/sklearn.impute.SimpleImputer.html\">?<span>Documentation for SimpleImputer</span></a></label><div class=\"sk-toggleable__content fitted\"><pre>SimpleImputer()</pre></div> </div></div></div></div></div></div></div><div class=\"sk-item sk-dashed-wrapped\"><div class=\"sk-label-container\"><div class=\"sk-label fitted sk-toggleable\"><input class=\"sk-toggleable__control sk-hidden--visually\" id=\"sk-estimator-id-5\" type=\"checkbox\" ><label for=\"sk-estimator-id-5\" class=\"sk-toggleable__label fitted sk-toggleable__label-arrow fitted\">categorical_imputer: TransformerWrapper</label><div class=\"sk-toggleable__content fitted\"><pre>TransformerWrapper(include=[],\n",
              "                   transformer=SimpleImputer(strategy=&#x27;most_frequent&#x27;))</pre></div> </div></div><div class=\"sk-parallel\"><div class=\"sk-parallel-item\"><div class=\"sk-item\"><div class=\"sk-label-container\"><div class=\"sk-label fitted sk-toggleable\"><input class=\"sk-toggleable__control sk-hidden--visually\" id=\"sk-estimator-id-6\" type=\"checkbox\" ><label for=\"sk-estimator-id-6\" class=\"sk-toggleable__label fitted sk-toggleable__label-arrow fitted\">transformer: SimpleImputer</label><div class=\"sk-toggleable__content fitted\"><pre>SimpleImputer(strategy=&#x27;most_frequent&#x27;)</pre></div> </div></div><div class=\"sk-serial\"><div class=\"sk-item\"><div class=\"sk-estimator fitted sk-toggleable\"><input class=\"sk-toggleable__control sk-hidden--visually\" id=\"sk-estimator-id-7\" type=\"checkbox\" ><label for=\"sk-estimator-id-7\" class=\"sk-toggleable__label fitted sk-toggleable__label-arrow fitted\">&nbsp;SimpleImputer<a class=\"sk-estimator-doc-link fitted\" rel=\"noreferrer\" target=\"_blank\" href=\"https://scikit-learn.org/1.4/modules/generated/sklearn.impute.SimpleImputer.html\">?<span>Documentation for SimpleImputer</span></a></label><div class=\"sk-toggleable__content fitted\"><pre>SimpleImputer(strategy=&#x27;most_frequent&#x27;)</pre></div> </div></div></div></div></div></div></div><div class=\"sk-item\"><div class=\"sk-estimator fitted sk-toggleable\"><input class=\"sk-toggleable__control sk-hidden--visually\" id=\"sk-estimator-id-8\" type=\"checkbox\" ><label for=\"sk-estimator-id-8\" class=\"sk-toggleable__label fitted sk-toggleable__label-arrow fitted\">IForest</label><div class=\"sk-toggleable__content fitted\"><pre>IForest(behaviour=&#x27;new&#x27;, bootstrap=False, contamination=0.05,\n",
              "    max_features=1.0, max_samples=&#x27;auto&#x27;, n_estimators=100, n_jobs=-1,\n",
              "    random_state=101, verbose=0)</pre></div> </div></div></div></div></div></div>"
            ]
          },
          "metadata": {},
          "execution_count": 14
        }
      ]
    },
    {
      "cell_type": "markdown",
      "id": "b2c7d62e",
      "metadata": {
        "id": "b2c7d62e"
      },
      "source": [
        "# 👇 Detailed function-by-function overview"
      ]
    },
    {
      "cell_type": "markdown",
      "id": "e05937f5",
      "metadata": {
        "id": "e05937f5"
      },
      "source": [
        "## ✅ Setup\n",
        "This function initializes the training environment and creates the transformation pipeline. The setup function must be called before executing any other function. It takes one mandatory parameter only: data. All the other parameters are optional."
      ]
    },
    {
      "cell_type": "code",
      "execution_count": null,
      "id": "24e503be",
      "metadata": {
        "id": "24e503be",
        "outputId": "d99df118-e6a3-4b45-872c-556d4a65be6a"
      },
      "outputs": [
        {
          "data": {
            "text/html": [
              "<style type=\"text/css\">\n",
              "#T_12709_row4_col1 {\n",
              "  background-color: lightgreen;\n",
              "}\n",
              "</style>\n",
              "<table id=\"T_12709\">\n",
              "  <thead>\n",
              "    <tr>\n",
              "      <th class=\"blank level0\" >&nbsp;</th>\n",
              "      <th id=\"T_12709_level0_col0\" class=\"col_heading level0 col0\" >Description</th>\n",
              "      <th id=\"T_12709_level0_col1\" class=\"col_heading level0 col1\" >Value</th>\n",
              "    </tr>\n",
              "  </thead>\n",
              "  <tbody>\n",
              "    <tr>\n",
              "      <th id=\"T_12709_level0_row0\" class=\"row_heading level0 row0\" >0</th>\n",
              "      <td id=\"T_12709_row0_col0\" class=\"data row0 col0\" >Session id</td>\n",
              "      <td id=\"T_12709_row0_col1\" class=\"data row0 col1\" >123</td>\n",
              "    </tr>\n",
              "    <tr>\n",
              "      <th id=\"T_12709_level0_row1\" class=\"row_heading level0 row1\" >1</th>\n",
              "      <td id=\"T_12709_row1_col0\" class=\"data row1 col0\" >Original data shape</td>\n",
              "      <td id=\"T_12709_row1_col1\" class=\"data row1 col1\" >(1000, 10)</td>\n",
              "    </tr>\n",
              "    <tr>\n",
              "      <th id=\"T_12709_level0_row2\" class=\"row_heading level0 row2\" >2</th>\n",
              "      <td id=\"T_12709_row2_col0\" class=\"data row2 col0\" >Transformed data shape</td>\n",
              "      <td id=\"T_12709_row2_col1\" class=\"data row2 col1\" >(1000, 10)</td>\n",
              "    </tr>\n",
              "    <tr>\n",
              "      <th id=\"T_12709_level0_row3\" class=\"row_heading level0 row3\" >3</th>\n",
              "      <td id=\"T_12709_row3_col0\" class=\"data row3 col0\" >Numeric features</td>\n",
              "      <td id=\"T_12709_row3_col1\" class=\"data row3 col1\" >10</td>\n",
              "    </tr>\n",
              "    <tr>\n",
              "      <th id=\"T_12709_level0_row4\" class=\"row_heading level0 row4\" >4</th>\n",
              "      <td id=\"T_12709_row4_col0\" class=\"data row4 col0\" >Preprocess</td>\n",
              "      <td id=\"T_12709_row4_col1\" class=\"data row4 col1\" >True</td>\n",
              "    </tr>\n",
              "    <tr>\n",
              "      <th id=\"T_12709_level0_row5\" class=\"row_heading level0 row5\" >5</th>\n",
              "      <td id=\"T_12709_row5_col0\" class=\"data row5 col0\" >Imputation type</td>\n",
              "      <td id=\"T_12709_row5_col1\" class=\"data row5 col1\" >simple</td>\n",
              "    </tr>\n",
              "    <tr>\n",
              "      <th id=\"T_12709_level0_row6\" class=\"row_heading level0 row6\" >6</th>\n",
              "      <td id=\"T_12709_row6_col0\" class=\"data row6 col0\" >Numeric imputation</td>\n",
              "      <td id=\"T_12709_row6_col1\" class=\"data row6 col1\" >mean</td>\n",
              "    </tr>\n",
              "    <tr>\n",
              "      <th id=\"T_12709_level0_row7\" class=\"row_heading level0 row7\" >7</th>\n",
              "      <td id=\"T_12709_row7_col0\" class=\"data row7 col0\" >Categorical imputation</td>\n",
              "      <td id=\"T_12709_row7_col1\" class=\"data row7 col1\" >mode</td>\n",
              "    </tr>\n",
              "    <tr>\n",
              "      <th id=\"T_12709_level0_row8\" class=\"row_heading level0 row8\" >8</th>\n",
              "      <td id=\"T_12709_row8_col0\" class=\"data row8 col0\" >CPU Jobs</td>\n",
              "      <td id=\"T_12709_row8_col1\" class=\"data row8 col1\" >-1</td>\n",
              "    </tr>\n",
              "    <tr>\n",
              "      <th id=\"T_12709_level0_row9\" class=\"row_heading level0 row9\" >9</th>\n",
              "      <td id=\"T_12709_row9_col0\" class=\"data row9 col0\" >Use GPU</td>\n",
              "      <td id=\"T_12709_row9_col1\" class=\"data row9 col1\" >False</td>\n",
              "    </tr>\n",
              "    <tr>\n",
              "      <th id=\"T_12709_level0_row10\" class=\"row_heading level0 row10\" >10</th>\n",
              "      <td id=\"T_12709_row10_col0\" class=\"data row10 col0\" >Log Experiment</td>\n",
              "      <td id=\"T_12709_row10_col1\" class=\"data row10 col1\" >False</td>\n",
              "    </tr>\n",
              "    <tr>\n",
              "      <th id=\"T_12709_level0_row11\" class=\"row_heading level0 row11\" >11</th>\n",
              "      <td id=\"T_12709_row11_col0\" class=\"data row11 col0\" >Experiment Name</td>\n",
              "      <td id=\"T_12709_row11_col1\" class=\"data row11 col1\" >anomaly-default-name</td>\n",
              "    </tr>\n",
              "    <tr>\n",
              "      <th id=\"T_12709_level0_row12\" class=\"row_heading level0 row12\" >12</th>\n",
              "      <td id=\"T_12709_row12_col0\" class=\"data row12 col0\" >USI</td>\n",
              "      <td id=\"T_12709_row12_col1\" class=\"data row12 col1\" >f822</td>\n",
              "    </tr>\n",
              "  </tbody>\n",
              "</table>\n"
            ],
            "text/plain": [
              "<pandas.io.formats.style.Styler at 0x21f9973f1c0>"
            ]
          },
          "metadata": {},
          "output_type": "display_data"
        }
      ],
      "source": [
        "s = setup(data, session_id = 123)"
      ]
    },
    {
      "cell_type": "markdown",
      "id": "924d198b",
      "metadata": {
        "id": "924d198b"
      },
      "source": [
        "To access all the variables created by the setup function such as transformed dataset, random_state, etc. you can use `get_config` method."
      ]
    },
    {
      "cell_type": "code",
      "execution_count": null,
      "id": "76128b08",
      "metadata": {
        "id": "76128b08",
        "outputId": "b0e5b24f-b73e-43fd-8126-67b5a330525b"
      },
      "outputs": [
        {
          "data": {
            "text/plain": [
              "{'USI',\n",
              " 'X',\n",
              " 'X_train',\n",
              " 'X_train_transformed',\n",
              " 'X_transformed',\n",
              " '_available_plots',\n",
              " '_ml_usecase',\n",
              " 'data',\n",
              " 'dataset',\n",
              " 'dataset_transformed',\n",
              " 'exp_id',\n",
              " 'exp_name_log',\n",
              " 'gpu_n_jobs_param',\n",
              " 'gpu_param',\n",
              " 'html_param',\n",
              " 'idx',\n",
              " 'is_multiclass',\n",
              " 'log_plots_param',\n",
              " 'logging_param',\n",
              " 'memory',\n",
              " 'n_jobs_param',\n",
              " 'pipeline',\n",
              " 'seed',\n",
              " 'train',\n",
              " 'train_transformed',\n",
              " 'variable_and_property_keys',\n",
              " 'variables'}"
            ]
          },
          "execution_count": 60,
          "metadata": {},
          "output_type": "execute_result"
        }
      ],
      "source": [
        "# check all available config\n",
        "get_config()"
      ]
    },
    {
      "cell_type": "code",
      "execution_count": null,
      "id": "dbc43292",
      "metadata": {
        "id": "dbc43292",
        "outputId": "6842cfec-ac3f-40cd-d70d-e4b03899b0a6"
      },
      "outputs": [
        {
          "data": {
            "text/html": [
              "<div>\n",
              "<style scoped>\n",
              "    .dataframe tbody tr th:only-of-type {\n",
              "        vertical-align: middle;\n",
              "    }\n",
              "\n",
              "    .dataframe tbody tr th {\n",
              "        vertical-align: top;\n",
              "    }\n",
              "\n",
              "    .dataframe thead th {\n",
              "        text-align: right;\n",
              "    }\n",
              "</style>\n",
              "<table border=\"1\" class=\"dataframe\">\n",
              "  <thead>\n",
              "    <tr style=\"text-align: right;\">\n",
              "      <th></th>\n",
              "      <th>Col1</th>\n",
              "      <th>Col2</th>\n",
              "      <th>Col3</th>\n",
              "      <th>Col4</th>\n",
              "      <th>Col5</th>\n",
              "      <th>Col6</th>\n",
              "      <th>Col7</th>\n",
              "      <th>Col8</th>\n",
              "      <th>Col9</th>\n",
              "      <th>Col10</th>\n",
              "    </tr>\n",
              "  </thead>\n",
              "  <tbody>\n",
              "    <tr>\n",
              "      <th>0</th>\n",
              "      <td>0.263995</td>\n",
              "      <td>0.764929</td>\n",
              "      <td>0.138424</td>\n",
              "      <td>0.935242</td>\n",
              "      <td>0.605867</td>\n",
              "      <td>0.518790</td>\n",
              "      <td>0.912225</td>\n",
              "      <td>0.608234</td>\n",
              "      <td>0.723782</td>\n",
              "      <td>0.733591</td>\n",
              "    </tr>\n",
              "    <tr>\n",
              "      <th>1</th>\n",
              "      <td>0.546092</td>\n",
              "      <td>0.653975</td>\n",
              "      <td>0.065575</td>\n",
              "      <td>0.227772</td>\n",
              "      <td>0.845269</td>\n",
              "      <td>0.837066</td>\n",
              "      <td>0.272379</td>\n",
              "      <td>0.331679</td>\n",
              "      <td>0.429297</td>\n",
              "      <td>0.367422</td>\n",
              "    </tr>\n",
              "    <tr>\n",
              "      <th>2</th>\n",
              "      <td>0.336714</td>\n",
              "      <td>0.538842</td>\n",
              "      <td>0.192801</td>\n",
              "      <td>0.553563</td>\n",
              "      <td>0.074515</td>\n",
              "      <td>0.332993</td>\n",
              "      <td>0.365792</td>\n",
              "      <td>0.861309</td>\n",
              "      <td>0.899017</td>\n",
              "      <td>0.088600</td>\n",
              "    </tr>\n",
              "    <tr>\n",
              "      <th>3</th>\n",
              "      <td>0.092108</td>\n",
              "      <td>0.995017</td>\n",
              "      <td>0.014465</td>\n",
              "      <td>0.176371</td>\n",
              "      <td>0.241530</td>\n",
              "      <td>0.514724</td>\n",
              "      <td>0.562208</td>\n",
              "      <td>0.158963</td>\n",
              "      <td>0.073715</td>\n",
              "      <td>0.208463</td>\n",
              "    </tr>\n",
              "    <tr>\n",
              "      <th>4</th>\n",
              "      <td>0.325261</td>\n",
              "      <td>0.805968</td>\n",
              "      <td>0.957033</td>\n",
              "      <td>0.331665</td>\n",
              "      <td>0.307923</td>\n",
              "      <td>0.355315</td>\n",
              "      <td>0.501899</td>\n",
              "      <td>0.558449</td>\n",
              "      <td>0.885169</td>\n",
              "      <td>0.182754</td>\n",
              "    </tr>\n",
              "    <tr>\n",
              "      <th>...</th>\n",
              "      <td>...</td>\n",
              "      <td>...</td>\n",
              "      <td>...</td>\n",
              "      <td>...</td>\n",
              "      <td>...</td>\n",
              "      <td>...</td>\n",
              "      <td>...</td>\n",
              "      <td>...</td>\n",
              "      <td>...</td>\n",
              "      <td>...</td>\n",
              "    </tr>\n",
              "    <tr>\n",
              "      <th>995</th>\n",
              "      <td>0.305055</td>\n",
              "      <td>0.656837</td>\n",
              "      <td>0.331665</td>\n",
              "      <td>0.822525</td>\n",
              "      <td>0.907127</td>\n",
              "      <td>0.882276</td>\n",
              "      <td>0.855732</td>\n",
              "      <td>0.584786</td>\n",
              "      <td>0.808640</td>\n",
              "      <td>0.242762</td>\n",
              "    </tr>\n",
              "    <tr>\n",
              "      <th>996</th>\n",
              "      <td>0.812627</td>\n",
              "      <td>0.864258</td>\n",
              "      <td>0.616604</td>\n",
              "      <td>0.167966</td>\n",
              "      <td>0.811223</td>\n",
              "      <td>0.938071</td>\n",
              "      <td>0.418462</td>\n",
              "      <td>0.472306</td>\n",
              "      <td>0.348347</td>\n",
              "      <td>0.671129</td>\n",
              "    </tr>\n",
              "    <tr>\n",
              "      <th>997</th>\n",
              "      <td>0.250967</td>\n",
              "      <td>0.138627</td>\n",
              "      <td>0.919703</td>\n",
              "      <td>0.461234</td>\n",
              "      <td>0.886555</td>\n",
              "      <td>0.869888</td>\n",
              "      <td>0.800908</td>\n",
              "      <td>0.530324</td>\n",
              "      <td>0.779433</td>\n",
              "      <td>0.234952</td>\n",
              "    </tr>\n",
              "    <tr>\n",
              "      <th>998</th>\n",
              "      <td>0.502436</td>\n",
              "      <td>0.936820</td>\n",
              "      <td>0.580062</td>\n",
              "      <td>0.540773</td>\n",
              "      <td>0.151995</td>\n",
              "      <td>0.059452</td>\n",
              "      <td>0.225220</td>\n",
              "      <td>0.242755</td>\n",
              "      <td>0.279385</td>\n",
              "      <td>0.538755</td>\n",
              "    </tr>\n",
              "    <tr>\n",
              "      <th>999</th>\n",
              "      <td>0.457991</td>\n",
              "      <td>0.017755</td>\n",
              "      <td>0.714113</td>\n",
              "      <td>0.125992</td>\n",
              "      <td>0.063316</td>\n",
              "      <td>0.154739</td>\n",
              "      <td>0.922974</td>\n",
              "      <td>0.692299</td>\n",
              "      <td>0.816777</td>\n",
              "      <td>0.307592</td>\n",
              "    </tr>\n",
              "  </tbody>\n",
              "</table>\n",
              "<p>1000 rows × 10 columns</p>\n",
              "</div>"
            ],
            "text/plain": [
              "         Col1      Col2      Col3      Col4      Col5      Col6      Col7  \\\n",
              "0    0.263995  0.764929  0.138424  0.935242  0.605867  0.518790  0.912225   \n",
              "1    0.546092  0.653975  0.065575  0.227772  0.845269  0.837066  0.272379   \n",
              "2    0.336714  0.538842  0.192801  0.553563  0.074515  0.332993  0.365792   \n",
              "3    0.092108  0.995017  0.014465  0.176371  0.241530  0.514724  0.562208   \n",
              "4    0.325261  0.805968  0.957033  0.331665  0.307923  0.355315  0.501899   \n",
              "..        ...       ...       ...       ...       ...       ...       ...   \n",
              "995  0.305055  0.656837  0.331665  0.822525  0.907127  0.882276  0.855732   \n",
              "996  0.812627  0.864258  0.616604  0.167966  0.811223  0.938071  0.418462   \n",
              "997  0.250967  0.138627  0.919703  0.461234  0.886555  0.869888  0.800908   \n",
              "998  0.502436  0.936820  0.580062  0.540773  0.151995  0.059452  0.225220   \n",
              "999  0.457991  0.017755  0.714113  0.125992  0.063316  0.154739  0.922974   \n",
              "\n",
              "         Col8      Col9     Col10  \n",
              "0    0.608234  0.723782  0.733591  \n",
              "1    0.331679  0.429297  0.367422  \n",
              "2    0.861309  0.899017  0.088600  \n",
              "3    0.158963  0.073715  0.208463  \n",
              "4    0.558449  0.885169  0.182754  \n",
              "..        ...       ...       ...  \n",
              "995  0.584786  0.808640  0.242762  \n",
              "996  0.472306  0.348347  0.671129  \n",
              "997  0.530324  0.779433  0.234952  \n",
              "998  0.242755  0.279385  0.538755  \n",
              "999  0.692299  0.816777  0.307592  \n",
              "\n",
              "[1000 rows x 10 columns]"
            ]
          },
          "execution_count": 61,
          "metadata": {},
          "output_type": "execute_result"
        }
      ],
      "source": [
        "# lets access X_train_transformed\n",
        "get_config('X_train_transformed')"
      ]
    },
    {
      "cell_type": "code",
      "execution_count": null,
      "id": "ef9cd061",
      "metadata": {
        "id": "ef9cd061",
        "outputId": "2182d1ba-f3d5-4244-99a8-895b8149307d"
      },
      "outputs": [
        {
          "name": "stdout",
          "output_type": "stream",
          "text": [
            "The current seed is: 123\n",
            "The new seed is: 786\n"
          ]
        }
      ],
      "source": [
        "# another example: let's access seed\n",
        "print(\"The current seed is: {}\".format(get_config('seed')))\n",
        "\n",
        "# now lets change it using set_config\n",
        "set_config('seed', 786)\n",
        "print(\"The new seed is: {}\".format(get_config('seed')))"
      ]
    },
    {
      "cell_type": "markdown",
      "id": "7afbe41d",
      "metadata": {
        "id": "7afbe41d"
      },
      "source": [
        "All the preprocessing configurations and experiment settings/parameters are passed into the `setup` function. To see all available parameters, check the docstring:"
      ]
    },
    {
      "cell_type": "code",
      "execution_count": null,
      "id": "2885a14f",
      "metadata": {
        "id": "2885a14f"
      },
      "outputs": [],
      "source": [
        "# help(setup)"
      ]
    },
    {
      "cell_type": "code",
      "execution_count": null,
      "id": "34ae0fce",
      "metadata": {
        "id": "34ae0fce",
        "outputId": "7a3b58f8-f8ec-4582-84d7-9a8a72f63bff"
      },
      "outputs": [
        {
          "data": {
            "text/html": [
              "<style type=\"text/css\">\n",
              "#T_76a25_row4_col1 {\n",
              "  background-color: lightgreen;\n",
              "}\n",
              "</style>\n",
              "<table id=\"T_76a25\">\n",
              "  <thead>\n",
              "    <tr>\n",
              "      <th class=\"blank level0\" >&nbsp;</th>\n",
              "      <th id=\"T_76a25_level0_col0\" class=\"col_heading level0 col0\" >Description</th>\n",
              "      <th id=\"T_76a25_level0_col1\" class=\"col_heading level0 col1\" >Value</th>\n",
              "    </tr>\n",
              "  </thead>\n",
              "  <tbody>\n",
              "    <tr>\n",
              "      <th id=\"T_76a25_level0_row0\" class=\"row_heading level0 row0\" >0</th>\n",
              "      <td id=\"T_76a25_row0_col0\" class=\"data row0 col0\" >Session id</td>\n",
              "      <td id=\"T_76a25_row0_col1\" class=\"data row0 col1\" >123</td>\n",
              "    </tr>\n",
              "    <tr>\n",
              "      <th id=\"T_76a25_level0_row1\" class=\"row_heading level0 row1\" >1</th>\n",
              "      <td id=\"T_76a25_row1_col0\" class=\"data row1 col0\" >Original data shape</td>\n",
              "      <td id=\"T_76a25_row1_col1\" class=\"data row1 col1\" >(1000, 10)</td>\n",
              "    </tr>\n",
              "    <tr>\n",
              "      <th id=\"T_76a25_level0_row2\" class=\"row_heading level0 row2\" >2</th>\n",
              "      <td id=\"T_76a25_row2_col0\" class=\"data row2 col0\" >Transformed data shape</td>\n",
              "      <td id=\"T_76a25_row2_col1\" class=\"data row2 col1\" >(1000, 10)</td>\n",
              "    </tr>\n",
              "    <tr>\n",
              "      <th id=\"T_76a25_level0_row3\" class=\"row_heading level0 row3\" >3</th>\n",
              "      <td id=\"T_76a25_row3_col0\" class=\"data row3 col0\" >Numeric features</td>\n",
              "      <td id=\"T_76a25_row3_col1\" class=\"data row3 col1\" >10</td>\n",
              "    </tr>\n",
              "    <tr>\n",
              "      <th id=\"T_76a25_level0_row4\" class=\"row_heading level0 row4\" >4</th>\n",
              "      <td id=\"T_76a25_row4_col0\" class=\"data row4 col0\" >Preprocess</td>\n",
              "      <td id=\"T_76a25_row4_col1\" class=\"data row4 col1\" >True</td>\n",
              "    </tr>\n",
              "    <tr>\n",
              "      <th id=\"T_76a25_level0_row5\" class=\"row_heading level0 row5\" >5</th>\n",
              "      <td id=\"T_76a25_row5_col0\" class=\"data row5 col0\" >Imputation type</td>\n",
              "      <td id=\"T_76a25_row5_col1\" class=\"data row5 col1\" >simple</td>\n",
              "    </tr>\n",
              "    <tr>\n",
              "      <th id=\"T_76a25_level0_row6\" class=\"row_heading level0 row6\" >6</th>\n",
              "      <td id=\"T_76a25_row6_col0\" class=\"data row6 col0\" >Numeric imputation</td>\n",
              "      <td id=\"T_76a25_row6_col1\" class=\"data row6 col1\" >mean</td>\n",
              "    </tr>\n",
              "    <tr>\n",
              "      <th id=\"T_76a25_level0_row7\" class=\"row_heading level0 row7\" >7</th>\n",
              "      <td id=\"T_76a25_row7_col0\" class=\"data row7 col0\" >Categorical imputation</td>\n",
              "      <td id=\"T_76a25_row7_col1\" class=\"data row7 col1\" >mode</td>\n",
              "    </tr>\n",
              "    <tr>\n",
              "      <th id=\"T_76a25_level0_row8\" class=\"row_heading level0 row8\" >8</th>\n",
              "      <td id=\"T_76a25_row8_col0\" class=\"data row8 col0\" >CPU Jobs</td>\n",
              "      <td id=\"T_76a25_row8_col1\" class=\"data row8 col1\" >-1</td>\n",
              "    </tr>\n",
              "    <tr>\n",
              "      <th id=\"T_76a25_level0_row9\" class=\"row_heading level0 row9\" >9</th>\n",
              "      <td id=\"T_76a25_row9_col0\" class=\"data row9 col0\" >Use GPU</td>\n",
              "      <td id=\"T_76a25_row9_col1\" class=\"data row9 col1\" >False</td>\n",
              "    </tr>\n",
              "    <tr>\n",
              "      <th id=\"T_76a25_level0_row10\" class=\"row_heading level0 row10\" >10</th>\n",
              "      <td id=\"T_76a25_row10_col0\" class=\"data row10 col0\" >Log Experiment</td>\n",
              "      <td id=\"T_76a25_row10_col1\" class=\"data row10 col1\" >False</td>\n",
              "    </tr>\n",
              "    <tr>\n",
              "      <th id=\"T_76a25_level0_row11\" class=\"row_heading level0 row11\" >11</th>\n",
              "      <td id=\"T_76a25_row11_col0\" class=\"data row11 col0\" >Experiment Name</td>\n",
              "      <td id=\"T_76a25_row11_col1\" class=\"data row11 col1\" >anomaly-default-name</td>\n",
              "    </tr>\n",
              "    <tr>\n",
              "      <th id=\"T_76a25_level0_row12\" class=\"row_heading level0 row12\" >12</th>\n",
              "      <td id=\"T_76a25_row12_col0\" class=\"data row12 col0\" >USI</td>\n",
              "      <td id=\"T_76a25_row12_col1\" class=\"data row12 col1\" >9b1e</td>\n",
              "    </tr>\n",
              "  </tbody>\n",
              "</table>\n"
            ],
            "text/plain": [
              "<pandas.io.formats.style.Styler at 0x21f99746f40>"
            ]
          },
          "metadata": {},
          "output_type": "display_data"
        }
      ],
      "source": [
        "# init setup with bin_numeric_feature\n",
        "\n",
        "s = setup(data, session_id = 123,\n",
        "          bin_numeric_features=['Col1'])"
      ]
    },
    {
      "cell_type": "code",
      "execution_count": null,
      "id": "04204ae7",
      "metadata": {
        "id": "04204ae7",
        "outputId": "4084f2cf-089a-4275-f240-ad600d256446"
      },
      "outputs": [
        {
          "data": {
            "text/plain": [
              "<AxesSubplot:>"
            ]
          },
          "execution_count": 65,
          "metadata": {},
          "output_type": "execute_result"
        },
        {
          "data": {
            "image/png": "[encoded data removed]",
            "text/plain": [
              "<Figure size 800x550 with 1 Axes>"
            ]
          },
          "metadata": {},
          "output_type": "display_data"
        }
      ],
      "source": [
        "# lets check the X_train_transformed to see effect of params passed\n",
        "get_config('X_train_transformed')['Col1'].hist()"
      ]
    },
    {
      "cell_type": "markdown",
      "id": "d28a3e4e",
      "metadata": {
        "id": "d28a3e4e"
      },
      "source": [
        "Notice that `Col1` originally was a numeric feature with a continuous distribution. After transformation it is now converted into categorical feature. We can also access non-transformed values using `get_config` and then compare the differences."
      ]
    },
    {
      "cell_type": "code",
      "execution_count": null,
      "id": "68cc1c63",
      "metadata": {
        "id": "68cc1c63",
        "outputId": "8c9a9bfd-fd1f-40a1-9cd9-75582785fc38"
      },
      "outputs": [
        {
          "data": {
            "text/plain": [
              "<AxesSubplot:>"
            ]
          },
          "execution_count": 66,
          "metadata": {},
          "output_type": "execute_result"
        },
        {
          "data": {
            "image/png": "[encoded data removed]",
            "text/plain": [
              "<Figure size 800x550 with 1 Axes>"
            ]
          },
          "metadata": {},
          "output_type": "display_data"
        }
      ],
      "source": [
        "get_config('X_train')['Col1'].hist()"
      ]
    },
    {
      "cell_type": "markdown",
      "id": "9e6c47cb",
      "metadata": {
        "id": "9e6c47cb"
      },
      "source": [
        "## ✅ Experiment Logging\n",
        "PyCaret integrates with many different type of experiment loggers (default = 'mlflow'). To turn on experiment tracking in PyCaret you can set `log_experiment` and `experiment_name` parameter. It will automatically track all the metrics, hyperparameters, and artifacts based on the defined logger."
      ]
    },
    {
      "cell_type": "code",
      "execution_count": null,
      "id": "1af63fd0",
      "metadata": {
        "id": "1af63fd0"
      },
      "outputs": [],
      "source": [
        "# from pycaret.anomaly import *\n",
        "# s = setup(data, session_id = 123, log_experiment='mlflow', experiment_name='anomaly_project')"
      ]
    },
    {
      "cell_type": "code",
      "execution_count": null,
      "id": "42cd6120",
      "metadata": {
        "id": "42cd6120"
      },
      "outputs": [],
      "source": [
        "# train iforest\n",
        "# iforest = create_model('iforest')"
      ]
    },
    {
      "cell_type": "code",
      "execution_count": null,
      "id": "adc82ce5",
      "metadata": {
        "id": "adc82ce5"
      },
      "outputs": [],
      "source": [
        "# start mlflow server on localhost:5000\n",
        "# !mlflow ui"
      ]
    },
    {
      "cell_type": "markdown",
      "id": "a06f9df7",
      "metadata": {
        "id": "a06f9df7"
      },
      "source": [
        "By default PyCaret uses `MLFlow` logger that can be changed using `log_experiment` parameter. Following loggers are available:\n",
        "    \n",
        "    - mlflow\n",
        "    - wandb\n",
        "    - comet_ml\n",
        "    - dagshub\n",
        "    \n",
        "Other logging related parameters that you may find useful are:\n",
        "\n",
        "- experiment_custom_tags\n",
        "- log_plots\n",
        "- log_data\n",
        "- log_profile\n",
        "\n",
        "For more information check out the docstring of the `setup` function."
      ]
    },
    {
      "cell_type": "code",
      "execution_count": null,
      "id": "2f8b6aa1",
      "metadata": {
        "id": "2f8b6aa1"
      },
      "outputs": [],
      "source": [
        "# help(setup)"
      ]
    },
    {
      "cell_type": "markdown",
      "id": "6ce0b555",
      "metadata": {
        "id": "6ce0b555"
      },
      "source": [
        "## ✅ Create Model\n",
        "This function trains an unsupervised anomaly detection model. All the available models can be accessed using the models function."
      ]
    },
    {
      "cell_type": "code",
      "execution_count": null,
      "id": "837cebfa",
      "metadata": {
        "id": "837cebfa",
        "outputId": "d78c738e-5dcc-479f-fc4d-bea2ed4dcca3"
      },
      "outputs": [
        {
          "data": {
            "text/html": [
              "<div>\n",
              "<style scoped>\n",
              "    .dataframe tbody tr th:only-of-type {\n",
              "        vertical-align: middle;\n",
              "    }\n",
              "\n",
              "    .dataframe tbody tr th {\n",
              "        vertical-align: top;\n",
              "    }\n",
              "\n",
              "    .dataframe thead th {\n",
              "        text-align: right;\n",
              "    }\n",
              "</style>\n",
              "<table border=\"1\" class=\"dataframe\">\n",
              "  <thead>\n",
              "    <tr style=\"text-align: right;\">\n",
              "      <th></th>\n",
              "      <th>Name</th>\n",
              "      <th>Reference</th>\n",
              "    </tr>\n",
              "    <tr>\n",
              "      <th>ID</th>\n",
              "      <th></th>\n",
              "      <th></th>\n",
              "    </tr>\n",
              "  </thead>\n",
              "  <tbody>\n",
              "    <tr>\n",
              "      <th>abod</th>\n",
              "      <td>Angle-base Outlier Detection</td>\n",
              "      <td>pyod.models.abod.ABOD</td>\n",
              "    </tr>\n",
              "    <tr>\n",
              "      <th>cluster</th>\n",
              "      <td>Clustering-Based Local Outlier</td>\n",
              "      <td>pyod.models.cblof.CBLOF</td>\n",
              "    </tr>\n",
              "    <tr>\n",
              "      <th>cof</th>\n",
              "      <td>Connectivity-Based Local Outlier</td>\n",
              "      <td>pycaret.internal.patches.pyod.COFPatched</td>\n",
              "    </tr>\n",
              "    <tr>\n",
              "      <th>iforest</th>\n",
              "      <td>Isolation Forest</td>\n",
              "      <td>pyod.models.iforest.IForest</td>\n",
              "    </tr>\n",
              "    <tr>\n",
              "      <th>histogram</th>\n",
              "      <td>Histogram-based Outlier Detection</td>\n",
              "      <td>pyod.models.hbos.HBOS</td>\n",
              "    </tr>\n",
              "    <tr>\n",
              "      <th>knn</th>\n",
              "      <td>K-Nearest Neighbors Detector</td>\n",
              "      <td>pyod.models.knn.KNN</td>\n",
              "    </tr>\n",
              "    <tr>\n",
              "      <th>lof</th>\n",
              "      <td>Local Outlier Factor</td>\n",
              "      <td>pyod.models.lof.LOF</td>\n",
              "    </tr>\n",
              "    <tr>\n",
              "      <th>svm</th>\n",
              "      <td>One-class SVM detector</td>\n",
              "      <td>pyod.models.ocsvm.OCSVM</td>\n",
              "    </tr>\n",
              "    <tr>\n",
              "      <th>pca</th>\n",
              "      <td>Principal Component Analysis</td>\n",
              "      <td>pyod.models.pca.PCA</td>\n",
              "    </tr>\n",
              "    <tr>\n",
              "      <th>mcd</th>\n",
              "      <td>Minimum Covariance Determinant</td>\n",
              "      <td>pyod.models.mcd.MCD</td>\n",
              "    </tr>\n",
              "    <tr>\n",
              "      <th>sod</th>\n",
              "      <td>Subspace Outlier Detection</td>\n",
              "      <td>pycaret.internal.patches.pyod.SODPatched</td>\n",
              "    </tr>\n",
              "    <tr>\n",
              "      <th>sos</th>\n",
              "      <td>Stochastic Outlier Selection</td>\n",
              "      <td>pycaret.internal.patches.pyod.SOSPatched</td>\n",
              "    </tr>\n",
              "  </tbody>\n",
              "</table>\n",
              "</div>"
            ],
            "text/plain": [
              "                                        Name  \\\n",
              "ID                                             \n",
              "abod            Angle-base Outlier Detection   \n",
              "cluster       Clustering-Based Local Outlier   \n",
              "cof         Connectivity-Based Local Outlier   \n",
              "iforest                     Isolation Forest   \n",
              "histogram  Histogram-based Outlier Detection   \n",
              "knn             K-Nearest Neighbors Detector   \n",
              "lof                     Local Outlier Factor   \n",
              "svm                   One-class SVM detector   \n",
              "pca             Principal Component Analysis   \n",
              "mcd           Minimum Covariance Determinant   \n",
              "sod               Subspace Outlier Detection   \n",
              "sos             Stochastic Outlier Selection   \n",
              "\n",
              "                                          Reference  \n",
              "ID                                                   \n",
              "abod                          pyod.models.abod.ABOD  \n",
              "cluster                     pyod.models.cblof.CBLOF  \n",
              "cof        pycaret.internal.patches.pyod.COFPatched  \n",
              "iforest                 pyod.models.iforest.IForest  \n",
              "histogram                     pyod.models.hbos.HBOS  \n",
              "knn                             pyod.models.knn.KNN  \n",
              "lof                             pyod.models.lof.LOF  \n",
              "svm                         pyod.models.ocsvm.OCSVM  \n",
              "pca                             pyod.models.pca.PCA  \n",
              "mcd                             pyod.models.mcd.MCD  \n",
              "sod        pycaret.internal.patches.pyod.SODPatched  \n",
              "sos        pycaret.internal.patches.pyod.SOSPatched  "
            ]
          },
          "execution_count": 71,
          "metadata": {},
          "output_type": "execute_result"
        }
      ],
      "source": [
        "# check all the available models\n",
        "models()"
      ]
    },
    {
      "cell_type": "code",
      "execution_count": null,
      "id": "16641cab",
      "metadata": {
        "id": "16641cab",
        "outputId": "ea8dc427-db7b-44bb-e8dd-e1ea736853aa",
        "colab": {
          "referenced_widgets": [
            ""
          ]
        }
      },
      "outputs": [
        {
          "data": {
            "text/html": [],
            "text/plain": [
              "<IPython.core.display.HTML object>"
            ]
          },
          "metadata": {},
          "output_type": "display_data"
        },
        {
          "data": {
            "text/html": [],
            "text/plain": [
              "<IPython.core.display.HTML object>"
            ]
          },
          "metadata": {},
          "output_type": "display_data"
        },
        {
          "data": {
            "application/vnd.jupyter.widget-view+json": {
              "model_id": "",
              "version_major": 2,
              "version_minor": 0
            },
            "text/plain": [
              "Processing:   0%|          | 0/3 [00:00<?, ?it/s]"
            ]
          },
          "metadata": {},
          "output_type": "display_data"
        }
      ],
      "source": [
        "# train iforest model\n",
        "iforest = create_model('iforest')"
      ]
    },
    {
      "cell_type": "code",
      "execution_count": null,
      "id": "2a59af82",
      "metadata": {
        "id": "2a59af82",
        "outputId": "09e98b2e-8d46-4e7a-d2c4-8ada65f0dd59"
      },
      "outputs": [
        {
          "data": {
            "text/plain": [
              "IForest(behaviour='new', bootstrap=False, contamination=0.05,\n",
              "    max_features=1.0, max_samples='auto', n_estimators=100, n_jobs=-1,\n",
              "    random_state=123, verbose=0)"
            ]
          },
          "execution_count": 73,
          "metadata": {},
          "output_type": "execute_result"
        }
      ],
      "source": [
        "iforest"
      ]
    },
    {
      "cell_type": "code",
      "execution_count": null,
      "id": "148a74c4",
      "metadata": {
        "id": "148a74c4",
        "outputId": "d474b49f-6f9e-4452-cf3e-0a685171a7f0",
        "colab": {
          "referenced_widgets": [
            ""
          ]
        }
      },
      "outputs": [
        {
          "data": {
            "text/html": [],
            "text/plain": [
              "<IPython.core.display.HTML object>"
            ]
          },
          "metadata": {},
          "output_type": "display_data"
        },
        {
          "data": {
            "text/html": [],
            "text/plain": [
              "<IPython.core.display.HTML object>"
            ]
          },
          "metadata": {},
          "output_type": "display_data"
        },
        {
          "data": {
            "application/vnd.jupyter.widget-view+json": {
              "model_id": "",
              "version_major": 2,
              "version_minor": 0
            },
            "text/plain": [
              "Processing:   0%|          | 0/3 [00:00<?, ?it/s]"
            ]
          },
          "metadata": {},
          "output_type": "display_data"
        },
        {
          "data": {
            "text/plain": [
              "IForest(behaviour='new', bootstrap=False, contamination=0.05,\n",
              "    max_features=1.0, max_samples='auto', n_estimators=100, n_jobs=-1,\n",
              "    random_state=123, verbose=0)"
            ]
          },
          "execution_count": 74,
          "metadata": {},
          "output_type": "execute_result"
        }
      ],
      "source": [
        "# train iforest with specific model parameter\n",
        "create_model('iforest', contamination = 0.1)"
      ]
    },
    {
      "cell_type": "code",
      "execution_count": null,
      "id": "3fb32c74",
      "metadata": {
        "id": "3fb32c74"
      },
      "outputs": [],
      "source": [
        "# help(create_model)"
      ]
    },
    {
      "cell_type": "markdown",
      "id": "e302389c",
      "metadata": {
        "id": "e302389c"
      },
      "source": [
        "## ✅ Assign Model\n",
        "This function assigns anomaly labels to the dataset for a given model. (1 = outlier, 0 = inlier)."
      ]
    },
    {
      "cell_type": "code",
      "execution_count": null,
      "id": "b831ba7d",
      "metadata": {
        "id": "b831ba7d",
        "outputId": "eda73472-7795-4317-c87d-3746c6671c43"
      },
      "outputs": [
        {
          "data": {
            "text/html": [
              "<div>\n",
              "<style scoped>\n",
              "    .dataframe tbody tr th:only-of-type {\n",
              "        vertical-align: middle;\n",
              "    }\n",
              "\n",
              "    .dataframe tbody tr th {\n",
              "        vertical-align: top;\n",
              "    }\n",
              "\n",
              "    .dataframe thead th {\n",
              "        text-align: right;\n",
              "    }\n",
              "</style>\n",
              "<table border=\"1\" class=\"dataframe\">\n",
              "  <thead>\n",
              "    <tr style=\"text-align: right;\">\n",
              "      <th></th>\n",
              "      <th>Col1</th>\n",
              "      <th>Col2</th>\n",
              "      <th>Col3</th>\n",
              "      <th>Col4</th>\n",
              "      <th>Col5</th>\n",
              "      <th>Col6</th>\n",
              "      <th>Col7</th>\n",
              "      <th>Col8</th>\n",
              "      <th>Col9</th>\n",
              "      <th>Col10</th>\n",
              "      <th>Anomaly</th>\n",
              "      <th>Anomaly_Score</th>\n",
              "    </tr>\n",
              "  </thead>\n",
              "  <tbody>\n",
              "    <tr>\n",
              "      <th>0</th>\n",
              "      <td>0.263995</td>\n",
              "      <td>0.764929</td>\n",
              "      <td>0.138424</td>\n",
              "      <td>0.935242</td>\n",
              "      <td>0.605867</td>\n",
              "      <td>0.518790</td>\n",
              "      <td>0.912225</td>\n",
              "      <td>0.608234</td>\n",
              "      <td>0.723782</td>\n",
              "      <td>0.733591</td>\n",
              "      <td>0</td>\n",
              "      <td>-0.024763</td>\n",
              "    </tr>\n",
              "    <tr>\n",
              "      <th>1</th>\n",
              "      <td>0.546092</td>\n",
              "      <td>0.653975</td>\n",
              "      <td>0.065575</td>\n",
              "      <td>0.227772</td>\n",
              "      <td>0.845269</td>\n",
              "      <td>0.837066</td>\n",
              "      <td>0.272379</td>\n",
              "      <td>0.331679</td>\n",
              "      <td>0.429297</td>\n",
              "      <td>0.367422</td>\n",
              "      <td>0</td>\n",
              "      <td>-0.083637</td>\n",
              "    </tr>\n",
              "    <tr>\n",
              "      <th>2</th>\n",
              "      <td>0.336714</td>\n",
              "      <td>0.538842</td>\n",
              "      <td>0.192801</td>\n",
              "      <td>0.553563</td>\n",
              "      <td>0.074515</td>\n",
              "      <td>0.332993</td>\n",
              "      <td>0.365792</td>\n",
              "      <td>0.861309</td>\n",
              "      <td>0.899017</td>\n",
              "      <td>0.088600</td>\n",
              "      <td>1</td>\n",
              "      <td>0.021481</td>\n",
              "    </tr>\n",
              "    <tr>\n",
              "      <th>3</th>\n",
              "      <td>0.092108</td>\n",
              "      <td>0.995017</td>\n",
              "      <td>0.014465</td>\n",
              "      <td>0.176371</td>\n",
              "      <td>0.241530</td>\n",
              "      <td>0.514724</td>\n",
              "      <td>0.562208</td>\n",
              "      <td>0.158963</td>\n",
              "      <td>0.073715</td>\n",
              "      <td>0.208463</td>\n",
              "      <td>1</td>\n",
              "      <td>0.044031</td>\n",
              "    </tr>\n",
              "    <tr>\n",
              "      <th>4</th>\n",
              "      <td>0.325261</td>\n",
              "      <td>0.805968</td>\n",
              "      <td>0.957033</td>\n",
              "      <td>0.331665</td>\n",
              "      <td>0.307923</td>\n",
              "      <td>0.355315</td>\n",
              "      <td>0.501899</td>\n",
              "      <td>0.558449</td>\n",
              "      <td>0.885169</td>\n",
              "      <td>0.182754</td>\n",
              "      <td>0</td>\n",
              "      <td>-0.026150</td>\n",
              "    </tr>\n",
              "    <tr>\n",
              "      <th>...</th>\n",
              "      <td>...</td>\n",
              "      <td>...</td>\n",
              "      <td>...</td>\n",
              "      <td>...</td>\n",
              "      <td>...</td>\n",
              "      <td>...</td>\n",
              "      <td>...</td>\n",
              "      <td>...</td>\n",
              "      <td>...</td>\n",
              "      <td>...</td>\n",
              "      <td>...</td>\n",
              "      <td>...</td>\n",
              "    </tr>\n",
              "    <tr>\n",
              "      <th>995</th>\n",
              "      <td>0.305055</td>\n",
              "      <td>0.656837</td>\n",
              "      <td>0.331665</td>\n",
              "      <td>0.822525</td>\n",
              "      <td>0.907127</td>\n",
              "      <td>0.882276</td>\n",
              "      <td>0.855732</td>\n",
              "      <td>0.584786</td>\n",
              "      <td>0.808640</td>\n",
              "      <td>0.242762</td>\n",
              "      <td>0</td>\n",
              "      <td>-0.076718</td>\n",
              "    </tr>\n",
              "    <tr>\n",
              "      <th>996</th>\n",
              "      <td>0.812627</td>\n",
              "      <td>0.864258</td>\n",
              "      <td>0.616604</td>\n",
              "      <td>0.167966</td>\n",
              "      <td>0.811223</td>\n",
              "      <td>0.938071</td>\n",
              "      <td>0.418462</td>\n",
              "      <td>0.472306</td>\n",
              "      <td>0.348347</td>\n",
              "      <td>0.671129</td>\n",
              "      <td>0</td>\n",
              "      <td>-0.059275</td>\n",
              "    </tr>\n",
              "    <tr>\n",
              "      <th>997</th>\n",
              "      <td>0.250967</td>\n",
              "      <td>0.138627</td>\n",
              "      <td>0.919703</td>\n",
              "      <td>0.461234</td>\n",
              "      <td>0.886555</td>\n",
              "      <td>0.869888</td>\n",
              "      <td>0.800908</td>\n",
              "      <td>0.530324</td>\n",
              "      <td>0.779433</td>\n",
              "      <td>0.234952</td>\n",
              "      <td>0</td>\n",
              "      <td>-0.058574</td>\n",
              "    </tr>\n",
              "    <tr>\n",
              "      <th>998</th>\n",
              "      <td>0.502436</td>\n",
              "      <td>0.936820</td>\n",
              "      <td>0.580062</td>\n",
              "      <td>0.540773</td>\n",
              "      <td>0.151995</td>\n",
              "      <td>0.059452</td>\n",
              "      <td>0.225220</td>\n",
              "      <td>0.242755</td>\n",
              "      <td>0.279385</td>\n",
              "      <td>0.538755</td>\n",
              "      <td>0</td>\n",
              "      <td>-0.089169</td>\n",
              "    </tr>\n",
              "    <tr>\n",
              "      <th>999</th>\n",
              "      <td>0.457991</td>\n",
              "      <td>0.017755</td>\n",
              "      <td>0.714113</td>\n",
              "      <td>0.125992</td>\n",
              "      <td>0.063316</td>\n",
              "      <td>0.154739</td>\n",
              "      <td>0.922974</td>\n",
              "      <td>0.692299</td>\n",
              "      <td>0.816777</td>\n",
              "      <td>0.307592</td>\n",
              "      <td>0</td>\n",
              "      <td>-0.008304</td>\n",
              "    </tr>\n",
              "  </tbody>\n",
              "</table>\n",
              "<p>1000 rows × 12 columns</p>\n",
              "</div>"
            ],
            "text/plain": [
              "         Col1      Col2      Col3      Col4      Col5      Col6      Col7  \\\n",
              "0    0.263995  0.764929  0.138424  0.935242  0.605867  0.518790  0.912225   \n",
              "1    0.546092  0.653975  0.065575  0.227772  0.845269  0.837066  0.272379   \n",
              "2    0.336714  0.538842  0.192801  0.553563  0.074515  0.332993  0.365792   \n",
              "3    0.092108  0.995017  0.014465  0.176371  0.241530  0.514724  0.562208   \n",
              "4    0.325261  0.805968  0.957033  0.331665  0.307923  0.355315  0.501899   \n",
              "..        ...       ...       ...       ...       ...       ...       ...   \n",
              "995  0.305055  0.656837  0.331665  0.822525  0.907127  0.882276  0.855732   \n",
              "996  0.812627  0.864258  0.616604  0.167966  0.811223  0.938071  0.418462   \n",
              "997  0.250967  0.138627  0.919703  0.461234  0.886555  0.869888  0.800908   \n",
              "998  0.502436  0.936820  0.580062  0.540773  0.151995  0.059452  0.225220   \n",
              "999  0.457991  0.017755  0.714113  0.125992  0.063316  0.154739  0.922974   \n",
              "\n",
              "         Col8      Col9     Col10  Anomaly  Anomaly_Score  \n",
              "0    0.608234  0.723782  0.733591        0      -0.024763  \n",
              "1    0.331679  0.429297  0.367422        0      -0.083637  \n",
              "2    0.861309  0.899017  0.088600        1       0.021481  \n",
              "3    0.158963  0.073715  0.208463        1       0.044031  \n",
              "4    0.558449  0.885169  0.182754        0      -0.026150  \n",
              "..        ...       ...       ...      ...            ...  \n",
              "995  0.584786  0.808640  0.242762        0      -0.076718  \n",
              "996  0.472306  0.348347  0.671129        0      -0.059275  \n",
              "997  0.530324  0.779433  0.234952        0      -0.058574  \n",
              "998  0.242755  0.279385  0.538755        0      -0.089169  \n",
              "999  0.692299  0.816777  0.307592        0      -0.008304  \n",
              "\n",
              "[1000 rows x 12 columns]"
            ]
          },
          "execution_count": 76,
          "metadata": {},
          "output_type": "execute_result"
        }
      ],
      "source": [
        "iforest_results = assign_model(iforest)\n",
        "iforest_results"
      ]
    },
    {
      "cell_type": "code",
      "execution_count": null,
      "id": "385bd688",
      "metadata": {
        "id": "385bd688"
      },
      "outputs": [],
      "source": [
        "# help(assign_model)"
      ]
    },
    {
      "cell_type": "markdown",
      "id": "2dc8e294",
      "metadata": {
        "id": "2dc8e294"
      },
      "source": [
        "## ✅ Plot Model"
      ]
    },
    {
      "cell_type": "code",
      "execution_count": null,
      "id": "952b6f24",
      "metadata": {
        "id": "952b6f24",
        "outputId": "c9b00d6f-3cf9-42e9-83ca-65113da5652a"
      },
      "outputs": [
        {
          "data": {
            "text/html": [],
            "text/plain": [
              "<IPython.core.display.HTML object>"
            ]
          },
          "metadata": {},
          "output_type": "display_data"
        },
        {
          "data": {
            "application/vnd.plotly.v1+json": {
              "config": {
                "plotlyServerURL": "https://plot.ly"
              },
              "data": [
                {
                  "customdata": [
                    [
                      0.26399535
                    ],
                    [
                      0.54609233
                    ],
                    [
                      0.33671412
                    ],
                    [
                      0.09210783
                    ],
                    [
                      0.32526118
                    ],
                    [
                      0.21246485
                    ],
                    [
                      0.25856572
                    ],
                    [
                      0.86923677
                    ],
                    [
                      0.19707796
                    ],
                    [
                      0.29298452
                    ],
                    [
                      0.8217832
                    ],
                    [
                      0.79662293
                    ],
                    [
                      0.045577012
                    ],
                    [
                      0.61366034
                    ],
                    [
                      0.95074457
                    ],
                    [
                      0.33634633
                    ],
                    [
                      0.034440666
                    ],
                    [
                      0.74154425
                    ],
                    [
                      0.18443266
                    ],
                    [
                      0.66451496
                    ],
                    [
                      0.16282485
                    ],
                    [
                      0.72983843
                    ],
                    [
                      0.62837386
                    ],
                    [
                      0.05788366
                    ],
                    [
                      0.44553483
                    ],
                    [
                      0.80183697
                    ],
                    [
                      0.27709612
                    ],
                    [
                      0.22863401
                    ],
                    [
                      0.8348607
                    ],
                    [
                      0.6697665
                    ],
                    [
                      0.5325273
                    ],
                    [
                      0.17045908
                    ],
                    [
                      0.5102885
                    ],
                    [
                      0.977562
                    ],
                    [
                      0.24977599
                    ],
                    [
                      0.9755007
                    ],
                    [
                      0.6137017
                    ],
                    [
                      0.16742036
                    ],
                    [
                      0.5374725
                    ],
                    [
                      0.37989914
                    ],
                    [
                      0.6338973
                    ],
                    [
                      0.6339604
                    ],
                    [
                      0.5499747
                    ],
                    [
                      0.17817299
                    ],
                    [
                      0.85563815
                    ],
                    [
                      0.3217967
                    ],
                    [
                      0.8174905
                    ],
                    [
                      0.25487942
                    ],
                    [
                      0.3441405
                    ],
                    [
                      0.8061457
                    ],
                    [
                      0.27708167
                    ],
                    [
                      0.5443285
                    ],
                    [
                      0.07708393
                    ],
                    [
                      0.27308145
                    ],
                    [
                      0.39087734
                    ],
                    [
                      0.3496214
                    ],
                    [
                      0.21454975
                    ],
                    [
                      0.20607522
                    ],
                    [
                      0.86462
                    ],
                    [
                      0.9817088
                    ],
                    [
                      0.33482966
                    ],
                    [
                      0.6483871
                    ],
                    [
                      0.09364356
                    ],
                    [
                      0.8378027
                    ],
                    [
                      0.76034397
                    ],
                    [
                      0.2914042
                    ],
                    [
                      0.3413454
                    ],
                    [
                      0.7611125
                    ],
                    [
                      0.5418998
                    ],
                    [
                      0.6841766
                    ],
                    [
                      0.9835356
                    ],
                    [
                      0.52081245
                    ],
                    [
                      0.32822773
                    ],
                    [
                      0.09715794
                    ],
                    [
                      0.8760886
                    ],
                    [
                      0.8702145
                    ],
                    [
                      0.656087
                    ],
                    [
                      0.3067915
                    ],
                    [
                      0.48126733
                    ],
                    [
                      0.25955918
                    ],
                    [
                      0.32612365
                    ],
                    [
                      0.93056804
                    ],
                    [
                      0.6583894
                    ],
                    [
                      0.6899923
                    ],
                    [
                      0.31578112
                    ],
                    [
                      0.5669051
                    ],
                    [
                      0.63752663
                    ],
                    [
                      0.6875407
                    ],
                    [
                      0.3243006
                    ],
                    [
                      0.5927049
                    ],
                    [
                      0.74025315
                    ],
                    [
                      0.5940329
                    ],
                    [
                      0.59645295
                    ],
                    [
                      0.2776808
                    ],
                    [
                      0.25832966
                    ],
                    [
                      0.14246087
                    ],
                    [
                      0.43553346
                    ],
                    [
                      0.70249903
                    ],
                    [
                      0.58897537
                    ],
                    [
                      0.6533044
                    ],
                    [
                      0.3369685
                    ],
                    [
                      0.6312447
                    ],
                    [
                      0.7353008
                    ],
                    [
                      0.050390366
                    ],
                    [
                      0.06426492
                    ],
                    [
                      0.6653595
                    ],
                    [
                      0.91783524
                    ],
                    [
                      0.4465101
                    ],
                    [
                      0.6619382
                    ],
                    [
                      0.43935984
                    ],
                    [
                      0.6875724
                    ],
                    [
                      0.36346224
                    ],
                    [
                      0.6542622
                    ],
                    [
                      0.57855356
                    ],
                    [
                      0.065927945
                    ],
                    [
                      0.55014855
                    ],
                    [
                      0.13918282
                    ],
                    [
                      0.08000463
                    ],
                    [
                      0.27822837
                    ],
                    [
                      0.5601243
                    ],
                    [
                      0.53639865
                    ],
                    [
                      0.4265319
                    ],
                    [
                      0.78910977
                    ],
                    [
                      0.7429005
                    ],
                    [
                      0.90169257
                    ],
                    [
                      0.6503374
                    ],
                    [
                      0.11405731
                    ],
                    [
                      0.26081258
                    ],
                    [
                      0.43991232
                    ],
                    [
                      0.9644093
                    ],
                    [
                      0.18440141
                    ],
                    [
                      0.34514543
                    ],
                    [
                      0.17589459
                    ],
                    [
                      0.31251445
                    ],
                    [
                      0.6741319
                    ],
                    [
                      0.32825044
                    ],
                    [
                      0.5982311
                    ],
                    [
                      0.09259882
                    ],
                    [
                      0.49791652
                    ],
                    [
                      0.41977653
                    ],
                    [
                      0.3121767
                    ],
                    [
                      0.9378571
                    ],
                    [
                      0.049030963
                    ],
                    [
                      0.47610453
                    ],
                    [
                      0.44739753
                    ],
                    [
                      0.29580605
                    ],
                    [
                      0.737364
                    ],
                    [
                      0.6258963
                    ],
                    [
                      0.40881342
                    ],
                    [
                      0.43751115
                    ],
                    [
                      0.69135135
                    ],
                    [
                      0.9355553
                    ],
                    [
                      0.43784666
                    ],
                    [
                      0.07221772
                    ],
                    [
                      0.67636067
                    ],
                    [
                      0.468884
                    ],
                    [
                      0.5438206
                    ],
                    [
                      0.65552264
                    ],
                    [
                      0.69352895
                    ],
                    [
                      0.108878314
                    ],
                    [
                      0.28546375
                    ],
                    [
                      0
                    ],
                    [
                      0.7064955
                    ],
                    [
                      0.27353063
                    ],
                    [
                      0.29232028
                    ],
                    [
                      0.6739843
                    ],
                    [
                      0.12612183
                    ],
                    [
                      0.9467075
                    ],
                    [
                      0.9363389
                    ],
                    [
                      0.85375535
                    ],
                    [
                      0.7060714
                    ],
                    [
                      0.6936822
                    ],
                    [
                      0.5085279
                    ],
                    [
                      0.34717038
                    ],
                    [
                      0.70415425
                    ],
                    [
                      0.6587301
                    ],
                    [
                      0.15584156
                    ],
                    [
                      0.31108543
                    ],
                    [
                      0.28113535
                    ],
                    [
                      0.0945878
                    ],
                    [
                      0.683261
                    ],
                    [
                      0.90772927
                    ],
                    [
                      0.29151267
                    ],
                    [
                      0.7527345
                    ],
                    [
                      0.93482965
                    ],
                    [
                      0.07141396
                    ],
                    [
                      0.5948963
                    ],
                    [
                      0.40467203
                    ],
                    [
                      0.1383762
                    ],
                    [
                      0.7473385
                    ],
                    [
                      0.5308825
                    ],
                    [
                      0.2826496
                    ],
                    [
                      0.69933575
                    ],
                    [
                      0.05611125
                    ],
                    [
                      0.855235
                    ],
                    [
                      0.07789513
                    ],
                    [
                      0.8916496
                    ],
                    [
                      0.3867423
                    ],
                    [
                      0.27113158
                    ],
                    [
                      0.95888895
                    ],
                    [
                      0.08512087
                    ],
                    [
                      0.52690226
                    ],
                    [
                      0.066577785
                    ],
                    [
                      0.8415067
                    ],
                    [
                      0.2553421
                    ],
                    [
                      0.060545772
                    ],
                    [
                      0.07338587
                    ],
                    [
                      0.18749373
                    ],
                    [
                      0.8583657
                    ],
                    [
                      0.09064035
                    ],
                    [
                      0.7097252
                    ],
                    [
                      0.6313006
                    ],
                    [
                      0.24750447
                    ],
                    [
                      0.8228436
                    ],
                    [
                      0.37347677
                    ],
                    [
                      0.6255386
                    ],
                    [
                      0.2929517
                    ],
                    [
                      0.29973033
                    ],
                    [
                      0.25121406
                    ],
                    [
                      0.34448054
                    ],
                    [
                      0.29306477
                    ],
                    [
                      0.7628032
                    ],
                    [
                      0.7384708
                    ],
                    [
                      0.67488325
                    ],
                    [
                      0.7191516
                    ],
                    [
                      0.13098022
                    ],
                    [
                      0.51132804
                    ],
                    [
                      0.04492903
                    ],
                    [
                      0.56091446
                    ],
                    [
                      0.74404067
                    ],
                    [
                      0.26696163
                    ],
                    [
                      0.64423186
                    ],
                    [
                      0.038113352
                    ],
                    [
                      0.0571553
                    ],
                    [
                      0.34139246
                    ],
                    [
                      0.72046363
                    ],
                    [
                      0.40287822
                    ],
                    [
                      0.63514894
                    ],
                    [
                      0.32072946
                    ],
                    [
                      0.091209695
                    ],
                    [
                      0.23414609
                    ],
                    [
                      0.8902211
                    ],
                    [
                      0.6021709
                    ],
                    [
                      0.63365203
                    ],
                    [
                      0.80624086
                    ],
                    [
                      0.7397312
                    ],
                    [
                      0.46523127
                    ],
                    [
                      0.7321109
                    ],
                    [
                      0.3738743
                    ],
                    [
                      0.5015879
                    ],
                    [
                      0.115383156
                    ],
                    [
                      0.7319466
                    ],
                    [
                      0.41829872
                    ],
                    [
                      0.062259592
                    ],
                    [
                      0.3914964
                    ],
                    [
                      0.3598493
                    ],
                    [
                      0.24523562
                    ],
                    [
                      0.6100283
                    ],
                    [
                      0.43540362
                    ],
                    [
                      0.43430966
                    ],
                    [
                      0.52376336
                    ],
                    [
                      0.17118786
                    ],
                    [
                      0.1877343
                    ],
                    [
                      0.94501466
                    ],
                    [
                      0.027851097
                    ],
                    [
                      0.68445706
                    ],
                    [
                      0.17801453
                    ],
                    [
                      0.6434279
                    ],
                    [
                      0.59588355
                    ],
                    [
                      0.3723617
                    ],
                    [
                      0.58610356
                    ],
                    [
                      0.27165884
                    ],
                    [
                      0.5995111
                    ],
                    [
                      0.46836308
                    ],
                    [
                      0.31451556
                    ],
                    [
                      0.21893726
                    ],
                    [
                      0.25471658
                    ],
                    [
                      0.25612816
                    ],
                    [
                      0.60225976
                    ],
                    [
                      0.13438107
                    ],
                    [
                      0.5138874
                    ],
                    [
                      0.62424165
                    ],
                    [
                      0.16025186
                    ],
                    [
                      0.5807081
                    ],
                    [
                      0.27054048
                    ],
                    [
                      0.83291996
                    ],
                    [
                      0.93032134
                    ],
                    [
                      0.7191579
                    ],
                    [
                      0.88672006
                    ],
                    [
                      0.09879228
                    ],
                    [
                      0.7871743
                    ],
                    [
                      0.3655924
                    ],
                    [
                      0.7195762
                    ],
                    [
                      0.8058956
                    ],
                    [
                      0.75557834
                    ],
                    [
                      0.5260059
                    ],
                    [
                      0.68880427
                    ],
                    [
                      0.2211153
                    ],
                    [
                      0.73936945
                    ],
                    [
                      0.40844023
                    ],
                    [
                      0.34892654
                    ],
                    [
                      0.43371376
                    ],
                    [
                      0.5964966
                    ],
                    [
                      0.6942953
                    ],
                    [
                      0.709031
                    ],
                    [
                      0.867653
                    ],
                    [
                      0.89332545
                    ],
                    [
                      0.7460209
                    ],
                    [
                      0.5382844
                    ],
                    [
                      0.8922193
                    ],
                    [
                      0.9351758
                    ],
                    [
                      0.2605277
                    ],
                    [
                      0.95678043
                    ],
                    [
                      0.20493248
                    ],
                    [
                      0.68773335
                    ],
                    [
                      0.32906362
                    ],
                    [
                      0.6321498
                    ],
                    [
                      0.4637445
                    ],
                    [
                      0.69885963
                    ],
                    [
                      0.38544658
                    ],
                    [
                      0.47997537
                    ],
                    [
                      0.7322791
                    ],
                    [
                      0.3813543
                    ],
                    [
                      0.459326
                    ],
                    [
                      0.25740144
                    ],
                    [
                      0.6650148
                    ],
                    [
                      0.103399545
                    ],
                    [
                      0.42528442
                    ],
                    [
                      0.94352907
                    ],
                    [
                      0.5947502
                    ],
                    [
                      0.5437768
                    ],
                    [
                      0.18203989
                    ],
                    [
                      0.23584208
                    ],
                    [
                      0.58598447
                    ],
                    [
                      0.7620132
                    ],
                    [
                      0.6849829
                    ],
                    [
                      0.6769369
                    ],
                    [
                      0.29018497
                    ],
                    [
                      0.48106822
                    ],
                    [
                      0.49276602
                    ],
                    [
                      0.22185624
                    ],
                    [
                      0.053875998
                    ],
                    [
                      0.08275115
                    ],
                    [
                      0.38536623
                    ],
                    [
                      0.70251393
                    ],
                    [
                      0.9155316
                    ],
                    [
                      0.082087435
                    ],
                    [
                      0.25128037
                    ],
                    [
                      0.41672182
                    ],
                    [
                      0.27703267
                    ],
                    [
                      0.5795398
                    ],
                    [
                      0.5693635
                    ],
                    [
                      0.13339971
                    ],
                    [
                      0.26504546
                    ],
                    [
                      0.9365719
                    ],
                    [
                      0.25261855
                    ],
                    [
                      0.054033082
                    ],
                    [
                      0.8024814
                    ],
                    [
                      0.5281977
                    ],
                    [
                      0.9515026
                    ],
                    [
                      0.57212114
                    ],
                    [
                      0.7529382
                    ],
                    [
                      0.14385754
                    ],
                    [
                      0.5134846
                    ],
                    [
                      0.3133224
                    ],
                    [
                      0.68779737
                    ],
                    [
                      0.37705985
                    ],
                    [
                      0.34822613
                    ],
                    [
                      0.6776328
                    ],
                    [
                      0.24138752
                    ],
                    [
                      0.8506502
                    ],
                    [
                      0.2203481
                    ],
                    [
                      0.47644547
                    ],
                    [
                      0.690324
                    ],
                    [
                      0.36469594
                    ],
                    [
                      0.6492492
                    ],
                    [
                      0.9437019
                    ],
                    [
                      0.529646
                    ],
                    [
                      0.299097
                    ],
                    [
                      0.96696246
                    ],
                    [
                      0.27200523
                    ],
                    [
                      0.31416145
                    ],
                    [
                      0.752021
                    ],
                    [
                      0.22188245
                    ],
                    [
                      0.7203327
                    ],
                    [
                      0.37920478
                    ],
                    [
                      0.60168654
                    ],
                    [
                      0.58293265
                    ],
                    [
                      0.95080984
                    ],
                    [
                      0.5883014
                    ],
                    [
                      0.8808872
                    ],
                    [
                      0.4678577
                    ],
                    [
                      0.8799022
                    ],
                    [
                      0.619844
                    ],
                    [
                      0.35900256
                    ],
                    [
                      0.29151127
                    ],
                    [
                      0.6941571
                    ],
                    [
                      0.72796035
                    ],
                    [
                      0.6177039
                    ],
                    [
                      0.39581257
                    ],
                    [
                      0.5831728
                    ],
                    [
                      0.7103324
                    ],
                    [
                      0.2537537
                    ],
                    [
                      0.04941223
                    ],
                    [
                      0.7283787
                    ],
                    [
                      0.4324329
                    ],
                    [
                      0.58612347
                    ],
                    [
                      0.052342374
                    ],
                    [
                      0.053483903
                    ],
                    [
                      0.5187294
                    ],
                    [
                      0.9330402
                    ],
                    [
                      0.7035543
                    ],
                    [
                      0.2689899
                    ],
                    [
                      0.73300695
                    ],
                    [
                      0.44435248
                    ],
                    [
                      0.58339465
                    ],
                    [
                      0.87117267
                    ],
                    [
                      0.42876709
                    ],
                    [
                      0.30046085
                    ],
                    [
                      0.95332944
                    ],
                    [
                      0.60644394
                    ],
                    [
                      0.9098681
                    ],
                    [
                      0.71489644
                    ],
                    [
                      0.4973495
                    ],
                    [
                      0.8530975
                    ],
                    [
                      0.72180414
                    ],
                    [
                      0.30346733
                    ],
                    [
                      0.6644851
                    ],
                    [
                      0.27978063
                    ],
                    [
                      0.5694817
                    ],
                    [
                      0.6286289
                    ],
                    [
                      0.088368125
                    ],
                    [
                      0.7335673
                    ],
                    [
                      0.5374368
                    ],
                    [
                      0.6385937
                    ],
                    [
                      0.95472693
                    ],
                    [
                      0.6322023
                    ],
                    [
                      0.64213467
                    ],
                    [
                      0.7446531
                    ],
                    [
                      0.115714006
                    ],
                    [
                      0.48625007
                    ],
                    [
                      0.44035614
                    ],
                    [
                      0.08272289
                    ],
                    [
                      0.511591
                    ],
                    [
                      0.39462754
                    ],
                    [
                      0.224394
                    ],
                    [
                      0.62692755
                    ],
                    [
                      0.29025406
                    ],
                    [
                      0.77900803
                    ],
                    [
                      0.8661058
                    ],
                    [
                      0.87332606
                    ],
                    [
                      0.49548915
                    ],
                    [
                      0.5942977
                    ],
                    [
                      0.91820157
                    ],
                    [
                      0.57704276
                    ],
                    [
                      0.01946767
                    ],
                    [
                      0.6702983
                    ],
                    [
                      0.54659534
                    ],
                    [
                      0.59166515
                    ],
                    [
                      0.4215582
                    ],
                    [
                      0.68560857
                    ],
                    [
                      0.34030303
                    ],
                    [
                      0.67562675
                    ],
                    [
                      0.31906736
                    ],
                    [
                      0.38849968
                    ],
                    [
                      0.7069496
                    ],
                    [
                      0.5594095
                    ],
                    [
                      0.6876635
                    ],
                    [
                      0.70880455
                    ],
                    [
                      0.6818881
                    ],
                    [
                      0.42253512
                    ],
                    [
                      0.3200046
                    ],
                    [
                      0.6582814
                    ],
                    [
                      0.63415486
                    ],
                    [
                      0.777332
                    ],
                    [
                      0.8126772
                    ],
                    [
                      0.0742808
                    ],
                    [
                      0.39600217
                    ],
                    [
                      0.054933913
                    ],
                    [
                      0.82505894
                    ],
                    [
                      0.382642
                    ],
                    [
                      0.8687298
                    ],
                    [
                      0.58804333
                    ],
                    [
                      0.89155155
                    ],
                    [
                      0.10920046
                    ],
                    [
                      0.6476828
                    ],
                    [
                      0.7243425
                    ],
                    [
                      0.07016304
                    ],
                    [
                      0.28088206
                    ],
                    [
                      0.03911326
                    ],
                    [
                      0.5796416
                    ],
                    [
                      0.6390009
                    ],
                    [
                      0.2817459
                    ],
                    [
                      0.6478577
                    ],
                    [
                      0.6479058
                    ],
                    [
                      0.87522626
                    ],
                    [
                      0.5676033
                    ],
                    [
                      0.2629406
                    ],
                    [
                      0.26802605
                    ],
                    [
                      0.40519133
                    ],
                    [
                      0.47996545
                    ],
                    [
                      0.33552402
                    ],
                    [
                      0.77716535
                    ],
                    [
                      0.42548797
                    ],
                    [
                      0.23798612
                    ],
                    [
                      0.14252298
                    ],
                    [
                      0.72417647
                    ],
                    [
                      0.23469894
                    ],
                    [
                      0.07818228
                    ],
                    [
                      0.8559902
                    ],
                    [
                      0.27025175
                    ],
                    [
                      0.43551785
                    ],
                    [
                      0.7626975
                    ],
                    [
                      0.46448725
                    ],
                    [
                      0.39611268
                    ],
                    [
                      0.37638092
                    ],
                    [
                      0.29459468
                    ],
                    [
                      0.6944921
                    ],
                    [
                      0.6227679
                    ],
                    [
                      0.84755975
                    ],
                    [
                      0.30146307
                    ],
                    [
                      0.9129378
                    ],
                    [
                      0.50001717
                    ],
                    [
                      0.90258795
                    ],
                    [
                      0.30451795
                    ],
                    [
                      0.29916567
                    ],
                    [
                      0.09201409
                    ],
                    [
                      0.4885489
                    ],
                    [
                      0.66466445
                    ],
                    [
                      0.26534954
                    ],
                    [
                      0.723657
                    ],
                    [
                      0.14926238
                    ],
                    [
                      0.04577339
                    ],
                    [
                      0.6966106
                    ],
                    [
                      0.42181486
                    ],
                    [
                      0.7338458
                    ],
                    [
                      0.41879538
                    ],
                    [
                      0.6774435
                    ],
                    [
                      0.2612836
                    ],
                    [
                      0.26852778
                    ],
                    [
                      0.54432225
                    ],
                    [
                      0.43163204
                    ],
                    [
                      0.9810181
                    ],
                    [
                      0.21498072
                    ],
                    [
                      0.39473
                    ],
                    [
                      0.12222494
                    ],
                    [
                      0.29749689
                    ],
                    [
                      0.37490442
                    ],
                    [
                      0.6869877
                    ],
                    [
                      0.3885492
                    ],
                    [
                      0.039296072
                    ],
                    [
                      0.73553425
                    ],
                    [
                      0.3792949
                    ],
                    [
                      0.7321234
                    ],
                    [
                      0.33922145
                    ],
                    [
                      0.6594506
                    ],
                    [
                      0.054838642
                    ],
                    [
                      0.6401121
                    ],
                    [
                      0.3071417
                    ],
                    [
                      0.3966119
                    ],
                    [
                      0.42043915
                    ],
                    [
                      0.24171497
                    ],
                    [
                      0.06589315
                    ],
                    [
                      0.9105219
                    ],
                    [
                      0.6971631
                    ],
                    [
                      0.072559856
                    ],
                    [
                      0.81825095
                    ],
                    [
                      0.3118888
                    ],
                    [
                      0.9616446
                    ],
                    [
                      0.81632555
                    ],
                    [
                      0.14647302
                    ],
                    [
                      0.5487539
                    ],
                    [
                      0.9461581
                    ],
                    [
                      0.29399273
                    ],
                    [
                      0.33147964
                    ],
                    [
                      0.90622
                    ],
                    [
                      0.5255404
                    ],
                    [
                      0.83301413
                    ],
                    [
                      0.5148498
                    ],
                    [
                      0.57460904
                    ],
                    [
                      0.46871185
                    ],
                    [
                      0.71002775
                    ],
                    [
                      0.64597327
                    ],
                    [
                      0.22979441
                    ],
                    [
                      0.5517834
                    ],
                    [
                      0.05582299
                    ],
                    [
                      0.33175093
                    ],
                    [
                      0.7155202
                    ],
                    [
                      0.58392435
                    ],
                    [
                      0.3069577
                    ],
                    [
                      0.7914782
                    ],
                    [
                      0.16423663
                    ],
                    [
                      0.06571122
                    ],
                    [
                      0.94899315
                    ],
                    [
                      0.08042383
                    ],
                    [
                      0.052495427
                    ],
                    [
                      0.5663461
                    ],
                    [
                      0.3630266
                    ],
                    [
                      0.60544217
                    ],
                    [
                      0.6308506
                    ],
                    [
                      0.065791234
                    ],
                    [
                      0.28681707
                    ],
                    [
                      0.68546283
                    ],
                    [
                      0.2608537
                    ],
                    [
                      0.6591224
                    ],
                    [
                      0.44317392
                    ],
                    [
                      0.602064
                    ],
                    [
                      0.06036691
                    ],
                    [
                      0.78190315
                    ],
                    [
                      0.51457983
                    ],
                    [
                      0.4838862
                    ],
                    [
                      0.6002138
                    ],
                    [
                      0.49736404
                    ],
                    [
                      0.41114524
                    ],
                    [
                      0.11699917
                    ],
                    [
                      0.34189013
                    ],
                    [
                      0.74695086
                    ],
                    [
                      0.39629275
                    ],
                    [
                      0.62214386
                    ],
                    [
                      0.33527115
                    ],
                    [
                      0.14025714
                    ],
                    [
                      0.08162068
                    ],
                    [
                      0.06983757
                    ],
                    [
                      0.46894002
                    ],
                    [
                      0.9908574
                    ],
                    [
                      0.8966168
                    ],
                    [
                      0.25531057
                    ],
                    [
                      0.22464527
                    ],
                    [
                      0.01991825
                    ],
                    [
                      0.29648042
                    ],
                    [
                      0.155459
                    ],
                    [
                      0.57791674
                    ],
                    [
                      0.95630306
                    ],
                    [
                      0.8134644
                    ],
                    [
                      0.5296758
                    ],
                    [
                      0.28767136
                    ],
                    [
                      0.48039135
                    ],
                    [
                      0.2810448
                    ],
                    [
                      0.63319653
                    ],
                    [
                      0.09332538
                    ],
                    [
                      0.284474
                    ],
                    [
                      0.052223776
                    ],
                    [
                      0.051129386
                    ],
                    [
                      0.9674056
                    ],
                    [
                      0.040045727
                    ],
                    [
                      0.9085829
                    ],
                    [
                      0.6621174
                    ],
                    [
                      0.4247032
                    ],
                    [
                      0.7220781
                    ],
                    [
                      0.6661933
                    ],
                    [
                      0.5096812
                    ],
                    [
                      0.7513536
                    ],
                    [
                      0.27907312
                    ],
                    [
                      0.074927
                    ],
                    [
                      0.91635954
                    ],
                    [
                      0.31040326
                    ],
                    [
                      0.71660405
                    ],
                    [
                      0.4855871
                    ],
                    [
                      0.3060752
                    ],
                    [
                      0.4775582
                    ],
                    [
                      0.71192396
                    ],
                    [
                      0.066348635
                    ],
                    [
                      0.27453935
                    ],
                    [
                      0.31082252
                    ],
                    [
                      0.47607312
                    ],
                    [
                      0.18679556
                    ],
                    [
                      0.26654208
                    ],
                    [
                      0.07023114
                    ],
                    [
                      0.26951927
                    ],
                    [
                      0.8000047
                    ],
                    [
                      0.27363366
                    ],
                    [
                      0.14647919
                    ],
                    [
                      0.37831897
                    ],
                    [
                      0.37384906
                    ],
                    [
                      0.24217084
                    ],
                    [
                      0.2497965
                    ],
                    [
                      0.06659119
                    ],
                    [
                      0.3729568
                    ],
                    [
                      0.5018123
                    ],
                    [
                      0.31309775
                    ],
                    [
                      0.8802022
                    ],
                    [
                      0.5198189
                    ],
                    [
                      0.36413875
                    ],
                    [
                      0.4926829
                    ],
                    [
                      0.28573266
                    ],
                    [
                      0.89011496
                    ],
                    [
                      0.31641957
                    ],
                    [
                      0.26866353
                    ],
                    [
                      0.77197593
                    ],
                    [
                      0.968889
                    ],
                    [
                      0.08033438
                    ],
                    [
                      0.7368282
                    ],
                    [
                      0.30055806
                    ],
                    [
                      0.9179504
                    ],
                    [
                      0.46581504
                    ],
                    [
                      0.05403668
                    ],
                    [
                      0.96315014
                    ],
                    [
                      0.0896535
                    ],
                    [
                      0.7076932
                    ],
                    [
                      0.636416
                    ],
                    [
                      0.5395211
                    ],
                    [
                      0.11475716
                    ],
                    [
                      0.3573124
                    ],
                    [
                      0.67639834
                    ],
                    [
                      0.4348284
                    ],
                    [
                      0.032326385
                    ],
                    [
                      0.7113656
                    ],
                    [
                      0.18748651
                    ],
                    [
                      0.052789655
                    ],
                    [
                      0.5058636
                    ],
                    [
                      0.9274319
                    ],
                    [
                      0.68098426
                    ],
                    [
                      0.8828222
                    ],
                    [
                      0.49570546
                    ],
                    [
                      0.5962404
                    ],
                    [
                      0.3206107
                    ],
                    [
                      0.3413685
                    ],
                    [
                      0.1596818
                    ],
                    [
                      0.31813368
                    ],
                    [
                      0.83930105
                    ],
                    [
                      0.06435925
                    ],
                    [
                      0.47021663
                    ],
                    [
                      0.77625227
                    ],
                    [
                      0.6358434
                    ],
                    [
                      0.62510544
                    ],
                    [
                      0.52959067
                    ],
                    [
                      0.98690015
                    ],
                    [
                      0.078585684
                    ],
                    [
                      0.23328426
                    ],
                    [
                      0.36333096
                    ],
                    [
                      0.716717
                    ],
                    [
                      0.37588978
                    ],
                    [
                      0.2233169
                    ],
                    [
                      0.29934397
                    ],
                    [
                      0.5385958
                    ],
                    [
                      0.73029715
                    ],
                    [
                      0.6603308
                    ],
                    [
                      0.435296
                    ],
                    [
                      0.3264943
                    ],
                    [
                      0.8544027
                    ],
                    [
                      0.57349384
                    ],
                    [
                      0.75778615
                    ],
                    [
                      0.7047432
                    ],
                    [
                      0.2815756
                    ],
                    [
                      0.6719682
                    ],
                    [
                      0.313726
                    ],
                    [
                      0.36433828
                    ],
                    [
                      0.3682164
                    ],
                    [
                      0.3862952
                    ],
                    [
                      0.6559719
                    ],
                    [
                      0.56602526
                    ],
                    [
                      0.4249991
                    ],
                    [
                      0.09011037
                    ],
                    [
                      0.77235055
                    ],
                    [
                      0.33104727
                    ],
                    [
                      0.27371618
                    ],
                    [
                      0.23877569
                    ],
                    [
                      0.37307978
                    ],
                    [
                      0.33118588
                    ],
                    [
                      0.25613454
                    ],
                    [
                      0.6783732
                    ],
                    [
                      0.43463835
                    ],
                    [
                      0.65466833
                    ],
                    [
                      0.98668104
                    ],
                    [
                      0.3715205
                    ],
                    [
                      0.40835962
                    ],
                    [
                      0.40932366
                    ],
                    [
                      0.28341207
                    ],
                    [
                      0.39524654
                    ],
                    [
                      0.010984428
                    ],
                    [
                      0.30601388
                    ],
                    [
                      0.26619482
                    ],
                    [
                      0.29931852
                    ],
                    [
                      0.31829396
                    ],
                    [
                      0.7428259
                    ],
                    [
                      0.09766433
                    ],
                    [
                      0.07966694
                    ],
                    [
                      0.6132588
                    ],
                    [
                      0.9944307
                    ],
                    [
                      0.5688351
                    ],
                    [
                      0.7080345
                    ],
                    [
                      0.3705927
                    ],
                    [
                      0.66986734
                    ],
                    [
                      0.6512956
                    ],
                    [
                      0.46253157
                    ],
                    [
                      0.7196256
                    ],
                    [
                      0.4537725
                    ],
                    [
                      0.39486393
                    ],
                    [
                      0.32397482
                    ],
                    [
                      0.14645472
                    ],
                    [
                      0.77906704
                    ],
                    [
                      0.4018289
                    ],
                    [
                      0.6014796
                    ],
                    [
                      0.856423
                    ],
                    [
                      0.56524295
                    ],
                    [
                      0.3012251
                    ],
                    [
                      0.28210816
                    ],
                    [
                      0.594378
                    ],
                    [
                      0.7053124
                    ],
                    [
                      0.54086965
                    ],
                    [
                      0.31924957
                    ],
                    [
                      0.36176613
                    ],
                    [
                      0.6250007
                    ],
                    [
                      0.3162874
                    ],
                    [
                      0.04723902
                    ],
                    [
                      0.8011822
                    ],
                    [
                      0.5084744
                    ],
                    [
                      0.8178934
                    ],
                    [
                      0.3992356
                    ],
                    [
                      0.974052
                    ],
                    [
                      0.7224153
                    ],
                    [
                      0.039564762
                    ],
                    [
                      0.90868413
                    ],
                    [
                      0.47301012
                    ],
                    [
                      0.71804965
                    ],
                    [
                      0.76347905
                    ],
                    [
                      0.64759654
                    ],
                    [
                      0.89499736
                    ],
                    [
                      0.2228259
                    ],
                    [
                      0.35901225
                    ],
                    [
                      0.9449102
                    ],
                    [
                      0.29787782
                    ],
                    [
                      0.172518
                    ],
                    [
                      0.55658627
                    ],
                    [
                      0.8764817
                    ],
                    [
                      0.48667786
                    ],
                    [
                      0.45949674
                    ],
                    [
                      0.47412637
                    ],
                    [
                      0.7010114
                    ],
                    [
                      0.3375974
                    ],
                    [
                      0.5375789
                    ],
                    [
                      0.96699244
                    ],
                    [
                      0.056849547
                    ],
                    [
                      0.23324907
                    ],
                    [
                      0.3800547
                    ],
                    [
                      0.6029294
                    ],
                    [
                      0.303848
                    ],
                    [
                      0.17019455
                    ],
                    [
                      0.97216856
                    ],
                    [
                      0.33216894
                    ],
                    [
                      0.6887287
                    ],
                    [
                      0.1107734
                    ],
                    [
                      0.27335206
                    ],
                    [
                      0.5729397
                    ],
                    [
                      0.49145707
                    ],
                    [
                      0.28139
                    ],
                    [
                      0.82169724
                    ],
                    [
                      0.67497766
                    ],
                    [
                      0.58513457
                    ],
                    [
                      0.71059614
                    ],
                    [
                      0.04048879
                    ],
                    [
                      0.5680543
                    ],
                    [
                      0.32175294
                    ],
                    [
                      0.61185026
                    ],
                    [
                      0.9260969
                    ],
                    [
                      0.6183474
                    ],
                    [
                      0.6676298
                    ],
                    [
                      0.39773348
                    ],
                    [
                      0.2908755
                    ],
                    [
                      0.5943751
                    ],
                    [
                      0.50825524
                    ],
                    [
                      0.33857137
                    ],
                    [
                      0.43230236
                    ],
                    [
                      0.30222198
                    ],
                    [
                      0.8761982
                    ],
                    [
                      0.080204494
                    ],
                    [
                      0.09233353
                    ],
                    [
                      0.09365645
                    ],
                    [
                      0.6084524
                    ],
                    [
                      0.7326546
                    ],
                    [
                      0.94415885
                    ],
                    [
                      0.2674231
                    ],
                    [
                      0.7311242
                    ],
                    [
                      0.6613085
                    ],
                    [
                      0.38776627
                    ],
                    [
                      0.9625853
                    ],
                    [
                      0.32206705
                    ],
                    [
                      0.63408107
                    ],
                    [
                      0.47534502
                    ],
                    [
                      0.353559
                    ],
                    [
                      0.8859363
                    ],
                    [
                      0.8767981
                    ],
                    [
                      0.22158106
                    ],
                    [
                      0.39436245
                    ],
                    [
                      0.80503565
                    ],
                    [
                      0.45289847
                    ],
                    [
                      0.59252053
                    ],
                    [
                      0.7610264
                    ],
                    [
                      0.24504903
                    ],
                    [
                      0.37213936
                    ],
                    [
                      0.68105483
                    ],
                    [
                      0.74714315
                    ],
                    [
                      0.92073953
                    ],
                    [
                      0.09720795
                    ],
                    [
                      0.699303
                    ],
                    [
                      0.721647
                    ],
                    [
                      0.5353561
                    ],
                    [
                      0.7382938
                    ],
                    [
                      0.70646757
                    ],
                    [
                      0.6739506
                    ],
                    [
                      0.7112123
                    ],
                    [
                      0.30255872
                    ],
                    [
                      0.080097854
                    ],
                    [
                      0.70701087
                    ],
                    [
                      0.51224864
                    ],
                    [
                      0.6596275
                    ],
                    [
                      0.6575597
                    ],
                    [
                      0.10064561
                    ],
                    [
                      0.9266536
                    ],
                    [
                      0.89287937
                    ],
                    [
                      0.8391575
                    ],
                    [
                      0.89095974
                    ],
                    [
                      0.55675447
                    ],
                    [
                      0.96036196
                    ],
                    [
                      0.6310379
                    ],
                    [
                      0.029838065
                    ],
                    [
                      0.27884334
                    ],
                    [
                      0.9261577
                    ],
                    [
                      0.55150425
                    ],
                    [
                      0.48594236
                    ],
                    [
                      0.4372347
                    ],
                    [
                      0.25231802
                    ],
                    [
                      0.515467
                    ],
                    [
                      0.43725228
                    ],
                    [
                      0.4937242
                    ],
                    [
                      0.83324724
                    ],
                    [
                      0.31752148
                    ],
                    [
                      0.28623456
                    ],
                    [
                      0.72683394
                    ],
                    [
                      0.49566704
                    ],
                    [
                      0.028645255
                    ],
                    [
                      0.31967193
                    ],
                    [
                      0.6743446
                    ],
                    [
                      0.76603717
                    ],
                    [
                      0.6545699
                    ],
                    [
                      0.7565144
                    ],
                    [
                      0.52825373
                    ],
                    [
                      0.3897195
                    ],
                    [
                      0.35508746
                    ],
                    [
                      0.870152
                    ],
                    [
                      0.7390833
                    ],
                    [
                      0.30576184
                    ],
                    [
                      0.4115877
                    ],
                    [
                      0.06363309
                    ],
                    [
                      0.7354094
                    ],
                    [
                      0.6059167
                    ],
                    [
                      0.5393956
                    ],
                    [
                      0.5661835
                    ],
                    [
                      0.6747952
                    ],
                    [
                      0.070993364
                    ],
                    [
                      0.1252641
                    ],
                    [
                      0.27960148
                    ],
                    [
                      0.9521744
                    ],
                    [
                      0.23380676
                    ],
                    [
                      0.43724743
                    ],
                    [
                      0.9254231
                    ],
                    [
                      0.43349862
                    ],
                    [
                      0.525179
                    ],
                    [
                      0.08843553
                    ],
                    [
                      0.44767764
                    ],
                    [
                      0.6470006
                    ],
                    [
                      0.9036033
                    ],
                    [
                      0.26579073
                    ],
                    [
                      0.66419697
                    ],
                    [
                      0.49812067
                    ],
                    [
                      0.49018896
                    ],
                    [
                      0.7470842
                    ],
                    [
                      0.90678364
                    ],
                    [
                      0.6787709
                    ],
                    [
                      0.34859985
                    ],
                    [
                      0.29483968
                    ],
                    [
                      0.7056918
                    ],
                    [
                      0.21191794
                    ],
                    [
                      0.06320112
                    ],
                    [
                      0.27669954
                    ],
                    [
                      0.6724594
                    ],
                    [
                      0.80820596
                    ],
                    [
                      0.29653838
                    ],
                    [
                      0.16012686
                    ],
                    [
                      0.43938503
                    ],
                    [
                      0.5559514
                    ],
                    [
                      0.38624012
                    ],
                    [
                      0.15868962
                    ],
                    [
                      0.21449986
                    ],
                    [
                      0.29957944
                    ],
                    [
                      0.56916165
                    ],
                    [
                      0.4886148
                    ],
                    [
                      0.878295
                    ],
                    [
                      0.6493809
                    ],
                    [
                      0.46571335
                    ],
                    [
                      0.16813774
                    ],
                    [
                      0.87529546
                    ],
                    [
                      0.84113234
                    ],
                    [
                      0.33292082
                    ],
                    [
                      0.5130479
                    ],
                    [
                      0.30505508
                    ],
                    [
                      0.812627
                    ],
                    [
                      0.25096706
                    ],
                    [
                      0.50243556
                    ],
                    [
                      0.45799074
                    ]
                  ],
                  "hovertemplate": "0=%{x}<br>1=%{y}<br>2=%{z}<br>Feature=%{customdata[0]}<br>Anomaly=%{marker.color}<extra></extra>",
                  "legendgroup": "",
                  "marker": {
                    "color": [
                      0,
                      0,
                      1,
                      1,
                      0,
                      0,
                      0,
                      1,
                      1,
                      0,
                      0,
                      1,
                      0,
                      1,
                      1,
                      0,
                      0,
                      0,
                      1,
                      0,
                      1,
                      0,
                      0,
                      1,
                      1,
                      1,
                      0,
                      0,
                      1,
                      1,
                      0,
                      0,
                      0,
                      1,
                      1,
                      0,
                      0,
                      0,
                      0,
                      0,
                      1,
                      0,
                      0,
                      1,
                      0,
                      0,
                      0,
                      0,
                      0,
                      0,
                      0,
                      1,
                      0,
                      1,
                      0,
                      1,
                      0,
                      0,
                      0,
                      1,
                      0,
                      0,
                      1,
                      1,
                      0,
                      0,
                      1,
                      0,
                      0,
                      1,
                      0,
                      0,
                      0,
                      0,
                      0,
                      0,
                      0,
                      0,
                      0,
                      0,
                      0,
                      0,
                      0,
                      0,
                      0,
                      0,
                      0,
                      0,
                      0,
                      0,
                      0,
                      0,
                      0,
                      0,
                      0,
                      0,
                      0,
                      0,
                      0,
                      0,
                      0,
                      0,
                      0,
                      0,
                      0,
                      0,
                      0,
                      0,
                      0,
                      0,
                      0,
                      0,
                      0,
                      0,
                      0,
                      0,
                      0,
                      0,
                      0,
                      0,
                      0,
                      0,
                      0,
                      0,
                      0,
                      0,
                      0,
                      0,
                      0,
                      0,
                      1,
                      0,
                      0,
                      0,
                      0,
                      0,
                      0,
                      0,
                      0,
                      0,
                      0,
                      0,
                      0,
                      0,
                      0,
                      0,
                      0,
                      0,
                      0,
                      0,
                      0,
                      0,
                      0,
                      0,
                      0,
                      0,
                      0,
                      0,
                      0,
                      0,
                      0,
                      0,
                      0,
                      0,
                      0,
                      0,
                      0,
                      0,
                      0,
                      0,
                      0,
                      0,
                      0,
                      0,
                      0,
                      0,
                      0,
                      0,
                      0,
                      0,
                      0,
                      0,
                      0,
                      0,
                      0,
                      0,
                      0,
                      0,
                      0,
                      0,
                      0,
                      0,
                      0,
                      0,
                      0,
                      0,
                      0,
                      0,
                      1,
                      0,
                      0,
                      0,
                      0,
                      0,
                      0,
                      0,
                      0,
                      0,
                      0,
                      0,
                      0,
                      0,
                      0,
                      0,
                      0,
                      0,
                      0,
                      0,
                      0,
                      0,
                      0,
                      0,
                      0,
                      0,
                      0,
                      0,
                      0,
                      0,
                      0,
                      0,
                      0,
                      0,
                      0,
                      0,
                      0,
                      0,
                      0,
                      0,
                      0,
                      0,
                      0,
                      0,
                      0,
                      0,
                      0,
                      0,
                      0,
                      0,
                      0,
                      0,
                      0,
                      0,
                      0,
                      0,
                      0,
                      0,
                      0,
                      0,
                      0,
                      0,
                      0,
                      0,
                      0,
                      0,
                      0,
                      0,
                      0,
                      0,
                      0,
                      0,
                      0,
                      0,
                      0,
                      0,
                      0,
                      0,
                      0,
                      0,
                      0,
                      0,
                      0,
                      0,
                      0,
                      0,
                      0,
                      0,
                      0,
                      0,
                      0,
                      0,
                      0,
                      0,
                      0,
                      0,
                      0,
                      0,
                      0,
                      0,
                      0,
                      0,
                      0,
                      0,
                      0,
                      0,
                      0,
                      0,
                      0,
                      0,
                      0,
                      0,
                      0,
                      0,
                      0,
                      0,
                      0,
                      0,
                      0,
                      0,
                      0,
                      0,
                      0,
                      0,
                      0,
                      0,
                      0,
                      0,
                      0,
                      0,
                      0,
                      0,
                      0,
                      0,
                      0,
                      0,
                      0,
                      0,
                      0,
                      0,
                      0,
                      0,
                      0,
                      0,
                      0,
                      0,
                      0,
                      0,
                      0,
                      0,
                      0,
                      0,
                      0,
                      0,
                      0,
                      0,
                      0,
                      0,
                      0,
                      0,
                      0,
                      0,
                      0,
                      0,
                      0,
                      0,
                      0,
                      0,
                      0,
                      0,
                      0,
                      0,
                      0,
                      0,
                      0,
                      0,
                      0,
                      0,
                      0,
                      0,
                      0,
                      0,
                      0,
                      0,
                      0,
                      0,
                      0,
                      0,
                      0,
                      0,
                      0,
                      0,
                      0,
                      0,
                      0,
                      0,
                      0,
                      0,
                      0,
                      0,
                      0,
                      0,
                      0,
                      0,
                      0,
                      0,
                      0,
                      0,
                      0,
                      0,
                      0,
                      0,
                      0,
                      0,
                      0,
                      0,
                      0,
                      0,
                      0,
                      0,
                      0,
                      0,
                      0,
                      0,
                      0,
                      0,
                      0,
                      0,
                      0,
                      0,
                      0,
                      0,
                      0,
                      0,
                      0,
                      0,
                      0,
                      0,
                      0,
                      0,
                      0,
                      0,
                      0,
                      0,
                      0,
                      0,
                      0,
                      0,
                      0,
                      0,
                      0,
                      0,
                      0,
                      0,
                      0,
                      0,
                      0,
                      0,
                      0,
                      0,
                      0,
                      0,
                      0,
                      0,
                      0,
                      0,
                      0,
                      0,
                      0,
                      0,
                      0,
                      0,
                      0,
                      0,
                      0,
                      0,
                      0,
                      0,
                      0,
                      0,
                      0,
                      0,
                      0,
                      0,
                      0,
                      0,
                      0,
                      0,
                      0,
                      0,
                      0,
                      0,
                      0,
                      0,
                      0,
                      0,
                      0,
                      0,
                      0,
                      0,
                      0,
                      0,
                      0,
                      0,
                      0,
                      0,
                      0,
                      0,
                      0,
                      0,
                      0,
                      0,
                      0,
                      0,
                      0,
                      0,
                      0,
                      0,
                      0,
                      0,
                      0,
                      0,
                      0,
                      0,
                      0,
                      0,
                      0,
                      0,
                      0,
                      0,
                      0,
                      0,
                      0,
                      0,
                      0,
                      0,
                      0,
                      0,
                      0,
                      0,
                      0,
                      0,
                      0,
                      0,
                      0,
                      0,
                      0,
                      1,
                      0,
                      0,
                      0,
                      0,
                      0,
                      0,
                      0,
                      0,
                      0,
                      0,
                      0,
                      0,
                      0,
                      0,
                      0,
                      0,
                      0,
                      0,
                      0,
                      0,
                      0,
                      0,
                      0,
                      0,
                      0,
                      0,
                      0,
                      0,
                      0,
                      0,
                      0,
                      1,
                      0,
                      0,
                      0,
                      0,
                      0,
                      0,
                      0,
                      0,
                      0,
                      0,
                      0,
                      0,
                      0,
                      0,
                      0,
                      0,
                      0,
                      0,
                      0,
                      0,
                      0,
                      0,
                      0,
                      0,
                      1,
                      0,
                      0,
                      0,
                      0,
                      0,
                      0,
                      0,
                      0,
                      0,
                      0,
                      0,
                      0,
                      0,
                      0,
                      0,
                      0,
                      0,
                      0,
                      0,
                      0,
                      0,
                      0,
                      0,
                      0,
                      0,
                      0,
                      0,
                      0,
                      0,
                      0,
                      0,
                      0,
                      0,
                      0,
                      0,
                      0,
                      0,
                      0,
                      0,
                      0,
                      0,
                      0,
                      0,
                      0,
                      0,
                      0,
                      0,
                      0,
                      0,
                      0,
                      0,
                      0,
                      0,
                      0,
                      0,
                      0,
                      0,
                      0,
                      0,
                      0,
                      0,
                      0,
                      0,
                      0,
                      0,
                      0,
                      0,
                      0,
                      0,
                      0,
                      0,
                      0,
                      0,
                      0,
                      0,
                      0,
                      0,
                      1,
                      0,
                      0,
                      0,
                      0,
                      0,
                      0,
                      0,
                      0,
                      0,
                      0,
                      0,
                      0,
                      0,
                      0,
                      0,
                      0,
                      0,
                      0,
                      0,
                      1,
                      1,
                      0,
                      1,
                      0,
                      0,
                      0,
                      1,
                      1,
                      0,
                      0,
                      0,
                      0,
                      1,
                      0,
                      0,
                      1,
                      1,
                      1,
                      0,
                      1,
                      0,
                      1,
                      1,
                      1,
                      0,
                      0,
                      0,
                      1,
                      0,
                      0,
                      0,
                      0,
                      0,
                      0,
                      0,
                      0,
                      0,
                      0,
                      0,
                      0,
                      0,
                      0,
                      1,
                      0,
                      0,
                      0,
                      0,
                      0,
                      0,
                      0,
                      0,
                      0,
                      0,
                      0,
                      0,
                      0,
                      0,
                      0,
                      0,
                      0,
                      0,
                      0,
                      0,
                      0,
                      0,
                      0,
                      0,
                      0,
                      0,
                      0,
                      0,
                      0,
                      0,
                      0,
                      0,
                      0,
                      0,
                      0,
                      0,
                      0,
                      0,
                      0,
                      0,
                      0,
                      0,
                      0,
                      0,
                      0,
                      0,
                      0,
                      0,
                      0,
                      0,
                      0,
                      0,
                      0,
                      0,
                      0,
                      0,
                      0,
                      0,
                      0,
                      0,
                      0,
                      0,
                      0,
                      0,
                      0,
                      0,
                      0,
                      0,
                      0,
                      0,
                      0,
                      0,
                      0,
                      0,
                      0,
                      0,
                      0,
                      0,
                      0,
                      0,
                      0,
                      0,
                      0,
                      0,
                      0,
                      0,
                      0,
                      0,
                      0,
                      0,
                      0,
                      0,
                      0,
                      0,
                      0,
                      0,
                      0,
                      0,
                      0,
                      0,
                      0,
                      0,
                      0,
                      0,
                      0,
                      0,
                      0,
                      0,
                      0,
                      0,
                      0,
                      0,
                      1,
                      0,
                      0,
                      0,
                      0,
                      0,
                      0,
                      0,
                      0,
                      0,
                      0,
                      0,
                      0,
                      0,
                      0,
                      0,
                      0,
                      0,
                      0,
                      0,
                      0,
                      0,
                      0,
                      0,
                      0,
                      0,
                      0,
                      0,
                      0,
                      0,
                      0,
                      0,
                      0,
                      0,
                      0,
                      0,
                      0,
                      0,
                      0,
                      0,
                      0,
                      0,
                      0,
                      0,
                      0,
                      0,
                      0,
                      0,
                      0,
                      0,
                      0,
                      0,
                      0,
                      0,
                      0,
                      0,
                      0,
                      0,
                      0,
                      0,
                      0,
                      0,
                      0,
                      0,
                      0,
                      1,
                      0,
                      0,
                      0,
                      0,
                      0,
                      0,
                      0,
                      0,
                      0,
                      0,
                      0,
                      0,
                      0,
                      0,
                      0,
                      0,
                      0,
                      0,
                      0,
                      1,
                      0,
                      0,
                      0,
                      0,
                      0,
                      0,
                      0,
                      0,
                      0,
                      0,
                      0,
                      0,
                      0,
                      0,
                      0,
                      0,
                      0,
                      0,
                      0,
                      0,
                      0,
                      0,
                      0,
                      0,
                      0,
                      0,
                      0,
                      0,
                      0,
                      0,
                      0,
                      0,
                      0,
                      0,
                      0,
                      0,
                      0,
                      0,
                      0,
                      0,
                      0,
                      0,
                      0,
                      0,
                      0,
                      0,
                      0,
                      0,
                      0,
                      0,
                      0,
                      0,
                      0,
                      0,
                      0,
                      0,
                      0,
                      0
                    ],
                    "coloraxis": "coloraxis",
                    "opacity": 0.7,
                    "symbol": "circle"
                  },
                  "mode": "markers",
                  "name": "",
                  "scene": "scene",
                  "showlegend": false,
                  "type": "scatter3d",
                  "x": [
                    7.8080754,
                    -8.16249,
                    10.574644,
                    -8.708487,
                    7.9193835,
                    10.755972,
                    14.795123,
                    -1.9302782,
                    -13.338951,
                    13.869382,
                    -1.2207541,
                    -9.251577,
                    -6.4905806,
                    1.0053929,
                    -6.554966,
                    7.334705,
                    -6.180611,
                    5.501641,
                    -11.322866,
                    3.1549883,
                    -10.186909,
                    2.9293506,
                    0.4109568,
                    -13.329974,
                    -2.901203,
                    -8.352446,
                    8.196534,
                    9.935695,
                    -6.364865,
                    -1.888958,
                    -8.485691,
                    -11.895415,
                    -4.575576,
                    -5.2549295,
                    11.520588,
                    -8.697337,
                    3.8798013,
                    -9.434129,
                    -4.4168706,
                    9.971804,
                    9.731096,
                    1.9746083,
                    -4.025524,
                    -14.528789,
                    -5.254542,
                    7.3875895,
                    -5.018877,
                    9.098619,
                    7.713219,
                    -6.5480366,
                    9.764994,
                    -4.1478615,
                    -12.565694,
                    7.3410463,
                    11.981934,
                    13.029455,
                    14.216431,
                    13.619026,
                    -4.81858,
                    -8.293309,
                    13.69018,
                    4.258544,
                    -6.614805,
                    -3.395674,
                    7.9204483,
                    7.609332,
                    13.215835,
                    5.8369093,
                    -0.8935866,
                    1.1336284,
                    -4.8688073,
                    -1.072261,
                    7.637743,
                    -6.7601733,
                    -10.453426,
                    -9.555241,
                    -3.823795,
                    8.100856,
                    -3.4992948,
                    6.9574146,
                    6.6039195,
                    -9.514747,
                    -2.0570738,
                    4.7556524,
                    13.708504,
                    -8.49563,
                    8.229241,
                    8.238222,
                    12.371277,
                    -5.3964715,
                    3.280814,
                    -0.76653,
                    6.587794,
                    13.586614,
                    13.796309,
                    -7.0774918,
                    -6.472322,
                    6.7957067,
                    -8.459216,
                    -3.1755314,
                    7.5930185,
                    8.617998,
                    7.2212777,
                    -11.157941,
                    -6.423962,
                    5.8628325,
                    -6.994745,
                    -5.6044197,
                    3.7500427,
                    -1.1913269,
                    4.381618,
                    6.8807554,
                    0.21787815,
                    -6.591835,
                    -8.939066,
                    -4.8058333,
                    -8.914279,
                    -10.020238,
                    11.2204685,
                    -7.801993,
                    -4.678439,
                    -2.5667584,
                    6.182861,
                    8.338939,
                    -8.269351,
                    7.296386,
                    -10.963371,
                    9.865866,
                    -7.0907035,
                    -6.523341,
                    -12.68835,
                    10.398265,
                    -5.705864,
                    15.097228,
                    9.0038395,
                    6.536295,
                    -1.9203495,
                    -6.2845545,
                    -7.2444983,
                    -7.1754894,
                    9.88334,
                    -8.321228,
                    -11.092955,
                    -1.7112176,
                    -7.896057,
                    7.743548,
                    1.1571865,
                    7.8967705,
                    -7.5737176,
                    -6.804319,
                    4.3811502,
                    -10.059134,
                    -4.0134163,
                    -11.186057,
                    3.067474,
                    -6.471047,
                    -3.408298,
                    9.126523,
                    3.4498413,
                    -7.806703,
                    14.480968,
                    -11.576279,
                    5.0482545,
                    6.279387,
                    10.681556,
                    9.446145,
                    -6.4384,
                    -5.0177383,
                    -7.2184043,
                    -8.947546,
                    5.7730775,
                    7.3522367,
                    -2.4916975,
                    9.745961,
                    4.1867747,
                    8.358902,
                    -8.575233,
                    10.400498,
                    14.49519,
                    -7.137515,
                    5.6383576,
                    -3.5782437,
                    15.665356,
                    0.23553698,
                    -4.792604,
                    -9.136895,
                    -2.1139195,
                    11.994457,
                    -13.669016,
                    3.5750747,
                    -4.0013876,
                    8.005985,
                    1.5893681,
                    -9.2496395,
                    -7.836213,
                    -9.455128,
                    -5.579498,
                    15.620427,
                    8.170054,
                    -7.7230916,
                    -13.286086,
                    -7.0825057,
                    -10.930155,
                    -7.122807,
                    10.288465,
                    -11.572367,
                    -13.710436,
                    -13.072009,
                    -3.2295878,
                    -11.805698,
                    4.2178464,
                    -1.0193954,
                    7.534711,
                    -8.687033,
                    11.250638,
                    5.415438,
                    13.781357,
                    7.889793,
                    6.68284,
                    11.1218815,
                    9.88498,
                    6.0128837,
                    -2.9303102,
                    4.346958,
                    9.061728,
                    -13.097058,
                    -4.168744,
                    -14.366564,
                    -4.7104664,
                    -0.992814,
                    14.738017,
                    6.786882,
                    -7.008843,
                    -6.506819,
                    12.188242,
                    5.458335,
                    12.351456,
                    3.1847136,
                    9.672058,
                    -9.409932,
                    11.916755,
                    -4.738709,
                    -1.9532552,
                    7.8934946,
                    -3.0808513,
                    8.9602,
                    -7.213327,
                    5.20785,
                    12.150686,
                    -2.7508214,
                    -11.935457,
                    5.081259,
                    -1.3860842,
                    -11.48619,
                    8.982418,
                    8.810215,
                    6.0051837,
                    7.8107734,
                    -0.4664632,
                    -8.033144,
                    -2.7878168,
                    -12.110234,
                    -8.797251,
                    -6.74491,
                    -10.9419565,
                    7.5688076,
                    -5.9632993,
                    8.4670925,
                    3.597578,
                    16.443104,
                    -5.1307163,
                    15.418618,
                    2.3232281,
                    -2.968223,
                    11.527084,
                    13.252241,
                    7.471659,
                    7.995444,
                    5.619156,
                    -13.568012,
                    -4.1697893,
                    -1.4730922,
                    -14.075162,
                    -6.5585346,
                    9.183246,
                    -5.3971453,
                    -6.3725944,
                    6.2954926,
                    -7.353809,
                    -14.597721,
                    4.259375,
                    14.470362,
                    5.5093813,
                    -5.141408,
                    4.905221,
                    -0.38787723,
                    1.2506802,
                    6.7137256,
                    5.2792754,
                    -6.8304,
                    15.105807,
                    -7.8165207,
                    -0.6851127,
                    1.9245453,
                    0.5940115,
                    -10.266136,
                    -5.1986537,
                    4.364357,
                    -3.3021262,
                    -4.772028,
                    -4.496421,
                    13.67815,
                    -4.0496035,
                    10.618408,
                    7.2004004,
                    6.7504606,
                    3.7659204,
                    -7.8875775,
                    4.3212924,
                    14.308896,
                    -8.510749,
                    1.9233129,
                    8.688334,
                    -7.179206,
                    7.9854484,
                    2.372106,
                    -6.8103175,
                    -0.26192215,
                    -5.975321,
                    -2.4656572,
                    -7.2329683,
                    -7.6338706,
                    13.401916,
                    -6.33892,
                    8.052346,
                    -3.2505343,
                    6.8010564,
                    7.0187516,
                    -0.9398553,
                    -0.29650554,
                    6.585211,
                    -14.042766,
                    -7.569021,
                    11.7727,
                    2.30308,
                    -6.566438,
                    -10.868103,
                    14.258773,
                    -1.0979136,
                    7.4882684,
                    -8.456667,
                    -8.0538025,
                    -12.879219,
                    14.995688,
                    -6.2815495,
                    6.379267,
                    -11.819046,
                    -7.4416866,
                    -0.15714148,
                    -8.1849375,
                    -8.51345,
                    6.060783,
                    -13.825836,
                    -3.849234,
                    9.333985,
                    5.353977,
                    6.4705253,
                    12.812402,
                    7.8956304,
                    14.846837,
                    -5.4292164,
                    11.866552,
                    -0.86004627,
                    -2.3881452,
                    8.68557,
                    7.442868,
                    -10.096609,
                    -2.1923835,
                    14.459437,
                    -8.96385,
                    10.215673,
                    10.925927,
                    2.9638333,
                    7.024292,
                    7.2383432,
                    11.023252,
                    5.157807,
                    -6.455504,
                    -7.12784,
                    -4.435131,
                    -5.8423147,
                    -6.681747,
                    -10.298941,
                    3.2913191,
                    12.925453,
                    15.203183,
                    5.8591394,
                    1.8195244,
                    2.537312,
                    6.7514386,
                    -7.7948833,
                    7.156456,
                    13.601034,
                    -11.596854,
                    1.5266714,
                    -7.291646,
                    -2.1284745,
                    -13.516867,
                    -7.311407,
                    -4.503802,
                    -6.604307,
                    2.897324,
                    6.1477838,
                    4.965983,
                    -5.1255546,
                    -4.2206306,
                    -5.604208,
                    -7.951966,
                    8.962586,
                    -6.44148,
                    4.1830087,
                    -5.8728023,
                    5.7460356,
                    -8.617005,
                    -7.151679,
                    9.034666,
                    14.432184,
                    0.78520364,
                    7.7724156,
                    -0.76909244,
                    4.087546,
                    -9.011741,
                    4.46617,
                    -2.0566075,
                    -0.37674987,
                    -6.492923,
                    6.711814,
                    -3.4691274,
                    4.111808,
                    -9.648796,
                    -6.09283,
                    -3.5101826,
                    -9.481536,
                    -0.18902692,
                    11.758916,
                    11.292743,
                    -0.009373029,
                    11.969561,
                    -0.86617905,
                    -3.2270794,
                    -5.4185295,
                    -1.9149039,
                    -3.5606725,
                    -9.957462,
                    -0.8824856,
                    -10.844734,
                    4.0063257,
                    -2.3214483,
                    -3.7017653,
                    -4.1097546,
                    7.1622143,
                    9.663036,
                    7.38564,
                    5.96952,
                    9.427335,
                    3.39908,
                    -6.320833,
                    0.6109898,
                    9.288559,
                    -2.7221081,
                    -4.502277,
                    10.6369,
                    8.47644,
                    1.7950794,
                    7.3231816,
                    -7.7236867,
                    -10.038621,
                    10.319048,
                    -14.8110075,
                    -7.188269,
                    13.109032,
                    -5.363196,
                    -2.2830734,
                    -7.8856573,
                    -8.977516,
                    -3.3866367,
                    6.9851875,
                    -15.076039,
                    6.4159274,
                    -9.153567,
                    -3.9622986,
                    0.8105833,
                    10.830704,
                    -0.5799716,
                    -2.1599479,
                    -2.7241125,
                    -4.636165,
                    11.175993,
                    12.016007,
                    -5.1346216,
                    -7.057061,
                    9.582809,
                    2.9626245,
                    -2.347008,
                    8.05573,
                    -9.181127,
                    3.7796767,
                    14.044356,
                    -14.568207,
                    -3.9494731,
                    8.151198,
                    -4.184957,
                    5.413963,
                    -0.39573348,
                    6.3341527,
                    11.048425,
                    11.610353,
                    3.920318,
                    4.745674,
                    -5.0814366,
                    7.3538756,
                    -6.211381,
                    -0.84575367,
                    -5.9410086,
                    6.7154946,
                    12.885648,
                    -15.2354,
                    -7.8910356,
                    4.1362867,
                    6.253523,
                    7.1582613,
                    -7.64499,
                    -6.7990627,
                    6.771702,
                    -1.2782263,
                    -0.7479011,
                    -4.7028484,
                    -2.5211973,
                    9.380013,
                    16.19835,
                    -8.230388,
                    -2.4296412,
                    -6.111615,
                    13.925637,
                    14.447627,
                    -5.792068,
                    8.42289,
                    10.083451,
                    0.7594789,
                    7.6361465,
                    -11.712054,
                    0.93314934,
                    8.8737335,
                    3.4309957,
                    12.867957,
                    8.035217,
                    -7.2253904,
                    2.7905428,
                    7.724728,
                    8.806195,
                    -0.23228066,
                    6.4344993,
                    -10.464413,
                    -2.5234718,
                    6.142035,
                    -14.076413,
                    -6.1132708,
                    9.820829,
                    -2.3646193,
                    -2.3311412,
                    -15.125788,
                    -1.2981545,
                    -2.7329044,
                    7.215221,
                    15.478022,
                    -4.8410397,
                    -8.112369,
                    -7.2119474,
                    -6.817357,
                    -4.490848,
                    -4.6594944,
                    5.588067,
                    -2.682086,
                    13.741921,
                    -3.4091647,
                    -14.009508,
                    6.215018,
                    6.7967453,
                    -6.987844,
                    6.542748,
                    -5.024412,
                    -9.687599,
                    -13.840449,
                    -2.8241062,
                    -12.959044,
                    -11.032322,
                    -0.67186666,
                    7.4069686,
                    0.41928694,
                    -3.6374187,
                    -7.2016807,
                    10.87764,
                    -2.4551632,
                    14.167995,
                    0.9736908,
                    -7.1932955,
                    1.6163439,
                    -7.3952265,
                    5.779548,
                    -8.3141365,
                    -1.05933,
                    3.8707697,
                    -4.010778,
                    -7.648774,
                    -14.952293,
                    12.702276,
                    5.762194,
                    12.682803,
                    3.5455186,
                    6.145045,
                    -13.95503,
                    -11.76669,
                    -11.129163,
                    -8.545363,
                    -6.1399665,
                    -2.7024763,
                    14.192486,
                    9.087832,
                    -12.473084,
                    6.256433,
                    -12.967948,
                    -4.963967,
                    -9.88859,
                    -6.5143504,
                    -5.3504133,
                    9.257657,
                    -5.2644734,
                    10.273883,
                    1.1051288,
                    -12.744064,
                    10.387431,
                    -11.567236,
                    -9.48559,
                    -8.677761,
                    -8.135434,
                    -9.214203,
                    -2.6108077,
                    -7.2976956,
                    -0.17084262,
                    1.8857169,
                    -4.166559,
                    8.196517,
                    11.315217,
                    -6.2562156,
                    -6.2284775,
                    13.976322,
                    -2.9785235,
                    -6.746819,
                    11.495076,
                    -0.95643395,
                    -0.04605606,
                    -11.649336,
                    9.511193,
                    7.1255713,
                    -1.966852,
                    -12.104049,
                    8.447183,
                    -10.887135,
                    15.594024,
                    -5.9026346,
                    11.742724,
                    -14.088978,
                    11.632023,
                    11.5766,
                    11.401536,
                    11.072711,
                    -12.032978,
                    11.206371,
                    -1.5938662,
                    15.118666,
                    -6.9482965,
                    -4.11382,
                    6.7053013,
                    -2.4769976,
                    14.019823,
                    -6.2842236,
                    8.377628,
                    13.950196,
                    1.3521266,
                    -4.890768,
                    -8.604906,
                    -0.57074624,
                    6.1275206,
                    -6.6847677,
                    -0.18467452,
                    -6.8571343,
                    -9.016216,
                    -13.214145,
                    3.7767744,
                    -1.938987,
                    -1.6087799,
                    -11.864959,
                    8.926818,
                    4.0211506,
                    -7.406142,
                    -9.422226,
                    1.9037961,
                    -10.184403,
                    -14.762973,
                    -2.544981,
                    -5.17695,
                    8.898753,
                    -9.133312,
                    -3.5110009,
                    4.251484,
                    15.19487,
                    10.571063,
                    -7.8823347,
                    12.7603035,
                    -6.280075,
                    -11.320661,
                    -6.8465924,
                    7.6072626,
                    2.5140572,
                    3.3187149,
                    -4.51929,
                    -3.7887971,
                    -6.9892654,
                    8.59755,
                    10.24131,
                    4.515715,
                    8.055236,
                    11.570877,
                    12.0318575,
                    -4.249416,
                    1.503974,
                    4.3132796,
                    -4.0772023,
                    6.625605,
                    -4.3440495,
                    -6.8301597,
                    1.54673,
                    1.169575,
                    10.635799,
                    2.7310297,
                    6.6306133,
                    8.167777,
                    11.043685,
                    9.745981,
                    0.07936807,
                    -8.153852,
                    -1.0458684,
                    -9.781821,
                    8.028448,
                    12.335126,
                    10.057377,
                    7.1093717,
                    12.439664,
                    8.514837,
                    14.153084,
                    -0.22699131,
                    -2.2183914,
                    6.429549,
                    -6.804859,
                    7.1322107,
                    -7.004258,
                    -7.27865,
                    8.003937,
                    14.111926,
                    -9.117053,
                    7.0250425,
                    8.052194,
                    8.680653,
                    14.676101,
                    1.6795148,
                    -9.303255,
                    -12.61576,
                    5.5597196,
                    -10.132957,
                    -6.5118604,
                    3.8775866,
                    13.88843,
                    7.3238072,
                    4.4508247,
                    -3.2605028,
                    -0.17493646,
                    -2.2738593,
                    11.375425,
                    6.7211785,
                    -13.192607,
                    1.5898349,
                    6.958939,
                    -0.7964327,
                    -10.640395,
                    -7.540783,
                    16.108929,
                    11.872514,
                    -2.4005718,
                    4.5423875,
                    -3.2755668,
                    11.807652,
                    10.336494,
                    4.3905954,
                    14.524724,
                    -9.361771,
                    -6.040162,
                    -2.8939116,
                    -7.2140174,
                    9.8602915,
                    -5.736617,
                    -3.3356924,
                    -8.218197,
                    -10.439869,
                    -4.7584734,
                    7.7218423,
                    -0.7885603,
                    6.404819,
                    -3.0466883,
                    10.829449,
                    9.8588915,
                    -2.4369032,
                    10.542151,
                    -13.809775,
                    -7.9322524,
                    -5.247663,
                    -7.1820765,
                    -0.4181077,
                    -4.466116,
                    2.9329262,
                    7.5670977,
                    -6.9533386,
                    -9.047602,
                    -7.2031426,
                    10.747027,
                    9.681047,
                    0.86640686,
                    7.896065,
                    -9.22426,
                    -2.5831387,
                    11.510931,
                    4.416621,
                    -11.377491,
                    9.695914,
                    -5.5956388,
                    -7.963787,
                    11.250733,
                    -4.5627637,
                    4.799092,
                    -5.114046,
                    3.3193316,
                    -7.2157965,
                    -3.784252,
                    11.743477,
                    4.437632,
                    -7.4961114,
                    5.4800572,
                    4.7810316,
                    11.09518,
                    7.4144073,
                    -0.72009665,
                    -4.7259765,
                    7.758892,
                    -4.945017,
                    8.350398,
                    -5.0539145,
                    -6.4413047,
                    -9.703279,
                    -13.178418,
                    1.1482593,
                    3.7185261,
                    -2.5822675,
                    10.615618,
                    8.162085,
                    5.242802,
                    14.413152,
                    -6.689663,
                    12.487374,
                    6.9802303,
                    -6.5751686,
                    10.883362,
                    -8.262356,
                    -8.946784,
                    6.8497806,
                    8.078631,
                    -3.020642,
                    -0.6040742,
                    -6.468712,
                    5.729243,
                    6.6043863,
                    11.074691,
                    -2.9076047,
                    -0.9775861,
                    -6.7181754,
                    -14.439579,
                    -0.74057126,
                    2.8887746,
                    -7.4810057,
                    8.516838,
                    4.1544633,
                    4.899028,
                    6.001785,
                    12.284019,
                    -9.831654,
                    1.0503147,
                    -3.5269523,
                    -2.0188975,
                    1.1782821,
                    -12.064638,
                    -6.5360765,
                    -9.666375,
                    -5.3157005,
                    -6.481667,
                    -4.3103256,
                    -10.280668,
                    -0.7339007,
                    -8.263395,
                    8.531684,
                    -5.4412518,
                    -0.21057698,
                    -0.9216073,
                    -4.1596375,
                    9.768638,
                    -8.299238,
                    -6.687013,
                    -4.333013,
                    -8.419701,
                    15.090348,
                    7.981858,
                    5.553617,
                    -4.578169,
                    -8.199029,
                    10.81825,
                    8.040791,
                    0.52076787,
                    1.8539029,
                    -3.6038523,
                    -6.4421244,
                    10.785822,
                    14.352495,
                    -2.075537,
                    -3.3163931,
                    11.913564,
                    -3.7183158,
                    -7.1140604,
                    4.895957,
                    -1.8305982,
                    -3.8778174,
                    -6.309002,
                    5.738923,
                    -9.982596,
                    -14.748553,
                    10.347224,
                    -3.0321877,
                    8.869959,
                    -6.4334154,
                    -5.761137,
                    -0.39843854,
                    -1.1792244,
                    -8.40074,
                    -2.3086455,
                    9.0604315,
                    -6.1085725,
                    10.571251,
                    4.391175,
                    -6.8980126,
                    -4.300124,
                    5.911028,
                    -10.577468,
                    -1.6395575,
                    12.797407,
                    7.111289,
                    5.911704,
                    6.841922,
                    -8.515828,
                    7.416895,
                    9.270042,
                    -7.3543844,
                    7.648634,
                    -13.310606,
                    -2.3232102,
                    -1.2219604,
                    7.4751515,
                    -13.614782,
                    13.213727,
                    7.415556,
                    -2.2966475,
                    -2.4382646,
                    -2.8003023,
                    1.0490582,
                    -0.612251,
                    -7.7466087,
                    -10.686264,
                    -9.041812,
                    10.752936,
                    -0.442704,
                    7.4888153,
                    -7.954296,
                    6.9943566,
                    -1.9384302,
                    -0.3874723
                  ],
                  "y": [
                    -0.7195036,
                    -13.761105,
                    -1.5757904,
                    2.8694236,
                    -3.7040188,
                    2.4751143,
                    -5.14229,
                    -1.7045045,
                    4.190738,
                    -5.967212,
                    -1.786555,
                    -2.1515396,
                    3.0166738,
                    12.22769,
                    -4.045666,
                    0.3489602,
                    2.8432064,
                    13.053199,
                    3.619171,
                    10.29673,
                    4.254343,
                    14.051987,
                    11.9257765,
                    4.27722,
                    -7.2711835,
                    -7.201557,
                    -0.92457074,
                    -3.3629663,
                    -0.28470427,
                    8.319559,
                    -10.934867,
                    3.61508,
                    -10.483588,
                    -3.5607746,
                    -3.4130938,
                    -7.27341,
                    10.434801,
                    6.2721925,
                    -10.028733,
                    2.4350278,
                    12.899396,
                    9.993668,
                    -14.032133,
                    4.010625,
                    -2.7188485,
                    0.62185514,
                    -3.449648,
                    -0.71517414,
                    -0.7923326,
                    -7.058664,
                    2.5284998,
                    -10.829327,
                    7.230139,
                    0.4707507,
                    2.1496387,
                    -4.058819,
                    -4.6425576,
                    -1.5238107,
                    -2.8654544,
                    -2.8170288,
                    -2.426111,
                    12.060141,
                    5.336232,
                    -2.9036045,
                    11.433403,
                    -0.83947086,
                    -6.2583175,
                    12.718543,
                    -7.623182,
                    12.6017,
                    -0.085140646,
                    -3.9353118,
                    -3.5574248,
                    2.7118175,
                    -4.645109,
                    -5.9767976,
                    10.8169985,
                    1.3336245,
                    -11.716172,
                    -6.547852,
                    -6.2877426,
                    -5.4234605,
                    10.591266,
                    13.77956,
                    -3.3854594,
                    -11.815828,
                    13.607961,
                    12.688045,
                    -1.2457013,
                    -10.484835,
                    12.990984,
                    -6.1661882,
                    13.747891,
                    -4.956484,
                    -3.6405807,
                    4.7954855,
                    -14.9169655,
                    16.836575,
                    -13.186007,
                    10.74828,
                    -2.7109773,
                    11.865523,
                    16.26845,
                    7.9042025,
                    3.9429677,
                    11.497527,
                    -6.56141,
                    -12.27374,
                    11.66466,
                    -4.1789656,
                    14.839751,
                    -3.5587032,
                    10.898055,
                    -11.885451,
                    4.6267014,
                    -12.6427355,
                    5.0168834,
                    6.4453115,
                    2.6398818,
                    -13.40472,
                    -12.966656,
                    -12.249845,
                    17.23968,
                    11.739179,
                    -7.445048,
                    16.655958,
                    4.0753427,
                    3.2382514,
                    -13.033032,
                    -9.09494,
                    3.9363275,
                    -4.170287,
                    3.6374402,
                    -3.664163,
                    12.324217,
                    -2.1614125,
                    11.427139,
                    4.163779,
                    -12.204985,
                    -10.900719,
                    1.9578115,
                    -6.3566074,
                    7.5417504,
                    -7.2511687,
                    -14.197057,
                    -5.4105024,
                    10.853199,
                    11.402302,
                    -12.762154,
                    -12.05018,
                    15.168165,
                    -5.191015,
                    -11.994268,
                    8.059953,
                    13.745893,
                    -15.125748,
                    -14.549635,
                    12.318094,
                    11.326845,
                    2.0917015,
                    -6.0176864,
                    5.634084,
                    12.189229,
                    -6.671916,
                    2.7390428,
                    12.103915,
                    3.2968664,
                    -1.2513224,
                    -2.3894348,
                    -6.9901743,
                    11.8069515,
                    17.081963,
                    -6.262045,
                    -2.127379,
                    16.414886,
                    11.948861,
                    2.8927472,
                    -2.3136983,
                    -1.5325019,
                    4.4855103,
                    16.184916,
                    -1.5198766,
                    -2.6265335,
                    8.556836,
                    -0.74121094,
                    5.3033404,
                    10.490885,
                    -2.4706583,
                    9.30966,
                    13.409703,
                    -15.742534,
                    -2.6791968,
                    10.949937,
                    4.4681015,
                    -8.976617,
                    5.204786,
                    -7.062032,
                    -1.4376464,
                    -3.0060523,
                    -7.300329,
                    4.673866,
                    -11.413015,
                    5.1833067,
                    -1.3825313,
                    -1.6272486,
                    3.4849787,
                    8.232255,
                    4.4024644,
                    -1.9233294,
                    4.8769083,
                    15.604748,
                    10.71315,
                    1.2437925,
                    -5.007054,
                    -1.2705001,
                    15.819519,
                    -1.8617309,
                    1.614035,
                    1.5405527,
                    -0.4661281,
                    -1.3372926,
                    15.39543,
                    10.654274,
                    11.351264,
                    13.974374,
                    8.431335,
                    -14.469934,
                    8.872478,
                    -15.521468,
                    10.514657,
                    -4.8988986,
                    13.444232,
                    4.0302253,
                    4.185973,
                    -4.016647,
                    15.556787,
                    -1.6820004,
                    13.808103,
                    3.2951462,
                    3.303661,
                    -1.1373069,
                    -8.351103,
                    12.549892,
                    13.542163,
                    -1.773253,
                    13.447635,
                    -12.532951,
                    10.833196,
                    -6.3744526,
                    -7.2638993,
                    7.153596,
                    17.410814,
                    -3.659274,
                    5.740207,
                    -5.0320373,
                    -0.8220498,
                    -1.5143036,
                    12.725288,
                    -8.255294,
                    -14.038486,
                    -6.562386,
                    6.030199,
                    5.005709,
                    -7.3166294,
                    7.2677803,
                    13.911297,
                    4.4658933,
                    14.768174,
                    11.501322,
                    -1.3654922,
                    -11.886054,
                    -3.8501532,
                    14.398711,
                    -6.363234,
                    2.3874,
                    -4.8050838,
                    0.10536686,
                    -2.6649199,
                    16.143187,
                    9.298257,
                    -14.68304,
                    12.496366,
                    9.520186,
                    -10.822475,
                    -2.3895369,
                    -8.750683,
                    -5.660509,
                    15.5138855,
                    -8.889021,
                    7.1355453,
                    15.253531,
                    -2.3861861,
                    11.948615,
                    -8.465346,
                    13.687201,
                    -6.393284,
                    11.296664,
                    -6.2974005,
                    13.729095,
                    -9.907151,
                    -2.0428088,
                    -15.068723,
                    8.720188,
                    10.0831375,
                    11.412081,
                    -3.8865013,
                    -8.091913,
                    12.48203,
                    -15.953651,
                    -0.66693026,
                    -1.015309,
                    -6.880066,
                    -1.0652329,
                    -2.9225953,
                    14.766625,
                    -2.0070288,
                    13.688706,
                    -13.992829,
                    11.509362,
                    -3.4848042,
                    -11.95476,
                    12.9558735,
                    3.619713,
                    -11.339173,
                    -5.4257703,
                    13.611571,
                    4.874804,
                    -5.2167134,
                    -2.062551,
                    -4.675346,
                    -14.960901,
                    4.624627,
                    -3.8843381,
                    -14.442739,
                    12.642284,
                    11.115994,
                    16.345297,
                    -2.0426693,
                    -5.1541457,
                    -7.3921914,
                    -1.8426375,
                    9.862489,
                    2.6209087,
                    -5.319219,
                    9.682245,
                    -1.730061,
                    5.4802713,
                    -7.071816,
                    -4.988746,
                    0.73198396,
                    -11.484241,
                    -10.884884,
                    8.630638,
                    -3.5953367,
                    -5.620986,
                    -5.171656,
                    6.5353413,
                    -8.545161,
                    -7.8360744,
                    -7.077203,
                    -12.6650715,
                    16.412947,
                    6.5970325,
                    -15.679712,
                    3.3282728,
                    11.999135,
                    0.91686475,
                    -4.9355526,
                    12.835825,
                    -1.8440397,
                    -5.204542,
                    -1.1910307,
                    -7.4263425,
                    11.629925,
                    3.5136771,
                    11.347587,
                    -4.4263067,
                    -4.361447,
                    -3.8716552,
                    -6.0394754,
                    2.1386323,
                    -1.4543133,
                    12.356117,
                    -4.2171493,
                    16.791842,
                    -4.0956173,
                    11.846493,
                    -12.576355,
                    -7.987315,
                    -9.928056,
                    -6.125304,
                    -14.840485,
                    -5.49291,
                    13.283024,
                    -3.8743546,
                    -3.6613562,
                    11.315402,
                    10.226552,
                    13.38313,
                    -6.050042,
                    -13.062051,
                    14.371971,
                    -6.788444,
                    3.4492278,
                    8.873815,
                    -14.756177,
                    -6.999079,
                    5.357949,
                    1.4786344,
                    -13.469616,
                    -8.983681,
                    14.837317,
                    2.489134,
                    11.899205,
                    -12.954737,
                    -13.755214,
                    -8.020467,
                    -13.07315,
                    3.2963653,
                    -1.6727376,
                    14.1283245,
                    -7.0610614,
                    15.377155,
                    -12.4886055,
                    -2.4567058,
                    12.727257,
                    -4.7294817,
                    11.555389,
                    -2.6935618,
                    -7.341119,
                    14.218485,
                    5.9970703,
                    13.4341,
                    -3.8630702,
                    10.064064,
                    -6.802642,
                    12.555478,
                    10.837015,
                    11.73896,
                    3.9362104,
                    -13.095246,
                    -12.2123785,
                    4.2572994,
                    -7.696756,
                    -2.2569711,
                    1.1358407,
                    8.91616,
                    -4.975716,
                    11.736426,
                    -2.4580574,
                    -5.802149,
                    -6.959219,
                    -14.812391,
                    -3.7784927,
                    -6.925349,
                    4.3729362,
                    16.12208,
                    -6.9509254,
                    -11.897263,
                    -11.525736,
                    17.03845,
                    -2.5178666,
                    13.392981,
                    -5.241392,
                    -1.1786718,
                    13.098179,
                    -12.168669,
                    8.917183,
                    12.156479,
                    11.91891,
                    -13.202757,
                    -5.5924287,
                    13.62276,
                    13.302751,
                    11.125077,
                    -8.9606905,
                    4.933926,
                    1.3233546,
                    7.1678033,
                    -9.040993,
                    -6.8734035,
                    -6.2185526,
                    -4.110376,
                    -1.7361547,
                    5.259687,
                    9.949547,
                    16.79903,
                    7.643403,
                    -1.7167829,
                    3.069743,
                    -13.229097,
                    11.423481,
                    0.4360797,
                    8.992988,
                    12.478741,
                    -0.83222795,
                    -13.276374,
                    1.40937,
                    -4.261151,
                    -10.701045,
                    -12.343844,
                    -2.9881935,
                    13.794245,
                    -12.55993,
                    -2.4692628,
                    3.3040423,
                    10.725557,
                    -6.5748935,
                    7.7418914,
                    -1.3421069,
                    -2.86008,
                    -15.126121,
                    17.331793,
                    -6.7430415,
                    -6.216492,
                    -5.7969136,
                    -4.64267,
                    10.496554,
                    17.538336,
                    -8.3290825,
                    -4.2472305,
                    -1.1682495,
                    -7.5810256,
                    -2.0048416,
                    1.6249806,
                    -5.6059394,
                    8.2459955,
                    -15.296592,
                    16.807938,
                    -2.4976485,
                    16.230947,
                    5.075152,
                    2.1345716,
                    13.261127,
                    -6.7918215,
                    9.718461,
                    -13.566376,
                    10.09718,
                    -1.9470115,
                    -1.4577074,
                    -10.9837675,
                    -5.6427236,
                    -8.941697,
                    -1.3683381,
                    -6.820244,
                    2.9894989,
                    -5.3777466,
                    3.0288103,
                    10.859722,
                    -4.893655,
                    8.039716,
                    13.938919,
                    -1.6876973,
                    11.306012,
                    -4.5437503,
                    15.230855,
                    1.8834294,
                    11.226357,
                    2.4646263,
                    -0.69508517,
                    -7.678226,
                    1.8147321,
                    7.162919,
                    -1.1792097,
                    12.570684,
                    8.615251,
                    -6.4241724,
                    -2.6017506,
                    -1.8329628,
                    -1.7308993,
                    7.253874,
                    -6.6160235,
                    -1.2182976,
                    0.548711,
                    -1.721527,
                    -0.43353966,
                    -13.5811,
                    -8.93262,
                    -10.47731,
                    -13.262371,
                    -9.884147,
                    12.560127,
                    11.737077,
                    -3.0724397,
                    -15.730357,
                    8.016055,
                    -2.4370089,
                    11.274736,
                    -15.525389,
                    0.99760616,
                    -6.9278407,
                    7.36883,
                    5.838712,
                    -1.0998545,
                    4.550718,
                    7.439626,
                    -4.2919974,
                    1.5872093,
                    11.847625,
                    9.916885,
                    3.2892208,
                    -2.1732724,
                    10.30234,
                    -5.5377192,
                    12.072331,
                    -12.330676,
                    9.458309,
                    4.833361,
                    12.773937,
                    -11.770372,
                    -7.8588886,
                    14.905443,
                    -10.774593,
                    -10.540664,
                    9.140442,
                    -5.7992167,
                    15.655358,
                    -0.87369365,
                    13.884279,
                    -2.3861506,
                    6.586617,
                    7.094358,
                    7.34917,
                    -11.404598,
                    -2.2771869,
                    -0.2206833,
                    -5.702884,
                    -3.136068,
                    5.3170753,
                    -5.1751194,
                    6.6106706,
                    -12.311341,
                    -3.8044245,
                    -1.252539,
                    -10.2001915,
                    -2.0073218,
                    -11.515459,
                    -1.8807076,
                    11.571128,
                    5.2611694,
                    -1.6400884,
                    4.5957627,
                    5.186472,
                    -6.1874895,
                    4.4113145,
                    -3.6561167,
                    12.44885,
                    -11.827874,
                    11.072061,
                    13.694267,
                    -14.402411,
                    11.57551,
                    -1.1307209,
                    3.374727,
                    -7.7692256,
                    -2.774833,
                    10.623882,
                    -10.814861,
                    -2.503896,
                    -4.3020124,
                    8.768238,
                    7.064067,
                    -1.2048239,
                    -1.3115386,
                    -5.2294655,
                    5.146737,
                    2.5529563,
                    5.135022,
                    -1.4234052,
                    -7.485307,
                    -0.30968156,
                    9.967766,
                    -4.6475706,
                    -2.1662893,
                    1.6531792,
                    -5.5511928,
                    4.4388895,
                    1.0286545,
                    -4.4408584,
                    -3.773396,
                    -2.4001212,
                    -14.547141,
                    -1.7366248,
                    -6.182553,
                    -5.1366405,
                    -7.415911,
                    -5.7816973,
                    -7.2379403,
                    11.024904,
                    -0.8813241,
                    3.6895788,
                    10.071269,
                    2.0755897,
                    -7.012221,
                    -7.073682,
                    2.0932946,
                    -6.4625793,
                    8.588842,
                    11.818811,
                    11.2673,
                    -11.972849,
                    8.813407,
                    -3.6180727,
                    11.231739,
                    -13.219817,
                    3.9475887,
                    10.276096,
                    3.938336,
                    6.378128,
                    -7.9235106,
                    -3.785187,
                    11.931746,
                    -7.0418577,
                    -11.269826,
                    11.469838,
                    -3.6527727,
                    2.4715924,
                    5.586867,
                    -4.200417,
                    -5.537549,
                    3.6122565,
                    -15.75315,
                    16.972977,
                    12.012638,
                    16.881752,
                    -10.533522,
                    -2.144934,
                    2.2269242,
                    4.187585,
                    1.7880831,
                    15.591016,
                    -1.7448158,
                    -2.2101488,
                    -3.0957308,
                    -12.271106,
                    11.626662,
                    14.356802,
                    -13.218061,
                    -5.974293,
                    -1.1697863,
                    -11.481839,
                    14.696847,
                    14.048743,
                    -0.12121557,
                    13.279192,
                    -6.4115205,
                    -5.8503437,
                    1.2241489,
                    -3.160048,
                    8.8550205,
                    -13.034684,
                    -7.397973,
                    4.6121564,
                    14.082616,
                    -6.744513,
                    -2.2380817,
                    -6.501564,
                    -2.8269212,
                    0.5549095,
                    -6.361996,
                    8.26696,
                    -13.184844,
                    11.746252,
                    -7.824501,
                    -1.8179338,
                    -15.167861,
                    -14.873508,
                    -2.2591317,
                    -3.9977465,
                    5.467263,
                    -6.5042253,
                    -2.5343819,
                    -1.5492418,
                    -4.670631,
                    13.519654,
                    7.117906,
                    5.7235203,
                    15.235109,
                    -3.79523,
                    -10.194286,
                    13.967632,
                    -5.0738635,
                    17.02542,
                    15.102899,
                    -12.886577,
                    8.569023,
                    -13.235869,
                    2.0264711,
                    -7.1652746,
                    7.7513127,
                    8.747269,
                    -3.6758146,
                    10.719731,
                    -3.7953913,
                    -15.431393,
                    -2.375,
                    -5.9633675,
                    -6.93673,
                    12.885803,
                    -16.357214,
                    -2.2894607,
                    -1.7013638,
                    17.07837,
                    -1.0546143,
                    3.478391,
                    -7.2223964,
                    -14.106579,
                    -8.843423,
                    2.1298852,
                    -4.9708185,
                    11.130357,
                    1.879644,
                    -3.7928493,
                    -9.577486,
                    16.931765,
                    11.657628,
                    16.348778,
                    -0.5120877,
                    0.6761004,
                    3.4029286,
                    -1.0149362,
                    -3.1464686,
                    9.091078,
                    -11.332074,
                    -7.3543935,
                    -15.273028,
                    -6.0066004,
                    -12.768853,
                    12.773829,
                    1.0724726,
                    -10.844628,
                    -6.4347,
                    4.984958,
                    0.11749962,
                    -3.3546917,
                    12.455449,
                    -1.8654317,
                    5.4580097,
                    -1.8592592,
                    -4.736913,
                    13.256757,
                    7.8395667,
                    3.144015,
                    -12.334493,
                    -14.401328,
                    1.1641154,
                    -8.913912,
                    12.92467,
                    -11.588068,
                    14.065863,
                    1.9834069,
                    -10.815602,
                    -5.256843,
                    13.45865,
                    -7.716532,
                    17.484589,
                    16.462221,
                    2.60701,
                    -6.870625,
                    -8.170785,
                    -9.967628,
                    -6.5077252,
                    -12.9592705,
                    -5.6231675,
                    -8.121313,
                    4.1603575,
                    6.018457,
                    8.309328,
                    12.089503,
                    15.327991,
                    -2.4607198,
                    -5.1582117,
                    13.724514,
                    14.4221525,
                    -4.885563,
                    -5.591058,
                    -3.6589677,
                    15.130521,
                    -10.421629,
                    -2.0111213,
                    -5.7225237,
                    -4.2217045,
                    -5.1396337,
                    2.9198248,
                    -1.533867,
                    -7.0310445,
                    -10.732209,
                    12.814209,
                    -1.3640939,
                    -0.16402762,
                    10.851274,
                    8.881176,
                    -2.2961318,
                    9.56247,
                    8.673637,
                    14.406313,
                    -11.181923,
                    12.332746,
                    16.544796,
                    18.096582,
                    15.515273,
                    -3.167257,
                    7.4106927,
                    9.120914,
                    -12.870784,
                    10.386155,
                    10.842834,
                    3.674223,
                    -2.3774302,
                    -4.2129784,
                    -7.4545064,
                    -6.2556067,
                    -13.077458,
                    -4.565151,
                    11.246953,
                    5.1045256,
                    -2.3076205,
                    -9.106906,
                    -6.306609,
                    -7.0914607,
                    -10.320129,
                    3.9030712,
                    -13.158707,
                    -12.562786,
                    -12.086538,
                    -5.2452536,
                    -3.1474912,
                    -2.0453718,
                    14.058303,
                    -11.964006,
                    5.312468,
                    -4.0159764,
                    14.051101,
                    9.041141,
                    10.1493225,
                    11.013405,
                    -15.005402,
                    -1.5706769,
                    -1.4895217,
                    -1.0060661,
                    12.195739,
                    -2.0464857,
                    -12.120915,
                    1.7242469,
                    11.71625,
                    10.748367,
                    -13.27501,
                    -12.281481,
                    16.21827,
                    4.1897864,
                    7.095323,
                    -1.5591846,
                    -0.51642156,
                    3.5942929,
                    -12.355952,
                    -7.8839707,
                    -6.9801993,
                    -5.0726533,
                    2.189816,
                    -12.542374,
                    14.207112,
                    -6.574574,
                    -2.6180646,
                    10.997062,
                    -10.566811,
                    -15.415407,
                    14.984863,
                    -4.695193,
                    11.349682,
                    -3.8604925,
                    0.92473596,
                    13.131488,
                    -1.6468147,
                    5.139273,
                    -6.321753,
                    13.143009,
                    -8.746934,
                    0.53524464,
                    5.876853,
                    -5.5758953,
                    -7.796263,
                    -2.7658336,
                    8.922063,
                    -5.7037177,
                    0.7825869,
                    -13.696236,
                    -12.874716,
                    -1.2130338,
                    11.803242,
                    -7.6263785,
                    2.5312715,
                    -3.7920415,
                    -3.7502277,
                    -1.6228381,
                    -6.651171,
                    -2.1490874,
                    -8.227634,
                    -7.0149145,
                    -4.318438,
                    -7.5935364
                  ],
                  "z": [
                    -0.6778939,
                    9.522507,
                    4.9733334,
                    4.9322276,
                    6.4547048,
                    5.899972,
                    -4.8682275,
                    -11.616978,
                    4.9425874,
                    -0.15716842,
                    -9.720082,
                    -11.963264,
                    1.776408,
                    -4.005077,
                    -9.672139,
                    11.052746,
                    1.7968252,
                    -5.625581,
                    2.8527625,
                    -7.05958,
                    6.544992,
                    0.3097223,
                    -4.550441,
                    5.2925963,
                    8.323713,
                    -9.216674,
                    5.591324,
                    -4.058735,
                    -11.263734,
                    -8.420795,
                    5.814404,
                    8.795383,
                    5.206295,
                    -10.854805,
                    -8.054063,
                    -9.514926,
                    -6.6767764,
                    6.383104,
                    2.886707,
                    6.748306,
                    -1.4797246,
                    -6.5916195,
                    6.178933,
                    7.299729,
                    -9.365716,
                    11.310364,
                    -9.700296,
                    -5.4893703,
                    5.4066772,
                    -15.863608,
                    10.6435,
                    0.013791796,
                    8.1131115,
                    11.32279,
                    6.6529007,
                    0.89987606,
                    0.20048821,
                    -4.6505284,
                    -10.54264,
                    -8.9256,
                    -6.1713943,
                    -3.3600156,
                    2.3443503,
                    -11.0266695,
                    -0.44052178,
                    3.8799398,
                    -7.341564,
                    -5.0198402,
                    4.3587904,
                    -7.677646,
                    -10.142594,
                    9.535962,
                    -0.7192399,
                    3.6205,
                    -12.586781,
                    -11.116811,
                    -6.156228,
                    8.59198,
                    3.2063117,
                    -2.1711867,
                    -2.5252078,
                    -10.519309,
                    -4.7071967,
                    -2.8516083,
                    -3.6253638,
                    9.304563,
                    -2.6989062,
                    -5.6684823,
                    -5.9784727,
                    1.1815956,
                    1.7684053,
                    10.421645,
                    -1.1404464,
                    -4.2065034,
                    -1.4179285,
                    1.7276518,
                    5.025105,
                    -3.8362315,
                    5.5967917,
                    -5.9706683,
                    0.19544536,
                    -3.4354222,
                    -3.799747,
                    8.242893,
                    2.2470207,
                    1.7654684,
                    -13.6265545,
                    9.342165,
                    5.1676555,
                    8.258974,
                    2.792966,
                    0.10818083,
                    -10.4918785,
                    2.5974905,
                    0.42238224,
                    1.5350869,
                    8.835699,
                    9.369537,
                    8.984336,
                    5.7298875,
                    1.6894741,
                    7.1246676,
                    -5.8715615,
                    -1.9694223,
                    -11.455505,
                    -5.0450926,
                    7.794817,
                    7.5887823,
                    8.363319,
                    -12.217494,
                    6.783906,
                    -4.97335,
                    2.6988802,
                    -3.757612,
                    -3.8302062,
                    -2.2107725,
                    -4.8683615,
                    4.0674973,
                    9.200547,
                    7.844817,
                    9.426218,
                    -10.853322,
                    7.7752614,
                    5.0900097,
                    5.8577943,
                    -2.5128055,
                    -9.118159,
                    -4.017746,
                    9.458845,
                    6.4230614,
                    2.3973854,
                    -11.420369,
                    8.804948,
                    7.126452,
                    0.4860633,
                    5.4764767,
                    4.733427,
                    -2.0254786,
                    3.1417193,
                    3.489752,
                    -2.3057747,
                    7.487191,
                    2.5972154,
                    -0.65257883,
                    7.5573306,
                    -2.9952757,
                    3.7222247,
                    -10.802514,
                    -8.417437,
                    -12.166945,
                    -1.5207834,
                    -3.3711424,
                    8.562404,
                    6.155554,
                    -1.711384,
                    -4.6706247,
                    2.9924572,
                    6.514182,
                    -2.3703213,
                    4.173671,
                    -1.7566769,
                    -8.908525,
                    -1.7287868,
                    -9.223776,
                    -11.243859,
                    8.602881,
                    -8.704979,
                    -7.166437,
                    6.6828446,
                    3.6152844,
                    6.414278,
                    6.654745,
                    -10.547722,
                    1.0147487,
                    -14.256959,
                    9.937066,
                    -12.274437,
                    -4.053802,
                    0.5777711,
                    -11.2229,
                    6.693069,
                    7.2238355,
                    7.6934576,
                    -10.449571,
                    5.99955,
                    8.589699,
                    4.9879227,
                    6.613067,
                    -8.99169,
                    8.796495,
                    -1.8856822,
                    -8.998467,
                    7.2990723,
                    -10.665102,
                    -6.4100733,
                    -2.058007,
                    -2.947398,
                    9.476295,
                    8.479423,
                    -4.3085713,
                    5.7166266,
                    -4.9712973,
                    -5.03145,
                    5.0888495,
                    -3.6085086,
                    5.174886,
                    5.4119544,
                    6.0141478,
                    7.784161,
                    -10.196312,
                    -3.7821486,
                    -1.1197381,
                    3.8356254,
                    4.2243514,
                    -3.817674,
                    -4.9706492,
                    -2.781629,
                    3.9027076,
                    7.577025,
                    0.5509527,
                    -6.3090305,
                    -12.536861,
                    -6.1391883,
                    -5.361153,
                    -10.804342,
                    -3.6678007,
                    3.6538057,
                    3.8205314,
                    -4.1667953,
                    5.585593,
                    5.828203,
                    -2.5520785,
                    9.55227,
                    7.409955,
                    -3.680452,
                    -4.489997,
                    -1.2296628,
                    -4.747709,
                    8.253174,
                    6.5207644,
                    6.12102,
                    6.4299626,
                    1.0323888,
                    -11.628104,
                    6.2718606,
                    -5.488782,
                    3.561004,
                    -3.6354065,
                    4.8302093,
                    -3.8102484,
                    9.340887,
                    -2.0391939,
                    3.0831873,
                    6.227574,
                    7.905313,
                    -6.077839,
                    8.571906,
                    6.6835666,
                    -5.5764694,
                    6.8952312,
                    5.909186,
                    -5.9856396,
                    6.632526,
                    1.7933207,
                    6.829161,
                    -13.326382,
                    -14.962678,
                    -5.265683,
                    -15.067447,
                    5.405389,
                    1.8835452,
                    -4.057062,
                    -1.9586837,
                    -13.725063,
                    -2.8456004,
                    9.239617,
                    -8.572406,
                    -0.747356,
                    -1.6006948,
                    2.7033768,
                    -1.149989,
                    7.0279317,
                    -7.337738,
                    -7.917775,
                    -7.6226063,
                    -11.425633,
                    -12.38753,
                    3.2453384,
                    6.8075504,
                    -11.260359,
                    -11.071455,
                    -5.607681,
                    -8.659176,
                    5.690199,
                    -1.3471795,
                    -0.5597257,
                    -2.0712159,
                    7.8517585,
                    3.74241,
                    -2.0552666,
                    9.280208,
                    3.265649,
                    8.278207,
                    8.190951,
                    -0.53279084,
                    1.432529,
                    3.446468,
                    10.466051,
                    -8.750855,
                    9.567938,
                    8.375755,
                    2.6259441,
                    -6.4787173,
                    4.81498,
                    -5.646155,
                    -6.2490835,
                    -5.1126575,
                    -2.5552986,
                    8.042936,
                    7.255686,
                    -2.430766,
                    5.9151,
                    4.415574,
                    -7.1206613,
                    -9.410179,
                    -9.523084,
                    8.901528,
                    -4.096971,
                    9.218443,
                    9.914969,
                    7.1547775,
                    2.1277614,
                    7.8916016,
                    -1.9102346,
                    -14.98688,
                    -2.9021122,
                    7.174483,
                    -11.979204,
                    7.182809,
                    -10.431238,
                    9.500568,
                    -4.3401275,
                    7.609217,
                    6.4166975,
                    8.422415,
                    2.528849,
                    7.526006,
                    -1.8473898,
                    -4.328297,
                    -4.2342744,
                    -13.91197,
                    -6.2739377,
                    5.040848,
                    -7.7602725,
                    8.19122,
                    -1.4653318,
                    -12.163206,
                    9.3080225,
                    -1.7962135,
                    -10.368265,
                    8.487122,
                    -3.7534895,
                    4.703014,
                    -1.2470219,
                    -5.2098413,
                    -4.362177,
                    -1.7149506,
                    5.9842887,
                    -11.566186,
                    1.4667548,
                    -14.802453,
                    4.852297,
                    -10.216935,
                    4.2908516,
                    -4.187733,
                    -1.8687457,
                    1.728206,
                    -7.701146,
                    0.7230882,
                    -3.6484494,
                    5.849266,
                    -0.7524088,
                    -5.8182054,
                    8.874993,
                    -8.842775,
                    8.416142,
                    6.453466,
                    7.282888,
                    3.1733196,
                    10.032237,
                    -13.628215,
                    2.2102277,
                    8.390098,
                    3.2982898,
                    8.894279,
                    5.9614086,
                    -14.915856,
                    8.453703,
                    9.6930275,
                    -9.590161,
                    1.1465057,
                    -12.931721,
                    -4.9304276,
                    8.814458,
                    -8.594362,
                    -4.3271537,
                    -3.9440935,
                    -7.7371197,
                    -0.48286498,
                    5.658322,
                    3.418867,
                    8.82695,
                    -2.9153128,
                    9.8981285,
                    -6.4399805,
                    -12.155097,
                    -4.555716,
                    -5.4135404,
                    5.014962,
                    1.3019114,
                    4.0601363,
                    3.2530944,
                    0.9252921,
                    5.9451656,
                    -5.653196,
                    7.6143603,
                    -7.4142838,
                    -6.1220946,
                    -5.822188,
                    -9.858871,
                    -14.376927,
                    4.979171,
                    6.2372947,
                    -11.634142,
                    10.538773,
                    7.9253697,
                    -0.13100915,
                    5.5348516,
                    3.1435962,
                    2.606831,
                    -5.658265,
                    7.2327194,
                    -2.6073976,
                    -2.1376479,
                    -4.9810677,
                    2.1209962,
                    2.5590076,
                    -8.082138,
                    -3.220135,
                    -6.116363,
                    1.9385985,
                    -3.6035972,
                    -2.5789607,
                    3.3697474,
                    -1.5605884,
                    -14.481069,
                    9.700084,
                    7.8369775,
                    6.4007125,
                    -13.391997,
                    -4.375228,
                    -14.307251,
                    8.628946,
                    -9.199064,
                    8.865505,
                    -5.7048087,
                    -2.6737633,
                    5.582426,
                    -2.02291,
                    0.92912376,
                    3.1590478,
                    -10.788541,
                    8.202238,
                    -6.770822,
                    -6.0775943,
                    -10.08624,
                    9.575679,
                    8.77728,
                    -6.195751,
                    1.0052308,
                    9.24842,
                    -4.06266,
                    1.3352356,
                    7.33493,
                    -0.64898986,
                    0.6668252,
                    3.9657948,
                    -4.814038,
                    5.217294,
                    -8.762442,
                    6.795271,
                    7.415336,
                    -4.668871,
                    7.7585573,
                    -0.8716945,
                    -6.0748043,
                    -7.8792486,
                    3.6512194,
                    -2.0785897,
                    -12.063569,
                    -0.030095981,
                    -10.536822,
                    8.906256,
                    -8.812943,
                    8.937089,
                    -2.9658248,
                    5.6136093,
                    7.1389375,
                    -1.4852859,
                    -0.19779234,
                    -3.6828291,
                    3.9739788,
                    3.683917,
                    -3.0109975,
                    9.787148,
                    -8.859656,
                    10.00054,
                    -5.1563263,
                    -1.775469,
                    -3.77212,
                    8.959873,
                    9.648379,
                    -13.664438,
                    -2.232836,
                    -3.8299596,
                    4.090971,
                    -3.0650096,
                    8.514179,
                    -8.528643,
                    -2.9526517,
                    7.430128,
                    2.0554528,
                    6.3990197,
                    3.2199948,
                    -6.172781,
                    -4.105173,
                    2.8994825,
                    4.478628,
                    9.536518,
                    -4.331134,
                    5.81678,
                    8.332727,
                    8.609978,
                    -9.234891,
                    -3.5321543,
                    4.335946,
                    -15.332186,
                    -3.9398687,
                    -10.360284,
                    -8.927325,
                    6.3014402,
                    10.095398,
                    -11.519097,
                    9.765256,
                    -2.8438618,
                    -10.729445,
                    8.185047,
                    -15.215779,
                    1.9217823,
                    1.6091754,
                    1.6369622,
                    3.9800391,
                    -7.36247,
                    -3.1236866,
                    6.841683,
                    5.130456,
                    -0.706632,
                    -1.7688843,
                    7.742836,
                    7.7000837,
                    -14.092477,
                    8.053326,
                    6.2568464,
                    -11.425652,
                    8.531983,
                    7.263782,
                    9.756251,
                    7.4868946,
                    -7.499558,
                    -6.0103483,
                    3.9779966,
                    -5.92499,
                    -9.540339,
                    -3.9334552,
                    -8.584289,
                    9.321183,
                    -9.251329,
                    2.2881784,
                    -3.7366185,
                    8.348036,
                    8.675199,
                    1.8283627,
                    2.0194728,
                    1.8522323,
                    5.9299297,
                    -6.0068264,
                    -0.96378934,
                    -5.9728913,
                    -1.9173535,
                    -0.44083926,
                    7.7333455,
                    8.018146,
                    6.140449,
                    6.6195083,
                    -8.685471,
                    -10.518844,
                    -2.522962,
                    7.1370525,
                    7.5121865,
                    -1.7548943,
                    5.810117,
                    9.903901,
                    -12.530382,
                    -10.322574,
                    1.0623852,
                    -1.6409582,
                    0.8695502,
                    -4.639386,
                    -10.692117,
                    8.961932,
                    5.8803954,
                    8.46303,
                    9.643035,
                    -10.740009,
                    2.2120671,
                    -11.524784,
                    -6.579519,
                    2.6499546,
                    -6.895368,
                    3.0607252,
                    5.443322,
                    -2.7947912,
                    -4.310475,
                    3.2061837,
                    -15.4076605,
                    -1.4672748,
                    -5.356451,
                    2.3481598,
                    -4.792564,
                    8.305389,
                    -7.7052193,
                    7.427538,
                    -4.932464,
                    -1.1000568,
                    9.704031,
                    9.4368105,
                    9.141488,
                    9.20641,
                    -3.9776795,
                    -15.464738,
                    -3.9668477,
                    6.2993927,
                    -7.8211217,
                    -3.0758648,
                    7.808626,
                    -4.9642234,
                    9.123395,
                    9.874296,
                    9.685558,
                    -3.8613188,
                    -8.119272,
                    6.323787,
                    -3.002213,
                    8.573544,
                    -5.668478,
                    -15.38909,
                    -2.6188068,
                    -3.6590226,
                    -10.313109,
                    -11.317007,
                    2.1461737,
                    -8.979642,
                    8.239449,
                    -11.227153,
                    10.295469,
                    2.873853,
                    -9.960775,
                    5.230139,
                    2.594241,
                    -8.361774,
                    7.717147,
                    5.404593,
                    -4.8822246,
                    -3.5826275,
                    3.728787,
                    7.479955,
                    -9.751438,
                    2.5813885,
                    7.933507,
                    8.745613,
                    -10.429518,
                    -1.9392036,
                    -12.99882,
                    9.179747,
                    -1.0156056,
                    0.1402497,
                    5.6867704,
                    4.99135,
                    -0.48996684,
                    -12.784783,
                    2.8394594,
                    8.941064,
                    -1.8432295,
                    -11.045147,
                    -3.2218146,
                    5.245366,
                    -9.366015,
                    2.1971319,
                    7.9933796,
                    6.094295,
                    -2.6403358,
                    7.531591,
                    -3.1409702,
                    -2.9184487,
                    7.2405224,
                    -10.62201,
                    3.1243486,
                    3.8049207,
                    -1.2398291,
                    -8.218237,
                    6.5382223,
                    1.8936951,
                    1.8379672,
                    8.709241,
                    0.63971114,
                    -0.6074084,
                    -0.51257044,
                    9.865705,
                    6.2601194,
                    -7.4085565,
                    9.510377,
                    5.020696,
                    8.324808,
                    -3.9917877,
                    -4.534497,
                    5.963479,
                    -2.191472,
                    -6.7495103,
                    8.788553,
                    -4.6138415,
                    -8.757855,
                    5.5001297,
                    -1.5626665,
                    -14.866967,
                    -0.6757627,
                    7.2190485,
                    8.346285,
                    6.8556986,
                    -3.7351816,
                    0.6393241,
                    -2.4747548,
                    -1.6646619,
                    -4.4959173,
                    -3.7178748,
                    1.387804,
                    8.242812,
                    7.494307,
                    -0.7438136,
                    -12.478501,
                    2.9852338,
                    4.477719,
                    -2.2691529,
                    -3.443016,
                    2.379736,
                    2.9446507,
                    -8.187552,
                    6.1775365,
                    8.16577,
                    -0.692596,
                    5.518535,
                    -9.404924,
                    -2.5656364,
                    -9.875925,
                    -11.5664215,
                    8.028322,
                    -2.3125017,
                    -3.980532,
                    5.990581,
                    4.429274,
                    6.389443,
                    -5.2787504,
                    -3.1036541,
                    -1.546297,
                    -2.0758004,
                    0.74461955,
                    -15.86562,
                    6.289246,
                    -13.041814,
                    9.753139,
                    -13.897173,
                    -5.3247175,
                    2.3771913,
                    -12.060262,
                    1.3390288,
                    -3.2583826,
                    -6.145084,
                    -3.9547908,
                    -11.155761,
                    6.417654,
                    8.779043,
                    -9.173365,
                    5.589011,
                    4.478105,
                    8.0964985,
                    -12.453108,
                    6.32394,
                    9.704185,
                    2.6718254,
                    2.505339,
                    8.2315,
                    7.9759946,
                    -10.006239,
                    2.0710313,
                    8.223087,
                    5.938572,
                    -8.040186,
                    7.5690427,
                    0.72056437,
                    -9.118517,
                    -6.247599,
                    4.0558577,
                    8.08028,
                    8.501201,
                    8.999076,
                    7.646015,
                    8.866479,
                    -12.348724,
                    4.443359,
                    1.4379525,
                    -1.7170987,
                    3.1318073,
                    2.1414099,
                    -6.614549,
                    3.915082,
                    -11.285807,
                    -4.852399,
                    -2.431897,
                    9.797609,
                    -1.1863303,
                    8.554965,
                    2.1285641,
                    -2.0973935,
                    8.55624,
                    -0.23027425,
                    -12.410175,
                    3.7991889,
                    9.537167,
                    5.4897456,
                    -8.671626,
                    1.1269734,
                    -9.893495,
                    -5.2861447,
                    -2.9162376,
                    2.840743,
                    -1.8960177,
                    -13.709111,
                    -4.2260103,
                    -1.2649758,
                    1.2568649,
                    6.469485,
                    -10.640408,
                    -11.099547,
                    -3.2284725,
                    8.824668,
                    -11.107669,
                    10.524859,
                    2.909699,
                    -1.9607254,
                    -1.1752212,
                    7.778153,
                    -5.0125895,
                    -8.644078,
                    -8.383637,
                    6.2993083,
                    -9.321129,
                    3.1767642,
                    2.448574,
                    -4.5404677,
                    -1.1116121,
                    -2.322375,
                    -4.8202763,
                    -6.5956717,
                    7.9628735,
                    -8.681297,
                    2.1306872,
                    -4.7175665,
                    -8.624935,
                    8.351344,
                    -8.473083,
                    -12.689766,
                    -14.329773,
                    -13.735222,
                    5.508799,
                    -12.664768,
                    -9.525215,
                    0.54507816,
                    -1.2990222,
                    -12.395145,
                    9.064219,
                    10.628464,
                    1.90227,
                    9.579728,
                    6.2606936,
                    3.3062217,
                    9.474671,
                    -10.308843,
                    -1.6934028,
                    -1.356671,
                    -1.6140652,
                    9.676128,
                    1.0899757,
                    -6.026086,
                    -2.3282003,
                    -7.6023436,
                    -8.049286,
                    -6.3946705,
                    5.2069798,
                    6.7232385,
                    -2.218029,
                    -9.238511,
                    -7.132778,
                    -7.3083863,
                    3.2654505,
                    3.8286674,
                    3.6493723,
                    -8.753174,
                    3.308733,
                    3.7376816,
                    -5.25873,
                    8.9692335,
                    6.826263,
                    -3.242789,
                    -11.2502985,
                    8.629316,
                    5.9884553,
                    -14.797973,
                    10.417699,
                    8.37187,
                    2.0890872,
                    7.374887,
                    -4.907098,
                    -13.060738,
                    6.073574,
                    3.7847679,
                    2.0594616,
                    7.638769,
                    -4.048156,
                    -11.268744,
                    -8.706762,
                    -6.5224524,
                    8.52101,
                    3.915047,
                    -2.8441424,
                    0.236421,
                    -2.972141,
                    -4.7119484,
                    -13.641204,
                    9.008272,
                    8.378294,
                    9.439583,
                    8.649372,
                    0.4262937,
                    4.8787127,
                    -3.3056352,
                    9.17486,
                    6.713384,
                    7.288043,
                    -9.843971,
                    -10.038017,
                    5.5994024,
                    3.593124,
                    -11.791471,
                    -11.414893,
                    6.9690537,
                    8.611728,
                    -1.6742243,
                    -14.178263,
                    -0.9814382,
                    9.324769,
                    5.230548
                  ]
                }
              ],
              "layout": {
                "coloraxis": {
                  "colorbar": {
                    "title": {
                      "text": "Anomaly"
                    }
                  },
                  "colorscale": [
                    [
                      0,
                      "#0d0887"
                    ],
                    [
                      0.1111111111111111,
                      "#46039f"
                    ],
                    [
                      0.2222222222222222,
                      "#7201a8"
                    ],
                    [
                      0.3333333333333333,
                      "#9c179e"
                    ],
                    [
                      0.4444444444444444,
                      "#bd3786"
                    ],
                    [
                      0.5555555555555556,
                      "#d8576b"
                    ],
                    [
                      0.6666666666666666,
                      "#ed7953"
                    ],
                    [
                      0.7777777777777778,
                      "#fb9f3a"
                    ],
                    [
                      0.8888888888888888,
                      "#fdca26"
                    ],
                    [
                      1,
                      "#f0f921"
                    ]
                  ]
                },
                "height": 800,
                "legend": {
                  "tracegroupgap": 0
                },
                "scene": {
                  "domain": {
                    "x": [
                      0,
                      1
                    ],
                    "y": [
                      0,
                      1
                    ]
                  },
                  "xaxis": {
                    "title": {
                      "text": "0"
                    }
                  },
                  "yaxis": {
                    "title": {
                      "text": "1"
                    }
                  },
                  "zaxis": {
                    "title": {
                      "text": "2"
                    }
                  }
                },
                "template": {
                  "data": {
                    "bar": [
                      {
                        "error_x": {
                          "color": "#2a3f5f"
                        },
                        "error_y": {
                          "color": "#2a3f5f"
                        },
                        "marker": {
                          "line": {
                            "color": "#E5ECF6",
                            "width": 0.5
                          },
                          "pattern": {
                            "fillmode": "overlay",
                            "size": 10,
                            "solidity": 0.2
                          }
                        },
                        "type": "bar"
                      }
                    ],
                    "barpolar": [
                      {
                        "marker": {
                          "line": {
                            "color": "#E5ECF6",
                            "width": 0.5
                          },
                          "pattern": {
                            "fillmode": "overlay",
                            "size": 10,
                            "solidity": 0.2
                          }
                        },
                        "type": "barpolar"
                      }
                    ],
                    "carpet": [
                      {
                        "aaxis": {
                          "endlinecolor": "#2a3f5f",
                          "gridcolor": "white",
                          "linecolor": "white",
                          "minorgridcolor": "white",
                          "startlinecolor": "#2a3f5f"
                        },
                        "baxis": {
                          "endlinecolor": "#2a3f5f",
                          "gridcolor": "white",
                          "linecolor": "white",
                          "minorgridcolor": "white",
                          "startlinecolor": "#2a3f5f"
                        },
                        "type": "carpet"
                      }
                    ],
                    "choropleth": [
                      {
                        "colorbar": {
                          "outlinewidth": 0,
                          "ticks": ""
                        },
                        "type": "choropleth"
                      }
                    ],
                    "contour": [
                      {
                        "colorbar": {
                          "outlinewidth": 0,
                          "ticks": ""
                        },
                        "colorscale": [
                          [
                            0,
                            "#0d0887"
                          ],
                          [
                            0.1111111111111111,
                            "#46039f"
                          ],
                          [
                            0.2222222222222222,
                            "#7201a8"
                          ],
                          [
                            0.3333333333333333,
                            "#9c179e"
                          ],
                          [
                            0.4444444444444444,
                            "#bd3786"
                          ],
                          [
                            0.5555555555555556,
                            "#d8576b"
                          ],
                          [
                            0.6666666666666666,
                            "#ed7953"
                          ],
                          [
                            0.7777777777777778,
                            "#fb9f3a"
                          ],
                          [
                            0.8888888888888888,
                            "#fdca26"
                          ],
                          [
                            1,
                            "#f0f921"
                          ]
                        ],
                        "type": "contour"
                      }
                    ],
                    "contourcarpet": [
                      {
                        "colorbar": {
                          "outlinewidth": 0,
                          "ticks": ""
                        },
                        "type": "contourcarpet"
                      }
                    ],
                    "heatmap": [
                      {
                        "colorbar": {
                          "outlinewidth": 0,
                          "ticks": ""
                        },
                        "colorscale": [
                          [
                            0,
                            "#0d0887"
                          ],
                          [
                            0.1111111111111111,
                            "#46039f"
                          ],
                          [
                            0.2222222222222222,
                            "#7201a8"
                          ],
                          [
                            0.3333333333333333,
                            "#9c179e"
                          ],
                          [
                            0.4444444444444444,
                            "#bd3786"
                          ],
                          [
                            0.5555555555555556,
                            "#d8576b"
                          ],
                          [
                            0.6666666666666666,
                            "#ed7953"
                          ],
                          [
                            0.7777777777777778,
                            "#fb9f3a"
                          ],
                          [
                            0.8888888888888888,
                            "#fdca26"
                          ],
                          [
                            1,
                            "#f0f921"
                          ]
                        ],
                        "type": "heatmap"
                      }
                    ],
                    "heatmapgl": [
                      {
                        "colorbar": {
                          "outlinewidth": 0,
                          "ticks": ""
                        },
                        "colorscale": [
                          [
                            0,
                            "#0d0887"
                          ],
                          [
                            0.1111111111111111,
                            "#46039f"
                          ],
                          [
                            0.2222222222222222,
                            "#7201a8"
                          ],
                          [
                            0.3333333333333333,
                            "#9c179e"
                          ],
                          [
                            0.4444444444444444,
                            "#bd3786"
                          ],
                          [
                            0.5555555555555556,
                            "#d8576b"
                          ],
                          [
                            0.6666666666666666,
                            "#ed7953"
                          ],
                          [
                            0.7777777777777778,
                            "#fb9f3a"
                          ],
                          [
                            0.8888888888888888,
                            "#fdca26"
                          ],
                          [
                            1,
                            "#f0f921"
                          ]
                        ],
                        "type": "heatmapgl"
                      }
                    ],
                    "histogram": [
                      {
                        "marker": {
                          "pattern": {
                            "fillmode": "overlay",
                            "size": 10,
                            "solidity": 0.2
                          }
                        },
                        "type": "histogram"
                      }
                    ],
                    "histogram2d": [
                      {
                        "colorbar": {
                          "outlinewidth": 0,
                          "ticks": ""
                        },
                        "colorscale": [
                          [
                            0,
                            "#0d0887"
                          ],
                          [
                            0.1111111111111111,
                            "#46039f"
                          ],
                          [
                            0.2222222222222222,
                            "#7201a8"
                          ],
                          [
                            0.3333333333333333,
                            "#9c179e"
                          ],
                          [
                            0.4444444444444444,
                            "#bd3786"
                          ],
                          [
                            0.5555555555555556,
                            "#d8576b"
                          ],
                          [
                            0.6666666666666666,
                            "#ed7953"
                          ],
                          [
                            0.7777777777777778,
                            "#fb9f3a"
                          ],
                          [
                            0.8888888888888888,
                            "#fdca26"
                          ],
                          [
                            1,
                            "#f0f921"
                          ]
                        ],
                        "type": "histogram2d"
                      }
                    ],
                    "histogram2dcontour": [
                      {
                        "colorbar": {
                          "outlinewidth": 0,
                          "ticks": ""
                        },
                        "colorscale": [
                          [
                            0,
                            "#0d0887"
                          ],
                          [
                            0.1111111111111111,
                            "#46039f"
                          ],
                          [
                            0.2222222222222222,
                            "#7201a8"
                          ],
                          [
                            0.3333333333333333,
                            "#9c179e"
                          ],
                          [
                            0.4444444444444444,
                            "#bd3786"
                          ],
                          [
                            0.5555555555555556,
                            "#d8576b"
                          ],
                          [
                            0.6666666666666666,
                            "#ed7953"
                          ],
                          [
                            0.7777777777777778,
                            "#fb9f3a"
                          ],
                          [
                            0.8888888888888888,
                            "#fdca26"
                          ],
                          [
                            1,
                            "#f0f921"
                          ]
                        ],
                        "type": "histogram2dcontour"
                      }
                    ],
                    "mesh3d": [
                      {
                        "colorbar": {
                          "outlinewidth": 0,
                          "ticks": ""
                        },
                        "type": "mesh3d"
                      }
                    ],
                    "parcoords": [
                      {
                        "line": {
                          "colorbar": {
                            "outlinewidth": 0,
                            "ticks": ""
                          }
                        },
                        "type": "parcoords"
                      }
                    ],
                    "pie": [
                      {
                        "automargin": true,
                        "type": "pie"
                      }
                    ],
                    "scatter": [
                      {
                        "fillpattern": {
                          "fillmode": "overlay",
                          "size": 10,
                          "solidity": 0.2
                        },
                        "type": "scatter"
                      }
                    ],
                    "scatter3d": [
                      {
                        "line": {
                          "colorbar": {
                            "outlinewidth": 0,
                            "ticks": ""
                          }
                        },
                        "marker": {
                          "colorbar": {
                            "outlinewidth": 0,
                            "ticks": ""
                          }
                        },
                        "type": "scatter3d"
                      }
                    ],
                    "scattercarpet": [
                      {
                        "marker": {
                          "colorbar": {
                            "outlinewidth": 0,
                            "ticks": ""
                          }
                        },
                        "type": "scattercarpet"
                      }
                    ],
                    "scattergeo": [
                      {
                        "marker": {
                          "colorbar": {
                            "outlinewidth": 0,
                            "ticks": ""
                          }
                        },
                        "type": "scattergeo"
                      }
                    ],
                    "scattergl": [
                      {
                        "marker": {
                          "colorbar": {
                            "outlinewidth": 0,
                            "ticks": ""
                          }
                        },
                        "type": "scattergl"
                      }
                    ],
                    "scattermapbox": [
                      {
                        "marker": {
                          "colorbar": {
                            "outlinewidth": 0,
                            "ticks": ""
                          }
                        },
                        "type": "scattermapbox"
                      }
                    ],
                    "scatterpolar": [
                      {
                        "marker": {
                          "colorbar": {
                            "outlinewidth": 0,
                            "ticks": ""
                          }
                        },
                        "type": "scatterpolar"
                      }
                    ],
                    "scatterpolargl": [
                      {
                        "marker": {
                          "colorbar": {
                            "outlinewidth": 0,
                            "ticks": ""
                          }
                        },
                        "type": "scatterpolargl"
                      }
                    ],
                    "scatterternary": [
                      {
                        "marker": {
                          "colorbar": {
                            "outlinewidth": 0,
                            "ticks": ""
                          }
                        },
                        "type": "scatterternary"
                      }
                    ],
                    "surface": [
                      {
                        "colorbar": {
                          "outlinewidth": 0,
                          "ticks": ""
                        },
                        "colorscale": [
                          [
                            0,
                            "#0d0887"
                          ],
                          [
                            0.1111111111111111,
                            "#46039f"
                          ],
                          [
                            0.2222222222222222,
                            "#7201a8"
                          ],
                          [
                            0.3333333333333333,
                            "#9c179e"
                          ],
                          [
                            0.4444444444444444,
                            "#bd3786"
                          ],
                          [
                            0.5555555555555556,
                            "#d8576b"
                          ],
                          [
                            0.6666666666666666,
                            "#ed7953"
                          ],
                          [
                            0.7777777777777778,
                            "#fb9f3a"
                          ],
                          [
                            0.8888888888888888,
                            "#fdca26"
                          ],
                          [
                            1,
                            "#f0f921"
                          ]
                        ],
                        "type": "surface"
                      }
                    ],
                    "table": [
                      {
                        "cells": {
                          "fill": {
                            "color": "#EBF0F8"
                          },
                          "line": {
                            "color": "white"
                          }
                        },
                        "header": {
                          "fill": {
                            "color": "#C8D4E3"
                          },
                          "line": {
                            "color": "white"
                          }
                        },
                        "type": "table"
                      }
                    ]
                  },
                  "layout": {
                    "annotationdefaults": {
                      "arrowcolor": "#2a3f5f",
                      "arrowhead": 0,
                      "arrowwidth": 1
                    },
                    "autotypenumbers": "strict",
                    "coloraxis": {
                      "colorbar": {
                        "outlinewidth": 0,
                        "ticks": ""
                      }
                    },
                    "colorscale": {
                      "diverging": [
                        [
                          0,
                          "#8e0152"
                        ],
                        [
                          0.1,
                          "#c51b7d"
                        ],
                        [
                          0.2,
                          "#de77ae"
                        ],
                        [
                          0.3,
                          "#f1b6da"
                        ],
                        [
                          0.4,
                          "#fde0ef"
                        ],
                        [
                          0.5,
                          "#f7f7f7"
                        ],
                        [
                          0.6,
                          "#e6f5d0"
                        ],
                        [
                          0.7,
                          "#b8e186"
                        ],
                        [
                          0.8,
                          "#7fbc41"
                        ],
                        [
                          0.9,
                          "#4d9221"
                        ],
                        [
                          1,
                          "#276419"
                        ]
                      ],
                      "sequential": [
                        [
                          0,
                          "#0d0887"
                        ],
                        [
                          0.1111111111111111,
                          "#46039f"
                        ],
                        [
                          0.2222222222222222,
                          "#7201a8"
                        ],
                        [
                          0.3333333333333333,
                          "#9c179e"
                        ],
                        [
                          0.4444444444444444,
                          "#bd3786"
                        ],
                        [
                          0.5555555555555556,
                          "#d8576b"
                        ],
                        [
                          0.6666666666666666,
                          "#ed7953"
                        ],
                        [
                          0.7777777777777778,
                          "#fb9f3a"
                        ],
                        [
                          0.8888888888888888,
                          "#fdca26"
                        ],
                        [
                          1,
                          "#f0f921"
                        ]
                      ],
                      "sequentialminus": [
                        [
                          0,
                          "#0d0887"
                        ],
                        [
                          0.1111111111111111,
                          "#46039f"
                        ],
                        [
                          0.2222222222222222,
                          "#7201a8"
                        ],
                        [
                          0.3333333333333333,
                          "#9c179e"
                        ],
                        [
                          0.4444444444444444,
                          "#bd3786"
                        ],
                        [
                          0.5555555555555556,
                          "#d8576b"
                        ],
                        [
                          0.6666666666666666,
                          "#ed7953"
                        ],
                        [
                          0.7777777777777778,
                          "#fb9f3a"
                        ],
                        [
                          0.8888888888888888,
                          "#fdca26"
                        ],
                        [
                          1,
                          "#f0f921"
                        ]
                      ]
                    },
                    "colorway": [
                      "#636efa",
                      "#EF553B",
                      "#00cc96",
                      "#ab63fa",
                      "#FFA15A",
                      "#19d3f3",
                      "#FF6692",
                      "#B6E880",
                      "#FF97FF",
                      "#FECB52"
                    ],
                    "font": {
                      "color": "#2a3f5f"
                    },
                    "geo": {
                      "bgcolor": "white",
                      "lakecolor": "white",
                      "landcolor": "#E5ECF6",
                      "showlakes": true,
                      "showland": true,
                      "subunitcolor": "white"
                    },
                    "hoverlabel": {
                      "align": "left"
                    },
                    "hovermode": "closest",
                    "mapbox": {
                      "style": "light"
                    },
                    "paper_bgcolor": "white",
                    "plot_bgcolor": "#E5ECF6",
                    "polar": {
                      "angularaxis": {
                        "gridcolor": "white",
                        "linecolor": "white",
                        "ticks": ""
                      },
                      "bgcolor": "#E5ECF6",
                      "radialaxis": {
                        "gridcolor": "white",
                        "linecolor": "white",
                        "ticks": ""
                      }
                    },
                    "scene": {
                      "xaxis": {
                        "backgroundcolor": "#E5ECF6",
                        "gridcolor": "white",
                        "gridwidth": 2,
                        "linecolor": "white",
                        "showbackground": true,
                        "ticks": "",
                        "zerolinecolor": "white"
                      },
                      "yaxis": {
                        "backgroundcolor": "#E5ECF6",
                        "gridcolor": "white",
                        "gridwidth": 2,
                        "linecolor": "white",
                        "showbackground": true,
                        "ticks": "",
                        "zerolinecolor": "white"
                      },
                      "zaxis": {
                        "backgroundcolor": "#E5ECF6",
                        "gridcolor": "white",
                        "gridwidth": 2,
                        "linecolor": "white",
                        "showbackground": true,
                        "ticks": "",
                        "zerolinecolor": "white"
                      }
                    },
                    "shapedefaults": {
                      "line": {
                        "color": "#2a3f5f"
                      }
                    },
                    "ternary": {
                      "aaxis": {
                        "gridcolor": "white",
                        "linecolor": "white",
                        "ticks": ""
                      },
                      "baxis": {
                        "gridcolor": "white",
                        "linecolor": "white",
                        "ticks": ""
                      },
                      "bgcolor": "#E5ECF6",
                      "caxis": {
                        "gridcolor": "white",
                        "linecolor": "white",
                        "ticks": ""
                      }
                    },
                    "title": {
                      "x": 0.05
                    },
                    "xaxis": {
                      "automargin": true,
                      "gridcolor": "white",
                      "linecolor": "white",
                      "ticks": "",
                      "title": {
                        "standoff": 15
                      },
                      "zerolinecolor": "white",
                      "zerolinewidth": 2
                    },
                    "yaxis": {
                      "automargin": true,
                      "gridcolor": "white",
                      "linecolor": "white",
                      "ticks": "",
                      "title": {
                        "standoff": 15
                      },
                      "zerolinecolor": "white",
                      "zerolinewidth": 2
                    }
                  }
                },
                "title": {
                  "text": "3d TSNE Plot for Outliers"
                },
                "width": 900
              }
            },
            "text/html": [
              "<div>                            <div id=\"37a3b428-19b3-447b-a209-8d9a1d21bad2\" class=\"plotly-graph-div\" style=\"height:800px; width:900px;\"></div>            <script type=\"text/javascript\">                require([\"plotly\"], function(Plotly) {                    window.PLOTLYENV=window.PLOTLYENV || {};                                    if (document.getElementById(\"37a3b428-19b3-447b-a209-8d9a1d21bad2\")) {                    Plotly.newPlot(                        \"37a3b428-19b3-447b-a209-8d9a1d21bad2\",                        [{\"customdata\":[[0.26399535],[0.54609233],[0.33671412],[0.09210783],[0.32526118],[0.21246485],[0.25856572],[0.86923677],[0.19707796],[0.29298452],[0.8217832],[0.79662293],[0.045577012],[0.61366034],[0.95074457],[0.33634633],[0.034440666],[0.74154425],[0.18443266],[0.66451496],[0.16282485],[0.72983843],[0.62837386],[0.05788366],[0.44553483],[0.80183697],[0.27709612],[0.22863401],[0.8348607],[0.6697665],[0.5325273],[0.17045908],[0.5102885],[0.977562],[0.24977599],[0.9755007],[0.6137017],[0.16742036],[0.5374725],[0.37989914],[0.6338973],[0.6339604],[0.5499747],[0.17817299],[0.85563815],[0.3217967],[0.8174905],[0.25487942],[0.3441405],[0.8061457],[0.27708167],[0.5443285],[0.07708393],[0.27308145],[0.39087734],[0.3496214],[0.21454975],[0.20607522],[0.86462],[0.9817088],[0.33482966],[0.6483871],[0.09364356],[0.8378027],[0.76034397],[0.2914042],[0.3413454],[0.7611125],[0.5418998],[0.6841766],[0.9835356],[0.52081245],[0.32822773],[0.09715794],[0.8760886],[0.8702145],[0.656087],[0.3067915],[0.48126733],[0.25955918],[0.32612365],[0.93056804],[0.6583894],[0.6899923],[0.31578112],[0.5669051],[0.63752663],[0.6875407],[0.3243006],[0.5927049],[0.74025315],[0.5940329],[0.59645295],[0.2776808],[0.25832966],[0.14246087],[0.43553346],[0.70249903],[0.58897537],[0.6533044],[0.3369685],[0.6312447],[0.7353008],[0.050390366],[0.06426492],[0.6653595],[0.91783524],[0.4465101],[0.6619382],[0.43935984],[0.6875724],[0.36346224],[0.6542622],[0.57855356],[0.065927945],[0.55014855],[0.13918282],[0.08000463],[0.27822837],[0.5601243],[0.53639865],[0.4265319],[0.78910977],[0.7429005],[0.90169257],[0.6503374],[0.11405731],[0.26081258],[0.43991232],[0.9644093],[0.18440141],[0.34514543],[0.17589459],[0.31251445],[0.6741319],[0.32825044],[0.5982311],[0.09259882],[0.49791652],[0.41977653],[0.3121767],[0.9378571],[0.049030963],[0.47610453],[0.44739753],[0.29580605],[0.737364],[0.6258963],[0.40881342],[0.43751115],[0.69135135],[0.9355553],[0.43784666],[0.07221772],[0.67636067],[0.468884],[0.5438206],[0.65552264],[0.69352895],[0.108878314],[0.28546375],[0.0],[0.7064955],[0.27353063],[0.29232028],[0.6739843],[0.12612183],[0.9467075],[0.9363389],[0.85375535],[0.7060714],[0.6936822],[0.5085279],[0.34717038],[0.70415425],[0.6587301],[0.15584156],[0.31108543],[0.28113535],[0.0945878],[0.683261],[0.90772927],[0.29151267],[0.7527345],[0.93482965],[0.07141396],[0.5948963],[0.40467203],[0.1383762],[0.7473385],[0.5308825],[0.2826496],[0.69933575],[0.05611125],[0.855235],[0.07789513],[0.8916496],[0.3867423],[0.27113158],[0.95888895],[0.08512087],[0.52690226],[0.066577785],[0.8415067],[0.2553421],[0.060545772],[0.07338587],[0.18749373],[0.8583657],[0.09064035],[0.7097252],[0.6313006],[0.24750447],[0.8228436],[0.37347677],[0.6255386],[0.2929517],[0.29973033],[0.25121406],[0.34448054],[0.29306477],[0.7628032],[0.7384708],[0.67488325],[0.7191516],[0.13098022],[0.51132804],[0.04492903],[0.56091446],[0.74404067],[0.26696163],[0.64423186],[0.038113352],[0.0571553],[0.34139246],[0.72046363],[0.40287822],[0.63514894],[0.32072946],[0.091209695],[0.23414609],[0.8902211],[0.6021709],[0.63365203],[0.80624086],[0.7397312],[0.46523127],[0.7321109],[0.3738743],[0.5015879],[0.115383156],[0.7319466],[0.41829872],[0.062259592],[0.3914964],[0.3598493],[0.24523562],[0.6100283],[0.43540362],[0.43430966],[0.52376336],[0.17118786],[0.1877343],[0.94501466],[0.027851097],[0.68445706],[0.17801453],[0.6434279],[0.59588355],[0.3723617],[0.58610356],[0.27165884],[0.5995111],[0.46836308],[0.31451556],[0.21893726],[0.25471658],[0.25612816],[0.60225976],[0.13438107],[0.5138874],[0.62424165],[0.16025186],[0.5807081],[0.27054048],[0.83291996],[0.93032134],[0.7191579],[0.88672006],[0.09879228],[0.7871743],[0.3655924],[0.7195762],[0.8058956],[0.75557834],[0.5260059],[0.68880427],[0.2211153],[0.73936945],[0.40844023],[0.34892654],[0.43371376],[0.5964966],[0.6942953],[0.709031],[0.867653],[0.89332545],[0.7460209],[0.5382844],[0.8922193],[0.9351758],[0.2605277],[0.95678043],[0.20493248],[0.68773335],[0.32906362],[0.6321498],[0.4637445],[0.69885963],[0.38544658],[0.47997537],[0.7322791],[0.3813543],[0.459326],[0.25740144],[0.6650148],[0.103399545],[0.42528442],[0.94352907],[0.5947502],[0.5437768],[0.18203989],[0.23584208],[0.58598447],[0.7620132],[0.6849829],[0.6769369],[0.29018497],[0.48106822],[0.49276602],[0.22185624],[0.053875998],[0.08275115],[0.38536623],[0.70251393],[0.9155316],[0.082087435],[0.25128037],[0.41672182],[0.27703267],[0.5795398],[0.5693635],[0.13339971],[0.26504546],[0.9365719],[0.25261855],[0.054033082],[0.8024814],[0.5281977],[0.9515026],[0.57212114],[0.7529382],[0.14385754],[0.5134846],[0.3133224],[0.68779737],[0.37705985],[0.34822613],[0.6776328],[0.24138752],[0.8506502],[0.2203481],[0.47644547],[0.690324],[0.36469594],[0.6492492],[0.9437019],[0.529646],[0.299097],[0.96696246],[0.27200523],[0.31416145],[0.752021],[0.22188245],[0.7203327],[0.37920478],[0.60168654],[0.58293265],[0.95080984],[0.5883014],[0.8808872],[0.4678577],[0.8799022],[0.619844],[0.35900256],[0.29151127],[0.6941571],[0.72796035],[0.6177039],[0.39581257],[0.5831728],[0.7103324],[0.2537537],[0.04941223],[0.7283787],[0.4324329],[0.58612347],[0.052342374],[0.053483903],[0.5187294],[0.9330402],[0.7035543],[0.2689899],[0.73300695],[0.44435248],[0.58339465],[0.87117267],[0.42876709],[0.30046085],[0.95332944],[0.60644394],[0.9098681],[0.71489644],[0.4973495],[0.8530975],[0.72180414],[0.30346733],[0.6644851],[0.27978063],[0.5694817],[0.6286289],[0.088368125],[0.7335673],[0.5374368],[0.6385937],[0.95472693],[0.6322023],[0.64213467],[0.7446531],[0.115714006],[0.48625007],[0.44035614],[0.08272289],[0.511591],[0.39462754],[0.224394],[0.62692755],[0.29025406],[0.77900803],[0.8661058],[0.87332606],[0.49548915],[0.5942977],[0.91820157],[0.57704276],[0.01946767],[0.6702983],[0.54659534],[0.59166515],[0.4215582],[0.68560857],[0.34030303],[0.67562675],[0.31906736],[0.38849968],[0.7069496],[0.5594095],[0.6876635],[0.70880455],[0.6818881],[0.42253512],[0.3200046],[0.6582814],[0.63415486],[0.777332],[0.8126772],[0.0742808],[0.39600217],[0.054933913],[0.82505894],[0.382642],[0.8687298],[0.58804333],[0.89155155],[0.10920046],[0.6476828],[0.7243425],[0.07016304],[0.28088206],[0.03911326],[0.5796416],[0.6390009],[0.2817459],[0.6478577],[0.6479058],[0.87522626],[0.5676033],[0.2629406],[0.26802605],[0.40519133],[0.47996545],[0.33552402],[0.77716535],[0.42548797],[0.23798612],[0.14252298],[0.72417647],[0.23469894],[0.07818228],[0.8559902],[0.27025175],[0.43551785],[0.7626975],[0.46448725],[0.39611268],[0.37638092],[0.29459468],[0.6944921],[0.6227679],[0.84755975],[0.30146307],[0.9129378],[0.50001717],[0.90258795],[0.30451795],[0.29916567],[0.09201409],[0.4885489],[0.66466445],[0.26534954],[0.723657],[0.14926238],[0.04577339],[0.6966106],[0.42181486],[0.7338458],[0.41879538],[0.6774435],[0.2612836],[0.26852778],[0.54432225],[0.43163204],[0.9810181],[0.21498072],[0.39473],[0.12222494],[0.29749689],[0.37490442],[0.6869877],[0.3885492],[0.039296072],[0.73553425],[0.3792949],[0.7321234],[0.33922145],[0.6594506],[0.054838642],[0.6401121],[0.3071417],[0.3966119],[0.42043915],[0.24171497],[0.06589315],[0.9105219],[0.6971631],[0.072559856],[0.81825095],[0.3118888],[0.9616446],[0.81632555],[0.14647302],[0.5487539],[0.9461581],[0.29399273],[0.33147964],[0.90622],[0.5255404],[0.83301413],[0.5148498],[0.57460904],[0.46871185],[0.71002775],[0.64597327],[0.22979441],[0.5517834],[0.05582299],[0.33175093],[0.7155202],[0.58392435],[0.3069577],[0.7914782],[0.16423663],[0.06571122],[0.94899315],[0.08042383],[0.052495427],[0.5663461],[0.3630266],[0.60544217],[0.6308506],[0.065791234],[0.28681707],[0.68546283],[0.2608537],[0.6591224],[0.44317392],[0.602064],[0.06036691],[0.78190315],[0.51457983],[0.4838862],[0.6002138],[0.49736404],[0.41114524],[0.11699917],[0.34189013],[0.74695086],[0.39629275],[0.62214386],[0.33527115],[0.14025714],[0.08162068],[0.06983757],[0.46894002],[0.9908574],[0.8966168],[0.25531057],[0.22464527],[0.01991825],[0.29648042],[0.155459],[0.57791674],[0.95630306],[0.8134644],[0.5296758],[0.28767136],[0.48039135],[0.2810448],[0.63319653],[0.09332538],[0.284474],[0.052223776],[0.051129386],[0.9674056],[0.040045727],[0.9085829],[0.6621174],[0.4247032],[0.7220781],[0.6661933],[0.5096812],[0.7513536],[0.27907312],[0.074927],[0.91635954],[0.31040326],[0.71660405],[0.4855871],[0.3060752],[0.4775582],[0.71192396],[0.066348635],[0.27453935],[0.31082252],[0.47607312],[0.18679556],[0.26654208],[0.07023114],[0.26951927],[0.8000047],[0.27363366],[0.14647919],[0.37831897],[0.37384906],[0.24217084],[0.2497965],[0.06659119],[0.3729568],[0.5018123],[0.31309775],[0.8802022],[0.5198189],[0.36413875],[0.4926829],[0.28573266],[0.89011496],[0.31641957],[0.26866353],[0.77197593],[0.968889],[0.08033438],[0.7368282],[0.30055806],[0.9179504],[0.46581504],[0.05403668],[0.96315014],[0.0896535],[0.7076932],[0.636416],[0.5395211],[0.11475716],[0.3573124],[0.67639834],[0.4348284],[0.032326385],[0.7113656],[0.18748651],[0.052789655],[0.5058636],[0.9274319],[0.68098426],[0.8828222],[0.49570546],[0.5962404],[0.3206107],[0.3413685],[0.1596818],[0.31813368],[0.83930105],[0.06435925],[0.47021663],[0.77625227],[0.6358434],[0.62510544],[0.52959067],[0.98690015],[0.078585684],[0.23328426],[0.36333096],[0.716717],[0.37588978],[0.2233169],[0.29934397],[0.5385958],[0.73029715],[0.6603308],[0.435296],[0.3264943],[0.8544027],[0.57349384],[0.75778615],[0.7047432],[0.2815756],[0.6719682],[0.313726],[0.36433828],[0.3682164],[0.3862952],[0.6559719],[0.56602526],[0.4249991],[0.09011037],[0.77235055],[0.33104727],[0.27371618],[0.23877569],[0.37307978],[0.33118588],[0.25613454],[0.6783732],[0.43463835],[0.65466833],[0.98668104],[0.3715205],[0.40835962],[0.40932366],[0.28341207],[0.39524654],[0.010984428],[0.30601388],[0.26619482],[0.29931852],[0.31829396],[0.7428259],[0.09766433],[0.07966694],[0.6132588],[0.9944307],[0.5688351],[0.7080345],[0.3705927],[0.66986734],[0.6512956],[0.46253157],[0.7196256],[0.4537725],[0.39486393],[0.32397482],[0.14645472],[0.77906704],[0.4018289],[0.6014796],[0.856423],[0.56524295],[0.3012251],[0.28210816],[0.594378],[0.7053124],[0.54086965],[0.31924957],[0.36176613],[0.6250007],[0.3162874],[0.04723902],[0.8011822],[0.5084744],[0.8178934],[0.3992356],[0.974052],[0.7224153],[0.039564762],[0.90868413],[0.47301012],[0.71804965],[0.76347905],[0.64759654],[0.89499736],[0.2228259],[0.35901225],[0.9449102],[0.29787782],[0.172518],[0.55658627],[0.8764817],[0.48667786],[0.45949674],[0.47412637],[0.7010114],[0.3375974],[0.5375789],[0.96699244],[0.056849547],[0.23324907],[0.3800547],[0.6029294],[0.303848],[0.17019455],[0.97216856],[0.33216894],[0.6887287],[0.1107734],[0.27335206],[0.5729397],[0.49145707],[0.28139],[0.82169724],[0.67497766],[0.58513457],[0.71059614],[0.04048879],[0.5680543],[0.32175294],[0.61185026],[0.9260969],[0.6183474],[0.6676298],[0.39773348],[0.2908755],[0.5943751],[0.50825524],[0.33857137],[0.43230236],[0.30222198],[0.8761982],[0.080204494],[0.09233353],[0.09365645],[0.6084524],[0.7326546],[0.94415885],[0.2674231],[0.7311242],[0.6613085],[0.38776627],[0.9625853],[0.32206705],[0.63408107],[0.47534502],[0.353559],[0.8859363],[0.8767981],[0.22158106],[0.39436245],[0.80503565],[0.45289847],[0.59252053],[0.7610264],[0.24504903],[0.37213936],[0.68105483],[0.74714315],[0.92073953],[0.09720795],[0.699303],[0.721647],[0.5353561],[0.7382938],[0.70646757],[0.6739506],[0.7112123],[0.30255872],[0.080097854],[0.70701087],[0.51224864],[0.6596275],[0.6575597],[0.10064561],[0.9266536],[0.89287937],[0.8391575],[0.89095974],[0.55675447],[0.96036196],[0.6310379],[0.029838065],[0.27884334],[0.9261577],[0.55150425],[0.48594236],[0.4372347],[0.25231802],[0.515467],[0.43725228],[0.4937242],[0.83324724],[0.31752148],[0.28623456],[0.72683394],[0.49566704],[0.028645255],[0.31967193],[0.6743446],[0.76603717],[0.6545699],[0.7565144],[0.52825373],[0.3897195],[0.35508746],[0.870152],[0.7390833],[0.30576184],[0.4115877],[0.06363309],[0.7354094],[0.6059167],[0.5393956],[0.5661835],[0.6747952],[0.070993364],[0.1252641],[0.27960148],[0.9521744],[0.23380676],[0.43724743],[0.9254231],[0.43349862],[0.525179],[0.08843553],[0.44767764],[0.6470006],[0.9036033],[0.26579073],[0.66419697],[0.49812067],[0.49018896],[0.7470842],[0.90678364],[0.6787709],[0.34859985],[0.29483968],[0.7056918],[0.21191794],[0.06320112],[0.27669954],[0.6724594],[0.80820596],[0.29653838],[0.16012686],[0.43938503],[0.5559514],[0.38624012],[0.15868962],[0.21449986],[0.29957944],[0.56916165],[0.4886148],[0.878295],[0.6493809],[0.46571335],[0.16813774],[0.87529546],[0.84113234],[0.33292082],[0.5130479],[0.30505508],[0.812627],[0.25096706],[0.50243556],[0.45799074]],\"hovertemplate\":\"0=%{x}<br>1=%{y}<br>2=%{z}<br>Feature=%{customdata[0]}<br>Anomaly=%{marker.color}<extra></extra>\",\"legendgroup\":\"\",\"marker\":{\"color\":[0,0,1,1,0,0,0,1,1,0,0,1,0,1,1,0,0,0,1,0,1,0,0,1,1,1,0,0,1,1,0,0,0,1,1,0,0,0,0,0,1,0,0,1,0,0,0,0,0,0,0,1,0,1,0,1,0,0,0,1,0,0,1,1,0,0,1,0,0,1,0,0,0,0,0,0,0,0,0,0,0,0,0,0,0,0,0,0,0,0,0,0,0,0,0,0,0,0,0,0,0,0,0,0,0,0,0,0,0,0,0,0,0,0,0,0,0,0,0,0,0,0,0,0,0,0,0,0,0,0,1,0,0,0,0,0,0,0,0,0,0,0,0,0,0,0,0,0,0,0,0,0,0,0,0,0,0,0,0,0,0,0,0,0,0,0,0,0,0,0,0,0,0,0,0,0,0,0,0,0,0,0,0,0,0,0,0,0,0,0,0,0,0,0,0,0,0,0,1,0,0,0,0,0,0,0,0,0,0,0,0,0,0,0,0,0,0,0,0,0,0,0,0,0,0,0,0,0,0,0,0,0,0,0,0,0,0,0,0,0,0,0,0,0,0,0,0,0,0,0,0,0,0,0,0,0,0,0,0,0,0,0,0,0,0,0,0,0,0,0,0,0,0,0,0,0,0,0,0,0,0,0,0,0,0,0,0,0,0,0,0,0,0,0,0,0,0,0,0,0,0,0,0,0,0,0,0,0,0,0,0,0,0,0,0,0,0,0,0,0,0,0,0,0,0,0,0,0,0,0,0,0,0,0,0,0,0,0,0,0,0,0,0,0,0,0,0,0,0,0,0,0,0,0,0,0,0,0,0,0,0,0,0,0,0,0,0,0,0,0,0,0,0,0,0,0,0,0,0,0,0,0,0,0,0,0,0,0,0,0,0,0,0,0,0,0,0,0,0,0,0,0,0,0,0,0,0,0,0,0,0,0,0,0,0,0,0,0,0,0,0,0,0,0,0,0,0,0,0,0,0,0,0,0,0,0,0,0,0,0,0,0,0,0,0,0,0,0,0,0,0,0,0,0,0,0,0,0,0,0,0,0,0,0,0,0,0,0,0,0,0,0,0,0,0,0,0,0,0,0,0,0,0,0,0,0,0,0,0,0,0,0,0,0,0,0,0,0,0,0,0,0,0,0,0,0,0,0,0,0,0,0,0,0,0,0,0,0,0,0,0,0,0,0,0,0,0,0,0,0,0,0,0,0,0,0,0,0,0,0,0,0,0,0,0,1,0,0,0,0,0,0,0,0,0,0,0,0,0,0,0,0,0,0,0,0,0,0,0,0,0,0,0,0,0,0,0,1,0,0,0,0,0,0,0,0,0,0,0,0,0,0,0,0,0,0,0,0,0,0,0,0,1,0,0,0,0,0,0,0,0,0,0,0,0,0,0,0,0,0,0,0,0,0,0,0,0,0,0,0,0,0,0,0,0,0,0,0,0,0,0,0,0,0,0,0,0,0,0,0,0,0,0,0,0,0,0,0,0,0,0,0,0,0,0,0,0,0,0,0,0,0,0,0,0,0,0,0,0,0,1,0,0,0,0,0,0,0,0,0,0,0,0,0,0,0,0,0,0,0,1,1,0,1,0,0,0,1,1,0,0,0,0,1,0,0,1,1,1,0,1,0,1,1,1,0,0,0,1,0,0,0,0,0,0,0,0,0,0,0,0,0,0,1,0,0,0,0,0,0,0,0,0,0,0,0,0,0,0,0,0,0,0,0,0,0,0,0,0,0,0,0,0,0,0,0,0,0,0,0,0,0,0,0,0,0,0,0,0,0,0,0,0,0,0,0,0,0,0,0,0,0,0,0,0,0,0,0,0,0,0,0,0,0,0,0,0,0,0,0,0,0,0,0,0,0,0,0,0,0,0,0,0,0,0,0,0,0,0,0,0,0,0,0,0,0,0,0,0,0,0,0,0,0,0,0,1,0,0,0,0,0,0,0,0,0,0,0,0,0,0,0,0,0,0,0,0,0,0,0,0,0,0,0,0,0,0,0,0,0,0,0,0,0,0,0,0,0,0,0,0,0,0,0,0,0,0,0,0,0,0,0,0,0,0,0,0,0,0,0,0,1,0,0,0,0,0,0,0,0,0,0,0,0,0,0,0,0,0,0,0,1,0,0,0,0,0,0,0,0,0,0,0,0,0,0,0,0,0,0,0,0,0,0,0,0,0,0,0,0,0,0,0,0,0,0,0,0,0,0,0,0,0,0,0,0,0,0,0,0,0,0,0,0,0,0,0,0,0,0],\"coloraxis\":\"coloraxis\",\"opacity\":0.7,\"symbol\":\"circle\"},\"mode\":\"markers\",\"name\":\"\",\"scene\":\"scene\",\"showlegend\":false,\"x\":[7.8080754,-8.16249,10.574644,-8.708487,7.9193835,10.755972,14.795123,-1.9302782,-13.338951,13.869382,-1.2207541,-9.251577,-6.4905806,1.0053929,-6.554966,7.334705,-6.180611,5.501641,-11.322866,3.1549883,-10.186909,2.9293506,0.4109568,-13.329974,-2.901203,-8.352446,8.196534,9.935695,-6.364865,-1.888958,-8.485691,-11.895415,-4.575576,-5.2549295,11.520588,-8.697337,3.8798013,-9.434129,-4.4168706,9.971804,9.731096,1.9746083,-4.025524,-14.528789,-5.254542,7.3875895,-5.018877,9.098619,7.713219,-6.5480366,9.764994,-4.1478615,-12.565694,7.3410463,11.981934,13.029455,14.216431,13.619026,-4.81858,-8.293309,13.69018,4.258544,-6.614805,-3.395674,7.9204483,7.609332,13.215835,5.8369093,-0.8935866,1.1336284,-4.8688073,-1.072261,7.637743,-6.7601733,-10.453426,-9.555241,-3.823795,8.100856,-3.4992948,6.9574146,6.6039195,-9.514747,-2.0570738,4.7556524,13.708504,-8.49563,8.229241,8.238222,12.371277,-5.3964715,3.280814,-0.76653,6.587794,13.586614,13.796309,-7.0774918,-6.472322,6.7957067,-8.459216,-3.1755314,7.5930185,8.617998,7.2212777,-11.157941,-6.423962,5.8628325,-6.994745,-5.6044197,3.7500427,-1.1913269,4.381618,6.8807554,0.21787815,-6.591835,-8.939066,-4.8058333,-8.914279,-10.020238,11.2204685,-7.801993,-4.678439,-2.5667584,6.182861,8.338939,-8.269351,7.296386,-10.963371,9.865866,-7.0907035,-6.523341,-12.68835,10.398265,-5.705864,15.097228,9.0038395,6.536295,-1.9203495,-6.2845545,-7.2444983,-7.1754894,9.88334,-8.321228,-11.092955,-1.7112176,-7.896057,7.743548,1.1571865,7.8967705,-7.5737176,-6.804319,4.3811502,-10.059134,-4.0134163,-11.186057,3.067474,-6.471047,-3.408298,9.126523,3.4498413,-7.806703,14.480968,-11.576279,5.0482545,6.279387,10.681556,9.446145,-6.4384,-5.0177383,-7.2184043,-8.947546,5.7730775,7.3522367,-2.4916975,9.745961,4.1867747,8.358902,-8.575233,10.400498,14.49519,-7.137515,5.6383576,-3.5782437,15.665356,0.23553698,-4.792604,-9.136895,-2.1139195,11.994457,-13.669016,3.5750747,-4.0013876,8.005985,1.5893681,-9.2496395,-7.836213,-9.455128,-5.579498,15.620427,8.170054,-7.7230916,-13.286086,-7.0825057,-10.930155,-7.122807,10.288465,-11.572367,-13.710436,-13.072009,-3.2295878,-11.805698,4.2178464,-1.0193954,7.534711,-8.687033,11.250638,5.415438,13.781357,7.889793,6.68284,11.1218815,9.88498,6.0128837,-2.9303102,4.346958,9.061728,-13.097058,-4.168744,-14.366564,-4.7104664,-0.992814,14.738017,6.786882,-7.008843,-6.506819,12.188242,5.458335,12.351456,3.1847136,9.672058,-9.409932,11.916755,-4.738709,-1.9532552,7.8934946,-3.0808513,8.9602,-7.213327,5.20785,12.150686,-2.7508214,-11.935457,5.081259,-1.3860842,-11.48619,8.982418,8.810215,6.0051837,7.8107734,-0.4664632,-8.033144,-2.7878168,-12.110234,-8.797251,-6.74491,-10.9419565,7.5688076,-5.9632993,8.4670925,3.597578,16.443104,-5.1307163,15.418618,2.3232281,-2.968223,11.527084,13.252241,7.471659,7.995444,5.619156,-13.568012,-4.1697893,-1.4730922,-14.075162,-6.5585346,9.183246,-5.3971453,-6.3725944,6.2954926,-7.353809,-14.597721,4.259375,14.470362,5.5093813,-5.141408,4.905221,-0.38787723,1.2506802,6.7137256,5.2792754,-6.8304,15.105807,-7.8165207,-0.6851127,1.9245453,0.5940115,-10.266136,-5.1986537,4.364357,-3.3021262,-4.772028,-4.496421,13.67815,-4.0496035,10.618408,7.2004004,6.7504606,3.7659204,-7.8875775,4.3212924,14.308896,-8.510749,1.9233129,8.688334,-7.179206,7.9854484,2.372106,-6.8103175,-0.26192215,-5.975321,-2.4656572,-7.2329683,-7.6338706,13.401916,-6.33892,8.052346,-3.2505343,6.8010564,7.0187516,-0.9398553,-0.29650554,6.585211,-14.042766,-7.569021,11.7727,2.30308,-6.566438,-10.868103,14.258773,-1.0979136,7.4882684,-8.456667,-8.0538025,-12.879219,14.995688,-6.2815495,6.379267,-11.819046,-7.4416866,-0.15714148,-8.1849375,-8.51345,6.060783,-13.825836,-3.849234,9.333985,5.353977,6.4705253,12.812402,7.8956304,14.846837,-5.4292164,11.866552,-0.86004627,-2.3881452,8.68557,7.442868,-10.096609,-2.1923835,14.459437,-8.96385,10.215673,10.925927,2.9638333,7.024292,7.2383432,11.023252,5.157807,-6.455504,-7.12784,-4.435131,-5.8423147,-6.681747,-10.298941,3.2913191,12.925453,15.203183,5.8591394,1.8195244,2.537312,6.7514386,-7.7948833,7.156456,13.601034,-11.596854,1.5266714,-7.291646,-2.1284745,-13.516867,-7.311407,-4.503802,-6.604307,2.897324,6.1477838,4.965983,-5.1255546,-4.2206306,-5.604208,-7.951966,8.962586,-6.44148,4.1830087,-5.8728023,5.7460356,-8.617005,-7.151679,9.034666,14.432184,0.78520364,7.7724156,-0.76909244,4.087546,-9.011741,4.46617,-2.0566075,-0.37674987,-6.492923,6.711814,-3.4691274,4.111808,-9.648796,-6.09283,-3.5101826,-9.481536,-0.18902692,11.758916,11.292743,-0.009373029,11.969561,-0.86617905,-3.2270794,-5.4185295,-1.9149039,-3.5606725,-9.957462,-0.8824856,-10.844734,4.0063257,-2.3214483,-3.7017653,-4.1097546,7.1622143,9.663036,7.38564,5.96952,9.427335,3.39908,-6.320833,0.6109898,9.288559,-2.7221081,-4.502277,10.6369,8.47644,1.7950794,7.3231816,-7.7236867,-10.038621,10.319048,-14.8110075,-7.188269,13.109032,-5.363196,-2.2830734,-7.8856573,-8.977516,-3.3866367,6.9851875,-15.076039,6.4159274,-9.153567,-3.9622986,0.8105833,10.830704,-0.5799716,-2.1599479,-2.7241125,-4.636165,11.175993,12.016007,-5.1346216,-7.057061,9.582809,2.9626245,-2.347008,8.05573,-9.181127,3.7796767,14.044356,-14.568207,-3.9494731,8.151198,-4.184957,5.413963,-0.39573348,6.3341527,11.048425,11.610353,3.920318,4.745674,-5.0814366,7.3538756,-6.211381,-0.84575367,-5.9410086,6.7154946,12.885648,-15.2354,-7.8910356,4.1362867,6.253523,7.1582613,-7.64499,-6.7990627,6.771702,-1.2782263,-0.7479011,-4.7028484,-2.5211973,9.380013,16.19835,-8.230388,-2.4296412,-6.111615,13.925637,14.447627,-5.792068,8.42289,10.083451,0.7594789,7.6361465,-11.712054,0.93314934,8.8737335,3.4309957,12.867957,8.035217,-7.2253904,2.7905428,7.724728,8.806195,-0.23228066,6.4344993,-10.464413,-2.5234718,6.142035,-14.076413,-6.1132708,9.820829,-2.3646193,-2.3311412,-15.125788,-1.2981545,-2.7329044,7.215221,15.478022,-4.8410397,-8.112369,-7.2119474,-6.817357,-4.490848,-4.6594944,5.588067,-2.682086,13.741921,-3.4091647,-14.009508,6.215018,6.7967453,-6.987844,6.542748,-5.024412,-9.687599,-13.840449,-2.8241062,-12.959044,-11.032322,-0.67186666,7.4069686,0.41928694,-3.6374187,-7.2016807,10.87764,-2.4551632,14.167995,0.9736908,-7.1932955,1.6163439,-7.3952265,5.779548,-8.3141365,-1.05933,3.8707697,-4.010778,-7.648774,-14.952293,12.702276,5.762194,12.682803,3.5455186,6.145045,-13.95503,-11.76669,-11.129163,-8.545363,-6.1399665,-2.7024763,14.192486,9.087832,-12.473084,6.256433,-12.967948,-4.963967,-9.88859,-6.5143504,-5.3504133,9.257657,-5.2644734,10.273883,1.1051288,-12.744064,10.387431,-11.567236,-9.48559,-8.677761,-8.135434,-9.214203,-2.6108077,-7.2976956,-0.17084262,1.8857169,-4.166559,8.196517,11.315217,-6.2562156,-6.2284775,13.976322,-2.9785235,-6.746819,11.495076,-0.95643395,-0.04605606,-11.649336,9.511193,7.1255713,-1.966852,-12.104049,8.447183,-10.887135,15.594024,-5.9026346,11.742724,-14.088978,11.632023,11.5766,11.401536,11.072711,-12.032978,11.206371,-1.5938662,15.118666,-6.9482965,-4.11382,6.7053013,-2.4769976,14.019823,-6.2842236,8.377628,13.950196,1.3521266,-4.890768,-8.604906,-0.57074624,6.1275206,-6.6847677,-0.18467452,-6.8571343,-9.016216,-13.214145,3.7767744,-1.938987,-1.6087799,-11.864959,8.926818,4.0211506,-7.406142,-9.422226,1.9037961,-10.184403,-14.762973,-2.544981,-5.17695,8.898753,-9.133312,-3.5110009,4.251484,15.19487,10.571063,-7.8823347,12.7603035,-6.280075,-11.320661,-6.8465924,7.6072626,2.5140572,3.3187149,-4.51929,-3.7887971,-6.9892654,8.59755,10.24131,4.515715,8.055236,11.570877,12.0318575,-4.249416,1.503974,4.3132796,-4.0772023,6.625605,-4.3440495,-6.8301597,1.54673,1.169575,10.635799,2.7310297,6.6306133,8.167777,11.043685,9.745981,0.07936807,-8.153852,-1.0458684,-9.781821,8.028448,12.335126,10.057377,7.1093717,12.439664,8.514837,14.153084,-0.22699131,-2.2183914,6.429549,-6.804859,7.1322107,-7.004258,-7.27865,8.003937,14.111926,-9.117053,7.0250425,8.052194,8.680653,14.676101,1.6795148,-9.303255,-12.61576,5.5597196,-10.132957,-6.5118604,3.8775866,13.88843,7.3238072,4.4508247,-3.2605028,-0.17493646,-2.2738593,11.375425,6.7211785,-13.192607,1.5898349,6.958939,-0.7964327,-10.640395,-7.540783,16.108929,11.872514,-2.4005718,4.5423875,-3.2755668,11.807652,10.336494,4.3905954,14.524724,-9.361771,-6.040162,-2.8939116,-7.2140174,9.8602915,-5.736617,-3.3356924,-8.218197,-10.439869,-4.7584734,7.7218423,-0.7885603,6.404819,-3.0466883,10.829449,9.8588915,-2.4369032,10.542151,-13.809775,-7.9322524,-5.247663,-7.1820765,-0.4181077,-4.466116,2.9329262,7.5670977,-6.9533386,-9.047602,-7.2031426,10.747027,9.681047,0.86640686,7.896065,-9.22426,-2.5831387,11.510931,4.416621,-11.377491,9.695914,-5.5956388,-7.963787,11.250733,-4.5627637,4.799092,-5.114046,3.3193316,-7.2157965,-3.784252,11.743477,4.437632,-7.4961114,5.4800572,4.7810316,11.09518,7.4144073,-0.72009665,-4.7259765,7.758892,-4.945017,8.350398,-5.0539145,-6.4413047,-9.703279,-13.178418,1.1482593,3.7185261,-2.5822675,10.615618,8.162085,5.242802,14.413152,-6.689663,12.487374,6.9802303,-6.5751686,10.883362,-8.262356,-8.946784,6.8497806,8.078631,-3.020642,-0.6040742,-6.468712,5.729243,6.6043863,11.074691,-2.9076047,-0.9775861,-6.7181754,-14.439579,-0.74057126,2.8887746,-7.4810057,8.516838,4.1544633,4.899028,6.001785,12.284019,-9.831654,1.0503147,-3.5269523,-2.0188975,1.1782821,-12.064638,-6.5360765,-9.666375,-5.3157005,-6.481667,-4.3103256,-10.280668,-0.7339007,-8.263395,8.531684,-5.4412518,-0.21057698,-0.9216073,-4.1596375,9.768638,-8.299238,-6.687013,-4.333013,-8.419701,15.090348,7.981858,5.553617,-4.578169,-8.199029,10.81825,8.040791,0.52076787,1.8539029,-3.6038523,-6.4421244,10.785822,14.352495,-2.075537,-3.3163931,11.913564,-3.7183158,-7.1140604,4.895957,-1.8305982,-3.8778174,-6.309002,5.738923,-9.982596,-14.748553,10.347224,-3.0321877,8.869959,-6.4334154,-5.761137,-0.39843854,-1.1792244,-8.40074,-2.3086455,9.0604315,-6.1085725,10.571251,4.391175,-6.8980126,-4.300124,5.911028,-10.577468,-1.6395575,12.797407,7.111289,5.911704,6.841922,-8.515828,7.416895,9.270042,-7.3543844,7.648634,-13.310606,-2.3232102,-1.2219604,7.4751515,-13.614782,13.213727,7.415556,-2.2966475,-2.4382646,-2.8003023,1.0490582,-0.612251,-7.7466087,-10.686264,-9.041812,10.752936,-0.442704,7.4888153,-7.954296,6.9943566,-1.9384302,-0.3874723],\"y\":[-0.7195036,-13.761105,-1.5757904,2.8694236,-3.7040188,2.4751143,-5.14229,-1.7045045,4.190738,-5.967212,-1.786555,-2.1515396,3.0166738,12.22769,-4.045666,0.3489602,2.8432064,13.053199,3.619171,10.29673,4.254343,14.051987,11.9257765,4.27722,-7.2711835,-7.201557,-0.92457074,-3.3629663,-0.28470427,8.319559,-10.934867,3.61508,-10.483588,-3.5607746,-3.4130938,-7.27341,10.434801,6.2721925,-10.028733,2.4350278,12.899396,9.993668,-14.032133,4.010625,-2.7188485,0.62185514,-3.449648,-0.71517414,-0.7923326,-7.058664,2.5284998,-10.829327,7.230139,0.4707507,2.1496387,-4.058819,-4.6425576,-1.5238107,-2.8654544,-2.8170288,-2.426111,12.060141,5.336232,-2.9036045,11.433403,-0.83947086,-6.2583175,12.718543,-7.623182,12.6017,-0.085140646,-3.9353118,-3.5574248,2.7118175,-4.645109,-5.9767976,10.8169985,1.3336245,-11.716172,-6.547852,-6.2877426,-5.4234605,10.591266,13.77956,-3.3854594,-11.815828,13.607961,12.688045,-1.2457013,-10.484835,12.990984,-6.1661882,13.747891,-4.956484,-3.6405807,4.7954855,-14.9169655,16.836575,-13.186007,10.74828,-2.7109773,11.865523,16.26845,7.9042025,3.9429677,11.497527,-6.56141,-12.27374,11.66466,-4.1789656,14.839751,-3.5587032,10.898055,-11.885451,4.6267014,-12.6427355,5.0168834,6.4453115,2.6398818,-13.40472,-12.966656,-12.249845,17.23968,11.739179,-7.445048,16.655958,4.0753427,3.2382514,-13.033032,-9.09494,3.9363275,-4.170287,3.6374402,-3.664163,12.324217,-2.1614125,11.427139,4.163779,-12.204985,-10.900719,1.9578115,-6.3566074,7.5417504,-7.2511687,-14.197057,-5.4105024,10.853199,11.402302,-12.762154,-12.05018,15.168165,-5.191015,-11.994268,8.059953,13.745893,-15.125748,-14.549635,12.318094,11.326845,2.0917015,-6.0176864,5.634084,12.189229,-6.671916,2.7390428,12.103915,3.2968664,-1.2513224,-2.3894348,-6.9901743,11.8069515,17.081963,-6.262045,-2.127379,16.414886,11.948861,2.8927472,-2.3136983,-1.5325019,4.4855103,16.184916,-1.5198766,-2.6265335,8.556836,-0.74121094,5.3033404,10.490885,-2.4706583,9.30966,13.409703,-15.742534,-2.6791968,10.949937,4.4681015,-8.976617,5.204786,-7.062032,-1.4376464,-3.0060523,-7.300329,4.673866,-11.413015,5.1833067,-1.3825313,-1.6272486,3.4849787,8.232255,4.4024644,-1.9233294,4.8769083,15.604748,10.71315,1.2437925,-5.007054,-1.2705001,15.819519,-1.8617309,1.614035,1.5405527,-0.4661281,-1.3372926,15.39543,10.654274,11.351264,13.974374,8.431335,-14.469934,8.872478,-15.521468,10.514657,-4.8988986,13.444232,4.0302253,4.185973,-4.016647,15.556787,-1.6820004,13.808103,3.2951462,3.303661,-1.1373069,-8.351103,12.549892,13.542163,-1.773253,13.447635,-12.532951,10.833196,-6.3744526,-7.2638993,7.153596,17.410814,-3.659274,5.740207,-5.0320373,-0.8220498,-1.5143036,12.725288,-8.255294,-14.038486,-6.562386,6.030199,5.005709,-7.3166294,7.2677803,13.911297,4.4658933,14.768174,11.501322,-1.3654922,-11.886054,-3.8501532,14.398711,-6.363234,2.3874,-4.8050838,0.10536686,-2.6649199,16.143187,9.298257,-14.68304,12.496366,9.520186,-10.822475,-2.3895369,-8.750683,-5.660509,15.5138855,-8.889021,7.1355453,15.253531,-2.3861861,11.948615,-8.465346,13.687201,-6.393284,11.296664,-6.2974005,13.729095,-9.907151,-2.0428088,-15.068723,8.720188,10.0831375,11.412081,-3.8865013,-8.091913,12.48203,-15.953651,-0.66693026,-1.015309,-6.880066,-1.0652329,-2.9225953,14.766625,-2.0070288,13.688706,-13.992829,11.509362,-3.4848042,-11.95476,12.9558735,3.619713,-11.339173,-5.4257703,13.611571,4.874804,-5.2167134,-2.062551,-4.675346,-14.960901,4.624627,-3.8843381,-14.442739,12.642284,11.115994,16.345297,-2.0426693,-5.1541457,-7.3921914,-1.8426375,9.862489,2.6209087,-5.319219,9.682245,-1.730061,5.4802713,-7.071816,-4.988746,0.73198396,-11.484241,-10.884884,8.630638,-3.5953367,-5.620986,-5.171656,6.5353413,-8.545161,-7.8360744,-7.077203,-12.6650715,16.412947,6.5970325,-15.679712,3.3282728,11.999135,0.91686475,-4.9355526,12.835825,-1.8440397,-5.204542,-1.1910307,-7.4263425,11.629925,3.5136771,11.347587,-4.4263067,-4.361447,-3.8716552,-6.0394754,2.1386323,-1.4543133,12.356117,-4.2171493,16.791842,-4.0956173,11.846493,-12.576355,-7.987315,-9.928056,-6.125304,-14.840485,-5.49291,13.283024,-3.8743546,-3.6613562,11.315402,10.226552,13.38313,-6.050042,-13.062051,14.371971,-6.788444,3.4492278,8.873815,-14.756177,-6.999079,5.357949,1.4786344,-13.469616,-8.983681,14.837317,2.489134,11.899205,-12.954737,-13.755214,-8.020467,-13.07315,3.2963653,-1.6727376,14.1283245,-7.0610614,15.377155,-12.4886055,-2.4567058,12.727257,-4.7294817,11.555389,-2.6935618,-7.341119,14.218485,5.9970703,13.4341,-3.8630702,10.064064,-6.802642,12.555478,10.837015,11.73896,3.9362104,-13.095246,-12.2123785,4.2572994,-7.696756,-2.2569711,1.1358407,8.91616,-4.975716,11.736426,-2.4580574,-5.802149,-6.959219,-14.812391,-3.7784927,-6.925349,4.3729362,16.12208,-6.9509254,-11.897263,-11.525736,17.03845,-2.5178666,13.392981,-5.241392,-1.1786718,13.098179,-12.168669,8.917183,12.156479,11.91891,-13.202757,-5.5924287,13.62276,13.302751,11.125077,-8.9606905,4.933926,1.3233546,7.1678033,-9.040993,-6.8734035,-6.2185526,-4.110376,-1.7361547,5.259687,9.949547,16.79903,7.643403,-1.7167829,3.069743,-13.229097,11.423481,0.4360797,8.992988,12.478741,-0.83222795,-13.276374,1.40937,-4.261151,-10.701045,-12.343844,-2.9881935,13.794245,-12.55993,-2.4692628,3.3040423,10.725557,-6.5748935,7.7418914,-1.3421069,-2.86008,-15.126121,17.331793,-6.7430415,-6.216492,-5.7969136,-4.64267,10.496554,17.538336,-8.3290825,-4.2472305,-1.1682495,-7.5810256,-2.0048416,1.6249806,-5.6059394,8.2459955,-15.296592,16.807938,-2.4976485,16.230947,5.075152,2.1345716,13.261127,-6.7918215,9.718461,-13.566376,10.09718,-1.9470115,-1.4577074,-10.9837675,-5.6427236,-8.941697,-1.3683381,-6.820244,2.9894989,-5.3777466,3.0288103,10.859722,-4.893655,8.039716,13.938919,-1.6876973,11.306012,-4.5437503,15.230855,1.8834294,11.226357,2.4646263,-0.69508517,-7.678226,1.8147321,7.162919,-1.1792097,12.570684,8.615251,-6.4241724,-2.6017506,-1.8329628,-1.7308993,7.253874,-6.6160235,-1.2182976,0.548711,-1.721527,-0.43353966,-13.5811,-8.93262,-10.47731,-13.262371,-9.884147,12.560127,11.737077,-3.0724397,-15.730357,8.016055,-2.4370089,11.274736,-15.525389,0.99760616,-6.9278407,7.36883,5.838712,-1.0998545,4.550718,7.439626,-4.2919974,1.5872093,11.847625,9.916885,3.2892208,-2.1732724,10.30234,-5.5377192,12.072331,-12.330676,9.458309,4.833361,12.773937,-11.770372,-7.8588886,14.905443,-10.774593,-10.540664,9.140442,-5.7992167,15.655358,-0.87369365,13.884279,-2.3861506,6.586617,7.094358,7.34917,-11.404598,-2.2771869,-0.2206833,-5.702884,-3.136068,5.3170753,-5.1751194,6.6106706,-12.311341,-3.8044245,-1.252539,-10.2001915,-2.0073218,-11.515459,-1.8807076,11.571128,5.2611694,-1.6400884,4.5957627,5.186472,-6.1874895,4.4113145,-3.6561167,12.44885,-11.827874,11.072061,13.694267,-14.402411,11.57551,-1.1307209,3.374727,-7.7692256,-2.774833,10.623882,-10.814861,-2.503896,-4.3020124,8.768238,7.064067,-1.2048239,-1.3115386,-5.2294655,5.146737,2.5529563,5.135022,-1.4234052,-7.485307,-0.30968156,9.967766,-4.6475706,-2.1662893,1.6531792,-5.5511928,4.4388895,1.0286545,-4.4408584,-3.773396,-2.4001212,-14.547141,-1.7366248,-6.182553,-5.1366405,-7.415911,-5.7816973,-7.2379403,11.024904,-0.8813241,3.6895788,10.071269,2.0755897,-7.012221,-7.073682,2.0932946,-6.4625793,8.588842,11.818811,11.2673,-11.972849,8.813407,-3.6180727,11.231739,-13.219817,3.9475887,10.276096,3.938336,6.378128,-7.9235106,-3.785187,11.931746,-7.0418577,-11.269826,11.469838,-3.6527727,2.4715924,5.586867,-4.200417,-5.537549,3.6122565,-15.75315,16.972977,12.012638,16.881752,-10.533522,-2.144934,2.2269242,4.187585,1.7880831,15.591016,-1.7448158,-2.2101488,-3.0957308,-12.271106,11.626662,14.356802,-13.218061,-5.974293,-1.1697863,-11.481839,14.696847,14.048743,-0.12121557,13.279192,-6.4115205,-5.8503437,1.2241489,-3.160048,8.8550205,-13.034684,-7.397973,4.6121564,14.082616,-6.744513,-2.2380817,-6.501564,-2.8269212,0.5549095,-6.361996,8.26696,-13.184844,11.746252,-7.824501,-1.8179338,-15.167861,-14.873508,-2.2591317,-3.9977465,5.467263,-6.5042253,-2.5343819,-1.5492418,-4.670631,13.519654,7.117906,5.7235203,15.235109,-3.79523,-10.194286,13.967632,-5.0738635,17.02542,15.102899,-12.886577,8.569023,-13.235869,2.0264711,-7.1652746,7.7513127,8.747269,-3.6758146,10.719731,-3.7953913,-15.431393,-2.375,-5.9633675,-6.93673,12.885803,-16.357214,-2.2894607,-1.7013638,17.07837,-1.0546143,3.478391,-7.2223964,-14.106579,-8.843423,2.1298852,-4.9708185,11.130357,1.879644,-3.7928493,-9.577486,16.931765,11.657628,16.348778,-0.5120877,0.6761004,3.4029286,-1.0149362,-3.1464686,9.091078,-11.332074,-7.3543935,-15.273028,-6.0066004,-12.768853,12.773829,1.0724726,-10.844628,-6.4347,4.984958,0.11749962,-3.3546917,12.455449,-1.8654317,5.4580097,-1.8592592,-4.736913,13.256757,7.8395667,3.144015,-12.334493,-14.401328,1.1641154,-8.913912,12.92467,-11.588068,14.065863,1.9834069,-10.815602,-5.256843,13.45865,-7.716532,17.484589,16.462221,2.60701,-6.870625,-8.170785,-9.967628,-6.5077252,-12.9592705,-5.6231675,-8.121313,4.1603575,6.018457,8.309328,12.089503,15.327991,-2.4607198,-5.1582117,13.724514,14.4221525,-4.885563,-5.591058,-3.6589677,15.130521,-10.421629,-2.0111213,-5.7225237,-4.2217045,-5.1396337,2.9198248,-1.533867,-7.0310445,-10.732209,12.814209,-1.3640939,-0.16402762,10.851274,8.881176,-2.2961318,9.56247,8.673637,14.406313,-11.181923,12.332746,16.544796,18.096582,15.515273,-3.167257,7.4106927,9.120914,-12.870784,10.386155,10.842834,3.674223,-2.3774302,-4.2129784,-7.4545064,-6.2556067,-13.077458,-4.565151,11.246953,5.1045256,-2.3076205,-9.106906,-6.306609,-7.0914607,-10.320129,3.9030712,-13.158707,-12.562786,-12.086538,-5.2452536,-3.1474912,-2.0453718,14.058303,-11.964006,5.312468,-4.0159764,14.051101,9.041141,10.1493225,11.013405,-15.005402,-1.5706769,-1.4895217,-1.0060661,12.195739,-2.0464857,-12.120915,1.7242469,11.71625,10.748367,-13.27501,-12.281481,16.21827,4.1897864,7.095323,-1.5591846,-0.51642156,3.5942929,-12.355952,-7.8839707,-6.9801993,-5.0726533,2.189816,-12.542374,14.207112,-6.574574,-2.6180646,10.997062,-10.566811,-15.415407,14.984863,-4.695193,11.349682,-3.8604925,0.92473596,13.131488,-1.6468147,5.139273,-6.321753,13.143009,-8.746934,0.53524464,5.876853,-5.5758953,-7.796263,-2.7658336,8.922063,-5.7037177,0.7825869,-13.696236,-12.874716,-1.2130338,11.803242,-7.6263785,2.5312715,-3.7920415,-3.7502277,-1.6228381,-6.651171,-2.1490874,-8.227634,-7.0149145,-4.318438,-7.5935364],\"z\":[-0.6778939,9.522507,4.9733334,4.9322276,6.4547048,5.899972,-4.8682275,-11.616978,4.9425874,-0.15716842,-9.720082,-11.963264,1.776408,-4.005077,-9.672139,11.052746,1.7968252,-5.625581,2.8527625,-7.05958,6.544992,0.3097223,-4.550441,5.2925963,8.323713,-9.216674,5.591324,-4.058735,-11.263734,-8.420795,5.814404,8.795383,5.206295,-10.854805,-8.054063,-9.514926,-6.6767764,6.383104,2.886707,6.748306,-1.4797246,-6.5916195,6.178933,7.299729,-9.365716,11.310364,-9.700296,-5.4893703,5.4066772,-15.863608,10.6435,0.013791796,8.1131115,11.32279,6.6529007,0.89987606,0.20048821,-4.6505284,-10.54264,-8.9256,-6.1713943,-3.3600156,2.3443503,-11.0266695,-0.44052178,3.8799398,-7.341564,-5.0198402,4.3587904,-7.677646,-10.142594,9.535962,-0.7192399,3.6205,-12.586781,-11.116811,-6.156228,8.59198,3.2063117,-2.1711867,-2.5252078,-10.519309,-4.7071967,-2.8516083,-3.6253638,9.304563,-2.6989062,-5.6684823,-5.9784727,1.1815956,1.7684053,10.421645,-1.1404464,-4.2065034,-1.4179285,1.7276518,5.025105,-3.8362315,5.5967917,-5.9706683,0.19544536,-3.4354222,-3.799747,8.242893,2.2470207,1.7654684,-13.6265545,9.342165,5.1676555,8.258974,2.792966,0.10818083,-10.4918785,2.5974905,0.42238224,1.5350869,8.835699,9.369537,8.984336,5.7298875,1.6894741,7.1246676,-5.8715615,-1.9694223,-11.455505,-5.0450926,7.794817,7.5887823,8.363319,-12.217494,6.783906,-4.97335,2.6988802,-3.757612,-3.8302062,-2.2107725,-4.8683615,4.0674973,9.200547,7.844817,9.426218,-10.853322,7.7752614,5.0900097,5.8577943,-2.5128055,-9.118159,-4.017746,9.458845,6.4230614,2.3973854,-11.420369,8.804948,7.126452,0.4860633,5.4764767,4.733427,-2.0254786,3.1417193,3.489752,-2.3057747,7.487191,2.5972154,-0.65257883,7.5573306,-2.9952757,3.7222247,-10.802514,-8.417437,-12.166945,-1.5207834,-3.3711424,8.562404,6.155554,-1.711384,-4.6706247,2.9924572,6.514182,-2.3703213,4.173671,-1.7566769,-8.908525,-1.7287868,-9.223776,-11.243859,8.602881,-8.704979,-7.166437,6.6828446,3.6152844,6.414278,6.654745,-10.547722,1.0147487,-14.256959,9.937066,-12.274437,-4.053802,0.5777711,-11.2229,6.693069,7.2238355,7.6934576,-10.449571,5.99955,8.589699,4.9879227,6.613067,-8.99169,8.796495,-1.8856822,-8.998467,7.2990723,-10.665102,-6.4100733,-2.058007,-2.947398,9.476295,8.479423,-4.3085713,5.7166266,-4.9712973,-5.03145,5.0888495,-3.6085086,5.174886,5.4119544,6.0141478,7.784161,-10.196312,-3.7821486,-1.1197381,3.8356254,4.2243514,-3.817674,-4.9706492,-2.781629,3.9027076,7.577025,0.5509527,-6.3090305,-12.536861,-6.1391883,-5.361153,-10.804342,-3.6678007,3.6538057,3.8205314,-4.1667953,5.585593,5.828203,-2.5520785,9.55227,7.409955,-3.680452,-4.489997,-1.2296628,-4.747709,8.253174,6.5207644,6.12102,6.4299626,1.0323888,-11.628104,6.2718606,-5.488782,3.561004,-3.6354065,4.8302093,-3.8102484,9.340887,-2.0391939,3.0831873,6.227574,7.905313,-6.077839,8.571906,6.6835666,-5.5764694,6.8952312,5.909186,-5.9856396,6.632526,1.7933207,6.829161,-13.326382,-14.962678,-5.265683,-15.067447,5.405389,1.8835452,-4.057062,-1.9586837,-13.725063,-2.8456004,9.239617,-8.572406,-0.747356,-1.6006948,2.7033768,-1.149989,7.0279317,-7.337738,-7.917775,-7.6226063,-11.425633,-12.38753,3.2453384,6.8075504,-11.260359,-11.071455,-5.607681,-8.659176,5.690199,-1.3471795,-0.5597257,-2.0712159,7.8517585,3.74241,-2.0552666,9.280208,3.265649,8.278207,8.190951,-0.53279084,1.432529,3.446468,10.466051,-8.750855,9.567938,8.375755,2.6259441,-6.4787173,4.81498,-5.646155,-6.2490835,-5.1126575,-2.5552986,8.042936,7.255686,-2.430766,5.9151,4.415574,-7.1206613,-9.410179,-9.523084,8.901528,-4.096971,9.218443,9.914969,7.1547775,2.1277614,7.8916016,-1.9102346,-14.98688,-2.9021122,7.174483,-11.979204,7.182809,-10.431238,9.500568,-4.3401275,7.609217,6.4166975,8.422415,2.528849,7.526006,-1.8473898,-4.328297,-4.2342744,-13.91197,-6.2739377,5.040848,-7.7602725,8.19122,-1.4653318,-12.163206,9.3080225,-1.7962135,-10.368265,8.487122,-3.7534895,4.703014,-1.2470219,-5.2098413,-4.362177,-1.7149506,5.9842887,-11.566186,1.4667548,-14.802453,4.852297,-10.216935,4.2908516,-4.187733,-1.8687457,1.728206,-7.701146,0.7230882,-3.6484494,5.849266,-0.7524088,-5.8182054,8.874993,-8.842775,8.416142,6.453466,7.282888,3.1733196,10.032237,-13.628215,2.2102277,8.390098,3.2982898,8.894279,5.9614086,-14.915856,8.453703,9.6930275,-9.590161,1.1465057,-12.931721,-4.9304276,8.814458,-8.594362,-4.3271537,-3.9440935,-7.7371197,-0.48286498,5.658322,3.418867,8.82695,-2.9153128,9.8981285,-6.4399805,-12.155097,-4.555716,-5.4135404,5.014962,1.3019114,4.0601363,3.2530944,0.9252921,5.9451656,-5.653196,7.6143603,-7.4142838,-6.1220946,-5.822188,-9.858871,-14.376927,4.979171,6.2372947,-11.634142,10.538773,7.9253697,-0.13100915,5.5348516,3.1435962,2.606831,-5.658265,7.2327194,-2.6073976,-2.1376479,-4.9810677,2.1209962,2.5590076,-8.082138,-3.220135,-6.116363,1.9385985,-3.6035972,-2.5789607,3.3697474,-1.5605884,-14.481069,9.700084,7.8369775,6.4007125,-13.391997,-4.375228,-14.307251,8.628946,-9.199064,8.865505,-5.7048087,-2.6737633,5.582426,-2.02291,0.92912376,3.1590478,-10.788541,8.202238,-6.770822,-6.0775943,-10.08624,9.575679,8.77728,-6.195751,1.0052308,9.24842,-4.06266,1.3352356,7.33493,-0.64898986,0.6668252,3.9657948,-4.814038,5.217294,-8.762442,6.795271,7.415336,-4.668871,7.7585573,-0.8716945,-6.0748043,-7.8792486,3.6512194,-2.0785897,-12.063569,-0.030095981,-10.536822,8.906256,-8.812943,8.937089,-2.9658248,5.6136093,7.1389375,-1.4852859,-0.19779234,-3.6828291,3.9739788,3.683917,-3.0109975,9.787148,-8.859656,10.00054,-5.1563263,-1.775469,-3.77212,8.959873,9.648379,-13.664438,-2.232836,-3.8299596,4.090971,-3.0650096,8.514179,-8.528643,-2.9526517,7.430128,2.0554528,6.3990197,3.2199948,-6.172781,-4.105173,2.8994825,4.478628,9.536518,-4.331134,5.81678,8.332727,8.609978,-9.234891,-3.5321543,4.335946,-15.332186,-3.9398687,-10.360284,-8.927325,6.3014402,10.095398,-11.519097,9.765256,-2.8438618,-10.729445,8.185047,-15.215779,1.9217823,1.6091754,1.6369622,3.9800391,-7.36247,-3.1236866,6.841683,5.130456,-0.706632,-1.7688843,7.742836,7.7000837,-14.092477,8.053326,6.2568464,-11.425652,8.531983,7.263782,9.756251,7.4868946,-7.499558,-6.0103483,3.9779966,-5.92499,-9.540339,-3.9334552,-8.584289,9.321183,-9.251329,2.2881784,-3.7366185,8.348036,8.675199,1.8283627,2.0194728,1.8522323,5.9299297,-6.0068264,-0.96378934,-5.9728913,-1.9173535,-0.44083926,7.7333455,8.018146,6.140449,6.6195083,-8.685471,-10.518844,-2.522962,7.1370525,7.5121865,-1.7548943,5.810117,9.903901,-12.530382,-10.322574,1.0623852,-1.6409582,0.8695502,-4.639386,-10.692117,8.961932,5.8803954,8.46303,9.643035,-10.740009,2.2120671,-11.524784,-6.579519,2.6499546,-6.895368,3.0607252,5.443322,-2.7947912,-4.310475,3.2061837,-15.4076605,-1.4672748,-5.356451,2.3481598,-4.792564,8.305389,-7.7052193,7.427538,-4.932464,-1.1000568,9.704031,9.4368105,9.141488,9.20641,-3.9776795,-15.464738,-3.9668477,6.2993927,-7.8211217,-3.0758648,7.808626,-4.9642234,9.123395,9.874296,9.685558,-3.8613188,-8.119272,6.323787,-3.002213,8.573544,-5.668478,-15.38909,-2.6188068,-3.6590226,-10.313109,-11.317007,2.1461737,-8.979642,8.239449,-11.227153,10.295469,2.873853,-9.960775,5.230139,2.594241,-8.361774,7.717147,5.404593,-4.8822246,-3.5826275,3.728787,7.479955,-9.751438,2.5813885,7.933507,8.745613,-10.429518,-1.9392036,-12.99882,9.179747,-1.0156056,0.1402497,5.6867704,4.99135,-0.48996684,-12.784783,2.8394594,8.941064,-1.8432295,-11.045147,-3.2218146,5.245366,-9.366015,2.1971319,7.9933796,6.094295,-2.6403358,7.531591,-3.1409702,-2.9184487,7.2405224,-10.62201,3.1243486,3.8049207,-1.2398291,-8.218237,6.5382223,1.8936951,1.8379672,8.709241,0.63971114,-0.6074084,-0.51257044,9.865705,6.2601194,-7.4085565,9.510377,5.020696,8.324808,-3.9917877,-4.534497,5.963479,-2.191472,-6.7495103,8.788553,-4.6138415,-8.757855,5.5001297,-1.5626665,-14.866967,-0.6757627,7.2190485,8.346285,6.8556986,-3.7351816,0.6393241,-2.4747548,-1.6646619,-4.4959173,-3.7178748,1.387804,8.242812,7.494307,-0.7438136,-12.478501,2.9852338,4.477719,-2.2691529,-3.443016,2.379736,2.9446507,-8.187552,6.1775365,8.16577,-0.692596,5.518535,-9.404924,-2.5656364,-9.875925,-11.5664215,8.028322,-2.3125017,-3.980532,5.990581,4.429274,6.389443,-5.2787504,-3.1036541,-1.546297,-2.0758004,0.74461955,-15.86562,6.289246,-13.041814,9.753139,-13.897173,-5.3247175,2.3771913,-12.060262,1.3390288,-3.2583826,-6.145084,-3.9547908,-11.155761,6.417654,8.779043,-9.173365,5.589011,4.478105,8.0964985,-12.453108,6.32394,9.704185,2.6718254,2.505339,8.2315,7.9759946,-10.006239,2.0710313,8.223087,5.938572,-8.040186,7.5690427,0.72056437,-9.118517,-6.247599,4.0558577,8.08028,8.501201,8.999076,7.646015,8.866479,-12.348724,4.443359,1.4379525,-1.7170987,3.1318073,2.1414099,-6.614549,3.915082,-11.285807,-4.852399,-2.431897,9.797609,-1.1863303,8.554965,2.1285641,-2.0973935,8.55624,-0.23027425,-12.410175,3.7991889,9.537167,5.4897456,-8.671626,1.1269734,-9.893495,-5.2861447,-2.9162376,2.840743,-1.8960177,-13.709111,-4.2260103,-1.2649758,1.2568649,6.469485,-10.640408,-11.099547,-3.2284725,8.824668,-11.107669,10.524859,2.909699,-1.9607254,-1.1752212,7.778153,-5.0125895,-8.644078,-8.383637,6.2993083,-9.321129,3.1767642,2.448574,-4.5404677,-1.1116121,-2.322375,-4.8202763,-6.5956717,7.9628735,-8.681297,2.1306872,-4.7175665,-8.624935,8.351344,-8.473083,-12.689766,-14.329773,-13.735222,5.508799,-12.664768,-9.525215,0.54507816,-1.2990222,-12.395145,9.064219,10.628464,1.90227,9.579728,6.2606936,3.3062217,9.474671,-10.308843,-1.6934028,-1.356671,-1.6140652,9.676128,1.0899757,-6.026086,-2.3282003,-7.6023436,-8.049286,-6.3946705,5.2069798,6.7232385,-2.218029,-9.238511,-7.132778,-7.3083863,3.2654505,3.8286674,3.6493723,-8.753174,3.308733,3.7376816,-5.25873,8.9692335,6.826263,-3.242789,-11.2502985,8.629316,5.9884553,-14.797973,10.417699,8.37187,2.0890872,7.374887,-4.907098,-13.060738,6.073574,3.7847679,2.0594616,7.638769,-4.048156,-11.268744,-8.706762,-6.5224524,8.52101,3.915047,-2.8441424,0.236421,-2.972141,-4.7119484,-13.641204,9.008272,8.378294,9.439583,8.649372,0.4262937,4.8787127,-3.3056352,9.17486,6.713384,7.288043,-9.843971,-10.038017,5.5994024,3.593124,-11.791471,-11.414893,6.9690537,8.611728,-1.6742243,-14.178263,-0.9814382,9.324769,5.230548],\"type\":\"scatter3d\"}],                        {\"template\":{\"data\":{\"histogram2dcontour\":[{\"type\":\"histogram2dcontour\",\"colorbar\":{\"outlinewidth\":0,\"ticks\":\"\"},\"colorscale\":[[0.0,\"#0d0887\"],[0.1111111111111111,\"#46039f\"],[0.2222222222222222,\"#7201a8\"],[0.3333333333333333,\"#9c179e\"],[0.4444444444444444,\"#bd3786\"],[0.5555555555555556,\"#d8576b\"],[0.6666666666666666,\"#ed7953\"],[0.7777777777777778,\"#fb9f3a\"],[0.8888888888888888,\"#fdca26\"],[1.0,\"#f0f921\"]]}],\"choropleth\":[{\"type\":\"choropleth\",\"colorbar\":{\"outlinewidth\":0,\"ticks\":\"\"}}],\"histogram2d\":[{\"type\":\"histogram2d\",\"colorbar\":{\"outlinewidth\":0,\"ticks\":\"\"},\"colorscale\":[[0.0,\"#0d0887\"],[0.1111111111111111,\"#46039f\"],[0.2222222222222222,\"#7201a8\"],[0.3333333333333333,\"#9c179e\"],[0.4444444444444444,\"#bd3786\"],[0.5555555555555556,\"#d8576b\"],[0.6666666666666666,\"#ed7953\"],[0.7777777777777778,\"#fb9f3a\"],[0.8888888888888888,\"#fdca26\"],[1.0,\"#f0f921\"]]}],\"heatmap\":[{\"type\":\"heatmap\",\"colorbar\":{\"outlinewidth\":0,\"ticks\":\"\"},\"colorscale\":[[0.0,\"#0d0887\"],[0.1111111111111111,\"#46039f\"],[0.2222222222222222,\"#7201a8\"],[0.3333333333333333,\"#9c179e\"],[0.4444444444444444,\"#bd3786\"],[0.5555555555555556,\"#d8576b\"],[0.6666666666666666,\"#ed7953\"],[0.7777777777777778,\"#fb9f3a\"],[0.8888888888888888,\"#fdca26\"],[1.0,\"#f0f921\"]]}],\"heatmapgl\":[{\"type\":\"heatmapgl\",\"colorbar\":{\"outlinewidth\":0,\"ticks\":\"\"},\"colorscale\":[[0.0,\"#0d0887\"],[0.1111111111111111,\"#46039f\"],[0.2222222222222222,\"#7201a8\"],[0.3333333333333333,\"#9c179e\"],[0.4444444444444444,\"#bd3786\"],[0.5555555555555556,\"#d8576b\"],[0.6666666666666666,\"#ed7953\"],[0.7777777777777778,\"#fb9f3a\"],[0.8888888888888888,\"#fdca26\"],[1.0,\"#f0f921\"]]}],\"contourcarpet\":[{\"type\":\"contourcarpet\",\"colorbar\":{\"outlinewidth\":0,\"ticks\":\"\"}}],\"contour\":[{\"type\":\"contour\",\"colorbar\":{\"outlinewidth\":0,\"ticks\":\"\"},\"colorscale\":[[0.0,\"#0d0887\"],[0.1111111111111111,\"#46039f\"],[0.2222222222222222,\"#7201a8\"],[0.3333333333333333,\"#9c179e\"],[0.4444444444444444,\"#bd3786\"],[0.5555555555555556,\"#d8576b\"],[0.6666666666666666,\"#ed7953\"],[0.7777777777777778,\"#fb9f3a\"],[0.8888888888888888,\"#fdca26\"],[1.0,\"#f0f921\"]]}],\"surface\":[{\"type\":\"surface\",\"colorbar\":{\"outlinewidth\":0,\"ticks\":\"\"},\"colorscale\":[[0.0,\"#0d0887\"],[0.1111111111111111,\"#46039f\"],[0.2222222222222222,\"#7201a8\"],[0.3333333333333333,\"#9c179e\"],[0.4444444444444444,\"#bd3786\"],[0.5555555555555556,\"#d8576b\"],[0.6666666666666666,\"#ed7953\"],[0.7777777777777778,\"#fb9f3a\"],[0.8888888888888888,\"#fdca26\"],[1.0,\"#f0f921\"]]}],\"mesh3d\":[{\"type\":\"mesh3d\",\"colorbar\":{\"outlinewidth\":0,\"ticks\":\"\"}}],\"scatter\":[{\"fillpattern\":{\"fillmode\":\"overlay\",\"size\":10,\"solidity\":0.2},\"type\":\"scatter\"}],\"parcoords\":[{\"type\":\"parcoords\",\"line\":{\"colorbar\":{\"outlinewidth\":0,\"ticks\":\"\"}}}],\"scatterpolargl\":[{\"type\":\"scatterpolargl\",\"marker\":{\"colorbar\":{\"outlinewidth\":0,\"ticks\":\"\"}}}],\"bar\":[{\"error_x\":{\"color\":\"#2a3f5f\"},\"error_y\":{\"color\":\"#2a3f5f\"},\"marker\":{\"line\":{\"color\":\"#E5ECF6\",\"width\":0.5},\"pattern\":{\"fillmode\":\"overlay\",\"size\":10,\"solidity\":0.2}},\"type\":\"bar\"}],\"scattergeo\":[{\"type\":\"scattergeo\",\"marker\":{\"colorbar\":{\"outlinewidth\":0,\"ticks\":\"\"}}}],\"scatterpolar\":[{\"type\":\"scatterpolar\",\"marker\":{\"colorbar\":{\"outlinewidth\":0,\"ticks\":\"\"}}}],\"histogram\":[{\"marker\":{\"pattern\":{\"fillmode\":\"overlay\",\"size\":10,\"solidity\":0.2}},\"type\":\"histogram\"}],\"scattergl\":[{\"type\":\"scattergl\",\"marker\":{\"colorbar\":{\"outlinewidth\":0,\"ticks\":\"\"}}}],\"scatter3d\":[{\"type\":\"scatter3d\",\"line\":{\"colorbar\":{\"outlinewidth\":0,\"ticks\":\"\"}},\"marker\":{\"colorbar\":{\"outlinewidth\":0,\"ticks\":\"\"}}}],\"scattermapbox\":[{\"type\":\"scattermapbox\",\"marker\":{\"colorbar\":{\"outlinewidth\":0,\"ticks\":\"\"}}}],\"scatterternary\":[{\"type\":\"scatterternary\",\"marker\":{\"colorbar\":{\"outlinewidth\":0,\"ticks\":\"\"}}}],\"scattercarpet\":[{\"type\":\"scattercarpet\",\"marker\":{\"colorbar\":{\"outlinewidth\":0,\"ticks\":\"\"}}}],\"carpet\":[{\"aaxis\":{\"endlinecolor\":\"#2a3f5f\",\"gridcolor\":\"white\",\"linecolor\":\"white\",\"minorgridcolor\":\"white\",\"startlinecolor\":\"#2a3f5f\"},\"baxis\":{\"endlinecolor\":\"#2a3f5f\",\"gridcolor\":\"white\",\"linecolor\":\"white\",\"minorgridcolor\":\"white\",\"startlinecolor\":\"#2a3f5f\"},\"type\":\"carpet\"}],\"table\":[{\"cells\":{\"fill\":{\"color\":\"#EBF0F8\"},\"line\":{\"color\":\"white\"}},\"header\":{\"fill\":{\"color\":\"#C8D4E3\"},\"line\":{\"color\":\"white\"}},\"type\":\"table\"}],\"barpolar\":[{\"marker\":{\"line\":{\"color\":\"#E5ECF6\",\"width\":0.5},\"pattern\":{\"fillmode\":\"overlay\",\"size\":10,\"solidity\":0.2}},\"type\":\"barpolar\"}],\"pie\":[{\"automargin\":true,\"type\":\"pie\"}]},\"layout\":{\"autotypenumbers\":\"strict\",\"colorway\":[\"#636efa\",\"#EF553B\",\"#00cc96\",\"#ab63fa\",\"#FFA15A\",\"#19d3f3\",\"#FF6692\",\"#B6E880\",\"#FF97FF\",\"#FECB52\"],\"font\":{\"color\":\"#2a3f5f\"},\"hovermode\":\"closest\",\"hoverlabel\":{\"align\":\"left\"},\"paper_bgcolor\":\"white\",\"plot_bgcolor\":\"#E5ECF6\",\"polar\":{\"bgcolor\":\"#E5ECF6\",\"angularaxis\":{\"gridcolor\":\"white\",\"linecolor\":\"white\",\"ticks\":\"\"},\"radialaxis\":{\"gridcolor\":\"white\",\"linecolor\":\"white\",\"ticks\":\"\"}},\"ternary\":{\"bgcolor\":\"#E5ECF6\",\"aaxis\":{\"gridcolor\":\"white\",\"linecolor\":\"white\",\"ticks\":\"\"},\"baxis\":{\"gridcolor\":\"white\",\"linecolor\":\"white\",\"ticks\":\"\"},\"caxis\":{\"gridcolor\":\"white\",\"linecolor\":\"white\",\"ticks\":\"\"}},\"coloraxis\":{\"colorbar\":{\"outlinewidth\":0,\"ticks\":\"\"}},\"colorscale\":{\"sequential\":[[0.0,\"#0d0887\"],[0.1111111111111111,\"#46039f\"],[0.2222222222222222,\"#7201a8\"],[0.3333333333333333,\"#9c179e\"],[0.4444444444444444,\"#bd3786\"],[0.5555555555555556,\"#d8576b\"],[0.6666666666666666,\"#ed7953\"],[0.7777777777777778,\"#fb9f3a\"],[0.8888888888888888,\"#fdca26\"],[1.0,\"#f0f921\"]],\"sequentialminus\":[[0.0,\"#0d0887\"],[0.1111111111111111,\"#46039f\"],[0.2222222222222222,\"#7201a8\"],[0.3333333333333333,\"#9c179e\"],[0.4444444444444444,\"#bd3786\"],[0.5555555555555556,\"#d8576b\"],[0.6666666666666666,\"#ed7953\"],[0.7777777777777778,\"#fb9f3a\"],[0.8888888888888888,\"#fdca26\"],[1.0,\"#f0f921\"]],\"diverging\":[[0,\"#8e0152\"],[0.1,\"#c51b7d\"],[0.2,\"#de77ae\"],[0.3,\"#f1b6da\"],[0.4,\"#fde0ef\"],[0.5,\"#f7f7f7\"],[0.6,\"#e6f5d0\"],[0.7,\"#b8e186\"],[0.8,\"#7fbc41\"],[0.9,\"#4d9221\"],[1,\"#276419\"]]},\"xaxis\":{\"gridcolor\":\"white\",\"linecolor\":\"white\",\"ticks\":\"\",\"title\":{\"standoff\":15},\"zerolinecolor\":\"white\",\"automargin\":true,\"zerolinewidth\":2},\"yaxis\":{\"gridcolor\":\"white\",\"linecolor\":\"white\",\"ticks\":\"\",\"title\":{\"standoff\":15},\"zerolinecolor\":\"white\",\"automargin\":true,\"zerolinewidth\":2},\"scene\":{\"xaxis\":{\"backgroundcolor\":\"#E5ECF6\",\"gridcolor\":\"white\",\"linecolor\":\"white\",\"showbackground\":true,\"ticks\":\"\",\"zerolinecolor\":\"white\",\"gridwidth\":2},\"yaxis\":{\"backgroundcolor\":\"#E5ECF6\",\"gridcolor\":\"white\",\"linecolor\":\"white\",\"showbackground\":true,\"ticks\":\"\",\"zerolinecolor\":\"white\",\"gridwidth\":2},\"zaxis\":{\"backgroundcolor\":\"#E5ECF6\",\"gridcolor\":\"white\",\"linecolor\":\"white\",\"showbackground\":true,\"ticks\":\"\",\"zerolinecolor\":\"white\",\"gridwidth\":2}},\"shapedefaults\":{\"line\":{\"color\":\"#2a3f5f\"}},\"annotationdefaults\":{\"arrowcolor\":\"#2a3f5f\",\"arrowhead\":0,\"arrowwidth\":1},\"geo\":{\"bgcolor\":\"white\",\"landcolor\":\"#E5ECF6\",\"subunitcolor\":\"white\",\"showland\":true,\"showlakes\":true,\"lakecolor\":\"white\"},\"title\":{\"x\":0.05},\"mapbox\":{\"style\":\"light\"}}},\"scene\":{\"domain\":{\"x\":[0.0,1.0],\"y\":[0.0,1.0]},\"xaxis\":{\"title\":{\"text\":\"0\"}},\"yaxis\":{\"title\":{\"text\":\"1\"}},\"zaxis\":{\"title\":{\"text\":\"2\"}}},\"coloraxis\":{\"colorbar\":{\"title\":{\"text\":\"Anomaly\"}},\"colorscale\":[[0.0,\"#0d0887\"],[0.1111111111111111,\"#46039f\"],[0.2222222222222222,\"#7201a8\"],[0.3333333333333333,\"#9c179e\"],[0.4444444444444444,\"#bd3786\"],[0.5555555555555556,\"#d8576b\"],[0.6666666666666666,\"#ed7953\"],[0.7777777777777778,\"#fb9f3a\"],[0.8888888888888888,\"#fdca26\"],[1.0,\"#f0f921\"]]},\"legend\":{\"tracegroupgap\":0},\"title\":{\"text\":\"3d TSNE Plot for Outliers\"},\"height\":800,\"width\":900},                        {\"responsive\": true}                    ).then(function(){\n",
              "                            \n",
              "var gd = document.getElementById('37a3b428-19b3-447b-a209-8d9a1d21bad2');\n",
              "var x = new MutationObserver(function (mutations, observer) {{\n",
              "        var display = window.getComputedStyle(gd).display;\n",
              "        if (!display || display === 'none') {{\n",
              "            console.log([gd, 'removed!']);\n",
              "            Plotly.purge(gd);\n",
              "            observer.disconnect();\n",
              "        }}\n",
              "}});\n",
              "\n",
              "// Listen for the removal of the full notebook cells\n",
              "var notebookContainer = gd.closest('#notebook-container');\n",
              "if (notebookContainer) {{\n",
              "    x.observe(notebookContainer, {childList: true});\n",
              "}}\n",
              "\n",
              "// Listen for the clearing of the current output cell\n",
              "var outputEl = gd.closest('.output');\n",
              "if (outputEl) {{\n",
              "    x.observe(outputEl, {childList: true});\n",
              "}}\n",
              "\n",
              "                        })                };                });            </script>        </div>"
            ]
          },
          "metadata": {},
          "output_type": "display_data"
        }
      ],
      "source": [
        "# tsne plot of anomalies\n",
        "plot_model(iforest, plot = 'tsne')"
      ]
    },
    {
      "cell_type": "code",
      "execution_count": null,
      "id": "54389270",
      "metadata": {
        "id": "54389270"
      },
      "outputs": [],
      "source": [
        "# umap plot of anomalies (you need to install umap library for this separately)\n",
        "# plot_model(iforest, plot = 'umap')"
      ]
    },
    {
      "cell_type": "code",
      "execution_count": null,
      "id": "54b09b8e",
      "metadata": {
        "id": "54b09b8e"
      },
      "outputs": [],
      "source": [
        "# help(plot_model)"
      ]
    },
    {
      "cell_type": "markdown",
      "id": "ed00202c",
      "metadata": {
        "id": "ed00202c"
      },
      "source": [
        "## ✅ Deploy Model\n",
        "This function deploys the entire ML pipeline on the cloud.\n",
        "\n",
        "**AWS:**  When deploying model on AWS S3, environment variables must be configured using the command-line interface. To configure AWS environment variables, type `aws configure` in terminal. The following information is required which can be generated using the Identity and Access Management (IAM) portal of your amazon console account:\n",
        "\n",
        "- AWS Access Key ID\n",
        "- AWS Secret Key Access\n",
        "- Default Region Name (can be seen under Global settings on your AWS console)\n",
        "- Default output format (must be left blank)\n",
        "\n",
        "**GCP:** To deploy a model on Google Cloud Platform ('gcp'), the project must be created using the command-line or GCP console. Once the project is created, you must create a service account and download the service account key as a JSON file to set environment variables in your local environment. Learn more about it: https://cloud.google.com/docs/authentication/production\n",
        "\n",
        "**Azure:** To deploy a model on Microsoft Azure ('azure'), environment variables for the connection string must be set in your local environment. Go to settings of storage account on Azure portal to access the connection string required.\n",
        "AZURE_STORAGE_CONNECTION_STRING (required as environment variable)\n",
        "Learn more about it: https://docs.microsoft.com/en-us/azure/storage/blobs/storage-quickstart-blobs-python?toc=%2Fpython%2Fazure%2FTOC.json"
      ]
    },
    {
      "cell_type": "code",
      "execution_count": null,
      "id": "40b20a18",
      "metadata": {
        "id": "40b20a18"
      },
      "outputs": [],
      "source": [
        "# deploy model on aws s3\n",
        "# deploy_model(iforest, model_name = 'my_first_platform_on_aws',\n",
        "#             platform = 'aws', authentication = {'bucket' : 'pycaret-test'})"
      ]
    },
    {
      "cell_type": "code",
      "execution_count": null,
      "id": "9e236516",
      "metadata": {
        "id": "9e236516"
      },
      "outputs": [],
      "source": [
        "# load model from aws s3\n",
        "# loaded_from_aws = load_model(model_name = 'my_first_platform_on_aws', platform = 'aws',\n",
        "#                              authentication = {'bucket' : 'pycaret-test'})\n",
        "\n",
        "# loaded_from_aws"
      ]
    },
    {
      "cell_type": "markdown",
      "id": "e169ae86",
      "metadata": {
        "id": "e169ae86"
      },
      "source": [
        "## ✅ Save / Load Model\n",
        "This function saves the transformation pipeline and a trained model object into the current working directory as a pickle file for later use."
      ]
    },
    {
      "cell_type": "code",
      "execution_count": null,
      "id": "bc5cf24a",
      "metadata": {
        "id": "bc5cf24a",
        "outputId": "67c85d02-2d73-42d1-8a92-501b4aad6583"
      },
      "outputs": [
        {
          "name": "stdout",
          "output_type": "stream",
          "text": [
            "Transformation Pipeline and Model Successfully Saved\n"
          ]
        },
        {
          "data": {
            "text/plain": [
              "(Pipeline(memory=FastMemory(location=C:\\Users\\owner\\AppData\\Local\\Temp\\joblib),\n",
              "          steps=[('numerical_imputer',\n",
              "                  TransformerWrapper(include=['Col1', 'Col2', 'Col3', 'Col4',\n",
              "                                              'Col5', 'Col6', 'Col7', 'Col8',\n",
              "                                              'Col9', 'Col10'],\n",
              "                                     transformer=SimpleImputer())),\n",
              "                 ('categorical_imputer',\n",
              "                  TransformerWrapper(include=[],\n",
              "                                     transformer=SimpleImputer(strategy='most_frequent'))),\n",
              "                 ('bin_numeric_features',\n",
              "                  TransformerWrapper(include=['Col1'],\n",
              "                                     transformer=KBinsDiscretizer(encode='ordinal',\n",
              "                                                                  strategy='kmeans'))),\n",
              "                 ('trained_model',\n",
              "                  IForest(behaviour='new', bootstrap=False, contamination=0.05,\n",
              "     max_features=1.0, max_samples='auto', n_estimators=100, n_jobs=-1,\n",
              "     random_state=123, verbose=0))]),\n",
              " 'my_first_model.pkl')"
            ]
          },
          "execution_count": 83,
          "metadata": {},
          "output_type": "execute_result"
        }
      ],
      "source": [
        "# save model\n",
        "save_model(iforest, 'my_first_model')"
      ]
    },
    {
      "cell_type": "code",
      "execution_count": null,
      "id": "e8478d34",
      "metadata": {
        "id": "e8478d34",
        "outputId": "728252b7-48d4-49ed-ec17-a79ac3d4b1e0"
      },
      "outputs": [
        {
          "name": "stdout",
          "output_type": "stream",
          "text": [
            "Transformation Pipeline and Model Successfully Loaded\n"
          ]
        },
        {
          "data": {
            "text/html": [
              "<style>#sk-container-id-4 {color: black;background-color: white;}#sk-container-id-4 pre{padding: 0;}#sk-container-id-4 div.sk-toggleable {background-color: white;}#sk-container-id-4 label.sk-toggleable__label {cursor: pointer;display: block;width: 100%;margin-bottom: 0;padding: 0.3em;box-sizing: border-box;text-align: center;}#sk-container-id-4 label.sk-toggleable__label-arrow:before {content: \"▸\";float: left;margin-right: 0.25em;color: #696969;}#sk-container-id-4 label.sk-toggleable__label-arrow:hover:before {color: black;}#sk-container-id-4 div.sk-estimator:hover label.sk-toggleable__label-arrow:before {color: black;}#sk-container-id-4 div.sk-toggleable__content {max-height: 0;max-width: 0;overflow: hidden;text-align: left;background-color: #f0f8ff;}#sk-container-id-4 div.sk-toggleable__content pre {margin: 0.2em;color: black;border-radius: 0.25em;background-color: #f0f8ff;}#sk-container-id-4 input.sk-toggleable__control:checked~div.sk-toggleable__content {max-height: 200px;max-width: 100%;overflow: auto;}#sk-container-id-4 input.sk-toggleable__control:checked~label.sk-toggleable__label-arrow:before {content: \"▾\";}#sk-container-id-4 div.sk-estimator input.sk-toggleable__control:checked~label.sk-toggleable__label {background-color: #d4ebff;}#sk-container-id-4 div.sk-label input.sk-toggleable__control:checked~label.sk-toggleable__label {background-color: #d4ebff;}#sk-container-id-4 input.sk-hidden--visually {border: 0;clip: rect(1px 1px 1px 1px);clip: rect(1px, 1px, 1px, 1px);height: 1px;margin: -1px;overflow: hidden;padding: 0;position: absolute;width: 1px;}#sk-container-id-4 div.sk-estimator {font-family: monospace;background-color: #f0f8ff;border: 1px dotted black;border-radius: 0.25em;box-sizing: border-box;margin-bottom: 0.5em;}#sk-container-id-4 div.sk-estimator:hover {background-color: #d4ebff;}#sk-container-id-4 div.sk-parallel-item::after {content: \"\";width: 100%;border-bottom: 1px solid gray;flex-grow: 1;}#sk-container-id-4 div.sk-label:hover label.sk-toggleable__label {background-color: #d4ebff;}#sk-container-id-4 div.sk-serial::before {content: \"\";position: absolute;border-left: 1px solid gray;box-sizing: border-box;top: 0;bottom: 0;left: 50%;z-index: 0;}#sk-container-id-4 div.sk-serial {display: flex;flex-direction: column;align-items: center;background-color: white;padding-right: 0.2em;padding-left: 0.2em;position: relative;}#sk-container-id-4 div.sk-item {position: relative;z-index: 1;}#sk-container-id-4 div.sk-parallel {display: flex;align-items: stretch;justify-content: center;background-color: white;position: relative;}#sk-container-id-4 div.sk-item::before, #sk-container-id-4 div.sk-parallel-item::before {content: \"\";position: absolute;border-left: 1px solid gray;box-sizing: border-box;top: 0;bottom: 0;left: 50%;z-index: -1;}#sk-container-id-4 div.sk-parallel-item {display: flex;flex-direction: column;z-index: 1;position: relative;background-color: white;}#sk-container-id-4 div.sk-parallel-item:first-child::after {align-self: flex-end;width: 50%;}#sk-container-id-4 div.sk-parallel-item:last-child::after {align-self: flex-start;width: 50%;}#sk-container-id-4 div.sk-parallel-item:only-child::after {width: 0;}#sk-container-id-4 div.sk-dashed-wrapped {border: 1px dashed gray;margin: 0 0.4em 0.5em 0.4em;box-sizing: border-box;padding-bottom: 0.4em;background-color: white;}#sk-container-id-4 div.sk-label label {font-family: monospace;font-weight: bold;display: inline-block;line-height: 1.2em;}#sk-container-id-4 div.sk-label-container {text-align: center;}#sk-container-id-4 div.sk-container {/* jupyter's `normalize.less` sets `[hidden] { display: none; }` but bootstrap.min.css set `[hidden] { display: none !important; }` so we also need the `!important` here to be able to override the default hidden behavior on the sphinx rendered scikit-learn.org. See: https://github.com/scikit-learn/scikit-learn/issues/21755 */display: inline-block !important;position: relative;}#sk-container-id-4 div.sk-text-repr-fallback {display: none;}</style><div id=\"sk-container-id-4\" class=\"sk-top-container\"><div class=\"sk-text-repr-fallback\"><pre>Pipeline(memory=FastMemory(location=C:\\Users\\owner\\AppData\\Local\\Temp\\joblib),\n",
              "         steps=[(&#x27;numerical_imputer&#x27;,\n",
              "                 TransformerWrapper(include=[&#x27;Col1&#x27;, &#x27;Col2&#x27;, &#x27;Col3&#x27;, &#x27;Col4&#x27;,\n",
              "                                             &#x27;Col5&#x27;, &#x27;Col6&#x27;, &#x27;Col7&#x27;, &#x27;Col8&#x27;,\n",
              "                                             &#x27;Col9&#x27;, &#x27;Col10&#x27;],\n",
              "                                    transformer=SimpleImputer())),\n",
              "                (&#x27;categorical_imputer&#x27;,\n",
              "                 TransformerWrapper(include=[],\n",
              "                                    transformer=SimpleImputer(strategy=&#x27;most_frequent&#x27;))),\n",
              "                (&#x27;bin_numeric_features&#x27;,\n",
              "                 TransformerWrapper(include=[&#x27;Col1&#x27;],\n",
              "                                    transformer=KBinsDiscretizer(encode=&#x27;ordinal&#x27;,\n",
              "                                                                 strategy=&#x27;kmeans&#x27;))),\n",
              "                (&#x27;trained_model&#x27;,\n",
              "                 IForest(behaviour=&#x27;new&#x27;, bootstrap=False, contamination=0.05,\n",
              "    max_features=1.0, max_samples=&#x27;auto&#x27;, n_estimators=100, n_jobs=-1,\n",
              "    random_state=123, verbose=0))])</pre><b>In a Jupyter environment, please rerun this cell to show the HTML representation or trust the notebook. <br />On GitHub, the HTML representation is unable to render, please try loading this page with nbviewer.org.</b></div><div class=\"sk-container\" hidden><div class=\"sk-item sk-dashed-wrapped\"><div class=\"sk-label-container\"><div class=\"sk-label sk-toggleable\"><input class=\"sk-toggleable__control sk-hidden--visually\" id=\"sk-estimator-id-28\" type=\"checkbox\" ><label for=\"sk-estimator-id-28\" class=\"sk-toggleable__label sk-toggleable__label-arrow\">Pipeline</label><div class=\"sk-toggleable__content\"><pre>Pipeline(memory=FastMemory(location=C:\\Users\\owner\\AppData\\Local\\Temp\\joblib),\n",
              "         steps=[(&#x27;numerical_imputer&#x27;,\n",
              "                 TransformerWrapper(include=[&#x27;Col1&#x27;, &#x27;Col2&#x27;, &#x27;Col3&#x27;, &#x27;Col4&#x27;,\n",
              "                                             &#x27;Col5&#x27;, &#x27;Col6&#x27;, &#x27;Col7&#x27;, &#x27;Col8&#x27;,\n",
              "                                             &#x27;Col9&#x27;, &#x27;Col10&#x27;],\n",
              "                                    transformer=SimpleImputer())),\n",
              "                (&#x27;categorical_imputer&#x27;,\n",
              "                 TransformerWrapper(include=[],\n",
              "                                    transformer=SimpleImputer(strategy=&#x27;most_frequent&#x27;))),\n",
              "                (&#x27;bin_numeric_features&#x27;,\n",
              "                 TransformerWrapper(include=[&#x27;Col1&#x27;],\n",
              "                                    transformer=KBinsDiscretizer(encode=&#x27;ordinal&#x27;,\n",
              "                                                                 strategy=&#x27;kmeans&#x27;))),\n",
              "                (&#x27;trained_model&#x27;,\n",
              "                 IForest(behaviour=&#x27;new&#x27;, bootstrap=False, contamination=0.05,\n",
              "    max_features=1.0, max_samples=&#x27;auto&#x27;, n_estimators=100, n_jobs=-1,\n",
              "    random_state=123, verbose=0))])</pre></div></div></div><div class=\"sk-serial\"><div class=\"sk-item sk-dashed-wrapped\"><div class=\"sk-label-container\"><div class=\"sk-label sk-toggleable\"><input class=\"sk-toggleable__control sk-hidden--visually\" id=\"sk-estimator-id-29\" type=\"checkbox\" ><label for=\"sk-estimator-id-29\" class=\"sk-toggleable__label sk-toggleable__label-arrow\">numerical_imputer: TransformerWrapper</label><div class=\"sk-toggleable__content\"><pre>TransformerWrapper(include=[&#x27;Col1&#x27;, &#x27;Col2&#x27;, &#x27;Col3&#x27;, &#x27;Col4&#x27;, &#x27;Col5&#x27;, &#x27;Col6&#x27;,\n",
              "                            &#x27;Col7&#x27;, &#x27;Col8&#x27;, &#x27;Col9&#x27;, &#x27;Col10&#x27;],\n",
              "                   transformer=SimpleImputer())</pre></div></div></div><div class=\"sk-parallel\"><div class=\"sk-parallel-item\"><div class=\"sk-item\"><div class=\"sk-label-container\"><div class=\"sk-label sk-toggleable\"><input class=\"sk-toggleable__control sk-hidden--visually\" id=\"sk-estimator-id-30\" type=\"checkbox\" ><label for=\"sk-estimator-id-30\" class=\"sk-toggleable__label sk-toggleable__label-arrow\">transformer: SimpleImputer</label><div class=\"sk-toggleable__content\"><pre>SimpleImputer()</pre></div></div></div><div class=\"sk-serial\"><div class=\"sk-item\"><div class=\"sk-estimator sk-toggleable\"><input class=\"sk-toggleable__control sk-hidden--visually\" id=\"sk-estimator-id-31\" type=\"checkbox\" ><label for=\"sk-estimator-id-31\" class=\"sk-toggleable__label sk-toggleable__label-arrow\">SimpleImputer</label><div class=\"sk-toggleable__content\"><pre>SimpleImputer()</pre></div></div></div></div></div></div></div></div><div class=\"sk-item sk-dashed-wrapped\"><div class=\"sk-label-container\"><div class=\"sk-label sk-toggleable\"><input class=\"sk-toggleable__control sk-hidden--visually\" id=\"sk-estimator-id-32\" type=\"checkbox\" ><label for=\"sk-estimator-id-32\" class=\"sk-toggleable__label sk-toggleable__label-arrow\">categorical_imputer: TransformerWrapper</label><div class=\"sk-toggleable__content\"><pre>TransformerWrapper(include=[],\n",
              "                   transformer=SimpleImputer(strategy=&#x27;most_frequent&#x27;))</pre></div></div></div><div class=\"sk-parallel\"><div class=\"sk-parallel-item\"><div class=\"sk-item\"><div class=\"sk-label-container\"><div class=\"sk-label sk-toggleable\"><input class=\"sk-toggleable__control sk-hidden--visually\" id=\"sk-estimator-id-33\" type=\"checkbox\" ><label for=\"sk-estimator-id-33\" class=\"sk-toggleable__label sk-toggleable__label-arrow\">transformer: SimpleImputer</label><div class=\"sk-toggleable__content\"><pre>SimpleImputer(strategy=&#x27;most_frequent&#x27;)</pre></div></div></div><div class=\"sk-serial\"><div class=\"sk-item\"><div class=\"sk-estimator sk-toggleable\"><input class=\"sk-toggleable__control sk-hidden--visually\" id=\"sk-estimator-id-34\" type=\"checkbox\" ><label for=\"sk-estimator-id-34\" class=\"sk-toggleable__label sk-toggleable__label-arrow\">SimpleImputer</label><div class=\"sk-toggleable__content\"><pre>SimpleImputer(strategy=&#x27;most_frequent&#x27;)</pre></div></div></div></div></div></div></div></div><div class=\"sk-item sk-dashed-wrapped\"><div class=\"sk-label-container\"><div class=\"sk-label sk-toggleable\"><input class=\"sk-toggleable__control sk-hidden--visually\" id=\"sk-estimator-id-35\" type=\"checkbox\" ><label for=\"sk-estimator-id-35\" class=\"sk-toggleable__label sk-toggleable__label-arrow\">bin_numeric_features: TransformerWrapper</label><div class=\"sk-toggleable__content\"><pre>TransformerWrapper(include=[&#x27;Col1&#x27;],\n",
              "                   transformer=KBinsDiscretizer(encode=&#x27;ordinal&#x27;,\n",
              "                                                strategy=&#x27;kmeans&#x27;))</pre></div></div></div><div class=\"sk-parallel\"><div class=\"sk-parallel-item\"><div class=\"sk-item\"><div class=\"sk-label-container\"><div class=\"sk-label sk-toggleable\"><input class=\"sk-toggleable__control sk-hidden--visually\" id=\"sk-estimator-id-36\" type=\"checkbox\" ><label for=\"sk-estimator-id-36\" class=\"sk-toggleable__label sk-toggleable__label-arrow\">transformer: KBinsDiscretizer</label><div class=\"sk-toggleable__content\"><pre>KBinsDiscretizer(encode=&#x27;ordinal&#x27;, strategy=&#x27;kmeans&#x27;)</pre></div></div></div><div class=\"sk-serial\"><div class=\"sk-item\"><div class=\"sk-estimator sk-toggleable\"><input class=\"sk-toggleable__control sk-hidden--visually\" id=\"sk-estimator-id-37\" type=\"checkbox\" ><label for=\"sk-estimator-id-37\" class=\"sk-toggleable__label sk-toggleable__label-arrow\">KBinsDiscretizer</label><div class=\"sk-toggleable__content\"><pre>KBinsDiscretizer(encode=&#x27;ordinal&#x27;, strategy=&#x27;kmeans&#x27;)</pre></div></div></div></div></div></div></div></div><div class=\"sk-item\"><div class=\"sk-estimator sk-toggleable\"><input class=\"sk-toggleable__control sk-hidden--visually\" id=\"sk-estimator-id-38\" type=\"checkbox\" ><label for=\"sk-estimator-id-38\" class=\"sk-toggleable__label sk-toggleable__label-arrow\">IForest</label><div class=\"sk-toggleable__content\"><pre>IForest(behaviour=&#x27;new&#x27;, bootstrap=False, contamination=0.05,\n",
              "    max_features=1.0, max_samples=&#x27;auto&#x27;, n_estimators=100, n_jobs=-1,\n",
              "    random_state=123, verbose=0)</pre></div></div></div></div></div></div></div>"
            ],
            "text/plain": [
              "Pipeline(memory=FastMemory(location=C:\\Users\\owner\\AppData\\Local\\Temp\\joblib),\n",
              "         steps=[('numerical_imputer',\n",
              "                 TransformerWrapper(include=['Col1', 'Col2', 'Col3', 'Col4',\n",
              "                                             'Col5', 'Col6', 'Col7', 'Col8',\n",
              "                                             'Col9', 'Col10'],\n",
              "                                    transformer=SimpleImputer())),\n",
              "                ('categorical_imputer',\n",
              "                 TransformerWrapper(include=[],\n",
              "                                    transformer=SimpleImputer(strategy='most_frequent'))),\n",
              "                ('bin_numeric_features',\n",
              "                 TransformerWrapper(include=['Col1'],\n",
              "                                    transformer=KBinsDiscretizer(encode='ordinal',\n",
              "                                                                 strategy='kmeans'))),\n",
              "                ('trained_model',\n",
              "                 IForest(behaviour='new', bootstrap=False, contamination=0.05,\n",
              "    max_features=1.0, max_samples='auto', n_estimators=100, n_jobs=-1,\n",
              "    random_state=123, verbose=0))])"
            ]
          },
          "execution_count": 84,
          "metadata": {},
          "output_type": "execute_result"
        }
      ],
      "source": [
        "# load model\n",
        "loaded_from_disk = load_model('my_first_model')\n",
        "loaded_from_disk"
      ]
    },
    {
      "cell_type": "markdown",
      "id": "de5eee8c",
      "metadata": {
        "id": "de5eee8c"
      },
      "source": [
        "## ✅ Save / Load Experiment\n",
        "This function saves all the experiment variables on disk, allowing to later resume without rerunning the setup function."
      ]
    },
    {
      "cell_type": "code",
      "execution_count": null,
      "id": "6a3c61b6",
      "metadata": {
        "id": "6a3c61b6"
      },
      "outputs": [],
      "source": [
        "# save experiment\n",
        "save_experiment('my_experiment')"
      ]
    },
    {
      "cell_type": "code",
      "execution_count": null,
      "id": "83252c09",
      "metadata": {
        "id": "83252c09",
        "outputId": "68f33c4d-4071-4c0a-aa52-2a5131db0e33"
      },
      "outputs": [
        {
          "data": {
            "text/html": [
              "<style type=\"text/css\">\n",
              "#T_87b19_row4_col1 {\n",
              "  background-color: lightgreen;\n",
              "}\n",
              "</style>\n",
              "<table id=\"T_87b19\">\n",
              "  <thead>\n",
              "    <tr>\n",
              "      <th class=\"blank level0\" >&nbsp;</th>\n",
              "      <th id=\"T_87b19_level0_col0\" class=\"col_heading level0 col0\" >Description</th>\n",
              "      <th id=\"T_87b19_level0_col1\" class=\"col_heading level0 col1\" >Value</th>\n",
              "    </tr>\n",
              "  </thead>\n",
              "  <tbody>\n",
              "    <tr>\n",
              "      <th id=\"T_87b19_level0_row0\" class=\"row_heading level0 row0\" >0</th>\n",
              "      <td id=\"T_87b19_row0_col0\" class=\"data row0 col0\" >Session id</td>\n",
              "      <td id=\"T_87b19_row0_col1\" class=\"data row0 col1\" >123</td>\n",
              "    </tr>\n",
              "    <tr>\n",
              "      <th id=\"T_87b19_level0_row1\" class=\"row_heading level0 row1\" >1</th>\n",
              "      <td id=\"T_87b19_row1_col0\" class=\"data row1 col0\" >Original data shape</td>\n",
              "      <td id=\"T_87b19_row1_col1\" class=\"data row1 col1\" >(1000, 10)</td>\n",
              "    </tr>\n",
              "    <tr>\n",
              "      <th id=\"T_87b19_level0_row2\" class=\"row_heading level0 row2\" >2</th>\n",
              "      <td id=\"T_87b19_row2_col0\" class=\"data row2 col0\" >Transformed data shape</td>\n",
              "      <td id=\"T_87b19_row2_col1\" class=\"data row2 col1\" >(1000, 10)</td>\n",
              "    </tr>\n",
              "    <tr>\n",
              "      <th id=\"T_87b19_level0_row3\" class=\"row_heading level0 row3\" >3</th>\n",
              "      <td id=\"T_87b19_row3_col0\" class=\"data row3 col0\" >Numeric features</td>\n",
              "      <td id=\"T_87b19_row3_col1\" class=\"data row3 col1\" >10</td>\n",
              "    </tr>\n",
              "    <tr>\n",
              "      <th id=\"T_87b19_level0_row4\" class=\"row_heading level0 row4\" >4</th>\n",
              "      <td id=\"T_87b19_row4_col0\" class=\"data row4 col0\" >Preprocess</td>\n",
              "      <td id=\"T_87b19_row4_col1\" class=\"data row4 col1\" >True</td>\n",
              "    </tr>\n",
              "    <tr>\n",
              "      <th id=\"T_87b19_level0_row5\" class=\"row_heading level0 row5\" >5</th>\n",
              "      <td id=\"T_87b19_row5_col0\" class=\"data row5 col0\" >Imputation type</td>\n",
              "      <td id=\"T_87b19_row5_col1\" class=\"data row5 col1\" >simple</td>\n",
              "    </tr>\n",
              "    <tr>\n",
              "      <th id=\"T_87b19_level0_row6\" class=\"row_heading level0 row6\" >6</th>\n",
              "      <td id=\"T_87b19_row6_col0\" class=\"data row6 col0\" >Numeric imputation</td>\n",
              "      <td id=\"T_87b19_row6_col1\" class=\"data row6 col1\" >mean</td>\n",
              "    </tr>\n",
              "    <tr>\n",
              "      <th id=\"T_87b19_level0_row7\" class=\"row_heading level0 row7\" >7</th>\n",
              "      <td id=\"T_87b19_row7_col0\" class=\"data row7 col0\" >Categorical imputation</td>\n",
              "      <td id=\"T_87b19_row7_col1\" class=\"data row7 col1\" >mode</td>\n",
              "    </tr>\n",
              "    <tr>\n",
              "      <th id=\"T_87b19_level0_row8\" class=\"row_heading level0 row8\" >8</th>\n",
              "      <td id=\"T_87b19_row8_col0\" class=\"data row8 col0\" >CPU Jobs</td>\n",
              "      <td id=\"T_87b19_row8_col1\" class=\"data row8 col1\" >-1</td>\n",
              "    </tr>\n",
              "    <tr>\n",
              "      <th id=\"T_87b19_level0_row9\" class=\"row_heading level0 row9\" >9</th>\n",
              "      <td id=\"T_87b19_row9_col0\" class=\"data row9 col0\" >Use GPU</td>\n",
              "      <td id=\"T_87b19_row9_col1\" class=\"data row9 col1\" >False</td>\n",
              "    </tr>\n",
              "    <tr>\n",
              "      <th id=\"T_87b19_level0_row10\" class=\"row_heading level0 row10\" >10</th>\n",
              "      <td id=\"T_87b19_row10_col0\" class=\"data row10 col0\" >Log Experiment</td>\n",
              "      <td id=\"T_87b19_row10_col1\" class=\"data row10 col1\" >False</td>\n",
              "    </tr>\n",
              "    <tr>\n",
              "      <th id=\"T_87b19_level0_row11\" class=\"row_heading level0 row11\" >11</th>\n",
              "      <td id=\"T_87b19_row11_col0\" class=\"data row11 col0\" >Experiment Name</td>\n",
              "      <td id=\"T_87b19_row11_col1\" class=\"data row11 col1\" >anomaly-default-name</td>\n",
              "    </tr>\n",
              "    <tr>\n",
              "      <th id=\"T_87b19_level0_row12\" class=\"row_heading level0 row12\" >12</th>\n",
              "      <td id=\"T_87b19_row12_col0\" class=\"data row12 col0\" >USI</td>\n",
              "      <td id=\"T_87b19_row12_col1\" class=\"data row12 col1\" >40f2</td>\n",
              "    </tr>\n",
              "  </tbody>\n",
              "</table>\n"
            ],
            "text/plain": [
              "<pandas.io.formats.style.Styler at 0x21f9cc8c160>"
            ]
          },
          "metadata": {},
          "output_type": "display_data"
        }
      ],
      "source": [
        "# load experiment from disk\n",
        "exp_from_disk = load_experiment('my_experiment', data=data)"
      ]
    },
    {
      "cell_type": "code",
      "execution_count": null,
      "id": "ac030246",
      "metadata": {
        "id": "ac030246"
      },
      "outputs": [],
      "source": []
    }
  ],
  "metadata": {
    "kernelspec": {
      "display_name": "pycaretrc5",
      "language": "python",
      "name": "pycaretrc5"
    },
    "language_info": {
      "codemirror_mode": {
        "name": "ipython",
        "version": 3
      },
      "file_extension": ".py",
      "mimetype": "text/x-python",
      "name": "python",
      "nbconvert_exporter": "python",
      "pygments_lexer": "ipython3",
      "version": "3.8.15"
    },
    "colab": {
      "provenance": []
    },
    "widgets": {
      "application/vnd.jupyter.widget-state+json": {
        "85b5d499bcae49e2a33688c28542859e": {
          "model_module": "@jupyter-widgets/controls",
          "model_name": "HBoxModel",
          "model_module_version": "1.5.0",
          "state": {
            "_dom_classes": [],
            "_model_module": "@jupyter-widgets/controls",
            "_model_module_version": "1.5.0",
            "_model_name": "HBoxModel",
            "_view_count": null,
            "_view_module": "@jupyter-widgets/controls",
            "_view_module_version": "1.5.0",
            "_view_name": "HBoxView",
            "box_style": "",
            "children": [
              "IPY_MODEL_985c73be6f2f4ece9829a203bb237d67",
              "IPY_MODEL_05e22de2bb964df791bf875762476a59",
              "IPY_MODEL_9e32ac992229499d93cb94f83554942d"
            ],
            "layout": "IPY_MODEL_6d7e44bbbf2547e9acd2d1220c4ebab1"
          }
        },
        "985c73be6f2f4ece9829a203bb237d67": {
          "model_module": "@jupyter-widgets/controls",
          "model_name": "HTMLModel",
          "model_module_version": "1.5.0",
          "state": {
            "_dom_classes": [],
            "_model_module": "@jupyter-widgets/controls",
            "_model_module_version": "1.5.0",
            "_model_name": "HTMLModel",
            "_view_count": null,
            "_view_module": "@jupyter-widgets/controls",
            "_view_module_version": "1.5.0",
            "_view_name": "HTMLView",
            "description": "",
            "description_tooltip": null,
            "layout": "IPY_MODEL_40fd91d4b6914255a6a2ec67e2f1bb9f",
            "placeholder": "​",
            "style": "IPY_MODEL_3865e93d5ff343599f29bd1282275ca2",
            "value": "Processing:   0%"
          }
        },
        "05e22de2bb964df791bf875762476a59": {
          "model_module": "@jupyter-widgets/controls",
          "model_name": "FloatProgressModel",
          "model_module_version": "1.5.0",
          "state": {
            "_dom_classes": [],
            "_model_module": "@jupyter-widgets/controls",
            "_model_module_version": "1.5.0",
            "_model_name": "FloatProgressModel",
            "_view_count": null,
            "_view_module": "@jupyter-widgets/controls",
            "_view_module_version": "1.5.0",
            "_view_name": "ProgressView",
            "bar_style": "",
            "description": "",
            "description_tooltip": null,
            "layout": "IPY_MODEL_e1d63f559fac412a85c5976ec1fe7285",
            "max": 3,
            "min": 0,
            "orientation": "horizontal",
            "style": "IPY_MODEL_ee3b9e0f219443638a38155ac310cdc9",
            "value": 3
          }
        },
        "9e32ac992229499d93cb94f83554942d": {
          "model_module": "@jupyter-widgets/controls",
          "model_name": "HTMLModel",
          "model_module_version": "1.5.0",
          "state": {
            "_dom_classes": [],
            "_model_module": "@jupyter-widgets/controls",
            "_model_module_version": "1.5.0",
            "_model_name": "HTMLModel",
            "_view_count": null,
            "_view_module": "@jupyter-widgets/controls",
            "_view_module_version": "1.5.0",
            "_view_name": "HTMLView",
            "description": "",
            "description_tooltip": null,
            "layout": "IPY_MODEL_322cca3b26f04cca832668be8d893abf",
            "placeholder": "​",
            "style": "IPY_MODEL_7d1abac1e8a347da9901ce3ab8bde211",
            "value": " 0/3 [00:00&lt;?, ?it/s]"
          }
        },
        "6d7e44bbbf2547e9acd2d1220c4ebab1": {
          "model_module": "@jupyter-widgets/base",
          "model_name": "LayoutModel",
          "model_module_version": "1.2.0",
          "state": {
            "_model_module": "@jupyter-widgets/base",
            "_model_module_version": "1.2.0",
            "_model_name": "LayoutModel",
            "_view_count": null,
            "_view_module": "@jupyter-widgets/base",
            "_view_module_version": "1.2.0",
            "_view_name": "LayoutView",
            "align_content": null,
            "align_items": null,
            "align_self": null,
            "border": null,
            "bottom": null,
            "display": null,
            "flex": null,
            "flex_flow": null,
            "grid_area": null,
            "grid_auto_columns": null,
            "grid_auto_flow": null,
            "grid_auto_rows": null,
            "grid_column": null,
            "grid_gap": null,
            "grid_row": null,
            "grid_template_areas": null,
            "grid_template_columns": null,
            "grid_template_rows": null,
            "height": null,
            "justify_content": null,
            "justify_items": null,
            "left": null,
            "margin": null,
            "max_height": null,
            "max_width": null,
            "min_height": null,
            "min_width": null,
            "object_fit": null,
            "object_position": null,
            "order": null,
            "overflow": null,
            "overflow_x": null,
            "overflow_y": null,
            "padding": null,
            "right": null,
            "top": null,
            "visibility": "hidden",
            "width": null
          }
        },
        "40fd91d4b6914255a6a2ec67e2f1bb9f": {
          "model_module": "@jupyter-widgets/base",
          "model_name": "LayoutModel",
          "model_module_version": "1.2.0",
          "state": {
            "_model_module": "@jupyter-widgets/base",
            "_model_module_version": "1.2.0",
            "_model_name": "LayoutModel",
            "_view_count": null,
            "_view_module": "@jupyter-widgets/base",
            "_view_module_version": "1.2.0",
            "_view_name": "LayoutView",
            "align_content": null,
            "align_items": null,
            "align_self": null,
            "border": null,
            "bottom": null,
            "display": null,
            "flex": null,
            "flex_flow": null,
            "grid_area": null,
            "grid_auto_columns": null,
            "grid_auto_flow": null,
            "grid_auto_rows": null,
            "grid_column": null,
            "grid_gap": null,
            "grid_row": null,
            "grid_template_areas": null,
            "grid_template_columns": null,
            "grid_template_rows": null,
            "height": null,
            "justify_content": null,
            "justify_items": null,
            "left": null,
            "margin": null,
            "max_height": null,
            "max_width": null,
            "min_height": null,
            "min_width": null,
            "object_fit": null,
            "object_position": null,
            "order": null,
            "overflow": null,
            "overflow_x": null,
            "overflow_y": null,
            "padding": null,
            "right": null,
            "top": null,
            "visibility": null,
            "width": null
          }
        },
        "3865e93d5ff343599f29bd1282275ca2": {
          "model_module": "@jupyter-widgets/controls",
          "model_name": "DescriptionStyleModel",
          "model_module_version": "1.5.0",
          "state": {
            "_model_module": "@jupyter-widgets/controls",
            "_model_module_version": "1.5.0",
            "_model_name": "DescriptionStyleModel",
            "_view_count": null,
            "_view_module": "@jupyter-widgets/base",
            "_view_module_version": "1.2.0",
            "_view_name": "StyleView",
            "description_width": ""
          }
        },
        "e1d63f559fac412a85c5976ec1fe7285": {
          "model_module": "@jupyter-widgets/base",
          "model_name": "LayoutModel",
          "model_module_version": "1.2.0",
          "state": {
            "_model_module": "@jupyter-widgets/base",
            "_model_module_version": "1.2.0",
            "_model_name": "LayoutModel",
            "_view_count": null,
            "_view_module": "@jupyter-widgets/base",
            "_view_module_version": "1.2.0",
            "_view_name": "LayoutView",
            "align_content": null,
            "align_items": null,
            "align_self": null,
            "border": null,
            "bottom": null,
            "display": null,
            "flex": null,
            "flex_flow": null,
            "grid_area": null,
            "grid_auto_columns": null,
            "grid_auto_flow": null,
            "grid_auto_rows": null,
            "grid_column": null,
            "grid_gap": null,
            "grid_row": null,
            "grid_template_areas": null,
            "grid_template_columns": null,
            "grid_template_rows": null,
            "height": null,
            "justify_content": null,
            "justify_items": null,
            "left": null,
            "margin": null,
            "max_height": null,
            "max_width": null,
            "min_height": null,
            "min_width": null,
            "object_fit": null,
            "object_position": null,
            "order": null,
            "overflow": null,
            "overflow_x": null,
            "overflow_y": null,
            "padding": null,
            "right": null,
            "top": null,
            "visibility": null,
            "width": null
          }
        },
        "ee3b9e0f219443638a38155ac310cdc9": {
          "model_module": "@jupyter-widgets/controls",
          "model_name": "ProgressStyleModel",
          "model_module_version": "1.5.0",
          "state": {
            "_model_module": "@jupyter-widgets/controls",
            "_model_module_version": "1.5.0",
            "_model_name": "ProgressStyleModel",
            "_view_count": null,
            "_view_module": "@jupyter-widgets/base",
            "_view_module_version": "1.2.0",
            "_view_name": "StyleView",
            "bar_color": null,
            "description_width": ""
          }
        },
        "322cca3b26f04cca832668be8d893abf": {
          "model_module": "@jupyter-widgets/base",
          "model_name": "LayoutModel",
          "model_module_version": "1.2.0",
          "state": {
            "_model_module": "@jupyter-widgets/base",
            "_model_module_version": "1.2.0",
            "_model_name": "LayoutModel",
            "_view_count": null,
            "_view_module": "@jupyter-widgets/base",
            "_view_module_version": "1.2.0",
            "_view_name": "LayoutView",
            "align_content": null,
            "align_items": null,
            "align_self": null,
            "border": null,
            "bottom": null,
            "display": null,
            "flex": null,
            "flex_flow": null,
            "grid_area": null,
            "grid_auto_columns": null,
            "grid_auto_flow": null,
            "grid_auto_rows": null,
            "grid_column": null,
            "grid_gap": null,
            "grid_row": null,
            "grid_template_areas": null,
            "grid_template_columns": null,
            "grid_template_rows": null,
            "height": null,
            "justify_content": null,
            "justify_items": null,
            "left": null,
            "margin": null,
            "max_height": null,
            "max_width": null,
            "min_height": null,
            "min_width": null,
            "object_fit": null,
            "object_position": null,
            "order": null,
            "overflow": null,
            "overflow_x": null,
            "overflow_y": null,
            "padding": null,
            "right": null,
            "top": null,
            "visibility": null,
            "width": null
          }
        },
        "7d1abac1e8a347da9901ce3ab8bde211": {
          "model_module": "@jupyter-widgets/controls",
          "model_name": "DescriptionStyleModel",
          "model_module_version": "1.5.0",
          "state": {
            "_model_module": "@jupyter-widgets/controls",
            "_model_module_version": "1.5.0",
            "_model_name": "DescriptionStyleModel",
            "_view_count": null,
            "_view_module": "@jupyter-widgets/base",
            "_view_module_version": "1.2.0",
            "_view_name": "StyleView",
            "description_width": ""
          }
        },
        "ca76a1aabae5430a8fc20924860f2928": {
          "model_module": "@jupyter-widgets/controls",
          "model_name": "VBoxModel",
          "model_module_version": "1.5.0",
          "state": {
            "_dom_classes": [
              "widget-interact"
            ],
            "_model_module": "@jupyter-widgets/controls",
            "_model_module_version": "1.5.0",
            "_model_name": "VBoxModel",
            "_view_count": null,
            "_view_module": "@jupyter-widgets/controls",
            "_view_module_version": "1.5.0",
            "_view_name": "VBoxView",
            "box_style": "",
            "children": [
              "IPY_MODEL_13ffb544db0f4839b4838827666bf20c",
              "IPY_MODEL_1483de7ad24b4ac4b3377b7c27a63960"
            ],
            "layout": "IPY_MODEL_7cace800f44a4278a414f07a6c945125"
          }
        },
        "13ffb544db0f4839b4838827666bf20c": {
          "model_module": "@jupyter-widgets/controls",
          "model_name": "ToggleButtonsModel",
          "model_module_version": "1.5.0",
          "state": {
            "_dom_classes": [],
            "_model_module": "@jupyter-widgets/controls",
            "_model_module_version": "1.5.0",
            "_model_name": "ToggleButtonsModel",
            "_options_labels": [
              "Pipeline Plot",
              "t-SNE (3d) Dimension Plot",
              "UMAP Dimensionality Plot"
            ],
            "_view_count": null,
            "_view_module": "@jupyter-widgets/controls",
            "_view_module_version": "1.5.0",
            "_view_name": "ToggleButtonsView",
            "button_style": "",
            "description": "Plot Type:",
            "description_tooltip": null,
            "disabled": false,
            "icons": [
              ""
            ],
            "index": 0,
            "layout": "IPY_MODEL_88a17b72ff464cdd991d098cda78f0e8",
            "style": "IPY_MODEL_cd0a08476abd4b33b9a2d555d97e0d7a",
            "tooltips": []
          }
        },
        "1483de7ad24b4ac4b3377b7c27a63960": {
          "model_module": "@jupyter-widgets/output",
          "model_name": "OutputModel",
          "model_module_version": "1.0.0",
          "state": {
            "_dom_classes": [],
            "_model_module": "@jupyter-widgets/output",
            "_model_module_version": "1.0.0",
            "_model_name": "OutputModel",
            "_view_count": null,
            "_view_module": "@jupyter-widgets/output",
            "_view_module_version": "1.0.0",
            "_view_name": "OutputView",
            "layout": "IPY_MODEL_cd9f1429dc6145f1bda0d1e53974db78",
            "msg_id": "",
            "outputs": [
              {
                "output_type": "display_data",
                "data": {
                  "text/plain": "<Figure size 1200x600 with 1 Axes>",
                  "image/png": "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\n"
                },
                "metadata": {}
              }
            ]
          }
        },
        "7cace800f44a4278a414f07a6c945125": {
          "model_module": "@jupyter-widgets/base",
          "model_name": "LayoutModel",
          "model_module_version": "1.2.0",
          "state": {
            "_model_module": "@jupyter-widgets/base",
            "_model_module_version": "1.2.0",
            "_model_name": "LayoutModel",
            "_view_count": null,
            "_view_module": "@jupyter-widgets/base",
            "_view_module_version": "1.2.0",
            "_view_name": "LayoutView",
            "align_content": null,
            "align_items": null,
            "align_self": null,
            "border": null,
            "bottom": null,
            "display": null,
            "flex": null,
            "flex_flow": null,
            "grid_area": null,
            "grid_auto_columns": null,
            "grid_auto_flow": null,
            "grid_auto_rows": null,
            "grid_column": null,
            "grid_gap": null,
            "grid_row": null,
            "grid_template_areas": null,
            "grid_template_columns": null,
            "grid_template_rows": null,
            "height": null,
            "justify_content": null,
            "justify_items": null,
            "left": null,
            "margin": null,
            "max_height": null,
            "max_width": null,
            "min_height": null,
            "min_width": null,
            "object_fit": null,
            "object_position": null,
            "order": null,
            "overflow": null,
            "overflow_x": null,
            "overflow_y": null,
            "padding": null,
            "right": null,
            "top": null,
            "visibility": null,
            "width": null
          }
        },
        "88a17b72ff464cdd991d098cda78f0e8": {
          "model_module": "@jupyter-widgets/base",
          "model_name": "LayoutModel",
          "model_module_version": "1.2.0",
          "state": {
            "_model_module": "@jupyter-widgets/base",
            "_model_module_version": "1.2.0",
            "_model_name": "LayoutModel",
            "_view_count": null,
            "_view_module": "@jupyter-widgets/base",
            "_view_module_version": "1.2.0",
            "_view_name": "LayoutView",
            "align_content": null,
            "align_items": null,
            "align_self": null,
            "border": null,
            "bottom": null,
            "display": null,
            "flex": null,
            "flex_flow": null,
            "grid_area": null,
            "grid_auto_columns": null,
            "grid_auto_flow": null,
            "grid_auto_rows": null,
            "grid_column": null,
            "grid_gap": null,
            "grid_row": null,
            "grid_template_areas": null,
            "grid_template_columns": null,
            "grid_template_rows": null,
            "height": null,
            "justify_content": null,
            "justify_items": null,
            "left": null,
            "margin": null,
            "max_height": null,
            "max_width": null,
            "min_height": null,
            "min_width": null,
            "object_fit": null,
            "object_position": null,
            "order": null,
            "overflow": null,
            "overflow_x": null,
            "overflow_y": null,
            "padding": null,
            "right": null,
            "top": null,
            "visibility": null,
            "width": null
          }
        },
        "cd0a08476abd4b33b9a2d555d97e0d7a": {
          "model_module": "@jupyter-widgets/controls",
          "model_name": "ToggleButtonsStyleModel",
          "model_module_version": "1.5.0",
          "state": {
            "_model_module": "@jupyter-widgets/controls",
            "_model_module_version": "1.5.0",
            "_model_name": "ToggleButtonsStyleModel",
            "_view_count": null,
            "_view_module": "@jupyter-widgets/base",
            "_view_module_version": "1.2.0",
            "_view_name": "StyleView",
            "button_width": "",
            "description_width": "",
            "font_weight": ""
          }
        },
        "cd9f1429dc6145f1bda0d1e53974db78": {
          "model_module": "@jupyter-widgets/base",
          "model_name": "LayoutModel",
          "model_module_version": "1.2.0",
          "state": {
            "_model_module": "@jupyter-widgets/base",
            "_model_module_version": "1.2.0",
            "_model_name": "LayoutModel",
            "_view_count": null,
            "_view_module": "@jupyter-widgets/base",
            "_view_module_version": "1.2.0",
            "_view_name": "LayoutView",
            "align_content": null,
            "align_items": null,
            "align_self": null,
            "border": null,
            "bottom": null,
            "display": null,
            "flex": null,
            "flex_flow": null,
            "grid_area": null,
            "grid_auto_columns": null,
            "grid_auto_flow": null,
            "grid_auto_rows": null,
            "grid_column": null,
            "grid_gap": null,
            "grid_row": null,
            "grid_template_areas": null,
            "grid_template_columns": null,
            "grid_template_rows": null,
            "height": null,
            "justify_content": null,
            "justify_items": null,
            "left": null,
            "margin": null,
            "max_height": null,
            "max_width": null,
            "min_height": null,
            "min_width": null,
            "object_fit": null,
            "object_position": null,
            "order": null,
            "overflow": null,
            "overflow_x": null,
            "overflow_y": null,
            "padding": null,
            "right": null,
            "top": null,
            "visibility": null,
            "width": null
          }
        }
      }
    }
  },
  "nbformat": 4,
  "nbformat_minor": 5
}