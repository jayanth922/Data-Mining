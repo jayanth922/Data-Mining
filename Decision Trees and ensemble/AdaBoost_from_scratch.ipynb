{
  "cells": [
    {
      "cell_type": "code",
      "execution_count": 1,
      "id": "b31104ca",
      "metadata": {
        "id": "b31104ca"
      },
      "outputs": [],
      "source": [
        "import numpy as np\n",
        "from sklearn.tree import DecisionTreeClassifier\n",
        "from sklearn.metrics import accuracy_score\n",
        "from sklearn.datasets import load_iris\n",
        "from sklearn.model_selection import train_test_split\n",
        "\n",
        "class AdaBoost:\n",
        "    def __init__(self, n_estimators=50):\n",
        "        self.n_estimators = n_estimators\n",
        "        self.alphas = []\n",
        "        self.models = []\n",
        "\n",
        "    def fit(self, X, y):\n",
        "        n_samples, n_features = X.shape\n",
        "        # Initialize weights\n",
        "        w = np.full(n_samples, (1 / n_samples))\n",
        "\n",
        "        for _ in range(self.n_estimators):\n",
        "            # Train weak learner\n",
        "            model = DecisionTreeClassifier(max_depth=1, max_leaf_nodes=2)\n",
        "            model.fit(X, y, sample_weight=w)\n",
        "            predictions = model.predict(X)\n",
        "\n",
        "            # Compute error and alpha\n",
        "            error = np.sum(w * (predictions != y)) / np.sum(w)\n",
        "            alpha = 0.5 * np.log((1 - error) / (error + 1e-10))\n",
        "\n",
        "            # Update weights\n",
        "            w *= np.exp(-alpha * y * predictions)\n",
        "            w /= np.sum(w)  # Normalize to one\n",
        "\n",
        "            # Save model and alpha\n",
        "            self.models.append(model)\n",
        "            self.alphas.append(alpha)\n",
        "\n",
        "    def predict(self, X):\n",
        "        # Aggregate predictions\n",
        "        model_preds = np.array([model.predict(X) for model in self.models])\n",
        "        return np.sign(np.dot(self.alphas, model_preds))"
      ]
    },
    {
      "cell_type": "code",
      "execution_count": 6,
      "id": "b4623d2f",
      "metadata": {
        "colab": {
          "base_uri": "https://localhost:8080/"
        },
        "id": "b4623d2f",
        "outputId": "d4829dbe-b20b-4af2-adc8-e385944ef469"
      },
      "outputs": [
        {
          "output_type": "stream",
          "name": "stdout",
          "text": [
            "Accuracy: 1.0000\n"
          ]
        }
      ],
      "source": [
        "# Example usage:\n",
        "# Load dataset\n",
        "iris = load_iris()\n",
        "X, y = iris.data, iris.target\n",
        "\n",
        "# Convert to binary classification problem\n",
        "X, y = X[y != 2], y[y != 2]\n",
        "y = np.where(y == 0, -1, 1)\n",
        "\n",
        "# Split dataset into training and testing sets\n",
        "X_train, X_test, y_train, y_test = train_test_split(X, y, test_size=0.2, random_state=42)\n",
        "\n",
        "# Train AdaBoost model\n",
        "ada = AdaBoost(n_estimators=50)\n",
        "ada.fit(X_train, y_train)\n",
        "\n",
        "# Predict and evaluate\n",
        "y_pred = ada.predict(X_test)\n",
        "accuracy = accuracy_score(y_test, y_pred)\n",
        "print(f\"Accuracy: {accuracy:.4f}\")"
      ]
    }
  ],
  "metadata": {
    "colab": {
      "provenance": []
    },
    "language_info": {
      "name": "python"
    },
    "kernelspec": {
      "name": "python3",
      "display_name": "Python 3"
    }
  },
  "nbformat": 4,
  "nbformat_minor": 5
}